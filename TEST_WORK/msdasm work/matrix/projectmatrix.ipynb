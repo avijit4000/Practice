{
 "cells": [
  {
   "cell_type": "code",
   "execution_count": 1,
   "metadata": {
    "collapsed": true,
    "pycharm": {
     "name": "#%%\n"
    }
   },
   "outputs": [],
   "source": [
    "import yfinance as yf"
   ]
  },
  {
   "cell_type": "code",
   "execution_count": 2,
   "outputs": [
    {
     "name": "stdout",
     "output_type": "stream",
     "text": [
      "[*********************100%%**********************]  1 of 1 completed\n"
     ]
    }
   ],
   "source": [
    "df_tm_d=yf.download(\"TATAMOTORS.NS\",start=\"2013-09-11\",end=\"2023-11-15\",interval=\"1d\")"
   ],
   "metadata": {
    "collapsed": false,
    "pycharm": {
     "name": "#%%\n"
    }
   }
  },
  {
   "cell_type": "code",
   "execution_count": 3,
   "outputs": [
    {
     "data": {
      "text/plain": "                  Open        High         Low       Close   Adj Close  \\\nDate                                                                     \n2013-09-11  344.801666  346.829895  332.632202  336.837097  334.226288   \n2013-09-12  338.271698  338.370636  326.003296  329.911377  327.354248   \n2013-09-13  328.476746  334.709900  326.596924  330.505005  327.943268   \n2013-09-16  335.402466  337.183380  321.402649  327.833649  325.292664   \n2013-09-17  325.508606  334.066803  324.766541  331.494385  328.924988   \n...                ...         ...         ...         ...         ...   \n2023-11-07  645.000000  649.900024  643.299988  645.000000  645.000000   \n2023-11-08  648.000000  649.049988  641.900024  642.549988  642.549988   \n2023-11-09  644.000000  653.650024  642.700012  649.349976  649.349976   \n2023-11-10  649.349976  652.950012  644.000000  651.049988  651.049988   \n2023-11-13  653.000000  654.000000  649.299988  653.250000  653.250000   \n\n              Volume  \nDate                  \n2013-09-11   9215459  \n2013-09-12   6661518  \n2013-09-13   5971621  \n2013-09-16   5795207  \n2013-09-17   4927964  \n...              ...  \n2023-11-07   6588073  \n2023-11-08   6551864  \n2023-11-09  10155047  \n2023-11-10   6425792  \n2023-11-13   3279829  \n\n[2509 rows x 6 columns]",
      "text/html": "<div>\n<style scoped>\n    .dataframe tbody tr th:only-of-type {\n        vertical-align: middle;\n    }\n\n    .dataframe tbody tr th {\n        vertical-align: top;\n    }\n\n    .dataframe thead th {\n        text-align: right;\n    }\n</style>\n<table border=\"1\" class=\"dataframe\">\n  <thead>\n    <tr style=\"text-align: right;\">\n      <th></th>\n      <th>Open</th>\n      <th>High</th>\n      <th>Low</th>\n      <th>Close</th>\n      <th>Adj Close</th>\n      <th>Volume</th>\n    </tr>\n    <tr>\n      <th>Date</th>\n      <th></th>\n      <th></th>\n      <th></th>\n      <th></th>\n      <th></th>\n      <th></th>\n    </tr>\n  </thead>\n  <tbody>\n    <tr>\n      <th>2013-09-11</th>\n      <td>344.801666</td>\n      <td>346.829895</td>\n      <td>332.632202</td>\n      <td>336.837097</td>\n      <td>334.226288</td>\n      <td>9215459</td>\n    </tr>\n    <tr>\n      <th>2013-09-12</th>\n      <td>338.271698</td>\n      <td>338.370636</td>\n      <td>326.003296</td>\n      <td>329.911377</td>\n      <td>327.354248</td>\n      <td>6661518</td>\n    </tr>\n    <tr>\n      <th>2013-09-13</th>\n      <td>328.476746</td>\n      <td>334.709900</td>\n      <td>326.596924</td>\n      <td>330.505005</td>\n      <td>327.943268</td>\n      <td>5971621</td>\n    </tr>\n    <tr>\n      <th>2013-09-16</th>\n      <td>335.402466</td>\n      <td>337.183380</td>\n      <td>321.402649</td>\n      <td>327.833649</td>\n      <td>325.292664</td>\n      <td>5795207</td>\n    </tr>\n    <tr>\n      <th>2013-09-17</th>\n      <td>325.508606</td>\n      <td>334.066803</td>\n      <td>324.766541</td>\n      <td>331.494385</td>\n      <td>328.924988</td>\n      <td>4927964</td>\n    </tr>\n    <tr>\n      <th>...</th>\n      <td>...</td>\n      <td>...</td>\n      <td>...</td>\n      <td>...</td>\n      <td>...</td>\n      <td>...</td>\n    </tr>\n    <tr>\n      <th>2023-11-07</th>\n      <td>645.000000</td>\n      <td>649.900024</td>\n      <td>643.299988</td>\n      <td>645.000000</td>\n      <td>645.000000</td>\n      <td>6588073</td>\n    </tr>\n    <tr>\n      <th>2023-11-08</th>\n      <td>648.000000</td>\n      <td>649.049988</td>\n      <td>641.900024</td>\n      <td>642.549988</td>\n      <td>642.549988</td>\n      <td>6551864</td>\n    </tr>\n    <tr>\n      <th>2023-11-09</th>\n      <td>644.000000</td>\n      <td>653.650024</td>\n      <td>642.700012</td>\n      <td>649.349976</td>\n      <td>649.349976</td>\n      <td>10155047</td>\n    </tr>\n    <tr>\n      <th>2023-11-10</th>\n      <td>649.349976</td>\n      <td>652.950012</td>\n      <td>644.000000</td>\n      <td>651.049988</td>\n      <td>651.049988</td>\n      <td>6425792</td>\n    </tr>\n    <tr>\n      <th>2023-11-13</th>\n      <td>653.000000</td>\n      <td>654.000000</td>\n      <td>649.299988</td>\n      <td>653.250000</td>\n      <td>653.250000</td>\n      <td>3279829</td>\n    </tr>\n  </tbody>\n</table>\n<p>2509 rows × 6 columns</p>\n</div>"
     },
     "execution_count": 3,
     "metadata": {},
     "output_type": "execute_result"
    }
   ],
   "source": [
    "df_tm_d"
   ],
   "metadata": {
    "collapsed": false,
    "pycharm": {
     "name": "#%%\n"
    }
   }
  },
  {
   "cell_type": "code",
   "execution_count": 4,
   "outputs": [
    {
     "data": {
      "text/plain": "(2509, 6)"
     },
     "execution_count": 4,
     "metadata": {},
     "output_type": "execute_result"
    }
   ],
   "source": [
    "df_tm_d.shape"
   ],
   "metadata": {
    "collapsed": false,
    "pycharm": {
     "name": "#%%\n"
    }
   }
  },
  {
   "cell_type": "code",
   "execution_count": 5,
   "outputs": [
    {
     "data": {
      "text/plain": "Date\n2013-09-11    336.837097\n2013-09-12    329.911377\n2013-09-13    330.505005\n2013-09-16    327.833649\n2013-09-17    331.494385\n                 ...    \n2023-11-07    645.000000\n2023-11-08    642.549988\n2023-11-09    649.349976\n2023-11-10    651.049988\n2023-11-13    653.250000\nName: Close, Length: 2509, dtype: float64"
     },
     "execution_count": 5,
     "metadata": {},
     "output_type": "execute_result"
    }
   ],
   "source": [
    "df_tm_d.Close"
   ],
   "metadata": {
    "collapsed": false,
    "pycharm": {
     "name": "#%%\n"
    }
   }
  },
  {
   "cell_type": "code",
   "execution_count": 6,
   "outputs": [
    {
     "data": {
      "text/plain": "Index(['Open', 'High', 'Low', 'Close', 'Adj Close', 'Volume'], dtype='object')"
     },
     "execution_count": 6,
     "metadata": {},
     "output_type": "execute_result"
    }
   ],
   "source": [
    "df_tm_d.columns"
   ],
   "metadata": {
    "collapsed": false,
    "pycharm": {
     "name": "#%%\n"
    }
   }
  },
  {
   "cell_type": "code",
   "execution_count": 7,
   "outputs": [],
   "source": [
    "from sklearn.preprocessing import StandardScaler"
   ],
   "metadata": {
    "collapsed": false,
    "pycharm": {
     "name": "#%%\n"
    }
   }
  },
  {
   "cell_type": "code",
   "execution_count": 8,
   "outputs": [
    {
     "data": {
      "text/plain": "StandardScaler()",
      "text/html": "<style>#sk-container-id-1 {color: black;background-color: white;}#sk-container-id-1 pre{padding: 0;}#sk-container-id-1 div.sk-toggleable {background-color: white;}#sk-container-id-1 label.sk-toggleable__label {cursor: pointer;display: block;width: 100%;margin-bottom: 0;padding: 0.3em;box-sizing: border-box;text-align: center;}#sk-container-id-1 label.sk-toggleable__label-arrow:before {content: \"▸\";float: left;margin-right: 0.25em;color: #696969;}#sk-container-id-1 label.sk-toggleable__label-arrow:hover:before {color: black;}#sk-container-id-1 div.sk-estimator:hover label.sk-toggleable__label-arrow:before {color: black;}#sk-container-id-1 div.sk-toggleable__content {max-height: 0;max-width: 0;overflow: hidden;text-align: left;background-color: #f0f8ff;}#sk-container-id-1 div.sk-toggleable__content pre {margin: 0.2em;color: black;border-radius: 0.25em;background-color: #f0f8ff;}#sk-container-id-1 input.sk-toggleable__control:checked~div.sk-toggleable__content {max-height: 200px;max-width: 100%;overflow: auto;}#sk-container-id-1 input.sk-toggleable__control:checked~label.sk-toggleable__label-arrow:before {content: \"▾\";}#sk-container-id-1 div.sk-estimator input.sk-toggleable__control:checked~label.sk-toggleable__label {background-color: #d4ebff;}#sk-container-id-1 div.sk-label input.sk-toggleable__control:checked~label.sk-toggleable__label {background-color: #d4ebff;}#sk-container-id-1 input.sk-hidden--visually {border: 0;clip: rect(1px 1px 1px 1px);clip: rect(1px, 1px, 1px, 1px);height: 1px;margin: -1px;overflow: hidden;padding: 0;position: absolute;width: 1px;}#sk-container-id-1 div.sk-estimator {font-family: monospace;background-color: #f0f8ff;border: 1px dotted black;border-radius: 0.25em;box-sizing: border-box;margin-bottom: 0.5em;}#sk-container-id-1 div.sk-estimator:hover {background-color: #d4ebff;}#sk-container-id-1 div.sk-parallel-item::after {content: \"\";width: 100%;border-bottom: 1px solid gray;flex-grow: 1;}#sk-container-id-1 div.sk-label:hover label.sk-toggleable__label {background-color: #d4ebff;}#sk-container-id-1 div.sk-serial::before {content: \"\";position: absolute;border-left: 1px solid gray;box-sizing: border-box;top: 0;bottom: 0;left: 50%;z-index: 0;}#sk-container-id-1 div.sk-serial {display: flex;flex-direction: column;align-items: center;background-color: white;padding-right: 0.2em;padding-left: 0.2em;position: relative;}#sk-container-id-1 div.sk-item {position: relative;z-index: 1;}#sk-container-id-1 div.sk-parallel {display: flex;align-items: stretch;justify-content: center;background-color: white;position: relative;}#sk-container-id-1 div.sk-item::before, #sk-container-id-1 div.sk-parallel-item::before {content: \"\";position: absolute;border-left: 1px solid gray;box-sizing: border-box;top: 0;bottom: 0;left: 50%;z-index: -1;}#sk-container-id-1 div.sk-parallel-item {display: flex;flex-direction: column;z-index: 1;position: relative;background-color: white;}#sk-container-id-1 div.sk-parallel-item:first-child::after {align-self: flex-end;width: 50%;}#sk-container-id-1 div.sk-parallel-item:last-child::after {align-self: flex-start;width: 50%;}#sk-container-id-1 div.sk-parallel-item:only-child::after {width: 0;}#sk-container-id-1 div.sk-dashed-wrapped {border: 1px dashed gray;margin: 0 0.4em 0.5em 0.4em;box-sizing: border-box;padding-bottom: 0.4em;background-color: white;}#sk-container-id-1 div.sk-label label {font-family: monospace;font-weight: bold;display: inline-block;line-height: 1.2em;}#sk-container-id-1 div.sk-label-container {text-align: center;}#sk-container-id-1 div.sk-container {/* jupyter's `normalize.less` sets `[hidden] { display: none; }` but bootstrap.min.css set `[hidden] { display: none !important; }` so we also need the `!important` here to be able to override the default hidden behavior on the sphinx rendered scikit-learn.org. See: https://github.com/scikit-learn/scikit-learn/issues/21755 */display: inline-block !important;position: relative;}#sk-container-id-1 div.sk-text-repr-fallback {display: none;}</style><div id=\"sk-container-id-1\" class=\"sk-top-container\"><div class=\"sk-text-repr-fallback\"><pre>StandardScaler()</pre><b>In a Jupyter environment, please rerun this cell to show the HTML representation or trust the notebook. <br />On GitHub, the HTML representation is unable to render, please try loading this page with nbviewer.org.</b></div><div class=\"sk-container\" hidden><div class=\"sk-item\"><div class=\"sk-estimator sk-toggleable\"><input class=\"sk-toggleable__control sk-hidden--visually\" id=\"sk-estimator-id-1\" type=\"checkbox\" checked><label for=\"sk-estimator-id-1\" class=\"sk-toggleable__label sk-toggleable__label-arrow\">StandardScaler</label><div class=\"sk-toggleable__content\"><pre>StandardScaler()</pre></div></div></div></div></div>"
     },
     "execution_count": 8,
     "metadata": {},
     "output_type": "execute_result"
    }
   ],
   "source": [
    "scaler=StandardScaler()\n",
    "scaler.fit(df_tm_d)"
   ],
   "metadata": {
    "collapsed": false,
    "pycharm": {
     "name": "#%%\n"
    }
   }
  },
  {
   "cell_type": "code",
   "execution_count": 9,
   "outputs": [],
   "source": [
    "scaled_data=scaler.transform(df_tm_d)"
   ],
   "metadata": {
    "collapsed": false,
    "pycharm": {
     "name": "#%%\n"
    }
   }
  },
  {
   "cell_type": "code",
   "execution_count": 10,
   "outputs": [
    {
     "data": {
      "text/plain": "array([[-0.15462227, -0.17394225, -0.20296961, -0.20681054, -0.21701344,\n        -0.43608261],\n       [-0.20111705, -0.23373871, -0.25063361, -0.25619882, -0.26615159,\n        -0.52109147],\n       [-0.27085921, -0.25961557, -0.24636523, -0.25196558, -0.26193983,\n        -0.54405494],\n       ...,\n       [ 1.97573414,  1.99489513,  2.02651903,  2.02176272,  2.03626153,\n        -0.40480809],\n       [ 2.01382712,  1.98994692,  2.03586636,  2.03388575,  2.04841737,\n        -0.5289377 ],\n       [ 2.03981608,  1.99736903,  2.073975  ,  2.04957434,  2.06414844,\n        -0.63365222]])"
     },
     "execution_count": 10,
     "metadata": {},
     "output_type": "execute_result"
    }
   ],
   "source": [
    "scaled_data"
   ],
   "metadata": {
    "collapsed": false,
    "pycharm": {
     "name": "#%%\n"
    }
   }
  },
  {
   "cell_type": "code",
   "execution_count": 11,
   "outputs": [],
   "source": [
    "from sklearn.decomposition import PCA"
   ],
   "metadata": {
    "collapsed": false,
    "pycharm": {
     "name": "#%%\n"
    }
   }
  },
  {
   "cell_type": "code",
   "execution_count": 12,
   "outputs": [],
   "source": [
    "pca=PCA(n_components=2)"
   ],
   "metadata": {
    "collapsed": false,
    "pycharm": {
     "name": "#%%\n"
    }
   }
  },
  {
   "cell_type": "code",
   "execution_count": 13,
   "outputs": [
    {
     "data": {
      "text/plain": "PCA(n_components=2)",
      "text/html": "<style>#sk-container-id-2 {color: black;background-color: white;}#sk-container-id-2 pre{padding: 0;}#sk-container-id-2 div.sk-toggleable {background-color: white;}#sk-container-id-2 label.sk-toggleable__label {cursor: pointer;display: block;width: 100%;margin-bottom: 0;padding: 0.3em;box-sizing: border-box;text-align: center;}#sk-container-id-2 label.sk-toggleable__label-arrow:before {content: \"▸\";float: left;margin-right: 0.25em;color: #696969;}#sk-container-id-2 label.sk-toggleable__label-arrow:hover:before {color: black;}#sk-container-id-2 div.sk-estimator:hover label.sk-toggleable__label-arrow:before {color: black;}#sk-container-id-2 div.sk-toggleable__content {max-height: 0;max-width: 0;overflow: hidden;text-align: left;background-color: #f0f8ff;}#sk-container-id-2 div.sk-toggleable__content pre {margin: 0.2em;color: black;border-radius: 0.25em;background-color: #f0f8ff;}#sk-container-id-2 input.sk-toggleable__control:checked~div.sk-toggleable__content {max-height: 200px;max-width: 100%;overflow: auto;}#sk-container-id-2 input.sk-toggleable__control:checked~label.sk-toggleable__label-arrow:before {content: \"▾\";}#sk-container-id-2 div.sk-estimator input.sk-toggleable__control:checked~label.sk-toggleable__label {background-color: #d4ebff;}#sk-container-id-2 div.sk-label input.sk-toggleable__control:checked~label.sk-toggleable__label {background-color: #d4ebff;}#sk-container-id-2 input.sk-hidden--visually {border: 0;clip: rect(1px 1px 1px 1px);clip: rect(1px, 1px, 1px, 1px);height: 1px;margin: -1px;overflow: hidden;padding: 0;position: absolute;width: 1px;}#sk-container-id-2 div.sk-estimator {font-family: monospace;background-color: #f0f8ff;border: 1px dotted black;border-radius: 0.25em;box-sizing: border-box;margin-bottom: 0.5em;}#sk-container-id-2 div.sk-estimator:hover {background-color: #d4ebff;}#sk-container-id-2 div.sk-parallel-item::after {content: \"\";width: 100%;border-bottom: 1px solid gray;flex-grow: 1;}#sk-container-id-2 div.sk-label:hover label.sk-toggleable__label {background-color: #d4ebff;}#sk-container-id-2 div.sk-serial::before {content: \"\";position: absolute;border-left: 1px solid gray;box-sizing: border-box;top: 0;bottom: 0;left: 50%;z-index: 0;}#sk-container-id-2 div.sk-serial {display: flex;flex-direction: column;align-items: center;background-color: white;padding-right: 0.2em;padding-left: 0.2em;position: relative;}#sk-container-id-2 div.sk-item {position: relative;z-index: 1;}#sk-container-id-2 div.sk-parallel {display: flex;align-items: stretch;justify-content: center;background-color: white;position: relative;}#sk-container-id-2 div.sk-item::before, #sk-container-id-2 div.sk-parallel-item::before {content: \"\";position: absolute;border-left: 1px solid gray;box-sizing: border-box;top: 0;bottom: 0;left: 50%;z-index: -1;}#sk-container-id-2 div.sk-parallel-item {display: flex;flex-direction: column;z-index: 1;position: relative;background-color: white;}#sk-container-id-2 div.sk-parallel-item:first-child::after {align-self: flex-end;width: 50%;}#sk-container-id-2 div.sk-parallel-item:last-child::after {align-self: flex-start;width: 50%;}#sk-container-id-2 div.sk-parallel-item:only-child::after {width: 0;}#sk-container-id-2 div.sk-dashed-wrapped {border: 1px dashed gray;margin: 0 0.4em 0.5em 0.4em;box-sizing: border-box;padding-bottom: 0.4em;background-color: white;}#sk-container-id-2 div.sk-label label {font-family: monospace;font-weight: bold;display: inline-block;line-height: 1.2em;}#sk-container-id-2 div.sk-label-container {text-align: center;}#sk-container-id-2 div.sk-container {/* jupyter's `normalize.less` sets `[hidden] { display: none; }` but bootstrap.min.css set `[hidden] { display: none !important; }` so we also need the `!important` here to be able to override the default hidden behavior on the sphinx rendered scikit-learn.org. See: https://github.com/scikit-learn/scikit-learn/issues/21755 */display: inline-block !important;position: relative;}#sk-container-id-2 div.sk-text-repr-fallback {display: none;}</style><div id=\"sk-container-id-2\" class=\"sk-top-container\"><div class=\"sk-text-repr-fallback\"><pre>PCA(n_components=2)</pre><b>In a Jupyter environment, please rerun this cell to show the HTML representation or trust the notebook. <br />On GitHub, the HTML representation is unable to render, please try loading this page with nbviewer.org.</b></div><div class=\"sk-container\" hidden><div class=\"sk-item\"><div class=\"sk-estimator sk-toggleable\"><input class=\"sk-toggleable__control sk-hidden--visually\" id=\"sk-estimator-id-2\" type=\"checkbox\" checked><label for=\"sk-estimator-id-2\" class=\"sk-toggleable__label sk-toggleable__label-arrow\">PCA</label><div class=\"sk-toggleable__content\"><pre>PCA(n_components=2)</pre></div></div></div></div></div>"
     },
     "execution_count": 13,
     "metadata": {},
     "output_type": "execute_result"
    }
   ],
   "source": [
    "pca.fit(scaled_data)"
   ],
   "metadata": {
    "collapsed": false,
    "pycharm": {
     "name": "#%%\n"
    }
   }
  },
  {
   "cell_type": "code",
   "execution_count": 14,
   "outputs": [],
   "source": [
    "x_pca=pca.transform(scaled_data)"
   ],
   "metadata": {
    "collapsed": false,
    "pycharm": {
     "name": "#%%\n"
    }
   }
  },
  {
   "cell_type": "code",
   "execution_count": 15,
   "outputs": [
    {
     "data": {
      "text/plain": "(2509, 6)"
     },
     "execution_count": 15,
     "metadata": {},
     "output_type": "execute_result"
    }
   ],
   "source": [
    "scaled_data.shape"
   ],
   "metadata": {
    "collapsed": false,
    "pycharm": {
     "name": "#%%\n"
    }
   }
  },
  {
   "cell_type": "code",
   "execution_count": 16,
   "outputs": [
    {
     "data": {
      "text/plain": "(2509, 2)"
     },
     "execution_count": 16,
     "metadata": {},
     "output_type": "execute_result"
    }
   ],
   "source": [
    "x_pca.shape"
   ],
   "metadata": {
    "collapsed": false,
    "pycharm": {
     "name": "#%%\n"
    }
   }
  },
  {
   "cell_type": "code",
   "execution_count": 17,
   "outputs": [
    {
     "data": {
      "text/plain": "(2509, 2)"
     },
     "execution_count": 17,
     "metadata": {},
     "output_type": "execute_result"
    }
   ],
   "source": [
    "x_pca.shape"
   ],
   "metadata": {
    "collapsed": false,
    "pycharm": {
     "name": "#%%\n"
    }
   }
  },
  {
   "cell_type": "code",
   "execution_count": 18,
   "outputs": [
    {
     "data": {
      "text/plain": "array([[ 0.30615207, -0.52816631],\n       [ 0.39453467, -0.63856366],\n       [ 0.42477743, -0.6698959 ],\n       ...,\n       [-4.45726603,  0.71965449],\n       [-4.5168988 ,  0.60653525],\n       [-4.58740895,  0.51613383]])"
     },
     "execution_count": 18,
     "metadata": {},
     "output_type": "execute_result"
    }
   ],
   "source": [
    "x_pca"
   ],
   "metadata": {
    "collapsed": false,
    "pycharm": {
     "name": "#%%\n"
    }
   }
  },
  {
   "cell_type": "code",
   "execution_count": 19,
   "outputs": [],
   "source": [
    "import matplotlib.pyplot as plt\n",
    "import numpy as np\n",
    "import pandas as pd\n",
    "%matplotlib inline"
   ],
   "metadata": {
    "collapsed": false,
    "pycharm": {
     "name": "#%%\n"
    }
   }
  },
  {
   "cell_type": "code",
   "execution_count": 20,
   "outputs": [
    {
     "data": {
      "text/plain": "Text(0, 0.5, 'Second principle component')"
     },
     "execution_count": 20,
     "metadata": {},
     "output_type": "execute_result"
    },
    {
     "data": {
      "text/plain": "<Figure size 800x600 with 1 Axes>",
      "image/png": "[encoded data removed]"
     },
     "metadata": {},
     "output_type": "display_data"
    }
   ],
   "source": [
    "plt.figure(figsize=(8,6))\n",
    "plt.scatter(x_pca[:,0],x_pca[:,1],c=df_tm_d['Close'])\n",
    "plt.xlabel('First principle component')\n",
    "plt.ylabel('Second principle component')"
   ],
   "metadata": {
    "collapsed": false,
    "pycharm": {
     "name": "#%%\n"
    }
   }
  },
  {
   "cell_type": "code",
   "execution_count": 21,
   "outputs": [],
   "source": [
    "uni=df_tm_d.copy()"
   ],
   "metadata": {
    "collapsed": false,
    "pycharm": {
     "name": "#%%\n"
    }
   }
  },
  {
   "cell_type": "code",
   "execution_count": 22,
   "outputs": [
    {
     "data": {
      "text/plain": "                  Open        High         Low       Close   Adj Close  \\\nDate                                                                     \n2013-09-11  344.801666  346.829895  332.632202  336.837097  334.226288   \n2013-09-12  338.271698  338.370636  326.003296  329.911377  327.354248   \n2013-09-13  328.476746  334.709900  326.596924  330.505005  327.943268   \n2013-09-16  335.402466  337.183380  321.402649  327.833649  325.292664   \n2013-09-17  325.508606  334.066803  324.766541  331.494385  328.924988   \n\n             Volume  \nDate                 \n2013-09-11  9215459  \n2013-09-12  6661518  \n2013-09-13  5971621  \n2013-09-16  5795207  \n2013-09-17  4927964  ",
      "text/html": "<div>\n<style scoped>\n    .dataframe tbody tr th:only-of-type {\n        vertical-align: middle;\n    }\n\n    .dataframe tbody tr th {\n        vertical-align: top;\n    }\n\n    .dataframe thead th {\n        text-align: right;\n    }\n</style>\n<table border=\"1\" class=\"dataframe\">\n  <thead>\n    <tr style=\"text-align: right;\">\n      <th></th>\n      <th>Open</th>\n      <th>High</th>\n      <th>Low</th>\n      <th>Close</th>\n      <th>Adj Close</th>\n      <th>Volume</th>\n    </tr>\n    <tr>\n      <th>Date</th>\n      <th></th>\n      <th></th>\n      <th></th>\n      <th></th>\n      <th></th>\n      <th></th>\n    </tr>\n  </thead>\n  <tbody>\n    <tr>\n      <th>2013-09-11</th>\n      <td>344.801666</td>\n      <td>346.829895</td>\n      <td>332.632202</td>\n      <td>336.837097</td>\n      <td>334.226288</td>\n      <td>9215459</td>\n    </tr>\n    <tr>\n      <th>2013-09-12</th>\n      <td>338.271698</td>\n      <td>338.370636</td>\n      <td>326.003296</td>\n      <td>329.911377</td>\n      <td>327.354248</td>\n      <td>6661518</td>\n    </tr>\n    <tr>\n      <th>2013-09-13</th>\n      <td>328.476746</td>\n      <td>334.709900</td>\n      <td>326.596924</td>\n      <td>330.505005</td>\n      <td>327.943268</td>\n      <td>5971621</td>\n    </tr>\n    <tr>\n      <th>2013-09-16</th>\n      <td>335.402466</td>\n      <td>337.183380</td>\n      <td>321.402649</td>\n      <td>327.833649</td>\n      <td>325.292664</td>\n      <td>5795207</td>\n    </tr>\n    <tr>\n      <th>2013-09-17</th>\n      <td>325.508606</td>\n      <td>334.066803</td>\n      <td>324.766541</td>\n      <td>331.494385</td>\n      <td>328.924988</td>\n      <td>4927964</td>\n    </tr>\n  </tbody>\n</table>\n</div>"
     },
     "execution_count": 22,
     "metadata": {},
     "output_type": "execute_result"
    }
   ],
   "source": [
    "uni.head()"
   ],
   "metadata": {
    "collapsed": false,
    "pycharm": {
     "name": "#%%\n"
    }
   }
  },
  {
   "cell_type": "code",
   "execution_count": 23,
   "outputs": [],
   "source": [
    "import pandas as pd\n",
    "import numpy as np\n",
    "from sklearn.decomposition import PCA\n",
    "import matplotlib.pyplot as plt\n",
    "from sklearn.preprocessing import scale"
   ],
   "metadata": {
    "collapsed": false,
    "pycharm": {
     "name": "#%%\n"
    }
   }
  },
  {
   "cell_type": "code",
   "execution_count": 24,
   "outputs": [],
   "source": [
    "uni_normal = scale(uni)"
   ],
   "metadata": {
    "collapsed": false,
    "pycharm": {
     "name": "#%%\n"
    }
   }
  },
  {
   "cell_type": "code",
   "execution_count": 25,
   "outputs": [
    {
     "data": {
      "text/plain": "array([[-0.15462227, -0.17394225, -0.20296961, -0.20681054, -0.21701344,\n        -0.43608261],\n       [-0.20111705, -0.23373871, -0.25063361, -0.25619882, -0.26615159,\n        -0.52109147],\n       [-0.27085921, -0.25961557, -0.24636523, -0.25196558, -0.26193983,\n        -0.54405494],\n       ...,\n       [ 1.97573414,  1.99489513,  2.02651903,  2.02176272,  2.03626153,\n        -0.40480809],\n       [ 2.01382712,  1.98994692,  2.03586636,  2.03388575,  2.04841737,\n        -0.5289377 ],\n       [ 2.03981608,  1.99736903,  2.073975  ,  2.04957434,  2.06414844,\n        -0.63365222]])"
     },
     "execution_count": 25,
     "metadata": {},
     "output_type": "execute_result"
    }
   ],
   "source": [
    "uni_normal"
   ],
   "metadata": {
    "collapsed": false,
    "pycharm": {
     "name": "#%%\n"
    }
   }
  },
  {
   "cell_type": "code",
   "execution_count": 26,
   "outputs": [],
   "source": [
    "pca = PCA()\n",
    "pca_values = pca.fit_transform(uni_normal)"
   ],
   "metadata": {
    "collapsed": false,
    "pycharm": {
     "name": "#%%\n"
    }
   }
  },
  {
   "cell_type": "code",
   "execution_count": 27,
   "outputs": [
    {
     "data": {
      "text/plain": "array([[ 3.06152070e-01, -5.28166307e-01, -4.40493527e-02,\n         2.68854350e-02, -5.63489147e-05, -6.49468712e-03],\n       [ 3.94534665e-01, -6.38563661e-01, -4.45345384e-02,\n         2.03284110e-02, -6.92592618e-03, -6.64778914e-03],\n       [ 4.24777432e-01, -6.69895895e-01,  1.36728097e-02,\n        -1.84393037e-03,  1.14711951e-02, -6.11412248e-03],\n       ...,\n       [-4.45726603e+00,  7.19654493e-01,  3.94363354e-02,\n        -2.97915921e-02,  2.95113310e-03,  9.58598981e-03],\n       [-4.51689880e+00,  6.06535253e-01,  2.27673161e-02,\n        -3.62152140e-02, -2.14106091e-02,  8.49850872e-03],\n       [-4.58740895e+00,  5.16133826e-01,  1.46383333e-02,\n        -5.69778733e-02, -2.09638141e-02,  8.28601656e-03]])"
     },
     "execution_count": 27,
     "metadata": {},
     "output_type": "execute_result"
    }
   ],
   "source": [
    "pca_values"
   ],
   "metadata": {
    "collapsed": false,
    "pycharm": {
     "name": "#%%\n"
    }
   }
  },
  {
   "cell_type": "code",
   "execution_count": 28,
   "outputs": [],
   "source": [
    "pca = PCA(n_components = 6)\n",
    "pca_values = pca.fit_transform(uni_normal)"
   ],
   "metadata": {
    "collapsed": false,
    "pycharm": {
     "name": "#%%\n"
    }
   }
  },
  {
   "cell_type": "code",
   "execution_count": 29,
   "outputs": [
    {
     "data": {
      "text/plain": "array([[ 3.06152070e-01, -5.28166307e-01, -4.40493527e-02,\n         2.68854350e-02],\n       [ 3.94534665e-01, -6.38563661e-01, -4.45345384e-02,\n         2.03284110e-02],\n       [ 4.24777432e-01, -6.69895895e-01,  1.36728097e-02,\n        -1.84393037e-03],\n       ...,\n       [-4.45726603e+00,  7.19654493e-01,  3.94363354e-02,\n        -2.97915921e-02],\n       [-4.51689880e+00,  6.06535253e-01,  2.27673161e-02,\n        -3.62152140e-02],\n       [-4.58740895e+00,  5.16133826e-01,  1.46383333e-02,\n        -5.69778733e-02]])"
     },
     "execution_count": 29,
     "metadata": {},
     "output_type": "execute_result"
    }
   ],
   "source": [
    "pca_values[:, :4]"
   ],
   "metadata": {
    "collapsed": false,
    "pycharm": {
     "name": "#%%\n"
    }
   }
  },
  {
   "cell_type": "code",
   "execution_count": 30,
   "outputs": [
    {
     "data": {
      "text/plain": "array([8.79299694e-01, 1.20279282e-01, 2.92577664e-04, 1.01420953e-04,\n       2.55921266e-05, 1.43322914e-06])"
     },
     "execution_count": 30,
     "metadata": {},
     "output_type": "execute_result"
    }
   ],
   "source": [
    "var = pca.explained_variance_ratio_\n",
    "var"
   ],
   "metadata": {
    "collapsed": false,
    "pycharm": {
     "name": "#%%\n"
    }
   }
  },
  {
   "cell_type": "code",
   "execution_count": 31,
   "outputs": [
    {
     "data": {
      "text/plain": "array([ 87.93,  99.96,  99.99, 100.  , 100.  , 100.  ])"
     },
     "execution_count": 31,
     "metadata": {},
     "output_type": "execute_result"
    }
   ],
   "source": [
    "var1 = np.cumsum(np.round(var,decimals = 4)*100)\n",
    "var1"
   ],
   "metadata": {
    "collapsed": false,
    "pycharm": {
     "name": "#%%\n"
    }
   }
  },
  {
   "cell_type": "code",
   "execution_count": 32,
   "outputs": [
    {
     "data": {
      "text/plain": "array([[-4.33379280e-01, -4.33059047e-01, -4.33673313e-01,\n        -4.33275512e-01, -4.33239896e-01,  2.47275641e-01],\n       [ 1.05952328e-01,  1.19159088e-01,  1.01057024e-01,\n         1.12866287e-01,  1.13848252e-01,  9.68845948e-01],\n       [-7.44185817e-01, -1.01256899e-01, -8.37727997e-02,\n         4.63757307e-01,  4.62398429e-01, -5.78635772e-03],\n       [ 3.96579321e-02,  6.46706219e-01, -7.59954093e-01,\n         4.45924060e-02,  2.28818291e-02, -1.24912634e-02],\n       [-4.95061218e-01,  6.06993317e-01,  4.65929251e-01,\n        -2.58139735e-01, -3.20539264e-01, -1.37606727e-03],\n       [-2.20366315e-02,  3.65813226e-02,  8.76150265e-03,\n        -7.18218690e-01,  6.94449755e-01, -9.38012374e-04]])"
     },
     "execution_count": 32,
     "metadata": {},
     "output_type": "execute_result"
    }
   ],
   "source": [
    "pca.components_"
   ],
   "metadata": {
    "collapsed": false,
    "pycharm": {
     "name": "#%%\n"
    }
   }
  },
  {
   "cell_type": "code",
   "execution_count": 33,
   "outputs": [
    {
     "data": {
      "text/plain": "[<matplotlib.lines.Line2D at 0x1aed73f0640>]"
     },
     "execution_count": 33,
     "metadata": {},
     "output_type": "execute_result"
    },
    {
     "data": {
      "text/plain": "<Figure size 640x480 with 1 Axes>",
      "image/png": "[encoded data removed]"
     },
     "metadata": {},
     "output_type": "display_data"
    }
   ],
   "source": [
    "plt.plot(var1,color=\"red\")"
   ],
   "metadata": {
    "collapsed": false,
    "pycharm": {
     "name": "#%%\n"
    }
   }
  },
  {
   "cell_type": "code",
   "execution_count": 34,
   "outputs": [
    {
     "data": {
      "text/plain": "array([[ 0.30615207],\n       [ 0.39453467],\n       [ 0.42477743],\n       ...,\n       [-4.45726603],\n       [-4.5168988 ],\n       [-4.58740895]])"
     },
     "execution_count": 34,
     "metadata": {},
     "output_type": "execute_result"
    }
   ],
   "source": [
    " pca_values[:,0:1]"
   ],
   "metadata": {
    "collapsed": false,
    "pycharm": {
     "name": "#%%\n"
    }
   }
  },
  {
   "cell_type": "code",
   "execution_count": 35,
   "outputs": [
    {
     "data": {
      "text/plain": "<matplotlib.collections.PathCollection at 0x1aed75f2470>"
     },
     "execution_count": 35,
     "metadata": {},
     "output_type": "execute_result"
    },
    {
     "data": {
      "text/plain": "<Figure size 640x480 with 1 Axes>",
      "image/png": "[encoded data removed]"
     },
     "metadata": {},
     "output_type": "display_data"
    }
   ],
   "source": [
    "x = pca_values[:,0:1]\n",
    "y = pca_values[:,1:2]\n",
    "#z = pca_values[:2:3]\n",
    "plt.scatter(x,y)"
   ],
   "metadata": {
    "collapsed": false,
    "pycharm": {
     "name": "#%%\n"
    }
   }
  },
  {
   "cell_type": "code",
   "execution_count": 36,
   "outputs": [],
   "source": [
    "tm=df_tm_d.Close"
   ],
   "metadata": {
    "collapsed": false,
    "pycharm": {
     "name": "#%%\n"
    }
   }
  },
  {
   "cell_type": "code",
   "execution_count": 37,
   "outputs": [
    {
     "data": {
      "text/plain": "Date\n2013-09-11    336.837097\n2013-09-12    329.911377\n2013-09-13    330.505005\n2013-09-16    327.833649\n2013-09-17    331.494385\n                 ...    \n2023-11-07    645.000000\n2023-11-08    642.549988\n2023-11-09    649.349976\n2023-11-10    651.049988\n2023-11-13    653.250000\nName: Close, Length: 2509, dtype: float64"
     },
     "execution_count": 37,
     "metadata": {},
     "output_type": "execute_result"
    }
   ],
   "source": [
    "tm"
   ],
   "metadata": {
    "collapsed": false,
    "pycharm": {
     "name": "#%%\n"
    }
   }
  },
  {
   "cell_type": "code",
   "execution_count": 38,
   "outputs": [
    {
     "name": "stdout",
     "output_type": "stream",
     "text": [
      "[*********************100%%**********************]  1 of 1 completed\n"
     ]
    }
   ],
   "source": [
    "df_bel_d=yf.download(\"BEL.NS\",start=\"2013-09-11\",end=\"2023-11-15\",interval=\"1d\")"
   ],
   "metadata": {
    "collapsed": false,
    "pycharm": {
     "name": "#%%\n"
    }
   }
  },
  {
   "cell_type": "code",
   "execution_count": 39,
   "outputs": [],
   "source": [
    "bel=df_bel_d.Close"
   ],
   "metadata": {
    "collapsed": false,
    "pycharm": {
     "name": "#%%\n"
    }
   }
  },
  {
   "cell_type": "code",
   "execution_count": 40,
   "outputs": [],
   "source": [
    "df_bel_d.to_csv('df_bel_d.csv',index=False)"
   ],
   "metadata": {
    "collapsed": false,
    "pycharm": {
     "name": "#%%\n"
    }
   }
  },
  {
   "cell_type": "code",
   "execution_count": 41,
   "outputs": [],
   "source": [
    "df_tm_d.to_csv('df_tm_d.csv',index=False)"
   ],
   "metadata": {
    "collapsed": false,
    "pycharm": {
     "name": "#%%\n"
    }
   }
  },
  {
   "cell_type": "code",
   "execution_count": 42,
   "outputs": [
    {
     "data": {
      "text/plain": "Date\n2013-09-11     12.101515\n2013-09-12     11.931818\n2013-09-13     11.915151\n2013-09-16     11.838888\n2013-09-17     11.650505\n                 ...    \n2023-11-07    138.050003\n2023-11-08    140.399994\n2023-11-09    137.949997\n2023-11-10    138.800003\n2023-11-13    143.399994\nName: Close, Length: 2509, dtype: float64"
     },
     "execution_count": 42,
     "metadata": {},
     "output_type": "execute_result"
    }
   ],
   "source": [
    "bel"
   ],
   "metadata": {
    "collapsed": false,
    "pycharm": {
     "name": "#%%\n"
    }
   }
  },
  {
   "cell_type": "code",
   "execution_count": 43,
   "outputs": [],
   "source": [
    "df_t= tm + bel"
   ],
   "metadata": {
    "collapsed": false,
    "pycharm": {
     "name": "#%%\n"
    }
   }
  },
  {
   "cell_type": "code",
   "execution_count": 44,
   "outputs": [
    {
     "data": {
      "text/plain": "Date\n2013-09-11    348.938612\n2013-09-12    341.843195\n2013-09-13    342.420156\n2013-09-16    339.672537\n2013-09-17    343.144890\n                 ...    \n2023-11-07    783.050003\n2023-11-08    782.949982\n2023-11-09    787.299973\n2023-11-10    789.849991\n2023-11-13    796.649994\nName: Close, Length: 2509, dtype: float64"
     },
     "execution_count": 44,
     "metadata": {},
     "output_type": "execute_result"
    }
   ],
   "source": [
    "df_t"
   ],
   "metadata": {
    "collapsed": false,
    "pycharm": {
     "name": "#%%\n"
    }
   }
  },
  {
   "cell_type": "code",
   "execution_count": 45,
   "outputs": [],
   "source": [
    "dfe=df_bel_d.Close + df_tm_d.Close"
   ],
   "metadata": {
    "collapsed": false,
    "pycharm": {
     "name": "#%%\n"
    }
   }
  },
  {
   "cell_type": "code",
   "execution_count": 46,
   "outputs": [
    {
     "data": {
      "text/plain": "Date\n2013-09-11    348.938612\n2013-09-12    341.843195\n2013-09-13    342.420156\n2013-09-16    339.672537\n2013-09-17    343.144890\n                 ...    \n2023-11-07    783.050003\n2023-11-08    782.949982\n2023-11-09    787.299973\n2023-11-10    789.849991\n2023-11-13    796.649994\nName: Close, Length: 2509, dtype: float64"
     },
     "execution_count": 46,
     "metadata": {},
     "output_type": "execute_result"
    }
   ],
   "source": [
    "dfe"
   ],
   "metadata": {
    "collapsed": false,
    "pycharm": {
     "name": "#%%\n"
    }
   }
  },
  {
   "cell_type": "code",
   "execution_count": 47,
   "outputs": [
    {
     "data": {
      "text/plain": "Date\n2013-09-11    336.837097\n2013-09-12    329.911377\n2013-09-13    330.505005\n2013-09-16    327.833649\n2013-09-17    331.494385\n                 ...    \n2023-11-07    645.000000\n2023-11-08    642.549988\n2023-11-09    649.349976\n2023-11-10    651.049988\n2023-11-13    653.250000\nName: Close, Length: 2509, dtype: float64"
     },
     "execution_count": 47,
     "metadata": {},
     "output_type": "execute_result"
    }
   ],
   "source": [
    "df_tm_d.Close"
   ],
   "metadata": {
    "collapsed": false,
    "pycharm": {
     "name": "#%%\n"
    }
   }
  },
  {
   "cell_type": "code",
   "execution_count": 48,
   "outputs": [
    {
     "data": {
      "text/plain": "(2509,)"
     },
     "execution_count": 48,
     "metadata": {},
     "output_type": "execute_result"
    }
   ],
   "source": [
    "dfe.shape"
   ],
   "metadata": {
    "collapsed": false,
    "pycharm": {
     "name": "#%%\n"
    }
   }
  },
  {
   "cell_type": "code",
   "execution_count": 49,
   "outputs": [],
   "source": [
    "dfe=df_bel_d[\"Close\"] + df_tm_d[\"Close\"]"
   ],
   "metadata": {
    "collapsed": false,
    "pycharm": {
     "name": "#%%\n"
    }
   }
  },
  {
   "cell_type": "code",
   "execution_count": 50,
   "outputs": [
    {
     "data": {
      "text/plain": "Date\n2013-09-11    348.938612\n2013-09-12    341.843195\n2013-09-13    342.420156\n2013-09-16    339.672537\n2013-09-17    343.144890\n                 ...    \n2023-11-07    783.050003\n2023-11-08    782.949982\n2023-11-09    787.299973\n2023-11-10    789.849991\n2023-11-13    796.649994\nName: Close, Length: 2509, dtype: float64"
     },
     "execution_count": 50,
     "metadata": {},
     "output_type": "execute_result"
    }
   ],
   "source": [
    "dfe"
   ],
   "metadata": {
    "collapsed": false,
    "pycharm": {
     "name": "#%%\n"
    }
   }
  },
  {
   "cell_type": "code",
   "execution_count": 51,
   "outputs": [
    {
     "data": {
      "text/plain": "Date\n2013-09-11     12.101515\n2013-09-12     11.931818\n2013-09-13     11.915151\n2013-09-16     11.838888\n2013-09-17     11.650505\n                 ...    \n2023-11-07    138.050003\n2023-11-08    140.399994\n2023-11-09    137.949997\n2023-11-10    138.800003\n2023-11-13    143.399994\nName: Close, Length: 2509, dtype: float64"
     },
     "execution_count": 51,
     "metadata": {},
     "output_type": "execute_result"
    }
   ],
   "source": [
    "df_bel_d[\"Close\"]"
   ],
   "metadata": {
    "collapsed": false,
    "pycharm": {
     "name": "#%%\n"
    }
   }
  },
  {
   "cell_type": "code",
   "execution_count": 52,
   "outputs": [],
   "source": [
    "result = pd.concat([df_tm_d[\"Close\"], df_bel_d[\"Close\"]], axis=1)"
   ],
   "metadata": {
    "collapsed": false,
    "pycharm": {
     "name": "#%%\n"
    }
   }
  },
  {
   "cell_type": "code",
   "execution_count": 53,
   "outputs": [
    {
     "data": {
      "text/plain": "                 Close       Close\nDate                              \n2013-09-11  336.837097   12.101515\n2013-09-12  329.911377   11.931818\n2013-09-13  330.505005   11.915151\n2013-09-16  327.833649   11.838888\n2013-09-17  331.494385   11.650505\n...                ...         ...\n2023-11-07  645.000000  138.050003\n2023-11-08  642.549988  140.399994\n2023-11-09  649.349976  137.949997\n2023-11-10  651.049988  138.800003\n2023-11-13  653.250000  143.399994\n\n[2509 rows x 2 columns]",
      "text/html": "<div>\n<style scoped>\n    .dataframe tbody tr th:only-of-type {\n        vertical-align: middle;\n    }\n\n    .dataframe tbody tr th {\n        vertical-align: top;\n    }\n\n    .dataframe thead th {\n        text-align: right;\n    }\n</style>\n<table border=\"1\" class=\"dataframe\">\n  <thead>\n    <tr style=\"text-align: right;\">\n      <th></th>\n      <th>Close</th>\n      <th>Close</th>\n    </tr>\n    <tr>\n      <th>Date</th>\n      <th></th>\n      <th></th>\n    </tr>\n  </thead>\n  <tbody>\n    <tr>\n      <th>2013-09-11</th>\n      <td>336.837097</td>\n      <td>12.101515</td>\n    </tr>\n    <tr>\n      <th>2013-09-12</th>\n      <td>329.911377</td>\n      <td>11.931818</td>\n    </tr>\n    <tr>\n      <th>2013-09-13</th>\n      <td>330.505005</td>\n      <td>11.915151</td>\n    </tr>\n    <tr>\n      <th>2013-09-16</th>\n      <td>327.833649</td>\n      <td>11.838888</td>\n    </tr>\n    <tr>\n      <th>2013-09-17</th>\n      <td>331.494385</td>\n      <td>11.650505</td>\n    </tr>\n    <tr>\n      <th>...</th>\n      <td>...</td>\n      <td>...</td>\n    </tr>\n    <tr>\n      <th>2023-11-07</th>\n      <td>645.000000</td>\n      <td>138.050003</td>\n    </tr>\n    <tr>\n      <th>2023-11-08</th>\n      <td>642.549988</td>\n      <td>140.399994</td>\n    </tr>\n    <tr>\n      <th>2023-11-09</th>\n      <td>649.349976</td>\n      <td>137.949997</td>\n    </tr>\n    <tr>\n      <th>2023-11-10</th>\n      <td>651.049988</td>\n      <td>138.800003</td>\n    </tr>\n    <tr>\n      <th>2023-11-13</th>\n      <td>653.250000</td>\n      <td>143.399994</td>\n    </tr>\n  </tbody>\n</table>\n<p>2509 rows × 2 columns</p>\n</div>"
     },
     "execution_count": 53,
     "metadata": {},
     "output_type": "execute_result"
    }
   ],
   "source": [
    "result"
   ],
   "metadata": {
    "collapsed": false,
    "pycharm": {
     "name": "#%%\n"
    }
   }
  },
  {
   "cell_type": "code",
   "execution_count": 54,
   "outputs": [],
   "source": [
    "df_bel_d=df_bel_d.rename(columns={\"Close\":\"bel\"})"
   ],
   "metadata": {
    "collapsed": false,
    "pycharm": {
     "name": "#%%\n"
    }
   }
  },
  {
   "cell_type": "code",
   "execution_count": 55,
   "outputs": [
    {
     "data": {
      "text/plain": "                  Open        High         Low         bel   Adj Close  \\\nDate                                                                     \n2013-09-11   11.898989   12.212121   11.898989   12.101515    9.819762   \n2013-09-12   11.969696   12.116161   11.888888   11.931818    9.682062   \n2013-09-13   12.006060   12.070707   11.819191   11.915151    9.668537   \n2013-09-16   11.919191   12.111111   11.677777   11.838888    9.606653   \n2013-09-17   11.645959   11.822222   11.627272   11.650505    9.453794   \n...                ...         ...         ...         ...         ...   \n2023-11-07  137.550003  138.949997  136.699997  138.050003  138.050003   \n2023-11-08  137.750000  141.149994  137.699997  140.399994  140.399994   \n2023-11-09  139.949997  139.949997  137.600006  137.949997  137.949997   \n2023-11-10  137.500000  139.100006  137.050003  138.800003  138.800003   \n2023-11-13  139.149994  144.199997  139.050003  143.399994  143.399994   \n\n              Volume  \nDate                  \n2013-09-11   2590929  \n2013-09-12   2565585  \n2013-09-13   6399855  \n2013-09-16   7690221  \n2013-09-17    154836  \n...              ...  \n2023-11-07   8587321  \n2023-11-08   9755483  \n2023-11-09   5481774  \n2023-11-10   5781314  \n2023-11-13  20245049  \n\n[2509 rows x 6 columns]",
      "text/html": "<div>\n<style scoped>\n    .dataframe tbody tr th:only-of-type {\n        vertical-align: middle;\n    }\n\n    .dataframe tbody tr th {\n        vertical-align: top;\n    }\n\n    .dataframe thead th {\n        text-align: right;\n    }\n</style>\n<table border=\"1\" class=\"dataframe\">\n  <thead>\n    <tr style=\"text-align: right;\">\n      <th></th>\n      <th>Open</th>\n      <th>High</th>\n      <th>Low</th>\n      <th>bel</th>\n      <th>Adj Close</th>\n      <th>Volume</th>\n    </tr>\n    <tr>\n      <th>Date</th>\n      <th></th>\n      <th></th>\n      <th></th>\n      <th></th>\n      <th></th>\n      <th></th>\n    </tr>\n  </thead>\n  <tbody>\n    <tr>\n      <th>2013-09-11</th>\n      <td>11.898989</td>\n      <td>12.212121</td>\n      <td>11.898989</td>\n      <td>12.101515</td>\n      <td>9.819762</td>\n      <td>2590929</td>\n    </tr>\n    <tr>\n      <th>2013-09-12</th>\n      <td>11.969696</td>\n      <td>12.116161</td>\n      <td>11.888888</td>\n      <td>11.931818</td>\n      <td>9.682062</td>\n      <td>2565585</td>\n    </tr>\n    <tr>\n      <th>2013-09-13</th>\n      <td>12.006060</td>\n      <td>12.070707</td>\n      <td>11.819191</td>\n      <td>11.915151</td>\n      <td>9.668537</td>\n      <td>6399855</td>\n    </tr>\n    <tr>\n      <th>2013-09-16</th>\n      <td>11.919191</td>\n      <td>12.111111</td>\n      <td>11.677777</td>\n      <td>11.838888</td>\n      <td>9.606653</td>\n      <td>7690221</td>\n    </tr>\n    <tr>\n      <th>2013-09-17</th>\n      <td>11.645959</td>\n      <td>11.822222</td>\n      <td>11.627272</td>\n      <td>11.650505</td>\n      <td>9.453794</td>\n      <td>154836</td>\n    </tr>\n    <tr>\n      <th>...</th>\n      <td>...</td>\n      <td>...</td>\n      <td>...</td>\n      <td>...</td>\n      <td>...</td>\n      <td>...</td>\n    </tr>\n    <tr>\n      <th>2023-11-07</th>\n      <td>137.550003</td>\n      <td>138.949997</td>\n      <td>136.699997</td>\n      <td>138.050003</td>\n      <td>138.050003</td>\n      <td>8587321</td>\n    </tr>\n    <tr>\n      <th>2023-11-08</th>\n      <td>137.750000</td>\n      <td>141.149994</td>\n      <td>137.699997</td>\n      <td>140.399994</td>\n      <td>140.399994</td>\n      <td>9755483</td>\n    </tr>\n    <tr>\n      <th>2023-11-09</th>\n      <td>139.949997</td>\n      <td>139.949997</td>\n      <td>137.600006</td>\n      <td>137.949997</td>\n      <td>137.949997</td>\n      <td>5481774</td>\n    </tr>\n    <tr>\n      <th>2023-11-10</th>\n      <td>137.500000</td>\n      <td>139.100006</td>\n      <td>137.050003</td>\n      <td>138.800003</td>\n      <td>138.800003</td>\n      <td>5781314</td>\n    </tr>\n    <tr>\n      <th>2023-11-13</th>\n      <td>139.149994</td>\n      <td>144.199997</td>\n      <td>139.050003</td>\n      <td>143.399994</td>\n      <td>143.399994</td>\n      <td>20245049</td>\n    </tr>\n  </tbody>\n</table>\n<p>2509 rows × 6 columns</p>\n</div>"
     },
     "execution_count": 55,
     "metadata": {},
     "output_type": "execute_result"
    }
   ],
   "source": [
    "df_bel_d"
   ],
   "metadata": {
    "collapsed": false,
    "pycharm": {
     "name": "#%%\n"
    }
   }
  },
  {
   "cell_type": "code",
   "execution_count": 56,
   "outputs": [],
   "source": [
    "df_tm_d=df_tm_d.rename(columns={\"Close\":\"tm\"})"
   ],
   "metadata": {
    "collapsed": false,
    "pycharm": {
     "name": "#%%\n"
    }
   }
  },
  {
   "cell_type": "code",
   "execution_count": 57,
   "outputs": [],
   "source": [
    "result = pd.concat([df_tm_d[\"tm\"], df_bel_d[\"bel\"]], axis=1)"
   ],
   "metadata": {
    "collapsed": false,
    "pycharm": {
     "name": "#%%\n"
    }
   }
  },
  {
   "cell_type": "code",
   "execution_count": 58,
   "outputs": [
    {
     "data": {
      "text/plain": "                    tm         bel\nDate                              \n2013-09-11  336.837097   12.101515\n2013-09-12  329.911377   11.931818\n2013-09-13  330.505005   11.915151\n2013-09-16  327.833649   11.838888\n2013-09-17  331.494385   11.650505\n...                ...         ...\n2023-11-07  645.000000  138.050003\n2023-11-08  642.549988  140.399994\n2023-11-09  649.349976  137.949997\n2023-11-10  651.049988  138.800003\n2023-11-13  653.250000  143.399994\n\n[2509 rows x 2 columns]",
      "text/html": "<div>\n<style scoped>\n    .dataframe tbody tr th:only-of-type {\n        vertical-align: middle;\n    }\n\n    .dataframe tbody tr th {\n        vertical-align: top;\n    }\n\n    .dataframe thead th {\n        text-align: right;\n    }\n</style>\n<table border=\"1\" class=\"dataframe\">\n  <thead>\n    <tr style=\"text-align: right;\">\n      <th></th>\n      <th>tm</th>\n      <th>bel</th>\n    </tr>\n    <tr>\n      <th>Date</th>\n      <th></th>\n      <th></th>\n    </tr>\n  </thead>\n  <tbody>\n    <tr>\n      <th>2013-09-11</th>\n      <td>336.837097</td>\n      <td>12.101515</td>\n    </tr>\n    <tr>\n      <th>2013-09-12</th>\n      <td>329.911377</td>\n      <td>11.931818</td>\n    </tr>\n    <tr>\n      <th>2013-09-13</th>\n      <td>330.505005</td>\n      <td>11.915151</td>\n    </tr>\n    <tr>\n      <th>2013-09-16</th>\n      <td>327.833649</td>\n      <td>11.838888</td>\n    </tr>\n    <tr>\n      <th>2013-09-17</th>\n      <td>331.494385</td>\n      <td>11.650505</td>\n    </tr>\n    <tr>\n      <th>...</th>\n      <td>...</td>\n      <td>...</td>\n    </tr>\n    <tr>\n      <th>2023-11-07</th>\n      <td>645.000000</td>\n      <td>138.050003</td>\n    </tr>\n    <tr>\n      <th>2023-11-08</th>\n      <td>642.549988</td>\n      <td>140.399994</td>\n    </tr>\n    <tr>\n      <th>2023-11-09</th>\n      <td>649.349976</td>\n      <td>137.949997</td>\n    </tr>\n    <tr>\n      <th>2023-11-10</th>\n      <td>651.049988</td>\n      <td>138.800003</td>\n    </tr>\n    <tr>\n      <th>2023-11-13</th>\n      <td>653.250000</td>\n      <td>143.399994</td>\n    </tr>\n  </tbody>\n</table>\n<p>2509 rows × 2 columns</p>\n</div>"
     },
     "execution_count": 58,
     "metadata": {},
     "output_type": "execute_result"
    }
   ],
   "source": [
    "result"
   ],
   "metadata": {
    "collapsed": false,
    "pycharm": {
     "name": "#%%\n"
    }
   }
  },
  {
   "cell_type": "code",
   "execution_count": 59,
   "outputs": [
    {
     "name": "stdout",
     "output_type": "stream",
     "text": [
      "[*********************100%%**********************]  1 of 1 completed\n"
     ]
    }
   ],
   "source": [
    "df_nmdc_d=yf.download(\"NMDC.NS\",start=\"2013-09-11\",end=\"2023-11-15\",interval=\"1d\")"
   ],
   "metadata": {
    "collapsed": false,
    "pycharm": {
     "name": "#%%\n"
    }
   }
  },
  {
   "cell_type": "code",
   "execution_count": 60,
   "outputs": [],
   "source": [
    "df_nmdc_d=df_nmdc_d.rename(columns={\"Close\":\"nmdc\"})"
   ],
   "metadata": {
    "collapsed": false,
    "pycharm": {
     "name": "#%%\n"
    }
   }
  },
  {
   "cell_type": "code",
   "execution_count": 61,
   "outputs": [],
   "source": [
    "result = pd.concat([df_tm_d[\"tm\"], df_bel_d[\"bel\"], df_nmdc_d[\"nmdc\"]], axis=1)"
   ],
   "metadata": {
    "collapsed": false,
    "pycharm": {
     "name": "#%%\n"
    }
   }
  },
  {
   "cell_type": "code",
   "execution_count": 62,
   "outputs": [
    {
     "data": {
      "text/plain": "                    tm         bel        nmdc\nDate                                          \n2013-09-11  336.837097   12.101515  124.949997\n2013-09-12  329.911377   11.931818  123.650002\n2013-09-13  330.505005   11.915151  124.750000\n2013-09-16  327.833649   11.838888  123.250000\n2013-09-17  331.494385   11.650505  123.900002\n...                ...         ...         ...\n2023-11-07  645.000000  138.050003  163.050003\n2023-11-08  642.549988  140.399994  162.399994\n2023-11-09  649.349976  137.949997  163.050003\n2023-11-10  651.049988  138.800003  168.699997\n2023-11-13  653.250000  143.399994  175.250000\n\n[2509 rows x 3 columns]",
      "text/html": "<div>\n<style scoped>\n    .dataframe tbody tr th:only-of-type {\n        vertical-align: middle;\n    }\n\n    .dataframe tbody tr th {\n        vertical-align: top;\n    }\n\n    .dataframe thead th {\n        text-align: right;\n    }\n</style>\n<table border=\"1\" class=\"dataframe\">\n  <thead>\n    <tr style=\"text-align: right;\">\n      <th></th>\n      <th>tm</th>\n      <th>bel</th>\n      <th>nmdc</th>\n    </tr>\n    <tr>\n      <th>Date</th>\n      <th></th>\n      <th></th>\n      <th></th>\n    </tr>\n  </thead>\n  <tbody>\n    <tr>\n      <th>2013-09-11</th>\n      <td>336.837097</td>\n      <td>12.101515</td>\n      <td>124.949997</td>\n    </tr>\n    <tr>\n      <th>2013-09-12</th>\n      <td>329.911377</td>\n      <td>11.931818</td>\n      <td>123.650002</td>\n    </tr>\n    <tr>\n      <th>2013-09-13</th>\n      <td>330.505005</td>\n      <td>11.915151</td>\n      <td>124.750000</td>\n    </tr>\n    <tr>\n      <th>2013-09-16</th>\n      <td>327.833649</td>\n      <td>11.838888</td>\n      <td>123.250000</td>\n    </tr>\n    <tr>\n      <th>2013-09-17</th>\n      <td>331.494385</td>\n      <td>11.650505</td>\n      <td>123.900002</td>\n    </tr>\n    <tr>\n      <th>...</th>\n      <td>...</td>\n      <td>...</td>\n      <td>...</td>\n    </tr>\n    <tr>\n      <th>2023-11-07</th>\n      <td>645.000000</td>\n      <td>138.050003</td>\n      <td>163.050003</td>\n    </tr>\n    <tr>\n      <th>2023-11-08</th>\n      <td>642.549988</td>\n      <td>140.399994</td>\n      <td>162.399994</td>\n    </tr>\n    <tr>\n      <th>2023-11-09</th>\n      <td>649.349976</td>\n      <td>137.949997</td>\n      <td>163.050003</td>\n    </tr>\n    <tr>\n      <th>2023-11-10</th>\n      <td>651.049988</td>\n      <td>138.800003</td>\n      <td>168.699997</td>\n    </tr>\n    <tr>\n      <th>2023-11-13</th>\n      <td>653.250000</td>\n      <td>143.399994</td>\n      <td>175.250000</td>\n    </tr>\n  </tbody>\n</table>\n<p>2509 rows × 3 columns</p>\n</div>"
     },
     "execution_count": 62,
     "metadata": {},
     "output_type": "execute_result"
    }
   ],
   "source": [
    "result"
   ],
   "metadata": {
    "collapsed": false,
    "pycharm": {
     "name": "#%%\n"
    }
   }
  },
  {
   "cell_type": "code",
   "execution_count": 63,
   "outputs": [],
   "source": [
    "df_nmdc_d.to_csv('df_nmdc_d.csv',index=False)"
   ],
   "metadata": {
    "collapsed": false,
    "pycharm": {
     "name": "#%%\n"
    }
   }
  },
  {
   "cell_type": "code",
   "execution_count": 66,
   "outputs": [
    {
     "name": "stdout",
     "output_type": "stream",
     "text": [
      "[*********************100%%**********************]  1 of 1 completed\n"
     ]
    }
   ],
   "source": [
    "df_bhel_d=yf.download(\"BHEL.NS\",start=\"2013-09-11\",end=\"2023-11-15\",interval=\"1d\")\n"
   ],
   "metadata": {
    "collapsed": false,
    "pycharm": {
     "name": "#%%\n"
    }
   }
  },
  {
   "cell_type": "code",
   "execution_count": 67,
   "outputs": [
    {
     "data": {
      "text/plain": "                  Open        High         Low       Close   Adj Close  \\\nDate                                                                     \n2013-09-11   93.266663   95.166664   91.800003   93.800003   84.652908   \n2013-09-12   94.099998   95.666664   89.333336   89.933334   81.163315   \n2013-09-13   89.866669   95.666664   89.333336   95.233330   85.946465   \n2013-09-16   96.566666   97.233330   89.866669   90.433334   81.614540   \n2013-09-17   89.333336   91.933334   88.099998   91.033333   82.156036   \n...                ...         ...         ...         ...         ...   \n2023-11-07  130.250000  130.800003  128.350006  128.949997  128.949997   \n2023-11-08  129.600006  130.250000  124.550003  125.300003  125.300003   \n2023-11-09  124.050003  127.400002  121.949997  125.800003  125.800003   \n2023-11-10  125.550003  130.199997  123.800003  129.050003  129.050003   \n2023-11-13  128.949997  138.000000  128.699997  136.500000  136.500000   \n\n              Volume  \nDate                  \n2013-09-11  11846881  \n2013-09-12  11889318  \n2013-09-13  14119531  \n2013-09-16   9514197  \n2013-09-17   8953179  \n...              ...  \n2023-11-07  10828413  \n2023-11-08  15189519  \n2023-11-09  33342195  \n2023-11-10  24894388  \n2023-11-13  77439295  \n\n[2509 rows x 6 columns]",
      "text/html": "<div>\n<style scoped>\n    .dataframe tbody tr th:only-of-type {\n        vertical-align: middle;\n    }\n\n    .dataframe tbody tr th {\n        vertical-align: top;\n    }\n\n    .dataframe thead th {\n        text-align: right;\n    }\n</style>\n<table border=\"1\" class=\"dataframe\">\n  <thead>\n    <tr style=\"text-align: right;\">\n      <th></th>\n      <th>Open</th>\n      <th>High</th>\n      <th>Low</th>\n      <th>Close</th>\n      <th>Adj Close</th>\n      <th>Volume</th>\n    </tr>\n    <tr>\n      <th>Date</th>\n      <th></th>\n      <th></th>\n      <th></th>\n      <th></th>\n      <th></th>\n      <th></th>\n    </tr>\n  </thead>\n  <tbody>\n    <tr>\n      <th>2013-09-11</th>\n      <td>93.266663</td>\n      <td>95.166664</td>\n      <td>91.800003</td>\n      <td>93.800003</td>\n      <td>84.652908</td>\n      <td>11846881</td>\n    </tr>\n    <tr>\n      <th>2013-09-12</th>\n      <td>94.099998</td>\n      <td>95.666664</td>\n      <td>89.333336</td>\n      <td>89.933334</td>\n      <td>81.163315</td>\n      <td>11889318</td>\n    </tr>\n    <tr>\n      <th>2013-09-13</th>\n      <td>89.866669</td>\n      <td>95.666664</td>\n      <td>89.333336</td>\n      <td>95.233330</td>\n      <td>85.946465</td>\n      <td>14119531</td>\n    </tr>\n    <tr>\n      <th>2013-09-16</th>\n      <td>96.566666</td>\n      <td>97.233330</td>\n      <td>89.866669</td>\n      <td>90.433334</td>\n      <td>81.614540</td>\n      <td>9514197</td>\n    </tr>\n    <tr>\n      <th>2013-09-17</th>\n      <td>89.333336</td>\n      <td>91.933334</td>\n      <td>88.099998</td>\n      <td>91.033333</td>\n      <td>82.156036</td>\n      <td>8953179</td>\n    </tr>\n    <tr>\n      <th>...</th>\n      <td>...</td>\n      <td>...</td>\n      <td>...</td>\n      <td>...</td>\n      <td>...</td>\n      <td>...</td>\n    </tr>\n    <tr>\n      <th>2023-11-07</th>\n      <td>130.250000</td>\n      <td>130.800003</td>\n      <td>128.350006</td>\n      <td>128.949997</td>\n      <td>128.949997</td>\n      <td>10828413</td>\n    </tr>\n    <tr>\n      <th>2023-11-08</th>\n      <td>129.600006</td>\n      <td>130.250000</td>\n      <td>124.550003</td>\n      <td>125.300003</td>\n      <td>125.300003</td>\n      <td>15189519</td>\n    </tr>\n    <tr>\n      <th>2023-11-09</th>\n      <td>124.050003</td>\n      <td>127.400002</td>\n      <td>121.949997</td>\n      <td>125.800003</td>\n      <td>125.800003</td>\n      <td>33342195</td>\n    </tr>\n    <tr>\n      <th>2023-11-10</th>\n      <td>125.550003</td>\n      <td>130.199997</td>\n      <td>123.800003</td>\n      <td>129.050003</td>\n      <td>129.050003</td>\n      <td>24894388</td>\n    </tr>\n    <tr>\n      <th>2023-11-13</th>\n      <td>128.949997</td>\n      <td>138.000000</td>\n      <td>128.699997</td>\n      <td>136.500000</td>\n      <td>136.500000</td>\n      <td>77439295</td>\n    </tr>\n  </tbody>\n</table>\n<p>2509 rows × 6 columns</p>\n</div>"
     },
     "execution_count": 67,
     "metadata": {},
     "output_type": "execute_result"
    }
   ],
   "source": [
    "df_bhel_d"
   ],
   "metadata": {
    "collapsed": false,
    "pycharm": {
     "name": "#%%\n"
    }
   }
  },
  {
   "cell_type": "code",
   "execution_count": 68,
   "outputs": [],
   "source": [
    "df_bhel_d.to_csv(\"df_bhel_d.csv\",index=False)"
   ],
   "metadata": {
    "collapsed": false,
    "pycharm": {
     "name": "#%%\n"
    }
   }
  },
  {
   "cell_type": "code",
   "execution_count": 69,
   "outputs": [],
   "source": [
    "df_bhel_d=df_bhel_d.rename(columns={\"Close\":\"bhel\"})"
   ],
   "metadata": {
    "collapsed": false,
    "pycharm": {
     "name": "#%%\n"
    }
   }
  },
  {
   "cell_type": "code",
   "execution_count": 70,
   "outputs": [
    {
     "data": {
      "text/plain": "                  Open        High         Low        bhel   Adj Close  \\\nDate                                                                     \n2013-09-11   93.266663   95.166664   91.800003   93.800003   84.652908   \n2013-09-12   94.099998   95.666664   89.333336   89.933334   81.163315   \n2013-09-13   89.866669   95.666664   89.333336   95.233330   85.946465   \n2013-09-16   96.566666   97.233330   89.866669   90.433334   81.614540   \n2013-09-17   89.333336   91.933334   88.099998   91.033333   82.156036   \n...                ...         ...         ...         ...         ...   \n2023-11-07  130.250000  130.800003  128.350006  128.949997  128.949997   \n2023-11-08  129.600006  130.250000  124.550003  125.300003  125.300003   \n2023-11-09  124.050003  127.400002  121.949997  125.800003  125.800003   \n2023-11-10  125.550003  130.199997  123.800003  129.050003  129.050003   \n2023-11-13  128.949997  138.000000  128.699997  136.500000  136.500000   \n\n              Volume  \nDate                  \n2013-09-11  11846881  \n2013-09-12  11889318  \n2013-09-13  14119531  \n2013-09-16   9514197  \n2013-09-17   8953179  \n...              ...  \n2023-11-07  10828413  \n2023-11-08  15189519  \n2023-11-09  33342195  \n2023-11-10  24894388  \n2023-11-13  77439295  \n\n[2509 rows x 6 columns]",
      "text/html": "<div>\n<style scoped>\n    .dataframe tbody tr th:only-of-type {\n        vertical-align: middle;\n    }\n\n    .dataframe tbody tr th {\n        vertical-align: top;\n    }\n\n    .dataframe thead th {\n        text-align: right;\n    }\n</style>\n<table border=\"1\" class=\"dataframe\">\n  <thead>\n    <tr style=\"text-align: right;\">\n      <th></th>\n      <th>Open</th>\n      <th>High</th>\n      <th>Low</th>\n      <th>bhel</th>\n      <th>Adj Close</th>\n      <th>Volume</th>\n    </tr>\n    <tr>\n      <th>Date</th>\n      <th></th>\n      <th></th>\n      <th></th>\n      <th></th>\n      <th></th>\n      <th></th>\n    </tr>\n  </thead>\n  <tbody>\n    <tr>\n      <th>2013-09-11</th>\n      <td>93.266663</td>\n      <td>95.166664</td>\n      <td>91.800003</td>\n      <td>93.800003</td>\n      <td>84.652908</td>\n      <td>11846881</td>\n    </tr>\n    <tr>\n      <th>2013-09-12</th>\n      <td>94.099998</td>\n      <td>95.666664</td>\n      <td>89.333336</td>\n      <td>89.933334</td>\n      <td>81.163315</td>\n      <td>11889318</td>\n    </tr>\n    <tr>\n      <th>2013-09-13</th>\n      <td>89.866669</td>\n      <td>95.666664</td>\n      <td>89.333336</td>\n      <td>95.233330</td>\n      <td>85.946465</td>\n      <td>14119531</td>\n    </tr>\n    <tr>\n      <th>2013-09-16</th>\n      <td>96.566666</td>\n      <td>97.233330</td>\n      <td>89.866669</td>\n      <td>90.433334</td>\n      <td>81.614540</td>\n      <td>9514197</td>\n    </tr>\n    <tr>\n      <th>2013-09-17</th>\n      <td>89.333336</td>\n      <td>91.933334</td>\n      <td>88.099998</td>\n      <td>91.033333</td>\n      <td>82.156036</td>\n      <td>8953179</td>\n    </tr>\n    <tr>\n      <th>...</th>\n      <td>...</td>\n      <td>...</td>\n      <td>...</td>\n      <td>...</td>\n      <td>...</td>\n      <td>...</td>\n    </tr>\n    <tr>\n      <th>2023-11-07</th>\n      <td>130.250000</td>\n      <td>130.800003</td>\n      <td>128.350006</td>\n      <td>128.949997</td>\n      <td>128.949997</td>\n      <td>10828413</td>\n    </tr>\n    <tr>\n      <th>2023-11-08</th>\n      <td>129.600006</td>\n      <td>130.250000</td>\n      <td>124.550003</td>\n      <td>125.300003</td>\n      <td>125.300003</td>\n      <td>15189519</td>\n    </tr>\n    <tr>\n      <th>2023-11-09</th>\n      <td>124.050003</td>\n      <td>127.400002</td>\n      <td>121.949997</td>\n      <td>125.800003</td>\n      <td>125.800003</td>\n      <td>33342195</td>\n    </tr>\n    <tr>\n      <th>2023-11-10</th>\n      <td>125.550003</td>\n      <td>130.199997</td>\n      <td>123.800003</td>\n      <td>129.050003</td>\n      <td>129.050003</td>\n      <td>24894388</td>\n    </tr>\n    <tr>\n      <th>2023-11-13</th>\n      <td>128.949997</td>\n      <td>138.000000</td>\n      <td>128.699997</td>\n      <td>136.500000</td>\n      <td>136.500000</td>\n      <td>77439295</td>\n    </tr>\n  </tbody>\n</table>\n<p>2509 rows × 6 columns</p>\n</div>"
     },
     "execution_count": 70,
     "metadata": {},
     "output_type": "execute_result"
    }
   ],
   "source": [
    "df_bhel_d"
   ],
   "metadata": {
    "collapsed": false,
    "pycharm": {
     "name": "#%%\n"
    }
   }
  },
  {
   "cell_type": "code",
   "execution_count": 71,
   "outputs": [
    {
     "name": "stdout",
     "output_type": "stream",
     "text": [
      "[*********************100%%**********************]  1 of 1 completed\n"
     ]
    }
   ],
   "source": [
    "df_hdfc_d=yf.download(\"HDFCBANK.NS\",start=\"2013-09-11\",end=\"2023-11-15\",interval=\"1d\")"
   ],
   "metadata": {
    "collapsed": false,
    "pycharm": {
     "name": "#%%\n"
    }
   }
  },
  {
   "cell_type": "code",
   "execution_count": 72,
   "outputs": [
    {
     "data": {
      "text/plain": "                   Open         High          Low        Close    Adj Close  \\\nDate                                                                          \n2013-09-11   316.500000   325.000000   312.774994   323.625000   300.909729   \n2013-09-12   321.250000   323.000000   313.799988   316.975006   294.726501   \n2013-09-13   316.225006   317.250000   310.500000   314.600006   292.518188   \n2013-09-16   318.750000   324.450012   314.500000   321.399994   298.840851   \n2013-09-17   319.000000   322.500000   316.799988   321.125000   298.585205   \n...                 ...          ...          ...          ...          ...   \n2023-11-07  1494.000000  1494.000000  1477.199951  1487.250000  1487.250000   \n2023-11-08  1483.949951  1493.449951  1481.000000  1491.550049  1491.550049   \n2023-11-09  1486.000000  1492.599976  1483.500000  1485.650024  1485.650024   \n2023-11-10  1480.099976  1496.000000  1480.050049  1491.500000  1491.500000   \n2023-11-13  1492.099976  1495.949951  1485.900024  1488.800049  1488.800049   \n\n              Volume  \nDate                  \n2013-09-11   6345196  \n2013-09-12   8838268  \n2013-09-13   7751560  \n2013-09-16   6069608  \n2013-09-17   4216044  \n...              ...  \n2023-11-07  20976424  \n2023-11-08  15699773  \n2023-11-09  11058370  \n2023-11-10   7007593  \n2023-11-13  10302957  \n\n[2509 rows x 6 columns]",
      "text/html": "<div>\n<style scoped>\n    .dataframe tbody tr th:only-of-type {\n        vertical-align: middle;\n    }\n\n    .dataframe tbody tr th {\n        vertical-align: top;\n    }\n\n    .dataframe thead th {\n        text-align: right;\n    }\n</style>\n<table border=\"1\" class=\"dataframe\">\n  <thead>\n    <tr style=\"text-align: right;\">\n      <th></th>\n      <th>Open</th>\n      <th>High</th>\n      <th>Low</th>\n      <th>Close</th>\n      <th>Adj Close</th>\n      <th>Volume</th>\n    </tr>\n    <tr>\n      <th>Date</th>\n      <th></th>\n      <th></th>\n      <th></th>\n      <th></th>\n      <th></th>\n      <th></th>\n    </tr>\n  </thead>\n  <tbody>\n    <tr>\n      <th>2013-09-11</th>\n      <td>316.500000</td>\n      <td>325.000000</td>\n      <td>312.774994</td>\n      <td>323.625000</td>\n      <td>300.909729</td>\n      <td>6345196</td>\n    </tr>\n    <tr>\n      <th>2013-09-12</th>\n      <td>321.250000</td>\n      <td>323.000000</td>\n      <td>313.799988</td>\n      <td>316.975006</td>\n      <td>294.726501</td>\n      <td>8838268</td>\n    </tr>\n    <tr>\n      <th>2013-09-13</th>\n      <td>316.225006</td>\n      <td>317.250000</td>\n      <td>310.500000</td>\n      <td>314.600006</td>\n      <td>292.518188</td>\n      <td>7751560</td>\n    </tr>\n    <tr>\n      <th>2013-09-16</th>\n      <td>318.750000</td>\n      <td>324.450012</td>\n      <td>314.500000</td>\n      <td>321.399994</td>\n      <td>298.840851</td>\n      <td>6069608</td>\n    </tr>\n    <tr>\n      <th>2013-09-17</th>\n      <td>319.000000</td>\n      <td>322.500000</td>\n      <td>316.799988</td>\n      <td>321.125000</td>\n      <td>298.585205</td>\n      <td>4216044</td>\n    </tr>\n    <tr>\n      <th>...</th>\n      <td>...</td>\n      <td>...</td>\n      <td>...</td>\n      <td>...</td>\n      <td>...</td>\n      <td>...</td>\n    </tr>\n    <tr>\n      <th>2023-11-07</th>\n      <td>1494.000000</td>\n      <td>1494.000000</td>\n      <td>1477.199951</td>\n      <td>1487.250000</td>\n      <td>1487.250000</td>\n      <td>20976424</td>\n    </tr>\n    <tr>\n      <th>2023-11-08</th>\n      <td>1483.949951</td>\n      <td>1493.449951</td>\n      <td>1481.000000</td>\n      <td>1491.550049</td>\n      <td>1491.550049</td>\n      <td>15699773</td>\n    </tr>\n    <tr>\n      <th>2023-11-09</th>\n      <td>1486.000000</td>\n      <td>1492.599976</td>\n      <td>1483.500000</td>\n      <td>1485.650024</td>\n      <td>1485.650024</td>\n      <td>11058370</td>\n    </tr>\n    <tr>\n      <th>2023-11-10</th>\n      <td>1480.099976</td>\n      <td>1496.000000</td>\n      <td>1480.050049</td>\n      <td>1491.500000</td>\n      <td>1491.500000</td>\n      <td>7007593</td>\n    </tr>\n    <tr>\n      <th>2023-11-13</th>\n      <td>1492.099976</td>\n      <td>1495.949951</td>\n      <td>1485.900024</td>\n      <td>1488.800049</td>\n      <td>1488.800049</td>\n      <td>10302957</td>\n    </tr>\n  </tbody>\n</table>\n<p>2509 rows × 6 columns</p>\n</div>"
     },
     "execution_count": 72,
     "metadata": {},
     "output_type": "execute_result"
    }
   ],
   "source": [
    "df_hdfc_d"
   ],
   "metadata": {
    "collapsed": false,
    "pycharm": {
     "name": "#%%\n"
    }
   }
  },
  {
   "cell_type": "code",
   "execution_count": 73,
   "outputs": [],
   "source": [
    "df_hdfc_d.to_csv('df_hdfc_d.csv',index=False)"
   ],
   "metadata": {
    "collapsed": false,
    "pycharm": {
     "name": "#%%\n"
    }
   }
  },
  {
   "cell_type": "code",
   "execution_count": 74,
   "outputs": [],
   "source": [
    "df_hdfc_d=df_hdfc_d.rename(columns={\"Close\":\"hdfc\"})"
   ],
   "metadata": {
    "collapsed": false,
    "pycharm": {
     "name": "#%%\n"
    }
   }
  },
  {
   "cell_type": "code",
   "execution_count": 75,
   "outputs": [
    {
     "data": {
      "text/plain": "                   Open         High          Low         hdfc    Adj Close  \\\nDate                                                                          \n2013-09-11   316.500000   325.000000   312.774994   323.625000   300.909729   \n2013-09-12   321.250000   323.000000   313.799988   316.975006   294.726501   \n2013-09-13   316.225006   317.250000   310.500000   314.600006   292.518188   \n2013-09-16   318.750000   324.450012   314.500000   321.399994   298.840851   \n2013-09-17   319.000000   322.500000   316.799988   321.125000   298.585205   \n...                 ...          ...          ...          ...          ...   \n2023-11-07  1494.000000  1494.000000  1477.199951  1487.250000  1487.250000   \n2023-11-08  1483.949951  1493.449951  1481.000000  1491.550049  1491.550049   \n2023-11-09  1486.000000  1492.599976  1483.500000  1485.650024  1485.650024   \n2023-11-10  1480.099976  1496.000000  1480.050049  1491.500000  1491.500000   \n2023-11-13  1492.099976  1495.949951  1485.900024  1488.800049  1488.800049   \n\n              Volume  \nDate                  \n2013-09-11   6345196  \n2013-09-12   8838268  \n2013-09-13   7751560  \n2013-09-16   6069608  \n2013-09-17   4216044  \n...              ...  \n2023-11-07  20976424  \n2023-11-08  15699773  \n2023-11-09  11058370  \n2023-11-10   7007593  \n2023-11-13  10302957  \n\n[2509 rows x 6 columns]",
      "text/html": "<div>\n<style scoped>\n    .dataframe tbody tr th:only-of-type {\n        vertical-align: middle;\n    }\n\n    .dataframe tbody tr th {\n        vertical-align: top;\n    }\n\n    .dataframe thead th {\n        text-align: right;\n    }\n</style>\n<table border=\"1\" class=\"dataframe\">\n  <thead>\n    <tr style=\"text-align: right;\">\n      <th></th>\n      <th>Open</th>\n      <th>High</th>\n      <th>Low</th>\n      <th>hdfc</th>\n      <th>Adj Close</th>\n      <th>Volume</th>\n    </tr>\n    <tr>\n      <th>Date</th>\n      <th></th>\n      <th></th>\n      <th></th>\n      <th></th>\n      <th></th>\n      <th></th>\n    </tr>\n  </thead>\n  <tbody>\n    <tr>\n      <th>2013-09-11</th>\n      <td>316.500000</td>\n      <td>325.000000</td>\n      <td>312.774994</td>\n      <td>323.625000</td>\n      <td>300.909729</td>\n      <td>6345196</td>\n    </tr>\n    <tr>\n      <th>2013-09-12</th>\n      <td>321.250000</td>\n      <td>323.000000</td>\n      <td>313.799988</td>\n      <td>316.975006</td>\n      <td>294.726501</td>\n      <td>8838268</td>\n    </tr>\n    <tr>\n      <th>2013-09-13</th>\n      <td>316.225006</td>\n      <td>317.250000</td>\n      <td>310.500000</td>\n      <td>314.600006</td>\n      <td>292.518188</td>\n      <td>7751560</td>\n    </tr>\n    <tr>\n      <th>2013-09-16</th>\n      <td>318.750000</td>\n      <td>324.450012</td>\n      <td>314.500000</td>\n      <td>321.399994</td>\n      <td>298.840851</td>\n      <td>6069608</td>\n    </tr>\n    <tr>\n      <th>2013-09-17</th>\n      <td>319.000000</td>\n      <td>322.500000</td>\n      <td>316.799988</td>\n      <td>321.125000</td>\n      <td>298.585205</td>\n      <td>4216044</td>\n    </tr>\n    <tr>\n      <th>...</th>\n      <td>...</td>\n      <td>...</td>\n      <td>...</td>\n      <td>...</td>\n      <td>...</td>\n      <td>...</td>\n    </tr>\n    <tr>\n      <th>2023-11-07</th>\n      <td>1494.000000</td>\n      <td>1494.000000</td>\n      <td>1477.199951</td>\n      <td>1487.250000</td>\n      <td>1487.250000</td>\n      <td>20976424</td>\n    </tr>\n    <tr>\n      <th>2023-11-08</th>\n      <td>1483.949951</td>\n      <td>1493.449951</td>\n      <td>1481.000000</td>\n      <td>1491.550049</td>\n      <td>1491.550049</td>\n      <td>15699773</td>\n    </tr>\n    <tr>\n      <th>2023-11-09</th>\n      <td>1486.000000</td>\n      <td>1492.599976</td>\n      <td>1483.500000</td>\n      <td>1485.650024</td>\n      <td>1485.650024</td>\n      <td>11058370</td>\n    </tr>\n    <tr>\n      <th>2023-11-10</th>\n      <td>1480.099976</td>\n      <td>1496.000000</td>\n      <td>1480.050049</td>\n      <td>1491.500000</td>\n      <td>1491.500000</td>\n      <td>7007593</td>\n    </tr>\n    <tr>\n      <th>2023-11-13</th>\n      <td>1492.099976</td>\n      <td>1495.949951</td>\n      <td>1485.900024</td>\n      <td>1488.800049</td>\n      <td>1488.800049</td>\n      <td>10302957</td>\n    </tr>\n  </tbody>\n</table>\n<p>2509 rows × 6 columns</p>\n</div>"
     },
     "execution_count": 75,
     "metadata": {},
     "output_type": "execute_result"
    }
   ],
   "source": [
    "df_hdfc_d"
   ],
   "metadata": {
    "collapsed": false,
    "pycharm": {
     "name": "#%%\n"
    }
   }
  },
  {
   "cell_type": "code",
   "execution_count": 76,
   "outputs": [
    {
     "name": "stdout",
     "output_type": "stream",
     "text": [
      "[*********************100%%**********************]  1 of 1 completed\n"
     ]
    }
   ],
   "source": [
    "df_ongc_d=yf.download(\"ONGC.NS\",start=\"2013-09-11\",end=\"2023-11-15\",interval=\"1d\")"
   ],
   "metadata": {
    "collapsed": false,
    "pycharm": {
     "name": "#%%\n"
    }
   }
  },
  {
   "cell_type": "code",
   "execution_count": 77,
   "outputs": [
    {
     "data": {
      "text/plain": "                  Open        High         Low       Close   Adj Close  \\\nDate                                                                     \n2013-09-11  195.300003  195.466660  188.766663  192.866669  117.423248   \n2013-09-12  195.199997  195.333328  185.033340  185.966660  113.222290   \n2013-09-13  183.933334  189.733337  183.066666  188.466660  114.744339   \n2013-09-16  192.666672  196.199997  186.666672  191.466660  116.570831   \n2013-09-17  191.300003  192.333328  183.899994  186.466660  113.724670   \n...                ...         ...         ...         ...         ...   \n2023-11-07  193.399994  198.000000  192.350006  193.199997  187.585144   \n2023-11-08  193.699997  196.550003  192.300003  195.350006  189.672668   \n2023-11-09  196.500000  196.699997  192.199997  192.699997  187.099670   \n2023-11-10  192.699997  196.500000  192.699997  195.899994  190.206665   \n2023-11-13  195.899994  197.300003  194.100006  195.800003  190.109589   \n\n              Volume  \nDate                  \n2013-09-11   5722174  \n2013-09-12   4587094  \n2013-09-13   4640854  \n2013-09-16   3781701  \n2013-09-17   5367991  \n...              ...  \n2023-11-07  13921916  \n2023-11-08  10186886  \n2023-11-09   5303833  \n2023-11-10   6025889  \n2023-11-13  11181086  \n\n[2509 rows x 6 columns]",
      "text/html": "<div>\n<style scoped>\n    .dataframe tbody tr th:only-of-type {\n        vertical-align: middle;\n    }\n\n    .dataframe tbody tr th {\n        vertical-align: top;\n    }\n\n    .dataframe thead th {\n        text-align: right;\n    }\n</style>\n<table border=\"1\" class=\"dataframe\">\n  <thead>\n    <tr style=\"text-align: right;\">\n      <th></th>\n      <th>Open</th>\n      <th>High</th>\n      <th>Low</th>\n      <th>Close</th>\n      <th>Adj Close</th>\n      <th>Volume</th>\n    </tr>\n    <tr>\n      <th>Date</th>\n      <th></th>\n      <th></th>\n      <th></th>\n      <th></th>\n      <th></th>\n      <th></th>\n    </tr>\n  </thead>\n  <tbody>\n    <tr>\n      <th>2013-09-11</th>\n      <td>195.300003</td>\n      <td>195.466660</td>\n      <td>188.766663</td>\n      <td>192.866669</td>\n      <td>117.423248</td>\n      <td>5722174</td>\n    </tr>\n    <tr>\n      <th>2013-09-12</th>\n      <td>195.199997</td>\n      <td>195.333328</td>\n      <td>185.033340</td>\n      <td>185.966660</td>\n      <td>113.222290</td>\n      <td>4587094</td>\n    </tr>\n    <tr>\n      <th>2013-09-13</th>\n      <td>183.933334</td>\n      <td>189.733337</td>\n      <td>183.066666</td>\n      <td>188.466660</td>\n      <td>114.744339</td>\n      <td>4640854</td>\n    </tr>\n    <tr>\n      <th>2013-09-16</th>\n      <td>192.666672</td>\n      <td>196.199997</td>\n      <td>186.666672</td>\n      <td>191.466660</td>\n      <td>116.570831</td>\n      <td>3781701</td>\n    </tr>\n    <tr>\n      <th>2013-09-17</th>\n      <td>191.300003</td>\n      <td>192.333328</td>\n      <td>183.899994</td>\n      <td>186.466660</td>\n      <td>113.724670</td>\n      <td>5367991</td>\n    </tr>\n    <tr>\n      <th>...</th>\n      <td>...</td>\n      <td>...</td>\n      <td>...</td>\n      <td>...</td>\n      <td>...</td>\n      <td>...</td>\n    </tr>\n    <tr>\n      <th>2023-11-07</th>\n      <td>193.399994</td>\n      <td>198.000000</td>\n      <td>192.350006</td>\n      <td>193.199997</td>\n      <td>187.585144</td>\n      <td>13921916</td>\n    </tr>\n    <tr>\n      <th>2023-11-08</th>\n      <td>193.699997</td>\n      <td>196.550003</td>\n      <td>192.300003</td>\n      <td>195.350006</td>\n      <td>189.672668</td>\n      <td>10186886</td>\n    </tr>\n    <tr>\n      <th>2023-11-09</th>\n      <td>196.500000</td>\n      <td>196.699997</td>\n      <td>192.199997</td>\n      <td>192.699997</td>\n      <td>187.099670</td>\n      <td>5303833</td>\n    </tr>\n    <tr>\n      <th>2023-11-10</th>\n      <td>192.699997</td>\n      <td>196.500000</td>\n      <td>192.699997</td>\n      <td>195.899994</td>\n      <td>190.206665</td>\n      <td>6025889</td>\n    </tr>\n    <tr>\n      <th>2023-11-13</th>\n      <td>195.899994</td>\n      <td>197.300003</td>\n      <td>194.100006</td>\n      <td>195.800003</td>\n      <td>190.109589</td>\n      <td>11181086</td>\n    </tr>\n  </tbody>\n</table>\n<p>2509 rows × 6 columns</p>\n</div>"
     },
     "execution_count": 77,
     "metadata": {},
     "output_type": "execute_result"
    }
   ],
   "source": [
    "df_ongc_d"
   ],
   "metadata": {
    "collapsed": false,
    "pycharm": {
     "name": "#%%\n"
    }
   }
  },
  {
   "cell_type": "code",
   "execution_count": 79,
   "outputs": [],
   "source": [
    "df_ongc_d=df_ongc_d.rename(columns={\"Close\":\"ongc\"})"
   ],
   "metadata": {
    "collapsed": false,
    "pycharm": {
     "name": "#%%\n"
    }
   }
  },
  {
   "cell_type": "code",
   "execution_count": 78,
   "outputs": [],
   "source": [
    "df_ongc_d.to_csv('df_ongc_d.csv',index=False)"
   ],
   "metadata": {
    "collapsed": false,
    "pycharm": {
     "name": "#%%\n"
    }
   }
  },
  {
   "cell_type": "code",
   "execution_count": 80,
   "outputs": [
    {
     "data": {
      "text/plain": "                  Open        High         Low        ongc   Adj Close  \\\nDate                                                                     \n2013-09-11  195.300003  195.466660  188.766663  192.866669  117.423248   \n2013-09-12  195.199997  195.333328  185.033340  185.966660  113.222290   \n2013-09-13  183.933334  189.733337  183.066666  188.466660  114.744339   \n2013-09-16  192.666672  196.199997  186.666672  191.466660  116.570831   \n2013-09-17  191.300003  192.333328  183.899994  186.466660  113.724670   \n...                ...         ...         ...         ...         ...   \n2023-11-07  193.399994  198.000000  192.350006  193.199997  187.585144   \n2023-11-08  193.699997  196.550003  192.300003  195.350006  189.672668   \n2023-11-09  196.500000  196.699997  192.199997  192.699997  187.099670   \n2023-11-10  192.699997  196.500000  192.699997  195.899994  190.206665   \n2023-11-13  195.899994  197.300003  194.100006  195.800003  190.109589   \n\n              Volume  \nDate                  \n2013-09-11   5722174  \n2013-09-12   4587094  \n2013-09-13   4640854  \n2013-09-16   3781701  \n2013-09-17   5367991  \n...              ...  \n2023-11-07  13921916  \n2023-11-08  10186886  \n2023-11-09   5303833  \n2023-11-10   6025889  \n2023-11-13  11181086  \n\n[2509 rows x 6 columns]",
      "text/html": "<div>\n<style scoped>\n    .dataframe tbody tr th:only-of-type {\n        vertical-align: middle;\n    }\n\n    .dataframe tbody tr th {\n        vertical-align: top;\n    }\n\n    .dataframe thead th {\n        text-align: right;\n    }\n</style>\n<table border=\"1\" class=\"dataframe\">\n  <thead>\n    <tr style=\"text-align: right;\">\n      <th></th>\n      <th>Open</th>\n      <th>High</th>\n      <th>Low</th>\n      <th>ongc</th>\n      <th>Adj Close</th>\n      <th>Volume</th>\n    </tr>\n    <tr>\n      <th>Date</th>\n      <th></th>\n      <th></th>\n      <th></th>\n      <th></th>\n      <th></th>\n      <th></th>\n    </tr>\n  </thead>\n  <tbody>\n    <tr>\n      <th>2013-09-11</th>\n      <td>195.300003</td>\n      <td>195.466660</td>\n      <td>188.766663</td>\n      <td>192.866669</td>\n      <td>117.423248</td>\n      <td>5722174</td>\n    </tr>\n    <tr>\n      <th>2013-09-12</th>\n      <td>195.199997</td>\n      <td>195.333328</td>\n      <td>185.033340</td>\n      <td>185.966660</td>\n      <td>113.222290</td>\n      <td>4587094</td>\n    </tr>\n    <tr>\n      <th>2013-09-13</th>\n      <td>183.933334</td>\n      <td>189.733337</td>\n      <td>183.066666</td>\n      <td>188.466660</td>\n      <td>114.744339</td>\n      <td>4640854</td>\n    </tr>\n    <tr>\n      <th>2013-09-16</th>\n      <td>192.666672</td>\n      <td>196.199997</td>\n      <td>186.666672</td>\n      <td>191.466660</td>\n      <td>116.570831</td>\n      <td>3781701</td>\n    </tr>\n    <tr>\n      <th>2013-09-17</th>\n      <td>191.300003</td>\n      <td>192.333328</td>\n      <td>183.899994</td>\n      <td>186.466660</td>\n      <td>113.724670</td>\n      <td>5367991</td>\n    </tr>\n    <tr>\n      <th>...</th>\n      <td>...</td>\n      <td>...</td>\n      <td>...</td>\n      <td>...</td>\n      <td>...</td>\n      <td>...</td>\n    </tr>\n    <tr>\n      <th>2023-11-07</th>\n      <td>193.399994</td>\n      <td>198.000000</td>\n      <td>192.350006</td>\n      <td>193.199997</td>\n      <td>187.585144</td>\n      <td>13921916</td>\n    </tr>\n    <tr>\n      <th>2023-11-08</th>\n      <td>193.699997</td>\n      <td>196.550003</td>\n      <td>192.300003</td>\n      <td>195.350006</td>\n      <td>189.672668</td>\n      <td>10186886</td>\n    </tr>\n    <tr>\n      <th>2023-11-09</th>\n      <td>196.500000</td>\n      <td>196.699997</td>\n      <td>192.199997</td>\n      <td>192.699997</td>\n      <td>187.099670</td>\n      <td>5303833</td>\n    </tr>\n    <tr>\n      <th>2023-11-10</th>\n      <td>192.699997</td>\n      <td>196.500000</td>\n      <td>192.699997</td>\n      <td>195.899994</td>\n      <td>190.206665</td>\n      <td>6025889</td>\n    </tr>\n    <tr>\n      <th>2023-11-13</th>\n      <td>195.899994</td>\n      <td>197.300003</td>\n      <td>194.100006</td>\n      <td>195.800003</td>\n      <td>190.109589</td>\n      <td>11181086</td>\n    </tr>\n  </tbody>\n</table>\n<p>2509 rows × 6 columns</p>\n</div>"
     },
     "execution_count": 80,
     "metadata": {},
     "output_type": "execute_result"
    }
   ],
   "source": [
    "df_ongc_d"
   ],
   "metadata": {
    "collapsed": false,
    "pycharm": {
     "name": "#%%\n"
    }
   }
  },
  {
   "cell_type": "code",
   "execution_count": 81,
   "outputs": [],
   "source": [
    "result = pd.concat([df_tm_d[\"tm\"], df_bel_d[\"bel\"], df_nmdc_d[\"nmdc\"], df_hdfc_d[\"hdfc\"],df_ongc_d['ongc']], axis=1)"
   ],
   "metadata": {
    "collapsed": false,
    "pycharm": {
     "name": "#%%\n"
    }
   }
  },
  {
   "cell_type": "code",
   "execution_count": 82,
   "outputs": [
    {
     "data": {
      "text/plain": "                    tm         bel        nmdc         hdfc        ongc\nDate                                                                   \n2013-09-11  336.837097   12.101515  124.949997   323.625000  192.866669\n2013-09-12  329.911377   11.931818  123.650002   316.975006  185.966660\n2013-09-13  330.505005   11.915151  124.750000   314.600006  188.466660\n2013-09-16  327.833649   11.838888  123.250000   321.399994  191.466660\n2013-09-17  331.494385   11.650505  123.900002   321.125000  186.466660\n...                ...         ...         ...          ...         ...\n2023-11-07  645.000000  138.050003  163.050003  1487.250000  193.199997\n2023-11-08  642.549988  140.399994  162.399994  1491.550049  195.350006\n2023-11-09  649.349976  137.949997  163.050003  1485.650024  192.699997\n2023-11-10  651.049988  138.800003  168.699997  1491.500000  195.899994\n2023-11-13  653.250000  143.399994  175.250000  1488.800049  195.800003\n\n[2509 rows x 5 columns]",
      "text/html": "<div>\n<style scoped>\n    .dataframe tbody tr th:only-of-type {\n        vertical-align: middle;\n    }\n\n    .dataframe tbody tr th {\n        vertical-align: top;\n    }\n\n    .dataframe thead th {\n        text-align: right;\n    }\n</style>\n<table border=\"1\" class=\"dataframe\">\n  <thead>\n    <tr style=\"text-align: right;\">\n      <th></th>\n      <th>tm</th>\n      <th>bel</th>\n      <th>nmdc</th>\n      <th>hdfc</th>\n      <th>ongc</th>\n    </tr>\n    <tr>\n      <th>Date</th>\n      <th></th>\n      <th></th>\n      <th></th>\n      <th></th>\n      <th></th>\n    </tr>\n  </thead>\n  <tbody>\n    <tr>\n      <th>2013-09-11</th>\n      <td>336.837097</td>\n      <td>12.101515</td>\n      <td>124.949997</td>\n      <td>323.625000</td>\n      <td>192.866669</td>\n    </tr>\n    <tr>\n      <th>2013-09-12</th>\n      <td>329.911377</td>\n      <td>11.931818</td>\n      <td>123.650002</td>\n      <td>316.975006</td>\n      <td>185.966660</td>\n    </tr>\n    <tr>\n      <th>2013-09-13</th>\n      <td>330.505005</td>\n      <td>11.915151</td>\n      <td>124.750000</td>\n      <td>314.600006</td>\n      <td>188.466660</td>\n    </tr>\n    <tr>\n      <th>2013-09-16</th>\n      <td>327.833649</td>\n      <td>11.838888</td>\n      <td>123.250000</td>\n      <td>321.399994</td>\n      <td>191.466660</td>\n    </tr>\n    <tr>\n      <th>2013-09-17</th>\n      <td>331.494385</td>\n      <td>11.650505</td>\n      <td>123.900002</td>\n      <td>321.125000</td>\n      <td>186.466660</td>\n    </tr>\n    <tr>\n      <th>...</th>\n      <td>...</td>\n      <td>...</td>\n      <td>...</td>\n      <td>...</td>\n      <td>...</td>\n    </tr>\n    <tr>\n      <th>2023-11-07</th>\n      <td>645.000000</td>\n      <td>138.050003</td>\n      <td>163.050003</td>\n      <td>1487.250000</td>\n      <td>193.199997</td>\n    </tr>\n    <tr>\n      <th>2023-11-08</th>\n      <td>642.549988</td>\n      <td>140.399994</td>\n      <td>162.399994</td>\n      <td>1491.550049</td>\n      <td>195.350006</td>\n    </tr>\n    <tr>\n      <th>2023-11-09</th>\n      <td>649.349976</td>\n      <td>137.949997</td>\n      <td>163.050003</td>\n      <td>1485.650024</td>\n      <td>192.699997</td>\n    </tr>\n    <tr>\n      <th>2023-11-10</th>\n      <td>651.049988</td>\n      <td>138.800003</td>\n      <td>168.699997</td>\n      <td>1491.500000</td>\n      <td>195.899994</td>\n    </tr>\n    <tr>\n      <th>2023-11-13</th>\n      <td>653.250000</td>\n      <td>143.399994</td>\n      <td>175.250000</td>\n      <td>1488.800049</td>\n      <td>195.800003</td>\n    </tr>\n  </tbody>\n</table>\n<p>2509 rows × 5 columns</p>\n</div>"
     },
     "execution_count": 82,
     "metadata": {},
     "output_type": "execute_result"
    }
   ],
   "source": [
    "result"
   ],
   "metadata": {
    "collapsed": false,
    "pycharm": {
     "name": "#%%\n"
    }
   }
  },
  {
   "cell_type": "code",
   "execution_count": 83,
   "outputs": [
    {
     "data": {
      "text/plain": "(2509, 5)"
     },
     "execution_count": 83,
     "metadata": {},
     "output_type": "execute_result"
    }
   ],
   "source": [
    "result.shape"
   ],
   "metadata": {
    "collapsed": false,
    "pycharm": {
     "name": "#%%\n"
    }
   }
  },
  {
   "cell_type": "code",
   "execution_count": 84,
   "outputs": [],
   "source": [
    "from sklearn.preprocessing import StandardScaler"
   ],
   "metadata": {
    "collapsed": false,
    "pycharm": {
     "name": "#%%\n"
    }
   }
  },
  {
   "cell_type": "code",
   "execution_count": 85,
   "outputs": [
    {
     "data": {
      "text/plain": "StandardScaler()",
      "text/html": "<style>#sk-container-id-3 {color: black;background-color: white;}#sk-container-id-3 pre{padding: 0;}#sk-container-id-3 div.sk-toggleable {background-color: white;}#sk-container-id-3 label.sk-toggleable__label {cursor: pointer;display: block;width: 100%;margin-bottom: 0;padding: 0.3em;box-sizing: border-box;text-align: center;}#sk-container-id-3 label.sk-toggleable__label-arrow:before {content: \"▸\";float: left;margin-right: 0.25em;color: #696969;}#sk-container-id-3 label.sk-toggleable__label-arrow:hover:before {color: black;}#sk-container-id-3 div.sk-estimator:hover label.sk-toggleable__label-arrow:before {color: black;}#sk-container-id-3 div.sk-toggleable__content {max-height: 0;max-width: 0;overflow: hidden;text-align: left;background-color: #f0f8ff;}#sk-container-id-3 div.sk-toggleable__content pre {margin: 0.2em;color: black;border-radius: 0.25em;background-color: #f0f8ff;}#sk-container-id-3 input.sk-toggleable__control:checked~div.sk-toggleable__content {max-height: 200px;max-width: 100%;overflow: auto;}#sk-container-id-3 input.sk-toggleable__control:checked~label.sk-toggleable__label-arrow:before {content: \"▾\";}#sk-container-id-3 div.sk-estimator input.sk-toggleable__control:checked~label.sk-toggleable__label {background-color: #d4ebff;}#sk-container-id-3 div.sk-label input.sk-toggleable__control:checked~label.sk-toggleable__label {background-color: #d4ebff;}#sk-container-id-3 input.sk-hidden--visually {border: 0;clip: rect(1px 1px 1px 1px);clip: rect(1px, 1px, 1px, 1px);height: 1px;margin: -1px;overflow: hidden;padding: 0;position: absolute;width: 1px;}#sk-container-id-3 div.sk-estimator {font-family: monospace;background-color: #f0f8ff;border: 1px dotted black;border-radius: 0.25em;box-sizing: border-box;margin-bottom: 0.5em;}#sk-container-id-3 div.sk-estimator:hover {background-color: #d4ebff;}#sk-container-id-3 div.sk-parallel-item::after {content: \"\";width: 100%;border-bottom: 1px solid gray;flex-grow: 1;}#sk-container-id-3 div.sk-label:hover label.sk-toggleable__label {background-color: #d4ebff;}#sk-container-id-3 div.sk-serial::before {content: \"\";position: absolute;border-left: 1px solid gray;box-sizing: border-box;top: 0;bottom: 0;left: 50%;z-index: 0;}#sk-container-id-3 div.sk-serial {display: flex;flex-direction: column;align-items: center;background-color: white;padding-right: 0.2em;padding-left: 0.2em;position: relative;}#sk-container-id-3 div.sk-item {position: relative;z-index: 1;}#sk-container-id-3 div.sk-parallel {display: flex;align-items: stretch;justify-content: center;background-color: white;position: relative;}#sk-container-id-3 div.sk-item::before, #sk-container-id-3 div.sk-parallel-item::before {content: \"\";position: absolute;border-left: 1px solid gray;box-sizing: border-box;top: 0;bottom: 0;left: 50%;z-index: -1;}#sk-container-id-3 div.sk-parallel-item {display: flex;flex-direction: column;z-index: 1;position: relative;background-color: white;}#sk-container-id-3 div.sk-parallel-item:first-child::after {align-self: flex-end;width: 50%;}#sk-container-id-3 div.sk-parallel-item:last-child::after {align-self: flex-start;width: 50%;}#sk-container-id-3 div.sk-parallel-item:only-child::after {width: 0;}#sk-container-id-3 div.sk-dashed-wrapped {border: 1px dashed gray;margin: 0 0.4em 0.5em 0.4em;box-sizing: border-box;padding-bottom: 0.4em;background-color: white;}#sk-container-id-3 div.sk-label label {font-family: monospace;font-weight: bold;display: inline-block;line-height: 1.2em;}#sk-container-id-3 div.sk-label-container {text-align: center;}#sk-container-id-3 div.sk-container {/* jupyter's `normalize.less` sets `[hidden] { display: none; }` but bootstrap.min.css set `[hidden] { display: none !important; }` so we also need the `!important` here to be able to override the default hidden behavior on the sphinx rendered scikit-learn.org. See: https://github.com/scikit-learn/scikit-learn/issues/21755 */display: inline-block !important;position: relative;}#sk-container-id-3 div.sk-text-repr-fallback {display: none;}</style><div id=\"sk-container-id-3\" class=\"sk-top-container\"><div class=\"sk-text-repr-fallback\"><pre>StandardScaler()</pre><b>In a Jupyter environment, please rerun this cell to show the HTML representation or trust the notebook. <br />On GitHub, the HTML representation is unable to render, please try loading this page with nbviewer.org.</b></div><div class=\"sk-container\" hidden><div class=\"sk-item\"><div class=\"sk-estimator sk-toggleable\"><input class=\"sk-toggleable__control sk-hidden--visually\" id=\"sk-estimator-id-3\" type=\"checkbox\" checked><label for=\"sk-estimator-id-3\" class=\"sk-toggleable__label sk-toggleable__label-arrow\">StandardScaler</label><div class=\"sk-toggleable__content\"><pre>StandardScaler()</pre></div></div></div></div></div>"
     },
     "execution_count": 85,
     "metadata": {},
     "output_type": "execute_result"
    }
   ],
   "source": [
    "scaler=StandardScaler()\n",
    "scaler.fit(result)"
   ],
   "metadata": {
    "collapsed": false,
    "pycharm": {
     "name": "#%%\n"
    }
   }
  },
  {
   "cell_type": "code",
   "execution_count": 86,
   "outputs": [],
   "source": [
    "scaled_data=scaler.transform(result)"
   ],
   "metadata": {
    "collapsed": false,
    "pycharm": {
     "name": "#%%\n"
    }
   }
  },
  {
   "cell_type": "code",
   "execution_count": 87,
   "outputs": [
    {
     "data": {
      "text/plain": "array([[-0.20681054, -1.24719272,  0.13109738, -1.57242739,  0.69758548],\n       [-0.25619882, -1.25299383,  0.07987133, -1.58806476,  0.54463587],\n       [-0.25196558, -1.2535636 ,  0.12321655, -1.59364954,  0.60005232],\n       ...,\n       [ 2.02176272,  3.05494996,  1.63242027,  1.1600587 ,  0.69389094],\n       [ 2.03388575,  3.0840075 ,  1.85505712,  1.17381484,  0.76482393],\n       [ 2.04957434,  3.24125864,  2.11315864,  1.16746594,  0.76260747]])"
     },
     "execution_count": 87,
     "metadata": {},
     "output_type": "execute_result"
    }
   ],
   "source": [
    "scaled_data"
   ],
   "metadata": {
    "collapsed": false,
    "pycharm": {
     "name": "#%%\n"
    }
   }
  },
  {
   "cell_type": "code",
   "execution_count": 88,
   "outputs": [],
   "source": [
    "from sklearn.decomposition import PCA"
   ],
   "metadata": {
    "collapsed": false,
    "pycharm": {
     "name": "#%%\n"
    }
   }
  },
  {
   "cell_type": "code",
   "execution_count": 97,
   "outputs": [],
   "source": [
    "pca=PCA(n_components=2)"
   ],
   "metadata": {
    "collapsed": false,
    "pycharm": {
     "name": "#%%\n"
    }
   }
  },
  {
   "cell_type": "code",
   "execution_count": 98,
   "outputs": [
    {
     "data": {
      "text/plain": "PCA(n_components=2)",
      "text/html": "<style>#sk-container-id-5 {color: black;background-color: white;}#sk-container-id-5 pre{padding: 0;}#sk-container-id-5 div.sk-toggleable {background-color: white;}#sk-container-id-5 label.sk-toggleable__label {cursor: pointer;display: block;width: 100%;margin-bottom: 0;padding: 0.3em;box-sizing: border-box;text-align: center;}#sk-container-id-5 label.sk-toggleable__label-arrow:before {content: \"▸\";float: left;margin-right: 0.25em;color: #696969;}#sk-container-id-5 label.sk-toggleable__label-arrow:hover:before {color: black;}#sk-container-id-5 div.sk-estimator:hover label.sk-toggleable__label-arrow:before {color: black;}#sk-container-id-5 div.sk-toggleable__content {max-height: 0;max-width: 0;overflow: hidden;text-align: left;background-color: #f0f8ff;}#sk-container-id-5 div.sk-toggleable__content pre {margin: 0.2em;color: black;border-radius: 0.25em;background-color: #f0f8ff;}#sk-container-id-5 input.sk-toggleable__control:checked~div.sk-toggleable__content {max-height: 200px;max-width: 100%;overflow: auto;}#sk-container-id-5 input.sk-toggleable__control:checked~label.sk-toggleable__label-arrow:before {content: \"▾\";}#sk-container-id-5 div.sk-estimator input.sk-toggleable__control:checked~label.sk-toggleable__label {background-color: #d4ebff;}#sk-container-id-5 div.sk-label input.sk-toggleable__control:checked~label.sk-toggleable__label {background-color: #d4ebff;}#sk-container-id-5 input.sk-hidden--visually {border: 0;clip: rect(1px 1px 1px 1px);clip: rect(1px, 1px, 1px, 1px);height: 1px;margin: -1px;overflow: hidden;padding: 0;position: absolute;width: 1px;}#sk-container-id-5 div.sk-estimator {font-family: monospace;background-color: #f0f8ff;border: 1px dotted black;border-radius: 0.25em;box-sizing: border-box;margin-bottom: 0.5em;}#sk-container-id-5 div.sk-estimator:hover {background-color: #d4ebff;}#sk-container-id-5 div.sk-parallel-item::after {content: \"\";width: 100%;border-bottom: 1px solid gray;flex-grow: 1;}#sk-container-id-5 div.sk-label:hover label.sk-toggleable__label {background-color: #d4ebff;}#sk-container-id-5 div.sk-serial::before {content: \"\";position: absolute;border-left: 1px solid gray;box-sizing: border-box;top: 0;bottom: 0;left: 50%;z-index: 0;}#sk-container-id-5 div.sk-serial {display: flex;flex-direction: column;align-items: center;background-color: white;padding-right: 0.2em;padding-left: 0.2em;position: relative;}#sk-container-id-5 div.sk-item {position: relative;z-index: 1;}#sk-container-id-5 div.sk-parallel {display: flex;align-items: stretch;justify-content: center;background-color: white;position: relative;}#sk-container-id-5 div.sk-item::before, #sk-container-id-5 div.sk-parallel-item::before {content: \"\";position: absolute;border-left: 1px solid gray;box-sizing: border-box;top: 0;bottom: 0;left: 50%;z-index: -1;}#sk-container-id-5 div.sk-parallel-item {display: flex;flex-direction: column;z-index: 1;position: relative;background-color: white;}#sk-container-id-5 div.sk-parallel-item:first-child::after {align-self: flex-end;width: 50%;}#sk-container-id-5 div.sk-parallel-item:last-child::after {align-self: flex-start;width: 50%;}#sk-container-id-5 div.sk-parallel-item:only-child::after {width: 0;}#sk-container-id-5 div.sk-dashed-wrapped {border: 1px dashed gray;margin: 0 0.4em 0.5em 0.4em;box-sizing: border-box;padding-bottom: 0.4em;background-color: white;}#sk-container-id-5 div.sk-label label {font-family: monospace;font-weight: bold;display: inline-block;line-height: 1.2em;}#sk-container-id-5 div.sk-label-container {text-align: center;}#sk-container-id-5 div.sk-container {/* jupyter's `normalize.less` sets `[hidden] { display: none; }` but bootstrap.min.css set `[hidden] { display: none !important; }` so we also need the `!important` here to be able to override the default hidden behavior on the sphinx rendered scikit-learn.org. See: https://github.com/scikit-learn/scikit-learn/issues/21755 */display: inline-block !important;position: relative;}#sk-container-id-5 div.sk-text-repr-fallback {display: none;}</style><div id=\"sk-container-id-5\" class=\"sk-top-container\"><div class=\"sk-text-repr-fallback\"><pre>PCA(n_components=2)</pre><b>In a Jupyter environment, please rerun this cell to show the HTML representation or trust the notebook. <br />On GitHub, the HTML representation is unable to render, please try loading this page with nbviewer.org.</b></div><div class=\"sk-container\" hidden><div class=\"sk-item\"><div class=\"sk-estimator sk-toggleable\"><input class=\"sk-toggleable__control sk-hidden--visually\" id=\"sk-estimator-id-5\" type=\"checkbox\" checked><label for=\"sk-estimator-id-5\" class=\"sk-toggleable__label sk-toggleable__label-arrow\">PCA</label><div class=\"sk-toggleable__content\"><pre>PCA(n_components=2)</pre></div></div></div></div></div>"
     },
     "execution_count": 98,
     "metadata": {},
     "output_type": "execute_result"
    }
   ],
   "source": [
    "pca.fit(scaled_data)"
   ],
   "metadata": {
    "collapsed": false,
    "pycharm": {
     "name": "#%%\n"
    }
   }
  },
  {
   "cell_type": "code",
   "execution_count": 99,
   "outputs": [],
   "source": [
    "x_pca=pca.transform(scaled_data)"
   ],
   "metadata": {
    "collapsed": false,
    "pycharm": {
     "name": "#%%\n"
    }
   }
  },
  {
   "cell_type": "code",
   "execution_count": 100,
   "outputs": [
    {
     "data": {
      "text/plain": "(2509, 5)"
     },
     "execution_count": 100,
     "metadata": {},
     "output_type": "execute_result"
    }
   ],
   "source": [
    "scaled_data.shape"
   ],
   "metadata": {
    "collapsed": false,
    "pycharm": {
     "name": "#%%\n"
    }
   }
  },
  {
   "cell_type": "code",
   "execution_count": 101,
   "outputs": [
    {
     "data": {
      "text/plain": "(2509, 2)"
     },
     "execution_count": 101,
     "metadata": {},
     "output_type": "execute_result"
    }
   ],
   "source": [
    "x_pca.shape"
   ],
   "metadata": {
    "collapsed": false,
    "pycharm": {
     "name": "#%%\n"
    }
   }
  },
  {
   "cell_type": "code",
   "execution_count": 102,
   "outputs": [
    {
     "data": {
      "text/plain": "array([[-0.20681054, -1.24719272,  0.13109738, -1.57242739,  0.69758548],\n       [-0.25619882, -1.25299383,  0.07987133, -1.58806476,  0.54463587],\n       [-0.25196558, -1.2535636 ,  0.12321655, -1.59364954,  0.60005232],\n       ...,\n       [ 2.02176272,  3.05494996,  1.63242027,  1.1600587 ,  0.69389094],\n       [ 2.03388575,  3.0840075 ,  1.85505712,  1.17381484,  0.76482393],\n       [ 2.04957434,  3.24125864,  2.11315864,  1.16746594,  0.76260747]])"
     },
     "execution_count": 102,
     "metadata": {},
     "output_type": "execute_result"
    }
   ],
   "source": [
    "scaled_data"
   ],
   "metadata": {
    "collapsed": false,
    "pycharm": {
     "name": "#%%\n"
    }
   }
  },
  {
   "cell_type": "code",
   "execution_count": 103,
   "outputs": [
    {
     "data": {
      "text/plain": "array([[ 0.88191132, -1.93725653],\n       [ 0.74118289, -1.95860204],\n       [ 0.80056774, -1.95900256],\n       ...,\n       [ 1.92963539,  3.70644506],\n       [ 2.08408247,  3.77368363],\n       [ 2.21885416,  3.93497156]])"
     },
     "execution_count": 103,
     "metadata": {},
     "output_type": "execute_result"
    }
   ],
   "source": [
    "x_pca"
   ],
   "metadata": {
    "collapsed": false,
    "pycharm": {
     "name": "#%%\n"
    }
   }
  },
  {
   "cell_type": "code",
   "execution_count": 104,
   "outputs": [
    {
     "data": {
      "text/plain": "Text(0, 0.5, 'Second principle component')"
     },
     "execution_count": 104,
     "metadata": {},
     "output_type": "execute_result"
    },
    {
     "data": {
      "text/plain": "<Figure size 800x600 with 1 Axes>",
      "image/png": "[encoded data removed]"
     },
     "metadata": {},
     "output_type": "display_data"
    }
   ],
   "source": [
    "plt.figure(figsize=(8,6))\n",
    "plt.scatter(x_pca[:,0],x_pca[:,1],c=result['hdfc'])\n",
    "plt.xlabel('First principle component')\n",
    "plt.ylabel('Second principle component')"
   ],
   "metadata": {
    "collapsed": false,
    "pycharm": {
     "name": "#%%\n"
    }
   }
  },
  {
   "cell_type": "code",
   "execution_count": null,
   "outputs": [],
   "source": [],
   "metadata": {
    "collapsed": false,
    "pycharm": {
     "name": "#%%\n"
    }
   }
  }
 ],
 "metadata": {
  "kernelspec": {
   "display_name": "Python 3",
   "language": "python",
   "name": "python3"
  },
  "language_info": {
   "codemirror_mode": {
    "name": "ipython",
    "version": 2
   },
   "file_extension": ".py",
   "mimetype": "text/x-python",
   "name": "python",
   "nbconvert_exporter": "python",
   "pygments_lexer": "ipython2",
   "version": "2.7.6"
  }
 },
 "nbformat": 4,
 "nbformat_minor": 0
}