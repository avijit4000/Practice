{
 "cells": [
  {
   "cell_type": "code",
   "execution_count": 1,
   "metadata": {
    "collapsed": true,
    "pycharm": {
     "name": "#%%\n"
    }
   },
   "outputs": [],
   "source": [
    "from nselib import capital_market as cm"
   ]
  },
  {
   "cell_type": "code",
   "execution_count": 2,
   "outputs": [],
   "source": [
    "data=cm.bhav_copy_equities(\"01-07-2024\")"
   ],
   "metadata": {
    "collapsed": false,
    "pycharm": {
     "name": "#%%\n"
    }
   }
  },
  {
   "cell_type": "code",
   "execution_count": null,
   "outputs": [],
   "source": [],
   "metadata": {
    "collapsed": false,
    "pycharm": {
     "name": "#%%\n"
    }
   }
  },
  {
   "cell_type": "code",
   "execution_count": 3,
   "outputs": [
    {
     "data": {
      "text/plain": "          SYMBOL SERIES     OPEN     HIGH      LOW    CLOSE     LAST  \\\n0     1003IIFL29     NC  1010.00  1010.00  1010.00  1010.00  1010.00   \n1     1003ISFL28     N4   978.00   999.50   965.00   999.50   999.50   \n2      1015ECL29     NR  1004.00  1005.00   998.50  1001.50  1001.50   \n3     1015IHF28B     AZ  1030.10  1030.10  1030.10  1030.10  1030.10   \n4     1018GS2026     GS   115.00   115.00   114.00   115.00   115.00   \n...          ...    ...      ...      ...      ...      ...      ...   \n2832       ZTECH     SM   235.25   235.25   235.25   235.25   235.25   \n2833       ZUARI     EQ   227.00   230.40   224.26   227.26   226.80   \n2834    ZUARIIND     EQ   393.85   410.85   387.20   399.55   401.00   \n2835   ZYDUSLIFE     EQ  1093.35  1096.70  1060.05  1067.30  1067.90   \n2836   ZYDUSWELL     EQ  1795.00  1885.10  1791.00  1866.05  1867.00   \n\n      PREVCLOSE  TOTTRDQTY     TOTTRDVAL    TIMESTAMP  TOTALTRADES  \n0        948.91          1  1.010000e+03  01-JUL-2024            1  \n1       1010.00       1177  1.159074e+06  01-JUL-2024           54  \n2       1003.90        565  5.660201e+05  01-JUL-2024           20  \n3       1025.10          5  5.150500e+03  01-JUL-2024            1  \n4        115.00      22002  2.530029e+06  01-JUL-2024            5  \n...         ...        ...           ...          ...          ...  \n2832     224.05      60000  1.411500e+07  01-JUL-2024           44  \n2833     223.49     588000  1.335670e+08  01-JUL-2024        14108  \n2834     397.40     702819  2.808840e+08  01-JUL-2024        27894  \n2835    1073.95    1910647  2.043782e+09  01-JUL-2024        67848  \n2836    1786.00      44988  8.368004e+07  01-JUL-2024         6795  \n\n[2837 rows x 12 columns]",
      "text/html": "<div>\n<style scoped>\n    .dataframe tbody tr th:only-of-type {\n        vertical-align: middle;\n    }\n\n    .dataframe tbody tr th {\n        vertical-align: top;\n    }\n\n    .dataframe thead th {\n        text-align: right;\n    }\n</style>\n<table border=\"1\" class=\"dataframe\">\n  <thead>\n    <tr style=\"text-align: right;\">\n      <th></th>\n      <th>SYMBOL</th>\n      <th>SERIES</th>\n      <th>OPEN</th>\n      <th>HIGH</th>\n      <th>LOW</th>\n      <th>CLOSE</th>\n      <th>LAST</th>\n      <th>PREVCLOSE</th>\n      <th>TOTTRDQTY</th>\n      <th>TOTTRDVAL</th>\n      <th>TIMESTAMP</th>\n      <th>TOTALTRADES</th>\n    </tr>\n  </thead>\n  <tbody>\n    <tr>\n      <th>0</th>\n      <td>1003IIFL29</td>\n      <td>NC</td>\n      <td>1010.00</td>\n      <td>1010.00</td>\n      <td>1010.00</td>\n      <td>1010.00</td>\n      <td>1010.00</td>\n      <td>948.91</td>\n      <td>1</td>\n      <td>1.010000e+03</td>\n      <td>01-JUL-2024</td>\n      <td>1</td>\n    </tr>\n    <tr>\n      <th>1</th>\n      <td>1003ISFL28</td>\n      <td>N4</td>\n      <td>978.00</td>\n      <td>999.50</td>\n      <td>965.00</td>\n      <td>999.50</td>\n      <td>999.50</td>\n      <td>1010.00</td>\n      <td>1177</td>\n      <td>1.159074e+06</td>\n      <td>01-JUL-2024</td>\n      <td>54</td>\n    </tr>\n    <tr>\n      <th>2</th>\n      <td>1015ECL29</td>\n      <td>NR</td>\n      <td>1004.00</td>\n      <td>1005.00</td>\n      <td>998.50</td>\n      <td>1001.50</td>\n      <td>1001.50</td>\n      <td>1003.90</td>\n      <td>565</td>\n      <td>5.660201e+05</td>\n      <td>01-JUL-2024</td>\n      <td>20</td>\n    </tr>\n    <tr>\n      <th>3</th>\n      <td>1015IHF28B</td>\n      <td>AZ</td>\n      <td>1030.10</td>\n      <td>1030.10</td>\n      <td>1030.10</td>\n      <td>1030.10</td>\n      <td>1030.10</td>\n      <td>1025.10</td>\n      <td>5</td>\n      <td>5.150500e+03</td>\n      <td>01-JUL-2024</td>\n      <td>1</td>\n    </tr>\n    <tr>\n      <th>4</th>\n      <td>1018GS2026</td>\n      <td>GS</td>\n      <td>115.00</td>\n      <td>115.00</td>\n      <td>114.00</td>\n      <td>115.00</td>\n      <td>115.00</td>\n      <td>115.00</td>\n      <td>22002</td>\n      <td>2.530029e+06</td>\n      <td>01-JUL-2024</td>\n      <td>5</td>\n    </tr>\n    <tr>\n      <th>...</th>\n      <td>...</td>\n      <td>...</td>\n      <td>...</td>\n      <td>...</td>\n      <td>...</td>\n      <td>...</td>\n      <td>...</td>\n      <td>...</td>\n      <td>...</td>\n      <td>...</td>\n      <td>...</td>\n      <td>...</td>\n    </tr>\n    <tr>\n      <th>2832</th>\n      <td>ZTECH</td>\n      <td>SM</td>\n      <td>235.25</td>\n      <td>235.25</td>\n      <td>235.25</td>\n      <td>235.25</td>\n      <td>235.25</td>\n      <td>224.05</td>\n      <td>60000</td>\n      <td>1.411500e+07</td>\n      <td>01-JUL-2024</td>\n      <td>44</td>\n    </tr>\n    <tr>\n      <th>2833</th>\n      <td>ZUARI</td>\n      <td>EQ</td>\n      <td>227.00</td>\n      <td>230.40</td>\n      <td>224.26</td>\n      <td>227.26</td>\n      <td>226.80</td>\n      <td>223.49</td>\n      <td>588000</td>\n      <td>1.335670e+08</td>\n      <td>01-JUL-2024</td>\n      <td>14108</td>\n    </tr>\n    <tr>\n      <th>2834</th>\n      <td>ZUARIIND</td>\n      <td>EQ</td>\n      <td>393.85</td>\n      <td>410.85</td>\n      <td>387.20</td>\n      <td>399.55</td>\n      <td>401.00</td>\n      <td>397.40</td>\n      <td>702819</td>\n      <td>2.808840e+08</td>\n      <td>01-JUL-2024</td>\n      <td>27894</td>\n    </tr>\n    <tr>\n      <th>2835</th>\n      <td>ZYDUSLIFE</td>\n      <td>EQ</td>\n      <td>1093.35</td>\n      <td>1096.70</td>\n      <td>1060.05</td>\n      <td>1067.30</td>\n      <td>1067.90</td>\n      <td>1073.95</td>\n      <td>1910647</td>\n      <td>2.043782e+09</td>\n      <td>01-JUL-2024</td>\n      <td>67848</td>\n    </tr>\n    <tr>\n      <th>2836</th>\n      <td>ZYDUSWELL</td>\n      <td>EQ</td>\n      <td>1795.00</td>\n      <td>1885.10</td>\n      <td>1791.00</td>\n      <td>1866.05</td>\n      <td>1867.00</td>\n      <td>1786.00</td>\n      <td>44988</td>\n      <td>8.368004e+07</td>\n      <td>01-JUL-2024</td>\n      <td>6795</td>\n    </tr>\n  </tbody>\n</table>\n<p>2837 rows × 12 columns</p>\n</div>"
     },
     "execution_count": 3,
     "metadata": {},
     "output_type": "execute_result"
    }
   ],
   "source": [
    "data"
   ],
   "metadata": {
    "collapsed": false,
    "pycharm": {
     "name": "#%%\n"
    }
   }
  },
  {
   "cell_type": "code",
   "execution_count": 1,
   "outputs": [
    {
     "name": "stdout",
     "output_type": "stream",
     "text": [
      "avijit\n"
     ]
    }
   ],
   "source": [
    "print(\"avijit\")"
   ],
   "metadata": {
    "collapsed": false,
    "pycharm": {
     "name": "#%%\n"
    }
   }
  },
  {
   "cell_type": "code",
   "execution_count": 2,
   "outputs": [],
   "source": [
    "import pandas as pd"
   ],
   "metadata": {
    "collapsed": false,
    "pycharm": {
     "name": "#%%\n"
    }
   }
  },
  {
   "cell_type": "code",
   "execution_count": 18,
   "outputs": [],
   "source": [
    "df=pd.read_csv(\"D:\\Downloads\\Descriptive stats.csv\")"
   ],
   "metadata": {
    "collapsed": false,
    "pycharm": {
     "name": "#%%\n"
    }
   }
  },
  {
   "cell_type": "code",
   "execution_count": 19,
   "outputs": [
    {
     "data": {
      "text/plain": "          Date     Index\n0    01-Jan-20  41306.02\n1    02-Jan-20  41626.64\n2    03-Jan-20  41464.61\n3    06-Jan-20  40676.63\n4    07-Jan-20  40869.47\n..         ...       ...\n495  27-Dec-21  57420.24\n496  28-Dec-21  57897.48\n497  29-Dec-21  57806.49\n498  30-Dec-21  57794.32\n499  31-Dec-21  58253.82\n\n[500 rows x 2 columns]",
      "text/html": "<div>\n<style scoped>\n    .dataframe tbody tr th:only-of-type {\n        vertical-align: middle;\n    }\n\n    .dataframe tbody tr th {\n        vertical-align: top;\n    }\n\n    .dataframe thead th {\n        text-align: right;\n    }\n</style>\n<table border=\"1\" class=\"dataframe\">\n  <thead>\n    <tr style=\"text-align: right;\">\n      <th></th>\n      <th>Date</th>\n      <th>Index</th>\n    </tr>\n  </thead>\n  <tbody>\n    <tr>\n      <th>0</th>\n      <td>01-Jan-20</td>\n      <td>41306.02</td>\n    </tr>\n    <tr>\n      <th>1</th>\n      <td>02-Jan-20</td>\n      <td>41626.64</td>\n    </tr>\n    <tr>\n      <th>2</th>\n      <td>03-Jan-20</td>\n      <td>41464.61</td>\n    </tr>\n    <tr>\n      <th>3</th>\n      <td>06-Jan-20</td>\n      <td>40676.63</td>\n    </tr>\n    <tr>\n      <th>4</th>\n      <td>07-Jan-20</td>\n      <td>40869.47</td>\n    </tr>\n    <tr>\n      <th>...</th>\n      <td>...</td>\n      <td>...</td>\n    </tr>\n    <tr>\n      <th>495</th>\n      <td>27-Dec-21</td>\n      <td>57420.24</td>\n    </tr>\n    <tr>\n      <th>496</th>\n      <td>28-Dec-21</td>\n      <td>57897.48</td>\n    </tr>\n    <tr>\n      <th>497</th>\n      <td>29-Dec-21</td>\n      <td>57806.49</td>\n    </tr>\n    <tr>\n      <th>498</th>\n      <td>30-Dec-21</td>\n      <td>57794.32</td>\n    </tr>\n    <tr>\n      <th>499</th>\n      <td>31-Dec-21</td>\n      <td>58253.82</td>\n    </tr>\n  </tbody>\n</table>\n<p>500 rows × 2 columns</p>\n</div>"
     },
     "execution_count": 19,
     "metadata": {},
     "output_type": "execute_result"
    }
   ],
   "source": [
    "df"
   ],
   "metadata": {
    "collapsed": false,
    "pycharm": {
     "name": "#%%\n"
    }
   }
  },
  {
   "cell_type": "code",
   "execution_count": 20,
   "outputs": [],
   "source": [
    "import matplotlib.pyplot as plt"
   ],
   "metadata": {
    "collapsed": false,
    "pycharm": {
     "name": "#%%\n"
    }
   }
  },
  {
   "cell_type": "code",
   "execution_count": 22,
   "outputs": [
    {
     "data": {
      "text/plain": "[<matplotlib.lines.Line2D at 0x13f82169390>]"
     },
     "execution_count": 22,
     "metadata": {},
     "output_type": "execute_result"
    },
    {
     "data": {
      "text/plain": "<Figure size 640x480 with 1 Axes>",
      "image/png": "[encoded data removed]"
     },
     "metadata": {},
     "output_type": "display_data"
    }
   ],
   "source": [
    "plt.plot(df[\"Index\"])"
   ],
   "metadata": {
    "collapsed": false,
    "pycharm": {
     "name": "#%%\n"
    }
   }
  },
  {
   "cell_type": "code",
   "execution_count": 25,
   "outputs": [
    {
     "data": {
      "text/plain": "[<matplotlib.lines.Line2D at 0x13f845aaa10>]"
     },
     "execution_count": 25,
     "metadata": {},
     "output_type": "execute_result"
    },
    {
     "data": {
      "text/plain": "<Figure size 640x480 with 1 Axes>",
      "image/png": "[encoded data removed]"
     },
     "metadata": {},
     "output_type": "display_data"
    }
   ],
   "source": [
    "plt.plot(df[\"Index\"].pct_change())"
   ],
   "metadata": {
    "collapsed": false,
    "pycharm": {
     "name": "#%%\n"
    }
   }
  },
  {
   "cell_type": "code",
   "execution_count": 16,
   "outputs": [],
   "source": [
    "import seaborn as sns"
   ],
   "metadata": {
    "collapsed": false,
    "pycharm": {
     "name": "#%%\n"
    }
   }
  },
  {
   "cell_type": "code",
   "execution_count": 24,
   "outputs": [
    {
     "data": {
      "text/plain": "9123.278101950871"
     },
     "execution_count": 24,
     "metadata": {},
     "output_type": "execute_result"
    }
   ],
   "source": [
    "df[\"Index\"].std()"
   ],
   "metadata": {
    "collapsed": false,
    "pycharm": {
     "name": "#%%\n"
    }
   }
  },
  {
   "cell_type": "code",
   "execution_count": 1,
   "outputs": [],
   "source": [
    "import pandas as pd"
   ],
   "metadata": {
    "collapsed": false,
    "pycharm": {
     "name": "#%%\n"
    }
   }
  },
  {
   "cell_type": "code",
   "execution_count": 2,
   "outputs": [],
   "source": [
    "df=pd.read_csv(r\"D:\\Pyn\\MSDSM\\Semester_3\\PAR\\regression\\Mission_Hospital.csv\")"
   ],
   "metadata": {
    "collapsed": false,
    "pycharm": {
     "name": "#%%\n"
    }
   }
  },
  {
   "cell_type": "code",
   "execution_count": 3,
   "outputs": [
    {
     "data": {
      "text/plain": "     SL.   AGE GENDER MARITAL_STATUS KEY_COMPLAINTS _CODE  BODY_WEIGHT  \\\n0      1  58.0      M        MARRIED         other- heart           49   \n1      2  59.0      M        MARRIED              CAD-DVD           41   \n2      3  82.0      M        MARRIED              CAD-TVD           47   \n3      4  46.0      M        MARRIED              CAD-DVD           80   \n4      5  60.0      M        MARRIED              CAD-DVD           58   \n..   ...   ...    ...            ...                  ...          ...   \n243  244  51.0      M        MARRIED         other- heart           69   \n244  245  58.0      M        MARRIED              CAD-TVD           57   \n245  246  44.0      M        MARRIED              CAD-TVD           58   \n246  247  60.0      M        MARRIED         other- heart           65   \n247  248  30.0      M        MARRIED                  RHD           71   \n\n     BODY_HEIGHT  HR_PULSE  BP_HIGH  BP_LOW  ...  TYPE_OF_ADMSN  \\\n0            160       118    100.0    80.0  ...      EMERGENCY   \n1            155        78     70.0    50.0  ...      EMERGENCY   \n2            164       100    110.0    80.0  ...       ELECTIVE   \n3            173       122    110.0    80.0  ...      EMERGENCY   \n4            175        72    180.0   100.0  ...      EMERGENCY   \n..           ...       ...      ...     ...  ...            ...   \n243          176        62    130.0    90.0  ...       ELECTIVE   \n244          159        58    100.0    70.0  ...       ELECTIVE   \n245          159        68    150.0    90.0  ...       ELECTIVE   \n246          165        98    100.0    60.0  ...      EMERGENCY   \n247          180        87    130.0    40.0  ...       ELECTIVE   \n\n    TOTAL_COST_TO_HOSPITAL   TOTAL AMOUNT BILLEDTO THE PATIENT  CONCESSION  \\\n0                  660293.0                             474901           0   \n1                  809130.0                             944819       96422   \n2                  362231.0                             390000       30000   \n3                  629990.0                             324910           0   \n4                  444876.0                             254673       10000   \n..                      ...                                ...         ...   \n243                295155.0                             197000           0   \n244                200321.0                             220000           0   \n245                191188.0                             150000       10000   \n246                202807.0                             229920       10000   \n247                248112.0                             185000           0   \n\n     ACTUAL RECEIVABLE AMOUNT TOTAL LENGTH OF STAY LENGTH OF STAY - ICU  \\\n0                      474901                   25                   12   \n1                      848397                   41                   20   \n2                      360000                   18                    9   \n3                      324910                   14                   13   \n4                      244673                   24                   12   \n..                        ...                  ...                  ...   \n243                    197000                   10                    3   \n244                    220000                   11                    2   \n245                    140000                   13                    5   \n246                    219920                    9                    6   \n247                    185000                   10                    4   \n\n    LENGTH OF STAY- WARD  IMPLANT USED (Y/N)  COST OF IMPLANT  \n0                     13                   Y            38000  \n1                     21                   Y            39690  \n2                      9                   N                0  \n3                      1                   Y            89450  \n4                     12                   N                0  \n..                   ...                 ...              ...  \n243                    7                   Y            35000  \n244                    9                   Y            26000  \n245                    8                   N                0  \n246                    3                   N                0  \n247                    6                   Y            41800  \n\n[248 rows x 27 columns]",
      "text/html": "<div>\n<style scoped>\n    .dataframe tbody tr th:only-of-type {\n        vertical-align: middle;\n    }\n\n    .dataframe tbody tr th {\n        vertical-align: top;\n    }\n\n    .dataframe thead th {\n        text-align: right;\n    }\n</style>\n<table border=\"1\" class=\"dataframe\">\n  <thead>\n    <tr style=\"text-align: right;\">\n      <th></th>\n      <th>SL.</th>\n      <th>AGE</th>\n      <th>GENDER</th>\n      <th>MARITAL_STATUS</th>\n      <th>KEY_COMPLAINTS _CODE</th>\n      <th>BODY_WEIGHT</th>\n      <th>BODY_HEIGHT</th>\n      <th>HR_PULSE</th>\n      <th>BP_HIGH</th>\n      <th>BP_LOW</th>\n      <th>...</th>\n      <th>TYPE_OF_ADMSN</th>\n      <th>TOTAL_COST_TO_HOSPITAL</th>\n      <th>TOTAL AMOUNT BILLEDTO THE PATIENT</th>\n      <th>CONCESSION</th>\n      <th>ACTUAL RECEIVABLE AMOUNT</th>\n      <th>TOTAL LENGTH OF STAY</th>\n      <th>LENGTH OF STAY - ICU</th>\n      <th>LENGTH OF STAY- WARD</th>\n      <th>IMPLANT USED (Y/N)</th>\n      <th>COST OF IMPLANT</th>\n    </tr>\n  </thead>\n  <tbody>\n    <tr>\n      <th>0</th>\n      <td>1</td>\n      <td>58.0</td>\n      <td>M</td>\n      <td>MARRIED</td>\n      <td>other- heart</td>\n      <td>49</td>\n      <td>160</td>\n      <td>118</td>\n      <td>100.0</td>\n      <td>80.0</td>\n      <td>...</td>\n      <td>EMERGENCY</td>\n      <td>660293.0</td>\n      <td>474901</td>\n      <td>0</td>\n      <td>474901</td>\n      <td>25</td>\n      <td>12</td>\n      <td>13</td>\n      <td>Y</td>\n      <td>38000</td>\n    </tr>\n    <tr>\n      <th>1</th>\n      <td>2</td>\n      <td>59.0</td>\n      <td>M</td>\n      <td>MARRIED</td>\n      <td>CAD-DVD</td>\n      <td>41</td>\n      <td>155</td>\n      <td>78</td>\n      <td>70.0</td>\n      <td>50.0</td>\n      <td>...</td>\n      <td>EMERGENCY</td>\n      <td>809130.0</td>\n      <td>944819</td>\n      <td>96422</td>\n      <td>848397</td>\n      <td>41</td>\n      <td>20</td>\n      <td>21</td>\n      <td>Y</td>\n      <td>39690</td>\n    </tr>\n    <tr>\n      <th>2</th>\n      <td>3</td>\n      <td>82.0</td>\n      <td>M</td>\n      <td>MARRIED</td>\n      <td>CAD-TVD</td>\n      <td>47</td>\n      <td>164</td>\n      <td>100</td>\n      <td>110.0</td>\n      <td>80.0</td>\n      <td>...</td>\n      <td>ELECTIVE</td>\n      <td>362231.0</td>\n      <td>390000</td>\n      <td>30000</td>\n      <td>360000</td>\n      <td>18</td>\n      <td>9</td>\n      <td>9</td>\n      <td>N</td>\n      <td>0</td>\n    </tr>\n    <tr>\n      <th>3</th>\n      <td>4</td>\n      <td>46.0</td>\n      <td>M</td>\n      <td>MARRIED</td>\n      <td>CAD-DVD</td>\n      <td>80</td>\n      <td>173</td>\n      <td>122</td>\n      <td>110.0</td>\n      <td>80.0</td>\n      <td>...</td>\n      <td>EMERGENCY</td>\n      <td>629990.0</td>\n      <td>324910</td>\n      <td>0</td>\n      <td>324910</td>\n      <td>14</td>\n      <td>13</td>\n      <td>1</td>\n      <td>Y</td>\n      <td>89450</td>\n    </tr>\n    <tr>\n      <th>4</th>\n      <td>5</td>\n      <td>60.0</td>\n      <td>M</td>\n      <td>MARRIED</td>\n      <td>CAD-DVD</td>\n      <td>58</td>\n      <td>175</td>\n      <td>72</td>\n      <td>180.0</td>\n      <td>100.0</td>\n      <td>...</td>\n      <td>EMERGENCY</td>\n      <td>444876.0</td>\n      <td>254673</td>\n      <td>10000</td>\n      <td>244673</td>\n      <td>24</td>\n      <td>12</td>\n      <td>12</td>\n      <td>N</td>\n      <td>0</td>\n    </tr>\n    <tr>\n      <th>...</th>\n      <td>...</td>\n      <td>...</td>\n      <td>...</td>\n      <td>...</td>\n      <td>...</td>\n      <td>...</td>\n      <td>...</td>\n      <td>...</td>\n      <td>...</td>\n      <td>...</td>\n      <td>...</td>\n      <td>...</td>\n      <td>...</td>\n      <td>...</td>\n      <td>...</td>\n      <td>...</td>\n      <td>...</td>\n      <td>...</td>\n      <td>...</td>\n      <td>...</td>\n      <td>...</td>\n    </tr>\n    <tr>\n      <th>243</th>\n      <td>244</td>\n      <td>51.0</td>\n      <td>M</td>\n      <td>MARRIED</td>\n      <td>other- heart</td>\n      <td>69</td>\n      <td>176</td>\n      <td>62</td>\n      <td>130.0</td>\n      <td>90.0</td>\n      <td>...</td>\n      <td>ELECTIVE</td>\n      <td>295155.0</td>\n      <td>197000</td>\n      <td>0</td>\n      <td>197000</td>\n      <td>10</td>\n      <td>3</td>\n      <td>7</td>\n      <td>Y</td>\n      <td>35000</td>\n    </tr>\n    <tr>\n      <th>244</th>\n      <td>245</td>\n      <td>58.0</td>\n      <td>M</td>\n      <td>MARRIED</td>\n      <td>CAD-TVD</td>\n      <td>57</td>\n      <td>159</td>\n      <td>58</td>\n      <td>100.0</td>\n      <td>70.0</td>\n      <td>...</td>\n      <td>ELECTIVE</td>\n      <td>200321.0</td>\n      <td>220000</td>\n      <td>0</td>\n      <td>220000</td>\n      <td>11</td>\n      <td>2</td>\n      <td>9</td>\n      <td>Y</td>\n      <td>26000</td>\n    </tr>\n    <tr>\n      <th>245</th>\n      <td>246</td>\n      <td>44.0</td>\n      <td>M</td>\n      <td>MARRIED</td>\n      <td>CAD-TVD</td>\n      <td>58</td>\n      <td>159</td>\n      <td>68</td>\n      <td>150.0</td>\n      <td>90.0</td>\n      <td>...</td>\n      <td>ELECTIVE</td>\n      <td>191188.0</td>\n      <td>150000</td>\n      <td>10000</td>\n      <td>140000</td>\n      <td>13</td>\n      <td>5</td>\n      <td>8</td>\n      <td>N</td>\n      <td>0</td>\n    </tr>\n    <tr>\n      <th>246</th>\n      <td>247</td>\n      <td>60.0</td>\n      <td>M</td>\n      <td>MARRIED</td>\n      <td>other- heart</td>\n      <td>65</td>\n      <td>165</td>\n      <td>98</td>\n      <td>100.0</td>\n      <td>60.0</td>\n      <td>...</td>\n      <td>EMERGENCY</td>\n      <td>202807.0</td>\n      <td>229920</td>\n      <td>10000</td>\n      <td>219920</td>\n      <td>9</td>\n      <td>6</td>\n      <td>3</td>\n      <td>N</td>\n      <td>0</td>\n    </tr>\n    <tr>\n      <th>247</th>\n      <td>248</td>\n      <td>30.0</td>\n      <td>M</td>\n      <td>MARRIED</td>\n      <td>RHD</td>\n      <td>71</td>\n      <td>180</td>\n      <td>87</td>\n      <td>130.0</td>\n      <td>40.0</td>\n      <td>...</td>\n      <td>ELECTIVE</td>\n      <td>248112.0</td>\n      <td>185000</td>\n      <td>0</td>\n      <td>185000</td>\n      <td>10</td>\n      <td>4</td>\n      <td>6</td>\n      <td>Y</td>\n      <td>41800</td>\n    </tr>\n  </tbody>\n</table>\n<p>248 rows × 27 columns</p>\n</div>"
     },
     "execution_count": 3,
     "metadata": {},
     "output_type": "execute_result"
    }
   ],
   "source": [
    "df"
   ],
   "metadata": {
    "collapsed": false,
    "pycharm": {
     "name": "#%%\n"
    }
   }
  },
  {
   "cell_type": "code",
   "execution_count": 4,
   "outputs": [
    {
     "data": {
      "text/plain": "SL.                                    0\nAGE                                    0\nGENDER                                 0\nMARITAL_STATUS                         0\nKEY_COMPLAINTS _CODE                  36\nBODY_WEIGHT                            0\nBODY_HEIGHT                            0\nHR_PULSE                               0\nBP_HIGH                               23\nBP_LOW                                23\nRR                                     0\nPAST_MEDICAL_HISTORY_CODE            173\nHB                                     2\nUREA                                  13\nCREATININE                            33\nMODE_OF_ARRIVAL                        0\nSTATE_AT_TIME_OF_ARRIVAL               0\nTYPE_OF_ADMSN                          0\nTOTAL_COST_TO_HOSPITAL                 0\nTOTAL AMOUNT BILLEDTO THE PATIENT      0\nCONCESSION                             0\nACTUAL RECEIVABLE AMOUNT               0\nTOTAL LENGTH OF STAY                   0\nLENGTH OF STAY - ICU                   0\nLENGTH OF STAY- WARD                   0\nIMPLANT USED (Y/N)                     0\nCOST OF IMPLANT                        0\ndtype: int64"
     },
     "execution_count": 4,
     "metadata": {},
     "output_type": "execute_result"
    }
   ],
   "source": [
    "df.isna().sum()"
   ],
   "metadata": {
    "collapsed": false,
    "pycharm": {
     "name": "#%%\n"
    }
   }
  },
  {
   "cell_type": "code",
   "execution_count": 5,
   "outputs": [
    {
     "data": {
      "text/plain": "Index(['SL.', 'AGE', 'GENDER', 'MARITAL_STATUS', 'KEY_COMPLAINTS _CODE',\n       'BODY_WEIGHT', 'BODY_HEIGHT', 'HR_PULSE', 'BP_HIGH', 'BP_LOW', 'RR',\n       'PAST_MEDICAL_HISTORY_CODE', 'HB', 'UREA', 'CREATININE',\n       'MODE_OF_ARRIVAL', 'STATE_AT_TIME_OF_ARRIVAL', 'TYPE_OF_ADMSN',\n       'TOTAL_COST_TO_HOSPITAL ', 'TOTAL AMOUNT BILLEDTO THE PATIENT',\n       'CONCESSION', 'ACTUAL RECEIVABLE AMOUNT', 'TOTAL LENGTH OF STAY',\n       'LENGTH OF STAY - ICU', 'LENGTH OF STAY- WARD', 'IMPLANT USED (Y/N)',\n       'COST OF IMPLANT'],\n      dtype='object')"
     },
     "execution_count": 5,
     "metadata": {},
     "output_type": "execute_result"
    }
   ],
   "source": [
    "df.columns"
   ],
   "metadata": {
    "collapsed": false,
    "pycharm": {
     "name": "#%%\n"
    }
   }
  },
  {
   "cell_type": "code",
   "execution_count": 6,
   "outputs": [
    {
     "data": {
      "text/plain": "SL.                                    int64\nAGE                                  float64\nGENDER                                object\nMARITAL_STATUS                        object\nKEY_COMPLAINTS _CODE                  object\nBODY_WEIGHT                            int64\nBODY_HEIGHT                            int64\nHR_PULSE                               int64\nBP_HIGH                              float64\nBP_LOW                               float64\nRR                                     int64\nPAST_MEDICAL_HISTORY_CODE             object\nHB                                   float64\nUREA                                 float64\nCREATININE                           float64\nMODE_OF_ARRIVAL                       object\nSTATE_AT_TIME_OF_ARRIVAL              object\nTYPE_OF_ADMSN                         object\nTOTAL_COST_TO_HOSPITAL               float64\nTOTAL AMOUNT BILLEDTO THE PATIENT      int64\nCONCESSION                             int64\nACTUAL RECEIVABLE AMOUNT               int64\nTOTAL LENGTH OF STAY                   int64\nLENGTH OF STAY - ICU                   int64\nLENGTH OF STAY- WARD                   int64\nIMPLANT USED (Y/N)                    object\nCOST OF IMPLANT                        int64\ndtype: object"
     },
     "execution_count": 6,
     "metadata": {},
     "output_type": "execute_result"
    }
   ],
   "source": [
    "df.dtypes"
   ],
   "metadata": {
    "collapsed": false,
    "pycharm": {
     "name": "#%%\n"
    }
   }
  },
  {
   "cell_type": "code",
   "execution_count": 7,
   "outputs": [
    {
     "data": {
      "text/plain": "              SL.         AGE  BODY_WEIGHT  BODY_HEIGHT    HR_PULSE  \\\ncount  248.000000  248.000000   248.000000   248.000000  248.000000   \nmean   124.500000   28.879839    37.536290   130.221774   92.229839   \nstd     71.735626   25.899358    23.122248    39.170901   20.308740   \nmin      1.000000    0.030000     2.000000    19.000000   41.000000   \n25%     62.750000    6.000000    15.000000   105.000000   78.000000   \n50%    124.500000   15.500000    41.000000   147.500000   90.000000   \n75%    186.250000   55.000000    58.250000   160.000000  104.000000   \nmax    248.000000   88.000000    85.000000   185.000000  155.000000   \n\n          BP_HIGH      BP_LOW          RR          HB        UREA  CREATININE  \\\ncount  225.000000  225.000000  248.000000  246.000000  235.000000  215.000000   \nmean   115.022222   71.875556   23.540323   12.934959   26.581702    0.746977   \nstd     22.536368   15.313176    3.840756    3.099019   15.998367    0.548641   \nmin     70.000000   39.000000   12.000000    5.000000    2.000000    0.100000   \n25%    100.000000   60.000000   22.000000   11.000000   18.000000    0.300000   \n50%    110.000000   70.000000   24.000000   12.000000   22.000000    0.700000   \n75%    130.000000   80.000000   24.000000   14.000000   30.000000    1.000000   \nmax    215.000000  140.000000   42.000000   26.000000  143.000000    5.200000   \n\n       TOTAL_COST_TO_HOSPITAL   TOTAL AMOUNT BILLEDTO THE PATIENT  \\\ncount               248.000000                           248.0000   \nmean             198723.330282                        182721.3750   \nstd              122587.492984                        102104.1345   \nmin               46093.000000                         43641.0000   \n25%              131652.750000                        150000.0000   \n50%              162660.500000                        150000.0000   \n75%              220614.000000                        202638.5000   \nmax              887350.000000                        944819.0000   \n\n          CONCESSION  ACTUAL RECEIVABLE AMOUNT  TOTAL LENGTH OF STAY  \\\ncount     248.000000                248.000000            248.000000   \nmean    17642.818548             167894.399194             11.612903   \nstd     19992.417896             109345.870984              5.392617   \nmin         0.000000              31000.000000              3.000000   \n25%         0.000000             112500.000000              8.000000   \n50%     10000.000000             122400.000000             10.000000   \n75%     37500.000000             197000.000000             13.000000   \nmax    123132.000000             848397.000000             41.000000   \n\n       LENGTH OF STAY - ICU  LENGTH OF STAY- WARD  COST OF IMPLANT  \ncount            248.000000            248.000000       248.000000  \nmean               3.475806              8.153226      8544.201613  \nstd                3.853520              3.755793     21521.877503  \nmin                0.000000              0.000000         0.000000  \n25%                1.000000              6.000000         0.000000  \n50%                2.000000              7.000000         0.000000  \n75%                4.000000             10.000000         0.000000  \nmax               30.000000             22.000000    196848.000000  ",
      "text/html": "<div>\n<style scoped>\n    .dataframe tbody tr th:only-of-type {\n        vertical-align: middle;\n    }\n\n    .dataframe tbody tr th {\n        vertical-align: top;\n    }\n\n    .dataframe thead th {\n        text-align: right;\n    }\n</style>\n<table border=\"1\" class=\"dataframe\">\n  <thead>\n    <tr style=\"text-align: right;\">\n      <th></th>\n      <th>SL.</th>\n      <th>AGE</th>\n      <th>BODY_WEIGHT</th>\n      <th>BODY_HEIGHT</th>\n      <th>HR_PULSE</th>\n      <th>BP_HIGH</th>\n      <th>BP_LOW</th>\n      <th>RR</th>\n      <th>HB</th>\n      <th>UREA</th>\n      <th>CREATININE</th>\n      <th>TOTAL_COST_TO_HOSPITAL</th>\n      <th>TOTAL AMOUNT BILLEDTO THE PATIENT</th>\n      <th>CONCESSION</th>\n      <th>ACTUAL RECEIVABLE AMOUNT</th>\n      <th>TOTAL LENGTH OF STAY</th>\n      <th>LENGTH OF STAY - ICU</th>\n      <th>LENGTH OF STAY- WARD</th>\n      <th>COST OF IMPLANT</th>\n    </tr>\n  </thead>\n  <tbody>\n    <tr>\n      <th>count</th>\n      <td>248.000000</td>\n      <td>248.000000</td>\n      <td>248.000000</td>\n      <td>248.000000</td>\n      <td>248.000000</td>\n      <td>225.000000</td>\n      <td>225.000000</td>\n      <td>248.000000</td>\n      <td>246.000000</td>\n      <td>235.000000</td>\n      <td>215.000000</td>\n      <td>248.000000</td>\n      <td>248.0000</td>\n      <td>248.000000</td>\n      <td>248.000000</td>\n      <td>248.000000</td>\n      <td>248.000000</td>\n      <td>248.000000</td>\n      <td>248.000000</td>\n    </tr>\n    <tr>\n      <th>mean</th>\n      <td>124.500000</td>\n      <td>28.879839</td>\n      <td>37.536290</td>\n      <td>130.221774</td>\n      <td>92.229839</td>\n      <td>115.022222</td>\n      <td>71.875556</td>\n      <td>23.540323</td>\n      <td>12.934959</td>\n      <td>26.581702</td>\n      <td>0.746977</td>\n      <td>198723.330282</td>\n      <td>182721.3750</td>\n      <td>17642.818548</td>\n      <td>167894.399194</td>\n      <td>11.612903</td>\n      <td>3.475806</td>\n      <td>8.153226</td>\n      <td>8544.201613</td>\n    </tr>\n    <tr>\n      <th>std</th>\n      <td>71.735626</td>\n      <td>25.899358</td>\n      <td>23.122248</td>\n      <td>39.170901</td>\n      <td>20.308740</td>\n      <td>22.536368</td>\n      <td>15.313176</td>\n      <td>3.840756</td>\n      <td>3.099019</td>\n      <td>15.998367</td>\n      <td>0.548641</td>\n      <td>122587.492984</td>\n      <td>102104.1345</td>\n      <td>19992.417896</td>\n      <td>109345.870984</td>\n      <td>5.392617</td>\n      <td>3.853520</td>\n      <td>3.755793</td>\n      <td>21521.877503</td>\n    </tr>\n    <tr>\n      <th>min</th>\n      <td>1.000000</td>\n      <td>0.030000</td>\n      <td>2.000000</td>\n      <td>19.000000</td>\n      <td>41.000000</td>\n      <td>70.000000</td>\n      <td>39.000000</td>\n      <td>12.000000</td>\n      <td>5.000000</td>\n      <td>2.000000</td>\n      <td>0.100000</td>\n      <td>46093.000000</td>\n      <td>43641.0000</td>\n      <td>0.000000</td>\n      <td>31000.000000</td>\n      <td>3.000000</td>\n      <td>0.000000</td>\n      <td>0.000000</td>\n      <td>0.000000</td>\n    </tr>\n    <tr>\n      <th>25%</th>\n      <td>62.750000</td>\n      <td>6.000000</td>\n      <td>15.000000</td>\n      <td>105.000000</td>\n      <td>78.000000</td>\n      <td>100.000000</td>\n      <td>60.000000</td>\n      <td>22.000000</td>\n      <td>11.000000</td>\n      <td>18.000000</td>\n      <td>0.300000</td>\n      <td>131652.750000</td>\n      <td>150000.0000</td>\n      <td>0.000000</td>\n      <td>112500.000000</td>\n      <td>8.000000</td>\n      <td>1.000000</td>\n      <td>6.000000</td>\n      <td>0.000000</td>\n    </tr>\n    <tr>\n      <th>50%</th>\n      <td>124.500000</td>\n      <td>15.500000</td>\n      <td>41.000000</td>\n      <td>147.500000</td>\n      <td>90.000000</td>\n      <td>110.000000</td>\n      <td>70.000000</td>\n      <td>24.000000</td>\n      <td>12.000000</td>\n      <td>22.000000</td>\n      <td>0.700000</td>\n      <td>162660.500000</td>\n      <td>150000.0000</td>\n      <td>10000.000000</td>\n      <td>122400.000000</td>\n      <td>10.000000</td>\n      <td>2.000000</td>\n      <td>7.000000</td>\n      <td>0.000000</td>\n    </tr>\n    <tr>\n      <th>75%</th>\n      <td>186.250000</td>\n      <td>55.000000</td>\n      <td>58.250000</td>\n      <td>160.000000</td>\n      <td>104.000000</td>\n      <td>130.000000</td>\n      <td>80.000000</td>\n      <td>24.000000</td>\n      <td>14.000000</td>\n      <td>30.000000</td>\n      <td>1.000000</td>\n      <td>220614.000000</td>\n      <td>202638.5000</td>\n      <td>37500.000000</td>\n      <td>197000.000000</td>\n      <td>13.000000</td>\n      <td>4.000000</td>\n      <td>10.000000</td>\n      <td>0.000000</td>\n    </tr>\n    <tr>\n      <th>max</th>\n      <td>248.000000</td>\n      <td>88.000000</td>\n      <td>85.000000</td>\n      <td>185.000000</td>\n      <td>155.000000</td>\n      <td>215.000000</td>\n      <td>140.000000</td>\n      <td>42.000000</td>\n      <td>26.000000</td>\n      <td>143.000000</td>\n      <td>5.200000</td>\n      <td>887350.000000</td>\n      <td>944819.0000</td>\n      <td>123132.000000</td>\n      <td>848397.000000</td>\n      <td>41.000000</td>\n      <td>30.000000</td>\n      <td>22.000000</td>\n      <td>196848.000000</td>\n    </tr>\n  </tbody>\n</table>\n</div>"
     },
     "execution_count": 7,
     "metadata": {},
     "output_type": "execute_result"
    }
   ],
   "source": [
    "df.describe()"
   ],
   "metadata": {
    "collapsed": false,
    "pycharm": {
     "name": "#%%\n"
    }
   }
  },
  {
   "cell_type": "code",
   "execution_count": 9,
   "outputs": [
    {
     "data": {
      "text/plain": "Empty DataFrame\nColumns: [SL., AGE, GENDER, MARITAL_STATUS, KEY_COMPLAINTS _CODE, BODY_WEIGHT, BODY_HEIGHT, HR_PULSE, BP_HIGH, BP_LOW, RR, PAST_MEDICAL_HISTORY_CODE, HB, UREA, CREATININE, MODE_OF_ARRIVAL, STATE_AT_TIME_OF_ARRIVAL, TYPE_OF_ADMSN, TOTAL_COST_TO_HOSPITAL , TOTAL AMOUNT BILLEDTO THE PATIENT, CONCESSION, ACTUAL RECEIVABLE AMOUNT, TOTAL LENGTH OF STAY, LENGTH OF STAY - ICU, LENGTH OF STAY- WARD, IMPLANT USED (Y/N), COST OF IMPLANT]\nIndex: []\n\n[0 rows x 27 columns]",
      "text/html": "<div>\n<style scoped>\n    .dataframe tbody tr th:only-of-type {\n        vertical-align: middle;\n    }\n\n    .dataframe tbody tr th {\n        vertical-align: top;\n    }\n\n    .dataframe thead th {\n        text-align: right;\n    }\n</style>\n<table border=\"1\" class=\"dataframe\">\n  <thead>\n    <tr style=\"text-align: right;\">\n      <th></th>\n      <th>SL.</th>\n      <th>AGE</th>\n      <th>GENDER</th>\n      <th>MARITAL_STATUS</th>\n      <th>KEY_COMPLAINTS _CODE</th>\n      <th>BODY_WEIGHT</th>\n      <th>BODY_HEIGHT</th>\n      <th>HR_PULSE</th>\n      <th>BP_HIGH</th>\n      <th>BP_LOW</th>\n      <th>...</th>\n      <th>TYPE_OF_ADMSN</th>\n      <th>TOTAL_COST_TO_HOSPITAL</th>\n      <th>TOTAL AMOUNT BILLEDTO THE PATIENT</th>\n      <th>CONCESSION</th>\n      <th>ACTUAL RECEIVABLE AMOUNT</th>\n      <th>TOTAL LENGTH OF STAY</th>\n      <th>LENGTH OF STAY - ICU</th>\n      <th>LENGTH OF STAY- WARD</th>\n      <th>IMPLANT USED (Y/N)</th>\n      <th>COST OF IMPLANT</th>\n    </tr>\n  </thead>\n  <tbody>\n  </tbody>\n</table>\n<p>0 rows × 27 columns</p>\n</div>"
     },
     "execution_count": 9,
     "metadata": {},
     "output_type": "execute_result"
    }
   ],
   "source": [
    "df[df.duplicated()==True]"
   ],
   "metadata": {
    "collapsed": false,
    "pycharm": {
     "name": "#%%\n"
    }
   }
  },
  {
   "cell_type": "code",
   "execution_count": 15,
   "outputs": [
    {
     "data": {
      "text/plain": "GENDER  MARITAL_STATUS\nF       MARRIED           123.461538\n        UNMARRIED         101.130435\nM       MARRIED           130.060976\n        UNMARRIED         103.563380\nName: BP_HIGH, dtype: float64"
     },
     "execution_count": 15,
     "metadata": {},
     "output_type": "execute_result"
    }
   ],
   "source": [
    "df.groupby([\"GENDER\",\"MARITAL_STATUS\"])[\"BP_HIGH\"].mean()"
   ],
   "metadata": {
    "collapsed": false,
    "pycharm": {
     "name": "#%%\n"
    }
   }
  },
  {
   "cell_type": "code",
   "execution_count": 16,
   "outputs": [
    {
     "data": {
      "text/plain": "GENDER\nF    109.194444\nM    117.764706\nName: BP_HIGH, dtype: float64"
     },
     "execution_count": 16,
     "metadata": {},
     "output_type": "execute_result"
    }
   ],
   "source": [
    "df.groupby(\"GENDER\")[\"BP_HIGH\"].mean()"
   ],
   "metadata": {
    "collapsed": false,
    "pycharm": {
     "name": "#%%\n"
    }
   }
  },
  {
   "cell_type": "code",
   "execution_count": 1,
   "outputs": [
    {
     "name": "stdout",
     "output_type": "stream",
     "text": [
      "avijit\n"
     ]
    }
   ],
   "source": [
    "print(\"avijit\")"
   ],
   "metadata": {
    "collapsed": false,
    "pycharm": {
     "name": "#%%\n"
    }
   }
  },
  {
   "cell_type": "code",
   "execution_count": 2,
   "outputs": [
    {
     "name": "stdout",
     "output_type": "stream",
     "text": [
      "Biswas\n"
     ]
    }
   ],
   "source": [
    "print(\"Biswas\")"
   ],
   "metadata": {
    "collapsed": false,
    "pycharm": {
     "name": "#%%\n"
    }
   }
  },
  {
   "cell_type": "code",
   "execution_count": 3,
   "outputs": [],
   "source": [
    "l,r=0,1"
   ],
   "metadata": {
    "collapsed": false,
    "pycharm": {
     "name": "#%%\n"
    }
   }
  },
  {
   "cell_type": "code",
   "execution_count": 4,
   "outputs": [
    {
     "data": {
      "text/plain": "0"
     },
     "execution_count": 4,
     "metadata": {},
     "output_type": "execute_result"
    }
   ],
   "source": [
    "l"
   ],
   "metadata": {
    "collapsed": false,
    "pycharm": {
     "name": "#%%\n"
    }
   }
  },
  {
   "cell_type": "code",
   "execution_count": 5,
   "outputs": [
    {
     "data": {
      "text/plain": "1"
     },
     "execution_count": 5,
     "metadata": {},
     "output_type": "execute_result"
    }
   ],
   "source": [
    "r"
   ],
   "metadata": {
    "collapsed": false,
    "pycharm": {
     "name": "#%%\n"
    }
   }
  },
  {
   "cell_type": "code",
   "execution_count": 7,
   "outputs": [
    {
     "name": "stdout",
     "output_type": "stream",
     "text": [
      "5\n"
     ]
    }
   ],
   "source": [
    "price=[7,1,5,3,6,4]\n",
    "l,r=0,1\n",
    "maxp=0\n",
    "while r<len(price):\n",
    "    if price[l]<price[r]:\n",
    "        maxpa=price[r]-price[l]\n",
    "        maxp=max(maxp, maxpa)\n",
    "    else:\n",
    "        l=r\n",
    "\n",
    "    r+=1\n",
    "print(maxp)"
   ],
   "metadata": {
    "collapsed": false,
    "pycharm": {
     "name": "#%%\n"
    }
   }
  },
  {
   "cell_type": "code",
   "execution_count": null,
   "outputs": [],
   "source": [],
   "metadata": {
    "collapsed": false,
    "pycharm": {
     "name": "#%%\n"
    }
   }
  }
 ],
 "metadata": {
  "kernelspec": {
   "display_name": "Python 3",
   "language": "python",
   "name": "python3"
  },
  "language_info": {
   "codemirror_mode": {
    "name": "ipython",
    "version": 2
   },
   "file_extension": ".py",
   "mimetype": "text/x-python",
   "name": "python",
   "nbconvert_exporter": "python",
   "pygments_lexer": "ipython2",
   "version": "2.7.6"
  }
 },
 "nbformat": 4,
 "nbformat_minor": 0
}