{
 "cells": [
  {
   "cell_type": "code",
   "execution_count": 1,
   "metadata": {
    "collapsed": true,
    "pycharm": {
     "name": "#%%\n"
    }
   },
   "outputs": [],
   "source": [
    "import pandas as pd"
   ]
  },
  {
   "cell_type": "code",
   "execution_count": 2,
   "outputs": [],
   "source": [
    "newdata1=pd.read_csv(\"newdata1.csv\")\n",
    "newdata2=pd.read_csv(\"newdata2.csv\")\n",
    "newdata3=pd.read_csv(\"newdata3.csv\")"
   ],
   "metadata": {
    "collapsed": false,
    "pycharm": {
     "name": "#%%\n"
    }
   }
  },
  {
   "cell_type": "code",
   "execution_count": 3,
   "outputs": [],
   "source": [
    "nlist1=[]\n",
    "for i in newdata1[\"Name\"]:\n",
    "    nlist1.append(i)"
   ],
   "metadata": {
    "collapsed": false,
    "pycharm": {
     "name": "#%%\n"
    }
   }
  },
  {
   "cell_type": "code",
   "execution_count": 4,
   "outputs": [
    {
     "data": {
      "text/plain": "77"
     },
     "execution_count": 4,
     "metadata": {},
     "output_type": "execute_result"
    }
   ],
   "source": [
    "len(nlist1)"
   ],
   "metadata": {
    "collapsed": false,
    "pycharm": {
     "name": "#%%\n"
    }
   }
  },
  {
   "cell_type": "code",
   "execution_count": 5,
   "outputs": [
    {
     "data": {
      "text/plain": "(77, 4)"
     },
     "execution_count": 5,
     "metadata": {},
     "output_type": "execute_result"
    }
   ],
   "source": [
    "newdata1.shape"
   ],
   "metadata": {
    "collapsed": false,
    "pycharm": {
     "name": "#%%\n"
    }
   }
  },
  {
   "cell_type": "code",
   "execution_count": 6,
   "outputs": [],
   "source": [
    "nlist2=[]\n",
    "for i in newdata2[\"Name\"]:\n",
    "    nlist2.append(i)"
   ],
   "metadata": {
    "collapsed": false,
    "pycharm": {
     "name": "#%%\n"
    }
   }
  },
  {
   "cell_type": "code",
   "execution_count": 7,
   "outputs": [
    {
     "data": {
      "text/plain": "90"
     },
     "execution_count": 7,
     "metadata": {},
     "output_type": "execute_result"
    }
   ],
   "source": [
    "len(nlist2)"
   ],
   "metadata": {
    "collapsed": false,
    "pycharm": {
     "name": "#%%\n"
    }
   }
  },
  {
   "cell_type": "code",
   "execution_count": 8,
   "outputs": [
    {
     "data": {
      "text/plain": "(90, 4)"
     },
     "execution_count": 8,
     "metadata": {},
     "output_type": "execute_result"
    }
   ],
   "source": [
    "newdata2.shape"
   ],
   "metadata": {
    "collapsed": false,
    "pycharm": {
     "name": "#%%\n"
    }
   }
  },
  {
   "cell_type": "code",
   "execution_count": 9,
   "outputs": [],
   "source": [
    "telist1=[]\n",
    "for i in nlist2:\n",
    "    if i not in nlist1:\n",
    "        telist1.append(i)"
   ],
   "metadata": {
    "collapsed": false,
    "pycharm": {
     "name": "#%%\n"
    }
   }
  },
  {
   "cell_type": "code",
   "execution_count": 10,
   "outputs": [
    {
     "data": {
      "text/plain": "['Stromleistung je kW/h auf Stromkreis: UV-RZ-Vario-B/F2.4',\n 'Stromleistung je kW/h auf Stromkreis: UV-RZ-Vario-B/F1.8',\n 'Stromleistung je kW/h auf Stromkreis: UV-RZ-Vario-A/F2.4',\n 'Stromleistung je kW/h auf Stromkreis: UV-RZ-Vario-A/F1.8',\n 'Traffic Flatrate 6 Gbit',\n 'Dedicated Server FC-35583 bis FC-35597',\n '84TB Samsung Enterprise SDD PM893',\n 'Hardware: 1.92TB Samsung PM983 NVMe',\n 'Dedicted Server - VPS Host: FC-35579, FC-35580, FC-35581',\n 'Hardware: 960GB PM893 SS',\n '/24 Subnet 212.224.93.0/24, 159.100.13.0/24',\n 'Dedicated Server: FC-36865',\n 'Dedicated Server - AMD 7763',\n 'Dedicated Server - AMD 7352',\n 'Hardware: 1.92 TB SSD Samsung PM893 MZ7L31T9HBLT',\n 'Hardware: X520-DA2',\n 'Dedicated Server - FC-37113',\n 'Dedicated Server - Ulta100',\n 'Dedicated Server - FC-36850',\n 'Hardware: 3.84TB PM893']"
     },
     "execution_count": 10,
     "metadata": {},
     "output_type": "execute_result"
    }
   ],
   "source": [
    "telist1"
   ],
   "metadata": {
    "collapsed": false,
    "pycharm": {
     "name": "#%%\n"
    }
   }
  },
  {
   "cell_type": "code",
   "execution_count": 11,
   "outputs": [
    {
     "data": {
      "text/plain": "20"
     },
     "execution_count": 11,
     "metadata": {},
     "output_type": "execute_result"
    }
   ],
   "source": [
    "len(telist1)"
   ],
   "metadata": {
    "collapsed": false,
    "pycharm": {
     "name": "#%%\n"
    }
   }
  },
  {
   "cell_type": "code",
   "execution_count": 12,
   "outputs": [],
   "source": [
    "telist2=[]\n",
    "for i in nlist1:\n",
    "    if i not in nlist2:\n",
    "        telist2.append(i)"
   ],
   "metadata": {
    "collapsed": false,
    "pycharm": {
     "name": "#%%\n"
    }
   }
  },
  {
   "cell_type": "code",
   "execution_count": 13,
   "outputs": [
    {
     "data": {
      "text/plain": "5"
     },
     "execution_count": 13,
     "metadata": {},
     "output_type": "execute_result"
    }
   ],
   "source": [
    "len(telist2)"
   ],
   "metadata": {
    "collapsed": false,
    "pycharm": {
     "name": "#%%\n"
    }
   }
  },
  {
   "cell_type": "code",
   "execution_count": 14,
   "outputs": [
    {
     "data": {
      "text/plain": "['Traffic Flatrate 4 Gbit',\n 'Service: SVC-COR-SRX300JB',\n 'Service: SVC-COR-SRX320JB',\n 'Dedicated Server FC-35583, FC-35584, FC-35585, FC-35586,',\n 'Remotehands Kruppstraße']"
     },
     "execution_count": 14,
     "metadata": {},
     "output_type": "execute_result"
    }
   ],
   "source": [
    "telist2"
   ],
   "metadata": {
    "collapsed": false,
    "pycharm": {
     "name": "#%%\n"
    }
   }
  },
  {
   "cell_type": "code",
   "execution_count": 15,
   "outputs": [],
   "source": [
    "telist3=[]\n",
    "for i in nlist2:\n",
    "    for j in nlist1:\n",
    "        if i==j:\n",
    "            telist3.append(i)"
   ],
   "metadata": {
    "collapsed": false,
    "pycharm": {
     "name": "#%%\n"
    }
   }
  },
  {
   "cell_type": "code",
   "execution_count": 16,
   "outputs": [
    {
     "data": {
      "text/plain": "[\"1 HE im 19'' Rack\",\n 'IP-Netz (159.100.29.0/24, 212.224.86.0/24, 212.224.88.0/24,',\n 'Remote Hands - Service Dienstleistung',\n 'Remote Hands - Service Dienstleistung',\n 'Remote Hands - Service Dienstleistung',\n 'Remote Hands - Service Dienstleistung',\n 'Remote Hands - Service Dienstleistung',\n 'Remote Hands - Service Dienstleistung',\n 'Remote Hands - Service Dienstleistung',\n 'Remote Hands - Service Dienstleistung',\n 'Remote Hands - Service Dienstleistung',\n 'Remote Hands - Service Dienstleistung',\n 'Remote Hands - Service Dienstleistung',\n 'Remote Hands - Service Dienstleistung',\n 'Remote Hands - Service Dienstleistung',\n 'Remote Hands - Service Dienstleistung',\n 'Remote Hands - Service Dienstleistung',\n 'Remote Hands - Service Dienstleistung',\n 'Remote Hands - Service Dienstleistung',\n 'Remote Hands - Service Dienstleistung',\n 'Remote Hands - Service Dienstleistung',\n 'Remote Hands - Service Dienstleistung',\n 'Remote Hands - Service Dienstleistung',\n 'Remote Hands - Service Dienstleistung',\n 'Remote Hands - Service Dienstleistung',\n 'Remote Hands - Service Dienstleistung',\n 'Remote Hands - Service Dienstleistung',\n 'Remote Hands - Service Dienstleistung',\n 'Remote Hands - Service Dienstleistung',\n 'Remote Hands - Service Dienstleistung',\n 'Remote Hands - Service Dienstleistung',\n 'Remote Hands - Service Dienstleistung',\n 'Remote Hands - Service Dienstleistung',\n 'Remote Hands - Service Dienstleistung',\n 'Remote Hands - Service Dienstleistung',\n 'Remote Hands - Service Dienstleistung',\n 'Remote Hands - Service Dienstleistung',\n 'Remote Hands - Service Dienstleistung',\n 'Remote Hands - Service Dienstleistung',\n 'Remote Hands - Service Dienstleistung',\n 'Remote Hands - Service Dienstleistung',\n 'Remote Hands - Service Dienstleistung',\n 'Remote Hands - Service Dienstleistung',\n 'Remote Hands - Service Dienstleistung',\n 'Remote Hands - Service Dienstleistung',\n 'Remote Hands - Service Dienstleistung',\n 'Remote Hands - Service Dienstleistung',\n 'Remote Hands - Service Dienstleistung',\n 'Remote Hands - Service Dienstleistung',\n 'Remote Hands - Service Dienstleistung',\n 'Network Card extension + cabling (FC-24908)',\n 'Hardware: Samsung PM883 3840GB (FC-24821, FC-24995)',\n 'Hardware: Samsung PM883 1920GB (FC-25256)',\n 'Hardware: RAM-Upgrade AMD7452-1 (FC-25362)',\n \"19'' Rack inkl. Klima (M8)\",\n 'Stromleistung je kW/h Mindestabnahme',\n 'Mietgerät: Network Switch Juniper EX4300-48T (FC-213814D,',\n 'Mietserver Ulta AX160-NVMe 32 Core (lease-purchase) (FC-23943)',\n 'Mietserver Ulta AX160-NVMe 24 Core (lease-purchase) (FC-23944-57',\n 'Mietserver Ulta100 Xeon SSD (lease-purchase) (FC-23958-62)',\n 'Mietserver Ulta100 Xeon No-SSD (lease-purchase) (FC-23963-67)',\n 'Stromleistung je kW/h zusätzlich: gesamt',\n 'Stromleistung je kW/h auf Stromkreis: UV2/11F9',\n 'Stromleistung je kW/h auf Stromkreis: UV2/11F10',\n 'Mietserver Private Company Server (Ulta AX160-NVMe 24',\n 'Hardware: Samsung 970 EVO M.2 with 2TB (FC-25684)',\n 'Mietserver [KS] Ulta AX160-NVMe 24 Core (AMD7402-15,',\n 'Mietserver [KS] Ulta100 Xeon NVMe SSD (E-2276G-11 E-2276G-12)',\n 'Hardware: RAM-Upgrade 128 GB AMD 7402-11 (FC-26693)',\n 'Hardware: Server-Upgrade (2x 960 GB PM883) (FC-26713)',\n 'Shared Housing Ultahost-A3',\n 'Hardware: Server-Upgrade: SSD (FC-29004)',\n 'Hardware: Server-Upgrade: RAM (FC-29004)',\n '1G Uplink Ultahost-A3 (FC-30128)',\n 'Hardware: 64 GB RAM Ultahost-A1 (FC-29564)',\n 'Hardware: Server-Upgrade AMD 7451-1 (FC-31437)',\n 'DDoS Protection Arbor Lite (FC-31602)',\n 'Mietserver Dell Server Hardware (FC-31772)',\n 'Hardware: Server-Upgrade E-2276G-1 (FC-32269)',\n 'Hardware: Server-Upgrade AMD7402-5 (FC-32606)',\n 'Hardware: Serverupgrade A2 (FC-32852)',\n 'Hardware: FC-33801',\n '1/1 Rack (R1/3.16)',\n 'Power Feeds Rack R1/3.16',\n 'Uplinks Rack R1/3.16',\n 'Mietgerät: Juniper QFX5100-48T (FC-2291D2A, FC-2291EB8)',\n 'Mietserver Ulta 100-Xeon no SSD (FC-33243-57)',\n 'Mietserver: VPS Host (FC-33262-64)',\n 'Hardware Components',\n 'Storage-Upgrade ',\n 'Hardware: Intel X540-T2 (Dual 10GbE)',\n 'IP-Netz (159.100.30.0/24, 212.224.107.0/24)',\n '1TB SSD for server AMD7402-16',\n 'Dedicated Server: VPS Host (NVMe based)',\n '3U Supermicro Server - Modification',\n 'Dedicated Server FC-35348, FC-35624',\n 'Dedicated Server FC-35349',\n 'Serverupgrade 276G-1',\n 'LSI 9560-16i Raid Controller',\n '92TB PM983 Samsung NVMe SSD',\n '1x 960GB PM893 SSD',\n 'Dedicated Server FC-35865',\n 'Mietserver [KS] Ulta100 Xeon No-SSD (lease purchase) (E-2276G-13',\n 'Stromleistung Standort Kruppstraße je kW/h zusätzlich',\n 'Dedicated Server: FC-36099',\n 'Dedicated Server: FC-36067, FC-36068',\n 'Dedicated Server: FC-36035',\n 'Hardware: 960GB M.2 PM983 NVMe',\n '1/1 Colocation Rack: R3/3.17',\n 'Power Feeds for 5KW Colocation Racks',\n 'Fiber Uplinks for 5KW Colocation Racks',\n 'Network Switch: Juniper QFX5100-48T']"
     },
     "execution_count": 16,
     "metadata": {},
     "output_type": "execute_result"
    }
   ],
   "source": [
    "telist3"
   ],
   "metadata": {
    "collapsed": false,
    "pycharm": {
     "name": "#%%\n"
    }
   }
  },
  {
   "cell_type": "code",
   "execution_count": 17,
   "outputs": [
    {
     "data": {
      "text/plain": "112"
     },
     "execution_count": 17,
     "metadata": {},
     "output_type": "execute_result"
    }
   ],
   "source": [
    "len(telist3)"
   ],
   "metadata": {
    "collapsed": false,
    "pycharm": {
     "name": "#%%\n"
    }
   }
  },
  {
   "cell_type": "code",
   "execution_count": 18,
   "outputs": [],
   "source": [
    "merged_data = pd.merge(newdata2, newdata1, on=\"Name\", how=\"inner\")"
   ],
   "metadata": {
    "collapsed": false,
    "pycharm": {
     "name": "#%%\n"
    }
   }
  },
  {
   "cell_type": "code",
   "execution_count": 19,
   "outputs": [
    {
     "data": {
      "text/plain": "                                                  Name  quantity_x  \\\n0                                    1 HE im 19'' Rack        2000   \n1    IP-Netz (159.100.29.0/24, 212.224.86.0/24, 212...        9000   \n2                Remote Hands - Service Dienstleistung        1000   \n3                Remote Hands - Service Dienstleistung        1000   \n4                Remote Hands - Service Dienstleistung        1000   \n..                                                 ...         ...   \n107                     Hardware: 960GB M.2 PM983 NVMe        5000   \n108                       1/1 Colocation Rack: R3/3.17        1000   \n109               Power Feeds for 5KW Colocation Racks        1000   \n110             Fiber Uplinks for 5KW Colocation Racks        1000   \n111                Network Switch: Juniper QFX5100-48T        1000   \n\n     per_unit_x  total_x  quantity_y  per_unit_y  total_y  \n0         65000    13000        2000       65000    13000  \n1        154500   139050        8000      154500   123600  \n2         45000     4500        1000       45000     4500  \n3         45000     4500        3000       45000    13500  \n4         45000     4500        1000       45000     4500  \n..          ...      ...         ...         ...      ...  \n107        4250     2125        5000        4250     2125  \n108      495000    49500        1000           0        0  \n109      160000    16000        1000           0        0  \n110      129000    12900        1000           0        0  \n111      175000    17500        1000           0        0  \n\n[112 rows x 7 columns]",
      "text/html": "<div>\n<style scoped>\n    .dataframe tbody tr th:only-of-type {\n        vertical-align: middle;\n    }\n\n    .dataframe tbody tr th {\n        vertical-align: top;\n    }\n\n    .dataframe thead th {\n        text-align: right;\n    }\n</style>\n<table border=\"1\" class=\"dataframe\">\n  <thead>\n    <tr style=\"text-align: right;\">\n      <th></th>\n      <th>Name</th>\n      <th>quantity_x</th>\n      <th>per_unit_x</th>\n      <th>total_x</th>\n      <th>quantity_y</th>\n      <th>per_unit_y</th>\n      <th>total_y</th>\n    </tr>\n  </thead>\n  <tbody>\n    <tr>\n      <th>0</th>\n      <td>1 HE im 19'' Rack</td>\n      <td>2000</td>\n      <td>65000</td>\n      <td>13000</td>\n      <td>2000</td>\n      <td>65000</td>\n      <td>13000</td>\n    </tr>\n    <tr>\n      <th>1</th>\n      <td>IP-Netz (159.100.29.0/24, 212.224.86.0/24, 212...</td>\n      <td>9000</td>\n      <td>154500</td>\n      <td>139050</td>\n      <td>8000</td>\n      <td>154500</td>\n      <td>123600</td>\n    </tr>\n    <tr>\n      <th>2</th>\n      <td>Remote Hands - Service Dienstleistung</td>\n      <td>1000</td>\n      <td>45000</td>\n      <td>4500</td>\n      <td>1000</td>\n      <td>45000</td>\n      <td>4500</td>\n    </tr>\n    <tr>\n      <th>3</th>\n      <td>Remote Hands - Service Dienstleistung</td>\n      <td>1000</td>\n      <td>45000</td>\n      <td>4500</td>\n      <td>3000</td>\n      <td>45000</td>\n      <td>13500</td>\n    </tr>\n    <tr>\n      <th>4</th>\n      <td>Remote Hands - Service Dienstleistung</td>\n      <td>1000</td>\n      <td>45000</td>\n      <td>4500</td>\n      <td>1000</td>\n      <td>45000</td>\n      <td>4500</td>\n    </tr>\n    <tr>\n      <th>...</th>\n      <td>...</td>\n      <td>...</td>\n      <td>...</td>\n      <td>...</td>\n      <td>...</td>\n      <td>...</td>\n      <td>...</td>\n    </tr>\n    <tr>\n      <th>107</th>\n      <td>Hardware: 960GB M.2 PM983 NVMe</td>\n      <td>5000</td>\n      <td>4250</td>\n      <td>2125</td>\n      <td>5000</td>\n      <td>4250</td>\n      <td>2125</td>\n    </tr>\n    <tr>\n      <th>108</th>\n      <td>1/1 Colocation Rack: R3/3.17</td>\n      <td>1000</td>\n      <td>495000</td>\n      <td>49500</td>\n      <td>1000</td>\n      <td>0</td>\n      <td>0</td>\n    </tr>\n    <tr>\n      <th>109</th>\n      <td>Power Feeds for 5KW Colocation Racks</td>\n      <td>1000</td>\n      <td>160000</td>\n      <td>16000</td>\n      <td>1000</td>\n      <td>0</td>\n      <td>0</td>\n    </tr>\n    <tr>\n      <th>110</th>\n      <td>Fiber Uplinks for 5KW Colocation Racks</td>\n      <td>1000</td>\n      <td>129000</td>\n      <td>12900</td>\n      <td>1000</td>\n      <td>0</td>\n      <td>0</td>\n    </tr>\n    <tr>\n      <th>111</th>\n      <td>Network Switch: Juniper QFX5100-48T</td>\n      <td>1000</td>\n      <td>175000</td>\n      <td>17500</td>\n      <td>1000</td>\n      <td>0</td>\n      <td>0</td>\n    </tr>\n  </tbody>\n</table>\n<p>112 rows × 7 columns</p>\n</div>"
     },
     "execution_count": 19,
     "metadata": {},
     "output_type": "execute_result"
    }
   ],
   "source": [
    "merged_data"
   ],
   "metadata": {
    "collapsed": false,
    "pycharm": {
     "name": "#%%\n"
    }
   }
  },
  {
   "cell_type": "code",
   "execution_count": 20,
   "outputs": [],
   "source": [
    "nlist4=[]\n",
    "for i in newdata3[\"Name\"]:\n",
    "    nlist4.append(i)"
   ],
   "metadata": {
    "collapsed": false,
    "pycharm": {
     "name": "#%%\n"
    }
   }
  },
  {
   "cell_type": "code",
   "execution_count": 21,
   "outputs": [
    {
     "data": {
      "text/plain": "88"
     },
     "execution_count": 21,
     "metadata": {},
     "output_type": "execute_result"
    }
   ],
   "source": [
    "len(nlist4)"
   ],
   "metadata": {
    "collapsed": false,
    "pycharm": {
     "name": "#%%\n"
    }
   }
  },
  {
   "cell_type": "code",
   "execution_count": 22,
   "outputs": [
    {
     "data": {
      "text/plain": "(88, 4)"
     },
     "execution_count": 22,
     "metadata": {},
     "output_type": "execute_result"
    }
   ],
   "source": [
    "newdata3.shape"
   ],
   "metadata": {
    "collapsed": false,
    "pycharm": {
     "name": "#%%\n"
    }
   }
  },
  {
   "cell_type": "code",
   "execution_count": 23,
   "outputs": [],
   "source": [
    "telist4=[]\n",
    "for i in nlist4:\n",
    "    if i not in nlist2:\n",
    "        telist4.append(i)"
   ],
   "metadata": {
    "collapsed": false,
    "pycharm": {
     "name": "#%%\n"
    }
   }
  },
  {
   "cell_type": "code",
   "execution_count": 24,
   "outputs": [],
   "source": [
    "telist5=[]\n",
    "for i in nlist2:\n",
    "    if i not in nlist4:\n",
    "        telist5.append(i)"
   ],
   "metadata": {
    "collapsed": false,
    "pycharm": {
     "name": "#%%\n"
    }
   }
  },
  {
   "cell_type": "code",
   "execution_count": 25,
   "outputs": [
    {
     "data": {
      "text/plain": "['IP-Net (159.100.29.0/24, 212.224.86.0/24, 212.224.88.0/24,',\n 'Remote Hands - Service fee',\n 'Remote Hands - Service fee',\n 'Remote Hands - Service fee',\n 'Remote Hands - Service fee',\n 'commited power usage',\n 'rental equipment: Network Switch Juniper EX4300-48T (FC-213814D',\n 'rental server Ulta AX160-NVMe 32 Core (lease-purchase) (FC-23943)',\n 'rental server Ulta AX160-NVMe 24 Core (lease-purchase)',\n 'rental server Ulta100 Xeon SSD (lease-purchase) (FC-23958-62)',\n 'rental server Ulta100 Xeon No-SSD (lease-purchase) (FC-23963-67)',\n 'power usage per kW/h additional: total',\n 'power usage per kW/h on circuit: UV-RZ-Vario-B/F2.4',\n 'power usage per kW/h on circuit: UV-RZ-Vario-B/F1.8',\n 'power usage per kW/h on circuit: UV-RZ-Vario-A/F1.8',\n 'power usage per kW/h on circuit: UV-RZ-Vario-A/F2.4',\n 'power usage per kW/h on circuit: UV2/11F9',\n 'power usage per kW/h on circuit: UV2/11F10',\n 'rental server Private Company Server (Ulta AX160-NVMe',\n 'rental server [KS] Ulta AX160-NVMe 24 Core (AMD7402-15,',\n 'rental server [KS] Ulta100 Xeon NVMe SSD (E-2276G-11',\n 'rental server Dell Server Hardware (FC-31772)',\n 'rental equipment: Juniper QFX5100-48T (FC-2291D2A, FC-2291EB8)',\n 'rental server Ulta 100-Xeon no SSD (FC-33243-57)',\n 'IP-Net (159.100.30.0/24, 212.224.107.0/24)',\n 'rental server [KS] Ulta100 Xeon No-SSD (lease purchase)',\n 'Dedicted Server - VPS Host: FC-35579, FC-35580, FC-35581,']"
     },
     "execution_count": 25,
     "metadata": {},
     "output_type": "execute_result"
    }
   ],
   "source": [
    "telist4"
   ],
   "metadata": {
    "collapsed": false,
    "pycharm": {
     "name": "#%%\n"
    }
   }
  },
  {
   "cell_type": "code",
   "execution_count": 26,
   "outputs": [
    {
     "data": {
      "text/plain": "['IP-Netz (159.100.29.0/24, 212.224.86.0/24, 212.224.88.0/24,',\n 'Remote Hands - Service Dienstleistung',\n 'Remote Hands - Service Dienstleistung',\n 'Remote Hands - Service Dienstleistung',\n 'Remote Hands - Service Dienstleistung',\n 'Remote Hands - Service Dienstleistung',\n 'Remote Hands - Service Dienstleistung',\n 'Stromleistung je kW/h Mindestabnahme',\n 'Mietgerät: Network Switch Juniper EX4300-48T (FC-213814D,',\n 'Mietserver Ulta AX160-NVMe 32 Core (lease-purchase) (FC-23943)',\n 'Mietserver Ulta AX160-NVMe 24 Core (lease-purchase) (FC-23944-57',\n 'Mietserver Ulta100 Xeon SSD (lease-purchase) (FC-23958-62)',\n 'Mietserver Ulta100 Xeon No-SSD (lease-purchase) (FC-23963-67)',\n 'Stromleistung je kW/h zusätzlich: gesamt',\n 'Stromleistung je kW/h auf Stromkreis: UV-RZ-Vario-B/F2.4',\n 'Stromleistung je kW/h auf Stromkreis: UV-RZ-Vario-B/F1.8',\n 'Stromleistung je kW/h auf Stromkreis: UV-RZ-Vario-A/F2.4',\n 'Stromleistung je kW/h auf Stromkreis: UV-RZ-Vario-A/F1.8',\n 'Stromleistung je kW/h auf Stromkreis: UV2/11F9',\n 'Stromleistung je kW/h auf Stromkreis: UV2/11F10',\n 'Mietserver Private Company Server (Ulta AX160-NVMe 24',\n 'Mietserver [KS] Ulta AX160-NVMe 24 Core (AMD7402-15,',\n 'Mietserver [KS] Ulta100 Xeon NVMe SSD (E-2276G-11 E-2276G-12)',\n 'Mietserver Dell Server Hardware (FC-31772)',\n 'Mietgerät: Juniper QFX5100-48T (FC-2291D2A, FC-2291EB8)',\n 'Mietserver Ulta 100-Xeon no SSD (FC-33243-57)',\n 'IP-Netz (159.100.30.0/24, 212.224.107.0/24)',\n 'Mietserver [KS] Ulta100 Xeon No-SSD (lease purchase) (E-2276G-13',\n 'Dedicted Server - VPS Host: FC-35579, FC-35580, FC-35581']"
     },
     "execution_count": 26,
     "metadata": {},
     "output_type": "execute_result"
    }
   ],
   "source": [
    "telist5"
   ],
   "metadata": {
    "collapsed": false,
    "pycharm": {
     "name": "#%%\n"
    }
   }
  },
  {
   "cell_type": "code",
   "execution_count": 27,
   "outputs": [
    {
     "data": {
      "text/plain": "27"
     },
     "execution_count": 27,
     "metadata": {},
     "output_type": "execute_result"
    }
   ],
   "source": [
    "len(telist4)"
   ],
   "metadata": {
    "collapsed": false,
    "pycharm": {
     "name": "#%%\n"
    }
   }
  },
  {
   "cell_type": "code",
   "execution_count": 28,
   "outputs": [
    {
     "data": {
      "text/plain": "29"
     },
     "execution_count": 28,
     "metadata": {},
     "output_type": "execute_result"
    }
   ],
   "source": [
    "len(telist5)"
   ],
   "metadata": {
    "collapsed": false,
    "pycharm": {
     "name": "#%%\n"
    }
   }
  },
  {
   "cell_type": "code",
   "execution_count": 47,
   "outputs": [],
   "source": [
    "newdata2[newdata2['Name'].isin(telist1)].to_csv(\"2notin1.csv\",index=False)"
   ],
   "metadata": {
    "collapsed": false,
    "pycharm": {
     "name": "#%%\n"
    }
   }
  },
  {
   "cell_type": "code",
   "execution_count": 48,
   "outputs": [],
   "source": [
    "newdata1[newdata1['Name'].isin(telist2)].to_csv(\"1notin2.csv\",index=False)"
   ],
   "metadata": {
    "collapsed": false,
    "pycharm": {
     "name": "#%%\n"
    }
   }
  },
  {
   "cell_type": "code",
   "execution_count": 44,
   "outputs": [],
   "source": [
    "newdata2[newdata2['Name'].isin(telist5)].to_csv(\"2notin4.csv\",index=False)"
   ],
   "metadata": {
    "collapsed": false,
    "pycharm": {
     "name": "#%%\n"
    }
   }
  },
  {
   "cell_type": "code",
   "execution_count": 45,
   "outputs": [],
   "source": [
    "newdata3[newdata3['Name'].isin(telist4)].to_csv(\"4notin2.csv\",index=False)"
   ],
   "metadata": {
    "collapsed": false,
    "pycharm": {
     "name": "#%%\n"
    }
   }
  },
  {
   "cell_type": "code",
   "execution_count": 33,
   "outputs": [],
   "source": [
    "merged_data1 = pd.merge(newdata3, newdata2, on=\"Name\", how=\"inner\")"
   ],
   "metadata": {
    "collapsed": false,
    "pycharm": {
     "name": "#%%\n"
    }
   }
  },
  {
   "cell_type": "code",
   "execution_count": 34,
   "outputs": [
    {
     "data": {
      "text/plain": "                                                Name  quantity_x  per_unit_x  \\\n0                        Dedicated Server - FC-37113        1000      258000   \n1                         Dedicated Server - Ulta100       24000       63200   \n2                        Dedicated Server - FC-36850        1000       84800   \n3                             Hardware: 3.84TB PM893        2000        9600   \n4                                  1 HE im 19'' Rack        2000       65000   \n..                                               ...         ...         ...   \n56                        Dedicated Server: FC-36865        1000      105000   \n57                       Dedicated Server - AMD 7763        1000      177000   \n58                       Dedicated Server - AMD 7352        4000      100000   \n59  Hardware: 1.92 TB SSD Samsung PM893 MZ7L31T9HBLT        4000        5800   \n60                                Hardware: X520-DA2        2000       10000   \n\n    total_x  quantity_y  per_unit_y  total_y  \n0     25800        1000      258000    25800  \n1    151680       24000       63200   151680  \n2      8480        1000       84800     8480  \n3      1920        2000        9600     1920  \n4     13000        2000       65000    13000  \n..      ...         ...         ...      ...  \n56    10500        1000      105000    10500  \n57    17700        1000      177000    17700  \n58    40000        4000      100000    40000  \n59     2320        4000        5800     2320  \n60     2000        2000       10000     2000  \n\n[61 rows x 7 columns]",
      "text/html": "<div>\n<style scoped>\n    .dataframe tbody tr th:only-of-type {\n        vertical-align: middle;\n    }\n\n    .dataframe tbody tr th {\n        vertical-align: top;\n    }\n\n    .dataframe thead th {\n        text-align: right;\n    }\n</style>\n<table border=\"1\" class=\"dataframe\">\n  <thead>\n    <tr style=\"text-align: right;\">\n      <th></th>\n      <th>Name</th>\n      <th>quantity_x</th>\n      <th>per_unit_x</th>\n      <th>total_x</th>\n      <th>quantity_y</th>\n      <th>per_unit_y</th>\n      <th>total_y</th>\n    </tr>\n  </thead>\n  <tbody>\n    <tr>\n      <th>0</th>\n      <td>Dedicated Server - FC-37113</td>\n      <td>1000</td>\n      <td>258000</td>\n      <td>25800</td>\n      <td>1000</td>\n      <td>258000</td>\n      <td>25800</td>\n    </tr>\n    <tr>\n      <th>1</th>\n      <td>Dedicated Server - Ulta100</td>\n      <td>24000</td>\n      <td>63200</td>\n      <td>151680</td>\n      <td>24000</td>\n      <td>63200</td>\n      <td>151680</td>\n    </tr>\n    <tr>\n      <th>2</th>\n      <td>Dedicated Server - FC-36850</td>\n      <td>1000</td>\n      <td>84800</td>\n      <td>8480</td>\n      <td>1000</td>\n      <td>84800</td>\n      <td>8480</td>\n    </tr>\n    <tr>\n      <th>3</th>\n      <td>Hardware: 3.84TB PM893</td>\n      <td>2000</td>\n      <td>9600</td>\n      <td>1920</td>\n      <td>2000</td>\n      <td>9600</td>\n      <td>1920</td>\n    </tr>\n    <tr>\n      <th>4</th>\n      <td>1 HE im 19'' Rack</td>\n      <td>2000</td>\n      <td>65000</td>\n      <td>13000</td>\n      <td>2000</td>\n      <td>65000</td>\n      <td>13000</td>\n    </tr>\n    <tr>\n      <th>...</th>\n      <td>...</td>\n      <td>...</td>\n      <td>...</td>\n      <td>...</td>\n      <td>...</td>\n      <td>...</td>\n      <td>...</td>\n    </tr>\n    <tr>\n      <th>56</th>\n      <td>Dedicated Server: FC-36865</td>\n      <td>1000</td>\n      <td>105000</td>\n      <td>10500</td>\n      <td>1000</td>\n      <td>105000</td>\n      <td>10500</td>\n    </tr>\n    <tr>\n      <th>57</th>\n      <td>Dedicated Server - AMD 7763</td>\n      <td>1000</td>\n      <td>177000</td>\n      <td>17700</td>\n      <td>1000</td>\n      <td>177000</td>\n      <td>17700</td>\n    </tr>\n    <tr>\n      <th>58</th>\n      <td>Dedicated Server - AMD 7352</td>\n      <td>4000</td>\n      <td>100000</td>\n      <td>40000</td>\n      <td>4000</td>\n      <td>100000</td>\n      <td>40000</td>\n    </tr>\n    <tr>\n      <th>59</th>\n      <td>Hardware: 1.92 TB SSD Samsung PM893 MZ7L31T9HBLT</td>\n      <td>4000</td>\n      <td>5800</td>\n      <td>2320</td>\n      <td>4000</td>\n      <td>5800</td>\n      <td>2320</td>\n    </tr>\n    <tr>\n      <th>60</th>\n      <td>Hardware: X520-DA2</td>\n      <td>2000</td>\n      <td>10000</td>\n      <td>2000</td>\n      <td>2000</td>\n      <td>10000</td>\n      <td>2000</td>\n    </tr>\n  </tbody>\n</table>\n<p>61 rows × 7 columns</p>\n</div>"
     },
     "execution_count": 34,
     "metadata": {},
     "output_type": "execute_result"
    }
   ],
   "source": [
    "merged_data1"
   ],
   "metadata": {
    "collapsed": false,
    "pycharm": {
     "name": "#%%\n"
    }
   }
  },
  {
   "cell_type": "code",
   "execution_count": 35,
   "outputs": [],
   "source": [
    "merged_data2 = pd.merge(merged_data, newdata3, on=\"Name\", how=\"inner\")"
   ],
   "metadata": {
    "collapsed": false,
    "pycharm": {
     "name": "#%%\n"
    }
   }
  },
  {
   "cell_type": "code",
   "execution_count": 36,
   "outputs": [
    {
     "data": {
      "text/plain": "                                                 Name  quantity_x  per_unit_x  \\\n0                                   1 HE im 19'' Rack        2000       65000   \n1         Network Card extension + cabling (FC-24908)        5000       11000   \n2   Hardware: Samsung PM883 3840GB (FC-24821, FC-2...        4000       22000   \n3           Hardware: Samsung PM883 1920GB (FC-25256)        1000       12500   \n4          Hardware: RAM-Upgrade AMD7452-1 (FC-25362)        1000       91500   \n5                          19'' Rack inkl. Klima (M8)        1000      752850   \n6   Hardware: Samsung 970 EVO M.2 with 2TB (FC-25684)        9000       12500   \n7   Hardware: RAM-Upgrade 128 GB AMD 7402-11 (FC-2...        1000       30500   \n8   Hardware: Server-Upgrade (2x 960 GB PM883) (FC...        2000       11270   \n9                          Shared Housing Ultahost-A3        1000       65000   \n10           Hardware: Server-Upgrade: SSD (FC-29004)        1000      415000   \n11           Hardware: Server-Upgrade: RAM (FC-29004)        1000      399000   \n12                   1G Uplink Ultahost-A3 (FC-30128)        1000       10000   \n13         Hardware: 64 GB RAM Ultahost-A1 (FC-29564)        1000       27000   \n14     Hardware: Server-Upgrade AMD 7451-1 (FC-31437)        1000       90000   \n15              DDoS Protection Arbor Lite (FC-31602)        1000       99000   \n16      Hardware: Server-Upgrade E-2276G-1 (FC-32269)        1000      130000   \n17      Hardware: Server-Upgrade AMD7402-5 (FC-32606)        1000       13600   \n18              Hardware: Serverupgrade A2 (FC-32852)        1000      374000   \n19                                 Hardware: FC-33801        1000      172800   \n20                                 1/1 Rack (R1/3.16)        1000      495000   \n21                           Power Feeds Rack R1/3.16        1000      160000   \n22                               Uplinks Rack R1/3.16        1000      129000   \n23                 Mietserver: VPS Host (FC-33262-64)        1000      433000   \n24                                Hardware Components        1000      323000   \n25                                   Storage-Upgrade         1000       15000   \n26               Hardware: Intel X540-T2 (Dual 10GbE)        2000       24000   \n27                      1TB SSD for server AMD7402-16        1000        5000   \n28            Dedicated Server: VPS Host (NVMe based)        1000      618000   \n29                3U Supermicro Server - Modification        1000      204650   \n30                Dedicated Server FC-35348, FC-35624        2000      130000   \n31                          Dedicated Server FC-35349        1000      140000   \n32                               Serverupgrade 276G-1        1000       33450   \n33                       LSI 9560-16i Raid Controller        1000       45000   \n34                        92TB PM983 Samsung NVMe SSD        1000        8300   \n35                                 1x 960GB PM893 SSD        1000        5500   \n36                          Dedicated Server FC-35865        1000       88000   \n37  Stromleistung Standort Kruppstraße je kW/h zus...     2221000         570   \n38                         Dedicated Server: FC-36099        1000      130000   \n39               Dedicated Server: FC-36067, FC-36068        2000      125000   \n40                         Dedicated Server: FC-36035        1000      140000   \n41                     Hardware: 960GB M.2 PM983 NVMe        5000        4250   \n42                       1/1 Colocation Rack: R3/3.17        1000      495000   \n43               Power Feeds for 5KW Colocation Racks        1000      160000   \n44             Fiber Uplinks for 5KW Colocation Racks        1000      129000   \n45                Network Switch: Juniper QFX5100-48T        1000      175000   \n\n    total_x  quantity_y  per_unit_y  total_y  quantity  per_unit   total  \n0     13000        2000       65000    13000      2000     65000   13000  \n1      5500        5000       11000     5500      5000     11000    5500  \n2      8800        4000       22000     8800      4000     22000    8800  \n3      1250        1000       12500     1250      1000     12500    1250  \n4      9150        1000       91500     9150      1000     91500    9150  \n5     75285        1000      752850    75285      1000    752850   75285  \n6     11250        9000       12500    11250      9000     12500   11250  \n7      3050        1000       30500     3050      1000     30500    3050  \n8      2254        2000       11270     2254      2000     11270    2254  \n9      6500        1000       65000     6500      1000     65000    6500  \n10    41500        1000      415000    41500      1000    415000   41500  \n11    39900        1000      399000    39900      1000    399000   39900  \n12     1000        1000       10000     1000      1000     10000    1000  \n13     2700        1000       27000     2700      1000     27000    2700  \n14     9000        1000       90000     9000      1000     90000    9000  \n15     9900        1000       99000     9900      1000     99000    9900  \n16    13000        1000      130000    13000      1000    130000   13000  \n17     1360        1000       13600     1360      1000     13600    1360  \n18    37400        1000      374000    37400      1000    374000   37400  \n19    17280        1000      172800    17280      1000    172800   17280  \n20    49500        1000           0        0      1000    495000   49500  \n21    16000        1000           0        0      1000    160000   16000  \n22    12900        1000           0        0      1000    129000   12900  \n23    43300        1000      433000    43300      1000    433000   43300  \n24    32300        1000      323000    32300      1000    323000   32300  \n25     1500        1000       15000     1500      1000     15000    1500  \n26     4800        2000       24000     4800      2000     24000    4800  \n27      500        1000        5000      500      1000      5000     500  \n28    61800        1000      618000    61800      1000    618000   61800  \n29    20465        1000      204650    20465      1000    204650   20465  \n30    26000        2000      130000    26000      2000    130000   26000  \n31    14000        1000      140000    14000      1000    140000   14000  \n32     3345        1000       33450     3345      1000     33450    3345  \n33     4500        1000       45000     4500      1000     45000    4500  \n34      830        1000        8300      830      1000      8300     830  \n35      550        1000        5500      550      1000      5500     550  \n36     8800        1000       88000     8800      1000     88000    8800  \n37   126597     1987000         570   113259   2183000       570  124431  \n38    13000        1000      130000    13000      1000    130000   13000  \n39    25000        2000      125000    25000      2000    125000   25000  \n40    14000        1000      140000    14000      1000    140000   14000  \n41     2125        5000        4250     2125      5000      4250    2125  \n42    49500        1000           0        0      1000    495000   49500  \n43    16000        1000           0        0      1000    160000   16000  \n44    12900        1000           0        0      1000    129000   12900  \n45    17500        1000           0        0      1000    175000   17500  ",
      "text/html": "<div>\n<style scoped>\n    .dataframe tbody tr th:only-of-type {\n        vertical-align: middle;\n    }\n\n    .dataframe tbody tr th {\n        vertical-align: top;\n    }\n\n    .dataframe thead th {\n        text-align: right;\n    }\n</style>\n<table border=\"1\" class=\"dataframe\">\n  <thead>\n    <tr style=\"text-align: right;\">\n      <th></th>\n      <th>Name</th>\n      <th>quantity_x</th>\n      <th>per_unit_x</th>\n      <th>total_x</th>\n      <th>quantity_y</th>\n      <th>per_unit_y</th>\n      <th>total_y</th>\n      <th>quantity</th>\n      <th>per_unit</th>\n      <th>total</th>\n    </tr>\n  </thead>\n  <tbody>\n    <tr>\n      <th>0</th>\n      <td>1 HE im 19'' Rack</td>\n      <td>2000</td>\n      <td>65000</td>\n      <td>13000</td>\n      <td>2000</td>\n      <td>65000</td>\n      <td>13000</td>\n      <td>2000</td>\n      <td>65000</td>\n      <td>13000</td>\n    </tr>\n    <tr>\n      <th>1</th>\n      <td>Network Card extension + cabling (FC-24908)</td>\n      <td>5000</td>\n      <td>11000</td>\n      <td>5500</td>\n      <td>5000</td>\n      <td>11000</td>\n      <td>5500</td>\n      <td>5000</td>\n      <td>11000</td>\n      <td>5500</td>\n    </tr>\n    <tr>\n      <th>2</th>\n      <td>Hardware: Samsung PM883 3840GB (FC-24821, FC-2...</td>\n      <td>4000</td>\n      <td>22000</td>\n      <td>8800</td>\n      <td>4000</td>\n      <td>22000</td>\n      <td>8800</td>\n      <td>4000</td>\n      <td>22000</td>\n      <td>8800</td>\n    </tr>\n    <tr>\n      <th>3</th>\n      <td>Hardware: Samsung PM883 1920GB (FC-25256)</td>\n      <td>1000</td>\n      <td>12500</td>\n      <td>1250</td>\n      <td>1000</td>\n      <td>12500</td>\n      <td>1250</td>\n      <td>1000</td>\n      <td>12500</td>\n      <td>1250</td>\n    </tr>\n    <tr>\n      <th>4</th>\n      <td>Hardware: RAM-Upgrade AMD7452-1 (FC-25362)</td>\n      <td>1000</td>\n      <td>91500</td>\n      <td>9150</td>\n      <td>1000</td>\n      <td>91500</td>\n      <td>9150</td>\n      <td>1000</td>\n      <td>91500</td>\n      <td>9150</td>\n    </tr>\n    <tr>\n      <th>5</th>\n      <td>19'' Rack inkl. Klima (M8)</td>\n      <td>1000</td>\n      <td>752850</td>\n      <td>75285</td>\n      <td>1000</td>\n      <td>752850</td>\n      <td>75285</td>\n      <td>1000</td>\n      <td>752850</td>\n      <td>75285</td>\n    </tr>\n    <tr>\n      <th>6</th>\n      <td>Hardware: Samsung 970 EVO M.2 with 2TB (FC-25684)</td>\n      <td>9000</td>\n      <td>12500</td>\n      <td>11250</td>\n      <td>9000</td>\n      <td>12500</td>\n      <td>11250</td>\n      <td>9000</td>\n      <td>12500</td>\n      <td>11250</td>\n    </tr>\n    <tr>\n      <th>7</th>\n      <td>Hardware: RAM-Upgrade 128 GB AMD 7402-11 (FC-2...</td>\n      <td>1000</td>\n      <td>30500</td>\n      <td>3050</td>\n      <td>1000</td>\n      <td>30500</td>\n      <td>3050</td>\n      <td>1000</td>\n      <td>30500</td>\n      <td>3050</td>\n    </tr>\n    <tr>\n      <th>8</th>\n      <td>Hardware: Server-Upgrade (2x 960 GB PM883) (FC...</td>\n      <td>2000</td>\n      <td>11270</td>\n      <td>2254</td>\n      <td>2000</td>\n      <td>11270</td>\n      <td>2254</td>\n      <td>2000</td>\n      <td>11270</td>\n      <td>2254</td>\n    </tr>\n    <tr>\n      <th>9</th>\n      <td>Shared Housing Ultahost-A3</td>\n      <td>1000</td>\n      <td>65000</td>\n      <td>6500</td>\n      <td>1000</td>\n      <td>65000</td>\n      <td>6500</td>\n      <td>1000</td>\n      <td>65000</td>\n      <td>6500</td>\n    </tr>\n    <tr>\n      <th>10</th>\n      <td>Hardware: Server-Upgrade: SSD (FC-29004)</td>\n      <td>1000</td>\n      <td>415000</td>\n      <td>41500</td>\n      <td>1000</td>\n      <td>415000</td>\n      <td>41500</td>\n      <td>1000</td>\n      <td>415000</td>\n      <td>41500</td>\n    </tr>\n    <tr>\n      <th>11</th>\n      <td>Hardware: Server-Upgrade: RAM (FC-29004)</td>\n      <td>1000</td>\n      <td>399000</td>\n      <td>39900</td>\n      <td>1000</td>\n      <td>399000</td>\n      <td>39900</td>\n      <td>1000</td>\n      <td>399000</td>\n      <td>39900</td>\n    </tr>\n    <tr>\n      <th>12</th>\n      <td>1G Uplink Ultahost-A3 (FC-30128)</td>\n      <td>1000</td>\n      <td>10000</td>\n      <td>1000</td>\n      <td>1000</td>\n      <td>10000</td>\n      <td>1000</td>\n      <td>1000</td>\n      <td>10000</td>\n      <td>1000</td>\n    </tr>\n    <tr>\n      <th>13</th>\n      <td>Hardware: 64 GB RAM Ultahost-A1 (FC-29564)</td>\n      <td>1000</td>\n      <td>27000</td>\n      <td>2700</td>\n      <td>1000</td>\n      <td>27000</td>\n      <td>2700</td>\n      <td>1000</td>\n      <td>27000</td>\n      <td>2700</td>\n    </tr>\n    <tr>\n      <th>14</th>\n      <td>Hardware: Server-Upgrade AMD 7451-1 (FC-31437)</td>\n      <td>1000</td>\n      <td>90000</td>\n      <td>9000</td>\n      <td>1000</td>\n      <td>90000</td>\n      <td>9000</td>\n      <td>1000</td>\n      <td>90000</td>\n      <td>9000</td>\n    </tr>\n    <tr>\n      <th>15</th>\n      <td>DDoS Protection Arbor Lite (FC-31602)</td>\n      <td>1000</td>\n      <td>99000</td>\n      <td>9900</td>\n      <td>1000</td>\n      <td>99000</td>\n      <td>9900</td>\n      <td>1000</td>\n      <td>99000</td>\n      <td>9900</td>\n    </tr>\n    <tr>\n      <th>16</th>\n      <td>Hardware: Server-Upgrade E-2276G-1 (FC-32269)</td>\n      <td>1000</td>\n      <td>130000</td>\n      <td>13000</td>\n      <td>1000</td>\n      <td>130000</td>\n      <td>13000</td>\n      <td>1000</td>\n      <td>130000</td>\n      <td>13000</td>\n    </tr>\n    <tr>\n      <th>17</th>\n      <td>Hardware: Server-Upgrade AMD7402-5 (FC-32606)</td>\n      <td>1000</td>\n      <td>13600</td>\n      <td>1360</td>\n      <td>1000</td>\n      <td>13600</td>\n      <td>1360</td>\n      <td>1000</td>\n      <td>13600</td>\n      <td>1360</td>\n    </tr>\n    <tr>\n      <th>18</th>\n      <td>Hardware: Serverupgrade A2 (FC-32852)</td>\n      <td>1000</td>\n      <td>374000</td>\n      <td>37400</td>\n      <td>1000</td>\n      <td>374000</td>\n      <td>37400</td>\n      <td>1000</td>\n      <td>374000</td>\n      <td>37400</td>\n    </tr>\n    <tr>\n      <th>19</th>\n      <td>Hardware: FC-33801</td>\n      <td>1000</td>\n      <td>172800</td>\n      <td>17280</td>\n      <td>1000</td>\n      <td>172800</td>\n      <td>17280</td>\n      <td>1000</td>\n      <td>172800</td>\n      <td>17280</td>\n    </tr>\n    <tr>\n      <th>20</th>\n      <td>1/1 Rack (R1/3.16)</td>\n      <td>1000</td>\n      <td>495000</td>\n      <td>49500</td>\n      <td>1000</td>\n      <td>0</td>\n      <td>0</td>\n      <td>1000</td>\n      <td>495000</td>\n      <td>49500</td>\n    </tr>\n    <tr>\n      <th>21</th>\n      <td>Power Feeds Rack R1/3.16</td>\n      <td>1000</td>\n      <td>160000</td>\n      <td>16000</td>\n      <td>1000</td>\n      <td>0</td>\n      <td>0</td>\n      <td>1000</td>\n      <td>160000</td>\n      <td>16000</td>\n    </tr>\n    <tr>\n      <th>22</th>\n      <td>Uplinks Rack R1/3.16</td>\n      <td>1000</td>\n      <td>129000</td>\n      <td>12900</td>\n      <td>1000</td>\n      <td>0</td>\n      <td>0</td>\n      <td>1000</td>\n      <td>129000</td>\n      <td>12900</td>\n    </tr>\n    <tr>\n      <th>23</th>\n      <td>Mietserver: VPS Host (FC-33262-64)</td>\n      <td>1000</td>\n      <td>433000</td>\n      <td>43300</td>\n      <td>1000</td>\n      <td>433000</td>\n      <td>43300</td>\n      <td>1000</td>\n      <td>433000</td>\n      <td>43300</td>\n    </tr>\n    <tr>\n      <th>24</th>\n      <td>Hardware Components</td>\n      <td>1000</td>\n      <td>323000</td>\n      <td>32300</td>\n      <td>1000</td>\n      <td>323000</td>\n      <td>32300</td>\n      <td>1000</td>\n      <td>323000</td>\n      <td>32300</td>\n    </tr>\n    <tr>\n      <th>25</th>\n      <td>Storage-Upgrade</td>\n      <td>1000</td>\n      <td>15000</td>\n      <td>1500</td>\n      <td>1000</td>\n      <td>15000</td>\n      <td>1500</td>\n      <td>1000</td>\n      <td>15000</td>\n      <td>1500</td>\n    </tr>\n    <tr>\n      <th>26</th>\n      <td>Hardware: Intel X540-T2 (Dual 10GbE)</td>\n      <td>2000</td>\n      <td>24000</td>\n      <td>4800</td>\n      <td>2000</td>\n      <td>24000</td>\n      <td>4800</td>\n      <td>2000</td>\n      <td>24000</td>\n      <td>4800</td>\n    </tr>\n    <tr>\n      <th>27</th>\n      <td>1TB SSD for server AMD7402-16</td>\n      <td>1000</td>\n      <td>5000</td>\n      <td>500</td>\n      <td>1000</td>\n      <td>5000</td>\n      <td>500</td>\n      <td>1000</td>\n      <td>5000</td>\n      <td>500</td>\n    </tr>\n    <tr>\n      <th>28</th>\n      <td>Dedicated Server: VPS Host (NVMe based)</td>\n      <td>1000</td>\n      <td>618000</td>\n      <td>61800</td>\n      <td>1000</td>\n      <td>618000</td>\n      <td>61800</td>\n      <td>1000</td>\n      <td>618000</td>\n      <td>61800</td>\n    </tr>\n    <tr>\n      <th>29</th>\n      <td>3U Supermicro Server - Modification</td>\n      <td>1000</td>\n      <td>204650</td>\n      <td>20465</td>\n      <td>1000</td>\n      <td>204650</td>\n      <td>20465</td>\n      <td>1000</td>\n      <td>204650</td>\n      <td>20465</td>\n    </tr>\n    <tr>\n      <th>30</th>\n      <td>Dedicated Server FC-35348, FC-35624</td>\n      <td>2000</td>\n      <td>130000</td>\n      <td>26000</td>\n      <td>2000</td>\n      <td>130000</td>\n      <td>26000</td>\n      <td>2000</td>\n      <td>130000</td>\n      <td>26000</td>\n    </tr>\n    <tr>\n      <th>31</th>\n      <td>Dedicated Server FC-35349</td>\n      <td>1000</td>\n      <td>140000</td>\n      <td>14000</td>\n      <td>1000</td>\n      <td>140000</td>\n      <td>14000</td>\n      <td>1000</td>\n      <td>140000</td>\n      <td>14000</td>\n    </tr>\n    <tr>\n      <th>32</th>\n      <td>Serverupgrade 276G-1</td>\n      <td>1000</td>\n      <td>33450</td>\n      <td>3345</td>\n      <td>1000</td>\n      <td>33450</td>\n      <td>3345</td>\n      <td>1000</td>\n      <td>33450</td>\n      <td>3345</td>\n    </tr>\n    <tr>\n      <th>33</th>\n      <td>LSI 9560-16i Raid Controller</td>\n      <td>1000</td>\n      <td>45000</td>\n      <td>4500</td>\n      <td>1000</td>\n      <td>45000</td>\n      <td>4500</td>\n      <td>1000</td>\n      <td>45000</td>\n      <td>4500</td>\n    </tr>\n    <tr>\n      <th>34</th>\n      <td>92TB PM983 Samsung NVMe SSD</td>\n      <td>1000</td>\n      <td>8300</td>\n      <td>830</td>\n      <td>1000</td>\n      <td>8300</td>\n      <td>830</td>\n      <td>1000</td>\n      <td>8300</td>\n      <td>830</td>\n    </tr>\n    <tr>\n      <th>35</th>\n      <td>1x 960GB PM893 SSD</td>\n      <td>1000</td>\n      <td>5500</td>\n      <td>550</td>\n      <td>1000</td>\n      <td>5500</td>\n      <td>550</td>\n      <td>1000</td>\n      <td>5500</td>\n      <td>550</td>\n    </tr>\n    <tr>\n      <th>36</th>\n      <td>Dedicated Server FC-35865</td>\n      <td>1000</td>\n      <td>88000</td>\n      <td>8800</td>\n      <td>1000</td>\n      <td>88000</td>\n      <td>8800</td>\n      <td>1000</td>\n      <td>88000</td>\n      <td>8800</td>\n    </tr>\n    <tr>\n      <th>37</th>\n      <td>Stromleistung Standort Kruppstraße je kW/h zus...</td>\n      <td>2221000</td>\n      <td>570</td>\n      <td>126597</td>\n      <td>1987000</td>\n      <td>570</td>\n      <td>113259</td>\n      <td>2183000</td>\n      <td>570</td>\n      <td>124431</td>\n    </tr>\n    <tr>\n      <th>38</th>\n      <td>Dedicated Server: FC-36099</td>\n      <td>1000</td>\n      <td>130000</td>\n      <td>13000</td>\n      <td>1000</td>\n      <td>130000</td>\n      <td>13000</td>\n      <td>1000</td>\n      <td>130000</td>\n      <td>13000</td>\n    </tr>\n    <tr>\n      <th>39</th>\n      <td>Dedicated Server: FC-36067, FC-36068</td>\n      <td>2000</td>\n      <td>125000</td>\n      <td>25000</td>\n      <td>2000</td>\n      <td>125000</td>\n      <td>25000</td>\n      <td>2000</td>\n      <td>125000</td>\n      <td>25000</td>\n    </tr>\n    <tr>\n      <th>40</th>\n      <td>Dedicated Server: FC-36035</td>\n      <td>1000</td>\n      <td>140000</td>\n      <td>14000</td>\n      <td>1000</td>\n      <td>140000</td>\n      <td>14000</td>\n      <td>1000</td>\n      <td>140000</td>\n      <td>14000</td>\n    </tr>\n    <tr>\n      <th>41</th>\n      <td>Hardware: 960GB M.2 PM983 NVMe</td>\n      <td>5000</td>\n      <td>4250</td>\n      <td>2125</td>\n      <td>5000</td>\n      <td>4250</td>\n      <td>2125</td>\n      <td>5000</td>\n      <td>4250</td>\n      <td>2125</td>\n    </tr>\n    <tr>\n      <th>42</th>\n      <td>1/1 Colocation Rack: R3/3.17</td>\n      <td>1000</td>\n      <td>495000</td>\n      <td>49500</td>\n      <td>1000</td>\n      <td>0</td>\n      <td>0</td>\n      <td>1000</td>\n      <td>495000</td>\n      <td>49500</td>\n    </tr>\n    <tr>\n      <th>43</th>\n      <td>Power Feeds for 5KW Colocation Racks</td>\n      <td>1000</td>\n      <td>160000</td>\n      <td>16000</td>\n      <td>1000</td>\n      <td>0</td>\n      <td>0</td>\n      <td>1000</td>\n      <td>160000</td>\n      <td>16000</td>\n    </tr>\n    <tr>\n      <th>44</th>\n      <td>Fiber Uplinks for 5KW Colocation Racks</td>\n      <td>1000</td>\n      <td>129000</td>\n      <td>12900</td>\n      <td>1000</td>\n      <td>0</td>\n      <td>0</td>\n      <td>1000</td>\n      <td>129000</td>\n      <td>12900</td>\n    </tr>\n    <tr>\n      <th>45</th>\n      <td>Network Switch: Juniper QFX5100-48T</td>\n      <td>1000</td>\n      <td>175000</td>\n      <td>17500</td>\n      <td>1000</td>\n      <td>0</td>\n      <td>0</td>\n      <td>1000</td>\n      <td>175000</td>\n      <td>17500</td>\n    </tr>\n  </tbody>\n</table>\n</div>"
     },
     "execution_count": 36,
     "metadata": {},
     "output_type": "execute_result"
    }
   ],
   "source": [
    "merged_data2"
   ],
   "metadata": {
    "collapsed": false,
    "pycharm": {
     "name": "#%%\n"
    }
   }
  },
  {
   "cell_type": "code",
   "execution_count": 46,
   "outputs": [],
   "source": [
    "merged_data2.sort_values(\"per_unit_x\",ascending=False).to_csv(\"servicebecomehigher.csv\",index=False) # service become higher"
   ],
   "metadata": {
    "collapsed": false,
    "pycharm": {
     "name": "#%%\n"
    }
   }
  },
  {
   "cell_type": "code",
   "execution_count": 38,
   "outputs": [
    {
     "data": {
      "text/plain": "                                      Name  quantity_x  per_unit_x  total_x  \\\n20                      1/1 Rack (R1/3.16)        1000      495000    49500   \n21                Power Feeds Rack R1/3.16        1000      160000    16000   \n22                    Uplinks Rack R1/3.16        1000      129000    12900   \n42            1/1 Colocation Rack: R3/3.17        1000      495000    49500   \n43    Power Feeds for 5KW Colocation Racks        1000      160000    16000   \n44  Fiber Uplinks for 5KW Colocation Racks        1000      129000    12900   \n45     Network Switch: Juniper QFX5100-48T        1000      175000    17500   \n\n    quantity_y  per_unit_y  total_y  quantity  per_unit  total  \n20        1000           0        0      1000    495000  49500  \n21        1000           0        0      1000    160000  16000  \n22        1000           0        0      1000    129000  12900  \n42        1000           0        0      1000    495000  49500  \n43        1000           0        0      1000    160000  16000  \n44        1000           0        0      1000    129000  12900  \n45        1000           0        0      1000    175000  17500  ",
      "text/html": "<div>\n<style scoped>\n    .dataframe tbody tr th:only-of-type {\n        vertical-align: middle;\n    }\n\n    .dataframe tbody tr th {\n        vertical-align: top;\n    }\n\n    .dataframe thead th {\n        text-align: right;\n    }\n</style>\n<table border=\"1\" class=\"dataframe\">\n  <thead>\n    <tr style=\"text-align: right;\">\n      <th></th>\n      <th>Name</th>\n      <th>quantity_x</th>\n      <th>per_unit_x</th>\n      <th>total_x</th>\n      <th>quantity_y</th>\n      <th>per_unit_y</th>\n      <th>total_y</th>\n      <th>quantity</th>\n      <th>per_unit</th>\n      <th>total</th>\n    </tr>\n  </thead>\n  <tbody>\n    <tr>\n      <th>20</th>\n      <td>1/1 Rack (R1/3.16)</td>\n      <td>1000</td>\n      <td>495000</td>\n      <td>49500</td>\n      <td>1000</td>\n      <td>0</td>\n      <td>0</td>\n      <td>1000</td>\n      <td>495000</td>\n      <td>49500</td>\n    </tr>\n    <tr>\n      <th>21</th>\n      <td>Power Feeds Rack R1/3.16</td>\n      <td>1000</td>\n      <td>160000</td>\n      <td>16000</td>\n      <td>1000</td>\n      <td>0</td>\n      <td>0</td>\n      <td>1000</td>\n      <td>160000</td>\n      <td>16000</td>\n    </tr>\n    <tr>\n      <th>22</th>\n      <td>Uplinks Rack R1/3.16</td>\n      <td>1000</td>\n      <td>129000</td>\n      <td>12900</td>\n      <td>1000</td>\n      <td>0</td>\n      <td>0</td>\n      <td>1000</td>\n      <td>129000</td>\n      <td>12900</td>\n    </tr>\n    <tr>\n      <th>42</th>\n      <td>1/1 Colocation Rack: R3/3.17</td>\n      <td>1000</td>\n      <td>495000</td>\n      <td>49500</td>\n      <td>1000</td>\n      <td>0</td>\n      <td>0</td>\n      <td>1000</td>\n      <td>495000</td>\n      <td>49500</td>\n    </tr>\n    <tr>\n      <th>43</th>\n      <td>Power Feeds for 5KW Colocation Racks</td>\n      <td>1000</td>\n      <td>160000</td>\n      <td>16000</td>\n      <td>1000</td>\n      <td>0</td>\n      <td>0</td>\n      <td>1000</td>\n      <td>160000</td>\n      <td>16000</td>\n    </tr>\n    <tr>\n      <th>44</th>\n      <td>Fiber Uplinks for 5KW Colocation Racks</td>\n      <td>1000</td>\n      <td>129000</td>\n      <td>12900</td>\n      <td>1000</td>\n      <td>0</td>\n      <td>0</td>\n      <td>1000</td>\n      <td>129000</td>\n      <td>12900</td>\n    </tr>\n    <tr>\n      <th>45</th>\n      <td>Network Switch: Juniper QFX5100-48T</td>\n      <td>1000</td>\n      <td>175000</td>\n      <td>17500</td>\n      <td>1000</td>\n      <td>0</td>\n      <td>0</td>\n      <td>1000</td>\n      <td>175000</td>\n      <td>17500</td>\n    </tr>\n  </tbody>\n</table>\n</div>"
     },
     "execution_count": 38,
     "metadata": {},
     "output_type": "execute_result"
    }
   ],
   "source": [
    "merged_data2[merged_data2[\"per_unit_x\"]!=merged_data2[\"per_unit_y\"]] ## And check whether the same type of service has been charged extra in the relevant months."
   ],
   "metadata": {
    "collapsed": false,
    "pycharm": {
     "name": "#%%\n"
    }
   }
  },
  {
   "cell_type": "code",
   "execution_count": 39,
   "outputs": [
    {
     "data": {
      "text/plain": "                                     Name  quantity_x  per_unit_x  total_x  \\\n4   Remote Hands - Service Dienstleistung        1000       45000     4500   \n6   Remote Hands - Service Dienstleistung        1000       45000     4500   \n7   Remote Hands - Service Dienstleistung        1000       45000     4500   \n9   Remote Hands - Service Dienstleistung        1000       45000     4500   \n10  Remote Hands - Service Dienstleistung        1000       45000     4500   \n11  Remote Hands - Service Dienstleistung        1000       45000     4500   \n12  Remote Hands - Service Dienstleistung        1000       45000     4500   \n13  Remote Hands - Service Dienstleistung        1000       45000     4500   \n14  Remote Hands - Service Dienstleistung        1000       45000     4500   \n15  Remote Hands - Service Dienstleistung        1000       45000     4500   \n16  Remote Hands - Service Dienstleistung        1000       45000     4500   \n17  Remote Hands - Service Dienstleistung        1000       45000     4500   \n18  Remote Hands - Service Dienstleistung        1000       45000     4500   \n19  Remote Hands - Service Dienstleistung        1000       45000     4500   \n20  Remote Hands - Service Dienstleistung        1000       45000     4500   \n21  Remote Hands - Service Dienstleistung        1000       45000     4500   \n22  Remote Hands - Service Dienstleistung        1000       45000     4500   \n23  Remote Hands - Service Dienstleistung        1000       45000     4500   \n24  Remote Hands - Service Dienstleistung        1000       45000     4500   \n25  Remote Hands - Service Dienstleistung        1000       45000     4500   \n26  Remote Hands - Service Dienstleistung        1000       45000     4500   \n27  Remote Hands - Service Dienstleistung        1000       45000     4500   \n28  Remote Hands - Service Dienstleistung        1000       45000     4500   \n29  Remote Hands - Service Dienstleistung        1000       45000     4500   \n30  Remote Hands - Service Dienstleistung        1000       45000     4500   \n31  Remote Hands - Service Dienstleistung        1000       45000     4500   \n32  Remote Hands - Service Dienstleistung        1000       45000     4500   \n33  Remote Hands - Service Dienstleistung        1000       45000     4500   \n34  Remote Hands - Service Dienstleistung        1000       45000     4500   \n35  Remote Hands - Service Dienstleistung        1000       45000     4500   \n36  Remote Hands - Service Dienstleistung        1000       45000     4500   \n37  Remote Hands - Service Dienstleistung        1000       45000     4500   \n38  Remote Hands - Service Dienstleistung        1000       45000     4500   \n39  Remote Hands - Service Dienstleistung        1000       45000     4500   \n40  Remote Hands - Service Dienstleistung        1000       45000     4500   \n41  Remote Hands - Service Dienstleistung        1000       45000     4500   \n44  Remote Hands - Service Dienstleistung        2000       45000     9000   \n46  Remote Hands - Service Dienstleistung        2000       45000     9000   \n47  Remote Hands - Service Dienstleistung        2000       45000     9000   \n49  Remote Hands - Service Dienstleistung        2000       45000     9000   \n\n    quantity_y  per_unit_y  total_y  \n4         1000       45000     4500  \n6         3000       45000    13500  \n7         1000       45000     4500  \n9         3000       45000    13500  \n10        1000       45000     4500  \n11        3000       45000    13500  \n12        1000       45000     4500  \n13        8000       45000    36000  \n14        3000       45000    13500  \n15        1000       45000     4500  \n16        2000       45000     9000  \n17        3000       45000    13500  \n18        1000       45000     4500  \n19        3000       45000    13500  \n20        1000       45000     4500  \n21        8000       45000    36000  \n22        3000       45000    13500  \n23        1000       45000     4500  \n24        2000       45000     9000  \n25        3000       45000    13500  \n26        1000       45000     4500  \n27        3000       45000    13500  \n28        1000       45000     4500  \n29        8000       45000    36000  \n30        3000       45000    13500  \n31        1000       45000     4500  \n32        2000       45000     9000  \n33        3000       45000    13500  \n34        1000       45000     4500  \n35        3000       45000    13500  \n36        1000       45000     4500  \n37        8000       45000    36000  \n38        3000       45000    13500  \n39        1000       45000     4500  \n40        2000       45000     9000  \n41        3000       45000    13500  \n44        1000       45000     4500  \n46        3000       45000    13500  \n47        1000       45000     4500  \n49        3000       45000    13500  ",
      "text/html": "<div>\n<style scoped>\n    .dataframe tbody tr th:only-of-type {\n        vertical-align: middle;\n    }\n\n    .dataframe tbody tr th {\n        vertical-align: top;\n    }\n\n    .dataframe thead th {\n        text-align: right;\n    }\n</style>\n<table border=\"1\" class=\"dataframe\">\n  <thead>\n    <tr style=\"text-align: right;\">\n      <th></th>\n      <th>Name</th>\n      <th>quantity_x</th>\n      <th>per_unit_x</th>\n      <th>total_x</th>\n      <th>quantity_y</th>\n      <th>per_unit_y</th>\n      <th>total_y</th>\n    </tr>\n  </thead>\n  <tbody>\n    <tr>\n      <th>4</th>\n      <td>Remote Hands - Service Dienstleistung</td>\n      <td>1000</td>\n      <td>45000</td>\n      <td>4500</td>\n      <td>1000</td>\n      <td>45000</td>\n      <td>4500</td>\n    </tr>\n    <tr>\n      <th>6</th>\n      <td>Remote Hands - Service Dienstleistung</td>\n      <td>1000</td>\n      <td>45000</td>\n      <td>4500</td>\n      <td>3000</td>\n      <td>45000</td>\n      <td>13500</td>\n    </tr>\n    <tr>\n      <th>7</th>\n      <td>Remote Hands - Service Dienstleistung</td>\n      <td>1000</td>\n      <td>45000</td>\n      <td>4500</td>\n      <td>1000</td>\n      <td>45000</td>\n      <td>4500</td>\n    </tr>\n    <tr>\n      <th>9</th>\n      <td>Remote Hands - Service Dienstleistung</td>\n      <td>1000</td>\n      <td>45000</td>\n      <td>4500</td>\n      <td>3000</td>\n      <td>45000</td>\n      <td>13500</td>\n    </tr>\n    <tr>\n      <th>10</th>\n      <td>Remote Hands - Service Dienstleistung</td>\n      <td>1000</td>\n      <td>45000</td>\n      <td>4500</td>\n      <td>1000</td>\n      <td>45000</td>\n      <td>4500</td>\n    </tr>\n    <tr>\n      <th>11</th>\n      <td>Remote Hands - Service Dienstleistung</td>\n      <td>1000</td>\n      <td>45000</td>\n      <td>4500</td>\n      <td>3000</td>\n      <td>45000</td>\n      <td>13500</td>\n    </tr>\n    <tr>\n      <th>12</th>\n      <td>Remote Hands - Service Dienstleistung</td>\n      <td>1000</td>\n      <td>45000</td>\n      <td>4500</td>\n      <td>1000</td>\n      <td>45000</td>\n      <td>4500</td>\n    </tr>\n    <tr>\n      <th>13</th>\n      <td>Remote Hands - Service Dienstleistung</td>\n      <td>1000</td>\n      <td>45000</td>\n      <td>4500</td>\n      <td>8000</td>\n      <td>45000</td>\n      <td>36000</td>\n    </tr>\n    <tr>\n      <th>14</th>\n      <td>Remote Hands - Service Dienstleistung</td>\n      <td>1000</td>\n      <td>45000</td>\n      <td>4500</td>\n      <td>3000</td>\n      <td>45000</td>\n      <td>13500</td>\n    </tr>\n    <tr>\n      <th>15</th>\n      <td>Remote Hands - Service Dienstleistung</td>\n      <td>1000</td>\n      <td>45000</td>\n      <td>4500</td>\n      <td>1000</td>\n      <td>45000</td>\n      <td>4500</td>\n    </tr>\n    <tr>\n      <th>16</th>\n      <td>Remote Hands - Service Dienstleistung</td>\n      <td>1000</td>\n      <td>45000</td>\n      <td>4500</td>\n      <td>2000</td>\n      <td>45000</td>\n      <td>9000</td>\n    </tr>\n    <tr>\n      <th>17</th>\n      <td>Remote Hands - Service Dienstleistung</td>\n      <td>1000</td>\n      <td>45000</td>\n      <td>4500</td>\n      <td>3000</td>\n      <td>45000</td>\n      <td>13500</td>\n    </tr>\n    <tr>\n      <th>18</th>\n      <td>Remote Hands - Service Dienstleistung</td>\n      <td>1000</td>\n      <td>45000</td>\n      <td>4500</td>\n      <td>1000</td>\n      <td>45000</td>\n      <td>4500</td>\n    </tr>\n    <tr>\n      <th>19</th>\n      <td>Remote Hands - Service Dienstleistung</td>\n      <td>1000</td>\n      <td>45000</td>\n      <td>4500</td>\n      <td>3000</td>\n      <td>45000</td>\n      <td>13500</td>\n    </tr>\n    <tr>\n      <th>20</th>\n      <td>Remote Hands - Service Dienstleistung</td>\n      <td>1000</td>\n      <td>45000</td>\n      <td>4500</td>\n      <td>1000</td>\n      <td>45000</td>\n      <td>4500</td>\n    </tr>\n    <tr>\n      <th>21</th>\n      <td>Remote Hands - Service Dienstleistung</td>\n      <td>1000</td>\n      <td>45000</td>\n      <td>4500</td>\n      <td>8000</td>\n      <td>45000</td>\n      <td>36000</td>\n    </tr>\n    <tr>\n      <th>22</th>\n      <td>Remote Hands - Service Dienstleistung</td>\n      <td>1000</td>\n      <td>45000</td>\n      <td>4500</td>\n      <td>3000</td>\n      <td>45000</td>\n      <td>13500</td>\n    </tr>\n    <tr>\n      <th>23</th>\n      <td>Remote Hands - Service Dienstleistung</td>\n      <td>1000</td>\n      <td>45000</td>\n      <td>4500</td>\n      <td>1000</td>\n      <td>45000</td>\n      <td>4500</td>\n    </tr>\n    <tr>\n      <th>24</th>\n      <td>Remote Hands - Service Dienstleistung</td>\n      <td>1000</td>\n      <td>45000</td>\n      <td>4500</td>\n      <td>2000</td>\n      <td>45000</td>\n      <td>9000</td>\n    </tr>\n    <tr>\n      <th>25</th>\n      <td>Remote Hands - Service Dienstleistung</td>\n      <td>1000</td>\n      <td>45000</td>\n      <td>4500</td>\n      <td>3000</td>\n      <td>45000</td>\n      <td>13500</td>\n    </tr>\n    <tr>\n      <th>26</th>\n      <td>Remote Hands - Service Dienstleistung</td>\n      <td>1000</td>\n      <td>45000</td>\n      <td>4500</td>\n      <td>1000</td>\n      <td>45000</td>\n      <td>4500</td>\n    </tr>\n    <tr>\n      <th>27</th>\n      <td>Remote Hands - Service Dienstleistung</td>\n      <td>1000</td>\n      <td>45000</td>\n      <td>4500</td>\n      <td>3000</td>\n      <td>45000</td>\n      <td>13500</td>\n    </tr>\n    <tr>\n      <th>28</th>\n      <td>Remote Hands - Service Dienstleistung</td>\n      <td>1000</td>\n      <td>45000</td>\n      <td>4500</td>\n      <td>1000</td>\n      <td>45000</td>\n      <td>4500</td>\n    </tr>\n    <tr>\n      <th>29</th>\n      <td>Remote Hands - Service Dienstleistung</td>\n      <td>1000</td>\n      <td>45000</td>\n      <td>4500</td>\n      <td>8000</td>\n      <td>45000</td>\n      <td>36000</td>\n    </tr>\n    <tr>\n      <th>30</th>\n      <td>Remote Hands - Service Dienstleistung</td>\n      <td>1000</td>\n      <td>45000</td>\n      <td>4500</td>\n      <td>3000</td>\n      <td>45000</td>\n      <td>13500</td>\n    </tr>\n    <tr>\n      <th>31</th>\n      <td>Remote Hands - Service Dienstleistung</td>\n      <td>1000</td>\n      <td>45000</td>\n      <td>4500</td>\n      <td>1000</td>\n      <td>45000</td>\n      <td>4500</td>\n    </tr>\n    <tr>\n      <th>32</th>\n      <td>Remote Hands - Service Dienstleistung</td>\n      <td>1000</td>\n      <td>45000</td>\n      <td>4500</td>\n      <td>2000</td>\n      <td>45000</td>\n      <td>9000</td>\n    </tr>\n    <tr>\n      <th>33</th>\n      <td>Remote Hands - Service Dienstleistung</td>\n      <td>1000</td>\n      <td>45000</td>\n      <td>4500</td>\n      <td>3000</td>\n      <td>45000</td>\n      <td>13500</td>\n    </tr>\n    <tr>\n      <th>34</th>\n      <td>Remote Hands - Service Dienstleistung</td>\n      <td>1000</td>\n      <td>45000</td>\n      <td>4500</td>\n      <td>1000</td>\n      <td>45000</td>\n      <td>4500</td>\n    </tr>\n    <tr>\n      <th>35</th>\n      <td>Remote Hands - Service Dienstleistung</td>\n      <td>1000</td>\n      <td>45000</td>\n      <td>4500</td>\n      <td>3000</td>\n      <td>45000</td>\n      <td>13500</td>\n    </tr>\n    <tr>\n      <th>36</th>\n      <td>Remote Hands - Service Dienstleistung</td>\n      <td>1000</td>\n      <td>45000</td>\n      <td>4500</td>\n      <td>1000</td>\n      <td>45000</td>\n      <td>4500</td>\n    </tr>\n    <tr>\n      <th>37</th>\n      <td>Remote Hands - Service Dienstleistung</td>\n      <td>1000</td>\n      <td>45000</td>\n      <td>4500</td>\n      <td>8000</td>\n      <td>45000</td>\n      <td>36000</td>\n    </tr>\n    <tr>\n      <th>38</th>\n      <td>Remote Hands - Service Dienstleistung</td>\n      <td>1000</td>\n      <td>45000</td>\n      <td>4500</td>\n      <td>3000</td>\n      <td>45000</td>\n      <td>13500</td>\n    </tr>\n    <tr>\n      <th>39</th>\n      <td>Remote Hands - Service Dienstleistung</td>\n      <td>1000</td>\n      <td>45000</td>\n      <td>4500</td>\n      <td>1000</td>\n      <td>45000</td>\n      <td>4500</td>\n    </tr>\n    <tr>\n      <th>40</th>\n      <td>Remote Hands - Service Dienstleistung</td>\n      <td>1000</td>\n      <td>45000</td>\n      <td>4500</td>\n      <td>2000</td>\n      <td>45000</td>\n      <td>9000</td>\n    </tr>\n    <tr>\n      <th>41</th>\n      <td>Remote Hands - Service Dienstleistung</td>\n      <td>1000</td>\n      <td>45000</td>\n      <td>4500</td>\n      <td>3000</td>\n      <td>45000</td>\n      <td>13500</td>\n    </tr>\n    <tr>\n      <th>44</th>\n      <td>Remote Hands - Service Dienstleistung</td>\n      <td>2000</td>\n      <td>45000</td>\n      <td>9000</td>\n      <td>1000</td>\n      <td>45000</td>\n      <td>4500</td>\n    </tr>\n    <tr>\n      <th>46</th>\n      <td>Remote Hands - Service Dienstleistung</td>\n      <td>2000</td>\n      <td>45000</td>\n      <td>9000</td>\n      <td>3000</td>\n      <td>45000</td>\n      <td>13500</td>\n    </tr>\n    <tr>\n      <th>47</th>\n      <td>Remote Hands - Service Dienstleistung</td>\n      <td>2000</td>\n      <td>45000</td>\n      <td>9000</td>\n      <td>1000</td>\n      <td>45000</td>\n      <td>4500</td>\n    </tr>\n    <tr>\n      <th>49</th>\n      <td>Remote Hands - Service Dienstleistung</td>\n      <td>2000</td>\n      <td>45000</td>\n      <td>9000</td>\n      <td>3000</td>\n      <td>45000</td>\n      <td>13500</td>\n    </tr>\n  </tbody>\n</table>\n</div>"
     },
     "execution_count": 39,
     "metadata": {},
     "output_type": "execute_result"
    }
   ],
   "source": [
    "merged_data[merged_data.duplicated()==True]  #-Check duplicates."
   ],
   "metadata": {
    "collapsed": false,
    "pycharm": {
     "name": "#%%\n"
    }
   }
  },
  {
   "cell_type": "code",
   "execution_count": 43,
   "outputs": [],
   "source": [
    "merged_data2[merged_data2[\"per_unit_x\"]!=merged_data2[\"per_unit_y\"]].to_csv(\"same_service_charged_extra.csv\",index=False)"
   ],
   "metadata": {
    "collapsed": false,
    "pycharm": {
     "name": "#%%\n"
    }
   }
  },
  {
   "cell_type": "code",
   "execution_count": 1,
   "outputs": [
    {
     "name": "stdout",
     "output_type": "stream",
     "text": [
      "Avijit Biswas\n"
     ]
    }
   ],
   "source": [
    "print(\"Avijit Biswas\")"
   ],
   "metadata": {
    "collapsed": false,
    "pycharm": {
     "name": "#%%\n"
    }
   }
  },
  {
   "cell_type": "code",
   "execution_count": 7,
   "outputs": [],
   "source": [
    "avij={\"co\":\"gri\",\"now\":\"mie\", \"nuow\":8}"
   ],
   "metadata": {
    "collapsed": false,
    "pycharm": {
     "name": "#%%\n"
    }
   }
  },
  {
   "cell_type": "code",
   "execution_count": 8,
   "outputs": [
    {
     "data": {
      "text/plain": "{'co': 'gri', 'now': 'mie', 'nuow': 8}"
     },
     "execution_count": 8,
     "metadata": {},
     "output_type": "execute_result"
    }
   ],
   "source": [
    "avij"
   ],
   "metadata": {
    "collapsed": false,
    "pycharm": {
     "name": "#%%\n"
    }
   }
  },
  {
   "cell_type": "code",
   "execution_count": 9,
   "outputs": [
    {
     "data": {
      "text/plain": "{'co': 'gri', 'now': 'mie', 'nuow': 8}"
     },
     "execution_count": 9,
     "metadata": {},
     "output_type": "execute_result"
    }
   ],
   "source": [
    "avij"
   ],
   "metadata": {
    "collapsed": false,
    "pycharm": {
     "name": "#%%\n"
    }
   }
  },
  {
   "cell_type": "code",
   "execution_count": 10,
   "outputs": [
    {
     "data": {
      "text/plain": "'gri'"
     },
     "execution_count": 10,
     "metadata": {},
     "output_type": "execute_result"
    }
   ],
   "source": [
    "avij[\"co\"]"
   ],
   "metadata": {
    "collapsed": false,
    "pycharm": {
     "name": "#%%\n"
    }
   }
  },
  {
   "cell_type": "code",
   "execution_count": 11,
   "outputs": [
    {
     "data": {
      "text/plain": "'mie'"
     },
     "execution_count": 11,
     "metadata": {},
     "output_type": "execute_result"
    }
   ],
   "source": [
    "avij[\"now\"]"
   ],
   "metadata": {
    "collapsed": false,
    "pycharm": {
     "name": "#%%\n"
    }
   }
  },
  {
   "cell_type": "code",
   "execution_count": 12,
   "outputs": [
    {
     "data": {
      "text/plain": "8"
     },
     "execution_count": 12,
     "metadata": {},
     "output_type": "execute_result"
    }
   ],
   "source": [
    "avij[\"nuow\"]"
   ],
   "metadata": {
    "collapsed": false,
    "pycharm": {
     "name": "#%%\n"
    }
   }
  },
  {
   "cell_type": "code",
   "execution_count": 13,
   "outputs": [
    {
     "data": {
      "text/plain": "{'co': 'gri', 'now': 'mie', 'nuow': 8}"
     },
     "execution_count": 13,
     "metadata": {},
     "output_type": "execute_result"
    }
   ],
   "source": [
    "avij"
   ],
   "metadata": {
    "collapsed": false,
    "pycharm": {
     "name": "#%%\n"
    }
   }
  },
  {
   "cell_type": "code",
   "execution_count": 15,
   "outputs": [],
   "source": [
    "avij[\"x_position\"]=0"
   ],
   "metadata": {
    "collapsed": false,
    "pycharm": {
     "name": "#%%\n"
    }
   }
  },
  {
   "cell_type": "code",
   "execution_count": 16,
   "outputs": [
    {
     "data": {
      "text/plain": "{'co': 'gri', 'now': 'mie', 'nuow': 8, 'x_position': 0}"
     },
     "execution_count": 16,
     "metadata": {},
     "output_type": "execute_result"
    }
   ],
   "source": [
    "avij"
   ],
   "metadata": {
    "collapsed": false,
    "pycharm": {
     "name": "#%%\n"
    }
   }
  },
  {
   "cell_type": "code",
   "execution_count": 18,
   "outputs": [
    {
     "name": "stdout",
     "output_type": "stream",
     "text": [
      "('co', 'gri')\n",
      "('now', 'mie')\n",
      "('nuow', 8)\n",
      "('x_position', 0)\n"
     ]
    }
   ],
   "source": [
    "for i in avij.items():\n",
    "    print(i)"
   ],
   "metadata": {
    "collapsed": false,
    "pycharm": {
     "name": "#%%\n"
    }
   }
  },
  {
   "cell_type": "code",
   "execution_count": 19,
   "outputs": [
    {
     "name": "stdout",
     "output_type": "stream",
     "text": [
      "co\n",
      "now\n",
      "nuow\n",
      "x_position\n"
     ]
    }
   ],
   "source": [
    "for i in avij.keys():\n",
    "    print(i)"
   ],
   "metadata": {
    "collapsed": false,
    "pycharm": {
     "name": "#%%\n"
    }
   }
  },
  {
   "cell_type": "code",
   "execution_count": 20,
   "outputs": [
    {
     "name": "stdout",
     "output_type": "stream",
     "text": [
      "gri\n",
      "mie\n",
      "8\n",
      "0\n"
     ]
    }
   ],
   "source": [
    "for i in avij.values():\n",
    "    print(i)"
   ],
   "metadata": {
    "collapsed": false,
    "pycharm": {
     "name": "#%%\n"
    }
   }
  },
  {
   "cell_type": "code",
   "execution_count": 21,
   "outputs": [
    {
     "name": "stdout",
     "output_type": "stream",
     "text": [
      "peso\n",
      "pesois\n"
     ]
    }
   ],
   "source": [
    "class Dog():\n",
    "    def __init__(self,name):\n",
    "        self.name=name\n",
    "    def sit(self):\n",
    "        print(self.name+\"is\")\n",
    "my_dog=Dog(\"peso\")\n",
    "print(my_dog.name)\n",
    "my_dog.sit()"
   ],
   "metadata": {
    "collapsed": false,
    "pycharm": {
     "name": "#%%\n"
    }
   }
  },
  {
   "cell_type": "code",
   "execution_count": 22,
   "outputs": [
    {
     "ename": "SyntaxError",
     "evalue": "invalid syntax (3333583387.py, line 3)",
     "output_type": "error",
     "traceback": [
      "\u001B[1;36m  Cell \u001B[1;32mIn[22], line 3\u001B[1;36m\u001B[0m\n\u001B[1;33m    super().__init__(self.name):\u001B[0m\n\u001B[1;37m                               ^\u001B[0m\n\u001B[1;31mSyntaxError\u001B[0m\u001B[1;31m:\u001B[0m invalid syntax\n"
     ]
    }
   ],
   "source": [
    "class SarDog(Dog):\n",
    "    def __init__(self, name):\n",
    "        super().__init__(self.name):\n",
    "    def search(self):\n",
    "        print(self.name)\n",
    "    def search(self):\n",
    "        print(self.name)\n",
    "my_dog=SarDog(\"While\")\n",
    "my_dog.sit()"
   ],
   "metadata": {
    "collapsed": false,
    "pycharm": {
     "name": "#%%\n"
    }
   }
  },
  {
   "cell_type": "code",
   "execution_count": null,
   "outputs": [],
   "source": [],
   "metadata": {
    "collapsed": false,
    "pycharm": {
     "name": "#%%\n"
    }
   }
  }
 ],
 "metadata": {
  "kernelspec": {
   "display_name": "Python 3",
   "language": "python",
   "name": "python3"
  },
  "language_info": {
   "codemirror_mode": {
    "name": "ipython",
    "version": 2
   },
   "file_extension": ".py",
   "mimetype": "text/x-python",
   "name": "python",
   "nbconvert_exporter": "python",
   "pygments_lexer": "ipython2",
   "version": "2.7.6"
  }
 },
 "nbformat": 4,
 "nbformat_minor": 0
}