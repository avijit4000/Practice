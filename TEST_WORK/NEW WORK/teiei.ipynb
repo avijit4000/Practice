{
 "cells": [
  {
   "cell_type": "code",
   "execution_count": 134,
   "outputs": [],
   "source": [
    "lines=[]\n",
    "with open(\"output1.txt\", 'r') as file:\n",
    "    # Read each line of the file and append it to the list\n",
    "    for line in file:\n",
    "        lines.append(line.strip())"
   ],
   "metadata": {
    "collapsed": false,
    "pycharm": {
     "name": "#%%\n"
    }
   }
  },
  {
   "cell_type": "code",
   "execution_count": 135,
   "outputs": [],
   "source": [
    "lie=[]\n",
    "for i in lines:\n",
    "    if \"€\" in i:\n",
    "        lie.append(i)"
   ],
   "metadata": {
    "collapsed": false,
    "pycharm": {
     "name": "#%%\n"
    }
   }
  },
  {
   "cell_type": "code",
   "execution_count": 136,
   "outputs": [],
   "source": [
    "eu=[]\n",
    "for i in lie:\n",
    "    if \"%\" not in i:\n",
    "        eu.append(i)"
   ],
   "metadata": {
    "collapsed": false,
    "pycharm": {
     "name": "#%%\n"
    }
   }
  },
  {
   "cell_type": "code",
   "execution_count": 137,
   "outputs": [],
   "source": [
    "import pandas as pd\n",
    "import re\n",
    "\n",
    "split_conditions = [\n",
    "    r'(?<=\\d)\\s',              # Split at the first space after a digit\n",
    "    r'(?<=\\D)\\s',              # Split at the second space after a non-digit character\n",
    "    r'(?<=\\d|,)\\s',            # Split at the third space after a digit or a comma\n",
    "    r'(?<=\\d|,)\\s',            # Split at the fourth space after a digit or a comma\n",
    "]"
   ],
   "metadata": {
    "collapsed": false,
    "pycharm": {
     "name": "#%%\n"
    }
   }
  },
  {
   "cell_type": "code",
   "execution_count": 138,
   "outputs": [],
   "source": [
    "Number=[]\n",
    "Name=[]\n",
    "quantity=[]\n",
    "per_unit=[]\n",
    "total=[]\n",
    "for i in eu[:-2]:\n",
    "    Number.append(re.split('|'.join(split_conditions), i)[0])\n",
    "    Name.append(\" \".join(re.split('|'.join(split_conditions), i)[1:-5]))\n",
    "    quantity.append(re.split('|'.join(split_conditions), i)[-5])\n",
    "    per_unit.append(re.split('|'.join(split_conditions), i)[-4])\n",
    "    total.append(re.split('|'.join(split_conditions), i)[-2])\n",
    " # Create list of dictionaries\n",
    "data = {'Number': Number,\n",
    "        'Name': Name,\n",
    "        'quantity':quantity,\n",
    "        'per_unit': per_unit,\n",
    "        'total': total}"
   ],
   "metadata": {
    "collapsed": false,
    "pycharm": {
     "name": "#%%\n"
    }
   }
  },
  {
   "cell_type": "code",
   "execution_count": 139,
   "outputs": [],
   "source": [
    "df1 = pd.DataFrame(data)"
   ],
   "metadata": {
    "collapsed": false,
    "pycharm": {
     "name": "#%%\n"
    }
   }
  },
  {
   "cell_type": "code",
   "execution_count": 140,
   "outputs": [],
   "source": [
    "for i in df1.iloc[:,2:].columns:\n",
    "    df1[i]=df1[i].str.replace(\"[.,Û]\", \"\", regex=True)"
   ],
   "metadata": {
    "collapsed": false,
    "pycharm": {
     "name": "#%%\n"
    }
   }
  },
  {
   "cell_type": "code",
   "execution_count": 141,
   "outputs": [],
   "source": [
    "df1[\"Name\"]=df1[\"Number\"].str.split(\".\").str[-1]+\" \"+df1[\"Name\"]"
   ],
   "metadata": {
    "collapsed": false,
    "pycharm": {
     "name": "#%%\n"
    }
   }
  },
  {
   "cell_type": "code",
   "execution_count": 142,
   "outputs": [],
   "source": [
    "df1.drop(\"Number\",axis=1,inplace=True)"
   ],
   "metadata": {
    "collapsed": false,
    "pycharm": {
     "name": "#%%\n"
    }
   }
  },
  {
   "cell_type": "code",
   "execution_count": 143,
   "outputs": [],
   "source": [
    "for i in df1.columns[1:]:\n",
    "    df1[i]=df1[i].str.replace(\"[.,Û]\", \"\", regex=True)\n",
    "    df1[i]=df1[i].astype(int)"
   ],
   "metadata": {
    "collapsed": false,
    "pycharm": {
     "name": "#%%\n"
    }
   }
  },
  {
   "cell_type": "code",
   "execution_count": 144,
   "outputs": [
    {
     "data": {
      "text/plain": "Name        object\nquantity     int32\nper_unit     int32\ntotal        int32\ndtype: object"
     },
     "execution_count": 144,
     "metadata": {},
     "output_type": "execute_result"
    }
   ],
   "source": [
    "df1.dtypes"
   ],
   "metadata": {
    "collapsed": false,
    "pycharm": {
     "name": "#%%\n"
    }
   }
  },
  {
   "cell_type": "code",
   "execution_count": 145,
   "outputs": [],
   "source": [
    "df1.to_csv(\"newdata3.csv\",index=False)"
   ],
   "metadata": {
    "collapsed": false,
    "pycharm": {
     "name": "#%%\n"
    }
   }
  },
  {
   "cell_type": "code",
   "execution_count": 145,
   "outputs": [],
   "source": [],
   "metadata": {
    "collapsed": false,
    "pycharm": {
     "name": "#%%\n"
    }
   }
  },
  {
   "cell_type": "code",
   "execution_count": 145,
   "outputs": [],
   "source": [],
   "metadata": {
    "collapsed": false,
    "pycharm": {
     "name": "#%%\n"
    }
   }
  },
  {
   "cell_type": "code",
   "execution_count": 145,
   "outputs": [],
   "source": [],
   "metadata": {
    "collapsed": false,
    "pycharm": {
     "name": "#%%\n"
    }
   }
  },
  {
   "cell_type": "code",
   "execution_count": 145,
   "outputs": [],
   "source": [],
   "metadata": {
    "collapsed": false,
    "pycharm": {
     "name": "#%%\n"
    }
   }
  }
 ],
 "metadata": {
  "kernelspec": {
   "display_name": "Python 3",
   "language": "python",
   "name": "python3"
  },
  "language_info": {
   "codemirror_mode": {
    "name": "ipython",
    "version": 2
   },
   "file_extension": ".py",
   "mimetype": "text/x-python",
   "name": "python",
   "nbconvert_exporter": "python",
   "pygments_lexer": "ipython2",
   "version": "2.7.6"
  }
 },
 "nbformat": 4,
 "nbformat_minor": 0
}