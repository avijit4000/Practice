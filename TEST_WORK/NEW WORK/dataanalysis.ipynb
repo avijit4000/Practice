{
 "cells": [
  {
   "cell_type": "code",
   "execution_count": 1,
   "metadata": {
    "collapsed": true,
    "pycharm": {
     "name": "#%%\n"
    }
   },
   "outputs": [],
   "source": [
    "import pandas as pd"
   ]
  },
  {
   "cell_type": "code",
   "execution_count": 72,
   "outputs": [],
   "source": [
    "newdata1=pd.read_csv(\"newdata1.csv\")\n",
    "newdata2=pd.read_csv(\"newdata2.csv\")\n",
    "newdata3=pd.read_csv(\"newdata3.csv\")"
   ],
   "metadata": {
    "collapsed": false,
    "pycharm": {
     "name": "#%%\n"
    }
   }
  },
  {
   "cell_type": "code",
   "execution_count": 3,
   "outputs": [
    {
     "data": {
      "text/plain": "                                                 Name  quantity  per_unit  \\\n0                                   1 HE im 19'' Rack      2000     65000   \n1   IP-Netz (159.100.29.0/24, 212.224.86.0/24, 212...      8000    154500   \n2               Remote Hands - Service Dienstleistung      1000     45000   \n3               Remote Hands - Service Dienstleistung      3000     45000   \n4               Remote Hands - Service Dienstleistung      1000     45000   \n..                                                ...       ...       ...   \n72                       1/1 Colocation Rack: R3/3.17      1000         0   \n73               Power Feeds for 5KW Colocation Racks      1000         0   \n74             Fiber Uplinks for 5KW Colocation Racks      1000         0   \n75                Network Switch: Juniper QFX5100-48T      1000         0   \n76                            Remotehands Kruppstraße      3000     45000   \n\n     total  \n0    13000  \n1   123600  \n2     4500  \n3    13500  \n4     4500  \n..     ...  \n72       0  \n73       0  \n74       0  \n75       0  \n76   13500  \n\n[77 rows x 4 columns]",
      "text/html": "<div>\n<style scoped>\n    .dataframe tbody tr th:only-of-type {\n        vertical-align: middle;\n    }\n\n    .dataframe tbody tr th {\n        vertical-align: top;\n    }\n\n    .dataframe thead th {\n        text-align: right;\n    }\n</style>\n<table border=\"1\" class=\"dataframe\">\n  <thead>\n    <tr style=\"text-align: right;\">\n      <th></th>\n      <th>Name</th>\n      <th>quantity</th>\n      <th>per_unit</th>\n      <th>total</th>\n    </tr>\n  </thead>\n  <tbody>\n    <tr>\n      <th>0</th>\n      <td>1 HE im 19'' Rack</td>\n      <td>2000</td>\n      <td>65000</td>\n      <td>13000</td>\n    </tr>\n    <tr>\n      <th>1</th>\n      <td>IP-Netz (159.100.29.0/24, 212.224.86.0/24, 212...</td>\n      <td>8000</td>\n      <td>154500</td>\n      <td>123600</td>\n    </tr>\n    <tr>\n      <th>2</th>\n      <td>Remote Hands - Service Dienstleistung</td>\n      <td>1000</td>\n      <td>45000</td>\n      <td>4500</td>\n    </tr>\n    <tr>\n      <th>3</th>\n      <td>Remote Hands - Service Dienstleistung</td>\n      <td>3000</td>\n      <td>45000</td>\n      <td>13500</td>\n    </tr>\n    <tr>\n      <th>4</th>\n      <td>Remote Hands - Service Dienstleistung</td>\n      <td>1000</td>\n      <td>45000</td>\n      <td>4500</td>\n    </tr>\n    <tr>\n      <th>...</th>\n      <td>...</td>\n      <td>...</td>\n      <td>...</td>\n      <td>...</td>\n    </tr>\n    <tr>\n      <th>72</th>\n      <td>1/1 Colocation Rack: R3/3.17</td>\n      <td>1000</td>\n      <td>0</td>\n      <td>0</td>\n    </tr>\n    <tr>\n      <th>73</th>\n      <td>Power Feeds for 5KW Colocation Racks</td>\n      <td>1000</td>\n      <td>0</td>\n      <td>0</td>\n    </tr>\n    <tr>\n      <th>74</th>\n      <td>Fiber Uplinks for 5KW Colocation Racks</td>\n      <td>1000</td>\n      <td>0</td>\n      <td>0</td>\n    </tr>\n    <tr>\n      <th>75</th>\n      <td>Network Switch: Juniper QFX5100-48T</td>\n      <td>1000</td>\n      <td>0</td>\n      <td>0</td>\n    </tr>\n    <tr>\n      <th>76</th>\n      <td>Remotehands Kruppstraße</td>\n      <td>3000</td>\n      <td>45000</td>\n      <td>13500</td>\n    </tr>\n  </tbody>\n</table>\n<p>77 rows × 4 columns</p>\n</div>"
     },
     "execution_count": 3,
     "metadata": {},
     "output_type": "execute_result"
    }
   ],
   "source": [
    "newdata1"
   ],
   "metadata": {
    "collapsed": false,
    "pycharm": {
     "name": "#%%\n"
    }
   }
  },
  {
   "cell_type": "code",
   "execution_count": 4,
   "outputs": [
    {
     "data": {
      "text/plain": "                                                 Name  quantity  per_unit  \\\n0                                   1 HE im 19'' Rack      2000     65000   \n1   IP-Netz (159.100.29.0/24, 212.224.86.0/24, 212...      9000    154500   \n2               Remote Hands - Service Dienstleistung      1000     45000   \n3               Remote Hands - Service Dienstleistung      1000     45000   \n4               Remote Hands - Service Dienstleistung      1000     45000   \n..                                                ...       ...       ...   \n85                                 Hardware: X520-DA2      2000     10000   \n86                        Dedicated Server - FC-37113      1000    258000   \n87                         Dedicated Server - Ulta100     24000     63200   \n88                        Dedicated Server - FC-36850      1000     84800   \n89                             Hardware: 3.84TB PM893      2000      9600   \n\n     total  \n0    13000  \n1   139050  \n2     4500  \n3     4500  \n4     4500  \n..     ...  \n85    2000  \n86   25800  \n87  151680  \n88    8480  \n89    1920  \n\n[90 rows x 4 columns]",
      "text/html": "<div>\n<style scoped>\n    .dataframe tbody tr th:only-of-type {\n        vertical-align: middle;\n    }\n\n    .dataframe tbody tr th {\n        vertical-align: top;\n    }\n\n    .dataframe thead th {\n        text-align: right;\n    }\n</style>\n<table border=\"1\" class=\"dataframe\">\n  <thead>\n    <tr style=\"text-align: right;\">\n      <th></th>\n      <th>Name</th>\n      <th>quantity</th>\n      <th>per_unit</th>\n      <th>total</th>\n    </tr>\n  </thead>\n  <tbody>\n    <tr>\n      <th>0</th>\n      <td>1 HE im 19'' Rack</td>\n      <td>2000</td>\n      <td>65000</td>\n      <td>13000</td>\n    </tr>\n    <tr>\n      <th>1</th>\n      <td>IP-Netz (159.100.29.0/24, 212.224.86.0/24, 212...</td>\n      <td>9000</td>\n      <td>154500</td>\n      <td>139050</td>\n    </tr>\n    <tr>\n      <th>2</th>\n      <td>Remote Hands - Service Dienstleistung</td>\n      <td>1000</td>\n      <td>45000</td>\n      <td>4500</td>\n    </tr>\n    <tr>\n      <th>3</th>\n      <td>Remote Hands - Service Dienstleistung</td>\n      <td>1000</td>\n      <td>45000</td>\n      <td>4500</td>\n    </tr>\n    <tr>\n      <th>4</th>\n      <td>Remote Hands - Service Dienstleistung</td>\n      <td>1000</td>\n      <td>45000</td>\n      <td>4500</td>\n    </tr>\n    <tr>\n      <th>...</th>\n      <td>...</td>\n      <td>...</td>\n      <td>...</td>\n      <td>...</td>\n    </tr>\n    <tr>\n      <th>85</th>\n      <td>Hardware: X520-DA2</td>\n      <td>2000</td>\n      <td>10000</td>\n      <td>2000</td>\n    </tr>\n    <tr>\n      <th>86</th>\n      <td>Dedicated Server - FC-37113</td>\n      <td>1000</td>\n      <td>258000</td>\n      <td>25800</td>\n    </tr>\n    <tr>\n      <th>87</th>\n      <td>Dedicated Server - Ulta100</td>\n      <td>24000</td>\n      <td>63200</td>\n      <td>151680</td>\n    </tr>\n    <tr>\n      <th>88</th>\n      <td>Dedicated Server - FC-36850</td>\n      <td>1000</td>\n      <td>84800</td>\n      <td>8480</td>\n    </tr>\n    <tr>\n      <th>89</th>\n      <td>Hardware: 3.84TB PM893</td>\n      <td>2000</td>\n      <td>9600</td>\n      <td>1920</td>\n    </tr>\n  </tbody>\n</table>\n<p>90 rows × 4 columns</p>\n</div>"
     },
     "execution_count": 4,
     "metadata": {},
     "output_type": "execute_result"
    }
   ],
   "source": [
    "newdata2"
   ],
   "metadata": {
    "collapsed": false,
    "pycharm": {
     "name": "#%%\n"
    }
   }
  },
  {
   "cell_type": "code",
   "execution_count": 5,
   "outputs": [
    {
     "data": {
      "text/plain": "                                                Name  quantity  per_unit  \\\n0                        Dedicated Server - FC-37113      1000    258000   \n1                         Dedicated Server - Ulta100     24000     63200   \n2                        Dedicated Server - FC-36850      1000     84800   \n3                             Hardware: 3.84TB PM893      2000      9600   \n4                                  1 HE im 19'' Rack      2000     65000   \n..                                               ...       ...       ...   \n83                        Dedicated Server: FC-36865      1000    105000   \n84                       Dedicated Server - AMD 7763      1000    177000   \n85                       Dedicated Server - AMD 7352      4000    100000   \n86  Hardware: 1.92 TB SSD Samsung PM893 MZ7L31T9HBLT      4000      5800   \n87                                Hardware: X520-DA2      2000     10000   \n\n     total  \n0    25800  \n1   151680  \n2     8480  \n3     1920  \n4    13000  \n..     ...  \n83   10500  \n84   17700  \n85   40000  \n86    2320  \n87    2000  \n\n[88 rows x 4 columns]",
      "text/html": "<div>\n<style scoped>\n    .dataframe tbody tr th:only-of-type {\n        vertical-align: middle;\n    }\n\n    .dataframe tbody tr th {\n        vertical-align: top;\n    }\n\n    .dataframe thead th {\n        text-align: right;\n    }\n</style>\n<table border=\"1\" class=\"dataframe\">\n  <thead>\n    <tr style=\"text-align: right;\">\n      <th></th>\n      <th>Name</th>\n      <th>quantity</th>\n      <th>per_unit</th>\n      <th>total</th>\n    </tr>\n  </thead>\n  <tbody>\n    <tr>\n      <th>0</th>\n      <td>Dedicated Server - FC-37113</td>\n      <td>1000</td>\n      <td>258000</td>\n      <td>25800</td>\n    </tr>\n    <tr>\n      <th>1</th>\n      <td>Dedicated Server - Ulta100</td>\n      <td>24000</td>\n      <td>63200</td>\n      <td>151680</td>\n    </tr>\n    <tr>\n      <th>2</th>\n      <td>Dedicated Server - FC-36850</td>\n      <td>1000</td>\n      <td>84800</td>\n      <td>8480</td>\n    </tr>\n    <tr>\n      <th>3</th>\n      <td>Hardware: 3.84TB PM893</td>\n      <td>2000</td>\n      <td>9600</td>\n      <td>1920</td>\n    </tr>\n    <tr>\n      <th>4</th>\n      <td>1 HE im 19'' Rack</td>\n      <td>2000</td>\n      <td>65000</td>\n      <td>13000</td>\n    </tr>\n    <tr>\n      <th>...</th>\n      <td>...</td>\n      <td>...</td>\n      <td>...</td>\n      <td>...</td>\n    </tr>\n    <tr>\n      <th>83</th>\n      <td>Dedicated Server: FC-36865</td>\n      <td>1000</td>\n      <td>105000</td>\n      <td>10500</td>\n    </tr>\n    <tr>\n      <th>84</th>\n      <td>Dedicated Server - AMD 7763</td>\n      <td>1000</td>\n      <td>177000</td>\n      <td>17700</td>\n    </tr>\n    <tr>\n      <th>85</th>\n      <td>Dedicated Server - AMD 7352</td>\n      <td>4000</td>\n      <td>100000</td>\n      <td>40000</td>\n    </tr>\n    <tr>\n      <th>86</th>\n      <td>Hardware: 1.92 TB SSD Samsung PM893 MZ7L31T9HBLT</td>\n      <td>4000</td>\n      <td>5800</td>\n      <td>2320</td>\n    </tr>\n    <tr>\n      <th>87</th>\n      <td>Hardware: X520-DA2</td>\n      <td>2000</td>\n      <td>10000</td>\n      <td>2000</td>\n    </tr>\n  </tbody>\n</table>\n<p>88 rows × 4 columns</p>\n</div>"
     },
     "execution_count": 5,
     "metadata": {},
     "output_type": "execute_result"
    }
   ],
   "source": [
    "newdata3"
   ],
   "metadata": {
    "collapsed": false,
    "pycharm": {
     "name": "#%%\n"
    }
   }
  },
  {
   "cell_type": "code",
   "execution_count": 6,
   "outputs": [],
   "source": [
    "onlydata1=[]\n",
    "for i in newdata2[\"Name\"]:\n",
    "    if i in newdata1[\"Name\"]:\n",
    "        onlydata1.append(i)"
   ],
   "metadata": {
    "collapsed": false,
    "pycharm": {
     "name": "#%%\n"
    }
   }
  },
  {
   "cell_type": "code",
   "execution_count": 7,
   "outputs": [
    {
     "data": {
      "text/plain": "[]"
     },
     "execution_count": 7,
     "metadata": {},
     "output_type": "execute_result"
    }
   ],
   "source": [
    "onlydata1"
   ],
   "metadata": {
    "collapsed": false,
    "pycharm": {
     "name": "#%%\n"
    }
   }
  },
  {
   "cell_type": "code",
   "execution_count": 8,
   "outputs": [
    {
     "data": {
      "text/plain": "0                                     1 HE im 19'' Rack\n1     IP-Netz (159.100.29.0/24, 212.224.86.0/24, 212...\n2                 Remote Hands - Service Dienstleistung\n3                 Remote Hands - Service Dienstleistung\n4                 Remote Hands - Service Dienstleistung\n                            ...                        \n85                                   Hardware: X520-DA2\n86                          Dedicated Server - FC-37113\n87                           Dedicated Server - Ulta100\n88                          Dedicated Server - FC-36850\n89                               Hardware: 3.84TB PM893\nName: Name, Length: 90, dtype: object"
     },
     "execution_count": 8,
     "metadata": {},
     "output_type": "execute_result"
    }
   ],
   "source": [
    "newdata2[\"Name\"]"
   ],
   "metadata": {
    "collapsed": false,
    "pycharm": {
     "name": "#%%\n"
    }
   }
  },
  {
   "cell_type": "code",
   "execution_count": 9,
   "outputs": [],
   "source": [
    "merged_data = pd.merge(newdata2, newdata1, on=\"Name\", how=\"inner\")"
   ],
   "metadata": {
    "collapsed": false,
    "pycharm": {
     "name": "#%%\n"
    }
   }
  },
  {
   "cell_type": "code",
   "execution_count": 10,
   "outputs": [],
   "source": [
    "onlydata5 = merged_data[\"Name\"].tolist()"
   ],
   "metadata": {
    "collapsed": false,
    "pycharm": {
     "name": "#%%\n"
    }
   }
  },
  {
   "cell_type": "code",
   "execution_count": 11,
   "outputs": [
    {
     "data": {
      "text/plain": "[\"1 HE im 19'' Rack\",\n 'IP-Netz (159.100.29.0/24, 212.224.86.0/24, 212.224.88.0/24,',\n 'Remote Hands - Service Dienstleistung',\n 'Remote Hands - Service Dienstleistung',\n 'Remote Hands - Service Dienstleistung',\n 'Remote Hands - Service Dienstleistung',\n 'Remote Hands - Service Dienstleistung',\n 'Remote Hands - Service Dienstleistung',\n 'Remote Hands - Service Dienstleistung',\n 'Remote Hands - Service Dienstleistung',\n 'Remote Hands - Service Dienstleistung',\n 'Remote Hands - Service Dienstleistung',\n 'Remote Hands - Service Dienstleistung',\n 'Remote Hands - Service Dienstleistung',\n 'Remote Hands - Service Dienstleistung',\n 'Remote Hands - Service Dienstleistung',\n 'Remote Hands - Service Dienstleistung',\n 'Remote Hands - Service Dienstleistung',\n 'Remote Hands - Service Dienstleistung',\n 'Remote Hands - Service Dienstleistung',\n 'Remote Hands - Service Dienstleistung',\n 'Remote Hands - Service Dienstleistung',\n 'Remote Hands - Service Dienstleistung',\n 'Remote Hands - Service Dienstleistung',\n 'Remote Hands - Service Dienstleistung',\n 'Remote Hands - Service Dienstleistung',\n 'Remote Hands - Service Dienstleistung',\n 'Remote Hands - Service Dienstleistung',\n 'Remote Hands - Service Dienstleistung',\n 'Remote Hands - Service Dienstleistung',\n 'Remote Hands - Service Dienstleistung',\n 'Remote Hands - Service Dienstleistung',\n 'Remote Hands - Service Dienstleistung',\n 'Remote Hands - Service Dienstleistung',\n 'Remote Hands - Service Dienstleistung',\n 'Remote Hands - Service Dienstleistung',\n 'Remote Hands - Service Dienstleistung',\n 'Remote Hands - Service Dienstleistung',\n 'Remote Hands - Service Dienstleistung',\n 'Remote Hands - Service Dienstleistung',\n 'Remote Hands - Service Dienstleistung',\n 'Remote Hands - Service Dienstleistung',\n 'Remote Hands - Service Dienstleistung',\n 'Remote Hands - Service Dienstleistung',\n 'Remote Hands - Service Dienstleistung',\n 'Remote Hands - Service Dienstleistung',\n 'Remote Hands - Service Dienstleistung',\n 'Remote Hands - Service Dienstleistung',\n 'Remote Hands - Service Dienstleistung',\n 'Remote Hands - Service Dienstleistung',\n 'Network Card extension + cabling (FC-24908)',\n 'Hardware: Samsung PM883 3840GB (FC-24821, FC-24995)',\n 'Hardware: Samsung PM883 1920GB (FC-25256)',\n 'Hardware: RAM-Upgrade AMD7452-1 (FC-25362)',\n \"19'' Rack inkl. Klima (M8)\",\n 'Stromleistung je kW/h Mindestabnahme',\n 'Mietgerät: Network Switch Juniper EX4300-48T (FC-213814D,',\n 'Mietserver Ulta AX160-NVMe 32 Core (lease-purchase) (FC-23943)',\n 'Mietserver Ulta AX160-NVMe 24 Core (lease-purchase) (FC-23944-57',\n 'Mietserver Ulta100 Xeon SSD (lease-purchase) (FC-23958-62)',\n 'Mietserver Ulta100 Xeon No-SSD (lease-purchase) (FC-23963-67)',\n 'Stromleistung je kW/h zusätzlich: gesamt',\n 'Stromleistung je kW/h auf Stromkreis: UV2/11F9',\n 'Stromleistung je kW/h auf Stromkreis: UV2/11F10',\n 'Mietserver Private Company Server (Ulta AX160-NVMe 24',\n 'Hardware: Samsung 970 EVO M.2 with 2TB (FC-25684)',\n 'Mietserver [KS] Ulta AX160-NVMe 24 Core (AMD7402-15,',\n 'Mietserver [KS] Ulta100 Xeon NVMe SSD (E-2276G-11 E-2276G-12)',\n 'Hardware: RAM-Upgrade 128 GB AMD 7402-11 (FC-26693)',\n 'Hardware: Server-Upgrade (2x 960 GB PM883) (FC-26713)',\n 'Shared Housing Ultahost-A3',\n 'Hardware: Server-Upgrade: SSD (FC-29004)',\n 'Hardware: Server-Upgrade: RAM (FC-29004)',\n '1G Uplink Ultahost-A3 (FC-30128)',\n 'Hardware: 64 GB RAM Ultahost-A1 (FC-29564)',\n 'Hardware: Server-Upgrade AMD 7451-1 (FC-31437)',\n 'DDoS Protection Arbor Lite (FC-31602)',\n 'Mietserver Dell Server Hardware (FC-31772)',\n 'Hardware: Server-Upgrade E-2276G-1 (FC-32269)',\n 'Hardware: Server-Upgrade AMD7402-5 (FC-32606)',\n 'Hardware: Serverupgrade A2 (FC-32852)',\n 'Hardware: FC-33801',\n '1/1 Rack (R1/3.16)',\n 'Power Feeds Rack R1/3.16',\n 'Uplinks Rack R1/3.16',\n 'Mietgerät: Juniper QFX5100-48T (FC-2291D2A, FC-2291EB8)',\n 'Mietserver Ulta 100-Xeon no SSD (FC-33243-57)',\n 'Mietserver: VPS Host (FC-33262-64)',\n 'Hardware Components',\n 'Storage-Upgrade ',\n 'Hardware: Intel X540-T2 (Dual 10GbE)',\n 'IP-Netz (159.100.30.0/24, 212.224.107.0/24)',\n '1TB SSD for server AMD7402-16',\n 'Dedicated Server: VPS Host (NVMe based)',\n '3U Supermicro Server - Modification',\n 'Dedicated Server FC-35348, FC-35624',\n 'Dedicated Server FC-35349',\n 'Serverupgrade 276G-1',\n 'LSI 9560-16i Raid Controller',\n '92TB PM983 Samsung NVMe SSD',\n '1x 960GB PM893 SSD',\n 'Dedicated Server FC-35865',\n 'Mietserver [KS] Ulta100 Xeon No-SSD (lease purchase) (E-2276G-13',\n 'Stromleistung Standort Kruppstraße je kW/h zusätzlich',\n 'Dedicated Server: FC-36099',\n 'Dedicated Server: FC-36067, FC-36068',\n 'Dedicated Server: FC-36035',\n 'Hardware: 960GB M.2 PM983 NVMe',\n '1/1 Colocation Rack: R3/3.17',\n 'Power Feeds for 5KW Colocation Racks',\n 'Fiber Uplinks for 5KW Colocation Racks',\n 'Network Switch: Juniper QFX5100-48T']"
     },
     "execution_count": 11,
     "metadata": {},
     "output_type": "execute_result"
    }
   ],
   "source": [
    "onlydata5"
   ],
   "metadata": {
    "collapsed": false,
    "pycharm": {
     "name": "#%%\n"
    }
   }
  },
  {
   "cell_type": "code",
   "execution_count": 12,
   "outputs": [],
   "source": [
    "# merged_data[\"Name\"]!=newdata1[\"Name\"]"
   ],
   "metadata": {
    "collapsed": false,
    "pycharm": {
     "name": "#%%\n"
    }
   }
  },
  {
   "cell_type": "code",
   "execution_count": 13,
   "outputs": [
    {
     "data": {
      "text/plain": "Empty DataFrame\nColumns: [Name, quantity_x, per_unit_x, total_x, quantity_y, per_unit_y, total_y]\nIndex: []",
      "text/html": "<div>\n<style scoped>\n    .dataframe tbody tr th:only-of-type {\n        vertical-align: middle;\n    }\n\n    .dataframe tbody tr th {\n        vertical-align: top;\n    }\n\n    .dataframe thead th {\n        text-align: right;\n    }\n</style>\n<table border=\"1\" class=\"dataframe\">\n  <thead>\n    <tr style=\"text-align: right;\">\n      <th></th>\n      <th>Name</th>\n      <th>quantity_x</th>\n      <th>per_unit_x</th>\n      <th>total_x</th>\n      <th>quantity_y</th>\n      <th>per_unit_y</th>\n      <th>total_y</th>\n    </tr>\n  </thead>\n  <tbody>\n  </tbody>\n</table>\n</div>"
     },
     "execution_count": 13,
     "metadata": {},
     "output_type": "execute_result"
    }
   ],
   "source": [
    "merged_data[~merged_data[\"Name\"].isin(newdata1[\"Name\"])]"
   ],
   "metadata": {
    "collapsed": false,
    "pycharm": {
     "name": "#%%\n"
    }
   }
  },
  {
   "cell_type": "code",
   "execution_count": 14,
   "outputs": [],
   "source": [
    "merged_data1 = pd.merge(newdata2, newdata1, on=\"Name\", how=\"outer\", indicator=True)\n",
    "filtered_data = merged_data1[~merged_data1[\"Name\"].isin(newdata1[\"Name\"])]"
   ],
   "metadata": {
    "collapsed": false,
    "pycharm": {
     "name": "#%%\n"
    }
   }
  },
  {
   "cell_type": "code",
   "execution_count": 15,
   "outputs": [
    {
     "data": {
      "text/plain": "                                                  Name  quantity_x  \\\n62   Stromleistung je kW/h auf Stromkreis: UV-RZ-Va...     48000.0   \n63   Stromleistung je kW/h auf Stromkreis: UV-RZ-Va...   2145000.0   \n64   Stromleistung je kW/h auf Stromkreis: UV-RZ-Va...     58000.0   \n65   Stromleistung je kW/h auf Stromkreis: UV-RZ-Va...   2042000.0   \n74                             Traffic Flatrate 6 Gbit      1000.0   \n106             Dedicated Server FC-35583 bis FC-35597     15000.0   \n118                  84TB Samsung Enterprise SDD PM893     10000.0   \n119                Hardware: 1.92TB Samsung PM983 NVMe      1000.0   \n120  Dedicted Server - VPS Host: FC-35579, FC-35580...      3000.0   \n121                           Hardware: 960GB PM893 SS      1000.0   \n122        /24 Subnet 212.224.93.0/24, 159.100.13.0/24      2000.0   \n123                         Dedicated Server: FC-36865      1000.0   \n124                        Dedicated Server - AMD 7763      1000.0   \n125                        Dedicated Server - AMD 7352      4000.0   \n126   Hardware: 1.92 TB SSD Samsung PM893 MZ7L31T9HBLT      4000.0   \n127                                 Hardware: X520-DA2      2000.0   \n128                        Dedicated Server - FC-37113      1000.0   \n129                         Dedicated Server - Ulta100     24000.0   \n130                        Dedicated Server - FC-36850      1000.0   \n131                             Hardware: 3.84TB PM893      2000.0   \n\n     per_unit_x   total_x  quantity_y  per_unit_y  total_y     _merge  \n62          0.0       0.0         NaN         NaN      NaN  left_only  \n63          0.0       0.0         NaN         NaN      NaN  left_only  \n64          0.0       0.0         NaN         NaN      NaN  left_only  \n65          0.0       0.0         NaN         NaN      NaN  left_only  \n74    2650000.0  265000.0         NaN         NaN      NaN  left_only  \n106     49290.0   73935.0         NaN         NaN      NaN  left_only  \n118     13100.0   13100.0         NaN         NaN      NaN  left_only  \n119     11500.0    1150.0         NaN         NaN      NaN  left_only  \n120    705000.0  211500.0         NaN         NaN      NaN  left_only  \n121      4700.0     470.0         NaN         NaN      NaN  left_only  \n122    154500.0   30900.0         NaN         NaN      NaN  left_only  \n123    105000.0   10500.0         NaN         NaN      NaN  left_only  \n124    177000.0   17700.0         NaN         NaN      NaN  left_only  \n125    100000.0   40000.0         NaN         NaN      NaN  left_only  \n126      5800.0    2320.0         NaN         NaN      NaN  left_only  \n127     10000.0    2000.0         NaN         NaN      NaN  left_only  \n128    258000.0   25800.0         NaN         NaN      NaN  left_only  \n129     63200.0  151680.0         NaN         NaN      NaN  left_only  \n130     84800.0    8480.0         NaN         NaN      NaN  left_only  \n131      9600.0    1920.0         NaN         NaN      NaN  left_only  ",
      "text/html": "<div>\n<style scoped>\n    .dataframe tbody tr th:only-of-type {\n        vertical-align: middle;\n    }\n\n    .dataframe tbody tr th {\n        vertical-align: top;\n    }\n\n    .dataframe thead th {\n        text-align: right;\n    }\n</style>\n<table border=\"1\" class=\"dataframe\">\n  <thead>\n    <tr style=\"text-align: right;\">\n      <th></th>\n      <th>Name</th>\n      <th>quantity_x</th>\n      <th>per_unit_x</th>\n      <th>total_x</th>\n      <th>quantity_y</th>\n      <th>per_unit_y</th>\n      <th>total_y</th>\n      <th>_merge</th>\n    </tr>\n  </thead>\n  <tbody>\n    <tr>\n      <th>62</th>\n      <td>Stromleistung je kW/h auf Stromkreis: UV-RZ-Va...</td>\n      <td>48000.0</td>\n      <td>0.0</td>\n      <td>0.0</td>\n      <td>NaN</td>\n      <td>NaN</td>\n      <td>NaN</td>\n      <td>left_only</td>\n    </tr>\n    <tr>\n      <th>63</th>\n      <td>Stromleistung je kW/h auf Stromkreis: UV-RZ-Va...</td>\n      <td>2145000.0</td>\n      <td>0.0</td>\n      <td>0.0</td>\n      <td>NaN</td>\n      <td>NaN</td>\n      <td>NaN</td>\n      <td>left_only</td>\n    </tr>\n    <tr>\n      <th>64</th>\n      <td>Stromleistung je kW/h auf Stromkreis: UV-RZ-Va...</td>\n      <td>58000.0</td>\n      <td>0.0</td>\n      <td>0.0</td>\n      <td>NaN</td>\n      <td>NaN</td>\n      <td>NaN</td>\n      <td>left_only</td>\n    </tr>\n    <tr>\n      <th>65</th>\n      <td>Stromleistung je kW/h auf Stromkreis: UV-RZ-Va...</td>\n      <td>2042000.0</td>\n      <td>0.0</td>\n      <td>0.0</td>\n      <td>NaN</td>\n      <td>NaN</td>\n      <td>NaN</td>\n      <td>left_only</td>\n    </tr>\n    <tr>\n      <th>74</th>\n      <td>Traffic Flatrate 6 Gbit</td>\n      <td>1000.0</td>\n      <td>2650000.0</td>\n      <td>265000.0</td>\n      <td>NaN</td>\n      <td>NaN</td>\n      <td>NaN</td>\n      <td>left_only</td>\n    </tr>\n    <tr>\n      <th>106</th>\n      <td>Dedicated Server FC-35583 bis FC-35597</td>\n      <td>15000.0</td>\n      <td>49290.0</td>\n      <td>73935.0</td>\n      <td>NaN</td>\n      <td>NaN</td>\n      <td>NaN</td>\n      <td>left_only</td>\n    </tr>\n    <tr>\n      <th>118</th>\n      <td>84TB Samsung Enterprise SDD PM893</td>\n      <td>10000.0</td>\n      <td>13100.0</td>\n      <td>13100.0</td>\n      <td>NaN</td>\n      <td>NaN</td>\n      <td>NaN</td>\n      <td>left_only</td>\n    </tr>\n    <tr>\n      <th>119</th>\n      <td>Hardware: 1.92TB Samsung PM983 NVMe</td>\n      <td>1000.0</td>\n      <td>11500.0</td>\n      <td>1150.0</td>\n      <td>NaN</td>\n      <td>NaN</td>\n      <td>NaN</td>\n      <td>left_only</td>\n    </tr>\n    <tr>\n      <th>120</th>\n      <td>Dedicted Server - VPS Host: FC-35579, FC-35580...</td>\n      <td>3000.0</td>\n      <td>705000.0</td>\n      <td>211500.0</td>\n      <td>NaN</td>\n      <td>NaN</td>\n      <td>NaN</td>\n      <td>left_only</td>\n    </tr>\n    <tr>\n      <th>121</th>\n      <td>Hardware: 960GB PM893 SS</td>\n      <td>1000.0</td>\n      <td>4700.0</td>\n      <td>470.0</td>\n      <td>NaN</td>\n      <td>NaN</td>\n      <td>NaN</td>\n      <td>left_only</td>\n    </tr>\n    <tr>\n      <th>122</th>\n      <td>/24 Subnet 212.224.93.0/24, 159.100.13.0/24</td>\n      <td>2000.0</td>\n      <td>154500.0</td>\n      <td>30900.0</td>\n      <td>NaN</td>\n      <td>NaN</td>\n      <td>NaN</td>\n      <td>left_only</td>\n    </tr>\n    <tr>\n      <th>123</th>\n      <td>Dedicated Server: FC-36865</td>\n      <td>1000.0</td>\n      <td>105000.0</td>\n      <td>10500.0</td>\n      <td>NaN</td>\n      <td>NaN</td>\n      <td>NaN</td>\n      <td>left_only</td>\n    </tr>\n    <tr>\n      <th>124</th>\n      <td>Dedicated Server - AMD 7763</td>\n      <td>1000.0</td>\n      <td>177000.0</td>\n      <td>17700.0</td>\n      <td>NaN</td>\n      <td>NaN</td>\n      <td>NaN</td>\n      <td>left_only</td>\n    </tr>\n    <tr>\n      <th>125</th>\n      <td>Dedicated Server - AMD 7352</td>\n      <td>4000.0</td>\n      <td>100000.0</td>\n      <td>40000.0</td>\n      <td>NaN</td>\n      <td>NaN</td>\n      <td>NaN</td>\n      <td>left_only</td>\n    </tr>\n    <tr>\n      <th>126</th>\n      <td>Hardware: 1.92 TB SSD Samsung PM893 MZ7L31T9HBLT</td>\n      <td>4000.0</td>\n      <td>5800.0</td>\n      <td>2320.0</td>\n      <td>NaN</td>\n      <td>NaN</td>\n      <td>NaN</td>\n      <td>left_only</td>\n    </tr>\n    <tr>\n      <th>127</th>\n      <td>Hardware: X520-DA2</td>\n      <td>2000.0</td>\n      <td>10000.0</td>\n      <td>2000.0</td>\n      <td>NaN</td>\n      <td>NaN</td>\n      <td>NaN</td>\n      <td>left_only</td>\n    </tr>\n    <tr>\n      <th>128</th>\n      <td>Dedicated Server - FC-37113</td>\n      <td>1000.0</td>\n      <td>258000.0</td>\n      <td>25800.0</td>\n      <td>NaN</td>\n      <td>NaN</td>\n      <td>NaN</td>\n      <td>left_only</td>\n    </tr>\n    <tr>\n      <th>129</th>\n      <td>Dedicated Server - Ulta100</td>\n      <td>24000.0</td>\n      <td>63200.0</td>\n      <td>151680.0</td>\n      <td>NaN</td>\n      <td>NaN</td>\n      <td>NaN</td>\n      <td>left_only</td>\n    </tr>\n    <tr>\n      <th>130</th>\n      <td>Dedicated Server - FC-36850</td>\n      <td>1000.0</td>\n      <td>84800.0</td>\n      <td>8480.0</td>\n      <td>NaN</td>\n      <td>NaN</td>\n      <td>NaN</td>\n      <td>left_only</td>\n    </tr>\n    <tr>\n      <th>131</th>\n      <td>Hardware: 3.84TB PM893</td>\n      <td>2000.0</td>\n      <td>9600.0</td>\n      <td>1920.0</td>\n      <td>NaN</td>\n      <td>NaN</td>\n      <td>NaN</td>\n      <td>left_only</td>\n    </tr>\n  </tbody>\n</table>\n</div>"
     },
     "execution_count": 15,
     "metadata": {},
     "output_type": "execute_result"
    }
   ],
   "source": [
    "filtered_data"
   ],
   "metadata": {
    "collapsed": false,
    "pycharm": {
     "name": "#%%\n"
    }
   }
  },
  {
   "cell_type": "code",
   "execution_count": 16,
   "outputs": [
    {
     "data": {
      "text/plain": "                                                  Name  quantity_x  \\\n0                                    1 HE im 19'' Rack        2000   \n1    IP-Netz (159.100.29.0/24, 212.224.86.0/24, 212...        9000   \n2                Remote Hands - Service Dienstleistung        1000   \n3                Remote Hands - Service Dienstleistung        1000   \n4                Remote Hands - Service Dienstleistung        1000   \n..                                                 ...         ...   \n107                     Hardware: 960GB M.2 PM983 NVMe        5000   \n108                       1/1 Colocation Rack: R3/3.17        1000   \n109               Power Feeds for 5KW Colocation Racks        1000   \n110             Fiber Uplinks for 5KW Colocation Racks        1000   \n111                Network Switch: Juniper QFX5100-48T        1000   \n\n     per_unit_x  total_x  quantity_y  per_unit_y  total_y  \n0         65000    13000        2000       65000    13000  \n1        154500   139050        8000      154500   123600  \n2         45000     4500        1000       45000     4500  \n3         45000     4500        3000       45000    13500  \n4         45000     4500        1000       45000     4500  \n..          ...      ...         ...         ...      ...  \n107        4250     2125        5000        4250     2125  \n108      495000    49500        1000           0        0  \n109      160000    16000        1000           0        0  \n110      129000    12900        1000           0        0  \n111      175000    17500        1000           0        0  \n\n[112 rows x 7 columns]",
      "text/html": "<div>\n<style scoped>\n    .dataframe tbody tr th:only-of-type {\n        vertical-align: middle;\n    }\n\n    .dataframe tbody tr th {\n        vertical-align: top;\n    }\n\n    .dataframe thead th {\n        text-align: right;\n    }\n</style>\n<table border=\"1\" class=\"dataframe\">\n  <thead>\n    <tr style=\"text-align: right;\">\n      <th></th>\n      <th>Name</th>\n      <th>quantity_x</th>\n      <th>per_unit_x</th>\n      <th>total_x</th>\n      <th>quantity_y</th>\n      <th>per_unit_y</th>\n      <th>total_y</th>\n    </tr>\n  </thead>\n  <tbody>\n    <tr>\n      <th>0</th>\n      <td>1 HE im 19'' Rack</td>\n      <td>2000</td>\n      <td>65000</td>\n      <td>13000</td>\n      <td>2000</td>\n      <td>65000</td>\n      <td>13000</td>\n    </tr>\n    <tr>\n      <th>1</th>\n      <td>IP-Netz (159.100.29.0/24, 212.224.86.0/24, 212...</td>\n      <td>9000</td>\n      <td>154500</td>\n      <td>139050</td>\n      <td>8000</td>\n      <td>154500</td>\n      <td>123600</td>\n    </tr>\n    <tr>\n      <th>2</th>\n      <td>Remote Hands - Service Dienstleistung</td>\n      <td>1000</td>\n      <td>45000</td>\n      <td>4500</td>\n      <td>1000</td>\n      <td>45000</td>\n      <td>4500</td>\n    </tr>\n    <tr>\n      <th>3</th>\n      <td>Remote Hands - Service Dienstleistung</td>\n      <td>1000</td>\n      <td>45000</td>\n      <td>4500</td>\n      <td>3000</td>\n      <td>45000</td>\n      <td>13500</td>\n    </tr>\n    <tr>\n      <th>4</th>\n      <td>Remote Hands - Service Dienstleistung</td>\n      <td>1000</td>\n      <td>45000</td>\n      <td>4500</td>\n      <td>1000</td>\n      <td>45000</td>\n      <td>4500</td>\n    </tr>\n    <tr>\n      <th>...</th>\n      <td>...</td>\n      <td>...</td>\n      <td>...</td>\n      <td>...</td>\n      <td>...</td>\n      <td>...</td>\n      <td>...</td>\n    </tr>\n    <tr>\n      <th>107</th>\n      <td>Hardware: 960GB M.2 PM983 NVMe</td>\n      <td>5000</td>\n      <td>4250</td>\n      <td>2125</td>\n      <td>5000</td>\n      <td>4250</td>\n      <td>2125</td>\n    </tr>\n    <tr>\n      <th>108</th>\n      <td>1/1 Colocation Rack: R3/3.17</td>\n      <td>1000</td>\n      <td>495000</td>\n      <td>49500</td>\n      <td>1000</td>\n      <td>0</td>\n      <td>0</td>\n    </tr>\n    <tr>\n      <th>109</th>\n      <td>Power Feeds for 5KW Colocation Racks</td>\n      <td>1000</td>\n      <td>160000</td>\n      <td>16000</td>\n      <td>1000</td>\n      <td>0</td>\n      <td>0</td>\n    </tr>\n    <tr>\n      <th>110</th>\n      <td>Fiber Uplinks for 5KW Colocation Racks</td>\n      <td>1000</td>\n      <td>129000</td>\n      <td>12900</td>\n      <td>1000</td>\n      <td>0</td>\n      <td>0</td>\n    </tr>\n    <tr>\n      <th>111</th>\n      <td>Network Switch: Juniper QFX5100-48T</td>\n      <td>1000</td>\n      <td>175000</td>\n      <td>17500</td>\n      <td>1000</td>\n      <td>0</td>\n      <td>0</td>\n    </tr>\n  </tbody>\n</table>\n<p>112 rows × 7 columns</p>\n</div>"
     },
     "execution_count": 16,
     "metadata": {},
     "output_type": "execute_result"
    }
   ],
   "source": [
    "merged_data"
   ],
   "metadata": {
    "collapsed": false,
    "pycharm": {
     "name": "#%%\n"
    }
   }
  },
  {
   "cell_type": "code",
   "execution_count": 17,
   "outputs": [],
   "source": [
    "testdata1 = {'Name': ['A', 'B', 'C', 'D']}\n",
    "newdata1 = pd.DataFrame(testdata1)"
   ],
   "metadata": {
    "collapsed": false,
    "pycharm": {
     "name": "#%%\n"
    }
   }
  },
  {
   "cell_type": "code",
   "execution_count": 18,
   "outputs": [
    {
     "data": {
      "text/plain": "0    A\n1    B\n2    C\n3    D\nName: Name, dtype: object"
     },
     "execution_count": 18,
     "metadata": {},
     "output_type": "execute_result"
    }
   ],
   "source": [
    "newdata1[\"Name\"]"
   ],
   "metadata": {
    "collapsed": false,
    "pycharm": {
     "name": "#%%\n"
    }
   }
  },
  {
   "cell_type": "code",
   "execution_count": 19,
   "outputs": [],
   "source": [
    "list=[8,9,6,8,5,7,8,9,6,3,22,5]"
   ],
   "metadata": {
    "collapsed": false,
    "pycharm": {
     "name": "#%%\n"
    }
   }
  },
  {
   "cell_type": "code",
   "execution_count": 20,
   "outputs": [],
   "source": [
    "tes={\"data\":list}\n",
    "ne=pd.DataFrame(tes)"
   ],
   "metadata": {
    "collapsed": false,
    "pycharm": {
     "name": "#%%\n"
    }
   }
  },
  {
   "cell_type": "code",
   "execution_count": 21,
   "outputs": [
    {
     "data": {
      "text/plain": "    data\n0      8\n1      9\n2      6\n3      8\n4      5\n5      7\n6      8\n7      9\n8      6\n9      3\n10    22\n11     5",
      "text/html": "<div>\n<style scoped>\n    .dataframe tbody tr th:only-of-type {\n        vertical-align: middle;\n    }\n\n    .dataframe tbody tr th {\n        vertical-align: top;\n    }\n\n    .dataframe thead th {\n        text-align: right;\n    }\n</style>\n<table border=\"1\" class=\"dataframe\">\n  <thead>\n    <tr style=\"text-align: right;\">\n      <th></th>\n      <th>data</th>\n    </tr>\n  </thead>\n  <tbody>\n    <tr>\n      <th>0</th>\n      <td>8</td>\n    </tr>\n    <tr>\n      <th>1</th>\n      <td>9</td>\n    </tr>\n    <tr>\n      <th>2</th>\n      <td>6</td>\n    </tr>\n    <tr>\n      <th>3</th>\n      <td>8</td>\n    </tr>\n    <tr>\n      <th>4</th>\n      <td>5</td>\n    </tr>\n    <tr>\n      <th>5</th>\n      <td>7</td>\n    </tr>\n    <tr>\n      <th>6</th>\n      <td>8</td>\n    </tr>\n    <tr>\n      <th>7</th>\n      <td>9</td>\n    </tr>\n    <tr>\n      <th>8</th>\n      <td>6</td>\n    </tr>\n    <tr>\n      <th>9</th>\n      <td>3</td>\n    </tr>\n    <tr>\n      <th>10</th>\n      <td>22</td>\n    </tr>\n    <tr>\n      <th>11</th>\n      <td>5</td>\n    </tr>\n  </tbody>\n</table>\n</div>"
     },
     "execution_count": 21,
     "metadata": {},
     "output_type": "execute_result"
    }
   ],
   "source": [
    "ne"
   ],
   "metadata": {
    "collapsed": false,
    "pycharm": {
     "name": "#%%\n"
    }
   }
  },
  {
   "cell_type": "code",
   "execution_count": 22,
   "outputs": [],
   "source": [
    "list1=[]\n",
    "for i in merged_data[\"Name\"]:\n",
    "    list1.append(i)"
   ],
   "metadata": {
    "collapsed": false,
    "pycharm": {
     "name": "#%%\n"
    }
   }
  },
  {
   "cell_type": "code",
   "execution_count": 23,
   "outputs": [],
   "source": [
    "nlist1=[]\n",
    "for i in newdata1[\"Name\"]:\n",
    "    nlist1.append(i)"
   ],
   "metadata": {
    "collapsed": false,
    "pycharm": {
     "name": "#%%\n"
    }
   }
  },
  {
   "cell_type": "code",
   "execution_count": 24,
   "outputs": [
    {
     "data": {
      "text/plain": "[\"1 HE im 19'' Rack\",\n 'IP-Netz (159.100.29.0/24, 212.224.86.0/24, 212.224.88.0/24,',\n 'Remote Hands - Service Dienstleistung',\n 'Remote Hands - Service Dienstleistung',\n 'Remote Hands - Service Dienstleistung',\n 'Remote Hands - Service Dienstleistung',\n 'Remote Hands - Service Dienstleistung',\n 'Remote Hands - Service Dienstleistung',\n 'Remote Hands - Service Dienstleistung',\n 'Remote Hands - Service Dienstleistung',\n 'Remote Hands - Service Dienstleistung',\n 'Remote Hands - Service Dienstleistung',\n 'Remote Hands - Service Dienstleistung',\n 'Remote Hands - Service Dienstleistung',\n 'Remote Hands - Service Dienstleistung',\n 'Remote Hands - Service Dienstleistung',\n 'Remote Hands - Service Dienstleistung',\n 'Remote Hands - Service Dienstleistung',\n 'Remote Hands - Service Dienstleistung',\n 'Remote Hands - Service Dienstleistung',\n 'Remote Hands - Service Dienstleistung',\n 'Remote Hands - Service Dienstleistung',\n 'Remote Hands - Service Dienstleistung',\n 'Remote Hands - Service Dienstleistung',\n 'Remote Hands - Service Dienstleistung',\n 'Remote Hands - Service Dienstleistung',\n 'Remote Hands - Service Dienstleistung',\n 'Remote Hands - Service Dienstleistung',\n 'Remote Hands - Service Dienstleistung',\n 'Remote Hands - Service Dienstleistung',\n 'Remote Hands - Service Dienstleistung',\n 'Remote Hands - Service Dienstleistung',\n 'Remote Hands - Service Dienstleistung',\n 'Remote Hands - Service Dienstleistung',\n 'Remote Hands - Service Dienstleistung',\n 'Remote Hands - Service Dienstleistung',\n 'Remote Hands - Service Dienstleistung',\n 'Remote Hands - Service Dienstleistung',\n 'Remote Hands - Service Dienstleistung',\n 'Remote Hands - Service Dienstleistung',\n 'Remote Hands - Service Dienstleistung',\n 'Remote Hands - Service Dienstleistung',\n 'Remote Hands - Service Dienstleistung',\n 'Remote Hands - Service Dienstleistung',\n 'Remote Hands - Service Dienstleistung',\n 'Remote Hands - Service Dienstleistung',\n 'Remote Hands - Service Dienstleistung',\n 'Remote Hands - Service Dienstleistung',\n 'Remote Hands - Service Dienstleistung',\n 'Remote Hands - Service Dienstleistung',\n 'Network Card extension + cabling (FC-24908)',\n 'Hardware: Samsung PM883 3840GB (FC-24821, FC-24995)',\n 'Hardware: Samsung PM883 1920GB (FC-25256)',\n 'Hardware: RAM-Upgrade AMD7452-1 (FC-25362)',\n \"19'' Rack inkl. Klima (M8)\",\n 'Stromleistung je kW/h Mindestabnahme',\n 'Mietgerät: Network Switch Juniper EX4300-48T (FC-213814D,',\n 'Mietserver Ulta AX160-NVMe 32 Core (lease-purchase) (FC-23943)',\n 'Mietserver Ulta AX160-NVMe 24 Core (lease-purchase) (FC-23944-57',\n 'Mietserver Ulta100 Xeon SSD (lease-purchase) (FC-23958-62)',\n 'Mietserver Ulta100 Xeon No-SSD (lease-purchase) (FC-23963-67)',\n 'Stromleistung je kW/h zusätzlich: gesamt',\n 'Stromleistung je kW/h auf Stromkreis: UV2/11F9',\n 'Stromleistung je kW/h auf Stromkreis: UV2/11F10',\n 'Mietserver Private Company Server (Ulta AX160-NVMe 24',\n 'Hardware: Samsung 970 EVO M.2 with 2TB (FC-25684)',\n 'Mietserver [KS] Ulta AX160-NVMe 24 Core (AMD7402-15,',\n 'Mietserver [KS] Ulta100 Xeon NVMe SSD (E-2276G-11 E-2276G-12)',\n 'Hardware: RAM-Upgrade 128 GB AMD 7402-11 (FC-26693)',\n 'Hardware: Server-Upgrade (2x 960 GB PM883) (FC-26713)',\n 'Shared Housing Ultahost-A3',\n 'Hardware: Server-Upgrade: SSD (FC-29004)',\n 'Hardware: Server-Upgrade: RAM (FC-29004)',\n '1G Uplink Ultahost-A3 (FC-30128)',\n 'Hardware: 64 GB RAM Ultahost-A1 (FC-29564)',\n 'Hardware: Server-Upgrade AMD 7451-1 (FC-31437)',\n 'DDoS Protection Arbor Lite (FC-31602)',\n 'Mietserver Dell Server Hardware (FC-31772)',\n 'Hardware: Server-Upgrade E-2276G-1 (FC-32269)',\n 'Hardware: Server-Upgrade AMD7402-5 (FC-32606)',\n 'Hardware: Serverupgrade A2 (FC-32852)',\n 'Hardware: FC-33801',\n '1/1 Rack (R1/3.16)',\n 'Power Feeds Rack R1/3.16',\n 'Uplinks Rack R1/3.16',\n 'Mietgerät: Juniper QFX5100-48T (FC-2291D2A, FC-2291EB8)',\n 'Mietserver Ulta 100-Xeon no SSD (FC-33243-57)',\n 'Mietserver: VPS Host (FC-33262-64)',\n 'Hardware Components',\n 'Storage-Upgrade ',\n 'Hardware: Intel X540-T2 (Dual 10GbE)',\n 'IP-Netz (159.100.30.0/24, 212.224.107.0/24)',\n '1TB SSD for server AMD7402-16',\n 'Dedicated Server: VPS Host (NVMe based)',\n '3U Supermicro Server - Modification',\n 'Dedicated Server FC-35348, FC-35624',\n 'Dedicated Server FC-35349',\n 'Serverupgrade 276G-1',\n 'LSI 9560-16i Raid Controller',\n '92TB PM983 Samsung NVMe SSD',\n '1x 960GB PM893 SSD',\n 'Dedicated Server FC-35865',\n 'Mietserver [KS] Ulta100 Xeon No-SSD (lease purchase) (E-2276G-13',\n 'Stromleistung Standort Kruppstraße je kW/h zusätzlich',\n 'Dedicated Server: FC-36099',\n 'Dedicated Server: FC-36067, FC-36068',\n 'Dedicated Server: FC-36035',\n 'Hardware: 960GB M.2 PM983 NVMe',\n '1/1 Colocation Rack: R3/3.17',\n 'Power Feeds for 5KW Colocation Racks',\n 'Fiber Uplinks for 5KW Colocation Racks',\n 'Network Switch: Juniper QFX5100-48T']"
     },
     "execution_count": 24,
     "metadata": {},
     "output_type": "execute_result"
    }
   ],
   "source": [
    "list1"
   ],
   "metadata": {
    "collapsed": false,
    "pycharm": {
     "name": "#%%\n"
    }
   }
  },
  {
   "cell_type": "code",
   "execution_count": 25,
   "outputs": [
    {
     "data": {
      "text/plain": "['A', 'B', 'C', 'D']"
     },
     "execution_count": 25,
     "metadata": {},
     "output_type": "execute_result"
    }
   ],
   "source": [
    "nlist1"
   ],
   "metadata": {
    "collapsed": false,
    "pycharm": {
     "name": "#%%\n"
    }
   }
  },
  {
   "cell_type": "code",
   "execution_count": 26,
   "outputs": [
    {
     "data": {
      "text/plain": "112"
     },
     "execution_count": 26,
     "metadata": {},
     "output_type": "execute_result"
    }
   ],
   "source": [
    "len(list1)"
   ],
   "metadata": {
    "collapsed": false,
    "pycharm": {
     "name": "#%%\n"
    }
   }
  },
  {
   "cell_type": "code",
   "execution_count": 27,
   "outputs": [
    {
     "data": {
      "text/plain": "4"
     },
     "execution_count": 27,
     "metadata": {},
     "output_type": "execute_result"
    }
   ],
   "source": [
    "len(nlist1)"
   ],
   "metadata": {
    "collapsed": false,
    "pycharm": {
     "name": "#%%\n"
    }
   }
  },
  {
   "cell_type": "code",
   "execution_count": 28,
   "outputs": [],
   "source": [
    "telist1=[]\n",
    "for i in list1:\n",
    "    if i in nlist1:\n",
    "        telist1.append(i)"
   ],
   "metadata": {
    "collapsed": false,
    "pycharm": {
     "name": "#%%\n"
    }
   }
  },
  {
   "cell_type": "code",
   "execution_count": 29,
   "outputs": [
    {
     "data": {
      "text/plain": "[]"
     },
     "execution_count": 29,
     "metadata": {},
     "output_type": "execute_result"
    }
   ],
   "source": [
    "telist1"
   ],
   "metadata": {
    "collapsed": false,
    "pycharm": {
     "name": "#%%\n"
    }
   }
  },
  {
   "cell_type": "code",
   "execution_count": 30,
   "outputs": [],
   "source": [
    "nlist2=[]\n",
    "for i in newdata2[\"Name\"]:\n",
    "    nlist2.append(i)"
   ],
   "metadata": {
    "collapsed": false,
    "pycharm": {
     "name": "#%%\n"
    }
   }
  },
  {
   "cell_type": "code",
   "execution_count": 31,
   "outputs": [
    {
     "data": {
      "text/plain": "[\"1 HE im 19'' Rack\",\n 'IP-Netz (159.100.29.0/24, 212.224.86.0/24, 212.224.88.0/24,',\n 'Remote Hands - Service Dienstleistung',\n 'Remote Hands - Service Dienstleistung',\n 'Remote Hands - Service Dienstleistung',\n 'Remote Hands - Service Dienstleistung',\n 'Remote Hands - Service Dienstleistung',\n 'Remote Hands - Service Dienstleistung',\n 'Network Card extension + cabling (FC-24908)',\n 'Hardware: Samsung PM883 3840GB (FC-24821, FC-24995)',\n 'Hardware: Samsung PM883 1920GB (FC-25256)',\n 'Hardware: RAM-Upgrade AMD7452-1 (FC-25362)',\n \"19'' Rack inkl. Klima (M8)\",\n 'Stromleistung je kW/h Mindestabnahme',\n 'Mietgerät: Network Switch Juniper EX4300-48T (FC-213814D,',\n 'Mietserver Ulta AX160-NVMe 32 Core (lease-purchase) (FC-23943)',\n 'Mietserver Ulta AX160-NVMe 24 Core (lease-purchase) (FC-23944-57',\n 'Mietserver Ulta100 Xeon SSD (lease-purchase) (FC-23958-62)',\n 'Mietserver Ulta100 Xeon No-SSD (lease-purchase) (FC-23963-67)',\n 'Stromleistung je kW/h zusätzlich: gesamt',\n 'Stromleistung je kW/h auf Stromkreis: UV-RZ-Vario-B/F2.4',\n 'Stromleistung je kW/h auf Stromkreis: UV-RZ-Vario-B/F1.8',\n 'Stromleistung je kW/h auf Stromkreis: UV-RZ-Vario-A/F2.4',\n 'Stromleistung je kW/h auf Stromkreis: UV-RZ-Vario-A/F1.8',\n 'Stromleistung je kW/h auf Stromkreis: UV2/11F9',\n 'Stromleistung je kW/h auf Stromkreis: UV2/11F10',\n 'Mietserver Private Company Server (Ulta AX160-NVMe 24',\n 'Hardware: Samsung 970 EVO M.2 with 2TB (FC-25684)',\n 'Mietserver [KS] Ulta AX160-NVMe 24 Core (AMD7402-15,',\n 'Mietserver [KS] Ulta100 Xeon NVMe SSD (E-2276G-11 E-2276G-12)',\n 'Hardware: RAM-Upgrade 128 GB AMD 7402-11 (FC-26693)',\n 'Hardware: Server-Upgrade (2x 960 GB PM883) (FC-26713)',\n 'Traffic Flatrate 6 Gbit',\n 'Shared Housing Ultahost-A3',\n 'Hardware: Server-Upgrade: SSD (FC-29004)',\n 'Hardware: Server-Upgrade: RAM (FC-29004)',\n '1G Uplink Ultahost-A3 (FC-30128)',\n 'Hardware: 64 GB RAM Ultahost-A1 (FC-29564)',\n 'Hardware: Server-Upgrade AMD 7451-1 (FC-31437)',\n 'DDoS Protection Arbor Lite (FC-31602)',\n 'Mietserver Dell Server Hardware (FC-31772)',\n 'Hardware: Server-Upgrade E-2276G-1 (FC-32269)',\n 'Hardware: Server-Upgrade AMD7402-5 (FC-32606)',\n 'Hardware: Serverupgrade A2 (FC-32852)',\n 'Hardware: FC-33801',\n '1/1 Rack (R1/3.16)',\n 'Power Feeds Rack R1/3.16',\n 'Uplinks Rack R1/3.16',\n 'Mietgerät: Juniper QFX5100-48T (FC-2291D2A, FC-2291EB8)',\n 'Mietserver Ulta 100-Xeon no SSD (FC-33243-57)',\n 'Mietserver: VPS Host (FC-33262-64)',\n 'Hardware Components',\n 'Storage-Upgrade ',\n 'Hardware: Intel X540-T2 (Dual 10GbE)',\n 'IP-Netz (159.100.30.0/24, 212.224.107.0/24)',\n '1TB SSD for server AMD7402-16',\n 'Dedicated Server: VPS Host (NVMe based)',\n '3U Supermicro Server - Modification',\n 'Dedicated Server FC-35348, FC-35624',\n 'Dedicated Server FC-35349',\n 'Serverupgrade 276G-1',\n 'LSI 9560-16i Raid Controller',\n '92TB PM983 Samsung NVMe SSD',\n '1x 960GB PM893 SSD',\n 'Dedicated Server FC-35583 bis FC-35597',\n 'Dedicated Server FC-35865',\n 'Mietserver [KS] Ulta100 Xeon No-SSD (lease purchase) (E-2276G-13',\n 'Stromleistung Standort Kruppstraße je kW/h zusätzlich',\n 'Dedicated Server: FC-36099',\n 'Dedicated Server: FC-36067, FC-36068',\n 'Dedicated Server: FC-36035',\n 'Hardware: 960GB M.2 PM983 NVMe',\n '1/1 Colocation Rack: R3/3.17',\n 'Power Feeds for 5KW Colocation Racks',\n 'Fiber Uplinks for 5KW Colocation Racks',\n 'Network Switch: Juniper QFX5100-48T',\n '84TB Samsung Enterprise SDD PM893',\n 'Hardware: 1.92TB Samsung PM983 NVMe',\n 'Dedicted Server - VPS Host: FC-35579, FC-35580, FC-35581',\n 'Hardware: 960GB PM893 SS',\n '/24 Subnet 212.224.93.0/24, 159.100.13.0/24',\n 'Dedicated Server: FC-36865',\n 'Dedicated Server - AMD 7763',\n 'Dedicated Server - AMD 7352',\n 'Hardware: 1.92 TB SSD Samsung PM893 MZ7L31T9HBLT',\n 'Hardware: X520-DA2',\n 'Dedicated Server - FC-37113',\n 'Dedicated Server - Ulta100',\n 'Dedicated Server - FC-36850',\n 'Hardware: 3.84TB PM893']"
     },
     "execution_count": 31,
     "metadata": {},
     "output_type": "execute_result"
    }
   ],
   "source": [
    "nlist2"
   ],
   "metadata": {
    "collapsed": false,
    "pycharm": {
     "name": "#%%\n"
    }
   }
  },
  {
   "cell_type": "code",
   "execution_count": 32,
   "outputs": [],
   "source": [
    "telist2=[]\n",
    "for i in nlist2:\n",
    "    if i not in nlist1:\n",
    "        telist2.append(i)"
   ],
   "metadata": {
    "collapsed": false,
    "pycharm": {
     "name": "#%%\n"
    }
   }
  },
  {
   "cell_type": "code",
   "execution_count": 33,
   "outputs": [
    {
     "data": {
      "text/plain": "[\"1 HE im 19'' Rack\",\n 'IP-Netz (159.100.29.0/24, 212.224.86.0/24, 212.224.88.0/24,',\n 'Remote Hands - Service Dienstleistung',\n 'Remote Hands - Service Dienstleistung',\n 'Remote Hands - Service Dienstleistung',\n 'Remote Hands - Service Dienstleistung',\n 'Remote Hands - Service Dienstleistung',\n 'Remote Hands - Service Dienstleistung',\n 'Network Card extension + cabling (FC-24908)',\n 'Hardware: Samsung PM883 3840GB (FC-24821, FC-24995)',\n 'Hardware: Samsung PM883 1920GB (FC-25256)',\n 'Hardware: RAM-Upgrade AMD7452-1 (FC-25362)',\n \"19'' Rack inkl. Klima (M8)\",\n 'Stromleistung je kW/h Mindestabnahme',\n 'Mietgerät: Network Switch Juniper EX4300-48T (FC-213814D,',\n 'Mietserver Ulta AX160-NVMe 32 Core (lease-purchase) (FC-23943)',\n 'Mietserver Ulta AX160-NVMe 24 Core (lease-purchase) (FC-23944-57',\n 'Mietserver Ulta100 Xeon SSD (lease-purchase) (FC-23958-62)',\n 'Mietserver Ulta100 Xeon No-SSD (lease-purchase) (FC-23963-67)',\n 'Stromleistung je kW/h zusätzlich: gesamt',\n 'Stromleistung je kW/h auf Stromkreis: UV-RZ-Vario-B/F2.4',\n 'Stromleistung je kW/h auf Stromkreis: UV-RZ-Vario-B/F1.8',\n 'Stromleistung je kW/h auf Stromkreis: UV-RZ-Vario-A/F2.4',\n 'Stromleistung je kW/h auf Stromkreis: UV-RZ-Vario-A/F1.8',\n 'Stromleistung je kW/h auf Stromkreis: UV2/11F9',\n 'Stromleistung je kW/h auf Stromkreis: UV2/11F10',\n 'Mietserver Private Company Server (Ulta AX160-NVMe 24',\n 'Hardware: Samsung 970 EVO M.2 with 2TB (FC-25684)',\n 'Mietserver [KS] Ulta AX160-NVMe 24 Core (AMD7402-15,',\n 'Mietserver [KS] Ulta100 Xeon NVMe SSD (E-2276G-11 E-2276G-12)',\n 'Hardware: RAM-Upgrade 128 GB AMD 7402-11 (FC-26693)',\n 'Hardware: Server-Upgrade (2x 960 GB PM883) (FC-26713)',\n 'Traffic Flatrate 6 Gbit',\n 'Shared Housing Ultahost-A3',\n 'Hardware: Server-Upgrade: SSD (FC-29004)',\n 'Hardware: Server-Upgrade: RAM (FC-29004)',\n '1G Uplink Ultahost-A3 (FC-30128)',\n 'Hardware: 64 GB RAM Ultahost-A1 (FC-29564)',\n 'Hardware: Server-Upgrade AMD 7451-1 (FC-31437)',\n 'DDoS Protection Arbor Lite (FC-31602)',\n 'Mietserver Dell Server Hardware (FC-31772)',\n 'Hardware: Server-Upgrade E-2276G-1 (FC-32269)',\n 'Hardware: Server-Upgrade AMD7402-5 (FC-32606)',\n 'Hardware: Serverupgrade A2 (FC-32852)',\n 'Hardware: FC-33801',\n '1/1 Rack (R1/3.16)',\n 'Power Feeds Rack R1/3.16',\n 'Uplinks Rack R1/3.16',\n 'Mietgerät: Juniper QFX5100-48T (FC-2291D2A, FC-2291EB8)',\n 'Mietserver Ulta 100-Xeon no SSD (FC-33243-57)',\n 'Mietserver: VPS Host (FC-33262-64)',\n 'Hardware Components',\n 'Storage-Upgrade ',\n 'Hardware: Intel X540-T2 (Dual 10GbE)',\n 'IP-Netz (159.100.30.0/24, 212.224.107.0/24)',\n '1TB SSD for server AMD7402-16',\n 'Dedicated Server: VPS Host (NVMe based)',\n '3U Supermicro Server - Modification',\n 'Dedicated Server FC-35348, FC-35624',\n 'Dedicated Server FC-35349',\n 'Serverupgrade 276G-1',\n 'LSI 9560-16i Raid Controller',\n '92TB PM983 Samsung NVMe SSD',\n '1x 960GB PM893 SSD',\n 'Dedicated Server FC-35583 bis FC-35597',\n 'Dedicated Server FC-35865',\n 'Mietserver [KS] Ulta100 Xeon No-SSD (lease purchase) (E-2276G-13',\n 'Stromleistung Standort Kruppstraße je kW/h zusätzlich',\n 'Dedicated Server: FC-36099',\n 'Dedicated Server: FC-36067, FC-36068',\n 'Dedicated Server: FC-36035',\n 'Hardware: 960GB M.2 PM983 NVMe',\n '1/1 Colocation Rack: R3/3.17',\n 'Power Feeds for 5KW Colocation Racks',\n 'Fiber Uplinks for 5KW Colocation Racks',\n 'Network Switch: Juniper QFX5100-48T',\n '84TB Samsung Enterprise SDD PM893',\n 'Hardware: 1.92TB Samsung PM983 NVMe',\n 'Dedicted Server - VPS Host: FC-35579, FC-35580, FC-35581',\n 'Hardware: 960GB PM893 SS',\n '/24 Subnet 212.224.93.0/24, 159.100.13.0/24',\n 'Dedicated Server: FC-36865',\n 'Dedicated Server - AMD 7763',\n 'Dedicated Server - AMD 7352',\n 'Hardware: 1.92 TB SSD Samsung PM893 MZ7L31T9HBLT',\n 'Hardware: X520-DA2',\n 'Dedicated Server - FC-37113',\n 'Dedicated Server - Ulta100',\n 'Dedicated Server - FC-36850',\n 'Hardware: 3.84TB PM893']"
     },
     "execution_count": 33,
     "metadata": {},
     "output_type": "execute_result"
    }
   ],
   "source": [
    "telist2 # only telist2 have this items"
   ],
   "metadata": {
    "collapsed": false,
    "pycharm": {
     "name": "#%%\n"
    }
   }
  },
  {
   "cell_type": "code",
   "execution_count": 34,
   "outputs": [],
   "source": [
    "telist3=[]\n",
    "for i in nlist1:\n",
    "    if i not in nlist2:\n",
    "        telist3.append(i)"
   ],
   "metadata": {
    "collapsed": false,
    "pycharm": {
     "name": "#%%\n"
    }
   }
  },
  {
   "cell_type": "code",
   "execution_count": 35,
   "outputs": [],
   "source": [
    "telist4=[]\n",
    "for i in nlist1:\n",
    "    for j in nlist2:\n",
    "        if i==j:\n",
    "            telist4.append(i)"
   ],
   "metadata": {
    "collapsed": false,
    "pycharm": {
     "name": "#%%\n"
    }
   }
  },
  {
   "cell_type": "code",
   "execution_count": 36,
   "outputs": [
    {
     "data": {
      "text/plain": "[]"
     },
     "execution_count": 36,
     "metadata": {},
     "output_type": "execute_result"
    }
   ],
   "source": [
    "telist4"
   ],
   "metadata": {
    "collapsed": false,
    "pycharm": {
     "name": "#%%\n"
    }
   }
  },
  {
   "cell_type": "code",
   "execution_count": 37,
   "outputs": [
    {
     "data": {
      "text/plain": "0"
     },
     "execution_count": 37,
     "metadata": {},
     "output_type": "execute_result"
    }
   ],
   "source": [
    "len(telist4)"
   ],
   "metadata": {
    "collapsed": false,
    "pycharm": {
     "name": "#%%\n"
    }
   }
  },
  {
   "cell_type": "code",
   "execution_count": 37,
   "outputs": [],
   "source": [],
   "metadata": {
    "collapsed": false,
    "pycharm": {
     "name": "#%%\n"
    }
   }
  },
  {
   "cell_type": "code",
   "execution_count": 38,
   "outputs": [
    {
     "data": {
      "text/plain": "['A', 'B', 'C', 'D']"
     },
     "execution_count": 38,
     "metadata": {},
     "output_type": "execute_result"
    }
   ],
   "source": [
    "telist3"
   ],
   "metadata": {
    "collapsed": false,
    "pycharm": {
     "name": "#%%\n"
    }
   }
  },
  {
   "cell_type": "code",
   "execution_count": 39,
   "outputs": [],
   "source": [
    "# newdata2[newdata2['Name'].isin(telist2)].to_csv(\"\")"
   ],
   "metadata": {
    "collapsed": false,
    "pycharm": {
     "name": "#%%\n"
    }
   }
  },
  {
   "cell_type": "code",
   "execution_count": 40,
   "outputs": [
    {
     "data": {
      "text/plain": "2900057"
     },
     "execution_count": 40,
     "metadata": {},
     "output_type": "execute_result"
    }
   ],
   "source": [
    "newdata2[newdata2['Name'].isin(telist2)][\"total\"].sum()"
   ],
   "metadata": {
    "collapsed": false,
    "pycharm": {
     "name": "#%%\n"
    }
   }
  },
  {
   "cell_type": "code",
   "execution_count": 41,
   "outputs": [
    {
     "data": {
      "text/plain": "  Name\n0    A\n1    B\n2    C\n3    D",
      "text/html": "<div>\n<style scoped>\n    .dataframe tbody tr th:only-of-type {\n        vertical-align: middle;\n    }\n\n    .dataframe tbody tr th {\n        vertical-align: top;\n    }\n\n    .dataframe thead th {\n        text-align: right;\n    }\n</style>\n<table border=\"1\" class=\"dataframe\">\n  <thead>\n    <tr style=\"text-align: right;\">\n      <th></th>\n      <th>Name</th>\n    </tr>\n  </thead>\n  <tbody>\n    <tr>\n      <th>0</th>\n      <td>A</td>\n    </tr>\n    <tr>\n      <th>1</th>\n      <td>B</td>\n    </tr>\n    <tr>\n      <th>2</th>\n      <td>C</td>\n    </tr>\n    <tr>\n      <th>3</th>\n      <td>D</td>\n    </tr>\n  </tbody>\n</table>\n</div>"
     },
     "execution_count": 41,
     "metadata": {},
     "output_type": "execute_result"
    }
   ],
   "source": [
    "newdata1[newdata1['Name'].isin(telist3)]"
   ],
   "metadata": {
    "collapsed": false,
    "pycharm": {
     "name": "#%%\n"
    }
   }
  },
  {
   "cell_type": "code",
   "execution_count": 42,
   "outputs": [],
   "source": [
    "# newdata1[newdata1['Name'].isin(telist3)][\"total\"].sum()"
   ],
   "metadata": {
    "collapsed": false,
    "pycharm": {
     "name": "#%%\n"
    }
   }
  },
  {
   "cell_type": "code",
   "execution_count": 43,
   "outputs": [
    {
     "data": {
      "text/plain": "                                                  Name  quantity_x  \\\n54                          19'' Rack inkl. Klima (M8)        1000   \n77          Mietserver Dell Server Hardware (FC-31772)        1000   \n93             Dedicated Server: VPS Host (NVMe based)        1000   \n108                       1/1 Colocation Rack: R3/3.17        1000   \n82                                  1/1 Rack (R1/3.16)        1000   \n..                                                 ...         ...   \n61            Stromleistung je kW/h zusätzlich: gesamt     6942000   \n103  Stromleistung Standort Kruppstraße je kW/h zus...     2221000   \n55                Stromleistung je kW/h Mindestabnahme     1000000   \n62      Stromleistung je kW/h auf Stromkreis: UV2/11F9     1736000   \n63     Stromleistung je kW/h auf Stromkreis: UV2/11F10     1913000   \n\n     per_unit_x  total_x  quantity_y  per_unit_y  total_y  \n54       752850    75285        1000      752850    75285  \n77       698000    69800        1000      698000    69800  \n93       618000    61800        1000      618000    61800  \n108      495000    49500        1000           0        0  \n82       495000    49500        1000           0        0  \n..          ...      ...         ...         ...      ...  \n61          570   395694     2106000         570   120042  \n103         570   126597     1987000         570   113259  \n55          550    55000     1000000         550    55000  \n62            0        0     1539000           0        0  \n63            0        0     1567000           0        0  \n\n[112 rows x 7 columns]",
      "text/html": "<div>\n<style scoped>\n    .dataframe tbody tr th:only-of-type {\n        vertical-align: middle;\n    }\n\n    .dataframe tbody tr th {\n        vertical-align: top;\n    }\n\n    .dataframe thead th {\n        text-align: right;\n    }\n</style>\n<table border=\"1\" class=\"dataframe\">\n  <thead>\n    <tr style=\"text-align: right;\">\n      <th></th>\n      <th>Name</th>\n      <th>quantity_x</th>\n      <th>per_unit_x</th>\n      <th>total_x</th>\n      <th>quantity_y</th>\n      <th>per_unit_y</th>\n      <th>total_y</th>\n    </tr>\n  </thead>\n  <tbody>\n    <tr>\n      <th>54</th>\n      <td>19'' Rack inkl. Klima (M8)</td>\n      <td>1000</td>\n      <td>752850</td>\n      <td>75285</td>\n      <td>1000</td>\n      <td>752850</td>\n      <td>75285</td>\n    </tr>\n    <tr>\n      <th>77</th>\n      <td>Mietserver Dell Server Hardware (FC-31772)</td>\n      <td>1000</td>\n      <td>698000</td>\n      <td>69800</td>\n      <td>1000</td>\n      <td>698000</td>\n      <td>69800</td>\n    </tr>\n    <tr>\n      <th>93</th>\n      <td>Dedicated Server: VPS Host (NVMe based)</td>\n      <td>1000</td>\n      <td>618000</td>\n      <td>61800</td>\n      <td>1000</td>\n      <td>618000</td>\n      <td>61800</td>\n    </tr>\n    <tr>\n      <th>108</th>\n      <td>1/1 Colocation Rack: R3/3.17</td>\n      <td>1000</td>\n      <td>495000</td>\n      <td>49500</td>\n      <td>1000</td>\n      <td>0</td>\n      <td>0</td>\n    </tr>\n    <tr>\n      <th>82</th>\n      <td>1/1 Rack (R1/3.16)</td>\n      <td>1000</td>\n      <td>495000</td>\n      <td>49500</td>\n      <td>1000</td>\n      <td>0</td>\n      <td>0</td>\n    </tr>\n    <tr>\n      <th>...</th>\n      <td>...</td>\n      <td>...</td>\n      <td>...</td>\n      <td>...</td>\n      <td>...</td>\n      <td>...</td>\n      <td>...</td>\n    </tr>\n    <tr>\n      <th>61</th>\n      <td>Stromleistung je kW/h zusätzlich: gesamt</td>\n      <td>6942000</td>\n      <td>570</td>\n      <td>395694</td>\n      <td>2106000</td>\n      <td>570</td>\n      <td>120042</td>\n    </tr>\n    <tr>\n      <th>103</th>\n      <td>Stromleistung Standort Kruppstraße je kW/h zus...</td>\n      <td>2221000</td>\n      <td>570</td>\n      <td>126597</td>\n      <td>1987000</td>\n      <td>570</td>\n      <td>113259</td>\n    </tr>\n    <tr>\n      <th>55</th>\n      <td>Stromleistung je kW/h Mindestabnahme</td>\n      <td>1000000</td>\n      <td>550</td>\n      <td>55000</td>\n      <td>1000000</td>\n      <td>550</td>\n      <td>55000</td>\n    </tr>\n    <tr>\n      <th>62</th>\n      <td>Stromleistung je kW/h auf Stromkreis: UV2/11F9</td>\n      <td>1736000</td>\n      <td>0</td>\n      <td>0</td>\n      <td>1539000</td>\n      <td>0</td>\n      <td>0</td>\n    </tr>\n    <tr>\n      <th>63</th>\n      <td>Stromleistung je kW/h auf Stromkreis: UV2/11F10</td>\n      <td>1913000</td>\n      <td>0</td>\n      <td>0</td>\n      <td>1567000</td>\n      <td>0</td>\n      <td>0</td>\n    </tr>\n  </tbody>\n</table>\n<p>112 rows × 7 columns</p>\n</div>"
     },
     "execution_count": 43,
     "metadata": {},
     "output_type": "execute_result"
    }
   ],
   "source": [
    "merged_data.sort_values(\"per_unit_x\",ascending=False) # service become higher"
   ],
   "metadata": {
    "collapsed": false,
    "pycharm": {
     "name": "#%%\n"
    }
   }
  },
  {
   "cell_type": "code",
   "execution_count": 44,
   "outputs": [],
   "source": [
    "## compair 2 and 3"
   ],
   "metadata": {
    "collapsed": false,
    "pycharm": {
     "name": "#%%\n"
    }
   }
  },
  {
   "cell_type": "code",
   "execution_count": 45,
   "outputs": [],
   "source": [
    "merged_data1 = pd.merge(newdata3, newdata2, on=\"Name\", how=\"inner\")"
   ],
   "metadata": {
    "collapsed": false,
    "pycharm": {
     "name": "#%%\n"
    }
   }
  },
  {
   "cell_type": "code",
   "execution_count": 46,
   "outputs": [
    {
     "data": {
      "text/plain": "                                                Name  quantity_x  per_unit_x  \\\n0                        Dedicated Server - FC-37113        1000      258000   \n1                         Dedicated Server - Ulta100       24000       63200   \n2                        Dedicated Server - FC-36850        1000       84800   \n3                             Hardware: 3.84TB PM893        2000        9600   \n4                                  1 HE im 19'' Rack        2000       65000   \n..                                               ...         ...         ...   \n56                        Dedicated Server: FC-36865        1000      105000   \n57                       Dedicated Server - AMD 7763        1000      177000   \n58                       Dedicated Server - AMD 7352        4000      100000   \n59  Hardware: 1.92 TB SSD Samsung PM893 MZ7L31T9HBLT        4000        5800   \n60                                Hardware: X520-DA2        2000       10000   \n\n    total_x  quantity_y  per_unit_y  total_y  \n0     25800        1000      258000    25800  \n1    151680       24000       63200   151680  \n2      8480        1000       84800     8480  \n3      1920        2000        9600     1920  \n4     13000        2000       65000    13000  \n..      ...         ...         ...      ...  \n56    10500        1000      105000    10500  \n57    17700        1000      177000    17700  \n58    40000        4000      100000    40000  \n59     2320        4000        5800     2320  \n60     2000        2000       10000     2000  \n\n[61 rows x 7 columns]",
      "text/html": "<div>\n<style scoped>\n    .dataframe tbody tr th:only-of-type {\n        vertical-align: middle;\n    }\n\n    .dataframe tbody tr th {\n        vertical-align: top;\n    }\n\n    .dataframe thead th {\n        text-align: right;\n    }\n</style>\n<table border=\"1\" class=\"dataframe\">\n  <thead>\n    <tr style=\"text-align: right;\">\n      <th></th>\n      <th>Name</th>\n      <th>quantity_x</th>\n      <th>per_unit_x</th>\n      <th>total_x</th>\n      <th>quantity_y</th>\n      <th>per_unit_y</th>\n      <th>total_y</th>\n    </tr>\n  </thead>\n  <tbody>\n    <tr>\n      <th>0</th>\n      <td>Dedicated Server - FC-37113</td>\n      <td>1000</td>\n      <td>258000</td>\n      <td>25800</td>\n      <td>1000</td>\n      <td>258000</td>\n      <td>25800</td>\n    </tr>\n    <tr>\n      <th>1</th>\n      <td>Dedicated Server - Ulta100</td>\n      <td>24000</td>\n      <td>63200</td>\n      <td>151680</td>\n      <td>24000</td>\n      <td>63200</td>\n      <td>151680</td>\n    </tr>\n    <tr>\n      <th>2</th>\n      <td>Dedicated Server - FC-36850</td>\n      <td>1000</td>\n      <td>84800</td>\n      <td>8480</td>\n      <td>1000</td>\n      <td>84800</td>\n      <td>8480</td>\n    </tr>\n    <tr>\n      <th>3</th>\n      <td>Hardware: 3.84TB PM893</td>\n      <td>2000</td>\n      <td>9600</td>\n      <td>1920</td>\n      <td>2000</td>\n      <td>9600</td>\n      <td>1920</td>\n    </tr>\n    <tr>\n      <th>4</th>\n      <td>1 HE im 19'' Rack</td>\n      <td>2000</td>\n      <td>65000</td>\n      <td>13000</td>\n      <td>2000</td>\n      <td>65000</td>\n      <td>13000</td>\n    </tr>\n    <tr>\n      <th>...</th>\n      <td>...</td>\n      <td>...</td>\n      <td>...</td>\n      <td>...</td>\n      <td>...</td>\n      <td>...</td>\n      <td>...</td>\n    </tr>\n    <tr>\n      <th>56</th>\n      <td>Dedicated Server: FC-36865</td>\n      <td>1000</td>\n      <td>105000</td>\n      <td>10500</td>\n      <td>1000</td>\n      <td>105000</td>\n      <td>10500</td>\n    </tr>\n    <tr>\n      <th>57</th>\n      <td>Dedicated Server - AMD 7763</td>\n      <td>1000</td>\n      <td>177000</td>\n      <td>17700</td>\n      <td>1000</td>\n      <td>177000</td>\n      <td>17700</td>\n    </tr>\n    <tr>\n      <th>58</th>\n      <td>Dedicated Server - AMD 7352</td>\n      <td>4000</td>\n      <td>100000</td>\n      <td>40000</td>\n      <td>4000</td>\n      <td>100000</td>\n      <td>40000</td>\n    </tr>\n    <tr>\n      <th>59</th>\n      <td>Hardware: 1.92 TB SSD Samsung PM893 MZ7L31T9HBLT</td>\n      <td>4000</td>\n      <td>5800</td>\n      <td>2320</td>\n      <td>4000</td>\n      <td>5800</td>\n      <td>2320</td>\n    </tr>\n    <tr>\n      <th>60</th>\n      <td>Hardware: X520-DA2</td>\n      <td>2000</td>\n      <td>10000</td>\n      <td>2000</td>\n      <td>2000</td>\n      <td>10000</td>\n      <td>2000</td>\n    </tr>\n  </tbody>\n</table>\n<p>61 rows × 7 columns</p>\n</div>"
     },
     "execution_count": 46,
     "metadata": {},
     "output_type": "execute_result"
    }
   ],
   "source": [
    "merged_data1[\"\"]"
   ],
   "metadata": {
    "collapsed": false,
    "pycharm": {
     "name": "#%%\n"
    }
   }
  },
  {
   "cell_type": "code",
   "execution_count": 54,
   "outputs": [],
   "source": [
    "merged_data1[merged_data1[\"per_unit_x\"]!=merged_data1[\"per_unit_y\"]].to_csv(\"increase2month.csv\",index=False)"
   ],
   "metadata": {
    "collapsed": false,
    "pycharm": {
     "name": "#%%\n"
    }
   }
  },
  {
   "cell_type": "code",
   "execution_count": 55,
   "outputs": [
    {
     "data": {
      "text/plain": "                                                Name  quantity_x  per_unit_x  \\\n0                        Dedicated Server - FC-37113        1000      258000   \n1                         Dedicated Server - Ulta100       24000       63200   \n2                        Dedicated Server - FC-36850        1000       84800   \n3                             Hardware: 3.84TB PM893        2000        9600   \n4                                  1 HE im 19'' Rack        2000       65000   \n..                                               ...         ...         ...   \n56                        Dedicated Server: FC-36865        1000      105000   \n57                       Dedicated Server - AMD 7763        1000      177000   \n58                       Dedicated Server - AMD 7352        4000      100000   \n59  Hardware: 1.92 TB SSD Samsung PM893 MZ7L31T9HBLT        4000        5800   \n60                                Hardware: X520-DA2        2000       10000   \n\n    total_x  quantity_y  per_unit_y  total_y  \n0     25800        1000      258000    25800  \n1    151680       24000       63200   151680  \n2      8480        1000       84800     8480  \n3      1920        2000        9600     1920  \n4     13000        2000       65000    13000  \n..      ...         ...         ...      ...  \n56    10500        1000      105000    10500  \n57    17700        1000      177000    17700  \n58    40000        4000      100000    40000  \n59     2320        4000        5800     2320  \n60     2000        2000       10000     2000  \n\n[61 rows x 7 columns]",
      "text/html": "<div>\n<style scoped>\n    .dataframe tbody tr th:only-of-type {\n        vertical-align: middle;\n    }\n\n    .dataframe tbody tr th {\n        vertical-align: top;\n    }\n\n    .dataframe thead th {\n        text-align: right;\n    }\n</style>\n<table border=\"1\" class=\"dataframe\">\n  <thead>\n    <tr style=\"text-align: right;\">\n      <th></th>\n      <th>Name</th>\n      <th>quantity_x</th>\n      <th>per_unit_x</th>\n      <th>total_x</th>\n      <th>quantity_y</th>\n      <th>per_unit_y</th>\n      <th>total_y</th>\n    </tr>\n  </thead>\n  <tbody>\n    <tr>\n      <th>0</th>\n      <td>Dedicated Server - FC-37113</td>\n      <td>1000</td>\n      <td>258000</td>\n      <td>25800</td>\n      <td>1000</td>\n      <td>258000</td>\n      <td>25800</td>\n    </tr>\n    <tr>\n      <th>1</th>\n      <td>Dedicated Server - Ulta100</td>\n      <td>24000</td>\n      <td>63200</td>\n      <td>151680</td>\n      <td>24000</td>\n      <td>63200</td>\n      <td>151680</td>\n    </tr>\n    <tr>\n      <th>2</th>\n      <td>Dedicated Server - FC-36850</td>\n      <td>1000</td>\n      <td>84800</td>\n      <td>8480</td>\n      <td>1000</td>\n      <td>84800</td>\n      <td>8480</td>\n    </tr>\n    <tr>\n      <th>3</th>\n      <td>Hardware: 3.84TB PM893</td>\n      <td>2000</td>\n      <td>9600</td>\n      <td>1920</td>\n      <td>2000</td>\n      <td>9600</td>\n      <td>1920</td>\n    </tr>\n    <tr>\n      <th>4</th>\n      <td>1 HE im 19'' Rack</td>\n      <td>2000</td>\n      <td>65000</td>\n      <td>13000</td>\n      <td>2000</td>\n      <td>65000</td>\n      <td>13000</td>\n    </tr>\n    <tr>\n      <th>...</th>\n      <td>...</td>\n      <td>...</td>\n      <td>...</td>\n      <td>...</td>\n      <td>...</td>\n      <td>...</td>\n      <td>...</td>\n    </tr>\n    <tr>\n      <th>56</th>\n      <td>Dedicated Server: FC-36865</td>\n      <td>1000</td>\n      <td>105000</td>\n      <td>10500</td>\n      <td>1000</td>\n      <td>105000</td>\n      <td>10500</td>\n    </tr>\n    <tr>\n      <th>57</th>\n      <td>Dedicated Server - AMD 7763</td>\n      <td>1000</td>\n      <td>177000</td>\n      <td>17700</td>\n      <td>1000</td>\n      <td>177000</td>\n      <td>17700</td>\n    </tr>\n    <tr>\n      <th>58</th>\n      <td>Dedicated Server - AMD 7352</td>\n      <td>4000</td>\n      <td>100000</td>\n      <td>40000</td>\n      <td>4000</td>\n      <td>100000</td>\n      <td>40000</td>\n    </tr>\n    <tr>\n      <th>59</th>\n      <td>Hardware: 1.92 TB SSD Samsung PM893 MZ7L31T9HBLT</td>\n      <td>4000</td>\n      <td>5800</td>\n      <td>2320</td>\n      <td>4000</td>\n      <td>5800</td>\n      <td>2320</td>\n    </tr>\n    <tr>\n      <th>60</th>\n      <td>Hardware: X520-DA2</td>\n      <td>2000</td>\n      <td>10000</td>\n      <td>2000</td>\n      <td>2000</td>\n      <td>10000</td>\n      <td>2000</td>\n    </tr>\n  </tbody>\n</table>\n<p>61 rows × 7 columns</p>\n</div>"
     },
     "execution_count": 55,
     "metadata": {},
     "output_type": "execute_result"
    }
   ],
   "source": [
    "merged_data1"
   ],
   "metadata": {
    "collapsed": false,
    "pycharm": {
     "name": "#%%\n"
    }
   }
  },
  {
   "cell_type": "code",
   "execution_count": 66,
   "outputs": [],
   "source": [
    "merged_data3 = pd.merge(merged_data1, newdata1, on=\"Name\", how=\"inner\")"
   ],
   "metadata": {
    "collapsed": false,
    "pycharm": {
     "name": "#%%\n"
    }
   }
  },
  {
   "cell_type": "code",
   "execution_count": 68,
   "outputs": [
    {
     "data": {
      "text/plain": "Empty DataFrame\nColumns: [Name, quantity_x, per_unit_x, total_x, quantity_y, per_unit_y, total_y]\nIndex: []",
      "text/html": "<div>\n<style scoped>\n    .dataframe tbody tr th:only-of-type {\n        vertical-align: middle;\n    }\n\n    .dataframe tbody tr th {\n        vertical-align: top;\n    }\n\n    .dataframe thead th {\n        text-align: right;\n    }\n</style>\n<table border=\"1\" class=\"dataframe\">\n  <thead>\n    <tr style=\"text-align: right;\">\n      <th></th>\n      <th>Name</th>\n      <th>quantity_x</th>\n      <th>per_unit_x</th>\n      <th>total_x</th>\n      <th>quantity_y</th>\n      <th>per_unit_y</th>\n      <th>total_y</th>\n    </tr>\n  </thead>\n  <tbody>\n  </tbody>\n</table>\n</div>"
     },
     "execution_count": 68,
     "metadata": {},
     "output_type": "execute_result"
    }
   ],
   "source": [
    "merged_data3"
   ],
   "metadata": {
    "collapsed": false,
    "pycharm": {
     "name": "#%%\n"
    }
   }
  },
  {
   "cell_type": "code",
   "execution_count": 63,
   "outputs": [
    {
     "ename": "KeyError",
     "evalue": "'per_unit'",
     "output_type": "error",
     "traceback": [
      "\u001B[1;31m---------------------------------------------------------------------------\u001B[0m",
      "\u001B[1;31mKeyError\u001B[0m                                  Traceback (most recent call last)",
      "File \u001B[1;32m~\\AppData\\Local\\Programs\\Python\\Lib\\site-packages\\pandas\\core\\indexes\\base.py:3652\u001B[0m, in \u001B[0;36mIndex.get_loc\u001B[1;34m(self, key)\u001B[0m\n\u001B[0;32m   3651\u001B[0m \u001B[38;5;28;01mtry\u001B[39;00m:\n\u001B[1;32m-> 3652\u001B[0m     \u001B[38;5;28;01mreturn\u001B[39;00m \u001B[38;5;28;43mself\u001B[39;49m\u001B[38;5;241;43m.\u001B[39;49m\u001B[43m_engine\u001B[49m\u001B[38;5;241;43m.\u001B[39;49m\u001B[43mget_loc\u001B[49m\u001B[43m(\u001B[49m\u001B[43mcasted_key\u001B[49m\u001B[43m)\u001B[49m\n\u001B[0;32m   3653\u001B[0m \u001B[38;5;28;01mexcept\u001B[39;00m \u001B[38;5;167;01mKeyError\u001B[39;00m \u001B[38;5;28;01mas\u001B[39;00m err:\n",
      "File \u001B[1;32m~\\AppData\\Local\\Programs\\Python\\Lib\\site-packages\\pandas\\_libs\\index.pyx:147\u001B[0m, in \u001B[0;36mpandas._libs.index.IndexEngine.get_loc\u001B[1;34m()\u001B[0m\n",
      "File \u001B[1;32m~\\AppData\\Local\\Programs\\Python\\Lib\\site-packages\\pandas\\_libs\\index.pyx:176\u001B[0m, in \u001B[0;36mpandas._libs.index.IndexEngine.get_loc\u001B[1;34m()\u001B[0m\n",
      "File \u001B[1;32mpandas\\_libs\\hashtable_class_helper.pxi:7080\u001B[0m, in \u001B[0;36mpandas._libs.hashtable.PyObjectHashTable.get_item\u001B[1;34m()\u001B[0m\n",
      "File \u001B[1;32mpandas\\_libs\\hashtable_class_helper.pxi:7088\u001B[0m, in \u001B[0;36mpandas._libs.hashtable.PyObjectHashTable.get_item\u001B[1;34m()\u001B[0m\n",
      "\u001B[1;31mKeyError\u001B[0m: 'per_unit'",
      "\nThe above exception was the direct cause of the following exception:\n",
      "\u001B[1;31mKeyError\u001B[0m                                  Traceback (most recent call last)",
      "Cell \u001B[1;32mIn[63], line 1\u001B[0m\n\u001B[1;32m----> 1\u001B[0m merged_data2[merged_data2[\u001B[38;5;124m\"\u001B[39m\u001B[38;5;124mper_unit_y\u001B[39m\u001B[38;5;124m\"\u001B[39m]\u001B[38;5;241m!=\u001B[39m\u001B[43mmerged_data2\u001B[49m\u001B[43m[\u001B[49m\u001B[38;5;124;43m\"\u001B[39;49m\u001B[38;5;124;43mper_unit\u001B[39;49m\u001B[38;5;124;43m\"\u001B[39;49m\u001B[43m]\u001B[49m]\n",
      "File \u001B[1;32m~\\AppData\\Local\\Programs\\Python\\Lib\\site-packages\\pandas\\core\\frame.py:3761\u001B[0m, in \u001B[0;36mDataFrame.__getitem__\u001B[1;34m(self, key)\u001B[0m\n\u001B[0;32m   3759\u001B[0m \u001B[38;5;28;01mif\u001B[39;00m \u001B[38;5;28mself\u001B[39m\u001B[38;5;241m.\u001B[39mcolumns\u001B[38;5;241m.\u001B[39mnlevels \u001B[38;5;241m>\u001B[39m \u001B[38;5;241m1\u001B[39m:\n\u001B[0;32m   3760\u001B[0m     \u001B[38;5;28;01mreturn\u001B[39;00m \u001B[38;5;28mself\u001B[39m\u001B[38;5;241m.\u001B[39m_getitem_multilevel(key)\n\u001B[1;32m-> 3761\u001B[0m indexer \u001B[38;5;241m=\u001B[39m \u001B[38;5;28;43mself\u001B[39;49m\u001B[38;5;241;43m.\u001B[39;49m\u001B[43mcolumns\u001B[49m\u001B[38;5;241;43m.\u001B[39;49m\u001B[43mget_loc\u001B[49m\u001B[43m(\u001B[49m\u001B[43mkey\u001B[49m\u001B[43m)\u001B[49m\n\u001B[0;32m   3762\u001B[0m \u001B[38;5;28;01mif\u001B[39;00m is_integer(indexer):\n\u001B[0;32m   3763\u001B[0m     indexer \u001B[38;5;241m=\u001B[39m [indexer]\n",
      "File \u001B[1;32m~\\AppData\\Local\\Programs\\Python\\Lib\\site-packages\\pandas\\core\\indexes\\base.py:3654\u001B[0m, in \u001B[0;36mIndex.get_loc\u001B[1;34m(self, key)\u001B[0m\n\u001B[0;32m   3652\u001B[0m     \u001B[38;5;28;01mreturn\u001B[39;00m \u001B[38;5;28mself\u001B[39m\u001B[38;5;241m.\u001B[39m_engine\u001B[38;5;241m.\u001B[39mget_loc(casted_key)\n\u001B[0;32m   3653\u001B[0m \u001B[38;5;28;01mexcept\u001B[39;00m \u001B[38;5;167;01mKeyError\u001B[39;00m \u001B[38;5;28;01mas\u001B[39;00m err:\n\u001B[1;32m-> 3654\u001B[0m     \u001B[38;5;28;01mraise\u001B[39;00m \u001B[38;5;167;01mKeyError\u001B[39;00m(key) \u001B[38;5;28;01mfrom\u001B[39;00m \u001B[38;5;21;01merr\u001B[39;00m\n\u001B[0;32m   3655\u001B[0m \u001B[38;5;28;01mexcept\u001B[39;00m \u001B[38;5;167;01mTypeError\u001B[39;00m:\n\u001B[0;32m   3656\u001B[0m     \u001B[38;5;66;03m# If we have a listlike key, _check_indexing_error will raise\u001B[39;00m\n\u001B[0;32m   3657\u001B[0m     \u001B[38;5;66;03m#  InvalidIndexError. Otherwise we fall through and re-raise\u001B[39;00m\n\u001B[0;32m   3658\u001B[0m     \u001B[38;5;66;03m#  the TypeError.\u001B[39;00m\n\u001B[0;32m   3659\u001B[0m     \u001B[38;5;28mself\u001B[39m\u001B[38;5;241m.\u001B[39m_check_indexing_error(key)\n",
      "\u001B[1;31mKeyError\u001B[0m: 'per_unit'"
     ]
    }
   ],
   "source": [
    "merged_data2[merged_data2[\"per_unit_y\"]!=merged_data2[\"per_unit\"]]"
   ],
   "metadata": {
    "collapsed": false,
    "pycharm": {
     "name": "#%%\n"
    }
   }
  },
  {
   "cell_type": "code",
   "execution_count": 74,
   "outputs": [],
   "source": [
    "merged_data3=pd.merge(newdata1, newdata2, on=\"Name\", how=\"inner\")"
   ],
   "metadata": {
    "collapsed": false,
    "pycharm": {
     "name": "#%%\n"
    }
   }
  },
  {
   "cell_type": "code",
   "execution_count": 75,
   "outputs": [
    {
     "data": {
      "text/plain": "                                                  Name  quantity_x  \\\n0                                    1 HE im 19'' Rack        2000   \n1    IP-Netz (159.100.29.0/24, 212.224.86.0/24, 212...        8000   \n2                Remote Hands - Service Dienstleistung        1000   \n3                Remote Hands - Service Dienstleistung        1000   \n4                Remote Hands - Service Dienstleistung        1000   \n..                                                 ...         ...   \n107                     Hardware: 960GB M.2 PM983 NVMe        5000   \n108                       1/1 Colocation Rack: R3/3.17        1000   \n109               Power Feeds for 5KW Colocation Racks        1000   \n110             Fiber Uplinks for 5KW Colocation Racks        1000   \n111                Network Switch: Juniper QFX5100-48T        1000   \n\n     per_unit_x  total_x  quantity_y  per_unit_y  total_y  \n0         65000    13000        2000       65000    13000  \n1        154500   123600        9000      154500   139050  \n2         45000     4500        1000       45000     4500  \n3         45000     4500        1000       45000     4500  \n4         45000     4500        1000       45000     4500  \n..          ...      ...         ...         ...      ...  \n107        4250     2125        5000        4250     2125  \n108           0        0        1000      495000    49500  \n109           0        0        1000      160000    16000  \n110           0        0        1000      129000    12900  \n111           0        0        1000      175000    17500  \n\n[112 rows x 7 columns]",
      "text/html": "<div>\n<style scoped>\n    .dataframe tbody tr th:only-of-type {\n        vertical-align: middle;\n    }\n\n    .dataframe tbody tr th {\n        vertical-align: top;\n    }\n\n    .dataframe thead th {\n        text-align: right;\n    }\n</style>\n<table border=\"1\" class=\"dataframe\">\n  <thead>\n    <tr style=\"text-align: right;\">\n      <th></th>\n      <th>Name</th>\n      <th>quantity_x</th>\n      <th>per_unit_x</th>\n      <th>total_x</th>\n      <th>quantity_y</th>\n      <th>per_unit_y</th>\n      <th>total_y</th>\n    </tr>\n  </thead>\n  <tbody>\n    <tr>\n      <th>0</th>\n      <td>1 HE im 19'' Rack</td>\n      <td>2000</td>\n      <td>65000</td>\n      <td>13000</td>\n      <td>2000</td>\n      <td>65000</td>\n      <td>13000</td>\n    </tr>\n    <tr>\n      <th>1</th>\n      <td>IP-Netz (159.100.29.0/24, 212.224.86.0/24, 212...</td>\n      <td>8000</td>\n      <td>154500</td>\n      <td>123600</td>\n      <td>9000</td>\n      <td>154500</td>\n      <td>139050</td>\n    </tr>\n    <tr>\n      <th>2</th>\n      <td>Remote Hands - Service Dienstleistung</td>\n      <td>1000</td>\n      <td>45000</td>\n      <td>4500</td>\n      <td>1000</td>\n      <td>45000</td>\n      <td>4500</td>\n    </tr>\n    <tr>\n      <th>3</th>\n      <td>Remote Hands - Service Dienstleistung</td>\n      <td>1000</td>\n      <td>45000</td>\n      <td>4500</td>\n      <td>1000</td>\n      <td>45000</td>\n      <td>4500</td>\n    </tr>\n    <tr>\n      <th>4</th>\n      <td>Remote Hands - Service Dienstleistung</td>\n      <td>1000</td>\n      <td>45000</td>\n      <td>4500</td>\n      <td>1000</td>\n      <td>45000</td>\n      <td>4500</td>\n    </tr>\n    <tr>\n      <th>...</th>\n      <td>...</td>\n      <td>...</td>\n      <td>...</td>\n      <td>...</td>\n      <td>...</td>\n      <td>...</td>\n      <td>...</td>\n    </tr>\n    <tr>\n      <th>107</th>\n      <td>Hardware: 960GB M.2 PM983 NVMe</td>\n      <td>5000</td>\n      <td>4250</td>\n      <td>2125</td>\n      <td>5000</td>\n      <td>4250</td>\n      <td>2125</td>\n    </tr>\n    <tr>\n      <th>108</th>\n      <td>1/1 Colocation Rack: R3/3.17</td>\n      <td>1000</td>\n      <td>0</td>\n      <td>0</td>\n      <td>1000</td>\n      <td>495000</td>\n      <td>49500</td>\n    </tr>\n    <tr>\n      <th>109</th>\n      <td>Power Feeds for 5KW Colocation Racks</td>\n      <td>1000</td>\n      <td>0</td>\n      <td>0</td>\n      <td>1000</td>\n      <td>160000</td>\n      <td>16000</td>\n    </tr>\n    <tr>\n      <th>110</th>\n      <td>Fiber Uplinks for 5KW Colocation Racks</td>\n      <td>1000</td>\n      <td>0</td>\n      <td>0</td>\n      <td>1000</td>\n      <td>129000</td>\n      <td>12900</td>\n    </tr>\n    <tr>\n      <th>111</th>\n      <td>Network Switch: Juniper QFX5100-48T</td>\n      <td>1000</td>\n      <td>0</td>\n      <td>0</td>\n      <td>1000</td>\n      <td>175000</td>\n      <td>17500</td>\n    </tr>\n  </tbody>\n</table>\n<p>112 rows × 7 columns</p>\n</div>"
     },
     "execution_count": 75,
     "metadata": {},
     "output_type": "execute_result"
    }
   ],
   "source": [
    "merged_data3"
   ],
   "metadata": {
    "collapsed": false,
    "pycharm": {
     "name": "#%%\n"
    }
   }
  },
  {
   "cell_type": "code",
   "execution_count": 76,
   "outputs": [],
   "source": [
    "merged_data3=pd.merge(merged_data3, newdata3, on=\"Name\", how=\"inner\")"
   ],
   "metadata": {
    "collapsed": false,
    "pycharm": {
     "name": "#%%\n"
    }
   }
  },
  {
   "cell_type": "code",
   "execution_count": 81,
   "outputs": [],
   "source": [
    "merged_data3[merged_data3[\"per_unit_x\"]!=merged_data3[\"per_unit\"]].to_csv(\"uue.csv\",index=False)"
   ],
   "metadata": {
    "collapsed": false,
    "pycharm": {
     "name": "#%%\n"
    }
   }
  },
  {
   "cell_type": "code",
   "execution_count": 83,
   "outputs": [],
   "source": [
    "merged_data3.to_csv(\"uuqe.csv\",index=False)"
   ],
   "metadata": {
    "collapsed": false,
    "pycharm": {
     "name": "#%%\n"
    }
   }
  },
  {
   "cell_type": "code",
   "execution_count": 84,
   "outputs": [
    {
     "data": {
      "text/plain": "Name                                                       quantity  per_unit  total \nRemote Hands - Service fee                                 1000      35000     3500      4\n/24 Subnet 212.224.93.0/24, 159.100.13.0/24                2000      128000    25600     1\nNetwork Card extension + cabling (FC-24908)                5000      11000     5500      1\nStromleistung Standort Kruppstraße je kW/h zusätzlich      2183000   570       124431    1\nStorage-Upgrade                                            1000      15000     1500      1\n                                                                                        ..\nFiber Uplinks for 5KW Colocation Racks                     1000      129000    12900     1\nDedicted Server - VPS Host: FC-35579, FC-35580, FC-35581,  4000      705000    282000    1\nDedicated Server: VPS Host (NVMe based)                    1000      618000    61800     1\nDedicated Server: FC-36865                                 1000      105000    10500     1\nrental server [KS] Ulta100 Xeon No-SSD (lease purchase)    5000      48530     24265     1\nName: count, Length: 85, dtype: int64"
     },
     "execution_count": 84,
     "metadata": {},
     "output_type": "execute_result"
    }
   ],
   "source": [
    "newdata3.value_counts()"
   ],
   "metadata": {
    "collapsed": false,
    "pycharm": {
     "name": "#%%\n"
    }
   }
  },
  {
   "cell_type": "code",
   "execution_count": null,
   "outputs": [],
   "source": [],
   "metadata": {
    "collapsed": false,
    "pycharm": {
     "name": "#%%\n"
    }
   }
  }
 ],
 "metadata": {
  "kernelspec": {
   "display_name": "Python 3",
   "language": "python",
   "name": "python3"
  },
  "language_info": {
   "codemirror_mode": {
    "name": "ipython",
    "version": 2
   },
   "file_extension": ".py",
   "mimetype": "text/x-python",
   "name": "python",
   "nbconvert_exporter": "python",
   "pygments_lexer": "ipython2",
   "version": "2.7.6"
  }
 },
 "nbformat": 4,
 "nbformat_minor": 0
}