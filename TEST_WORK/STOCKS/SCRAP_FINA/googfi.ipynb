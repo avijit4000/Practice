{
 "cells": [
  {
   "cell_type": "code",
   "execution_count": 2,
   "metadata": {
    "collapsed": true,
    "pycharm": {
     "name": "#%%\n"
    }
   },
   "outputs": [
    {
     "name": "stdout",
     "output_type": "stream",
     "text": [
      " Volume in drive D is New Volume\n",
      " Volume Serial Number is 382B-1B16\n",
      "\n",
      " Directory of D:\\Pyn\\online learning\\INURAN_DATA\\FSDS_September\\TEST_WORK\\STOCKS\\SCRAP_FINA\n",
      "\n",
      "11-11-2023  17:58    <DIR>          .\n",
      "01-11-2023  23:32    <DIR>          ..\n",
      "11-11-2023  17:51    <DIR>          __pycache__\n",
      "01-11-2023  13:03                58 file1.py\n",
      "03-11-2023  15:33            20,271 GOOFIN.ipynb\n",
      "11-11-2023  17:58               987 googfi.ipynb\n",
      "11-11-2023  17:54                24 google_data.py\n",
      "11-11-2023  17:56               710 goole_ifine.py\n",
      "01-11-2023  11:42               574 name.csv\n",
      "01-11-2023  23:22               645 new.py\n",
      "01-11-2023  11:01            32,680 new_data_e.ipynb\n",
      "07-11-2023  08:42               607 new_scrap.py\n",
      "01-11-2023  18:12           126,889 project_fi.ipynb\n",
      "02-11-2023  11:44            13,574 scrapgoool.ipynb\n",
      "              11 File(s)        197,019 bytes\n",
      "               3 Dir(s)  29,237,878,784 bytes free\n"
     ]
    }
   ],
   "source": [
    "ls"
   ]
  },
  {
   "cell_type": "code",
   "execution_count": 3,
   "outputs": [
    {
     "data": {
      "text/plain": "{'ALLUSERSPROFILE': 'C:\\\\ProgramData',\n 'APPCODE_VM_OPTIONS': 'C:\\\\HaxNode\\\\ja-netfilter-all\\\\vmoptions\\\\appcode.vmoptions',\n 'APPDATA': 'C:\\\\Users\\\\aviji\\\\AppData\\\\Roaming',\n 'CHOCOLATEYINSTALL': 'C:\\\\ProgramData\\\\chocolatey',\n 'CHOCOLATEYLASTPATHUPDATE': '133297568921247169',\n 'CLION_VM_OPTIONS': 'C:\\\\HaxNode\\\\ja-netfilter-all\\\\vmoptions\\\\clion.vmoptions',\n 'COMMONPROGRAMFILES': 'C:\\\\Program Files\\\\Common Files',\n 'COMMONPROGRAMFILES(X86)': 'C:\\\\Program Files (x86)\\\\Common Files',\n 'COMMONPROGRAMW6432': 'C:\\\\Program Files\\\\Common Files',\n 'COMPUTERNAME': 'AVIJIT',\n 'COMSPEC': 'C:\\\\WINDOWS\\\\system32\\\\cmd.exe',\n 'CONDA_SHLVL': '0',\n 'DATAGRIP_VM_OPTIONS': 'C:\\\\HaxNode\\\\ja-netfilter-all\\\\vmoptions\\\\datagrip.vmoptions',\n 'DATASPELL_VM_OPTIONS': 'C:\\\\HaxNode\\\\ja-netfilter-all\\\\vmoptions\\\\dataspell.vmoptions',\n 'DEVECOSTUDIO_VM_OPTIONS': 'C:\\\\HaxNode\\\\ja-netfilter-all\\\\vmoptions\\\\devecostudio.vmoptions',\n 'DRIVERDATA': 'C:\\\\Windows\\\\System32\\\\Drivers\\\\DriverData',\n 'EFC_7536': '1',\n 'FPS_BROWSER_APP_PROFILE_STRING': 'Internet Explorer',\n 'FPS_BROWSER_USER_PROFILE_STRING': 'Default',\n 'GATEWAY_VM_OPTIONS': 'C:\\\\HaxNode\\\\ja-netfilter-all\\\\vmoptions\\\\gateway.vmoptions',\n 'GOLAND_VM_OPTIONS': 'C:\\\\HaxNode\\\\ja-netfilter-all\\\\vmoptions\\\\goland.vmoptions',\n 'HOMEDRIVE': 'C:',\n 'HOMEPATH': '\\\\Users\\\\aviji',\n 'IDEA_INITIAL_DIRECTORY': 'C:\\\\Program Files\\\\JetBrains\\\\PyCharm 2022.2\\\\jbr\\\\bin',\n 'IDEA_VM_OPTIONS': 'C:\\\\HaxNode\\\\ja-netfilter-all\\\\vmoptions\\\\idea.vmoptions',\n 'JETBRAINSCLIENT_VM_OPTIONS': 'C:\\\\HaxNode\\\\ja-netfilter-all\\\\vmoptions\\\\jetbrainsclient.vmoptions',\n 'JETBRAINS_CLIENT_VM_OPTIONS': 'C:\\\\HaxNode\\\\ja-netfilter-all\\\\vmoptions\\\\jetbrains_client.vmoptions',\n 'LANG': 'en_US.UTF-8',\n 'LANGUAGE': '',\n 'LC_ALL': 'en_US.UTF-8',\n 'LOCALAPPDATA': 'C:\\\\Users\\\\aviji\\\\AppData\\\\Local',\n 'LOGONSERVER': '\\\\\\\\AVIJIT',\n 'NUMBER_OF_PROCESSORS': '16',\n 'ONEDRIVE': 'C:\\\\Users\\\\aviji\\\\OneDrive',\n 'OS': 'Windows_NT',\n 'PATH': 'C:\\\\Users\\\\aviji\\\\AppData\\\\Local\\\\Programs\\\\pythonProject8\\\\Scripts;C:\\\\ProgramData\\\\anaconda3\\\\condabin;C:\\\\Windows\\\\system32;C:\\\\Windows;C:\\\\Windows\\\\System32\\\\Wbem;C:\\\\Windows\\\\System32\\\\WindowsPowerShell\\\\v1.0\\\\;C:\\\\Windows\\\\System32\\\\OpenSSH\\\\;C:\\\\Program Files (x86)\\\\NVIDIA Corporation\\\\PhysX\\\\Common;C:\\\\Program Files\\\\NVIDIA Corporation\\\\NVIDIA NvDLISR;C:\\\\Users\\\\aviji\\\\AppData\\\\Local\\\\Programs\\\\Python\\\\Python310\\\\Scripts;C:\\\\Program Files\\\\Git\\\\cmd;C:\\\\Users\\\\aviji\\\\AppData\\\\Local\\\\Programs\\\\Python\\\\Python310;C:\\\\WINDOWS\\\\system32;C:\\\\WINDOWS;C:\\\\WINDOWS\\\\System32\\\\Wbem;C:\\\\WINDOWS\\\\System32\\\\WindowsPowerShell\\\\v1.0\\\\;C:\\\\WINDOWS\\\\System32\\\\OpenSSH\\\\;C:\\\\ProgramData\\\\anaconda3\\\\Scripts;C:\\\\ProgramData\\\\anaconda3;C:\\\\ProgramData\\\\anaconda3\\\\Library\\\\bin;C:\\\\Users\\\\aviji\\\\AppData\\\\Local\\\\Programs\\\\Python\\\\Python311;C:\\\\Users\\\\aviji\\\\AppData\\\\Local\\\\Programs\\\\Python\\\\Python311\\\\Scripts;C:\\\\ProgramData\\\\chocolatey\\\\bin;C:\\\\Program Files\\\\MySQL\\\\MySQL Shell 8.0\\\\bin\\\\;C:\\\\Users\\\\aviji\\\\AppData\\\\Local\\\\Microsoft\\\\WindowsApps;C:\\\\Program Files\\\\JetBrains\\\\PyCharm Community Edition 2022.2.2\\\\bin;;C:\\\\Users\\\\aviji\\\\AppData\\\\Local\\\\Programs\\\\Microsoft VS Code\\\\bin;C:\\\\Program Files\\\\JetBrains\\\\PyCharm 2022.3.2\\\\bin;;C:\\\\Users\\\\aviji\\\\AppData\\\\Local\\\\Programs\\\\Python\\\\Python311\\\\python.exe;C:\\\\Users\\\\aviji\\\\AppData\\\\Local\\\\Programs\\\\Python\\\\Python311\\\\Scripts',\n 'PATHEXT': '.COM;.EXE;.BAT;.CMD;.VBS;.VBE;.JS;.JSE;.WSF;.WSH;.MSC',\n 'PHPSTORM_VM_OPTIONS': 'C:\\\\HaxNode\\\\ja-netfilter-all\\\\vmoptions\\\\phpstorm.vmoptions',\n 'PROCESSOR_ARCHITECTURE': 'AMD64',\n 'PROCESSOR_IDENTIFIER': 'Intel64 Family 6 Model 154 Stepping 3, GenuineIntel',\n 'PROCESSOR_LEVEL': '6',\n 'PROCESSOR_REVISION': '9a03',\n 'PROGRAMDATA': 'C:\\\\ProgramData',\n 'PROGRAMFILES': 'C:\\\\Program Files',\n 'PROGRAMFILES(X86)': 'C:\\\\Program Files (x86)',\n 'PROGRAMW6432': 'C:\\\\Program Files',\n 'PROMPT': '(pythonProject8) $P$G',\n 'PSMODULEPATH': 'C:\\\\Program Files\\\\WindowsPowerShell\\\\Modules;C:\\\\WINDOWS\\\\system32\\\\WindowsPowerShell\\\\v1.0\\\\Modules',\n 'PUBLIC': 'C:\\\\Users\\\\Public',\n 'PYCHARM': 'C:\\\\Program Files\\\\JetBrains\\\\PyCharm 2022.3.2\\\\bin;',\n 'PYCHARM COMMUNITY EDITION': 'C:\\\\Program Files\\\\JetBrains\\\\PyCharm Community Edition 2022.2.2\\\\bin;',\n 'PYCHARM_VM_OPTIONS': 'C:\\\\HaxNode\\\\ja-netfilter-all\\\\vmoptions\\\\pycharm.vmoptions',\n 'PYTHONPATH': 'D:\\\\Pyn\\\\online learning\\\\INURAN_DATA\\\\FSDS_September;D:\\\\Pyn\\\\online learning\\\\INURAN_DATA\\\\FSDS_September\\\\TEST_WORK\\\\programing',\n 'RIDER_VM_OPTIONS': 'C:\\\\HaxNode\\\\ja-netfilter-all\\\\vmoptions\\\\rider.vmoptions',\n 'RUBYMINE_VM_OPTIONS': 'C:\\\\HaxNode\\\\ja-netfilter-all\\\\vmoptions\\\\rubymine.vmoptions',\n 'SESSIONNAME': 'Console',\n 'STUDIO_VM_OPTIONS': 'C:\\\\HaxNode\\\\ja-netfilter-all\\\\vmoptions\\\\studio.vmoptions',\n 'SYSTEMDRIVE': 'C:',\n 'SYSTEMROOT': 'C:\\\\WINDOWS',\n 'TEMP': 'C:\\\\Users\\\\aviji\\\\AppData\\\\Local\\\\Temp',\n 'TMP': 'C:\\\\Users\\\\aviji\\\\AppData\\\\Local\\\\Temp',\n 'USERDOMAIN': 'AVIJIT',\n 'USERDOMAIN_ROAMINGPROFILE': 'AVIJIT',\n 'USERNAME': 'avijit',\n 'USERPROFILE': 'C:\\\\Users\\\\aviji',\n 'VIRTUAL_ENV': 'C:\\\\Users\\\\aviji\\\\AppData\\\\Local\\\\Programs\\\\pythonProject8',\n 'WEBIDE_VM_OPTIONS': 'C:\\\\HaxNode\\\\ja-netfilter-all\\\\vmoptions\\\\webide.vmoptions',\n 'WEBSTORM_VM_OPTIONS': 'C:\\\\HaxNode\\\\ja-netfilter-all\\\\vmoptions\\\\webstorm.vmoptions',\n 'WINDIR': 'C:\\\\WINDOWS',\n 'ZES_ENABLE_SYSMAN': '1',\n '_OLD_VIRTUAL_PATH': 'C:\\\\ProgramData\\\\anaconda3\\\\condabin;C:\\\\Windows\\\\system32;C:\\\\Windows;C:\\\\Windows\\\\System32\\\\Wbem;C:\\\\Windows\\\\System32\\\\WindowsPowerShell\\\\v1.0\\\\;C:\\\\Windows\\\\System32\\\\OpenSSH\\\\;C:\\\\Program Files (x86)\\\\NVIDIA Corporation\\\\PhysX\\\\Common;C:\\\\Program Files\\\\NVIDIA Corporation\\\\NVIDIA NvDLISR;C:\\\\Users\\\\aviji\\\\AppData\\\\Local\\\\Programs\\\\Python\\\\Python310\\\\Scripts;C:\\\\Program Files\\\\Git\\\\cmd;C:\\\\Users\\\\aviji\\\\AppData\\\\Local\\\\Programs\\\\Python\\\\Python310;C:\\\\WINDOWS\\\\system32;C:\\\\WINDOWS;C:\\\\WINDOWS\\\\System32\\\\Wbem;C:\\\\WINDOWS\\\\System32\\\\WindowsPowerShell\\\\v1.0\\\\;C:\\\\WINDOWS\\\\System32\\\\OpenSSH\\\\;C:\\\\ProgramData\\\\anaconda3\\\\Scripts;C:\\\\ProgramData\\\\anaconda3;C:\\\\ProgramData\\\\anaconda3\\\\Library\\\\bin;C:\\\\Users\\\\aviji\\\\AppData\\\\Local\\\\Programs\\\\Python\\\\Python311;C:\\\\Users\\\\aviji\\\\AppData\\\\Local\\\\Programs\\\\Python\\\\Python311\\\\Scripts;C:\\\\ProgramData\\\\chocolatey\\\\bin;C:\\\\Program Files\\\\MySQL\\\\MySQL Shell 8.0\\\\bin\\\\;C:\\\\Users\\\\aviji\\\\AppData\\\\Local\\\\Microsoft\\\\WindowsApps;C:\\\\Program Files\\\\JetBrains\\\\PyCharm Community Edition 2022.2.2\\\\bin;;C:\\\\Users\\\\aviji\\\\AppData\\\\Local\\\\Programs\\\\Microsoft VS Code\\\\bin;C:\\\\Program Files\\\\JetBrains\\\\PyCharm 2022.3.2\\\\bin;;C:\\\\Users\\\\aviji\\\\AppData\\\\Local\\\\Programs\\\\Python\\\\Python311\\\\python.exe;C:\\\\Users\\\\aviji\\\\AppData\\\\Local\\\\Programs\\\\Python\\\\Python311\\\\Scripts',\n '_OLD_VIRTUAL_PROMPT': '$P$G',\n 'PYDEVD_USE_FRAME_EVAL': 'NO',\n 'JPY_INTERRUPT_EVENT': '1452',\n 'IPY_INTERRUPT_EVENT': '1452',\n 'JPY_PARENT_PID': '1456',\n 'TERM': 'xterm-color',\n 'CLICOLOR': '1',\n 'FORCE_COLOR': '1',\n 'CLICOLOR_FORCE': '1',\n 'PAGER': 'cat',\n 'GIT_PAGER': 'cat',\n 'MPLBACKEND': 'module://matplotlib_inline.backend_inline'}"
     },
     "execution_count": 3,
     "metadata": {},
     "output_type": "execute_result"
    }
   ],
   "source": [
    "%env"
   ],
   "metadata": {
    "collapsed": false,
    "pycharm": {
     "name": "#%%\n"
    }
   }
  },
  {
   "cell_type": "code",
   "execution_count": 4,
   "outputs": [
    {
     "name": "stdout",
     "output_type": "stream",
     "text": [
      "                                       name      price\n",
      "0                          M K Proteins Ltd     ₹83.00\n",
      "1                     Hindcon Chemicals Ltd     ₹30.05\n",
      "2                         Cartrade Tech Ltd    ₹874.25\n",
      "3                Kothari Petrochemicals Ltd    ₹152.25\n",
      "4            Antony Waste Handling Cell Ltd    ₹455.00\n",
      "5               Sharda Motor Industries Ltd  ₹1,100.00\n",
      "6             Silver Touch Technologies Ltd    ₹648.90\n",
      "7                       Venus Remedies Ltd.    ₹326.00\n",
      "8                                NESCO Ltd.    ₹758.80\n",
      "9                       Centrum Capital Ltd     ₹29.50\n",
      "10  Johnson Controls-Htch Ar Cndtng Ind Ltd  ₹1,197.25\n",
      "11                  Tracxn Technologies Ltd     ₹86.65\n",
      "12              India Power Corporation Ltd     ₹22.55\n",
      "13                     KPI Green Energy Ltd  ₹1,057.20\n",
      "14                     Jindal Photo Limited    ₹683.75\n",
      "15                    IFGL Refractories Ltd    ₹649.10\n",
      "16                                Cupid Ltd    ₹817.15\n",
      "17                              Modison Ltd    ₹117.95\n",
      "18            Godha Cabcon & Insulation Ltd      ₹0.60\n",
      "19            Caplin Point Laboratories Ltd  ₹1,205.00\n",
      "20                 Shree Rama Newsprint Ltd     ₹15.70\n",
      "21                    Palash Securities Ltd    ₹139.00\n",
      "22                              Carysil Ltd    ₹826.00\n",
      "23                      PPAP Automotive Ltd    ₹266.50\n",
      "24              Lincoln Pharmaceuticals Ltd    ₹603.00\n",
      "25                 Morepen Laboratories Ltd     ₹38.65\n",
      "26                       IFB Industries Ltd    ₹927.00\n",
      "27                      Windlas Biotech Ltd    ₹410.05\n",
      "28                    Mahalaxmi Rubtech Ltd    ₹233.00\n",
      "29                       NINtec Systems Ltd    ₹416.35\n",
      "30  Jindal Poly Investment & Finance Co Ltd    ₹699.70\n",
      "31          Focus Lighting and Fixtures Ltd    ₹186.40\n",
      "32                  Welspun Enterprises Ltd    ₹310.00\n",
      "33                  Nectar Lifesciences Ltd     ₹25.65\n",
      "34                       Race Eco Chain Ltd    ₹278.50\n",
      "35                         Weizmann Limited    ₹145.35\n",
      "36                         Ujaas Energy Ltd      ₹2.25\n",
      "37        AGS Transact Technologies Limited     ₹65.85\n",
      "38                  Jubilant Industries Ltd    ₹620.00\n",
      "39             Vijaya Diagnostic Centre Ltd    ₹631.50\n",
      "40        Network18 Media & Investments Ltd     ₹76.85\n",
      "41        Action Construction Equipment Ltd    ₹861.50\n",
      "42                   Future Enterprises Ltd      ₹0.80\n",
      "43                      Engineers India Ltd    ₹137.35\n",
      "44                      Future Consumer Ltd      ₹0.85\n",
      "45                              Alankit Ltd     ₹12.75\n",
      "46                          CSL Finance Ltd    ₹378.00\n",
      "47    Aptus Value Housing Finance India Ltd    ₹303.20\n",
      "48                        Global Health Ltd    ₹911.00\n",
      "49                    Fortis Healthcare Ltd    ₹361.90\n"
     ]
    }
   ],
   "source": [
    "%run goole_ifine.py"
   ],
   "metadata": {
    "collapsed": false,
    "pycharm": {
     "name": "#%%\n"
    }
   }
  },
  {
   "cell_type": "code",
   "execution_count": 8,
   "outputs": [
    {
     "name": "stdout",
     "output_type": "stream",
     "text": [
      "                                       name      price  increase pseincre\n",
      "0                          M K Proteins Ltd     ₹83.00   +₹74.58  885.16%\n",
      "1                     Hindcon Chemicals Ltd     ₹30.05   +₹24.32  424.43%\n",
      "2                         Cartrade Tech Ltd    ₹874.25  +₹145.70   20.00%\n",
      "3                Kothari Petrochemicals Ltd    ₹152.25   +₹20.80   15.82%\n",
      "4            Antony Waste Handling Cell Ltd    ₹455.00   +₹52.55   13.06%\n",
      "5               Sharda Motor Industries Ltd  ₹1,100.00  +₹126.20   12.96%\n",
      "6             Silver Touch Technologies Ltd    ₹648.90   +₹73.45   12.76%\n",
      "7                       Venus Remedies Ltd.    ₹326.00   +₹36.45   12.59%\n",
      "8                                NESCO Ltd.    ₹758.80   +₹82.65   12.22%\n",
      "9                       Centrum Capital Ltd     ₹29.50    +₹2.95   11.11%\n",
      "10  Johnson Controls-Htch Ar Cndtng Ind Ltd  ₹1,197.25  +₹118.65   11.00%\n",
      "11                  Tracxn Technologies Ltd     ₹86.65    +₹8.45   10.81%\n",
      "12              India Power Corporation Ltd     ₹22.55    +₹2.05   10.00%\n",
      "13                     KPI Green Energy Ltd  ₹1,057.20   +₹96.10   10.00%\n",
      "14                     Jindal Photo Limited    ₹683.75   +₹62.15   10.00%\n",
      "15                    IFGL Refractories Ltd    ₹649.10   +₹59.00   10.00%\n",
      "16                                Cupid Ltd    ₹817.15   +₹74.25    9.99%\n",
      "17                              Modison Ltd    ₹117.95    +₹9.90    9.16%\n",
      "18            Godha Cabcon & Insulation Ltd      ₹0.60   +₹0.050    9.09%\n",
      "19            Caplin Point Laboratories Ltd  ₹1,205.00   +₹98.55    8.91%\n",
      "20                 Shree Rama Newsprint Ltd     ₹15.70    +₹1.25    8.65%\n",
      "21                    Palash Securities Ltd    ₹139.00   +₹11.05    8.64%\n",
      "22                              Carysil Ltd    ₹826.00   +₹64.20    8.43%\n",
      "23                      PPAP Automotive Ltd    ₹266.50   +₹20.65    8.40%\n",
      "24              Lincoln Pharmaceuticals Ltd    ₹603.00   +₹46.70    8.39%\n",
      "25                 Morepen Laboratories Ltd     ₹38.65    +₹2.95    8.26%\n",
      "26                       IFB Industries Ltd    ₹927.00   +₹70.40    8.22%\n",
      "27                      Windlas Biotech Ltd    ₹410.05   +₹30.80    8.12%\n",
      "28                    Mahalaxmi Rubtech Ltd    ₹233.00   +₹17.35    8.05%\n",
      "29                       NINtec Systems Ltd    ₹416.35   +₹30.25    7.83%\n",
      "30  Jindal Poly Investment & Finance Co Ltd    ₹699.70   +₹50.50    7.78%\n",
      "31          Focus Lighting and Fixtures Ltd    ₹186.40   +₹13.30    7.68%\n",
      "32                  Welspun Enterprises Ltd    ₹310.00   +₹22.05    7.66%\n",
      "33                  Nectar Lifesciences Ltd     ₹25.65    +₹1.75    7.32%\n",
      "34                       Race Eco Chain Ltd    ₹278.50   +₹18.85    7.26%\n",
      "35                         Weizmann Limited    ₹145.35    +₹9.75    7.19%\n",
      "36                         Ujaas Energy Ltd      ₹2.25    +₹0.15    7.14%\n",
      "37        AGS Transact Technologies Limited     ₹65.85    +₹4.35    7.07%\n",
      "38                  Jubilant Industries Ltd    ₹620.00   +₹40.15    6.92%\n",
      "39             Vijaya Diagnostic Centre Ltd    ₹631.50   +₹40.60    6.87%\n",
      "40        Network18 Media & Investments Ltd     ₹76.85    +₹4.90    6.81%\n",
      "41        Action Construction Equipment Ltd    ₹861.50   +₹54.25    6.72%\n",
      "42                   Future Enterprises Ltd      ₹0.80   +₹0.050    6.67%\n",
      "43                      Engineers India Ltd    ₹137.35    +₹8.10    6.27%\n",
      "44                      Future Consumer Ltd      ₹0.85   +₹0.050    6.25%\n",
      "45                              Alankit Ltd     ₹12.75    +₹0.75    6.25%\n",
      "46                          CSL Finance Ltd    ₹378.00   +₹21.85    6.14%\n",
      "47    Aptus Value Housing Finance India Ltd    ₹303.20   +₹17.10    5.98%\n",
      "48                        Global Health Ltd    ₹911.00   +₹51.25    5.96%\n",
      "49                    Fortis Healthcare Ltd    ₹361.90   +₹19.70    5.76%\n"
     ]
    }
   ],
   "source": [
    "%run new_scrap.py"
   ],
   "metadata": {
    "collapsed": false,
    "pycharm": {
     "name": "#%%\n"
    }
   }
  },
  {
   "cell_type": "code",
   "execution_count": 9,
   "outputs": [
    {
     "data": {
      "text/plain": "                                       name      price  increase pseincre\n0                          M K Proteins Ltd     ₹83.00   +₹74.58  885.16%\n1                     Hindcon Chemicals Ltd     ₹30.05   +₹24.32  424.43%\n2                         Cartrade Tech Ltd    ₹874.25  +₹145.70   20.00%\n3                Kothari Petrochemicals Ltd    ₹152.25   +₹20.80   15.82%\n4            Antony Waste Handling Cell Ltd    ₹455.00   +₹52.55   13.06%\n5               Sharda Motor Industries Ltd  ₹1,100.00  +₹126.20   12.96%\n6             Silver Touch Technologies Ltd    ₹648.90   +₹73.45   12.76%\n7                       Venus Remedies Ltd.    ₹326.00   +₹36.45   12.59%\n8                                NESCO Ltd.    ₹758.80   +₹82.65   12.22%\n9                       Centrum Capital Ltd     ₹29.50    +₹2.95   11.11%\n10  Johnson Controls-Htch Ar Cndtng Ind Ltd  ₹1,197.25  +₹118.65   11.00%\n11                  Tracxn Technologies Ltd     ₹86.65    +₹8.45   10.81%\n12              India Power Corporation Ltd     ₹22.55    +₹2.05   10.00%\n13                     KPI Green Energy Ltd  ₹1,057.20   +₹96.10   10.00%\n14                     Jindal Photo Limited    ₹683.75   +₹62.15   10.00%\n15                    IFGL Refractories Ltd    ₹649.10   +₹59.00   10.00%\n16                                Cupid Ltd    ₹817.15   +₹74.25    9.99%\n17                              Modison Ltd    ₹117.95    +₹9.90    9.16%\n18            Godha Cabcon & Insulation Ltd      ₹0.60   +₹0.050    9.09%\n19            Caplin Point Laboratories Ltd  ₹1,205.00   +₹98.55    8.91%\n20                 Shree Rama Newsprint Ltd     ₹15.70    +₹1.25    8.65%\n21                    Palash Securities Ltd    ₹139.00   +₹11.05    8.64%\n22                              Carysil Ltd    ₹826.00   +₹64.20    8.43%\n23                      PPAP Automotive Ltd    ₹266.50   +₹20.65    8.40%\n24              Lincoln Pharmaceuticals Ltd    ₹603.00   +₹46.70    8.39%\n25                 Morepen Laboratories Ltd     ₹38.65    +₹2.95    8.26%\n26                       IFB Industries Ltd    ₹927.00   +₹70.40    8.22%\n27                      Windlas Biotech Ltd    ₹410.05   +₹30.80    8.12%\n28                    Mahalaxmi Rubtech Ltd    ₹233.00   +₹17.35    8.05%\n29                       NINtec Systems Ltd    ₹416.35   +₹30.25    7.83%\n30  Jindal Poly Investment & Finance Co Ltd    ₹699.70   +₹50.50    7.78%\n31          Focus Lighting and Fixtures Ltd    ₹186.40   +₹13.30    7.68%\n32                  Welspun Enterprises Ltd    ₹310.00   +₹22.05    7.66%\n33                  Nectar Lifesciences Ltd     ₹25.65    +₹1.75    7.32%\n34                       Race Eco Chain Ltd    ₹278.50   +₹18.85    7.26%\n35                         Weizmann Limited    ₹145.35    +₹9.75    7.19%\n36                         Ujaas Energy Ltd      ₹2.25    +₹0.15    7.14%\n37        AGS Transact Technologies Limited     ₹65.85    +₹4.35    7.07%\n38                  Jubilant Industries Ltd    ₹620.00   +₹40.15    6.92%\n39             Vijaya Diagnostic Centre Ltd    ₹631.50   +₹40.60    6.87%\n40        Network18 Media & Investments Ltd     ₹76.85    +₹4.90    6.81%\n41        Action Construction Equipment Ltd    ₹861.50   +₹54.25    6.72%\n42                   Future Enterprises Ltd      ₹0.80   +₹0.050    6.67%\n43                      Engineers India Ltd    ₹137.35    +₹8.10    6.27%\n44                      Future Consumer Ltd      ₹0.85   +₹0.050    6.25%\n45                              Alankit Ltd     ₹12.75    +₹0.75    6.25%\n46                          CSL Finance Ltd    ₹378.00   +₹21.85    6.14%\n47    Aptus Value Housing Finance India Ltd    ₹303.20   +₹17.10    5.98%\n48                        Global Health Ltd    ₹911.00   +₹51.25    5.96%\n49                    Fortis Healthcare Ltd    ₹361.90   +₹19.70    5.76%",
      "text/html": "<div>\n<style scoped>\n    .dataframe tbody tr th:only-of-type {\n        vertical-align: middle;\n    }\n\n    .dataframe tbody tr th {\n        vertical-align: top;\n    }\n\n    .dataframe thead th {\n        text-align: right;\n    }\n</style>\n<table border=\"1\" class=\"dataframe\">\n  <thead>\n    <tr style=\"text-align: right;\">\n      <th></th>\n      <th>name</th>\n      <th>price</th>\n      <th>increase</th>\n      <th>pseincre</th>\n    </tr>\n  </thead>\n  <tbody>\n    <tr>\n      <th>0</th>\n      <td>M K Proteins Ltd</td>\n      <td>₹83.00</td>\n      <td>+₹74.58</td>\n      <td>885.16%</td>\n    </tr>\n    <tr>\n      <th>1</th>\n      <td>Hindcon Chemicals Ltd</td>\n      <td>₹30.05</td>\n      <td>+₹24.32</td>\n      <td>424.43%</td>\n    </tr>\n    <tr>\n      <th>2</th>\n      <td>Cartrade Tech Ltd</td>\n      <td>₹874.25</td>\n      <td>+₹145.70</td>\n      <td>20.00%</td>\n    </tr>\n    <tr>\n      <th>3</th>\n      <td>Kothari Petrochemicals Ltd</td>\n      <td>₹152.25</td>\n      <td>+₹20.80</td>\n      <td>15.82%</td>\n    </tr>\n    <tr>\n      <th>4</th>\n      <td>Antony Waste Handling Cell Ltd</td>\n      <td>₹455.00</td>\n      <td>+₹52.55</td>\n      <td>13.06%</td>\n    </tr>\n    <tr>\n      <th>5</th>\n      <td>Sharda Motor Industries Ltd</td>\n      <td>₹1,100.00</td>\n      <td>+₹126.20</td>\n      <td>12.96%</td>\n    </tr>\n    <tr>\n      <th>6</th>\n      <td>Silver Touch Technologies Ltd</td>\n      <td>₹648.90</td>\n      <td>+₹73.45</td>\n      <td>12.76%</td>\n    </tr>\n    <tr>\n      <th>7</th>\n      <td>Venus Remedies Ltd.</td>\n      <td>₹326.00</td>\n      <td>+₹36.45</td>\n      <td>12.59%</td>\n    </tr>\n    <tr>\n      <th>8</th>\n      <td>NESCO Ltd.</td>\n      <td>₹758.80</td>\n      <td>+₹82.65</td>\n      <td>12.22%</td>\n    </tr>\n    <tr>\n      <th>9</th>\n      <td>Centrum Capital Ltd</td>\n      <td>₹29.50</td>\n      <td>+₹2.95</td>\n      <td>11.11%</td>\n    </tr>\n    <tr>\n      <th>10</th>\n      <td>Johnson Controls-Htch Ar Cndtng Ind Ltd</td>\n      <td>₹1,197.25</td>\n      <td>+₹118.65</td>\n      <td>11.00%</td>\n    </tr>\n    <tr>\n      <th>11</th>\n      <td>Tracxn Technologies Ltd</td>\n      <td>₹86.65</td>\n      <td>+₹8.45</td>\n      <td>10.81%</td>\n    </tr>\n    <tr>\n      <th>12</th>\n      <td>India Power Corporation Ltd</td>\n      <td>₹22.55</td>\n      <td>+₹2.05</td>\n      <td>10.00%</td>\n    </tr>\n    <tr>\n      <th>13</th>\n      <td>KPI Green Energy Ltd</td>\n      <td>₹1,057.20</td>\n      <td>+₹96.10</td>\n      <td>10.00%</td>\n    </tr>\n    <tr>\n      <th>14</th>\n      <td>Jindal Photo Limited</td>\n      <td>₹683.75</td>\n      <td>+₹62.15</td>\n      <td>10.00%</td>\n    </tr>\n    <tr>\n      <th>15</th>\n      <td>IFGL Refractories Ltd</td>\n      <td>₹649.10</td>\n      <td>+₹59.00</td>\n      <td>10.00%</td>\n    </tr>\n    <tr>\n      <th>16</th>\n      <td>Cupid Ltd</td>\n      <td>₹817.15</td>\n      <td>+₹74.25</td>\n      <td>9.99%</td>\n    </tr>\n    <tr>\n      <th>17</th>\n      <td>Modison Ltd</td>\n      <td>₹117.95</td>\n      <td>+₹9.90</td>\n      <td>9.16%</td>\n    </tr>\n    <tr>\n      <th>18</th>\n      <td>Godha Cabcon &amp; Insulation Ltd</td>\n      <td>₹0.60</td>\n      <td>+₹0.050</td>\n      <td>9.09%</td>\n    </tr>\n    <tr>\n      <th>19</th>\n      <td>Caplin Point Laboratories Ltd</td>\n      <td>₹1,205.00</td>\n      <td>+₹98.55</td>\n      <td>8.91%</td>\n    </tr>\n    <tr>\n      <th>20</th>\n      <td>Shree Rama Newsprint Ltd</td>\n      <td>₹15.70</td>\n      <td>+₹1.25</td>\n      <td>8.65%</td>\n    </tr>\n    <tr>\n      <th>21</th>\n      <td>Palash Securities Ltd</td>\n      <td>₹139.00</td>\n      <td>+₹11.05</td>\n      <td>8.64%</td>\n    </tr>\n    <tr>\n      <th>22</th>\n      <td>Carysil Ltd</td>\n      <td>₹826.00</td>\n      <td>+₹64.20</td>\n      <td>8.43%</td>\n    </tr>\n    <tr>\n      <th>23</th>\n      <td>PPAP Automotive Ltd</td>\n      <td>₹266.50</td>\n      <td>+₹20.65</td>\n      <td>8.40%</td>\n    </tr>\n    <tr>\n      <th>24</th>\n      <td>Lincoln Pharmaceuticals Ltd</td>\n      <td>₹603.00</td>\n      <td>+₹46.70</td>\n      <td>8.39%</td>\n    </tr>\n    <tr>\n      <th>25</th>\n      <td>Morepen Laboratories Ltd</td>\n      <td>₹38.65</td>\n      <td>+₹2.95</td>\n      <td>8.26%</td>\n    </tr>\n    <tr>\n      <th>26</th>\n      <td>IFB Industries Ltd</td>\n      <td>₹927.00</td>\n      <td>+₹70.40</td>\n      <td>8.22%</td>\n    </tr>\n    <tr>\n      <th>27</th>\n      <td>Windlas Biotech Ltd</td>\n      <td>₹410.05</td>\n      <td>+₹30.80</td>\n      <td>8.12%</td>\n    </tr>\n    <tr>\n      <th>28</th>\n      <td>Mahalaxmi Rubtech Ltd</td>\n      <td>₹233.00</td>\n      <td>+₹17.35</td>\n      <td>8.05%</td>\n    </tr>\n    <tr>\n      <th>29</th>\n      <td>NINtec Systems Ltd</td>\n      <td>₹416.35</td>\n      <td>+₹30.25</td>\n      <td>7.83%</td>\n    </tr>\n    <tr>\n      <th>30</th>\n      <td>Jindal Poly Investment &amp; Finance Co Ltd</td>\n      <td>₹699.70</td>\n      <td>+₹50.50</td>\n      <td>7.78%</td>\n    </tr>\n    <tr>\n      <th>31</th>\n      <td>Focus Lighting and Fixtures Ltd</td>\n      <td>₹186.40</td>\n      <td>+₹13.30</td>\n      <td>7.68%</td>\n    </tr>\n    <tr>\n      <th>32</th>\n      <td>Welspun Enterprises Ltd</td>\n      <td>₹310.00</td>\n      <td>+₹22.05</td>\n      <td>7.66%</td>\n    </tr>\n    <tr>\n      <th>33</th>\n      <td>Nectar Lifesciences Ltd</td>\n      <td>₹25.65</td>\n      <td>+₹1.75</td>\n      <td>7.32%</td>\n    </tr>\n    <tr>\n      <th>34</th>\n      <td>Race Eco Chain Ltd</td>\n      <td>₹278.50</td>\n      <td>+₹18.85</td>\n      <td>7.26%</td>\n    </tr>\n    <tr>\n      <th>35</th>\n      <td>Weizmann Limited</td>\n      <td>₹145.35</td>\n      <td>+₹9.75</td>\n      <td>7.19%</td>\n    </tr>\n    <tr>\n      <th>36</th>\n      <td>Ujaas Energy Ltd</td>\n      <td>₹2.25</td>\n      <td>+₹0.15</td>\n      <td>7.14%</td>\n    </tr>\n    <tr>\n      <th>37</th>\n      <td>AGS Transact Technologies Limited</td>\n      <td>₹65.85</td>\n      <td>+₹4.35</td>\n      <td>7.07%</td>\n    </tr>\n    <tr>\n      <th>38</th>\n      <td>Jubilant Industries Ltd</td>\n      <td>₹620.00</td>\n      <td>+₹40.15</td>\n      <td>6.92%</td>\n    </tr>\n    <tr>\n      <th>39</th>\n      <td>Vijaya Diagnostic Centre Ltd</td>\n      <td>₹631.50</td>\n      <td>+₹40.60</td>\n      <td>6.87%</td>\n    </tr>\n    <tr>\n      <th>40</th>\n      <td>Network18 Media &amp; Investments Ltd</td>\n      <td>₹76.85</td>\n      <td>+₹4.90</td>\n      <td>6.81%</td>\n    </tr>\n    <tr>\n      <th>41</th>\n      <td>Action Construction Equipment Ltd</td>\n      <td>₹861.50</td>\n      <td>+₹54.25</td>\n      <td>6.72%</td>\n    </tr>\n    <tr>\n      <th>42</th>\n      <td>Future Enterprises Ltd</td>\n      <td>₹0.80</td>\n      <td>+₹0.050</td>\n      <td>6.67%</td>\n    </tr>\n    <tr>\n      <th>43</th>\n      <td>Engineers India Ltd</td>\n      <td>₹137.35</td>\n      <td>+₹8.10</td>\n      <td>6.27%</td>\n    </tr>\n    <tr>\n      <th>44</th>\n      <td>Future Consumer Ltd</td>\n      <td>₹0.85</td>\n      <td>+₹0.050</td>\n      <td>6.25%</td>\n    </tr>\n    <tr>\n      <th>45</th>\n      <td>Alankit Ltd</td>\n      <td>₹12.75</td>\n      <td>+₹0.75</td>\n      <td>6.25%</td>\n    </tr>\n    <tr>\n      <th>46</th>\n      <td>CSL Finance Ltd</td>\n      <td>₹378.00</td>\n      <td>+₹21.85</td>\n      <td>6.14%</td>\n    </tr>\n    <tr>\n      <th>47</th>\n      <td>Aptus Value Housing Finance India Ltd</td>\n      <td>₹303.20</td>\n      <td>+₹17.10</td>\n      <td>5.98%</td>\n    </tr>\n    <tr>\n      <th>48</th>\n      <td>Global Health Ltd</td>\n      <td>₹911.00</td>\n      <td>+₹51.25</td>\n      <td>5.96%</td>\n    </tr>\n    <tr>\n      <th>49</th>\n      <td>Fortis Healthcare Ltd</td>\n      <td>₹361.90</td>\n      <td>+₹19.70</td>\n      <td>5.76%</td>\n    </tr>\n  </tbody>\n</table>\n</div>"
     },
     "execution_count": 9,
     "metadata": {},
     "output_type": "execute_result"
    }
   ],
   "source": [
    "df"
   ],
   "metadata": {
    "collapsed": false,
    "pycharm": {
     "name": "#%%\n"
    }
   }
  },
  {
   "cell_type": "code",
   "execution_count": 11,
   "outputs": [],
   "source": [
    "gainer=df.copy"
   ],
   "metadata": {
    "collapsed": false,
    "pycharm": {
     "name": "#%%\n"
    }
   }
  },
  {
   "cell_type": "code",
   "execution_count": 12,
   "outputs": [
    {
     "data": {
      "text/plain": "<bound method NDFrame.copy of                                        name      price  increase pseincre\n0                          M K Proteins Ltd     ₹83.00   +₹74.58  885.16%\n1                     Hindcon Chemicals Ltd     ₹30.05   +₹24.32  424.43%\n2                         Cartrade Tech Ltd    ₹874.25  +₹145.70   20.00%\n3                Kothari Petrochemicals Ltd    ₹152.25   +₹20.80   15.82%\n4            Antony Waste Handling Cell Ltd    ₹455.00   +₹52.55   13.06%\n5               Sharda Motor Industries Ltd  ₹1,100.00  +₹126.20   12.96%\n6             Silver Touch Technologies Ltd    ₹648.90   +₹73.45   12.76%\n7                       Venus Remedies Ltd.    ₹326.00   +₹36.45   12.59%\n8                                NESCO Ltd.    ₹758.80   +₹82.65   12.22%\n9                       Centrum Capital Ltd     ₹29.50    +₹2.95   11.11%\n10  Johnson Controls-Htch Ar Cndtng Ind Ltd  ₹1,197.25  +₹118.65   11.00%\n11                  Tracxn Technologies Ltd     ₹86.65    +₹8.45   10.81%\n12              India Power Corporation Ltd     ₹22.55    +₹2.05   10.00%\n13                     KPI Green Energy Ltd  ₹1,057.20   +₹96.10   10.00%\n14                     Jindal Photo Limited    ₹683.75   +₹62.15   10.00%\n15                    IFGL Refractories Ltd    ₹649.10   +₹59.00   10.00%\n16                                Cupid Ltd    ₹817.15   +₹74.25    9.99%\n17                              Modison Ltd    ₹117.95    +₹9.90    9.16%\n18            Godha Cabcon & Insulation Ltd      ₹0.60   +₹0.050    9.09%\n19            Caplin Point Laboratories Ltd  ₹1,205.00   +₹98.55    8.91%\n20                 Shree Rama Newsprint Ltd     ₹15.70    +₹1.25    8.65%\n21                    Palash Securities Ltd    ₹139.00   +₹11.05    8.64%\n22                              Carysil Ltd    ₹826.00   +₹64.20    8.43%\n23                      PPAP Automotive Ltd    ₹266.50   +₹20.65    8.40%\n24              Lincoln Pharmaceuticals Ltd    ₹603.00   +₹46.70    8.39%\n25                 Morepen Laboratories Ltd     ₹38.65    +₹2.95    8.26%\n26                       IFB Industries Ltd    ₹927.00   +₹70.40    8.22%\n27                      Windlas Biotech Ltd    ₹410.05   +₹30.80    8.12%\n28                    Mahalaxmi Rubtech Ltd    ₹233.00   +₹17.35    8.05%\n29                       NINtec Systems Ltd    ₹416.35   +₹30.25    7.83%\n30  Jindal Poly Investment & Finance Co Ltd    ₹699.70   +₹50.50    7.78%\n31          Focus Lighting and Fixtures Ltd    ₹186.40   +₹13.30    7.68%\n32                  Welspun Enterprises Ltd    ₹310.00   +₹22.05    7.66%\n33                  Nectar Lifesciences Ltd     ₹25.65    +₹1.75    7.32%\n34                       Race Eco Chain Ltd    ₹278.50   +₹18.85    7.26%\n35                         Weizmann Limited    ₹145.35    +₹9.75    7.19%\n36                         Ujaas Energy Ltd      ₹2.25    +₹0.15    7.14%\n37        AGS Transact Technologies Limited     ₹65.85    +₹4.35    7.07%\n38                  Jubilant Industries Ltd    ₹620.00   +₹40.15    6.92%\n39             Vijaya Diagnostic Centre Ltd    ₹631.50   +₹40.60    6.87%\n40        Network18 Media & Investments Ltd     ₹76.85    +₹4.90    6.81%\n41        Action Construction Equipment Ltd    ₹861.50   +₹54.25    6.72%\n42                   Future Enterprises Ltd      ₹0.80   +₹0.050    6.67%\n43                      Engineers India Ltd    ₹137.35    +₹8.10    6.27%\n44                      Future Consumer Ltd      ₹0.85   +₹0.050    6.25%\n45                              Alankit Ltd     ₹12.75    +₹0.75    6.25%\n46                          CSL Finance Ltd    ₹378.00   +₹21.85    6.14%\n47    Aptus Value Housing Finance India Ltd    ₹303.20   +₹17.10    5.98%\n48                        Global Health Ltd    ₹911.00   +₹51.25    5.96%\n49                    Fortis Healthcare Ltd    ₹361.90   +₹19.70    5.76%>"
     },
     "execution_count": 12,
     "metadata": {},
     "output_type": "execute_result"
    }
   ],
   "source": [
    "gainer"
   ],
   "metadata": {
    "collapsed": false,
    "pycharm": {
     "name": "#%%\n"
    }
   }
  },
  {
   "cell_type": "code",
   "execution_count": 13,
   "outputs": [],
   "source": [
    "import pandas as pd"
   ],
   "metadata": {
    "collapsed": false,
    "pycharm": {
     "name": "#%%\n"
    }
   }
  },
  {
   "cell_type": "code",
   "execution_count": 17,
   "outputs": [
    {
     "data": {
      "text/plain": "name        object\nprice       object\nincrease    object\npseincre    object\ndtype: object"
     },
     "execution_count": 17,
     "metadata": {},
     "output_type": "execute_result"
    }
   ],
   "source": [
    "df.dtypes"
   ],
   "metadata": {
    "collapsed": false,
    "pycharm": {
     "name": "#%%\n"
    }
   }
  },
  {
   "cell_type": "code",
   "execution_count": 18,
   "outputs": [],
   "source": [
    "gainer=df.copy()"
   ],
   "metadata": {
    "collapsed": false,
    "pycharm": {
     "name": "#%%\n"
    }
   }
  },
  {
   "cell_type": "code",
   "execution_count": 19,
   "outputs": [
    {
     "data": {
      "text/plain": "name        object\nprice       object\nincrease    object\npseincre    object\ndtype: object"
     },
     "execution_count": 19,
     "metadata": {},
     "output_type": "execute_result"
    }
   ],
   "source": [
    "gainer.dtypes"
   ],
   "metadata": {
    "collapsed": false,
    "pycharm": {
     "name": "#%%\n"
    }
   }
  },
  {
   "cell_type": "code",
   "execution_count": 20,
   "outputs": [
    {
     "data": {
      "text/plain": "Index(['name', 'price', 'increase', 'pseincre'], dtype='object')"
     },
     "execution_count": 20,
     "metadata": {},
     "output_type": "execute_result"
    }
   ],
   "source": [
    "gainer.columns"
   ],
   "metadata": {
    "collapsed": false,
    "pycharm": {
     "name": "#%%\n"
    }
   }
  },
  {
   "cell_type": "code",
   "execution_count": 21,
   "outputs": [
    {
     "data": {
      "text/plain": "                             name    price  increase pseincre\n0                M K Proteins Ltd   ₹83.00   +₹74.58  885.16%\n1           Hindcon Chemicals Ltd   ₹30.05   +₹24.32  424.43%\n2               Cartrade Tech Ltd  ₹874.25  +₹145.70   20.00%\n3      Kothari Petrochemicals Ltd  ₹152.25   +₹20.80   15.82%\n4  Antony Waste Handling Cell Ltd  ₹455.00   +₹52.55   13.06%",
      "text/html": "<div>\n<style scoped>\n    .dataframe tbody tr th:only-of-type {\n        vertical-align: middle;\n    }\n\n    .dataframe tbody tr th {\n        vertical-align: top;\n    }\n\n    .dataframe thead th {\n        text-align: right;\n    }\n</style>\n<table border=\"1\" class=\"dataframe\">\n  <thead>\n    <tr style=\"text-align: right;\">\n      <th></th>\n      <th>name</th>\n      <th>price</th>\n      <th>increase</th>\n      <th>pseincre</th>\n    </tr>\n  </thead>\n  <tbody>\n    <tr>\n      <th>0</th>\n      <td>M K Proteins Ltd</td>\n      <td>₹83.00</td>\n      <td>+₹74.58</td>\n      <td>885.16%</td>\n    </tr>\n    <tr>\n      <th>1</th>\n      <td>Hindcon Chemicals Ltd</td>\n      <td>₹30.05</td>\n      <td>+₹24.32</td>\n      <td>424.43%</td>\n    </tr>\n    <tr>\n      <th>2</th>\n      <td>Cartrade Tech Ltd</td>\n      <td>₹874.25</td>\n      <td>+₹145.70</td>\n      <td>20.00%</td>\n    </tr>\n    <tr>\n      <th>3</th>\n      <td>Kothari Petrochemicals Ltd</td>\n      <td>₹152.25</td>\n      <td>+₹20.80</td>\n      <td>15.82%</td>\n    </tr>\n    <tr>\n      <th>4</th>\n      <td>Antony Waste Handling Cell Ltd</td>\n      <td>₹455.00</td>\n      <td>+₹52.55</td>\n      <td>13.06%</td>\n    </tr>\n  </tbody>\n</table>\n</div>"
     },
     "execution_count": 21,
     "metadata": {},
     "output_type": "execute_result"
    }
   ],
   "source": [
    "gainer.head()"
   ],
   "metadata": {
    "collapsed": false,
    "pycharm": {
     "name": "#%%\n"
    }
   }
  },
  {
   "cell_type": "code",
   "execution_count": 26,
   "outputs": [],
   "source": [
    "a=gainer.price[0]"
   ],
   "metadata": {
    "collapsed": false,
    "pycharm": {
     "name": "#%%\n"
    }
   }
  },
  {
   "cell_type": "code",
   "execution_count": 27,
   "outputs": [
    {
     "ename": "AttributeError",
     "evalue": "'str' object has no attribute 'price'",
     "output_type": "error",
     "traceback": [
      "\u001B[1;31m---------------------------------------------------------------------------\u001B[0m",
      "\u001B[1;31mAttributeError\u001B[0m                            Traceback (most recent call last)",
      "Cell \u001B[1;32mIn[27], line 1\u001B[0m\n\u001B[1;32m----> 1\u001B[0m b\u001B[38;5;241m=\u001B[39m\u001B[43ma\u001B[49m\u001B[38;5;241;43m.\u001B[39;49m\u001B[43mprice\u001B[49m[\u001B[38;5;241m0\u001B[39m]\u001B[38;5;241m.\u001B[39mreplace(\u001B[38;5;124m'\u001B[39m\u001B[38;5;124m₹\u001B[39m\u001B[38;5;124m'\u001B[39m,\u001B[38;5;124m'\u001B[39m\u001B[38;5;124m'\u001B[39m)\n",
      "\u001B[1;31mAttributeError\u001B[0m: 'str' object has no attribute 'price'"
     ]
    }
   ],
   "source": [
    "b=a.price[0].replace('₹','')"
   ],
   "metadata": {
    "collapsed": false,
    "pycharm": {
     "name": "#%%\n"
    }
   }
  },
  {
   "cell_type": "code",
   "execution_count": 31,
   "outputs": [
    {
     "data": {
      "text/plain": "83.0"
     },
     "execution_count": 31,
     "metadata": {},
     "output_type": "execute_result"
    }
   ],
   "source": [
    "float(a.replace(\"₹\",\"\"))"
   ],
   "metadata": {
    "collapsed": false,
    "pycharm": {
     "name": "#%%\n"
    }
   }
  },
  {
   "cell_type": "code",
   "execution_count": 37,
   "outputs": [],
   "source": [
    "def price(n):\n",
    "    return float(n.replace(\"₹\",\"\").replace(\",\",\"\"))"
   ],
   "metadata": {
    "collapsed": false,
    "pycharm": {
     "name": "#%%\n"
    }
   }
  },
  {
   "cell_type": "code",
   "execution_count": 38,
   "outputs": [],
   "source": [
    "m=gainer.price"
   ],
   "metadata": {
    "collapsed": false,
    "pycharm": {
     "name": "#%%\n"
    }
   }
  },
  {
   "cell_type": "code",
   "execution_count": 39,
   "outputs": [
    {
     "name": "stdout",
     "output_type": "stream",
     "text": [
      "0        ₹83.00\n",
      "1        ₹30.05\n",
      "2       ₹874.25\n",
      "3       ₹152.25\n",
      "4       ₹455.00\n",
      "5     ₹1,100.00\n",
      "6       ₹648.90\n",
      "7       ₹326.00\n",
      "8       ₹758.80\n",
      "9        ₹29.50\n",
      "10    ₹1,197.25\n",
      "11       ₹86.65\n",
      "12       ₹22.55\n",
      "13    ₹1,057.20\n",
      "14      ₹683.75\n",
      "15      ₹649.10\n",
      "16      ₹817.15\n",
      "17      ₹117.95\n",
      "18        ₹0.60\n",
      "19    ₹1,205.00\n",
      "20       ₹15.70\n",
      "21      ₹139.00\n",
      "22      ₹826.00\n",
      "23      ₹266.50\n",
      "24      ₹603.00\n",
      "25       ₹38.65\n",
      "26      ₹927.00\n",
      "27      ₹410.05\n",
      "28      ₹233.00\n",
      "29      ₹416.35\n",
      "30      ₹699.70\n",
      "31      ₹186.40\n",
      "32      ₹310.00\n",
      "33       ₹25.65\n",
      "34      ₹278.50\n",
      "35      ₹145.35\n",
      "36        ₹2.25\n",
      "37       ₹65.85\n",
      "38      ₹620.00\n",
      "39      ₹631.50\n",
      "40       ₹76.85\n",
      "41      ₹861.50\n",
      "42        ₹0.80\n",
      "43      ₹137.35\n",
      "44        ₹0.85\n",
      "45       ₹12.75\n",
      "46      ₹378.00\n",
      "47      ₹303.20\n",
      "48      ₹911.00\n",
      "49      ₹361.90\n",
      "Name: price, dtype: object\n"
     ]
    }
   ],
   "source": [
    "print(m)"
   ],
   "metadata": {
    "collapsed": false,
    "pycharm": {
     "name": "#%%\n"
    }
   }
  },
  {
   "cell_type": "code",
   "execution_count": 41,
   "outputs": [],
   "source": [
    "gainer[\"price\"]=m.apply(price)"
   ],
   "metadata": {
    "collapsed": false,
    "pycharm": {
     "name": "#%%\n"
    }
   }
  },
  {
   "cell_type": "code",
   "execution_count": 42,
   "outputs": [
    {
     "data": {
      "text/plain": "                                       name    price  increase pseincre\n0                          M K Proteins Ltd    83.00   +₹74.58  885.16%\n1                     Hindcon Chemicals Ltd    30.05   +₹24.32  424.43%\n2                         Cartrade Tech Ltd   874.25  +₹145.70   20.00%\n3                Kothari Petrochemicals Ltd   152.25   +₹20.80   15.82%\n4            Antony Waste Handling Cell Ltd   455.00   +₹52.55   13.06%\n5               Sharda Motor Industries Ltd  1100.00  +₹126.20   12.96%\n6             Silver Touch Technologies Ltd   648.90   +₹73.45   12.76%\n7                       Venus Remedies Ltd.   326.00   +₹36.45   12.59%\n8                                NESCO Ltd.   758.80   +₹82.65   12.22%\n9                       Centrum Capital Ltd    29.50    +₹2.95   11.11%\n10  Johnson Controls-Htch Ar Cndtng Ind Ltd  1197.25  +₹118.65   11.00%\n11                  Tracxn Technologies Ltd    86.65    +₹8.45   10.81%\n12              India Power Corporation Ltd    22.55    +₹2.05   10.00%\n13                     KPI Green Energy Ltd  1057.20   +₹96.10   10.00%\n14                     Jindal Photo Limited   683.75   +₹62.15   10.00%\n15                    IFGL Refractories Ltd   649.10   +₹59.00   10.00%\n16                                Cupid Ltd   817.15   +₹74.25    9.99%\n17                              Modison Ltd   117.95    +₹9.90    9.16%\n18            Godha Cabcon & Insulation Ltd     0.60   +₹0.050    9.09%\n19            Caplin Point Laboratories Ltd  1205.00   +₹98.55    8.91%\n20                 Shree Rama Newsprint Ltd    15.70    +₹1.25    8.65%\n21                    Palash Securities Ltd   139.00   +₹11.05    8.64%\n22                              Carysil Ltd   826.00   +₹64.20    8.43%\n23                      PPAP Automotive Ltd   266.50   +₹20.65    8.40%\n24              Lincoln Pharmaceuticals Ltd   603.00   +₹46.70    8.39%\n25                 Morepen Laboratories Ltd    38.65    +₹2.95    8.26%\n26                       IFB Industries Ltd   927.00   +₹70.40    8.22%\n27                      Windlas Biotech Ltd   410.05   +₹30.80    8.12%\n28                    Mahalaxmi Rubtech Ltd   233.00   +₹17.35    8.05%\n29                       NINtec Systems Ltd   416.35   +₹30.25    7.83%\n30  Jindal Poly Investment & Finance Co Ltd   699.70   +₹50.50    7.78%\n31          Focus Lighting and Fixtures Ltd   186.40   +₹13.30    7.68%\n32                  Welspun Enterprises Ltd   310.00   +₹22.05    7.66%\n33                  Nectar Lifesciences Ltd    25.65    +₹1.75    7.32%\n34                       Race Eco Chain Ltd   278.50   +₹18.85    7.26%\n35                         Weizmann Limited   145.35    +₹9.75    7.19%\n36                         Ujaas Energy Ltd     2.25    +₹0.15    7.14%\n37        AGS Transact Technologies Limited    65.85    +₹4.35    7.07%\n38                  Jubilant Industries Ltd   620.00   +₹40.15    6.92%\n39             Vijaya Diagnostic Centre Ltd   631.50   +₹40.60    6.87%\n40        Network18 Media & Investments Ltd    76.85    +₹4.90    6.81%\n41        Action Construction Equipment Ltd   861.50   +₹54.25    6.72%\n42                   Future Enterprises Ltd     0.80   +₹0.050    6.67%\n43                      Engineers India Ltd   137.35    +₹8.10    6.27%\n44                      Future Consumer Ltd     0.85   +₹0.050    6.25%\n45                              Alankit Ltd    12.75    +₹0.75    6.25%\n46                          CSL Finance Ltd   378.00   +₹21.85    6.14%\n47    Aptus Value Housing Finance India Ltd   303.20   +₹17.10    5.98%\n48                        Global Health Ltd   911.00   +₹51.25    5.96%\n49                    Fortis Healthcare Ltd   361.90   +₹19.70    5.76%",
      "text/html": "<div>\n<style scoped>\n    .dataframe tbody tr th:only-of-type {\n        vertical-align: middle;\n    }\n\n    .dataframe tbody tr th {\n        vertical-align: top;\n    }\n\n    .dataframe thead th {\n        text-align: right;\n    }\n</style>\n<table border=\"1\" class=\"dataframe\">\n  <thead>\n    <tr style=\"text-align: right;\">\n      <th></th>\n      <th>name</th>\n      <th>price</th>\n      <th>increase</th>\n      <th>pseincre</th>\n    </tr>\n  </thead>\n  <tbody>\n    <tr>\n      <th>0</th>\n      <td>M K Proteins Ltd</td>\n      <td>83.00</td>\n      <td>+₹74.58</td>\n      <td>885.16%</td>\n    </tr>\n    <tr>\n      <th>1</th>\n      <td>Hindcon Chemicals Ltd</td>\n      <td>30.05</td>\n      <td>+₹24.32</td>\n      <td>424.43%</td>\n    </tr>\n    <tr>\n      <th>2</th>\n      <td>Cartrade Tech Ltd</td>\n      <td>874.25</td>\n      <td>+₹145.70</td>\n      <td>20.00%</td>\n    </tr>\n    <tr>\n      <th>3</th>\n      <td>Kothari Petrochemicals Ltd</td>\n      <td>152.25</td>\n      <td>+₹20.80</td>\n      <td>15.82%</td>\n    </tr>\n    <tr>\n      <th>4</th>\n      <td>Antony Waste Handling Cell Ltd</td>\n      <td>455.00</td>\n      <td>+₹52.55</td>\n      <td>13.06%</td>\n    </tr>\n    <tr>\n      <th>5</th>\n      <td>Sharda Motor Industries Ltd</td>\n      <td>1100.00</td>\n      <td>+₹126.20</td>\n      <td>12.96%</td>\n    </tr>\n    <tr>\n      <th>6</th>\n      <td>Silver Touch Technologies Ltd</td>\n      <td>648.90</td>\n      <td>+₹73.45</td>\n      <td>12.76%</td>\n    </tr>\n    <tr>\n      <th>7</th>\n      <td>Venus Remedies Ltd.</td>\n      <td>326.00</td>\n      <td>+₹36.45</td>\n      <td>12.59%</td>\n    </tr>\n    <tr>\n      <th>8</th>\n      <td>NESCO Ltd.</td>\n      <td>758.80</td>\n      <td>+₹82.65</td>\n      <td>12.22%</td>\n    </tr>\n    <tr>\n      <th>9</th>\n      <td>Centrum Capital Ltd</td>\n      <td>29.50</td>\n      <td>+₹2.95</td>\n      <td>11.11%</td>\n    </tr>\n    <tr>\n      <th>10</th>\n      <td>Johnson Controls-Htch Ar Cndtng Ind Ltd</td>\n      <td>1197.25</td>\n      <td>+₹118.65</td>\n      <td>11.00%</td>\n    </tr>\n    <tr>\n      <th>11</th>\n      <td>Tracxn Technologies Ltd</td>\n      <td>86.65</td>\n      <td>+₹8.45</td>\n      <td>10.81%</td>\n    </tr>\n    <tr>\n      <th>12</th>\n      <td>India Power Corporation Ltd</td>\n      <td>22.55</td>\n      <td>+₹2.05</td>\n      <td>10.00%</td>\n    </tr>\n    <tr>\n      <th>13</th>\n      <td>KPI Green Energy Ltd</td>\n      <td>1057.20</td>\n      <td>+₹96.10</td>\n      <td>10.00%</td>\n    </tr>\n    <tr>\n      <th>14</th>\n      <td>Jindal Photo Limited</td>\n      <td>683.75</td>\n      <td>+₹62.15</td>\n      <td>10.00%</td>\n    </tr>\n    <tr>\n      <th>15</th>\n      <td>IFGL Refractories Ltd</td>\n      <td>649.10</td>\n      <td>+₹59.00</td>\n      <td>10.00%</td>\n    </tr>\n    <tr>\n      <th>16</th>\n      <td>Cupid Ltd</td>\n      <td>817.15</td>\n      <td>+₹74.25</td>\n      <td>9.99%</td>\n    </tr>\n    <tr>\n      <th>17</th>\n      <td>Modison Ltd</td>\n      <td>117.95</td>\n      <td>+₹9.90</td>\n      <td>9.16%</td>\n    </tr>\n    <tr>\n      <th>18</th>\n      <td>Godha Cabcon &amp; Insulation Ltd</td>\n      <td>0.60</td>\n      <td>+₹0.050</td>\n      <td>9.09%</td>\n    </tr>\n    <tr>\n      <th>19</th>\n      <td>Caplin Point Laboratories Ltd</td>\n      <td>1205.00</td>\n      <td>+₹98.55</td>\n      <td>8.91%</td>\n    </tr>\n    <tr>\n      <th>20</th>\n      <td>Shree Rama Newsprint Ltd</td>\n      <td>15.70</td>\n      <td>+₹1.25</td>\n      <td>8.65%</td>\n    </tr>\n    <tr>\n      <th>21</th>\n      <td>Palash Securities Ltd</td>\n      <td>139.00</td>\n      <td>+₹11.05</td>\n      <td>8.64%</td>\n    </tr>\n    <tr>\n      <th>22</th>\n      <td>Carysil Ltd</td>\n      <td>826.00</td>\n      <td>+₹64.20</td>\n      <td>8.43%</td>\n    </tr>\n    <tr>\n      <th>23</th>\n      <td>PPAP Automotive Ltd</td>\n      <td>266.50</td>\n      <td>+₹20.65</td>\n      <td>8.40%</td>\n    </tr>\n    <tr>\n      <th>24</th>\n      <td>Lincoln Pharmaceuticals Ltd</td>\n      <td>603.00</td>\n      <td>+₹46.70</td>\n      <td>8.39%</td>\n    </tr>\n    <tr>\n      <th>25</th>\n      <td>Morepen Laboratories Ltd</td>\n      <td>38.65</td>\n      <td>+₹2.95</td>\n      <td>8.26%</td>\n    </tr>\n    <tr>\n      <th>26</th>\n      <td>IFB Industries Ltd</td>\n      <td>927.00</td>\n      <td>+₹70.40</td>\n      <td>8.22%</td>\n    </tr>\n    <tr>\n      <th>27</th>\n      <td>Windlas Biotech Ltd</td>\n      <td>410.05</td>\n      <td>+₹30.80</td>\n      <td>8.12%</td>\n    </tr>\n    <tr>\n      <th>28</th>\n      <td>Mahalaxmi Rubtech Ltd</td>\n      <td>233.00</td>\n      <td>+₹17.35</td>\n      <td>8.05%</td>\n    </tr>\n    <tr>\n      <th>29</th>\n      <td>NINtec Systems Ltd</td>\n      <td>416.35</td>\n      <td>+₹30.25</td>\n      <td>7.83%</td>\n    </tr>\n    <tr>\n      <th>30</th>\n      <td>Jindal Poly Investment &amp; Finance Co Ltd</td>\n      <td>699.70</td>\n      <td>+₹50.50</td>\n      <td>7.78%</td>\n    </tr>\n    <tr>\n      <th>31</th>\n      <td>Focus Lighting and Fixtures Ltd</td>\n      <td>186.40</td>\n      <td>+₹13.30</td>\n      <td>7.68%</td>\n    </tr>\n    <tr>\n      <th>32</th>\n      <td>Welspun Enterprises Ltd</td>\n      <td>310.00</td>\n      <td>+₹22.05</td>\n      <td>7.66%</td>\n    </tr>\n    <tr>\n      <th>33</th>\n      <td>Nectar Lifesciences Ltd</td>\n      <td>25.65</td>\n      <td>+₹1.75</td>\n      <td>7.32%</td>\n    </tr>\n    <tr>\n      <th>34</th>\n      <td>Race Eco Chain Ltd</td>\n      <td>278.50</td>\n      <td>+₹18.85</td>\n      <td>7.26%</td>\n    </tr>\n    <tr>\n      <th>35</th>\n      <td>Weizmann Limited</td>\n      <td>145.35</td>\n      <td>+₹9.75</td>\n      <td>7.19%</td>\n    </tr>\n    <tr>\n      <th>36</th>\n      <td>Ujaas Energy Ltd</td>\n      <td>2.25</td>\n      <td>+₹0.15</td>\n      <td>7.14%</td>\n    </tr>\n    <tr>\n      <th>37</th>\n      <td>AGS Transact Technologies Limited</td>\n      <td>65.85</td>\n      <td>+₹4.35</td>\n      <td>7.07%</td>\n    </tr>\n    <tr>\n      <th>38</th>\n      <td>Jubilant Industries Ltd</td>\n      <td>620.00</td>\n      <td>+₹40.15</td>\n      <td>6.92%</td>\n    </tr>\n    <tr>\n      <th>39</th>\n      <td>Vijaya Diagnostic Centre Ltd</td>\n      <td>631.50</td>\n      <td>+₹40.60</td>\n      <td>6.87%</td>\n    </tr>\n    <tr>\n      <th>40</th>\n      <td>Network18 Media &amp; Investments Ltd</td>\n      <td>76.85</td>\n      <td>+₹4.90</td>\n      <td>6.81%</td>\n    </tr>\n    <tr>\n      <th>41</th>\n      <td>Action Construction Equipment Ltd</td>\n      <td>861.50</td>\n      <td>+₹54.25</td>\n      <td>6.72%</td>\n    </tr>\n    <tr>\n      <th>42</th>\n      <td>Future Enterprises Ltd</td>\n      <td>0.80</td>\n      <td>+₹0.050</td>\n      <td>6.67%</td>\n    </tr>\n    <tr>\n      <th>43</th>\n      <td>Engineers India Ltd</td>\n      <td>137.35</td>\n      <td>+₹8.10</td>\n      <td>6.27%</td>\n    </tr>\n    <tr>\n      <th>44</th>\n      <td>Future Consumer Ltd</td>\n      <td>0.85</td>\n      <td>+₹0.050</td>\n      <td>6.25%</td>\n    </tr>\n    <tr>\n      <th>45</th>\n      <td>Alankit Ltd</td>\n      <td>12.75</td>\n      <td>+₹0.75</td>\n      <td>6.25%</td>\n    </tr>\n    <tr>\n      <th>46</th>\n      <td>CSL Finance Ltd</td>\n      <td>378.00</td>\n      <td>+₹21.85</td>\n      <td>6.14%</td>\n    </tr>\n    <tr>\n      <th>47</th>\n      <td>Aptus Value Housing Finance India Ltd</td>\n      <td>303.20</td>\n      <td>+₹17.10</td>\n      <td>5.98%</td>\n    </tr>\n    <tr>\n      <th>48</th>\n      <td>Global Health Ltd</td>\n      <td>911.00</td>\n      <td>+₹51.25</td>\n      <td>5.96%</td>\n    </tr>\n    <tr>\n      <th>49</th>\n      <td>Fortis Healthcare Ltd</td>\n      <td>361.90</td>\n      <td>+₹19.70</td>\n      <td>5.76%</td>\n    </tr>\n  </tbody>\n</table>\n</div>"
     },
     "execution_count": 42,
     "metadata": {},
     "output_type": "execute_result"
    }
   ],
   "source": [
    "gainer"
   ],
   "metadata": {
    "collapsed": false,
    "pycharm": {
     "name": "#%%\n"
    }
   }
  },
  {
   "cell_type": "code",
   "execution_count": 43,
   "outputs": [],
   "source": [
    "def increases(n):\n",
    "    return float(n.replace(\"₹\",\"\").replace(\"+\",\"\"))"
   ],
   "metadata": {
    "collapsed": false,
    "pycharm": {
     "name": "#%%\n"
    }
   }
  },
  {
   "cell_type": "code",
   "execution_count": 48,
   "outputs": [],
   "source": [
    "gainer[\"increase\"]=gainer[\"increase\"].apply(increases)"
   ],
   "metadata": {
    "collapsed": false,
    "pycharm": {
     "name": "#%%\n"
    }
   }
  },
  {
   "cell_type": "code",
   "execution_count": 49,
   "outputs": [
    {
     "data": {
      "text/plain": "                             name   price  increase pseincre\n0                M K Proteins Ltd   83.00     74.58  885.16%\n1           Hindcon Chemicals Ltd   30.05     24.32  424.43%\n2               Cartrade Tech Ltd  874.25    145.70   20.00%\n3      Kothari Petrochemicals Ltd  152.25     20.80   15.82%\n4  Antony Waste Handling Cell Ltd  455.00     52.55   13.06%",
      "text/html": "<div>\n<style scoped>\n    .dataframe tbody tr th:only-of-type {\n        vertical-align: middle;\n    }\n\n    .dataframe tbody tr th {\n        vertical-align: top;\n    }\n\n    .dataframe thead th {\n        text-align: right;\n    }\n</style>\n<table border=\"1\" class=\"dataframe\">\n  <thead>\n    <tr style=\"text-align: right;\">\n      <th></th>\n      <th>name</th>\n      <th>price</th>\n      <th>increase</th>\n      <th>pseincre</th>\n    </tr>\n  </thead>\n  <tbody>\n    <tr>\n      <th>0</th>\n      <td>M K Proteins Ltd</td>\n      <td>83.00</td>\n      <td>74.58</td>\n      <td>885.16%</td>\n    </tr>\n    <tr>\n      <th>1</th>\n      <td>Hindcon Chemicals Ltd</td>\n      <td>30.05</td>\n      <td>24.32</td>\n      <td>424.43%</td>\n    </tr>\n    <tr>\n      <th>2</th>\n      <td>Cartrade Tech Ltd</td>\n      <td>874.25</td>\n      <td>145.70</td>\n      <td>20.00%</td>\n    </tr>\n    <tr>\n      <th>3</th>\n      <td>Kothari Petrochemicals Ltd</td>\n      <td>152.25</td>\n      <td>20.80</td>\n      <td>15.82%</td>\n    </tr>\n    <tr>\n      <th>4</th>\n      <td>Antony Waste Handling Cell Ltd</td>\n      <td>455.00</td>\n      <td>52.55</td>\n      <td>13.06%</td>\n    </tr>\n  </tbody>\n</table>\n</div>"
     },
     "execution_count": 49,
     "metadata": {},
     "output_type": "execute_result"
    }
   ],
   "source": [
    "gainer.head()"
   ],
   "metadata": {
    "collapsed": false,
    "pycharm": {
     "name": "#%%\n"
    }
   }
  },
  {
   "cell_type": "code",
   "execution_count": 50,
   "outputs": [],
   "source": [
    "def pseincre(n):\n",
    "    return float(n.replace(\"%\",\"\"))"
   ],
   "metadata": {
    "collapsed": false,
    "pycharm": {
     "name": "#%%\n"
    }
   }
  },
  {
   "cell_type": "code",
   "execution_count": 51,
   "outputs": [],
   "source": [
    "gainer[\"pseincre\"]=gainer[\"pseincre\"].apply(pseincre)"
   ],
   "metadata": {
    "collapsed": false,
    "pycharm": {
     "name": "#%%\n"
    }
   }
  },
  {
   "cell_type": "code",
   "execution_count": 52,
   "outputs": [
    {
     "data": {
      "text/plain": "                             name   price  increase  pseincre\n0                M K Proteins Ltd   83.00     74.58    885.16\n1           Hindcon Chemicals Ltd   30.05     24.32    424.43\n2               Cartrade Tech Ltd  874.25    145.70     20.00\n3      Kothari Petrochemicals Ltd  152.25     20.80     15.82\n4  Antony Waste Handling Cell Ltd  455.00     52.55     13.06",
      "text/html": "<div>\n<style scoped>\n    .dataframe tbody tr th:only-of-type {\n        vertical-align: middle;\n    }\n\n    .dataframe tbody tr th {\n        vertical-align: top;\n    }\n\n    .dataframe thead th {\n        text-align: right;\n    }\n</style>\n<table border=\"1\" class=\"dataframe\">\n  <thead>\n    <tr style=\"text-align: right;\">\n      <th></th>\n      <th>name</th>\n      <th>price</th>\n      <th>increase</th>\n      <th>pseincre</th>\n    </tr>\n  </thead>\n  <tbody>\n    <tr>\n      <th>0</th>\n      <td>M K Proteins Ltd</td>\n      <td>83.00</td>\n      <td>74.58</td>\n      <td>885.16</td>\n    </tr>\n    <tr>\n      <th>1</th>\n      <td>Hindcon Chemicals Ltd</td>\n      <td>30.05</td>\n      <td>24.32</td>\n      <td>424.43</td>\n    </tr>\n    <tr>\n      <th>2</th>\n      <td>Cartrade Tech Ltd</td>\n      <td>874.25</td>\n      <td>145.70</td>\n      <td>20.00</td>\n    </tr>\n    <tr>\n      <th>3</th>\n      <td>Kothari Petrochemicals Ltd</td>\n      <td>152.25</td>\n      <td>20.80</td>\n      <td>15.82</td>\n    </tr>\n    <tr>\n      <th>4</th>\n      <td>Antony Waste Handling Cell Ltd</td>\n      <td>455.00</td>\n      <td>52.55</td>\n      <td>13.06</td>\n    </tr>\n  </tbody>\n</table>\n</div>"
     },
     "execution_count": 52,
     "metadata": {},
     "output_type": "execute_result"
    }
   ],
   "source": [
    "gainer.head()"
   ],
   "metadata": {
    "collapsed": false,
    "pycharm": {
     "name": "#%%\n"
    }
   }
  },
  {
   "cell_type": "code",
   "execution_count": 53,
   "outputs": [
    {
     "data": {
      "text/plain": "name         object\nprice       float64\nincrease    float64\npseincre    float64\ndtype: object"
     },
     "execution_count": 53,
     "metadata": {},
     "output_type": "execute_result"
    }
   ],
   "source": [
    "gainer.dtypes"
   ],
   "metadata": {
    "collapsed": false,
    "pycharm": {
     "name": "#%%\n"
    }
   }
  },
  {
   "cell_type": "code",
   "execution_count": 54,
   "outputs": [
    {
     "data": {
      "text/plain": "'₹83.00'"
     },
     "execution_count": 54,
     "metadata": {},
     "output_type": "execute_result"
    }
   ],
   "source": [
    "a"
   ],
   "metadata": {
    "collapsed": false,
    "pycharm": {
     "name": "#%%\n"
    }
   }
  },
  {
   "cell_type": "code",
   "execution_count": 56,
   "outputs": [],
   "source": [
    "b=gainer.price"
   ],
   "metadata": {
    "collapsed": false,
    "pycharm": {
     "name": "#%%\n"
    }
   }
  },
  {
   "cell_type": "code",
   "execution_count": 57,
   "outputs": [
    {
     "data": {
      "text/plain": "0       83.00\n1       30.05\n2      874.25\n3      152.25\n4      455.00\n5     1100.00\n6      648.90\n7      326.00\n8      758.80\n9       29.50\n10    1197.25\n11      86.65\n12      22.55\n13    1057.20\n14     683.75\n15     649.10\n16     817.15\n17     117.95\n18       0.60\n19    1205.00\n20      15.70\n21     139.00\n22     826.00\n23     266.50\n24     603.00\n25      38.65\n26     927.00\n27     410.05\n28     233.00\n29     416.35\n30     699.70\n31     186.40\n32     310.00\n33      25.65\n34     278.50\n35     145.35\n36       2.25\n37      65.85\n38     620.00\n39     631.50\n40      76.85\n41     861.50\n42       0.80\n43     137.35\n44       0.85\n45      12.75\n46     378.00\n47     303.20\n48     911.00\n49     361.90\nName: price, dtype: float64"
     },
     "execution_count": 57,
     "metadata": {},
     "output_type": "execute_result"
    }
   ],
   "source": [
    "b"
   ],
   "metadata": {
    "collapsed": false,
    "pycharm": {
     "name": "#%%\n"
    }
   }
  },
  {
   "cell_type": "code",
   "execution_count": 63,
   "outputs": [
    {
     "ename": "TypeError",
     "evalue": "Series.sort_values() takes 1 positional argument but 2 positional arguments (and 1 keyword-only argument) were given",
     "output_type": "error",
     "traceback": [
      "\u001B[1;31m---------------------------------------------------------------------------\u001B[0m",
      "\u001B[1;31mTypeError\u001B[0m                                 Traceback (most recent call last)",
      "Cell \u001B[1;32mIn[63], line 1\u001B[0m\n\u001B[1;32m----> 1\u001B[0m \u001B[43mb\u001B[49m\u001B[38;5;241;43m.\u001B[39;49m\u001B[43msort_values\u001B[49m\u001B[43m(\u001B[49m\u001B[38;5;28;43mreversed\u001B[39;49m\u001B[43m,\u001B[49m\u001B[43minplace\u001B[49m\u001B[38;5;241;43m=\u001B[39;49m\u001B[38;5;28;43;01mTrue\u001B[39;49;00m\u001B[43m)\u001B[49m\n",
      "\u001B[1;31mTypeError\u001B[0m: Series.sort_values() takes 1 positional argument but 2 positional arguments (and 1 keyword-only argument) were given"
     ]
    }
   ],
   "source": [
    "b.sort_values(reversed,inplace=True)"
   ],
   "metadata": {
    "collapsed": false,
    "pycharm": {
     "name": "#%%\n"
    }
   }
  },
  {
   "cell_type": "code",
   "execution_count": 62,
   "outputs": [
    {
     "data": {
      "text/plain": "0       83.00\n1       30.05\n2      874.25\n3      152.25\n4      455.00\n5     1100.00\n6      648.90\n7      326.00\n8      758.80\n9       29.50\n10    1197.25\n11      86.65\n12      22.55\n13    1057.20\n14     683.75\n15     649.10\n16     817.15\n17     117.95\n18       0.60\n19    1205.00\n20      15.70\n21     139.00\n22     826.00\n23     266.50\n24     603.00\n25      38.65\n26     927.00\n27     410.05\n28     233.00\n29     416.35\n30     699.70\n31     186.40\n32     310.00\n33      25.65\n34     278.50\n35     145.35\n36       2.25\n37      65.85\n38     620.00\n39     631.50\n40      76.85\n41     861.50\n42       0.80\n43     137.35\n44       0.85\n45      12.75\n46     378.00\n47     303.20\n48     911.00\n49     361.90\nName: price, dtype: float64"
     },
     "execution_count": 62,
     "metadata": {},
     "output_type": "execute_result"
    }
   ],
   "source": [
    "b"
   ],
   "metadata": {
    "collapsed": false,
    "pycharm": {
     "name": "#%%\n"
    }
   }
  },
  {
   "cell_type": "code",
   "execution_count": 66,
   "outputs": [
    {
     "ename": "KeyError",
     "evalue": "\"None of [Index([  5.76,   5.96,   5.98,   6.14,   6.25,   6.25,   6.27,   6.67,   6.72,\\n         6.81,   6.87,   6.92,   7.07,   7.14,   7.19,   7.26,   7.32,   7.66,\\n         7.68,   7.78,   7.83,   8.05,   8.12,   8.22,   8.26,   8.39,    8.4,\\n         8.43,   8.64,   8.65,   8.91,   9.09,   9.16,   9.99,   10.0,   10.0,\\n         10.0,   10.0,  10.81,   11.0,  11.11,  12.22,  12.59,  12.76,  12.96,\\n        13.06,  15.82,   20.0, 424.43, 885.16],\\n      dtype='float64')] are in the [columns]\"",
     "output_type": "error",
     "traceback": [
      "\u001B[1;31m---------------------------------------------------------------------------\u001B[0m",
      "\u001B[1;31mKeyError\u001B[0m                                  Traceback (most recent call last)",
      "Cell \u001B[1;32mIn[66], line 1\u001B[0m\n\u001B[1;32m----> 1\u001B[0m \u001B[43mgainer\u001B[49m\u001B[43m[\u001B[49m\u001B[43mgainer\u001B[49m\u001B[43m[\u001B[49m\u001B[38;5;124;43m\"\u001B[39;49m\u001B[38;5;124;43mpseincre\u001B[39;49m\u001B[38;5;124;43m\"\u001B[39;49m\u001B[43m]\u001B[49m\u001B[38;5;241;43m.\u001B[39;49m\u001B[43msort_values\u001B[49m\u001B[43m(\u001B[49m\u001B[43m)\u001B[49m\u001B[43m]\u001B[49m\n",
      "File \u001B[1;32m~\\AppData\\Roaming\\Python\\Python310\\site-packages\\pandas\\core\\frame.py:3767\u001B[0m, in \u001B[0;36mDataFrame.__getitem__\u001B[1;34m(self, key)\u001B[0m\n\u001B[0;32m   3765\u001B[0m     \u001B[38;5;28;01mif\u001B[39;00m is_iterator(key):\n\u001B[0;32m   3766\u001B[0m         key \u001B[38;5;241m=\u001B[39m \u001B[38;5;28mlist\u001B[39m(key)\n\u001B[1;32m-> 3767\u001B[0m     indexer \u001B[38;5;241m=\u001B[39m \u001B[38;5;28;43mself\u001B[39;49m\u001B[38;5;241;43m.\u001B[39;49m\u001B[43mcolumns\u001B[49m\u001B[38;5;241;43m.\u001B[39;49m\u001B[43m_get_indexer_strict\u001B[49m\u001B[43m(\u001B[49m\u001B[43mkey\u001B[49m\u001B[43m,\u001B[49m\u001B[43m \u001B[49m\u001B[38;5;124;43m\"\u001B[39;49m\u001B[38;5;124;43mcolumns\u001B[39;49m\u001B[38;5;124;43m\"\u001B[39;49m\u001B[43m)\u001B[49m[\u001B[38;5;241m1\u001B[39m]\n\u001B[0;32m   3769\u001B[0m \u001B[38;5;66;03m# take() does not accept boolean indexers\u001B[39;00m\n\u001B[0;32m   3770\u001B[0m \u001B[38;5;28;01mif\u001B[39;00m \u001B[38;5;28mgetattr\u001B[39m(indexer, \u001B[38;5;124m\"\u001B[39m\u001B[38;5;124mdtype\u001B[39m\u001B[38;5;124m\"\u001B[39m, \u001B[38;5;28;01mNone\u001B[39;00m) \u001B[38;5;241m==\u001B[39m \u001B[38;5;28mbool\u001B[39m:\n",
      "File \u001B[1;32m~\\AppData\\Roaming\\Python\\Python310\\site-packages\\pandas\\core\\indexes\\base.py:5877\u001B[0m, in \u001B[0;36mIndex._get_indexer_strict\u001B[1;34m(self, key, axis_name)\u001B[0m\n\u001B[0;32m   5874\u001B[0m \u001B[38;5;28;01melse\u001B[39;00m:\n\u001B[0;32m   5875\u001B[0m     keyarr, indexer, new_indexer \u001B[38;5;241m=\u001B[39m \u001B[38;5;28mself\u001B[39m\u001B[38;5;241m.\u001B[39m_reindex_non_unique(keyarr)\n\u001B[1;32m-> 5877\u001B[0m \u001B[38;5;28;43mself\u001B[39;49m\u001B[38;5;241;43m.\u001B[39;49m\u001B[43m_raise_if_missing\u001B[49m\u001B[43m(\u001B[49m\u001B[43mkeyarr\u001B[49m\u001B[43m,\u001B[49m\u001B[43m \u001B[49m\u001B[43mindexer\u001B[49m\u001B[43m,\u001B[49m\u001B[43m \u001B[49m\u001B[43maxis_name\u001B[49m\u001B[43m)\u001B[49m\n\u001B[0;32m   5879\u001B[0m keyarr \u001B[38;5;241m=\u001B[39m \u001B[38;5;28mself\u001B[39m\u001B[38;5;241m.\u001B[39mtake(indexer)\n\u001B[0;32m   5880\u001B[0m \u001B[38;5;28;01mif\u001B[39;00m \u001B[38;5;28misinstance\u001B[39m(key, Index):\n\u001B[0;32m   5881\u001B[0m     \u001B[38;5;66;03m# GH 42790 - Preserve name from an Index\u001B[39;00m\n",
      "File \u001B[1;32m~\\AppData\\Roaming\\Python\\Python310\\site-packages\\pandas\\core\\indexes\\base.py:5938\u001B[0m, in \u001B[0;36mIndex._raise_if_missing\u001B[1;34m(self, key, indexer, axis_name)\u001B[0m\n\u001B[0;32m   5936\u001B[0m     \u001B[38;5;28;01mif\u001B[39;00m use_interval_msg:\n\u001B[0;32m   5937\u001B[0m         key \u001B[38;5;241m=\u001B[39m \u001B[38;5;28mlist\u001B[39m(key)\n\u001B[1;32m-> 5938\u001B[0m     \u001B[38;5;28;01mraise\u001B[39;00m \u001B[38;5;167;01mKeyError\u001B[39;00m(\u001B[38;5;124mf\u001B[39m\u001B[38;5;124m\"\u001B[39m\u001B[38;5;124mNone of [\u001B[39m\u001B[38;5;132;01m{\u001B[39;00mkey\u001B[38;5;132;01m}\u001B[39;00m\u001B[38;5;124m] are in the [\u001B[39m\u001B[38;5;132;01m{\u001B[39;00maxis_name\u001B[38;5;132;01m}\u001B[39;00m\u001B[38;5;124m]\u001B[39m\u001B[38;5;124m\"\u001B[39m)\n\u001B[0;32m   5940\u001B[0m not_found \u001B[38;5;241m=\u001B[39m \u001B[38;5;28mlist\u001B[39m(ensure_index(key)[missing_mask\u001B[38;5;241m.\u001B[39mnonzero()[\u001B[38;5;241m0\u001B[39m]]\u001B[38;5;241m.\u001B[39munique())\n\u001B[0;32m   5941\u001B[0m \u001B[38;5;28;01mraise\u001B[39;00m \u001B[38;5;167;01mKeyError\u001B[39;00m(\u001B[38;5;124mf\u001B[39m\u001B[38;5;124m\"\u001B[39m\u001B[38;5;132;01m{\u001B[39;00mnot_found\u001B[38;5;132;01m}\u001B[39;00m\u001B[38;5;124m not in index\u001B[39m\u001B[38;5;124m\"\u001B[39m)\n",
      "\u001B[1;31mKeyError\u001B[0m: \"None of [Index([  5.76,   5.96,   5.98,   6.14,   6.25,   6.25,   6.27,   6.67,   6.72,\\n         6.81,   6.87,   6.92,   7.07,   7.14,   7.19,   7.26,   7.32,   7.66,\\n         7.68,   7.78,   7.83,   8.05,   8.12,   8.22,   8.26,   8.39,    8.4,\\n         8.43,   8.64,   8.65,   8.91,   9.09,   9.16,   9.99,   10.0,   10.0,\\n         10.0,   10.0,  10.81,   11.0,  11.11,  12.22,  12.59,  12.76,  12.96,\\n        13.06,  15.82,   20.0, 424.43, 885.16],\\n      dtype='float64')] are in the [columns]\""
     ]
    }
   ],
   "source": [
    "gainer[gainer[\"pseincre\"].sort_values()]"
   ],
   "metadata": {
    "collapsed": false,
    "pycharm": {
     "name": "#%%\n"
    }
   }
  },
  {
   "cell_type": "code",
   "execution_count": 67,
   "outputs": [
    {
     "data": {
      "text/plain": "                                       name    price  increase  pseincre\n0                          M K Proteins Ltd    83.00     74.58    885.16\n1                     Hindcon Chemicals Ltd    30.05     24.32    424.43\n2                         Cartrade Tech Ltd   874.25    145.70     20.00\n3                Kothari Petrochemicals Ltd   152.25     20.80     15.82\n4            Antony Waste Handling Cell Ltd   455.00     52.55     13.06\n5               Sharda Motor Industries Ltd  1100.00    126.20     12.96\n6             Silver Touch Technologies Ltd   648.90     73.45     12.76\n7                       Venus Remedies Ltd.   326.00     36.45     12.59\n8                                NESCO Ltd.   758.80     82.65     12.22\n9                       Centrum Capital Ltd    29.50      2.95     11.11\n10  Johnson Controls-Htch Ar Cndtng Ind Ltd  1197.25    118.65     11.00\n11                  Tracxn Technologies Ltd    86.65      8.45     10.81\n12              India Power Corporation Ltd    22.55      2.05     10.00\n13                     KPI Green Energy Ltd  1057.20     96.10     10.00\n14                     Jindal Photo Limited   683.75     62.15     10.00\n15                    IFGL Refractories Ltd   649.10     59.00     10.00\n16                                Cupid Ltd   817.15     74.25      9.99\n17                              Modison Ltd   117.95      9.90      9.16\n18            Godha Cabcon & Insulation Ltd     0.60      0.05      9.09\n19            Caplin Point Laboratories Ltd  1205.00     98.55      8.91\n20                 Shree Rama Newsprint Ltd    15.70      1.25      8.65\n21                    Palash Securities Ltd   139.00     11.05      8.64\n22                              Carysil Ltd   826.00     64.20      8.43\n23                      PPAP Automotive Ltd   266.50     20.65      8.40\n24              Lincoln Pharmaceuticals Ltd   603.00     46.70      8.39\n25                 Morepen Laboratories Ltd    38.65      2.95      8.26\n26                       IFB Industries Ltd   927.00     70.40      8.22\n27                      Windlas Biotech Ltd   410.05     30.80      8.12\n28                    Mahalaxmi Rubtech Ltd   233.00     17.35      8.05\n29                       NINtec Systems Ltd   416.35     30.25      7.83\n30  Jindal Poly Investment & Finance Co Ltd   699.70     50.50      7.78\n31          Focus Lighting and Fixtures Ltd   186.40     13.30      7.68\n32                  Welspun Enterprises Ltd   310.00     22.05      7.66\n33                  Nectar Lifesciences Ltd    25.65      1.75      7.32\n34                       Race Eco Chain Ltd   278.50     18.85      7.26\n35                         Weizmann Limited   145.35      9.75      7.19\n36                         Ujaas Energy Ltd     2.25      0.15      7.14\n37        AGS Transact Technologies Limited    65.85      4.35      7.07\n38                  Jubilant Industries Ltd   620.00     40.15      6.92\n39             Vijaya Diagnostic Centre Ltd   631.50     40.60      6.87\n40        Network18 Media & Investments Ltd    76.85      4.90      6.81\n41        Action Construction Equipment Ltd   861.50     54.25      6.72\n42                   Future Enterprises Ltd     0.80      0.05      6.67\n43                      Engineers India Ltd   137.35      8.10      6.27\n44                      Future Consumer Ltd     0.85      0.05      6.25\n45                              Alankit Ltd    12.75      0.75      6.25\n46                          CSL Finance Ltd   378.00     21.85      6.14\n47    Aptus Value Housing Finance India Ltd   303.20     17.10      5.98\n48                        Global Health Ltd   911.00     51.25      5.96\n49                    Fortis Healthcare Ltd   361.90     19.70      5.76",
      "text/html": "<div>\n<style scoped>\n    .dataframe tbody tr th:only-of-type {\n        vertical-align: middle;\n    }\n\n    .dataframe tbody tr th {\n        vertical-align: top;\n    }\n\n    .dataframe thead th {\n        text-align: right;\n    }\n</style>\n<table border=\"1\" class=\"dataframe\">\n  <thead>\n    <tr style=\"text-align: right;\">\n      <th></th>\n      <th>name</th>\n      <th>price</th>\n      <th>increase</th>\n      <th>pseincre</th>\n    </tr>\n  </thead>\n  <tbody>\n    <tr>\n      <th>0</th>\n      <td>M K Proteins Ltd</td>\n      <td>83.00</td>\n      <td>74.58</td>\n      <td>885.16</td>\n    </tr>\n    <tr>\n      <th>1</th>\n      <td>Hindcon Chemicals Ltd</td>\n      <td>30.05</td>\n      <td>24.32</td>\n      <td>424.43</td>\n    </tr>\n    <tr>\n      <th>2</th>\n      <td>Cartrade Tech Ltd</td>\n      <td>874.25</td>\n      <td>145.70</td>\n      <td>20.00</td>\n    </tr>\n    <tr>\n      <th>3</th>\n      <td>Kothari Petrochemicals Ltd</td>\n      <td>152.25</td>\n      <td>20.80</td>\n      <td>15.82</td>\n    </tr>\n    <tr>\n      <th>4</th>\n      <td>Antony Waste Handling Cell Ltd</td>\n      <td>455.00</td>\n      <td>52.55</td>\n      <td>13.06</td>\n    </tr>\n    <tr>\n      <th>5</th>\n      <td>Sharda Motor Industries Ltd</td>\n      <td>1100.00</td>\n      <td>126.20</td>\n      <td>12.96</td>\n    </tr>\n    <tr>\n      <th>6</th>\n      <td>Silver Touch Technologies Ltd</td>\n      <td>648.90</td>\n      <td>73.45</td>\n      <td>12.76</td>\n    </tr>\n    <tr>\n      <th>7</th>\n      <td>Venus Remedies Ltd.</td>\n      <td>326.00</td>\n      <td>36.45</td>\n      <td>12.59</td>\n    </tr>\n    <tr>\n      <th>8</th>\n      <td>NESCO Ltd.</td>\n      <td>758.80</td>\n      <td>82.65</td>\n      <td>12.22</td>\n    </tr>\n    <tr>\n      <th>9</th>\n      <td>Centrum Capital Ltd</td>\n      <td>29.50</td>\n      <td>2.95</td>\n      <td>11.11</td>\n    </tr>\n    <tr>\n      <th>10</th>\n      <td>Johnson Controls-Htch Ar Cndtng Ind Ltd</td>\n      <td>1197.25</td>\n      <td>118.65</td>\n      <td>11.00</td>\n    </tr>\n    <tr>\n      <th>11</th>\n      <td>Tracxn Technologies Ltd</td>\n      <td>86.65</td>\n      <td>8.45</td>\n      <td>10.81</td>\n    </tr>\n    <tr>\n      <th>12</th>\n      <td>India Power Corporation Ltd</td>\n      <td>22.55</td>\n      <td>2.05</td>\n      <td>10.00</td>\n    </tr>\n    <tr>\n      <th>13</th>\n      <td>KPI Green Energy Ltd</td>\n      <td>1057.20</td>\n      <td>96.10</td>\n      <td>10.00</td>\n    </tr>\n    <tr>\n      <th>14</th>\n      <td>Jindal Photo Limited</td>\n      <td>683.75</td>\n      <td>62.15</td>\n      <td>10.00</td>\n    </tr>\n    <tr>\n      <th>15</th>\n      <td>IFGL Refractories Ltd</td>\n      <td>649.10</td>\n      <td>59.00</td>\n      <td>10.00</td>\n    </tr>\n    <tr>\n      <th>16</th>\n      <td>Cupid Ltd</td>\n      <td>817.15</td>\n      <td>74.25</td>\n      <td>9.99</td>\n    </tr>\n    <tr>\n      <th>17</th>\n      <td>Modison Ltd</td>\n      <td>117.95</td>\n      <td>9.90</td>\n      <td>9.16</td>\n    </tr>\n    <tr>\n      <th>18</th>\n      <td>Godha Cabcon &amp; Insulation Ltd</td>\n      <td>0.60</td>\n      <td>0.05</td>\n      <td>9.09</td>\n    </tr>\n    <tr>\n      <th>19</th>\n      <td>Caplin Point Laboratories Ltd</td>\n      <td>1205.00</td>\n      <td>98.55</td>\n      <td>8.91</td>\n    </tr>\n    <tr>\n      <th>20</th>\n      <td>Shree Rama Newsprint Ltd</td>\n      <td>15.70</td>\n      <td>1.25</td>\n      <td>8.65</td>\n    </tr>\n    <tr>\n      <th>21</th>\n      <td>Palash Securities Ltd</td>\n      <td>139.00</td>\n      <td>11.05</td>\n      <td>8.64</td>\n    </tr>\n    <tr>\n      <th>22</th>\n      <td>Carysil Ltd</td>\n      <td>826.00</td>\n      <td>64.20</td>\n      <td>8.43</td>\n    </tr>\n    <tr>\n      <th>23</th>\n      <td>PPAP Automotive Ltd</td>\n      <td>266.50</td>\n      <td>20.65</td>\n      <td>8.40</td>\n    </tr>\n    <tr>\n      <th>24</th>\n      <td>Lincoln Pharmaceuticals Ltd</td>\n      <td>603.00</td>\n      <td>46.70</td>\n      <td>8.39</td>\n    </tr>\n    <tr>\n      <th>25</th>\n      <td>Morepen Laboratories Ltd</td>\n      <td>38.65</td>\n      <td>2.95</td>\n      <td>8.26</td>\n    </tr>\n    <tr>\n      <th>26</th>\n      <td>IFB Industries Ltd</td>\n      <td>927.00</td>\n      <td>70.40</td>\n      <td>8.22</td>\n    </tr>\n    <tr>\n      <th>27</th>\n      <td>Windlas Biotech Ltd</td>\n      <td>410.05</td>\n      <td>30.80</td>\n      <td>8.12</td>\n    </tr>\n    <tr>\n      <th>28</th>\n      <td>Mahalaxmi Rubtech Ltd</td>\n      <td>233.00</td>\n      <td>17.35</td>\n      <td>8.05</td>\n    </tr>\n    <tr>\n      <th>29</th>\n      <td>NINtec Systems Ltd</td>\n      <td>416.35</td>\n      <td>30.25</td>\n      <td>7.83</td>\n    </tr>\n    <tr>\n      <th>30</th>\n      <td>Jindal Poly Investment &amp; Finance Co Ltd</td>\n      <td>699.70</td>\n      <td>50.50</td>\n      <td>7.78</td>\n    </tr>\n    <tr>\n      <th>31</th>\n      <td>Focus Lighting and Fixtures Ltd</td>\n      <td>186.40</td>\n      <td>13.30</td>\n      <td>7.68</td>\n    </tr>\n    <tr>\n      <th>32</th>\n      <td>Welspun Enterprises Ltd</td>\n      <td>310.00</td>\n      <td>22.05</td>\n      <td>7.66</td>\n    </tr>\n    <tr>\n      <th>33</th>\n      <td>Nectar Lifesciences Ltd</td>\n      <td>25.65</td>\n      <td>1.75</td>\n      <td>7.32</td>\n    </tr>\n    <tr>\n      <th>34</th>\n      <td>Race Eco Chain Ltd</td>\n      <td>278.50</td>\n      <td>18.85</td>\n      <td>7.26</td>\n    </tr>\n    <tr>\n      <th>35</th>\n      <td>Weizmann Limited</td>\n      <td>145.35</td>\n      <td>9.75</td>\n      <td>7.19</td>\n    </tr>\n    <tr>\n      <th>36</th>\n      <td>Ujaas Energy Ltd</td>\n      <td>2.25</td>\n      <td>0.15</td>\n      <td>7.14</td>\n    </tr>\n    <tr>\n      <th>37</th>\n      <td>AGS Transact Technologies Limited</td>\n      <td>65.85</td>\n      <td>4.35</td>\n      <td>7.07</td>\n    </tr>\n    <tr>\n      <th>38</th>\n      <td>Jubilant Industries Ltd</td>\n      <td>620.00</td>\n      <td>40.15</td>\n      <td>6.92</td>\n    </tr>\n    <tr>\n      <th>39</th>\n      <td>Vijaya Diagnostic Centre Ltd</td>\n      <td>631.50</td>\n      <td>40.60</td>\n      <td>6.87</td>\n    </tr>\n    <tr>\n      <th>40</th>\n      <td>Network18 Media &amp; Investments Ltd</td>\n      <td>76.85</td>\n      <td>4.90</td>\n      <td>6.81</td>\n    </tr>\n    <tr>\n      <th>41</th>\n      <td>Action Construction Equipment Ltd</td>\n      <td>861.50</td>\n      <td>54.25</td>\n      <td>6.72</td>\n    </tr>\n    <tr>\n      <th>42</th>\n      <td>Future Enterprises Ltd</td>\n      <td>0.80</td>\n      <td>0.05</td>\n      <td>6.67</td>\n    </tr>\n    <tr>\n      <th>43</th>\n      <td>Engineers India Ltd</td>\n      <td>137.35</td>\n      <td>8.10</td>\n      <td>6.27</td>\n    </tr>\n    <tr>\n      <th>44</th>\n      <td>Future Consumer Ltd</td>\n      <td>0.85</td>\n      <td>0.05</td>\n      <td>6.25</td>\n    </tr>\n    <tr>\n      <th>45</th>\n      <td>Alankit Ltd</td>\n      <td>12.75</td>\n      <td>0.75</td>\n      <td>6.25</td>\n    </tr>\n    <tr>\n      <th>46</th>\n      <td>CSL Finance Ltd</td>\n      <td>378.00</td>\n      <td>21.85</td>\n      <td>6.14</td>\n    </tr>\n    <tr>\n      <th>47</th>\n      <td>Aptus Value Housing Finance India Ltd</td>\n      <td>303.20</td>\n      <td>17.10</td>\n      <td>5.98</td>\n    </tr>\n    <tr>\n      <th>48</th>\n      <td>Global Health Ltd</td>\n      <td>911.00</td>\n      <td>51.25</td>\n      <td>5.96</td>\n    </tr>\n    <tr>\n      <th>49</th>\n      <td>Fortis Healthcare Ltd</td>\n      <td>361.90</td>\n      <td>19.70</td>\n      <td>5.76</td>\n    </tr>\n  </tbody>\n</table>\n</div>"
     },
     "execution_count": 67,
     "metadata": {},
     "output_type": "execute_result"
    }
   ],
   "source": [
    "gainer"
   ],
   "metadata": {
    "collapsed": false,
    "pycharm": {
     "name": "#%%\n"
    }
   }
  },
  {
   "cell_type": "code",
   "execution_count": 68,
   "outputs": [
    {
     "data": {
      "text/plain": "0       83.00\n1       30.05\n2      874.25\n3      152.25\n4      455.00\n5     1100.00\n6      648.90\n7      326.00\n8      758.80\n9       29.50\n10    1197.25\n11      86.65\n12      22.55\n13    1057.20\n14     683.75\n15     649.10\n16     817.15\n17     117.95\n18       0.60\n19    1205.00\n20      15.70\n21     139.00\n22     826.00\n23     266.50\n24     603.00\n25      38.65\n26     927.00\n27     410.05\n28     233.00\n29     416.35\n30     699.70\n31     186.40\n32     310.00\n33      25.65\n34     278.50\n35     145.35\n36       2.25\n37      65.85\n38     620.00\n39     631.50\n40      76.85\n41     861.50\n42       0.80\n43     137.35\n44       0.85\n45      12.75\n46     378.00\n47     303.20\n48     911.00\n49     361.90\nName: price, dtype: float64"
     },
     "execution_count": 68,
     "metadata": {},
     "output_type": "execute_result"
    }
   ],
   "source": [
    "b"
   ],
   "metadata": {
    "collapsed": false,
    "pycharm": {
     "name": "#%%\n"
    }
   }
  },
  {
   "cell_type": "code",
   "execution_count": 69,
   "outputs": [],
   "source": [
    "df_gain=gainer.copy()"
   ],
   "metadata": {
    "collapsed": false,
    "pycharm": {
     "name": "#%%\n"
    }
   }
  },
  {
   "cell_type": "code",
   "execution_count": 70,
   "outputs": [
    {
     "data": {
      "text/plain": "                                       name    price  increase  pseincre\n0                          M K Proteins Ltd    83.00     74.58    885.16\n1                     Hindcon Chemicals Ltd    30.05     24.32    424.43\n2                         Cartrade Tech Ltd   874.25    145.70     20.00\n3                Kothari Petrochemicals Ltd   152.25     20.80     15.82\n4            Antony Waste Handling Cell Ltd   455.00     52.55     13.06\n5               Sharda Motor Industries Ltd  1100.00    126.20     12.96\n6             Silver Touch Technologies Ltd   648.90     73.45     12.76\n7                       Venus Remedies Ltd.   326.00     36.45     12.59\n8                                NESCO Ltd.   758.80     82.65     12.22\n9                       Centrum Capital Ltd    29.50      2.95     11.11\n10  Johnson Controls-Htch Ar Cndtng Ind Ltd  1197.25    118.65     11.00\n11                  Tracxn Technologies Ltd    86.65      8.45     10.81\n12              India Power Corporation Ltd    22.55      2.05     10.00\n13                     KPI Green Energy Ltd  1057.20     96.10     10.00\n14                     Jindal Photo Limited   683.75     62.15     10.00\n15                    IFGL Refractories Ltd   649.10     59.00     10.00\n16                                Cupid Ltd   817.15     74.25      9.99\n17                              Modison Ltd   117.95      9.90      9.16\n18            Godha Cabcon & Insulation Ltd     0.60      0.05      9.09\n19            Caplin Point Laboratories Ltd  1205.00     98.55      8.91\n20                 Shree Rama Newsprint Ltd    15.70      1.25      8.65\n21                    Palash Securities Ltd   139.00     11.05      8.64\n22                              Carysil Ltd   826.00     64.20      8.43\n23                      PPAP Automotive Ltd   266.50     20.65      8.40\n24              Lincoln Pharmaceuticals Ltd   603.00     46.70      8.39\n25                 Morepen Laboratories Ltd    38.65      2.95      8.26\n26                       IFB Industries Ltd   927.00     70.40      8.22\n27                      Windlas Biotech Ltd   410.05     30.80      8.12\n28                    Mahalaxmi Rubtech Ltd   233.00     17.35      8.05\n29                       NINtec Systems Ltd   416.35     30.25      7.83\n30  Jindal Poly Investment & Finance Co Ltd   699.70     50.50      7.78\n31          Focus Lighting and Fixtures Ltd   186.40     13.30      7.68\n32                  Welspun Enterprises Ltd   310.00     22.05      7.66\n33                  Nectar Lifesciences Ltd    25.65      1.75      7.32\n34                       Race Eco Chain Ltd   278.50     18.85      7.26\n35                         Weizmann Limited   145.35      9.75      7.19\n36                         Ujaas Energy Ltd     2.25      0.15      7.14\n37        AGS Transact Technologies Limited    65.85      4.35      7.07\n38                  Jubilant Industries Ltd   620.00     40.15      6.92\n39             Vijaya Diagnostic Centre Ltd   631.50     40.60      6.87\n40        Network18 Media & Investments Ltd    76.85      4.90      6.81\n41        Action Construction Equipment Ltd   861.50     54.25      6.72\n42                   Future Enterprises Ltd     0.80      0.05      6.67\n43                      Engineers India Ltd   137.35      8.10      6.27\n44                      Future Consumer Ltd     0.85      0.05      6.25\n45                              Alankit Ltd    12.75      0.75      6.25\n46                          CSL Finance Ltd   378.00     21.85      6.14\n47    Aptus Value Housing Finance India Ltd   303.20     17.10      5.98\n48                        Global Health Ltd   911.00     51.25      5.96\n49                    Fortis Healthcare Ltd   361.90     19.70      5.76",
      "text/html": "<div>\n<style scoped>\n    .dataframe tbody tr th:only-of-type {\n        vertical-align: middle;\n    }\n\n    .dataframe tbody tr th {\n        vertical-align: top;\n    }\n\n    .dataframe thead th {\n        text-align: right;\n    }\n</style>\n<table border=\"1\" class=\"dataframe\">\n  <thead>\n    <tr style=\"text-align: right;\">\n      <th></th>\n      <th>name</th>\n      <th>price</th>\n      <th>increase</th>\n      <th>pseincre</th>\n    </tr>\n  </thead>\n  <tbody>\n    <tr>\n      <th>0</th>\n      <td>M K Proteins Ltd</td>\n      <td>83.00</td>\n      <td>74.58</td>\n      <td>885.16</td>\n    </tr>\n    <tr>\n      <th>1</th>\n      <td>Hindcon Chemicals Ltd</td>\n      <td>30.05</td>\n      <td>24.32</td>\n      <td>424.43</td>\n    </tr>\n    <tr>\n      <th>2</th>\n      <td>Cartrade Tech Ltd</td>\n      <td>874.25</td>\n      <td>145.70</td>\n      <td>20.00</td>\n    </tr>\n    <tr>\n      <th>3</th>\n      <td>Kothari Petrochemicals Ltd</td>\n      <td>152.25</td>\n      <td>20.80</td>\n      <td>15.82</td>\n    </tr>\n    <tr>\n      <th>4</th>\n      <td>Antony Waste Handling Cell Ltd</td>\n      <td>455.00</td>\n      <td>52.55</td>\n      <td>13.06</td>\n    </tr>\n    <tr>\n      <th>5</th>\n      <td>Sharda Motor Industries Ltd</td>\n      <td>1100.00</td>\n      <td>126.20</td>\n      <td>12.96</td>\n    </tr>\n    <tr>\n      <th>6</th>\n      <td>Silver Touch Technologies Ltd</td>\n      <td>648.90</td>\n      <td>73.45</td>\n      <td>12.76</td>\n    </tr>\n    <tr>\n      <th>7</th>\n      <td>Venus Remedies Ltd.</td>\n      <td>326.00</td>\n      <td>36.45</td>\n      <td>12.59</td>\n    </tr>\n    <tr>\n      <th>8</th>\n      <td>NESCO Ltd.</td>\n      <td>758.80</td>\n      <td>82.65</td>\n      <td>12.22</td>\n    </tr>\n    <tr>\n      <th>9</th>\n      <td>Centrum Capital Ltd</td>\n      <td>29.50</td>\n      <td>2.95</td>\n      <td>11.11</td>\n    </tr>\n    <tr>\n      <th>10</th>\n      <td>Johnson Controls-Htch Ar Cndtng Ind Ltd</td>\n      <td>1197.25</td>\n      <td>118.65</td>\n      <td>11.00</td>\n    </tr>\n    <tr>\n      <th>11</th>\n      <td>Tracxn Technologies Ltd</td>\n      <td>86.65</td>\n      <td>8.45</td>\n      <td>10.81</td>\n    </tr>\n    <tr>\n      <th>12</th>\n      <td>India Power Corporation Ltd</td>\n      <td>22.55</td>\n      <td>2.05</td>\n      <td>10.00</td>\n    </tr>\n    <tr>\n      <th>13</th>\n      <td>KPI Green Energy Ltd</td>\n      <td>1057.20</td>\n      <td>96.10</td>\n      <td>10.00</td>\n    </tr>\n    <tr>\n      <th>14</th>\n      <td>Jindal Photo Limited</td>\n      <td>683.75</td>\n      <td>62.15</td>\n      <td>10.00</td>\n    </tr>\n    <tr>\n      <th>15</th>\n      <td>IFGL Refractories Ltd</td>\n      <td>649.10</td>\n      <td>59.00</td>\n      <td>10.00</td>\n    </tr>\n    <tr>\n      <th>16</th>\n      <td>Cupid Ltd</td>\n      <td>817.15</td>\n      <td>74.25</td>\n      <td>9.99</td>\n    </tr>\n    <tr>\n      <th>17</th>\n      <td>Modison Ltd</td>\n      <td>117.95</td>\n      <td>9.90</td>\n      <td>9.16</td>\n    </tr>\n    <tr>\n      <th>18</th>\n      <td>Godha Cabcon &amp; Insulation Ltd</td>\n      <td>0.60</td>\n      <td>0.05</td>\n      <td>9.09</td>\n    </tr>\n    <tr>\n      <th>19</th>\n      <td>Caplin Point Laboratories Ltd</td>\n      <td>1205.00</td>\n      <td>98.55</td>\n      <td>8.91</td>\n    </tr>\n    <tr>\n      <th>20</th>\n      <td>Shree Rama Newsprint Ltd</td>\n      <td>15.70</td>\n      <td>1.25</td>\n      <td>8.65</td>\n    </tr>\n    <tr>\n      <th>21</th>\n      <td>Palash Securities Ltd</td>\n      <td>139.00</td>\n      <td>11.05</td>\n      <td>8.64</td>\n    </tr>\n    <tr>\n      <th>22</th>\n      <td>Carysil Ltd</td>\n      <td>826.00</td>\n      <td>64.20</td>\n      <td>8.43</td>\n    </tr>\n    <tr>\n      <th>23</th>\n      <td>PPAP Automotive Ltd</td>\n      <td>266.50</td>\n      <td>20.65</td>\n      <td>8.40</td>\n    </tr>\n    <tr>\n      <th>24</th>\n      <td>Lincoln Pharmaceuticals Ltd</td>\n      <td>603.00</td>\n      <td>46.70</td>\n      <td>8.39</td>\n    </tr>\n    <tr>\n      <th>25</th>\n      <td>Morepen Laboratories Ltd</td>\n      <td>38.65</td>\n      <td>2.95</td>\n      <td>8.26</td>\n    </tr>\n    <tr>\n      <th>26</th>\n      <td>IFB Industries Ltd</td>\n      <td>927.00</td>\n      <td>70.40</td>\n      <td>8.22</td>\n    </tr>\n    <tr>\n      <th>27</th>\n      <td>Windlas Biotech Ltd</td>\n      <td>410.05</td>\n      <td>30.80</td>\n      <td>8.12</td>\n    </tr>\n    <tr>\n      <th>28</th>\n      <td>Mahalaxmi Rubtech Ltd</td>\n      <td>233.00</td>\n      <td>17.35</td>\n      <td>8.05</td>\n    </tr>\n    <tr>\n      <th>29</th>\n      <td>NINtec Systems Ltd</td>\n      <td>416.35</td>\n      <td>30.25</td>\n      <td>7.83</td>\n    </tr>\n    <tr>\n      <th>30</th>\n      <td>Jindal Poly Investment &amp; Finance Co Ltd</td>\n      <td>699.70</td>\n      <td>50.50</td>\n      <td>7.78</td>\n    </tr>\n    <tr>\n      <th>31</th>\n      <td>Focus Lighting and Fixtures Ltd</td>\n      <td>186.40</td>\n      <td>13.30</td>\n      <td>7.68</td>\n    </tr>\n    <tr>\n      <th>32</th>\n      <td>Welspun Enterprises Ltd</td>\n      <td>310.00</td>\n      <td>22.05</td>\n      <td>7.66</td>\n    </tr>\n    <tr>\n      <th>33</th>\n      <td>Nectar Lifesciences Ltd</td>\n      <td>25.65</td>\n      <td>1.75</td>\n      <td>7.32</td>\n    </tr>\n    <tr>\n      <th>34</th>\n      <td>Race Eco Chain Ltd</td>\n      <td>278.50</td>\n      <td>18.85</td>\n      <td>7.26</td>\n    </tr>\n    <tr>\n      <th>35</th>\n      <td>Weizmann Limited</td>\n      <td>145.35</td>\n      <td>9.75</td>\n      <td>7.19</td>\n    </tr>\n    <tr>\n      <th>36</th>\n      <td>Ujaas Energy Ltd</td>\n      <td>2.25</td>\n      <td>0.15</td>\n      <td>7.14</td>\n    </tr>\n    <tr>\n      <th>37</th>\n      <td>AGS Transact Technologies Limited</td>\n      <td>65.85</td>\n      <td>4.35</td>\n      <td>7.07</td>\n    </tr>\n    <tr>\n      <th>38</th>\n      <td>Jubilant Industries Ltd</td>\n      <td>620.00</td>\n      <td>40.15</td>\n      <td>6.92</td>\n    </tr>\n    <tr>\n      <th>39</th>\n      <td>Vijaya Diagnostic Centre Ltd</td>\n      <td>631.50</td>\n      <td>40.60</td>\n      <td>6.87</td>\n    </tr>\n    <tr>\n      <th>40</th>\n      <td>Network18 Media &amp; Investments Ltd</td>\n      <td>76.85</td>\n      <td>4.90</td>\n      <td>6.81</td>\n    </tr>\n    <tr>\n      <th>41</th>\n      <td>Action Construction Equipment Ltd</td>\n      <td>861.50</td>\n      <td>54.25</td>\n      <td>6.72</td>\n    </tr>\n    <tr>\n      <th>42</th>\n      <td>Future Enterprises Ltd</td>\n      <td>0.80</td>\n      <td>0.05</td>\n      <td>6.67</td>\n    </tr>\n    <tr>\n      <th>43</th>\n      <td>Engineers India Ltd</td>\n      <td>137.35</td>\n      <td>8.10</td>\n      <td>6.27</td>\n    </tr>\n    <tr>\n      <th>44</th>\n      <td>Future Consumer Ltd</td>\n      <td>0.85</td>\n      <td>0.05</td>\n      <td>6.25</td>\n    </tr>\n    <tr>\n      <th>45</th>\n      <td>Alankit Ltd</td>\n      <td>12.75</td>\n      <td>0.75</td>\n      <td>6.25</td>\n    </tr>\n    <tr>\n      <th>46</th>\n      <td>CSL Finance Ltd</td>\n      <td>378.00</td>\n      <td>21.85</td>\n      <td>6.14</td>\n    </tr>\n    <tr>\n      <th>47</th>\n      <td>Aptus Value Housing Finance India Ltd</td>\n      <td>303.20</td>\n      <td>17.10</td>\n      <td>5.98</td>\n    </tr>\n    <tr>\n      <th>48</th>\n      <td>Global Health Ltd</td>\n      <td>911.00</td>\n      <td>51.25</td>\n      <td>5.96</td>\n    </tr>\n    <tr>\n      <th>49</th>\n      <td>Fortis Healthcare Ltd</td>\n      <td>361.90</td>\n      <td>19.70</td>\n      <td>5.76</td>\n    </tr>\n  </tbody>\n</table>\n</div>"
     },
     "execution_count": 70,
     "metadata": {},
     "output_type": "execute_result"
    }
   ],
   "source": [
    "df_gain"
   ],
   "metadata": {
    "collapsed": false,
    "pycharm": {
     "name": "#%%\n"
    }
   }
  },
  {
   "cell_type": "code",
   "execution_count": 77,
   "outputs": [],
   "source": [
    "gainer=gainer.sort_values(\"increase\")"
   ],
   "metadata": {
    "collapsed": false,
    "pycharm": {
     "name": "#%%\n"
    }
   }
  },
  {
   "cell_type": "code",
   "execution_count": 81,
   "outputs": [],
   "source": [
    "gainer.sort_values(\"price\",ascending=False,inplace=True)"
   ],
   "metadata": {
    "collapsed": false,
    "pycharm": {
     "name": "#%%\n"
    }
   }
  },
  {
   "cell_type": "code",
   "execution_count": 82,
   "outputs": [
    {
     "data": {
      "text/plain": "                                       name    price  increase  pseincre\n19            Caplin Point Laboratories Ltd  1205.00     98.55      8.91\n10  Johnson Controls-Htch Ar Cndtng Ind Ltd  1197.25    118.65     11.00\n5               Sharda Motor Industries Ltd  1100.00    126.20     12.96\n13                     KPI Green Energy Ltd  1057.20     96.10     10.00\n26                       IFB Industries Ltd   927.00     70.40      8.22\n48                        Global Health Ltd   911.00     51.25      5.96\n2                         Cartrade Tech Ltd   874.25    145.70     20.00\n41        Action Construction Equipment Ltd   861.50     54.25      6.72\n22                              Carysil Ltd   826.00     64.20      8.43\n16                                Cupid Ltd   817.15     74.25      9.99\n8                                NESCO Ltd.   758.80     82.65     12.22\n30  Jindal Poly Investment & Finance Co Ltd   699.70     50.50      7.78\n14                     Jindal Photo Limited   683.75     62.15     10.00\n15                    IFGL Refractories Ltd   649.10     59.00     10.00\n6             Silver Touch Technologies Ltd   648.90     73.45     12.76\n39             Vijaya Diagnostic Centre Ltd   631.50     40.60      6.87\n38                  Jubilant Industries Ltd   620.00     40.15      6.92\n24              Lincoln Pharmaceuticals Ltd   603.00     46.70      8.39\n4            Antony Waste Handling Cell Ltd   455.00     52.55     13.06\n29                       NINtec Systems Ltd   416.35     30.25      7.83\n27                      Windlas Biotech Ltd   410.05     30.80      8.12\n46                          CSL Finance Ltd   378.00     21.85      6.14\n49                    Fortis Healthcare Ltd   361.90     19.70      5.76\n7                       Venus Remedies Ltd.   326.00     36.45     12.59\n32                  Welspun Enterprises Ltd   310.00     22.05      7.66\n47    Aptus Value Housing Finance India Ltd   303.20     17.10      5.98\n34                       Race Eco Chain Ltd   278.50     18.85      7.26\n23                      PPAP Automotive Ltd   266.50     20.65      8.40\n28                    Mahalaxmi Rubtech Ltd   233.00     17.35      8.05\n31          Focus Lighting and Fixtures Ltd   186.40     13.30      7.68\n3                Kothari Petrochemicals Ltd   152.25     20.80     15.82\n35                         Weizmann Limited   145.35      9.75      7.19\n21                    Palash Securities Ltd   139.00     11.05      8.64\n43                      Engineers India Ltd   137.35      8.10      6.27\n17                              Modison Ltd   117.95      9.90      9.16\n11                  Tracxn Technologies Ltd    86.65      8.45     10.81\n0                          M K Proteins Ltd    83.00     74.58    885.16\n40        Network18 Media & Investments Ltd    76.85      4.90      6.81\n37        AGS Transact Technologies Limited    65.85      4.35      7.07\n25                 Morepen Laboratories Ltd    38.65      2.95      8.26\n1                     Hindcon Chemicals Ltd    30.05     24.32    424.43\n9                       Centrum Capital Ltd    29.50      2.95     11.11\n33                  Nectar Lifesciences Ltd    25.65      1.75      7.32\n12              India Power Corporation Ltd    22.55      2.05     10.00\n20                 Shree Rama Newsprint Ltd    15.70      1.25      8.65\n45                              Alankit Ltd    12.75      0.75      6.25\n36                         Ujaas Energy Ltd     2.25      0.15      7.14\n44                      Future Consumer Ltd     0.85      0.05      6.25\n42                   Future Enterprises Ltd     0.80      0.05      6.67\n18            Godha Cabcon & Insulation Ltd     0.60      0.05      9.09",
      "text/html": "<div>\n<style scoped>\n    .dataframe tbody tr th:only-of-type {\n        vertical-align: middle;\n    }\n\n    .dataframe tbody tr th {\n        vertical-align: top;\n    }\n\n    .dataframe thead th {\n        text-align: right;\n    }\n</style>\n<table border=\"1\" class=\"dataframe\">\n  <thead>\n    <tr style=\"text-align: right;\">\n      <th></th>\n      <th>name</th>\n      <th>price</th>\n      <th>increase</th>\n      <th>pseincre</th>\n    </tr>\n  </thead>\n  <tbody>\n    <tr>\n      <th>19</th>\n      <td>Caplin Point Laboratories Ltd</td>\n      <td>1205.00</td>\n      <td>98.55</td>\n      <td>8.91</td>\n    </tr>\n    <tr>\n      <th>10</th>\n      <td>Johnson Controls-Htch Ar Cndtng Ind Ltd</td>\n      <td>1197.25</td>\n      <td>118.65</td>\n      <td>11.00</td>\n    </tr>\n    <tr>\n      <th>5</th>\n      <td>Sharda Motor Industries Ltd</td>\n      <td>1100.00</td>\n      <td>126.20</td>\n      <td>12.96</td>\n    </tr>\n    <tr>\n      <th>13</th>\n      <td>KPI Green Energy Ltd</td>\n      <td>1057.20</td>\n      <td>96.10</td>\n      <td>10.00</td>\n    </tr>\n    <tr>\n      <th>26</th>\n      <td>IFB Industries Ltd</td>\n      <td>927.00</td>\n      <td>70.40</td>\n      <td>8.22</td>\n    </tr>\n    <tr>\n      <th>48</th>\n      <td>Global Health Ltd</td>\n      <td>911.00</td>\n      <td>51.25</td>\n      <td>5.96</td>\n    </tr>\n    <tr>\n      <th>2</th>\n      <td>Cartrade Tech Ltd</td>\n      <td>874.25</td>\n      <td>145.70</td>\n      <td>20.00</td>\n    </tr>\n    <tr>\n      <th>41</th>\n      <td>Action Construction Equipment Ltd</td>\n      <td>861.50</td>\n      <td>54.25</td>\n      <td>6.72</td>\n    </tr>\n    <tr>\n      <th>22</th>\n      <td>Carysil Ltd</td>\n      <td>826.00</td>\n      <td>64.20</td>\n      <td>8.43</td>\n    </tr>\n    <tr>\n      <th>16</th>\n      <td>Cupid Ltd</td>\n      <td>817.15</td>\n      <td>74.25</td>\n      <td>9.99</td>\n    </tr>\n    <tr>\n      <th>8</th>\n      <td>NESCO Ltd.</td>\n      <td>758.80</td>\n      <td>82.65</td>\n      <td>12.22</td>\n    </tr>\n    <tr>\n      <th>30</th>\n      <td>Jindal Poly Investment &amp; Finance Co Ltd</td>\n      <td>699.70</td>\n      <td>50.50</td>\n      <td>7.78</td>\n    </tr>\n    <tr>\n      <th>14</th>\n      <td>Jindal Photo Limited</td>\n      <td>683.75</td>\n      <td>62.15</td>\n      <td>10.00</td>\n    </tr>\n    <tr>\n      <th>15</th>\n      <td>IFGL Refractories Ltd</td>\n      <td>649.10</td>\n      <td>59.00</td>\n      <td>10.00</td>\n    </tr>\n    <tr>\n      <th>6</th>\n      <td>Silver Touch Technologies Ltd</td>\n      <td>648.90</td>\n      <td>73.45</td>\n      <td>12.76</td>\n    </tr>\n    <tr>\n      <th>39</th>\n      <td>Vijaya Diagnostic Centre Ltd</td>\n      <td>631.50</td>\n      <td>40.60</td>\n      <td>6.87</td>\n    </tr>\n    <tr>\n      <th>38</th>\n      <td>Jubilant Industries Ltd</td>\n      <td>620.00</td>\n      <td>40.15</td>\n      <td>6.92</td>\n    </tr>\n    <tr>\n      <th>24</th>\n      <td>Lincoln Pharmaceuticals Ltd</td>\n      <td>603.00</td>\n      <td>46.70</td>\n      <td>8.39</td>\n    </tr>\n    <tr>\n      <th>4</th>\n      <td>Antony Waste Handling Cell Ltd</td>\n      <td>455.00</td>\n      <td>52.55</td>\n      <td>13.06</td>\n    </tr>\n    <tr>\n      <th>29</th>\n      <td>NINtec Systems Ltd</td>\n      <td>416.35</td>\n      <td>30.25</td>\n      <td>7.83</td>\n    </tr>\n    <tr>\n      <th>27</th>\n      <td>Windlas Biotech Ltd</td>\n      <td>410.05</td>\n      <td>30.80</td>\n      <td>8.12</td>\n    </tr>\n    <tr>\n      <th>46</th>\n      <td>CSL Finance Ltd</td>\n      <td>378.00</td>\n      <td>21.85</td>\n      <td>6.14</td>\n    </tr>\n    <tr>\n      <th>49</th>\n      <td>Fortis Healthcare Ltd</td>\n      <td>361.90</td>\n      <td>19.70</td>\n      <td>5.76</td>\n    </tr>\n    <tr>\n      <th>7</th>\n      <td>Venus Remedies Ltd.</td>\n      <td>326.00</td>\n      <td>36.45</td>\n      <td>12.59</td>\n    </tr>\n    <tr>\n      <th>32</th>\n      <td>Welspun Enterprises Ltd</td>\n      <td>310.00</td>\n      <td>22.05</td>\n      <td>7.66</td>\n    </tr>\n    <tr>\n      <th>47</th>\n      <td>Aptus Value Housing Finance India Ltd</td>\n      <td>303.20</td>\n      <td>17.10</td>\n      <td>5.98</td>\n    </tr>\n    <tr>\n      <th>34</th>\n      <td>Race Eco Chain Ltd</td>\n      <td>278.50</td>\n      <td>18.85</td>\n      <td>7.26</td>\n    </tr>\n    <tr>\n      <th>23</th>\n      <td>PPAP Automotive Ltd</td>\n      <td>266.50</td>\n      <td>20.65</td>\n      <td>8.40</td>\n    </tr>\n    <tr>\n      <th>28</th>\n      <td>Mahalaxmi Rubtech Ltd</td>\n      <td>233.00</td>\n      <td>17.35</td>\n      <td>8.05</td>\n    </tr>\n    <tr>\n      <th>31</th>\n      <td>Focus Lighting and Fixtures Ltd</td>\n      <td>186.40</td>\n      <td>13.30</td>\n      <td>7.68</td>\n    </tr>\n    <tr>\n      <th>3</th>\n      <td>Kothari Petrochemicals Ltd</td>\n      <td>152.25</td>\n      <td>20.80</td>\n      <td>15.82</td>\n    </tr>\n    <tr>\n      <th>35</th>\n      <td>Weizmann Limited</td>\n      <td>145.35</td>\n      <td>9.75</td>\n      <td>7.19</td>\n    </tr>\n    <tr>\n      <th>21</th>\n      <td>Palash Securities Ltd</td>\n      <td>139.00</td>\n      <td>11.05</td>\n      <td>8.64</td>\n    </tr>\n    <tr>\n      <th>43</th>\n      <td>Engineers India Ltd</td>\n      <td>137.35</td>\n      <td>8.10</td>\n      <td>6.27</td>\n    </tr>\n    <tr>\n      <th>17</th>\n      <td>Modison Ltd</td>\n      <td>117.95</td>\n      <td>9.90</td>\n      <td>9.16</td>\n    </tr>\n    <tr>\n      <th>11</th>\n      <td>Tracxn Technologies Ltd</td>\n      <td>86.65</td>\n      <td>8.45</td>\n      <td>10.81</td>\n    </tr>\n    <tr>\n      <th>0</th>\n      <td>M K Proteins Ltd</td>\n      <td>83.00</td>\n      <td>74.58</td>\n      <td>885.16</td>\n    </tr>\n    <tr>\n      <th>40</th>\n      <td>Network18 Media &amp; Investments Ltd</td>\n      <td>76.85</td>\n      <td>4.90</td>\n      <td>6.81</td>\n    </tr>\n    <tr>\n      <th>37</th>\n      <td>AGS Transact Technologies Limited</td>\n      <td>65.85</td>\n      <td>4.35</td>\n      <td>7.07</td>\n    </tr>\n    <tr>\n      <th>25</th>\n      <td>Morepen Laboratories Ltd</td>\n      <td>38.65</td>\n      <td>2.95</td>\n      <td>8.26</td>\n    </tr>\n    <tr>\n      <th>1</th>\n      <td>Hindcon Chemicals Ltd</td>\n      <td>30.05</td>\n      <td>24.32</td>\n      <td>424.43</td>\n    </tr>\n    <tr>\n      <th>9</th>\n      <td>Centrum Capital Ltd</td>\n      <td>29.50</td>\n      <td>2.95</td>\n      <td>11.11</td>\n    </tr>\n    <tr>\n      <th>33</th>\n      <td>Nectar Lifesciences Ltd</td>\n      <td>25.65</td>\n      <td>1.75</td>\n      <td>7.32</td>\n    </tr>\n    <tr>\n      <th>12</th>\n      <td>India Power Corporation Ltd</td>\n      <td>22.55</td>\n      <td>2.05</td>\n      <td>10.00</td>\n    </tr>\n    <tr>\n      <th>20</th>\n      <td>Shree Rama Newsprint Ltd</td>\n      <td>15.70</td>\n      <td>1.25</td>\n      <td>8.65</td>\n    </tr>\n    <tr>\n      <th>45</th>\n      <td>Alankit Ltd</td>\n      <td>12.75</td>\n      <td>0.75</td>\n      <td>6.25</td>\n    </tr>\n    <tr>\n      <th>36</th>\n      <td>Ujaas Energy Ltd</td>\n      <td>2.25</td>\n      <td>0.15</td>\n      <td>7.14</td>\n    </tr>\n    <tr>\n      <th>44</th>\n      <td>Future Consumer Ltd</td>\n      <td>0.85</td>\n      <td>0.05</td>\n      <td>6.25</td>\n    </tr>\n    <tr>\n      <th>42</th>\n      <td>Future Enterprises Ltd</td>\n      <td>0.80</td>\n      <td>0.05</td>\n      <td>6.67</td>\n    </tr>\n    <tr>\n      <th>18</th>\n      <td>Godha Cabcon &amp; Insulation Ltd</td>\n      <td>0.60</td>\n      <td>0.05</td>\n      <td>9.09</td>\n    </tr>\n  </tbody>\n</table>\n</div>"
     },
     "execution_count": 82,
     "metadata": {},
     "output_type": "execute_result"
    }
   ],
   "source": [
    "gainer"
   ],
   "metadata": {
    "collapsed": false,
    "pycharm": {
     "name": "#%%\n"
    }
   }
  },
  {
   "cell_type": "code",
   "execution_count": 83,
   "outputs": [],
   "source": [
    "gainer.sort_values(\"increase\",ascending=False,inplace=True)"
   ],
   "metadata": {
    "collapsed": false,
    "pycharm": {
     "name": "#%%\n"
    }
   }
  },
  {
   "cell_type": "code",
   "execution_count": 85,
   "outputs": [
    {
     "data": {
      "text/plain": "                                       name    price  increase  pseincre\n2                         Cartrade Tech Ltd   874.25    145.70     20.00\n5               Sharda Motor Industries Ltd  1100.00    126.20     12.96\n10  Johnson Controls-Htch Ar Cndtng Ind Ltd  1197.25    118.65     11.00\n19            Caplin Point Laboratories Ltd  1205.00     98.55      8.91\n13                     KPI Green Energy Ltd  1057.20     96.10     10.00\n8                                NESCO Ltd.   758.80     82.65     12.22\n0                          M K Proteins Ltd    83.00     74.58    885.16\n16                                Cupid Ltd   817.15     74.25      9.99\n6             Silver Touch Technologies Ltd   648.90     73.45     12.76\n26                       IFB Industries Ltd   927.00     70.40      8.22\n22                              Carysil Ltd   826.00     64.20      8.43\n14                     Jindal Photo Limited   683.75     62.15     10.00\n15                    IFGL Refractories Ltd   649.10     59.00     10.00\n41        Action Construction Equipment Ltd   861.50     54.25      6.72\n4            Antony Waste Handling Cell Ltd   455.00     52.55     13.06\n48                        Global Health Ltd   911.00     51.25      5.96\n30  Jindal Poly Investment & Finance Co Ltd   699.70     50.50      7.78\n24              Lincoln Pharmaceuticals Ltd   603.00     46.70      8.39\n39             Vijaya Diagnostic Centre Ltd   631.50     40.60      6.87\n38                  Jubilant Industries Ltd   620.00     40.15      6.92\n7                       Venus Remedies Ltd.   326.00     36.45     12.59\n27                      Windlas Biotech Ltd   410.05     30.80      8.12\n29                       NINtec Systems Ltd   416.35     30.25      7.83\n1                     Hindcon Chemicals Ltd    30.05     24.32    424.43\n32                  Welspun Enterprises Ltd   310.00     22.05      7.66\n46                          CSL Finance Ltd   378.00     21.85      6.14\n3                Kothari Petrochemicals Ltd   152.25     20.80     15.82\n23                      PPAP Automotive Ltd   266.50     20.65      8.40\n49                    Fortis Healthcare Ltd   361.90     19.70      5.76\n34                       Race Eco Chain Ltd   278.50     18.85      7.26\n28                    Mahalaxmi Rubtech Ltd   233.00     17.35      8.05\n47    Aptus Value Housing Finance India Ltd   303.20     17.10      5.98\n31          Focus Lighting and Fixtures Ltd   186.40     13.30      7.68\n21                    Palash Securities Ltd   139.00     11.05      8.64\n17                              Modison Ltd   117.95      9.90      9.16\n35                         Weizmann Limited   145.35      9.75      7.19\n11                  Tracxn Technologies Ltd    86.65      8.45     10.81\n43                      Engineers India Ltd   137.35      8.10      6.27\n40        Network18 Media & Investments Ltd    76.85      4.90      6.81\n37        AGS Transact Technologies Limited    65.85      4.35      7.07\n9                       Centrum Capital Ltd    29.50      2.95     11.11\n25                 Morepen Laboratories Ltd    38.65      2.95      8.26\n12              India Power Corporation Ltd    22.55      2.05     10.00\n33                  Nectar Lifesciences Ltd    25.65      1.75      7.32\n20                 Shree Rama Newsprint Ltd    15.70      1.25      8.65\n45                              Alankit Ltd    12.75      0.75      6.25\n36                         Ujaas Energy Ltd     2.25      0.15      7.14\n44                      Future Consumer Ltd     0.85      0.05      6.25\n42                   Future Enterprises Ltd     0.80      0.05      6.67\n18            Godha Cabcon & Insulation Ltd     0.60      0.05      9.09",
      "text/html": "<div>\n<style scoped>\n    .dataframe tbody tr th:only-of-type {\n        vertical-align: middle;\n    }\n\n    .dataframe tbody tr th {\n        vertical-align: top;\n    }\n\n    .dataframe thead th {\n        text-align: right;\n    }\n</style>\n<table border=\"1\" class=\"dataframe\">\n  <thead>\n    <tr style=\"text-align: right;\">\n      <th></th>\n      <th>name</th>\n      <th>price</th>\n      <th>increase</th>\n      <th>pseincre</th>\n    </tr>\n  </thead>\n  <tbody>\n    <tr>\n      <th>2</th>\n      <td>Cartrade Tech Ltd</td>\n      <td>874.25</td>\n      <td>145.70</td>\n      <td>20.00</td>\n    </tr>\n    <tr>\n      <th>5</th>\n      <td>Sharda Motor Industries Ltd</td>\n      <td>1100.00</td>\n      <td>126.20</td>\n      <td>12.96</td>\n    </tr>\n    <tr>\n      <th>10</th>\n      <td>Johnson Controls-Htch Ar Cndtng Ind Ltd</td>\n      <td>1197.25</td>\n      <td>118.65</td>\n      <td>11.00</td>\n    </tr>\n    <tr>\n      <th>19</th>\n      <td>Caplin Point Laboratories Ltd</td>\n      <td>1205.00</td>\n      <td>98.55</td>\n      <td>8.91</td>\n    </tr>\n    <tr>\n      <th>13</th>\n      <td>KPI Green Energy Ltd</td>\n      <td>1057.20</td>\n      <td>96.10</td>\n      <td>10.00</td>\n    </tr>\n    <tr>\n      <th>8</th>\n      <td>NESCO Ltd.</td>\n      <td>758.80</td>\n      <td>82.65</td>\n      <td>12.22</td>\n    </tr>\n    <tr>\n      <th>0</th>\n      <td>M K Proteins Ltd</td>\n      <td>83.00</td>\n      <td>74.58</td>\n      <td>885.16</td>\n    </tr>\n    <tr>\n      <th>16</th>\n      <td>Cupid Ltd</td>\n      <td>817.15</td>\n      <td>74.25</td>\n      <td>9.99</td>\n    </tr>\n    <tr>\n      <th>6</th>\n      <td>Silver Touch Technologies Ltd</td>\n      <td>648.90</td>\n      <td>73.45</td>\n      <td>12.76</td>\n    </tr>\n    <tr>\n      <th>26</th>\n      <td>IFB Industries Ltd</td>\n      <td>927.00</td>\n      <td>70.40</td>\n      <td>8.22</td>\n    </tr>\n    <tr>\n      <th>22</th>\n      <td>Carysil Ltd</td>\n      <td>826.00</td>\n      <td>64.20</td>\n      <td>8.43</td>\n    </tr>\n    <tr>\n      <th>14</th>\n      <td>Jindal Photo Limited</td>\n      <td>683.75</td>\n      <td>62.15</td>\n      <td>10.00</td>\n    </tr>\n    <tr>\n      <th>15</th>\n      <td>IFGL Refractories Ltd</td>\n      <td>649.10</td>\n      <td>59.00</td>\n      <td>10.00</td>\n    </tr>\n    <tr>\n      <th>41</th>\n      <td>Action Construction Equipment Ltd</td>\n      <td>861.50</td>\n      <td>54.25</td>\n      <td>6.72</td>\n    </tr>\n    <tr>\n      <th>4</th>\n      <td>Antony Waste Handling Cell Ltd</td>\n      <td>455.00</td>\n      <td>52.55</td>\n      <td>13.06</td>\n    </tr>\n    <tr>\n      <th>48</th>\n      <td>Global Health Ltd</td>\n      <td>911.00</td>\n      <td>51.25</td>\n      <td>5.96</td>\n    </tr>\n    <tr>\n      <th>30</th>\n      <td>Jindal Poly Investment &amp; Finance Co Ltd</td>\n      <td>699.70</td>\n      <td>50.50</td>\n      <td>7.78</td>\n    </tr>\n    <tr>\n      <th>24</th>\n      <td>Lincoln Pharmaceuticals Ltd</td>\n      <td>603.00</td>\n      <td>46.70</td>\n      <td>8.39</td>\n    </tr>\n    <tr>\n      <th>39</th>\n      <td>Vijaya Diagnostic Centre Ltd</td>\n      <td>631.50</td>\n      <td>40.60</td>\n      <td>6.87</td>\n    </tr>\n    <tr>\n      <th>38</th>\n      <td>Jubilant Industries Ltd</td>\n      <td>620.00</td>\n      <td>40.15</td>\n      <td>6.92</td>\n    </tr>\n    <tr>\n      <th>7</th>\n      <td>Venus Remedies Ltd.</td>\n      <td>326.00</td>\n      <td>36.45</td>\n      <td>12.59</td>\n    </tr>\n    <tr>\n      <th>27</th>\n      <td>Windlas Biotech Ltd</td>\n      <td>410.05</td>\n      <td>30.80</td>\n      <td>8.12</td>\n    </tr>\n    <tr>\n      <th>29</th>\n      <td>NINtec Systems Ltd</td>\n      <td>416.35</td>\n      <td>30.25</td>\n      <td>7.83</td>\n    </tr>\n    <tr>\n      <th>1</th>\n      <td>Hindcon Chemicals Ltd</td>\n      <td>30.05</td>\n      <td>24.32</td>\n      <td>424.43</td>\n    </tr>\n    <tr>\n      <th>32</th>\n      <td>Welspun Enterprises Ltd</td>\n      <td>310.00</td>\n      <td>22.05</td>\n      <td>7.66</td>\n    </tr>\n    <tr>\n      <th>46</th>\n      <td>CSL Finance Ltd</td>\n      <td>378.00</td>\n      <td>21.85</td>\n      <td>6.14</td>\n    </tr>\n    <tr>\n      <th>3</th>\n      <td>Kothari Petrochemicals Ltd</td>\n      <td>152.25</td>\n      <td>20.80</td>\n      <td>15.82</td>\n    </tr>\n    <tr>\n      <th>23</th>\n      <td>PPAP Automotive Ltd</td>\n      <td>266.50</td>\n      <td>20.65</td>\n      <td>8.40</td>\n    </tr>\n    <tr>\n      <th>49</th>\n      <td>Fortis Healthcare Ltd</td>\n      <td>361.90</td>\n      <td>19.70</td>\n      <td>5.76</td>\n    </tr>\n    <tr>\n      <th>34</th>\n      <td>Race Eco Chain Ltd</td>\n      <td>278.50</td>\n      <td>18.85</td>\n      <td>7.26</td>\n    </tr>\n    <tr>\n      <th>28</th>\n      <td>Mahalaxmi Rubtech Ltd</td>\n      <td>233.00</td>\n      <td>17.35</td>\n      <td>8.05</td>\n    </tr>\n    <tr>\n      <th>47</th>\n      <td>Aptus Value Housing Finance India Ltd</td>\n      <td>303.20</td>\n      <td>17.10</td>\n      <td>5.98</td>\n    </tr>\n    <tr>\n      <th>31</th>\n      <td>Focus Lighting and Fixtures Ltd</td>\n      <td>186.40</td>\n      <td>13.30</td>\n      <td>7.68</td>\n    </tr>\n    <tr>\n      <th>21</th>\n      <td>Palash Securities Ltd</td>\n      <td>139.00</td>\n      <td>11.05</td>\n      <td>8.64</td>\n    </tr>\n    <tr>\n      <th>17</th>\n      <td>Modison Ltd</td>\n      <td>117.95</td>\n      <td>9.90</td>\n      <td>9.16</td>\n    </tr>\n    <tr>\n      <th>35</th>\n      <td>Weizmann Limited</td>\n      <td>145.35</td>\n      <td>9.75</td>\n      <td>7.19</td>\n    </tr>\n    <tr>\n      <th>11</th>\n      <td>Tracxn Technologies Ltd</td>\n      <td>86.65</td>\n      <td>8.45</td>\n      <td>10.81</td>\n    </tr>\n    <tr>\n      <th>43</th>\n      <td>Engineers India Ltd</td>\n      <td>137.35</td>\n      <td>8.10</td>\n      <td>6.27</td>\n    </tr>\n    <tr>\n      <th>40</th>\n      <td>Network18 Media &amp; Investments Ltd</td>\n      <td>76.85</td>\n      <td>4.90</td>\n      <td>6.81</td>\n    </tr>\n    <tr>\n      <th>37</th>\n      <td>AGS Transact Technologies Limited</td>\n      <td>65.85</td>\n      <td>4.35</td>\n      <td>7.07</td>\n    </tr>\n    <tr>\n      <th>9</th>\n      <td>Centrum Capital Ltd</td>\n      <td>29.50</td>\n      <td>2.95</td>\n      <td>11.11</td>\n    </tr>\n    <tr>\n      <th>25</th>\n      <td>Morepen Laboratories Ltd</td>\n      <td>38.65</td>\n      <td>2.95</td>\n      <td>8.26</td>\n    </tr>\n    <tr>\n      <th>12</th>\n      <td>India Power Corporation Ltd</td>\n      <td>22.55</td>\n      <td>2.05</td>\n      <td>10.00</td>\n    </tr>\n    <tr>\n      <th>33</th>\n      <td>Nectar Lifesciences Ltd</td>\n      <td>25.65</td>\n      <td>1.75</td>\n      <td>7.32</td>\n    </tr>\n    <tr>\n      <th>20</th>\n      <td>Shree Rama Newsprint Ltd</td>\n      <td>15.70</td>\n      <td>1.25</td>\n      <td>8.65</td>\n    </tr>\n    <tr>\n      <th>45</th>\n      <td>Alankit Ltd</td>\n      <td>12.75</td>\n      <td>0.75</td>\n      <td>6.25</td>\n    </tr>\n    <tr>\n      <th>36</th>\n      <td>Ujaas Energy Ltd</td>\n      <td>2.25</td>\n      <td>0.15</td>\n      <td>7.14</td>\n    </tr>\n    <tr>\n      <th>44</th>\n      <td>Future Consumer Ltd</td>\n      <td>0.85</td>\n      <td>0.05</td>\n      <td>6.25</td>\n    </tr>\n    <tr>\n      <th>42</th>\n      <td>Future Enterprises Ltd</td>\n      <td>0.80</td>\n      <td>0.05</td>\n      <td>6.67</td>\n    </tr>\n    <tr>\n      <th>18</th>\n      <td>Godha Cabcon &amp; Insulation Ltd</td>\n      <td>0.60</td>\n      <td>0.05</td>\n      <td>9.09</td>\n    </tr>\n  </tbody>\n</table>\n</div>"
     },
     "execution_count": 85,
     "metadata": {},
     "output_type": "execute_result"
    }
   ],
   "source": [
    "gainer"
   ],
   "metadata": {
    "collapsed": false,
    "pycharm": {
     "name": "#%%\n"
    }
   }
  },
  {
   "cell_type": "code",
   "execution_count": null,
   "outputs": [],
   "source": [
    "def ipratio(n,):\n",
    "    return"
   ],
   "metadata": {
    "collapsed": false,
    "pycharm": {
     "name": "#%%\n"
    }
   }
  },
  {
   "cell_type": "code",
   "execution_count": 86,
   "outputs": [],
   "source": [
    "test=gainer[[\"price\",\"increase\"]]"
   ],
   "metadata": {
    "collapsed": false,
    "pycharm": {
     "name": "#%%\n"
    }
   }
  },
  {
   "cell_type": "code",
   "execution_count": 87,
   "outputs": [
    {
     "data": {
      "text/plain": "      price  increase\n2    874.25    145.70\n5   1100.00    126.20\n10  1197.25    118.65\n19  1205.00     98.55\n13  1057.20     96.10\n8    758.80     82.65\n0     83.00     74.58\n16   817.15     74.25\n6    648.90     73.45\n26   927.00     70.40\n22   826.00     64.20\n14   683.75     62.15\n15   649.10     59.00\n41   861.50     54.25\n4    455.00     52.55\n48   911.00     51.25\n30   699.70     50.50\n24   603.00     46.70\n39   631.50     40.60\n38   620.00     40.15\n7    326.00     36.45\n27   410.05     30.80\n29   416.35     30.25\n1     30.05     24.32\n32   310.00     22.05\n46   378.00     21.85\n3    152.25     20.80\n23   266.50     20.65\n49   361.90     19.70\n34   278.50     18.85\n28   233.00     17.35\n47   303.20     17.10\n31   186.40     13.30\n21   139.00     11.05\n17   117.95      9.90\n35   145.35      9.75\n11    86.65      8.45\n43   137.35      8.10\n40    76.85      4.90\n37    65.85      4.35\n9     29.50      2.95\n25    38.65      2.95\n12    22.55      2.05\n33    25.65      1.75\n20    15.70      1.25\n45    12.75      0.75\n36     2.25      0.15\n44     0.85      0.05\n42     0.80      0.05\n18     0.60      0.05",
      "text/html": "<div>\n<style scoped>\n    .dataframe tbody tr th:only-of-type {\n        vertical-align: middle;\n    }\n\n    .dataframe tbody tr th {\n        vertical-align: top;\n    }\n\n    .dataframe thead th {\n        text-align: right;\n    }\n</style>\n<table border=\"1\" class=\"dataframe\">\n  <thead>\n    <tr style=\"text-align: right;\">\n      <th></th>\n      <th>price</th>\n      <th>increase</th>\n    </tr>\n  </thead>\n  <tbody>\n    <tr>\n      <th>2</th>\n      <td>874.25</td>\n      <td>145.70</td>\n    </tr>\n    <tr>\n      <th>5</th>\n      <td>1100.00</td>\n      <td>126.20</td>\n    </tr>\n    <tr>\n      <th>10</th>\n      <td>1197.25</td>\n      <td>118.65</td>\n    </tr>\n    <tr>\n      <th>19</th>\n      <td>1205.00</td>\n      <td>98.55</td>\n    </tr>\n    <tr>\n      <th>13</th>\n      <td>1057.20</td>\n      <td>96.10</td>\n    </tr>\n    <tr>\n      <th>8</th>\n      <td>758.80</td>\n      <td>82.65</td>\n    </tr>\n    <tr>\n      <th>0</th>\n      <td>83.00</td>\n      <td>74.58</td>\n    </tr>\n    <tr>\n      <th>16</th>\n      <td>817.15</td>\n      <td>74.25</td>\n    </tr>\n    <tr>\n      <th>6</th>\n      <td>648.90</td>\n      <td>73.45</td>\n    </tr>\n    <tr>\n      <th>26</th>\n      <td>927.00</td>\n      <td>70.40</td>\n    </tr>\n    <tr>\n      <th>22</th>\n      <td>826.00</td>\n      <td>64.20</td>\n    </tr>\n    <tr>\n      <th>14</th>\n      <td>683.75</td>\n      <td>62.15</td>\n    </tr>\n    <tr>\n      <th>15</th>\n      <td>649.10</td>\n      <td>59.00</td>\n    </tr>\n    <tr>\n      <th>41</th>\n      <td>861.50</td>\n      <td>54.25</td>\n    </tr>\n    <tr>\n      <th>4</th>\n      <td>455.00</td>\n      <td>52.55</td>\n    </tr>\n    <tr>\n      <th>48</th>\n      <td>911.00</td>\n      <td>51.25</td>\n    </tr>\n    <tr>\n      <th>30</th>\n      <td>699.70</td>\n      <td>50.50</td>\n    </tr>\n    <tr>\n      <th>24</th>\n      <td>603.00</td>\n      <td>46.70</td>\n    </tr>\n    <tr>\n      <th>39</th>\n      <td>631.50</td>\n      <td>40.60</td>\n    </tr>\n    <tr>\n      <th>38</th>\n      <td>620.00</td>\n      <td>40.15</td>\n    </tr>\n    <tr>\n      <th>7</th>\n      <td>326.00</td>\n      <td>36.45</td>\n    </tr>\n    <tr>\n      <th>27</th>\n      <td>410.05</td>\n      <td>30.80</td>\n    </tr>\n    <tr>\n      <th>29</th>\n      <td>416.35</td>\n      <td>30.25</td>\n    </tr>\n    <tr>\n      <th>1</th>\n      <td>30.05</td>\n      <td>24.32</td>\n    </tr>\n    <tr>\n      <th>32</th>\n      <td>310.00</td>\n      <td>22.05</td>\n    </tr>\n    <tr>\n      <th>46</th>\n      <td>378.00</td>\n      <td>21.85</td>\n    </tr>\n    <tr>\n      <th>3</th>\n      <td>152.25</td>\n      <td>20.80</td>\n    </tr>\n    <tr>\n      <th>23</th>\n      <td>266.50</td>\n      <td>20.65</td>\n    </tr>\n    <tr>\n      <th>49</th>\n      <td>361.90</td>\n      <td>19.70</td>\n    </tr>\n    <tr>\n      <th>34</th>\n      <td>278.50</td>\n      <td>18.85</td>\n    </tr>\n    <tr>\n      <th>28</th>\n      <td>233.00</td>\n      <td>17.35</td>\n    </tr>\n    <tr>\n      <th>47</th>\n      <td>303.20</td>\n      <td>17.10</td>\n    </tr>\n    <tr>\n      <th>31</th>\n      <td>186.40</td>\n      <td>13.30</td>\n    </tr>\n    <tr>\n      <th>21</th>\n      <td>139.00</td>\n      <td>11.05</td>\n    </tr>\n    <tr>\n      <th>17</th>\n      <td>117.95</td>\n      <td>9.90</td>\n    </tr>\n    <tr>\n      <th>35</th>\n      <td>145.35</td>\n      <td>9.75</td>\n    </tr>\n    <tr>\n      <th>11</th>\n      <td>86.65</td>\n      <td>8.45</td>\n    </tr>\n    <tr>\n      <th>43</th>\n      <td>137.35</td>\n      <td>8.10</td>\n    </tr>\n    <tr>\n      <th>40</th>\n      <td>76.85</td>\n      <td>4.90</td>\n    </tr>\n    <tr>\n      <th>37</th>\n      <td>65.85</td>\n      <td>4.35</td>\n    </tr>\n    <tr>\n      <th>9</th>\n      <td>29.50</td>\n      <td>2.95</td>\n    </tr>\n    <tr>\n      <th>25</th>\n      <td>38.65</td>\n      <td>2.95</td>\n    </tr>\n    <tr>\n      <th>12</th>\n      <td>22.55</td>\n      <td>2.05</td>\n    </tr>\n    <tr>\n      <th>33</th>\n      <td>25.65</td>\n      <td>1.75</td>\n    </tr>\n    <tr>\n      <th>20</th>\n      <td>15.70</td>\n      <td>1.25</td>\n    </tr>\n    <tr>\n      <th>45</th>\n      <td>12.75</td>\n      <td>0.75</td>\n    </tr>\n    <tr>\n      <th>36</th>\n      <td>2.25</td>\n      <td>0.15</td>\n    </tr>\n    <tr>\n      <th>44</th>\n      <td>0.85</td>\n      <td>0.05</td>\n    </tr>\n    <tr>\n      <th>42</th>\n      <td>0.80</td>\n      <td>0.05</td>\n    </tr>\n    <tr>\n      <th>18</th>\n      <td>0.60</td>\n      <td>0.05</td>\n    </tr>\n  </tbody>\n</table>\n</div>"
     },
     "execution_count": 87,
     "metadata": {},
     "output_type": "execute_result"
    }
   ],
   "source": [
    "test"
   ],
   "metadata": {
    "collapsed": false,
    "pycharm": {
     "name": "#%%\n"
    }
   }
  },
  {
   "cell_type": "code",
   "execution_count": 91,
   "outputs": [],
   "source": [
    "u=[]\n",
    "for i in range(59,78):\n",
    "    u.append(i)"
   ],
   "metadata": {
    "collapsed": false,
    "pycharm": {
     "name": "#%%\n"
    }
   }
  },
  {
   "cell_type": "code",
   "execution_count": 92,
   "outputs": [
    {
     "data": {
      "text/plain": "19"
     },
     "execution_count": 92,
     "metadata": {},
     "output_type": "execute_result"
    }
   ],
   "source": [
    "len(u)"
   ],
   "metadata": {
    "collapsed": false,
    "pycharm": {
     "name": "#%%\n"
    }
   }
  },
  {
   "cell_type": "code",
   "execution_count": 93,
   "outputs": [],
   "source": [
    "w=[]\n",
    "for j in range(42,63):\n",
    "    w.append(j)"
   ],
   "metadata": {
    "collapsed": false,
    "pycharm": {
     "name": "#%%\n"
    }
   }
  },
  {
   "cell_type": "code",
   "execution_count": 94,
   "outputs": [
    {
     "data": {
      "text/plain": "21"
     },
     "execution_count": 94,
     "metadata": {},
     "output_type": "execute_result"
    }
   ],
   "source": [
    "len(w)"
   ],
   "metadata": {
    "collapsed": false,
    "pycharm": {
     "name": "#%%\n"
    }
   }
  },
  {
   "cell_type": "code",
   "execution_count": 95,
   "outputs": [
    {
     "data": {
      "text/plain": "44"
     },
     "execution_count": 95,
     "metadata": {},
     "output_type": "execute_result"
    }
   ],
   "source": [
    "w.pop(2)"
   ],
   "metadata": {
    "collapsed": false,
    "pycharm": {
     "name": "#%%\n"
    }
   }
  },
  {
   "cell_type": "code",
   "execution_count": 96,
   "outputs": [
    {
     "data": {
      "text/plain": "20"
     },
     "execution_count": 96,
     "metadata": {},
     "output_type": "execute_result"
    }
   ],
   "source": [
    "len(w)"
   ],
   "metadata": {
    "collapsed": false,
    "pycharm": {
     "name": "#%%\n"
    }
   }
  },
  {
   "cell_type": "code",
   "execution_count": 97,
   "outputs": [
    {
     "data": {
      "text/plain": "55"
     },
     "execution_count": 97,
     "metadata": {},
     "output_type": "execute_result"
    }
   ],
   "source": [
    "w.pop(12)"
   ],
   "metadata": {
    "collapsed": false,
    "pycharm": {
     "name": "#%%\n"
    }
   }
  },
  {
   "cell_type": "code",
   "execution_count": 98,
   "outputs": [
    {
     "data": {
      "text/plain": "19"
     },
     "execution_count": 98,
     "metadata": {},
     "output_type": "execute_result"
    }
   ],
   "source": [
    "len(w)"
   ],
   "metadata": {
    "collapsed": false,
    "pycharm": {
     "name": "#%%\n"
    }
   }
  },
  {
   "cell_type": "code",
   "execution_count": 99,
   "outputs": [
    {
     "name": "stdout",
     "output_type": "stream",
     "text": [
      "[59, 60, 61, 62, 63, 64, 65, 66, 67, 68, 69, 70, 71, 72, 73, 74, 75, 76, 77] [42, 43, 45, 46, 47, 48, 49, 50, 51, 52, 53, 54, 56, 57, 58, 59, 60, 61, 62]\n"
     ]
    }
   ],
   "source": [
    "print(u,w)"
   ],
   "metadata": {
    "collapsed": false,
    "pycharm": {
     "name": "#%%\n"
    }
   }
  },
  {
   "cell_type": "code",
   "execution_count": 102,
   "outputs": [],
   "source": [
    "def dei(s,t):\n",
    "    q=[]\n",
    "    k=s//t\n",
    "    q.append(k)\n",
    "    return q"
   ],
   "metadata": {
    "collapsed": false,
    "pycharm": {
     "name": "#%%\n"
    }
   }
  },
  {
   "cell_type": "code",
   "execution_count": 103,
   "outputs": [
    {
     "ename": "TypeError",
     "evalue": "unsupported operand type(s) for //: 'list' and 'list'",
     "output_type": "error",
     "traceback": [
      "\u001B[1;31m---------------------------------------------------------------------------\u001B[0m",
      "\u001B[1;31mTypeError\u001B[0m                                 Traceback (most recent call last)",
      "Cell \u001B[1;32mIn[103], line 1\u001B[0m\n\u001B[1;32m----> 1\u001B[0m \u001B[43mdei\u001B[49m\u001B[43m(\u001B[49m\u001B[43mu\u001B[49m\u001B[43m,\u001B[49m\u001B[43mw\u001B[49m\u001B[43m)\u001B[49m\n",
      "Cell \u001B[1;32mIn[102], line 3\u001B[0m, in \u001B[0;36mdei\u001B[1;34m(s, t)\u001B[0m\n\u001B[0;32m      1\u001B[0m \u001B[38;5;28;01mdef\u001B[39;00m \u001B[38;5;21mdei\u001B[39m(s,t):\n\u001B[0;32m      2\u001B[0m     q\u001B[38;5;241m=\u001B[39m[]\n\u001B[1;32m----> 3\u001B[0m     k\u001B[38;5;241m=\u001B[39m\u001B[43ms\u001B[49m\u001B[38;5;241;43m/\u001B[39;49m\u001B[38;5;241;43m/\u001B[39;49m\u001B[43mt\u001B[49m\n\u001B[0;32m      4\u001B[0m     q\u001B[38;5;241m.\u001B[39mappend(k)\n\u001B[0;32m      5\u001B[0m     \u001B[38;5;28;01mreturn\u001B[39;00m q\n",
      "\u001B[1;31mTypeError\u001B[0m: unsupported operand type(s) for //: 'list' and 'list'"
     ]
    }
   ],
   "source": [
    "dei(u,w)"
   ],
   "metadata": {
    "collapsed": false,
    "pycharm": {
     "name": "#%%\n"
    }
   }
  },
  {
   "cell_type": "code",
   "execution_count": 104,
   "outputs": [
    {
     "name": "stdout",
     "output_type": "stream",
     "text": [
      "0\n",
      "1\n",
      "2\n",
      "3\n",
      "4\n",
      "5\n",
      "6\n",
      "7\n",
      "8\n",
      "9\n"
     ]
    }
   ],
   "source": [
    "for i in range(10):\n",
    "    print(i)"
   ],
   "metadata": {
    "collapsed": false,
    "pycharm": {
     "name": "#%%\n"
    }
   }
  },
  {
   "cell_type": "code",
   "execution_count": 110,
   "outputs": [
    {
     "name": "stdout",
     "output_type": "stream",
     "text": [
      "0.1456692551041303\n"
     ]
    }
   ],
   "source": [
    "import random\n",
    "random.seed(100)\n",
    "print(random.random())"
   ],
   "metadata": {
    "collapsed": false,
    "pycharm": {
     "name": "#%%\n"
    }
   }
  },
  {
   "cell_type": "code",
   "execution_count": 118,
   "outputs": [
    {
     "name": "stdout",
     "output_type": "stream",
     "text": [
      "0.43351443489540376\n"
     ]
    }
   ],
   "source": [
    "print(random.random())"
   ],
   "metadata": {
    "collapsed": false,
    "pycharm": {
     "name": "#%%\n"
    }
   }
  },
  {
   "cell_type": "code",
   "execution_count": 120,
   "outputs": [
    {
     "data": {
      "text/plain": "69"
     },
     "execution_count": 120,
     "metadata": {},
     "output_type": "execute_result"
    }
   ],
   "source": [
    "random.randint(1,100)"
   ],
   "metadata": {
    "collapsed": false,
    "pycharm": {
     "name": "#%%\n"
    }
   }
  },
  {
   "cell_type": "code",
   "execution_count": 122,
   "outputs": [],
   "source": [
    "a=random.getstate()"
   ],
   "metadata": {
    "collapsed": false,
    "pycharm": {
     "name": "#%%\n"
    }
   }
  },
  {
   "cell_type": "code",
   "execution_count": 123,
   "outputs": [
    {
     "ename": "NameError",
     "evalue": "name 'lent' is not defined",
     "output_type": "error",
     "traceback": [
      "\u001B[1;31m---------------------------------------------------------------------------\u001B[0m",
      "\u001B[1;31mNameError\u001B[0m                                 Traceback (most recent call last)",
      "Cell \u001B[1;32mIn[123], line 1\u001B[0m\n\u001B[1;32m----> 1\u001B[0m \u001B[43mlent\u001B[49m(a)\n",
      "\u001B[1;31mNameError\u001B[0m: name 'lent' is not defined"
     ]
    }
   ],
   "source": [
    "lent(a)"
   ],
   "metadata": {
    "collapsed": false,
    "pycharm": {
     "name": "#%%\n"
    }
   }
  },
  {
   "cell_type": "code",
   "execution_count": null,
   "outputs": [],
   "source": [],
   "metadata": {
    "collapsed": false,
    "pycharm": {
     "name": "#%%\n"
    }
   }
  },
  {
   "cell_type": "code",
   "execution_count": 124,
   "outputs": [
    {
     "ename": "NameError",
     "evalue": "name 'count' is not defined",
     "output_type": "error",
     "traceback": [
      "\u001B[1;31m---------------------------------------------------------------------------\u001B[0m",
      "\u001B[1;31mNameError\u001B[0m                                 Traceback (most recent call last)",
      "Cell \u001B[1;32mIn[124], line 1\u001B[0m\n\u001B[1;32m----> 1\u001B[0m \u001B[43mcount\u001B[49m(a)\n",
      "\u001B[1;31mNameError\u001B[0m: name 'count' is not defined"
     ]
    }
   ],
   "source": [
    "count(a)"
   ],
   "metadata": {
    "collapsed": false,
    "pycharm": {
     "name": "#%%\n"
    }
   }
  },
  {
   "cell_type": "code",
   "execution_count": null,
   "outputs": [],
   "source": [],
   "metadata": {
    "collapsed": false,
    "pycharm": {
     "name": "#%%\n"
    }
   }
  }
 ],
 "metadata": {
  "kernelspec": {
   "display_name": "Python 3",
   "language": "python",
   "name": "python3"
  },
  "language_info": {
   "codemirror_mode": {
    "name": "ipython",
    "version": 2
   },
   "file_extension": ".py",
   "mimetype": "text/x-python",
   "name": "python",
   "nbconvert_exporter": "python",
   "pygments_lexer": "ipython2",
   "version": "2.7.6"
  }
 },
 "nbformat": 4,
 "nbformat_minor": 0
}