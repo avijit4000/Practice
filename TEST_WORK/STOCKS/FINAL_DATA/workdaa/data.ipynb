{
 "cells": [
  {
   "cell_type": "code",
   "execution_count": null,
   "outputs": [],
   "source": [],
   "metadata": {
    "collapsed": false,
    "pycharm": {
     "name": "#%%\n"
    }
   }
  },
  {
   "cell_type": "code",
   "execution_count": 1,
   "metadata": {
    "collapsed": true,
    "pycharm": {
     "name": "#%%\n"
    }
   },
   "outputs": [],
   "source": [
    "from nselib import capital_market as cm"
   ]
  },
  {
   "cell_type": "code",
   "execution_count": 2,
   "metadata": {
    "collapsed": false,
    "pycharm": {
     "name": "#%%\n"
    }
   },
   "outputs": [],
   "source": [
    "import nselib"
   ]
  },
  {
   "cell_type": "code",
   "execution_count": 3,
   "metadata": {
    "collapsed": false,
    "pycharm": {
     "name": "#%%\n"
    }
   },
   "outputs": [],
   "source": [
    "datacal=nselib.trading_holiday_calendar()"
   ]
  },
  {
   "cell_type": "code",
   "execution_count": 5,
   "metadata": {
    "collapsed": false,
    "pycharm": {
     "name": "#%%\n"
    }
   },
   "outputs": [
    {
     "data": {
      "text/plain": "Index(['Product', 'tradingDate', 'weekDay', 'description', 'Sr_no'], dtype='object')"
     },
     "execution_count": 5,
     "metadata": {},
     "output_type": "execute_result"
    }
   ],
   "source": [
    "datacal.columns"
   ]
  },
  {
   "cell_type": "code",
   "execution_count": 6,
   "metadata": {
    "collapsed": false,
    "pycharm": {
     "name": "#%%\n"
    }
   },
   "outputs": [
    {
     "data": {
      "text/plain": "0                            Corporate Bonds\n1                            Corporate Bonds\n2                            Corporate Bonds\n3                            Corporate Bonds\n4                            Corporate Bonds\n                       ...                  \n15    Securities Lending & Borrowing Schemes\n16    Securities Lending & Borrowing Schemes\n17    Securities Lending & Borrowing Schemes\n18    Securities Lending & Borrowing Schemes\n19    Securities Lending & Borrowing Schemes\nName: Product, Length: 237, dtype: object"
     },
     "execution_count": 6,
     "metadata": {},
     "output_type": "execute_result"
    }
   ],
   "source": [
    "datacal.Product"
   ]
  },
  {
   "cell_type": "code",
   "execution_count": 7,
   "metadata": {
    "collapsed": false,
    "pycharm": {
     "name": "#%%\n"
    }
   },
   "outputs": [
    {
     "data": {
      "text/plain": "Product\nCorporate Bonds                           25\nCurrency Derivatives                      25\nInterest Rate Derivatives                 25\nNew Debt Segment                          25\nNegotiated Trade Reporting Platform       25\nEquities                                  20\nCMOT                                      20\nEquity Derivatives                        20\nMutual Funds                              20\nSecurities Lending & Borrowing Schemes    20\nCommodity Derivatives                     12\nName: count, dtype: int64"
     },
     "execution_count": 7,
     "metadata": {},
     "output_type": "execute_result"
    }
   ],
   "source": [
    "datacal.Product.value_counts()"
   ]
  },
  {
   "cell_type": "code",
   "execution_count": 8,
   "metadata": {
    "collapsed": false,
    "pycharm": {
     "name": "#%%\n"
    }
   },
   "outputs": [
    {
     "data": {
      "text/plain": "                                   Product  tradingDate    weekDay  \\\n0                          Corporate Bonds  22-Jan-2024     Monday   \n1                          Corporate Bonds  26-Jan-2024     Friday   \n2                          Corporate Bonds  19-Feb-2024     Monday   \n3                          Corporate Bonds  08-Mar-2024     Friday   \n4                          Corporate Bonds  25-Mar-2024     Monday   \n..                                     ...          ...        ...   \n15  Securities Lending & Borrowing Schemes  12-Oct-2024   Saturday   \n16  Securities Lending & Borrowing Schemes  01-Nov-2024     Friday   \n17  Securities Lending & Borrowing Schemes  02-Nov-2024   Saturday   \n18  Securities Lending & Borrowing Schemes  15-Nov-2024     Friday   \n19  Securities Lending & Borrowing Schemes  25-Dec-2024  Wednesday   \n\n                             description Sr_no  \n0                      Special Holiday\\r     1  \n1                         Republic Day\\r     2  \n2   Chatrapati Shivaji Maharaj Jayanti\\r     3  \n3                        Mahashivratri\\r     4  \n4                                 Holi\\r     5  \n..                                   ...   ...  \n15                            Dussehra\\r    16  \n16                 Diwali Laxmi Pujan*\\r    17  \n17                Diwali-Balipratipada\\r    18  \n18                   Gurunanak Jayanti\\r    19  \n19                           Christmas\\r    20  \n\n[237 rows x 5 columns]",
      "text/html": "<div>\n<style scoped>\n    .dataframe tbody tr th:only-of-type {\n        vertical-align: middle;\n    }\n\n    .dataframe tbody tr th {\n        vertical-align: top;\n    }\n\n    .dataframe thead th {\n        text-align: right;\n    }\n</style>\n<table border=\"1\" class=\"dataframe\">\n  <thead>\n    <tr style=\"text-align: right;\">\n      <th></th>\n      <th>Product</th>\n      <th>tradingDate</th>\n      <th>weekDay</th>\n      <th>description</th>\n      <th>Sr_no</th>\n    </tr>\n  </thead>\n  <tbody>\n    <tr>\n      <th>0</th>\n      <td>Corporate Bonds</td>\n      <td>22-Jan-2024</td>\n      <td>Monday</td>\n      <td>Special Holiday\\r</td>\n      <td>1</td>\n    </tr>\n    <tr>\n      <th>1</th>\n      <td>Corporate Bonds</td>\n      <td>26-Jan-2024</td>\n      <td>Friday</td>\n      <td>Republic Day\\r</td>\n      <td>2</td>\n    </tr>\n    <tr>\n      <th>2</th>\n      <td>Corporate Bonds</td>\n      <td>19-Feb-2024</td>\n      <td>Monday</td>\n      <td>Chatrapati Shivaji Maharaj Jayanti\\r</td>\n      <td>3</td>\n    </tr>\n    <tr>\n      <th>3</th>\n      <td>Corporate Bonds</td>\n      <td>08-Mar-2024</td>\n      <td>Friday</td>\n      <td>Mahashivratri\\r</td>\n      <td>4</td>\n    </tr>\n    <tr>\n      <th>4</th>\n      <td>Corporate Bonds</td>\n      <td>25-Mar-2024</td>\n      <td>Monday</td>\n      <td>Holi\\r</td>\n      <td>5</td>\n    </tr>\n    <tr>\n      <th>...</th>\n      <td>...</td>\n      <td>...</td>\n      <td>...</td>\n      <td>...</td>\n      <td>...</td>\n    </tr>\n    <tr>\n      <th>15</th>\n      <td>Securities Lending &amp; Borrowing Schemes</td>\n      <td>12-Oct-2024</td>\n      <td>Saturday</td>\n      <td>Dussehra\\r</td>\n      <td>16</td>\n    </tr>\n    <tr>\n      <th>16</th>\n      <td>Securities Lending &amp; Borrowing Schemes</td>\n      <td>01-Nov-2024</td>\n      <td>Friday</td>\n      <td>Diwali Laxmi Pujan*\\r</td>\n      <td>17</td>\n    </tr>\n    <tr>\n      <th>17</th>\n      <td>Securities Lending &amp; Borrowing Schemes</td>\n      <td>02-Nov-2024</td>\n      <td>Saturday</td>\n      <td>Diwali-Balipratipada\\r</td>\n      <td>18</td>\n    </tr>\n    <tr>\n      <th>18</th>\n      <td>Securities Lending &amp; Borrowing Schemes</td>\n      <td>15-Nov-2024</td>\n      <td>Friday</td>\n      <td>Gurunanak Jayanti\\r</td>\n      <td>19</td>\n    </tr>\n    <tr>\n      <th>19</th>\n      <td>Securities Lending &amp; Borrowing Schemes</td>\n      <td>25-Dec-2024</td>\n      <td>Wednesday</td>\n      <td>Christmas\\r</td>\n      <td>20</td>\n    </tr>\n  </tbody>\n</table>\n<p>237 rows × 5 columns</p>\n</div>"
     },
     "execution_count": 8,
     "metadata": {},
     "output_type": "execute_result"
    }
   ],
   "source": [
    "datacal"
   ]
  },
  {
   "cell_type": "code",
   "execution_count": 9,
   "metadata": {
    "collapsed": false,
    "pycharm": {
     "name": "#%%\n"
    }
   },
   "outputs": [],
   "source": [
    "data1=cm.nifty50_equity_list()\n"
   ]
  },
  {
   "cell_type": "code",
   "execution_count": 10,
   "metadata": {
    "collapsed": false,
    "pycharm": {
     "name": "#%%\n"
    }
   },
   "outputs": [
    {
     "data": {
      "text/plain": "                                  Company Name  \\\n0                       Adani Enterprises Ltd.   \n1   Adani Ports and Special Economic Zone Ltd.   \n2             Apollo Hospitals Enterprise Ltd.   \n3                            Asian Paints Ltd.   \n4                               Axis Bank Ltd.   \n5                              Bajaj Auto Ltd.   \n6                           Bajaj Finance Ltd.   \n7                           Bajaj Finserv Ltd.   \n8            Bharat Petroleum Corporation Ltd.   \n9                           Bharti Airtel Ltd.   \n10                   Britannia Industries Ltd.   \n11                                  Cipla Ltd.   \n12                             Coal India Ltd.   \n13                    Divi's Laboratories Ltd.   \n14               Dr. Reddy's Laboratories Ltd.   \n15                          Eicher Motors Ltd.   \n16                      Grasim Industries Ltd.   \n17                       HCL Technologies Ltd.   \n18                              HDFC Bank Ltd.   \n19            HDFC Life Insurance Company Ltd.   \n20                          Hero MotoCorp Ltd.   \n21                    Hindalco Industries Ltd.   \n22                     Hindustan Unilever Ltd.   \n23                             ICICI Bank Ltd.   \n24                                    ITC Ltd.   \n25                          IndusInd Bank Ltd.   \n26                                Infosys Ltd.   \n27                              JSW Steel Ltd.   \n28                    Kotak Mahindra Bank Ltd.   \n29                            LTIMindtree Ltd.   \n30                        Larsen & Toubro Ltd.   \n31                    Mahindra & Mahindra Ltd.   \n32                    Maruti Suzuki India Ltd.   \n33                                   NTPC Ltd.   \n34                           Nestle India Ltd.   \n35          Oil & Natural Gas Corporation Ltd.   \n36        Power Grid Corporation of India Ltd.   \n37                    Reliance Industries Ltd.   \n38             SBI Life Insurance Company Ltd.   \n39                        Shriram Finance Ltd.   \n40                         State Bank of India   \n41          Sun Pharmaceutical Industries Ltd.   \n42              Tata Consultancy Services Ltd.   \n43                 Tata Consumer Products Ltd.   \n44                            Tata Motors Ltd.   \n45                             Tata Steel Ltd.   \n46                          Tech Mahindra Ltd.   \n47                          Titan Company Ltd.   \n48                       UltraTech Cement Ltd.   \n49                                  Wipro Ltd.   \n\n                          Industry      Symbol  \n0                  Metals & Mining    ADANIENT  \n1                         Services  ADANIPORTS  \n2                       Healthcare  APOLLOHOSP  \n3                Consumer Durables  ASIANPAINT  \n4               Financial Services    AXISBANK  \n5   Automobile and Auto Components  BAJAJ-AUTO  \n6               Financial Services  BAJFINANCE  \n7               Financial Services  BAJAJFINSV  \n8       Oil Gas & Consumable Fuels        BPCL  \n9                Telecommunication  BHARTIARTL  \n10      Fast Moving Consumer Goods   BRITANNIA  \n11                      Healthcare       CIPLA  \n12      Oil Gas & Consumable Fuels   COALINDIA  \n13                      Healthcare    DIVISLAB  \n14                      Healthcare     DRREDDY  \n15  Automobile and Auto Components   EICHERMOT  \n16          Construction Materials      GRASIM  \n17          Information Technology     HCLTECH  \n18              Financial Services    HDFCBANK  \n19              Financial Services    HDFCLIFE  \n20  Automobile and Auto Components  HEROMOTOCO  \n21                 Metals & Mining    HINDALCO  \n22      Fast Moving Consumer Goods  HINDUNILVR  \n23              Financial Services   ICICIBANK  \n24      Fast Moving Consumer Goods         ITC  \n25              Financial Services  INDUSINDBK  \n26          Information Technology        INFY  \n27                 Metals & Mining    JSWSTEEL  \n28              Financial Services   KOTAKBANK  \n29          Information Technology        LTIM  \n30                    Construction          LT  \n31  Automobile and Auto Components         M&M  \n32  Automobile and Auto Components      MARUTI  \n33                           Power        NTPC  \n34      Fast Moving Consumer Goods   NESTLEIND  \n35      Oil Gas & Consumable Fuels        ONGC  \n36                           Power   POWERGRID  \n37      Oil Gas & Consumable Fuels    RELIANCE  \n38              Financial Services     SBILIFE  \n39              Financial Services  SHRIRAMFIN  \n40              Financial Services        SBIN  \n41                      Healthcare   SUNPHARMA  \n42          Information Technology         TCS  \n43      Fast Moving Consumer Goods  TATACONSUM  \n44  Automobile and Auto Components  TATAMOTORS  \n45                 Metals & Mining   TATASTEEL  \n46          Information Technology       TECHM  \n47               Consumer Durables       TITAN  \n48          Construction Materials  ULTRACEMCO  \n49          Information Technology       WIPRO  ",
      "text/html": "<div>\n<style scoped>\n    .dataframe tbody tr th:only-of-type {\n        vertical-align: middle;\n    }\n\n    .dataframe tbody tr th {\n        vertical-align: top;\n    }\n\n    .dataframe thead th {\n        text-align: right;\n    }\n</style>\n<table border=\"1\" class=\"dataframe\">\n  <thead>\n    <tr style=\"text-align: right;\">\n      <th></th>\n      <th>Company Name</th>\n      <th>Industry</th>\n      <th>Symbol</th>\n    </tr>\n  </thead>\n  <tbody>\n    <tr>\n      <th>0</th>\n      <td>Adani Enterprises Ltd.</td>\n      <td>Metals &amp; Mining</td>\n      <td>ADANIENT</td>\n    </tr>\n    <tr>\n      <th>1</th>\n      <td>Adani Ports and Special Economic Zone Ltd.</td>\n      <td>Services</td>\n      <td>ADANIPORTS</td>\n    </tr>\n    <tr>\n      <th>2</th>\n      <td>Apollo Hospitals Enterprise Ltd.</td>\n      <td>Healthcare</td>\n      <td>APOLLOHOSP</td>\n    </tr>\n    <tr>\n      <th>3</th>\n      <td>Asian Paints Ltd.</td>\n      <td>Consumer Durables</td>\n      <td>ASIANPAINT</td>\n    </tr>\n    <tr>\n      <th>4</th>\n      <td>Axis Bank Ltd.</td>\n      <td>Financial Services</td>\n      <td>AXISBANK</td>\n    </tr>\n    <tr>\n      <th>5</th>\n      <td>Bajaj Auto Ltd.</td>\n      <td>Automobile and Auto Components</td>\n      <td>BAJAJ-AUTO</td>\n    </tr>\n    <tr>\n      <th>6</th>\n      <td>Bajaj Finance Ltd.</td>\n      <td>Financial Services</td>\n      <td>BAJFINANCE</td>\n    </tr>\n    <tr>\n      <th>7</th>\n      <td>Bajaj Finserv Ltd.</td>\n      <td>Financial Services</td>\n      <td>BAJAJFINSV</td>\n    </tr>\n    <tr>\n      <th>8</th>\n      <td>Bharat Petroleum Corporation Ltd.</td>\n      <td>Oil Gas &amp; Consumable Fuels</td>\n      <td>BPCL</td>\n    </tr>\n    <tr>\n      <th>9</th>\n      <td>Bharti Airtel Ltd.</td>\n      <td>Telecommunication</td>\n      <td>BHARTIARTL</td>\n    </tr>\n    <tr>\n      <th>10</th>\n      <td>Britannia Industries Ltd.</td>\n      <td>Fast Moving Consumer Goods</td>\n      <td>BRITANNIA</td>\n    </tr>\n    <tr>\n      <th>11</th>\n      <td>Cipla Ltd.</td>\n      <td>Healthcare</td>\n      <td>CIPLA</td>\n    </tr>\n    <tr>\n      <th>12</th>\n      <td>Coal India Ltd.</td>\n      <td>Oil Gas &amp; Consumable Fuels</td>\n      <td>COALINDIA</td>\n    </tr>\n    <tr>\n      <th>13</th>\n      <td>Divi's Laboratories Ltd.</td>\n      <td>Healthcare</td>\n      <td>DIVISLAB</td>\n    </tr>\n    <tr>\n      <th>14</th>\n      <td>Dr. Reddy's Laboratories Ltd.</td>\n      <td>Healthcare</td>\n      <td>DRREDDY</td>\n    </tr>\n    <tr>\n      <th>15</th>\n      <td>Eicher Motors Ltd.</td>\n      <td>Automobile and Auto Components</td>\n      <td>EICHERMOT</td>\n    </tr>\n    <tr>\n      <th>16</th>\n      <td>Grasim Industries Ltd.</td>\n      <td>Construction Materials</td>\n      <td>GRASIM</td>\n    </tr>\n    <tr>\n      <th>17</th>\n      <td>HCL Technologies Ltd.</td>\n      <td>Information Technology</td>\n      <td>HCLTECH</td>\n    </tr>\n    <tr>\n      <th>18</th>\n      <td>HDFC Bank Ltd.</td>\n      <td>Financial Services</td>\n      <td>HDFCBANK</td>\n    </tr>\n    <tr>\n      <th>19</th>\n      <td>HDFC Life Insurance Company Ltd.</td>\n      <td>Financial Services</td>\n      <td>HDFCLIFE</td>\n    </tr>\n    <tr>\n      <th>20</th>\n      <td>Hero MotoCorp Ltd.</td>\n      <td>Automobile and Auto Components</td>\n      <td>HEROMOTOCO</td>\n    </tr>\n    <tr>\n      <th>21</th>\n      <td>Hindalco Industries Ltd.</td>\n      <td>Metals &amp; Mining</td>\n      <td>HINDALCO</td>\n    </tr>\n    <tr>\n      <th>22</th>\n      <td>Hindustan Unilever Ltd.</td>\n      <td>Fast Moving Consumer Goods</td>\n      <td>HINDUNILVR</td>\n    </tr>\n    <tr>\n      <th>23</th>\n      <td>ICICI Bank Ltd.</td>\n      <td>Financial Services</td>\n      <td>ICICIBANK</td>\n    </tr>\n    <tr>\n      <th>24</th>\n      <td>ITC Ltd.</td>\n      <td>Fast Moving Consumer Goods</td>\n      <td>ITC</td>\n    </tr>\n    <tr>\n      <th>25</th>\n      <td>IndusInd Bank Ltd.</td>\n      <td>Financial Services</td>\n      <td>INDUSINDBK</td>\n    </tr>\n    <tr>\n      <th>26</th>\n      <td>Infosys Ltd.</td>\n      <td>Information Technology</td>\n      <td>INFY</td>\n    </tr>\n    <tr>\n      <th>27</th>\n      <td>JSW Steel Ltd.</td>\n      <td>Metals &amp; Mining</td>\n      <td>JSWSTEEL</td>\n    </tr>\n    <tr>\n      <th>28</th>\n      <td>Kotak Mahindra Bank Ltd.</td>\n      <td>Financial Services</td>\n      <td>KOTAKBANK</td>\n    </tr>\n    <tr>\n      <th>29</th>\n      <td>LTIMindtree Ltd.</td>\n      <td>Information Technology</td>\n      <td>LTIM</td>\n    </tr>\n    <tr>\n      <th>30</th>\n      <td>Larsen &amp; Toubro Ltd.</td>\n      <td>Construction</td>\n      <td>LT</td>\n    </tr>\n    <tr>\n      <th>31</th>\n      <td>Mahindra &amp; Mahindra Ltd.</td>\n      <td>Automobile and Auto Components</td>\n      <td>M&amp;M</td>\n    </tr>\n    <tr>\n      <th>32</th>\n      <td>Maruti Suzuki India Ltd.</td>\n      <td>Automobile and Auto Components</td>\n      <td>MARUTI</td>\n    </tr>\n    <tr>\n      <th>33</th>\n      <td>NTPC Ltd.</td>\n      <td>Power</td>\n      <td>NTPC</td>\n    </tr>\n    <tr>\n      <th>34</th>\n      <td>Nestle India Ltd.</td>\n      <td>Fast Moving Consumer Goods</td>\n      <td>NESTLEIND</td>\n    </tr>\n    <tr>\n      <th>35</th>\n      <td>Oil &amp; Natural Gas Corporation Ltd.</td>\n      <td>Oil Gas &amp; Consumable Fuels</td>\n      <td>ONGC</td>\n    </tr>\n    <tr>\n      <th>36</th>\n      <td>Power Grid Corporation of India Ltd.</td>\n      <td>Power</td>\n      <td>POWERGRID</td>\n    </tr>\n    <tr>\n      <th>37</th>\n      <td>Reliance Industries Ltd.</td>\n      <td>Oil Gas &amp; Consumable Fuels</td>\n      <td>RELIANCE</td>\n    </tr>\n    <tr>\n      <th>38</th>\n      <td>SBI Life Insurance Company Ltd.</td>\n      <td>Financial Services</td>\n      <td>SBILIFE</td>\n    </tr>\n    <tr>\n      <th>39</th>\n      <td>Shriram Finance Ltd.</td>\n      <td>Financial Services</td>\n      <td>SHRIRAMFIN</td>\n    </tr>\n    <tr>\n      <th>40</th>\n      <td>State Bank of India</td>\n      <td>Financial Services</td>\n      <td>SBIN</td>\n    </tr>\n    <tr>\n      <th>41</th>\n      <td>Sun Pharmaceutical Industries Ltd.</td>\n      <td>Healthcare</td>\n      <td>SUNPHARMA</td>\n    </tr>\n    <tr>\n      <th>42</th>\n      <td>Tata Consultancy Services Ltd.</td>\n      <td>Information Technology</td>\n      <td>TCS</td>\n    </tr>\n    <tr>\n      <th>43</th>\n      <td>Tata Consumer Products Ltd.</td>\n      <td>Fast Moving Consumer Goods</td>\n      <td>TATACONSUM</td>\n    </tr>\n    <tr>\n      <th>44</th>\n      <td>Tata Motors Ltd.</td>\n      <td>Automobile and Auto Components</td>\n      <td>TATAMOTORS</td>\n    </tr>\n    <tr>\n      <th>45</th>\n      <td>Tata Steel Ltd.</td>\n      <td>Metals &amp; Mining</td>\n      <td>TATASTEEL</td>\n    </tr>\n    <tr>\n      <th>46</th>\n      <td>Tech Mahindra Ltd.</td>\n      <td>Information Technology</td>\n      <td>TECHM</td>\n    </tr>\n    <tr>\n      <th>47</th>\n      <td>Titan Company Ltd.</td>\n      <td>Consumer Durables</td>\n      <td>TITAN</td>\n    </tr>\n    <tr>\n      <th>48</th>\n      <td>UltraTech Cement Ltd.</td>\n      <td>Construction Materials</td>\n      <td>ULTRACEMCO</td>\n    </tr>\n    <tr>\n      <th>49</th>\n      <td>Wipro Ltd.</td>\n      <td>Information Technology</td>\n      <td>WIPRO</td>\n    </tr>\n  </tbody>\n</table>\n</div>"
     },
     "execution_count": 10,
     "metadata": {},
     "output_type": "execute_result"
    }
   ],
   "source": [
    "data1"
   ]
  },
  {
   "cell_type": "code",
   "execution_count": 11,
   "metadata": {
    "collapsed": false,
    "pycharm": {
     "name": "#%%\n"
    }
   },
   "outputs": [
    {
     "data": {
      "text/plain": "0       ADANIENT\n1     ADANIPORTS\n2     APOLLOHOSP\n3     ASIANPAINT\n4       AXISBANK\n5     BAJAJ-AUTO\n6     BAJFINANCE\n7     BAJAJFINSV\n8           BPCL\n9     BHARTIARTL\n10     BRITANNIA\n11         CIPLA\n12     COALINDIA\n13      DIVISLAB\n14       DRREDDY\n15     EICHERMOT\n16        GRASIM\n17       HCLTECH\n18      HDFCBANK\n19      HDFCLIFE\n20    HEROMOTOCO\n21      HINDALCO\n22    HINDUNILVR\n23     ICICIBANK\n24           ITC\n25    INDUSINDBK\n26          INFY\n27      JSWSTEEL\n28     KOTAKBANK\n29          LTIM\n30            LT\n31           M&M\n32        MARUTI\n33          NTPC\n34     NESTLEIND\n35          ONGC\n36     POWERGRID\n37      RELIANCE\n38       SBILIFE\n39    SHRIRAMFIN\n40          SBIN\n41     SUNPHARMA\n42           TCS\n43    TATACONSUM\n44    TATAMOTORS\n45     TATASTEEL\n46         TECHM\n47         TITAN\n48    ULTRACEMCO\n49         WIPRO\nName: Symbol, dtype: object"
     },
     "execution_count": 11,
     "metadata": {},
     "output_type": "execute_result"
    }
   ],
   "source": [
    "data1.Symbol"
   ]
  },
  {
   "cell_type": "code",
   "execution_count": 12,
   "metadata": {
    "collapsed": false,
    "pycharm": {
     "name": "#%%\n"
    }
   },
   "outputs": [],
   "source": [
    "data=cm.bhav_copy_equities(\"10-04-2024\")"
   ]
  },
  {
   "cell_type": "code",
   "execution_count": 13,
   "metadata": {
    "collapsed": false,
    "pycharm": {
     "name": "#%%\n"
    }
   },
   "outputs": [
    {
     "data": {
      "text/plain": "       SYMBOL SERIES    OPEN    HIGH     LOW   CLOSE    LAST  PREVCLOSE  \\\n122  ADANIENT     EQ  3200.0  3254.6  3192.5  3242.0  3245.0    3198.45   \n\n     TOTTRDQTY     TOTTRDVAL    TIMESTAMP  TOTALTRADES  \n122    1441138  4.656932e+09  10-APR-2024        55670  ",
      "text/html": "<div>\n<style scoped>\n    .dataframe tbody tr th:only-of-type {\n        vertical-align: middle;\n    }\n\n    .dataframe tbody tr th {\n        vertical-align: top;\n    }\n\n    .dataframe thead th {\n        text-align: right;\n    }\n</style>\n<table border=\"1\" class=\"dataframe\">\n  <thead>\n    <tr style=\"text-align: right;\">\n      <th></th>\n      <th>SYMBOL</th>\n      <th>SERIES</th>\n      <th>OPEN</th>\n      <th>HIGH</th>\n      <th>LOW</th>\n      <th>CLOSE</th>\n      <th>LAST</th>\n      <th>PREVCLOSE</th>\n      <th>TOTTRDQTY</th>\n      <th>TOTTRDVAL</th>\n      <th>TIMESTAMP</th>\n      <th>TOTALTRADES</th>\n    </tr>\n  </thead>\n  <tbody>\n    <tr>\n      <th>122</th>\n      <td>ADANIENT</td>\n      <td>EQ</td>\n      <td>3200.0</td>\n      <td>3254.6</td>\n      <td>3192.5</td>\n      <td>3242.0</td>\n      <td>3245.0</td>\n      <td>3198.45</td>\n      <td>1441138</td>\n      <td>4.656932e+09</td>\n      <td>10-APR-2024</td>\n      <td>55670</td>\n    </tr>\n  </tbody>\n</table>\n</div>"
     },
     "execution_count": 13,
     "metadata": {},
     "output_type": "execute_result"
    }
   ],
   "source": [
    "data[data[\"SYMBOL\"]==\"ADANIENT\"]"
   ]
  },
  {
   "cell_type": "code",
   "execution_count": 14,
   "metadata": {
    "collapsed": false,
    "pycharm": {
     "name": "#%%\n"
    }
   },
   "outputs": [
    {
     "data": {
      "text/plain": "           Date      Symbol               SecurityName  \\\n0   12-MAR-2024    INFIBEAM   Infibeam Avenues Limited   \n1   12-MAR-2024    INFIBEAM   Infibeam Avenues Limited   \n2   12-MAR-2024    INFIBEAM   Infibeam Avenues Limited   \n3   12-MAR-2024    INFIBEAM   Infibeam Avenues Limited   \n4   14-MAR-2024    INFIBEAM   Infibeam Avenues Limited   \n5   14-MAR-2024    INFIBEAM   Infibeam Avenues Limited   \n6   18-MAR-2024    INFIBEAM   Infibeam Avenues Limited   \n7   18-MAR-2024    INFIBEAM   Infibeam Avenues Limited   \n8   19-MAR-2024   LORDSCHLO    Lords Chloro Alkali Ltd   \n9   19-MAR-2024   LORDSCHLO    Lords Chloro Alkali Ltd   \n10  20-MAR-2024    INFIBEAM   Infibeam Avenues Limited   \n11  20-MAR-2024    INFIBEAM   Infibeam Avenues Limited   \n12  22-MAR-2024    INFIBEAM   Infibeam Avenues Limited   \n13  22-MAR-2024    INFIBEAM   Infibeam Avenues Limited   \n14  22-MAR-2024  SHRIRAMFIN    Shriram Finance Limited   \n15  22-MAR-2024  SHRIRAMFIN    Shriram Finance Limited   \n16  22-MAR-2024        SOTL  Savita Oil Technologies L   \n17  22-MAR-2024        SOTL  Savita Oil Technologies L   \n18  22-MAR-2024  SUNDARMHLD  Sundaram Finance Hold Ltd   \n19  22-MAR-2024  SUNDARMHLD  Sundaram Finance Hold Ltd   \n20  22-MAR-2024  SUNDARMHLD  Sundaram Finance Hold Ltd   \n21  22-MAR-2024  SUNDARMHLD  Sundaram Finance Hold Ltd   \n22  27-MAR-2024       SAMHI       Samhi Hotels Limited   \n23  27-MAR-2024       SAMHI       Samhi Hotels Limited   \n24  27-MAR-2024       SAMHI       Samhi Hotels Limited   \n25  27-MAR-2024       SAMHI       Samhi Hotels Limited   \n26  27-MAR-2024       SAMHI       Samhi Hotels Limited   \n27  27-MAR-2024      VIJAYA  Vijaya Diagnostic Cen Ltd   \n28  27-MAR-2024      VIJAYA  Vijaya Diagnostic Cen Ltd   \n29  27-MAR-2024      VIJAYA  Vijaya Diagnostic Cen Ltd   \n30  28-MAR-2024       DHANI     Dhani Services Limited   \n31  28-MAR-2024       DHANI     Dhani Services Limited   \n32  28-MAR-2024  SHRIRAMFIN    Shriram Finance Limited   \n33  28-MAR-2024  SHRIRAMFIN    Shriram Finance Limited   \n34  09-APR-2024    AXISBANK          Axis Bank Limited   \n35  09-APR-2024    AXISBANK          Axis Bank Limited   \n36  09-APR-2024    AXISBANK          Axis Bank Limited   \n37  09-APR-2024    AXISBANK          Axis Bank Limited   \n38  09-APR-2024     HCLTECH      HCL Technologies Ltd.   \n39  09-APR-2024     HCLTECH      HCL Technologies Ltd.   \n40  09-APR-2024     HCLTECH      HCL Technologies Ltd.   \n41  09-APR-2024     HCLTECH      HCL Technologies Ltd.   \n42  09-APR-2024    HDFCBANK             HDFC Bank Ltd.   \n43  09-APR-2024    HDFCBANK             HDFC Bank Ltd.   \n44  09-APR-2024    HDFCBANK             HDFC Bank Ltd.   \n45  09-APR-2024    HDFCBANK             HDFC Bank Ltd.   \n46  09-APR-2024         M&M             Mah & Mah Ltd.   \n47  09-APR-2024         M&M             Mah & Mah Ltd.   \n48  09-APR-2024         M&M             Mah & Mah Ltd.   \n49  09-APR-2024         M&M             Mah & Mah Ltd.   \n50  09-APR-2024         MGL         Mahanagar Gas Ltd.   \n51  09-APR-2024         MGL         Mahanagar Gas Ltd.   \n52  09-APR-2024         MGL         Mahanagar Gas Ltd.   \n53  09-APR-2024         MGL         Mahanagar Gas Ltd.   \n54  09-APR-2024    PETRONET       Petronet LNG Limited   \n55  09-APR-2024    PETRONET       Petronet LNG Limited   \n56  09-APR-2024    PETRONET       Petronet LNG Limited   \n57  09-APR-2024    PETRONET       Petronet LNG Limited   \n\n                                           ClientName Buy/Sell QuantityTraded  \\\n0                                ABHISHEK MAYUR DESAI     SELL      60,00,000   \n1                                ABHISHEK MAYUR DESAI     SELL      60,00,000   \n2                                         SONAL DESAI      BUY      60,00,000   \n3                                         SONAL DESAI      BUY      60,00,000   \n4                                ABHISHEK MAYUR DESAI     SELL      70,00,000   \n5                                         SONAL DESAI      BUY      70,00,000   \n6                                ABHISHEK MAYUR DESAI     SELL      70,00,000   \n7                                         SONAL DESAI      BUY      70,00,000   \n8                                        MADHAV  DHIR      BUY      11,50,000   \n9                   SHIVA CONSULTANTS PRIVATE LIMITED     SELL      11,50,000   \n10                               ABHISHEK MAYUR DESAI     SELL      60,00,000   \n11                                        SONAL DESAI      BUY      60,00,000   \n12                               ABHISHEK MAYUR DESAI     SELL      60,00,000   \n13                                        SONAL DESAI      BUY      60,00,000   \n14                            SHRIRAM OWNERSHIP TRUST     SELL      77,78,000   \n15                     SHRIRAM VALUE SERVICES LIMITED      BUY      77,78,000   \n16                                    MEHRA SYNDICATE     SELL      20,73,000   \n17                                    SBI MUTUAL FUND      BUY      20,73,000   \n18                                   ARJUN RANGARAJAN      BUY       9,00,000   \n19                                        SRIVATS RAM      BUY       6,83,000   \n20                              SUNDARAM FINANCE  LTD     SELL      55,56,529   \n21  TRICHUR SUNDARAM SANTHANAM & FAMILY PRIVATE LI...      BUY      39,73,529   \n22                              BLUE CHANDRA PTE. LTD     SELL    1,01,73,756   \n23                         DNB FUND - ASIAN SMALL CAP      BUY       3,94,700   \n24                                   DNB FUND - INDIA      BUY       3,44,600   \n25                                   SOCIETE GENERALE      BUY      11,51,677   \n26                        TT ASIA-PACIFIC EQUITY FUND      BUY      82,82,779   \n27                         KOTAK MAHINDRA MUTUAL FUND      BUY       8,10,000   \n28                           SUNIL CHANDRA KONDAPALLY     SELL       5,10,000   \n29                            SURENDRANATH REDDY SURA     SELL       3,00,000   \n30                                ACM GLOBAL FUND VCC      BUY    1,00,00,000   \n31                   INUUS DEVELOPERS PRIVATE LIMITED     SELL    1,00,00,000   \n32                      SANLAM LIFE INSURANCE LIMITED     SELL      59,80,000   \n33                     SHRIRAM VALUE SERVICES LIMITED      BUY      59,80,000   \n34                STICHTING CUST ROBECO INST RE:CALYP     SELL       4,58,401   \n35                STICHTING CUST ROBECO INST RE:CALYP     SELL       4,58,401   \n36    STICHTING PENSIOENFONDS RAIL & OPENBAAR VERVOER      BUY       4,58,401   \n37    STICHTING PENSIOENFONDS RAIL & OPENBAAR VERVOER      BUY       4,58,401   \n38                STICHTING CUST ROBECO INST RE:CALYP     SELL       4,46,825   \n39                STICHTING CUST ROBECO INST RE:CALYP     SELL       4,46,825   \n40    STICHTING PENSIOENFONDS RAIL & OPENBAAR VERVOER      BUY       4,46,825   \n41    STICHTING PENSIOENFONDS RAIL & OPENBAAR VERVOER      BUY       4,46,825   \n42                STICHTING CUST ROBECO INST RE:CALYP     SELL       4,09,783   \n43                STICHTING CUST ROBECO INST RE:CALYP     SELL       4,09,783   \n44    STICHTING PENSIOENFONDS RAIL & OPENBAAR VERVOER      BUY       4,09,783   \n45    STICHTING PENSIOENFONDS RAIL & OPENBAAR VERVOER      BUY       4,09,783   \n46                STICHTING CUST ROBECO INST RE:CALYP     SELL       2,80,386   \n47                STICHTING CUST ROBECO INST RE:CALYP     SELL       2,80,386   \n48    STICHTING PENSIOENFONDS RAIL & OPENBAAR VERVOER      BUY       2,80,386   \n49    STICHTING PENSIOENFONDS RAIL & OPENBAAR VERVOER      BUY       2,80,386   \n50                STICHTING CUST ROBECO INST RE:CALYP     SELL       1,33,121   \n51                STICHTING CUST ROBECO INST RE:CALYP     SELL       1,33,121   \n52    STICHTING PENSIOENFONDS RAIL & OPENBAAR VERVOER      BUY       1,33,121   \n53    STICHTING PENSIOENFONDS RAIL & OPENBAAR VERVOER      BUY       1,33,121   \n54                STICHTING CUST ROBECO INST RE:CALYP     SELL       6,05,855   \n55                STICHTING CUST ROBECO INST RE:CALYP     SELL       6,05,855   \n56    STICHTING PENSIOENFONDS RAIL & OPENBAAR VERVOER      BUY       6,05,855   \n57    STICHTING PENSIOENFONDS RAIL & OPENBAAR VERVOER      BUY       6,05,855   \n\n   TradePrice/Wght.Avg.Price Remarks  \n0                      39.60       -  \n1                      39.60       -  \n2                      39.60       -  \n3                      39.60       -  \n4                      36.95       -  \n5                      36.95       -  \n6                      37.05       -  \n7                      37.05       -  \n8                     127.80       -  \n9                     127.80       -  \n10                     35.90       -  \n11                     35.90       -  \n12                     35.00       -  \n13                     35.00       -  \n14                  2,310.00       -  \n15                  2,310.00       -  \n16                    408.00       -  \n17                    408.00       -  \n18                    191.00       -  \n19                    191.00       -  \n20                    191.00       -  \n21                    191.00       -  \n22                    206.10       -  \n23                    206.10       -  \n24                    206.10       -  \n25                    206.10       -  \n26                    206.10       -  \n27                    630.00       -  \n28                    630.00       -  \n29                    630.00       -  \n30                     39.20       -  \n31                     39.20       -  \n32                  2,386.00       -  \n33                  2,386.00       -  \n34                  1,076.05       -  \n35                  1,076.05       -  \n36                  1,076.05       -  \n37                  1,076.05       -  \n38                  1,540.05       -  \n39                  1,540.05       -  \n40                  1,540.05       -  \n41                  1,540.05       -  \n42                  1,546.60       -  \n43                  1,546.60       -  \n44                  1,546.60       -  \n45                  1,546.60       -  \n46                  2,078.10       -  \n47                  2,078.10       -  \n48                  2,078.10       -  \n49                  2,078.10       -  \n50                  1,483.10       -  \n51                  1,483.10       -  \n52                  1,483.10       -  \n53                  1,483.10       -  \n54                    281.00       -  \n55                    281.00       -  \n56                    281.00       -  \n57                    281.00       -  ",
      "text/html": "<div>\n<style scoped>\n    .dataframe tbody tr th:only-of-type {\n        vertical-align: middle;\n    }\n\n    .dataframe tbody tr th {\n        vertical-align: top;\n    }\n\n    .dataframe thead th {\n        text-align: right;\n    }\n</style>\n<table border=\"1\" class=\"dataframe\">\n  <thead>\n    <tr style=\"text-align: right;\">\n      <th></th>\n      <th>Date</th>\n      <th>Symbol</th>\n      <th>SecurityName</th>\n      <th>ClientName</th>\n      <th>Buy/Sell</th>\n      <th>QuantityTraded</th>\n      <th>TradePrice/Wght.Avg.Price</th>\n      <th>Remarks</th>\n    </tr>\n  </thead>\n  <tbody>\n    <tr>\n      <th>0</th>\n      <td>12-MAR-2024</td>\n      <td>INFIBEAM</td>\n      <td>Infibeam Avenues Limited</td>\n      <td>ABHISHEK MAYUR DESAI</td>\n      <td>SELL</td>\n      <td>60,00,000</td>\n      <td>39.60</td>\n      <td>-</td>\n    </tr>\n    <tr>\n      <th>1</th>\n      <td>12-MAR-2024</td>\n      <td>INFIBEAM</td>\n      <td>Infibeam Avenues Limited</td>\n      <td>ABHISHEK MAYUR DESAI</td>\n      <td>SELL</td>\n      <td>60,00,000</td>\n      <td>39.60</td>\n      <td>-</td>\n    </tr>\n    <tr>\n      <th>2</th>\n      <td>12-MAR-2024</td>\n      <td>INFIBEAM</td>\n      <td>Infibeam Avenues Limited</td>\n      <td>SONAL DESAI</td>\n      <td>BUY</td>\n      <td>60,00,000</td>\n      <td>39.60</td>\n      <td>-</td>\n    </tr>\n    <tr>\n      <th>3</th>\n      <td>12-MAR-2024</td>\n      <td>INFIBEAM</td>\n      <td>Infibeam Avenues Limited</td>\n      <td>SONAL DESAI</td>\n      <td>BUY</td>\n      <td>60,00,000</td>\n      <td>39.60</td>\n      <td>-</td>\n    </tr>\n    <tr>\n      <th>4</th>\n      <td>14-MAR-2024</td>\n      <td>INFIBEAM</td>\n      <td>Infibeam Avenues Limited</td>\n      <td>ABHISHEK MAYUR DESAI</td>\n      <td>SELL</td>\n      <td>70,00,000</td>\n      <td>36.95</td>\n      <td>-</td>\n    </tr>\n    <tr>\n      <th>5</th>\n      <td>14-MAR-2024</td>\n      <td>INFIBEAM</td>\n      <td>Infibeam Avenues Limited</td>\n      <td>SONAL DESAI</td>\n      <td>BUY</td>\n      <td>70,00,000</td>\n      <td>36.95</td>\n      <td>-</td>\n    </tr>\n    <tr>\n      <th>6</th>\n      <td>18-MAR-2024</td>\n      <td>INFIBEAM</td>\n      <td>Infibeam Avenues Limited</td>\n      <td>ABHISHEK MAYUR DESAI</td>\n      <td>SELL</td>\n      <td>70,00,000</td>\n      <td>37.05</td>\n      <td>-</td>\n    </tr>\n    <tr>\n      <th>7</th>\n      <td>18-MAR-2024</td>\n      <td>INFIBEAM</td>\n      <td>Infibeam Avenues Limited</td>\n      <td>SONAL DESAI</td>\n      <td>BUY</td>\n      <td>70,00,000</td>\n      <td>37.05</td>\n      <td>-</td>\n    </tr>\n    <tr>\n      <th>8</th>\n      <td>19-MAR-2024</td>\n      <td>LORDSCHLO</td>\n      <td>Lords Chloro Alkali Ltd</td>\n      <td>MADHAV  DHIR</td>\n      <td>BUY</td>\n      <td>11,50,000</td>\n      <td>127.80</td>\n      <td>-</td>\n    </tr>\n    <tr>\n      <th>9</th>\n      <td>19-MAR-2024</td>\n      <td>LORDSCHLO</td>\n      <td>Lords Chloro Alkali Ltd</td>\n      <td>SHIVA CONSULTANTS PRIVATE LIMITED</td>\n      <td>SELL</td>\n      <td>11,50,000</td>\n      <td>127.80</td>\n      <td>-</td>\n    </tr>\n    <tr>\n      <th>10</th>\n      <td>20-MAR-2024</td>\n      <td>INFIBEAM</td>\n      <td>Infibeam Avenues Limited</td>\n      <td>ABHISHEK MAYUR DESAI</td>\n      <td>SELL</td>\n      <td>60,00,000</td>\n      <td>35.90</td>\n      <td>-</td>\n    </tr>\n    <tr>\n      <th>11</th>\n      <td>20-MAR-2024</td>\n      <td>INFIBEAM</td>\n      <td>Infibeam Avenues Limited</td>\n      <td>SONAL DESAI</td>\n      <td>BUY</td>\n      <td>60,00,000</td>\n      <td>35.90</td>\n      <td>-</td>\n    </tr>\n    <tr>\n      <th>12</th>\n      <td>22-MAR-2024</td>\n      <td>INFIBEAM</td>\n      <td>Infibeam Avenues Limited</td>\n      <td>ABHISHEK MAYUR DESAI</td>\n      <td>SELL</td>\n      <td>60,00,000</td>\n      <td>35.00</td>\n      <td>-</td>\n    </tr>\n    <tr>\n      <th>13</th>\n      <td>22-MAR-2024</td>\n      <td>INFIBEAM</td>\n      <td>Infibeam Avenues Limited</td>\n      <td>SONAL DESAI</td>\n      <td>BUY</td>\n      <td>60,00,000</td>\n      <td>35.00</td>\n      <td>-</td>\n    </tr>\n    <tr>\n      <th>14</th>\n      <td>22-MAR-2024</td>\n      <td>SHRIRAMFIN</td>\n      <td>Shriram Finance Limited</td>\n      <td>SHRIRAM OWNERSHIP TRUST</td>\n      <td>SELL</td>\n      <td>77,78,000</td>\n      <td>2,310.00</td>\n      <td>-</td>\n    </tr>\n    <tr>\n      <th>15</th>\n      <td>22-MAR-2024</td>\n      <td>SHRIRAMFIN</td>\n      <td>Shriram Finance Limited</td>\n      <td>SHRIRAM VALUE SERVICES LIMITED</td>\n      <td>BUY</td>\n      <td>77,78,000</td>\n      <td>2,310.00</td>\n      <td>-</td>\n    </tr>\n    <tr>\n      <th>16</th>\n      <td>22-MAR-2024</td>\n      <td>SOTL</td>\n      <td>Savita Oil Technologies L</td>\n      <td>MEHRA SYNDICATE</td>\n      <td>SELL</td>\n      <td>20,73,000</td>\n      <td>408.00</td>\n      <td>-</td>\n    </tr>\n    <tr>\n      <th>17</th>\n      <td>22-MAR-2024</td>\n      <td>SOTL</td>\n      <td>Savita Oil Technologies L</td>\n      <td>SBI MUTUAL FUND</td>\n      <td>BUY</td>\n      <td>20,73,000</td>\n      <td>408.00</td>\n      <td>-</td>\n    </tr>\n    <tr>\n      <th>18</th>\n      <td>22-MAR-2024</td>\n      <td>SUNDARMHLD</td>\n      <td>Sundaram Finance Hold Ltd</td>\n      <td>ARJUN RANGARAJAN</td>\n      <td>BUY</td>\n      <td>9,00,000</td>\n      <td>191.00</td>\n      <td>-</td>\n    </tr>\n    <tr>\n      <th>19</th>\n      <td>22-MAR-2024</td>\n      <td>SUNDARMHLD</td>\n      <td>Sundaram Finance Hold Ltd</td>\n      <td>SRIVATS RAM</td>\n      <td>BUY</td>\n      <td>6,83,000</td>\n      <td>191.00</td>\n      <td>-</td>\n    </tr>\n    <tr>\n      <th>20</th>\n      <td>22-MAR-2024</td>\n      <td>SUNDARMHLD</td>\n      <td>Sundaram Finance Hold Ltd</td>\n      <td>SUNDARAM FINANCE  LTD</td>\n      <td>SELL</td>\n      <td>55,56,529</td>\n      <td>191.00</td>\n      <td>-</td>\n    </tr>\n    <tr>\n      <th>21</th>\n      <td>22-MAR-2024</td>\n      <td>SUNDARMHLD</td>\n      <td>Sundaram Finance Hold Ltd</td>\n      <td>TRICHUR SUNDARAM SANTHANAM &amp; FAMILY PRIVATE LI...</td>\n      <td>BUY</td>\n      <td>39,73,529</td>\n      <td>191.00</td>\n      <td>-</td>\n    </tr>\n    <tr>\n      <th>22</th>\n      <td>27-MAR-2024</td>\n      <td>SAMHI</td>\n      <td>Samhi Hotels Limited</td>\n      <td>BLUE CHANDRA PTE. LTD</td>\n      <td>SELL</td>\n      <td>1,01,73,756</td>\n      <td>206.10</td>\n      <td>-</td>\n    </tr>\n    <tr>\n      <th>23</th>\n      <td>27-MAR-2024</td>\n      <td>SAMHI</td>\n      <td>Samhi Hotels Limited</td>\n      <td>DNB FUND - ASIAN SMALL CAP</td>\n      <td>BUY</td>\n      <td>3,94,700</td>\n      <td>206.10</td>\n      <td>-</td>\n    </tr>\n    <tr>\n      <th>24</th>\n      <td>27-MAR-2024</td>\n      <td>SAMHI</td>\n      <td>Samhi Hotels Limited</td>\n      <td>DNB FUND - INDIA</td>\n      <td>BUY</td>\n      <td>3,44,600</td>\n      <td>206.10</td>\n      <td>-</td>\n    </tr>\n    <tr>\n      <th>25</th>\n      <td>27-MAR-2024</td>\n      <td>SAMHI</td>\n      <td>Samhi Hotels Limited</td>\n      <td>SOCIETE GENERALE</td>\n      <td>BUY</td>\n      <td>11,51,677</td>\n      <td>206.10</td>\n      <td>-</td>\n    </tr>\n    <tr>\n      <th>26</th>\n      <td>27-MAR-2024</td>\n      <td>SAMHI</td>\n      <td>Samhi Hotels Limited</td>\n      <td>TT ASIA-PACIFIC EQUITY FUND</td>\n      <td>BUY</td>\n      <td>82,82,779</td>\n      <td>206.10</td>\n      <td>-</td>\n    </tr>\n    <tr>\n      <th>27</th>\n      <td>27-MAR-2024</td>\n      <td>VIJAYA</td>\n      <td>Vijaya Diagnostic Cen Ltd</td>\n      <td>KOTAK MAHINDRA MUTUAL FUND</td>\n      <td>BUY</td>\n      <td>8,10,000</td>\n      <td>630.00</td>\n      <td>-</td>\n    </tr>\n    <tr>\n      <th>28</th>\n      <td>27-MAR-2024</td>\n      <td>VIJAYA</td>\n      <td>Vijaya Diagnostic Cen Ltd</td>\n      <td>SUNIL CHANDRA KONDAPALLY</td>\n      <td>SELL</td>\n      <td>5,10,000</td>\n      <td>630.00</td>\n      <td>-</td>\n    </tr>\n    <tr>\n      <th>29</th>\n      <td>27-MAR-2024</td>\n      <td>VIJAYA</td>\n      <td>Vijaya Diagnostic Cen Ltd</td>\n      <td>SURENDRANATH REDDY SURA</td>\n      <td>SELL</td>\n      <td>3,00,000</td>\n      <td>630.00</td>\n      <td>-</td>\n    </tr>\n    <tr>\n      <th>30</th>\n      <td>28-MAR-2024</td>\n      <td>DHANI</td>\n      <td>Dhani Services Limited</td>\n      <td>ACM GLOBAL FUND VCC</td>\n      <td>BUY</td>\n      <td>1,00,00,000</td>\n      <td>39.20</td>\n      <td>-</td>\n    </tr>\n    <tr>\n      <th>31</th>\n      <td>28-MAR-2024</td>\n      <td>DHANI</td>\n      <td>Dhani Services Limited</td>\n      <td>INUUS DEVELOPERS PRIVATE LIMITED</td>\n      <td>SELL</td>\n      <td>1,00,00,000</td>\n      <td>39.20</td>\n      <td>-</td>\n    </tr>\n    <tr>\n      <th>32</th>\n      <td>28-MAR-2024</td>\n      <td>SHRIRAMFIN</td>\n      <td>Shriram Finance Limited</td>\n      <td>SANLAM LIFE INSURANCE LIMITED</td>\n      <td>SELL</td>\n      <td>59,80,000</td>\n      <td>2,386.00</td>\n      <td>-</td>\n    </tr>\n    <tr>\n      <th>33</th>\n      <td>28-MAR-2024</td>\n      <td>SHRIRAMFIN</td>\n      <td>Shriram Finance Limited</td>\n      <td>SHRIRAM VALUE SERVICES LIMITED</td>\n      <td>BUY</td>\n      <td>59,80,000</td>\n      <td>2,386.00</td>\n      <td>-</td>\n    </tr>\n    <tr>\n      <th>34</th>\n      <td>09-APR-2024</td>\n      <td>AXISBANK</td>\n      <td>Axis Bank Limited</td>\n      <td>STICHTING CUST ROBECO INST RE:CALYP</td>\n      <td>SELL</td>\n      <td>4,58,401</td>\n      <td>1,076.05</td>\n      <td>-</td>\n    </tr>\n    <tr>\n      <th>35</th>\n      <td>09-APR-2024</td>\n      <td>AXISBANK</td>\n      <td>Axis Bank Limited</td>\n      <td>STICHTING CUST ROBECO INST RE:CALYP</td>\n      <td>SELL</td>\n      <td>4,58,401</td>\n      <td>1,076.05</td>\n      <td>-</td>\n    </tr>\n    <tr>\n      <th>36</th>\n      <td>09-APR-2024</td>\n      <td>AXISBANK</td>\n      <td>Axis Bank Limited</td>\n      <td>STICHTING PENSIOENFONDS RAIL &amp; OPENBAAR VERVOER</td>\n      <td>BUY</td>\n      <td>4,58,401</td>\n      <td>1,076.05</td>\n      <td>-</td>\n    </tr>\n    <tr>\n      <th>37</th>\n      <td>09-APR-2024</td>\n      <td>AXISBANK</td>\n      <td>Axis Bank Limited</td>\n      <td>STICHTING PENSIOENFONDS RAIL &amp; OPENBAAR VERVOER</td>\n      <td>BUY</td>\n      <td>4,58,401</td>\n      <td>1,076.05</td>\n      <td>-</td>\n    </tr>\n    <tr>\n      <th>38</th>\n      <td>09-APR-2024</td>\n      <td>HCLTECH</td>\n      <td>HCL Technologies Ltd.</td>\n      <td>STICHTING CUST ROBECO INST RE:CALYP</td>\n      <td>SELL</td>\n      <td>4,46,825</td>\n      <td>1,540.05</td>\n      <td>-</td>\n    </tr>\n    <tr>\n      <th>39</th>\n      <td>09-APR-2024</td>\n      <td>HCLTECH</td>\n      <td>HCL Technologies Ltd.</td>\n      <td>STICHTING CUST ROBECO INST RE:CALYP</td>\n      <td>SELL</td>\n      <td>4,46,825</td>\n      <td>1,540.05</td>\n      <td>-</td>\n    </tr>\n    <tr>\n      <th>40</th>\n      <td>09-APR-2024</td>\n      <td>HCLTECH</td>\n      <td>HCL Technologies Ltd.</td>\n      <td>STICHTING PENSIOENFONDS RAIL &amp; OPENBAAR VERVOER</td>\n      <td>BUY</td>\n      <td>4,46,825</td>\n      <td>1,540.05</td>\n      <td>-</td>\n    </tr>\n    <tr>\n      <th>41</th>\n      <td>09-APR-2024</td>\n      <td>HCLTECH</td>\n      <td>HCL Technologies Ltd.</td>\n      <td>STICHTING PENSIOENFONDS RAIL &amp; OPENBAAR VERVOER</td>\n      <td>BUY</td>\n      <td>4,46,825</td>\n      <td>1,540.05</td>\n      <td>-</td>\n    </tr>\n    <tr>\n      <th>42</th>\n      <td>09-APR-2024</td>\n      <td>HDFCBANK</td>\n      <td>HDFC Bank Ltd.</td>\n      <td>STICHTING CUST ROBECO INST RE:CALYP</td>\n      <td>SELL</td>\n      <td>4,09,783</td>\n      <td>1,546.60</td>\n      <td>-</td>\n    </tr>\n    <tr>\n      <th>43</th>\n      <td>09-APR-2024</td>\n      <td>HDFCBANK</td>\n      <td>HDFC Bank Ltd.</td>\n      <td>STICHTING CUST ROBECO INST RE:CALYP</td>\n      <td>SELL</td>\n      <td>4,09,783</td>\n      <td>1,546.60</td>\n      <td>-</td>\n    </tr>\n    <tr>\n      <th>44</th>\n      <td>09-APR-2024</td>\n      <td>HDFCBANK</td>\n      <td>HDFC Bank Ltd.</td>\n      <td>STICHTING PENSIOENFONDS RAIL &amp; OPENBAAR VERVOER</td>\n      <td>BUY</td>\n      <td>4,09,783</td>\n      <td>1,546.60</td>\n      <td>-</td>\n    </tr>\n    <tr>\n      <th>45</th>\n      <td>09-APR-2024</td>\n      <td>HDFCBANK</td>\n      <td>HDFC Bank Ltd.</td>\n      <td>STICHTING PENSIOENFONDS RAIL &amp; OPENBAAR VERVOER</td>\n      <td>BUY</td>\n      <td>4,09,783</td>\n      <td>1,546.60</td>\n      <td>-</td>\n    </tr>\n    <tr>\n      <th>46</th>\n      <td>09-APR-2024</td>\n      <td>M&amp;M</td>\n      <td>Mah &amp; Mah Ltd.</td>\n      <td>STICHTING CUST ROBECO INST RE:CALYP</td>\n      <td>SELL</td>\n      <td>2,80,386</td>\n      <td>2,078.10</td>\n      <td>-</td>\n    </tr>\n    <tr>\n      <th>47</th>\n      <td>09-APR-2024</td>\n      <td>M&amp;M</td>\n      <td>Mah &amp; Mah Ltd.</td>\n      <td>STICHTING CUST ROBECO INST RE:CALYP</td>\n      <td>SELL</td>\n      <td>2,80,386</td>\n      <td>2,078.10</td>\n      <td>-</td>\n    </tr>\n    <tr>\n      <th>48</th>\n      <td>09-APR-2024</td>\n      <td>M&amp;M</td>\n      <td>Mah &amp; Mah Ltd.</td>\n      <td>STICHTING PENSIOENFONDS RAIL &amp; OPENBAAR VERVOER</td>\n      <td>BUY</td>\n      <td>2,80,386</td>\n      <td>2,078.10</td>\n      <td>-</td>\n    </tr>\n    <tr>\n      <th>49</th>\n      <td>09-APR-2024</td>\n      <td>M&amp;M</td>\n      <td>Mah &amp; Mah Ltd.</td>\n      <td>STICHTING PENSIOENFONDS RAIL &amp; OPENBAAR VERVOER</td>\n      <td>BUY</td>\n      <td>2,80,386</td>\n      <td>2,078.10</td>\n      <td>-</td>\n    </tr>\n    <tr>\n      <th>50</th>\n      <td>09-APR-2024</td>\n      <td>MGL</td>\n      <td>Mahanagar Gas Ltd.</td>\n      <td>STICHTING CUST ROBECO INST RE:CALYP</td>\n      <td>SELL</td>\n      <td>1,33,121</td>\n      <td>1,483.10</td>\n      <td>-</td>\n    </tr>\n    <tr>\n      <th>51</th>\n      <td>09-APR-2024</td>\n      <td>MGL</td>\n      <td>Mahanagar Gas Ltd.</td>\n      <td>STICHTING CUST ROBECO INST RE:CALYP</td>\n      <td>SELL</td>\n      <td>1,33,121</td>\n      <td>1,483.10</td>\n      <td>-</td>\n    </tr>\n    <tr>\n      <th>52</th>\n      <td>09-APR-2024</td>\n      <td>MGL</td>\n      <td>Mahanagar Gas Ltd.</td>\n      <td>STICHTING PENSIOENFONDS RAIL &amp; OPENBAAR VERVOER</td>\n      <td>BUY</td>\n      <td>1,33,121</td>\n      <td>1,483.10</td>\n      <td>-</td>\n    </tr>\n    <tr>\n      <th>53</th>\n      <td>09-APR-2024</td>\n      <td>MGL</td>\n      <td>Mahanagar Gas Ltd.</td>\n      <td>STICHTING PENSIOENFONDS RAIL &amp; OPENBAAR VERVOER</td>\n      <td>BUY</td>\n      <td>1,33,121</td>\n      <td>1,483.10</td>\n      <td>-</td>\n    </tr>\n    <tr>\n      <th>54</th>\n      <td>09-APR-2024</td>\n      <td>PETRONET</td>\n      <td>Petronet LNG Limited</td>\n      <td>STICHTING CUST ROBECO INST RE:CALYP</td>\n      <td>SELL</td>\n      <td>6,05,855</td>\n      <td>281.00</td>\n      <td>-</td>\n    </tr>\n    <tr>\n      <th>55</th>\n      <td>09-APR-2024</td>\n      <td>PETRONET</td>\n      <td>Petronet LNG Limited</td>\n      <td>STICHTING CUST ROBECO INST RE:CALYP</td>\n      <td>SELL</td>\n      <td>6,05,855</td>\n      <td>281.00</td>\n      <td>-</td>\n    </tr>\n    <tr>\n      <th>56</th>\n      <td>09-APR-2024</td>\n      <td>PETRONET</td>\n      <td>Petronet LNG Limited</td>\n      <td>STICHTING PENSIOENFONDS RAIL &amp; OPENBAAR VERVOER</td>\n      <td>BUY</td>\n      <td>6,05,855</td>\n      <td>281.00</td>\n      <td>-</td>\n    </tr>\n    <tr>\n      <th>57</th>\n      <td>09-APR-2024</td>\n      <td>PETRONET</td>\n      <td>Petronet LNG Limited</td>\n      <td>STICHTING PENSIOENFONDS RAIL &amp; OPENBAAR VERVOER</td>\n      <td>BUY</td>\n      <td>6,05,855</td>\n      <td>281.00</td>\n      <td>-</td>\n    </tr>\n  </tbody>\n</table>\n</div>"
     },
     "execution_count": 14,
     "metadata": {},
     "output_type": "execute_result"
    }
   ],
   "source": [
    "cm.block_deals_data(period=\"1M\")"
   ]
  },
  {
   "cell_type": "code",
   "execution_count": 15,
   "outputs": [
    {
     "data": {
      "text/plain": "    Symbol Series         Date  PrevClose  OpenPrice  HighPrice  LowPrice  \\\n0     SBIN     EQ  11-Apr-2023     526.30     530.85     535.70    527.15   \n1     SBIN     EQ  12-Apr-2023     532.10     533.20     534.00    526.00   \n2     SBIN     EQ  13-Apr-2023     528.20     529.30     534.25    527.15   \n3     SBIN     EQ  17-Apr-2023     532.95     528.00     545.00    528.00   \n4     SBIN     EQ  18-Apr-2023     544.00     545.35     548.50    540.50   \n..     ...    ...          ...        ...        ...        ...       ...   \n249   SBIN     EQ  05-Apr-2024     759.30     757.95     767.70    752.60   \n250   SBIN     EQ  08-Apr-2024     764.75     766.05     770.00    761.80   \n251   SBIN     T0  08-Apr-2024     764.75     762.00     762.00    762.00   \n252   SBIN     EQ  09-Apr-2024     768.30     768.45     772.45    761.10   \n253   SBIN     EQ  10-Apr-2024     764.20     766.50     780.70    763.65   \n\n     LastPrice  ClosePrice  AveragePrice TotalTradedQuantity  \\\n0       532.50      532.10        533.07         2,64,14,406   \n1       529.15      528.20        529.65         2,12,92,441   \n2       533.40      532.95        530.40         2,85,97,560   \n3       544.40      544.00        539.11         3,24,76,990   \n4       545.25      545.85        545.32         2,22,83,456   \n..         ...         ...           ...                 ...   \n249     765.90      764.75        760.39           99,39,620   \n250     767.60      768.30        766.03           97,97,174   \n251     762.00      768.30        762.00                   1   \n252     765.05      764.20        766.79           74,65,892   \n253     777.40      779.05        772.90         1,45,30,669   \n\n           TurnoverInRs No.ofTrades DeliverableQty  %DlyQttoTradedQty  \n0    14,08,08,36,565.45    1,76,416      45,16,279              17.10  \n1    11,27,75,64,811.00    1,70,950      62,08,271              29.16  \n2    15,16,82,46,670.05    1,68,188      45,76,910              16.00  \n3    17,50,87,92,556.85    2,29,953      78,32,609              24.12  \n4    12,15,16,54,395.50    2,18,269      58,57,265              26.29  \n..                  ...         ...            ...                ...  \n249   7,55,79,66,836.05    1,59,848      32,84,683              33.05  \n250   7,50,49,31,342.05    1,93,392      45,73,077              46.68  \n251              762.00           1              1             100.00  \n252   5,72,47,66,013.05    1,27,868      22,70,132              30.41  \n253  11,23,07,49,541.10    2,01,570      60,83,772              41.87  \n\n[254 rows x 15 columns]",
      "text/html": "<div>\n<style scoped>\n    .dataframe tbody tr th:only-of-type {\n        vertical-align: middle;\n    }\n\n    .dataframe tbody tr th {\n        vertical-align: top;\n    }\n\n    .dataframe thead th {\n        text-align: right;\n    }\n</style>\n<table border=\"1\" class=\"dataframe\">\n  <thead>\n    <tr style=\"text-align: right;\">\n      <th></th>\n      <th>Symbol</th>\n      <th>Series</th>\n      <th>Date</th>\n      <th>PrevClose</th>\n      <th>OpenPrice</th>\n      <th>HighPrice</th>\n      <th>LowPrice</th>\n      <th>LastPrice</th>\n      <th>ClosePrice</th>\n      <th>AveragePrice</th>\n      <th>TotalTradedQuantity</th>\n      <th>TurnoverInRs</th>\n      <th>No.ofTrades</th>\n      <th>DeliverableQty</th>\n      <th>%DlyQttoTradedQty</th>\n    </tr>\n  </thead>\n  <tbody>\n    <tr>\n      <th>0</th>\n      <td>SBIN</td>\n      <td>EQ</td>\n      <td>11-Apr-2023</td>\n      <td>526.30</td>\n      <td>530.85</td>\n      <td>535.70</td>\n      <td>527.15</td>\n      <td>532.50</td>\n      <td>532.10</td>\n      <td>533.07</td>\n      <td>2,64,14,406</td>\n      <td>14,08,08,36,565.45</td>\n      <td>1,76,416</td>\n      <td>45,16,279</td>\n      <td>17.10</td>\n    </tr>\n    <tr>\n      <th>1</th>\n      <td>SBIN</td>\n      <td>EQ</td>\n      <td>12-Apr-2023</td>\n      <td>532.10</td>\n      <td>533.20</td>\n      <td>534.00</td>\n      <td>526.00</td>\n      <td>529.15</td>\n      <td>528.20</td>\n      <td>529.65</td>\n      <td>2,12,92,441</td>\n      <td>11,27,75,64,811.00</td>\n      <td>1,70,950</td>\n      <td>62,08,271</td>\n      <td>29.16</td>\n    </tr>\n    <tr>\n      <th>2</th>\n      <td>SBIN</td>\n      <td>EQ</td>\n      <td>13-Apr-2023</td>\n      <td>528.20</td>\n      <td>529.30</td>\n      <td>534.25</td>\n      <td>527.15</td>\n      <td>533.40</td>\n      <td>532.95</td>\n      <td>530.40</td>\n      <td>2,85,97,560</td>\n      <td>15,16,82,46,670.05</td>\n      <td>1,68,188</td>\n      <td>45,76,910</td>\n      <td>16.00</td>\n    </tr>\n    <tr>\n      <th>3</th>\n      <td>SBIN</td>\n      <td>EQ</td>\n      <td>17-Apr-2023</td>\n      <td>532.95</td>\n      <td>528.00</td>\n      <td>545.00</td>\n      <td>528.00</td>\n      <td>544.40</td>\n      <td>544.00</td>\n      <td>539.11</td>\n      <td>3,24,76,990</td>\n      <td>17,50,87,92,556.85</td>\n      <td>2,29,953</td>\n      <td>78,32,609</td>\n      <td>24.12</td>\n    </tr>\n    <tr>\n      <th>4</th>\n      <td>SBIN</td>\n      <td>EQ</td>\n      <td>18-Apr-2023</td>\n      <td>544.00</td>\n      <td>545.35</td>\n      <td>548.50</td>\n      <td>540.50</td>\n      <td>545.25</td>\n      <td>545.85</td>\n      <td>545.32</td>\n      <td>2,22,83,456</td>\n      <td>12,15,16,54,395.50</td>\n      <td>2,18,269</td>\n      <td>58,57,265</td>\n      <td>26.29</td>\n    </tr>\n    <tr>\n      <th>...</th>\n      <td>...</td>\n      <td>...</td>\n      <td>...</td>\n      <td>...</td>\n      <td>...</td>\n      <td>...</td>\n      <td>...</td>\n      <td>...</td>\n      <td>...</td>\n      <td>...</td>\n      <td>...</td>\n      <td>...</td>\n      <td>...</td>\n      <td>...</td>\n      <td>...</td>\n    </tr>\n    <tr>\n      <th>249</th>\n      <td>SBIN</td>\n      <td>EQ</td>\n      <td>05-Apr-2024</td>\n      <td>759.30</td>\n      <td>757.95</td>\n      <td>767.70</td>\n      <td>752.60</td>\n      <td>765.90</td>\n      <td>764.75</td>\n      <td>760.39</td>\n      <td>99,39,620</td>\n      <td>7,55,79,66,836.05</td>\n      <td>1,59,848</td>\n      <td>32,84,683</td>\n      <td>33.05</td>\n    </tr>\n    <tr>\n      <th>250</th>\n      <td>SBIN</td>\n      <td>EQ</td>\n      <td>08-Apr-2024</td>\n      <td>764.75</td>\n      <td>766.05</td>\n      <td>770.00</td>\n      <td>761.80</td>\n      <td>767.60</td>\n      <td>768.30</td>\n      <td>766.03</td>\n      <td>97,97,174</td>\n      <td>7,50,49,31,342.05</td>\n      <td>1,93,392</td>\n      <td>45,73,077</td>\n      <td>46.68</td>\n    </tr>\n    <tr>\n      <th>251</th>\n      <td>SBIN</td>\n      <td>T0</td>\n      <td>08-Apr-2024</td>\n      <td>764.75</td>\n      <td>762.00</td>\n      <td>762.00</td>\n      <td>762.00</td>\n      <td>762.00</td>\n      <td>768.30</td>\n      <td>762.00</td>\n      <td>1</td>\n      <td>762.00</td>\n      <td>1</td>\n      <td>1</td>\n      <td>100.00</td>\n    </tr>\n    <tr>\n      <th>252</th>\n      <td>SBIN</td>\n      <td>EQ</td>\n      <td>09-Apr-2024</td>\n      <td>768.30</td>\n      <td>768.45</td>\n      <td>772.45</td>\n      <td>761.10</td>\n      <td>765.05</td>\n      <td>764.20</td>\n      <td>766.79</td>\n      <td>74,65,892</td>\n      <td>5,72,47,66,013.05</td>\n      <td>1,27,868</td>\n      <td>22,70,132</td>\n      <td>30.41</td>\n    </tr>\n    <tr>\n      <th>253</th>\n      <td>SBIN</td>\n      <td>EQ</td>\n      <td>10-Apr-2024</td>\n      <td>764.20</td>\n      <td>766.50</td>\n      <td>780.70</td>\n      <td>763.65</td>\n      <td>777.40</td>\n      <td>779.05</td>\n      <td>772.90</td>\n      <td>1,45,30,669</td>\n      <td>11,23,07,49,541.10</td>\n      <td>2,01,570</td>\n      <td>60,83,772</td>\n      <td>41.87</td>\n    </tr>\n  </tbody>\n</table>\n<p>254 rows × 15 columns</p>\n</div>"
     },
     "execution_count": 15,
     "metadata": {},
     "output_type": "execute_result"
    }
   ],
   "source": [
    "cm.price_volume_and_deliverable_position_data(\"SBIN\",period=\"1Y\")"
   ],
   "metadata": {
    "collapsed": false,
    "pycharm": {
     "name": "#%%\n"
    }
   }
  },
  {
   "cell_type": "code",
   "execution_count": 18,
   "metadata": {
    "collapsed": false,
    "pycharm": {
     "name": "#%%\n"
    }
   },
   "outputs": [],
   "source": [
    "import nselib.derivatives as de"
   ]
  },
  {
   "cell_type": "code",
   "execution_count": 19,
   "metadata": {
    "collapsed": false,
    "pycharm": {
     "name": "#%%\n"
    }
   },
   "outputs": [
    {
     "ename": "TypeError",
     "evalue": "participant_wise_open_interest() missing 1 required positional argument: 'trade_date'",
     "output_type": "error",
     "traceback": [
      "\u001B[1;31m---------------------------------------------------------------------------\u001B[0m",
      "\u001B[1;31mTypeError\u001B[0m                                 Traceback (most recent call last)",
      "Cell \u001B[1;32mIn[19], line 1\u001B[0m\n\u001B[1;32m----> 1\u001B[0m \u001B[43mde\u001B[49m\u001B[38;5;241;43m.\u001B[39;49m\u001B[43mparticipant_wise_open_interest\u001B[49m\u001B[43m(\u001B[49m\u001B[43m)\u001B[49m\n",
      "\u001B[1;31mTypeError\u001B[0m: participant_wise_open_interest() missing 1 required positional argument: 'trade_date'"
     ]
    }
   ],
   "source": [
    "de.participant_wise_open_interest()"
   ]
  },
  {
   "cell_type": "code",
   "execution_count": 20,
   "metadata": {
    "collapsed": false,
    "pycharm": {
     "name": "#%%\n"
    }
   },
   "outputs": [],
   "source": [
    "ye=de.expiry_dates_option_index()"
   ]
  },
  {
   "cell_type": "code",
   "execution_count": 21,
   "metadata": {
    "collapsed": false,
    "pycharm": {
     "name": "#%%\n"
    }
   },
   "outputs": [
    {
     "data": {
      "text/plain": "dict"
     },
     "execution_count": 21,
     "metadata": {},
     "output_type": "execute_result"
    }
   ],
   "source": [
    "type(ye)"
   ]
  },
  {
   "cell_type": "code",
   "execution_count": 22,
   "metadata": {
    "collapsed": false,
    "pycharm": {
     "name": "#%%\n"
    }
   },
   "outputs": [
    {
     "data": {
      "text/plain": "3"
     },
     "execution_count": 22,
     "metadata": {},
     "output_type": "execute_result"
    }
   ],
   "source": [
    "len(ye)"
   ]
  },
  {
   "cell_type": "code",
   "execution_count": 23,
   "metadata": {
    "collapsed": false,
    "pycharm": {
     "name": "#%%\n"
    }
   },
   "outputs": [
    {
     "data": {
      "text/plain": "dict_keys(['NIFTY', 'FINNIFTY', 'BANKNIFTY'])"
     },
     "execution_count": 23,
     "metadata": {},
     "output_type": "execute_result"
    }
   ],
   "source": [
    "ye.keys()"
   ]
  },
  {
   "cell_type": "code",
   "execution_count": 24,
   "metadata": {
    "collapsed": false,
    "pycharm": {
     "name": "#%%\n"
    }
   },
   "outputs": [
    {
     "data": {
      "text/plain": "dict_values([['10-Apr-2024', '18-Apr-2024', '25-Apr-2024', '02-May-2024', '09-May-2024', '30-May-2024', '27-Jun-2024', '26-Sep-2024', '26-Dec-2024', '27-Mar-2025', '26-Jun-2025', '24-Dec-2025', '25-Jun-2026', '31-Dec-2026', '24-Jun-2027', '30-Dec-2027', '29-Jun-2028', '28-Dec-2028'], ['16-Apr-2024', '23-Apr-2024', '30-Apr-2024', '07-May-2024', '14-May-2024', '28-May-2024', '25-Jun-2024'], ['10-Apr-2024', '16-Apr-2024', '24-Apr-2024', '30-Apr-2024', '08-May-2024', '29-May-2024', '26-Jun-2024', '25-Sep-2024', '24-Dec-2024', '26-Mar-2025']])"
     },
     "execution_count": 24,
     "metadata": {},
     "output_type": "execute_result"
    }
   ],
   "source": [
    "ye.values()"
   ]
  },
  {
   "cell_type": "code",
   "execution_count": 25,
   "metadata": {
    "collapsed": false,
    "pycharm": {
     "name": "#%%\n"
    }
   },
   "outputs": [
    {
     "data": {
      "text/plain": "['10-Apr-2024',\n '18-Apr-2024',\n '25-Apr-2024',\n '02-May-2024',\n '09-May-2024',\n '30-May-2024',\n '27-Jun-2024',\n '26-Sep-2024',\n '26-Dec-2024',\n '27-Mar-2025',\n '26-Jun-2025',\n '24-Dec-2025',\n '25-Jun-2026',\n '31-Dec-2026',\n '24-Jun-2027',\n '30-Dec-2027',\n '29-Jun-2028',\n '28-Dec-2028']"
     },
     "execution_count": 25,
     "metadata": {},
     "output_type": "execute_result"
    }
   ],
   "source": [
    "ye[\"NIFTY\"]"
   ]
  },
  {
   "cell_type": "code",
   "execution_count": 30,
   "metadata": {
    "collapsed": false,
    "pycharm": {
     "name": "#%%\n"
    }
   },
   "outputs": [
    {
     "ename": "TypeError",
     "evalue": "fii_derivatives_statistics() missing 1 required positional argument: 'trade_date'",
     "output_type": "error",
     "traceback": [
      "\u001B[1;31m---------------------------------------------------------------------------\u001B[0m",
      "\u001B[1;31mTypeError\u001B[0m                                 Traceback (most recent call last)",
      "Cell \u001B[1;32mIn[30], line 1\u001B[0m\n\u001B[1;32m----> 1\u001B[0m \u001B[43mde\u001B[49m\u001B[38;5;241;43m.\u001B[39;49m\u001B[43mfii_derivatives_statistics\u001B[49m\u001B[43m(\u001B[49m\u001B[43m)\u001B[49m\n",
      "\u001B[1;31mTypeError\u001B[0m: fii_derivatives_statistics() missing 1 required positional argument: 'trade_date'"
     ]
    }
   ],
   "source": [
    "de.fii_derivatives_statistics()"
   ]
  },
  {
   "cell_type": "code",
   "execution_count": 31,
   "metadata": {
    "collapsed": false,
    "pycharm": {
     "name": "#%%\n"
    }
   },
   "outputs": [],
   "source": [
    "import nselib.debt as db"
   ]
  },
  {
   "cell_type": "code",
   "execution_count": 32,
   "metadata": {
    "collapsed": false,
    "pycharm": {
     "name": "#%%\n"
    }
   },
   "outputs": [
    {
     "name": "stdout",
     "output_type": "stream",
     "text": [
      "<module 'nselib.debt' from 'C:\\\\Users\\\\aviji\\\\AppData\\\\Roaming\\\\Python\\\\Python310\\\\site-packages\\\\nselib\\\\debt\\\\__init__.py'>\n"
     ]
    }
   ],
   "source": [
    "print(db)"
   ]
  },
  {
   "cell_type": "code",
   "execution_count": 33,
   "metadata": {
    "collapsed": false,
    "pycharm": {
     "name": "#%%\n"
    }
   },
   "outputs": [
    {
     "ename": "NSEdataNotFound",
     "evalue": " Resource not available MSG: 'charmap' codec can't encode character '\\x82' in position 178: character maps to <undefined>",
     "output_type": "error",
     "traceback": [
      "\u001B[1;31m---------------------------------------------------------------------------\u001B[0m",
      "\u001B[1;31mUnicodeEncodeError\u001B[0m                        Traceback (most recent call last)",
      "File \u001B[1;32m~\\AppData\\Roaming\\Python\\Python310\\site-packages\\nselib\\capital_market\\capital_market_data.py:96\u001B[0m, in \u001B[0;36mget_price_volume_data\u001B[1;34m(symbol, from_date, to_date)\u001B[0m\n\u001B[0;32m     95\u001B[0m \u001B[38;5;28;01mwith\u001B[39;00m \u001B[38;5;28mopen\u001B[39m(\u001B[38;5;124m'\u001B[39m\u001B[38;5;124mfile.csv\u001B[39m\u001B[38;5;124m'\u001B[39m, \u001B[38;5;124m'\u001B[39m\u001B[38;5;124mw\u001B[39m\u001B[38;5;124m'\u001B[39m) \u001B[38;5;28;01mas\u001B[39;00m f:\n\u001B[1;32m---> 96\u001B[0m     \u001B[43mf\u001B[49m\u001B[38;5;241;43m.\u001B[39;49m\u001B[43mwrite\u001B[49m\u001B[43m(\u001B[49m\u001B[43mdata_text\u001B[49m\u001B[43m)\u001B[49m\n\u001B[0;32m     97\u001B[0m f\u001B[38;5;241m.\u001B[39mclose()\n",
      "File \u001B[1;32mC:\\ProgramData\\anaconda3\\lib\\encodings\\cp1252.py:19\u001B[0m, in \u001B[0;36mIncrementalEncoder.encode\u001B[1;34m(self, input, final)\u001B[0m\n\u001B[0;32m     18\u001B[0m \u001B[38;5;28;01mdef\u001B[39;00m \u001B[38;5;21mencode\u001B[39m(\u001B[38;5;28mself\u001B[39m, \u001B[38;5;28minput\u001B[39m, final\u001B[38;5;241m=\u001B[39m\u001B[38;5;28;01mFalse\u001B[39;00m):\n\u001B[1;32m---> 19\u001B[0m     \u001B[38;5;28;01mreturn\u001B[39;00m \u001B[43mcodecs\u001B[49m\u001B[38;5;241;43m.\u001B[39;49m\u001B[43mcharmap_encode\u001B[49m\u001B[43m(\u001B[49m\u001B[38;5;28;43minput\u001B[39;49m\u001B[43m,\u001B[49m\u001B[38;5;28;43mself\u001B[39;49m\u001B[38;5;241;43m.\u001B[39;49m\u001B[43merrors\u001B[49m\u001B[43m,\u001B[49m\u001B[43mencoding_table\u001B[49m\u001B[43m)\u001B[49m[\u001B[38;5;241m0\u001B[39m]\n",
      "\u001B[1;31mUnicodeEncodeError\u001B[0m: 'charmap' codec can't encode character '\\x82' in position 178: character maps to <undefined>",
      "\nDuring handling of the above exception, another exception occurred:\n",
      "\u001B[1;31mNSEdataNotFound\u001B[0m                           Traceback (most recent call last)",
      "Cell \u001B[1;32mIn[33], line 1\u001B[0m\n\u001B[1;32m----> 1\u001B[0m \u001B[43mcm\u001B[49m\u001B[38;5;241;43m.\u001B[39;49m\u001B[43mdeliverable_position_data\u001B[49m\u001B[43m(\u001B[49m\u001B[38;5;124;43m\"\u001B[39;49m\u001B[38;5;124;43mSBIN\u001B[39;49m\u001B[38;5;124;43m\"\u001B[39;49m\u001B[43m,\u001B[49m\u001B[43mperiod\u001B[49m\u001B[38;5;241;43m=\u001B[39;49m\u001B[38;5;124;43m\"\u001B[39;49m\u001B[38;5;124;43m1M\u001B[39;49m\u001B[38;5;124;43m\"\u001B[39;49m\u001B[43m)\u001B[49m\n",
      "File \u001B[1;32m~\\AppData\\Roaming\\Python\\Python310\\site-packages\\nselib\\capital_market\\capital_market_data.py:133\u001B[0m, in \u001B[0;36mdeliverable_position_data\u001B[1;34m(symbol, from_date, to_date, period)\u001B[0m\n\u001B[0;32m    131\u001B[0m     end_date \u001B[38;5;241m=\u001B[39m to_date\u001B[38;5;241m.\u001B[39mstrftime(dd_mm_yyyy)\n\u001B[0;32m    132\u001B[0m     start_date \u001B[38;5;241m=\u001B[39m from_date\u001B[38;5;241m.\u001B[39mstrftime(dd_mm_yyyy)\n\u001B[1;32m--> 133\u001B[0m data_df \u001B[38;5;241m=\u001B[39m \u001B[43mget_price_volume_data\u001B[49m\u001B[43m(\u001B[49m\u001B[43msymbol\u001B[49m\u001B[38;5;241;43m=\u001B[39;49m\u001B[43msymbol\u001B[49m\u001B[43m,\u001B[49m\u001B[43m \u001B[49m\u001B[43mfrom_date\u001B[49m\u001B[38;5;241;43m=\u001B[39;49m\u001B[43mstart_date\u001B[49m\u001B[43m,\u001B[49m\u001B[43m \u001B[49m\u001B[43mto_date\u001B[49m\u001B[38;5;241;43m=\u001B[39;49m\u001B[43mend_date\u001B[49m\u001B[43m)\u001B[49m\n\u001B[0;32m    134\u001B[0m from_date \u001B[38;5;241m=\u001B[39m from_date \u001B[38;5;241m+\u001B[39m dt\u001B[38;5;241m.\u001B[39mtimedelta(\u001B[38;5;241m365\u001B[39m)\n\u001B[0;32m    135\u001B[0m load_days \u001B[38;5;241m=\u001B[39m (to_date \u001B[38;5;241m-\u001B[39m from_date)\u001B[38;5;241m.\u001B[39mdays\n",
      "File \u001B[1;32m~\\AppData\\Roaming\\Python\\Python310\\site-packages\\nselib\\capital_market\\capital_market_data.py:99\u001B[0m, in \u001B[0;36mget_price_volume_data\u001B[1;34m(symbol, from_date, to_date)\u001B[0m\n\u001B[0;32m     97\u001B[0m     f\u001B[38;5;241m.\u001B[39mclose()\n\u001B[0;32m     98\u001B[0m \u001B[38;5;28;01mexcept\u001B[39;00m \u001B[38;5;167;01mException\u001B[39;00m \u001B[38;5;28;01mas\u001B[39;00m e:\n\u001B[1;32m---> 99\u001B[0m     \u001B[38;5;28;01mraise\u001B[39;00m NSEdataNotFound(\u001B[38;5;124mf\u001B[39m\u001B[38;5;124m\"\u001B[39m\u001B[38;5;124m Resource not available MSG: \u001B[39m\u001B[38;5;132;01m{\u001B[39;00me\u001B[38;5;132;01m}\u001B[39;00m\u001B[38;5;124m\"\u001B[39m)\n\u001B[0;32m    100\u001B[0m data_df \u001B[38;5;241m=\u001B[39m pd\u001B[38;5;241m.\u001B[39mread_csv(\u001B[38;5;124m'\u001B[39m\u001B[38;5;124mfile.csv\u001B[39m\u001B[38;5;124m'\u001B[39m)\n\u001B[0;32m    101\u001B[0m data_df\u001B[38;5;241m.\u001B[39mcolumns \u001B[38;5;241m=\u001B[39m [name\u001B[38;5;241m.\u001B[39mreplace(\u001B[38;5;124m'\u001B[39m\u001B[38;5;124m \u001B[39m\u001B[38;5;124m'\u001B[39m, \u001B[38;5;124m'\u001B[39m\u001B[38;5;124m'\u001B[39m) \u001B[38;5;28;01mfor\u001B[39;00m name \u001B[38;5;129;01min\u001B[39;00m data_df\u001B[38;5;241m.\u001B[39mcolumns]\n",
      "\u001B[1;31mNSEdataNotFound\u001B[0m:  Resource not available MSG: 'charmap' codec can't encode character '\\x82' in position 178: character maps to <undefined>"
     ]
    }
   ],
   "source": [
    "cm.deliverable_position_data(\"SBIN\",period=\"1M\")"
   ]
  },
  {
   "cell_type": "code",
   "execution_count": null,
   "metadata": {
    "collapsed": false,
    "pycharm": {
     "name": "#%%\n"
    }
   },
   "outputs": [],
   "source": [
    "cm.index_data()"
   ]
  },
  {
   "cell_type": "code",
   "execution_count": 36,
   "metadata": {
    "collapsed": false,
    "pycharm": {
     "name": "#%%\n"
    }
   },
   "outputs": [
    {
     "data": {
      "text/plain": "            Date      Symbol               SecurityName Quantity\n0    29-Mar-2023  BERGEPAINT  BERGER PAINTS (I) LIMITED   58,300\n1    10-Mar-2023     MPHASIS            MPHASIS LIMITED   10,450\n2    09-Mar-2023     POLYCAB      POLYCAB INDIA LIMITED      300\n3    09-Mar-2023  INDUSTOWER                      INDUS   70,000\n4    10-Mar-2023   DEEPAKNTR     DEEPAK NITRITE LIMITED   14,000\n..           ...         ...                        ...      ...\n369  15-Mar-2024        ZEEL  ZEE ENTERTAINMENT ENT LTD   12,000\n370  20-Mar-2024         PEL    PIRAMAL ENTERPRISES LTD    2,170\n371  20-Mar-2024  BAJAJ-AUTO         BAJAJ AUTO LIMITED   17,000\n372  01-Apr-2024  HINDCOPPER   HINDUSTAN COPPER LIMITED   21,200\n373  01-Apr-2024         IGL       INDRAPRASTHA GAS LTD    1,375\n\n[374 rows x 4 columns]",
      "text/html": "<div>\n<style scoped>\n    .dataframe tbody tr th:only-of-type {\n        vertical-align: middle;\n    }\n\n    .dataframe tbody tr th {\n        vertical-align: top;\n    }\n\n    .dataframe thead th {\n        text-align: right;\n    }\n</style>\n<table border=\"1\" class=\"dataframe\">\n  <thead>\n    <tr style=\"text-align: right;\">\n      <th></th>\n      <th>Date</th>\n      <th>Symbol</th>\n      <th>SecurityName</th>\n      <th>Quantity</th>\n    </tr>\n  </thead>\n  <tbody>\n    <tr>\n      <th>0</th>\n      <td>29-Mar-2023</td>\n      <td>BERGEPAINT</td>\n      <td>BERGER PAINTS (I) LIMITED</td>\n      <td>58,300</td>\n    </tr>\n    <tr>\n      <th>1</th>\n      <td>10-Mar-2023</td>\n      <td>MPHASIS</td>\n      <td>MPHASIS LIMITED</td>\n      <td>10,450</td>\n    </tr>\n    <tr>\n      <th>2</th>\n      <td>09-Mar-2023</td>\n      <td>POLYCAB</td>\n      <td>POLYCAB INDIA LIMITED</td>\n      <td>300</td>\n    </tr>\n    <tr>\n      <th>3</th>\n      <td>09-Mar-2023</td>\n      <td>INDUSTOWER</td>\n      <td>INDUS</td>\n      <td>70,000</td>\n    </tr>\n    <tr>\n      <th>4</th>\n      <td>10-Mar-2023</td>\n      <td>DEEPAKNTR</td>\n      <td>DEEPAK NITRITE LIMITED</td>\n      <td>14,000</td>\n    </tr>\n    <tr>\n      <th>...</th>\n      <td>...</td>\n      <td>...</td>\n      <td>...</td>\n      <td>...</td>\n    </tr>\n    <tr>\n      <th>369</th>\n      <td>15-Mar-2024</td>\n      <td>ZEEL</td>\n      <td>ZEE ENTERTAINMENT ENT LTD</td>\n      <td>12,000</td>\n    </tr>\n    <tr>\n      <th>370</th>\n      <td>20-Mar-2024</td>\n      <td>PEL</td>\n      <td>PIRAMAL ENTERPRISES LTD</td>\n      <td>2,170</td>\n    </tr>\n    <tr>\n      <th>371</th>\n      <td>20-Mar-2024</td>\n      <td>BAJAJ-AUTO</td>\n      <td>BAJAJ AUTO LIMITED</td>\n      <td>17,000</td>\n    </tr>\n    <tr>\n      <th>372</th>\n      <td>01-Apr-2024</td>\n      <td>HINDCOPPER</td>\n      <td>HINDUSTAN COPPER LIMITED</td>\n      <td>21,200</td>\n    </tr>\n    <tr>\n      <th>373</th>\n      <td>01-Apr-2024</td>\n      <td>IGL</td>\n      <td>INDRAPRASTHA GAS LTD</td>\n      <td>1,375</td>\n    </tr>\n  </tbody>\n</table>\n<p>374 rows × 4 columns</p>\n</div>"
     },
     "execution_count": 36,
     "metadata": {},
     "output_type": "execute_result"
    }
   ],
   "source": [
    "cm.short_selling_data(from_date=\"10-03-2023\", to_date=\"10-04-2024\")"
   ]
  },
  {
   "cell_type": "code",
   "execution_count": 38,
   "metadata": {
    "collapsed": false,
    "pycharm": {
     "name": "#%%\n"
    }
   },
   "outputs": [
    {
     "data": {
      "text/plain": "          SYMBOL                           NAME OF COMPANY  SERIES  \\\n0      20MICRONS                        20 Microns Limited      EQ   \n1     21STCENMGM  21st Century Management Services Limited      BE   \n2         360ONE                       360 ONE WAM LIMITED      EQ   \n3      3IINFOLTD                       3i Infotech Limited      EQ   \n4        3MINDIA                          3M India Limited      EQ   \n...          ...                                       ...     ...   \n1965        ZOTA                  Zota Health Care LImited      EQ   \n1966       ZUARI              Zuari Agro Chemicals Limited      EQ   \n1967    ZUARIIND                  ZUARI INDUSTRIES LIMITED      EQ   \n1968   ZYDUSLIFE                Zydus Lifesciences Limited      EQ   \n1969   ZYDUSWELL                    Zydus Wellness Limited      EQ   \n\n      DATE OF LISTING   FACE VALUE  \n0         06-OCT-2008            5  \n1         03-MAY-1995           10  \n2         19-SEP-2019            1  \n3         22-OCT-2021           10  \n4         13-AUG-2004           10  \n...               ...          ...  \n1965      19-AUG-2019           10  \n1966      27-NOV-2012           10  \n1967      12-APR-1995           10  \n1968      18-APR-2000            1  \n1969      13-NOV-2009           10  \n\n[1970 rows x 5 columns]",
      "text/html": "<div>\n<style scoped>\n    .dataframe tbody tr th:only-of-type {\n        vertical-align: middle;\n    }\n\n    .dataframe tbody tr th {\n        vertical-align: top;\n    }\n\n    .dataframe thead th {\n        text-align: right;\n    }\n</style>\n<table border=\"1\" class=\"dataframe\">\n  <thead>\n    <tr style=\"text-align: right;\">\n      <th></th>\n      <th>SYMBOL</th>\n      <th>NAME OF COMPANY</th>\n      <th>SERIES</th>\n      <th>DATE OF LISTING</th>\n      <th>FACE VALUE</th>\n    </tr>\n  </thead>\n  <tbody>\n    <tr>\n      <th>0</th>\n      <td>20MICRONS</td>\n      <td>20 Microns Limited</td>\n      <td>EQ</td>\n      <td>06-OCT-2008</td>\n      <td>5</td>\n    </tr>\n    <tr>\n      <th>1</th>\n      <td>21STCENMGM</td>\n      <td>21st Century Management Services Limited</td>\n      <td>BE</td>\n      <td>03-MAY-1995</td>\n      <td>10</td>\n    </tr>\n    <tr>\n      <th>2</th>\n      <td>360ONE</td>\n      <td>360 ONE WAM LIMITED</td>\n      <td>EQ</td>\n      <td>19-SEP-2019</td>\n      <td>1</td>\n    </tr>\n    <tr>\n      <th>3</th>\n      <td>3IINFOLTD</td>\n      <td>3i Infotech Limited</td>\n      <td>EQ</td>\n      <td>22-OCT-2021</td>\n      <td>10</td>\n    </tr>\n    <tr>\n      <th>4</th>\n      <td>3MINDIA</td>\n      <td>3M India Limited</td>\n      <td>EQ</td>\n      <td>13-AUG-2004</td>\n      <td>10</td>\n    </tr>\n    <tr>\n      <th>...</th>\n      <td>...</td>\n      <td>...</td>\n      <td>...</td>\n      <td>...</td>\n      <td>...</td>\n    </tr>\n    <tr>\n      <th>1965</th>\n      <td>ZOTA</td>\n      <td>Zota Health Care LImited</td>\n      <td>EQ</td>\n      <td>19-AUG-2019</td>\n      <td>10</td>\n    </tr>\n    <tr>\n      <th>1966</th>\n      <td>ZUARI</td>\n      <td>Zuari Agro Chemicals Limited</td>\n      <td>EQ</td>\n      <td>27-NOV-2012</td>\n      <td>10</td>\n    </tr>\n    <tr>\n      <th>1967</th>\n      <td>ZUARIIND</td>\n      <td>ZUARI INDUSTRIES LIMITED</td>\n      <td>EQ</td>\n      <td>12-APR-1995</td>\n      <td>10</td>\n    </tr>\n    <tr>\n      <th>1968</th>\n      <td>ZYDUSLIFE</td>\n      <td>Zydus Lifesciences Limited</td>\n      <td>EQ</td>\n      <td>18-APR-2000</td>\n      <td>1</td>\n    </tr>\n    <tr>\n      <th>1969</th>\n      <td>ZYDUSWELL</td>\n      <td>Zydus Wellness Limited</td>\n      <td>EQ</td>\n      <td>13-NOV-2009</td>\n      <td>10</td>\n    </tr>\n  </tbody>\n</table>\n<p>1970 rows × 5 columns</p>\n</div>"
     },
     "execution_count": 38,
     "metadata": {},
     "output_type": "execute_result"
    }
   ],
   "source": [
    "equity=cm.equity_list()\n",
    "equity"
   ]
  },
  {
   "cell_type": "code",
   "execution_count": 39,
   "outputs": [
    {
     "data": {
      "text/plain": "                                  Company Name  \\\n0                       Adani Enterprises Ltd.   \n1   Adani Ports and Special Economic Zone Ltd.   \n2             Apollo Hospitals Enterprise Ltd.   \n3                            Asian Paints Ltd.   \n4                               Axis Bank Ltd.   \n5                              Bajaj Auto Ltd.   \n6                           Bajaj Finance Ltd.   \n7                           Bajaj Finserv Ltd.   \n8            Bharat Petroleum Corporation Ltd.   \n9                           Bharti Airtel Ltd.   \n10                   Britannia Industries Ltd.   \n11                                  Cipla Ltd.   \n12                             Coal India Ltd.   \n13                    Divi's Laboratories Ltd.   \n14               Dr. Reddy's Laboratories Ltd.   \n15                          Eicher Motors Ltd.   \n16                      Grasim Industries Ltd.   \n17                       HCL Technologies Ltd.   \n18                              HDFC Bank Ltd.   \n19            HDFC Life Insurance Company Ltd.   \n20                          Hero MotoCorp Ltd.   \n21                    Hindalco Industries Ltd.   \n22                     Hindustan Unilever Ltd.   \n23                             ICICI Bank Ltd.   \n24                                    ITC Ltd.   \n25                          IndusInd Bank Ltd.   \n26                                Infosys Ltd.   \n27                              JSW Steel Ltd.   \n28                    Kotak Mahindra Bank Ltd.   \n29                            LTIMindtree Ltd.   \n30                        Larsen & Toubro Ltd.   \n31                    Mahindra & Mahindra Ltd.   \n32                    Maruti Suzuki India Ltd.   \n33                                   NTPC Ltd.   \n34                           Nestle India Ltd.   \n35          Oil & Natural Gas Corporation Ltd.   \n36        Power Grid Corporation of India Ltd.   \n37                    Reliance Industries Ltd.   \n38             SBI Life Insurance Company Ltd.   \n39                        Shriram Finance Ltd.   \n40                         State Bank of India   \n41          Sun Pharmaceutical Industries Ltd.   \n42              Tata Consultancy Services Ltd.   \n43                 Tata Consumer Products Ltd.   \n44                            Tata Motors Ltd.   \n45                             Tata Steel Ltd.   \n46                          Tech Mahindra Ltd.   \n47                          Titan Company Ltd.   \n48                       UltraTech Cement Ltd.   \n49                                  Wipro Ltd.   \n\n                          Industry      Symbol  \n0                  Metals & Mining    ADANIENT  \n1                         Services  ADANIPORTS  \n2                       Healthcare  APOLLOHOSP  \n3                Consumer Durables  ASIANPAINT  \n4               Financial Services    AXISBANK  \n5   Automobile and Auto Components  BAJAJ-AUTO  \n6               Financial Services  BAJFINANCE  \n7               Financial Services  BAJAJFINSV  \n8       Oil Gas & Consumable Fuels        BPCL  \n9                Telecommunication  BHARTIARTL  \n10      Fast Moving Consumer Goods   BRITANNIA  \n11                      Healthcare       CIPLA  \n12      Oil Gas & Consumable Fuels   COALINDIA  \n13                      Healthcare    DIVISLAB  \n14                      Healthcare     DRREDDY  \n15  Automobile and Auto Components   EICHERMOT  \n16          Construction Materials      GRASIM  \n17          Information Technology     HCLTECH  \n18              Financial Services    HDFCBANK  \n19              Financial Services    HDFCLIFE  \n20  Automobile and Auto Components  HEROMOTOCO  \n21                 Metals & Mining    HINDALCO  \n22      Fast Moving Consumer Goods  HINDUNILVR  \n23              Financial Services   ICICIBANK  \n24      Fast Moving Consumer Goods         ITC  \n25              Financial Services  INDUSINDBK  \n26          Information Technology        INFY  \n27                 Metals & Mining    JSWSTEEL  \n28              Financial Services   KOTAKBANK  \n29          Information Technology        LTIM  \n30                    Construction          LT  \n31  Automobile and Auto Components         M&M  \n32  Automobile and Auto Components      MARUTI  \n33                           Power        NTPC  \n34      Fast Moving Consumer Goods   NESTLEIND  \n35      Oil Gas & Consumable Fuels        ONGC  \n36                           Power   POWERGRID  \n37      Oil Gas & Consumable Fuels    RELIANCE  \n38              Financial Services     SBILIFE  \n39              Financial Services  SHRIRAMFIN  \n40              Financial Services        SBIN  \n41                      Healthcare   SUNPHARMA  \n42          Information Technology         TCS  \n43      Fast Moving Consumer Goods  TATACONSUM  \n44  Automobile and Auto Components  TATAMOTORS  \n45                 Metals & Mining   TATASTEEL  \n46          Information Technology       TECHM  \n47               Consumer Durables       TITAN  \n48          Construction Materials  ULTRACEMCO  \n49          Information Technology       WIPRO  ",
      "text/html": "<div>\n<style scoped>\n    .dataframe tbody tr th:only-of-type {\n        vertical-align: middle;\n    }\n\n    .dataframe tbody tr th {\n        vertical-align: top;\n    }\n\n    .dataframe thead th {\n        text-align: right;\n    }\n</style>\n<table border=\"1\" class=\"dataframe\">\n  <thead>\n    <tr style=\"text-align: right;\">\n      <th></th>\n      <th>Company Name</th>\n      <th>Industry</th>\n      <th>Symbol</th>\n    </tr>\n  </thead>\n  <tbody>\n    <tr>\n      <th>0</th>\n      <td>Adani Enterprises Ltd.</td>\n      <td>Metals &amp; Mining</td>\n      <td>ADANIENT</td>\n    </tr>\n    <tr>\n      <th>1</th>\n      <td>Adani Ports and Special Economic Zone Ltd.</td>\n      <td>Services</td>\n      <td>ADANIPORTS</td>\n    </tr>\n    <tr>\n      <th>2</th>\n      <td>Apollo Hospitals Enterprise Ltd.</td>\n      <td>Healthcare</td>\n      <td>APOLLOHOSP</td>\n    </tr>\n    <tr>\n      <th>3</th>\n      <td>Asian Paints Ltd.</td>\n      <td>Consumer Durables</td>\n      <td>ASIANPAINT</td>\n    </tr>\n    <tr>\n      <th>4</th>\n      <td>Axis Bank Ltd.</td>\n      <td>Financial Services</td>\n      <td>AXISBANK</td>\n    </tr>\n    <tr>\n      <th>5</th>\n      <td>Bajaj Auto Ltd.</td>\n      <td>Automobile and Auto Components</td>\n      <td>BAJAJ-AUTO</td>\n    </tr>\n    <tr>\n      <th>6</th>\n      <td>Bajaj Finance Ltd.</td>\n      <td>Financial Services</td>\n      <td>BAJFINANCE</td>\n    </tr>\n    <tr>\n      <th>7</th>\n      <td>Bajaj Finserv Ltd.</td>\n      <td>Financial Services</td>\n      <td>BAJAJFINSV</td>\n    </tr>\n    <tr>\n      <th>8</th>\n      <td>Bharat Petroleum Corporation Ltd.</td>\n      <td>Oil Gas &amp; Consumable Fuels</td>\n      <td>BPCL</td>\n    </tr>\n    <tr>\n      <th>9</th>\n      <td>Bharti Airtel Ltd.</td>\n      <td>Telecommunication</td>\n      <td>BHARTIARTL</td>\n    </tr>\n    <tr>\n      <th>10</th>\n      <td>Britannia Industries Ltd.</td>\n      <td>Fast Moving Consumer Goods</td>\n      <td>BRITANNIA</td>\n    </tr>\n    <tr>\n      <th>11</th>\n      <td>Cipla Ltd.</td>\n      <td>Healthcare</td>\n      <td>CIPLA</td>\n    </tr>\n    <tr>\n      <th>12</th>\n      <td>Coal India Ltd.</td>\n      <td>Oil Gas &amp; Consumable Fuels</td>\n      <td>COALINDIA</td>\n    </tr>\n    <tr>\n      <th>13</th>\n      <td>Divi's Laboratories Ltd.</td>\n      <td>Healthcare</td>\n      <td>DIVISLAB</td>\n    </tr>\n    <tr>\n      <th>14</th>\n      <td>Dr. Reddy's Laboratories Ltd.</td>\n      <td>Healthcare</td>\n      <td>DRREDDY</td>\n    </tr>\n    <tr>\n      <th>15</th>\n      <td>Eicher Motors Ltd.</td>\n      <td>Automobile and Auto Components</td>\n      <td>EICHERMOT</td>\n    </tr>\n    <tr>\n      <th>16</th>\n      <td>Grasim Industries Ltd.</td>\n      <td>Construction Materials</td>\n      <td>GRASIM</td>\n    </tr>\n    <tr>\n      <th>17</th>\n      <td>HCL Technologies Ltd.</td>\n      <td>Information Technology</td>\n      <td>HCLTECH</td>\n    </tr>\n    <tr>\n      <th>18</th>\n      <td>HDFC Bank Ltd.</td>\n      <td>Financial Services</td>\n      <td>HDFCBANK</td>\n    </tr>\n    <tr>\n      <th>19</th>\n      <td>HDFC Life Insurance Company Ltd.</td>\n      <td>Financial Services</td>\n      <td>HDFCLIFE</td>\n    </tr>\n    <tr>\n      <th>20</th>\n      <td>Hero MotoCorp Ltd.</td>\n      <td>Automobile and Auto Components</td>\n      <td>HEROMOTOCO</td>\n    </tr>\n    <tr>\n      <th>21</th>\n      <td>Hindalco Industries Ltd.</td>\n      <td>Metals &amp; Mining</td>\n      <td>HINDALCO</td>\n    </tr>\n    <tr>\n      <th>22</th>\n      <td>Hindustan Unilever Ltd.</td>\n      <td>Fast Moving Consumer Goods</td>\n      <td>HINDUNILVR</td>\n    </tr>\n    <tr>\n      <th>23</th>\n      <td>ICICI Bank Ltd.</td>\n      <td>Financial Services</td>\n      <td>ICICIBANK</td>\n    </tr>\n    <tr>\n      <th>24</th>\n      <td>ITC Ltd.</td>\n      <td>Fast Moving Consumer Goods</td>\n      <td>ITC</td>\n    </tr>\n    <tr>\n      <th>25</th>\n      <td>IndusInd Bank Ltd.</td>\n      <td>Financial Services</td>\n      <td>INDUSINDBK</td>\n    </tr>\n    <tr>\n      <th>26</th>\n      <td>Infosys Ltd.</td>\n      <td>Information Technology</td>\n      <td>INFY</td>\n    </tr>\n    <tr>\n      <th>27</th>\n      <td>JSW Steel Ltd.</td>\n      <td>Metals &amp; Mining</td>\n      <td>JSWSTEEL</td>\n    </tr>\n    <tr>\n      <th>28</th>\n      <td>Kotak Mahindra Bank Ltd.</td>\n      <td>Financial Services</td>\n      <td>KOTAKBANK</td>\n    </tr>\n    <tr>\n      <th>29</th>\n      <td>LTIMindtree Ltd.</td>\n      <td>Information Technology</td>\n      <td>LTIM</td>\n    </tr>\n    <tr>\n      <th>30</th>\n      <td>Larsen &amp; Toubro Ltd.</td>\n      <td>Construction</td>\n      <td>LT</td>\n    </tr>\n    <tr>\n      <th>31</th>\n      <td>Mahindra &amp; Mahindra Ltd.</td>\n      <td>Automobile and Auto Components</td>\n      <td>M&amp;M</td>\n    </tr>\n    <tr>\n      <th>32</th>\n      <td>Maruti Suzuki India Ltd.</td>\n      <td>Automobile and Auto Components</td>\n      <td>MARUTI</td>\n    </tr>\n    <tr>\n      <th>33</th>\n      <td>NTPC Ltd.</td>\n      <td>Power</td>\n      <td>NTPC</td>\n    </tr>\n    <tr>\n      <th>34</th>\n      <td>Nestle India Ltd.</td>\n      <td>Fast Moving Consumer Goods</td>\n      <td>NESTLEIND</td>\n    </tr>\n    <tr>\n      <th>35</th>\n      <td>Oil &amp; Natural Gas Corporation Ltd.</td>\n      <td>Oil Gas &amp; Consumable Fuels</td>\n      <td>ONGC</td>\n    </tr>\n    <tr>\n      <th>36</th>\n      <td>Power Grid Corporation of India Ltd.</td>\n      <td>Power</td>\n      <td>POWERGRID</td>\n    </tr>\n    <tr>\n      <th>37</th>\n      <td>Reliance Industries Ltd.</td>\n      <td>Oil Gas &amp; Consumable Fuels</td>\n      <td>RELIANCE</td>\n    </tr>\n    <tr>\n      <th>38</th>\n      <td>SBI Life Insurance Company Ltd.</td>\n      <td>Financial Services</td>\n      <td>SBILIFE</td>\n    </tr>\n    <tr>\n      <th>39</th>\n      <td>Shriram Finance Ltd.</td>\n      <td>Financial Services</td>\n      <td>SHRIRAMFIN</td>\n    </tr>\n    <tr>\n      <th>40</th>\n      <td>State Bank of India</td>\n      <td>Financial Services</td>\n      <td>SBIN</td>\n    </tr>\n    <tr>\n      <th>41</th>\n      <td>Sun Pharmaceutical Industries Ltd.</td>\n      <td>Healthcare</td>\n      <td>SUNPHARMA</td>\n    </tr>\n    <tr>\n      <th>42</th>\n      <td>Tata Consultancy Services Ltd.</td>\n      <td>Information Technology</td>\n      <td>TCS</td>\n    </tr>\n    <tr>\n      <th>43</th>\n      <td>Tata Consumer Products Ltd.</td>\n      <td>Fast Moving Consumer Goods</td>\n      <td>TATACONSUM</td>\n    </tr>\n    <tr>\n      <th>44</th>\n      <td>Tata Motors Ltd.</td>\n      <td>Automobile and Auto Components</td>\n      <td>TATAMOTORS</td>\n    </tr>\n    <tr>\n      <th>45</th>\n      <td>Tata Steel Ltd.</td>\n      <td>Metals &amp; Mining</td>\n      <td>TATASTEEL</td>\n    </tr>\n    <tr>\n      <th>46</th>\n      <td>Tech Mahindra Ltd.</td>\n      <td>Information Technology</td>\n      <td>TECHM</td>\n    </tr>\n    <tr>\n      <th>47</th>\n      <td>Titan Company Ltd.</td>\n      <td>Consumer Durables</td>\n      <td>TITAN</td>\n    </tr>\n    <tr>\n      <th>48</th>\n      <td>UltraTech Cement Ltd.</td>\n      <td>Construction Materials</td>\n      <td>ULTRACEMCO</td>\n    </tr>\n    <tr>\n      <th>49</th>\n      <td>Wipro Ltd.</td>\n      <td>Information Technology</td>\n      <td>WIPRO</td>\n    </tr>\n  </tbody>\n</table>\n</div>"
     },
     "execution_count": 39,
     "metadata": {},
     "output_type": "execute_result"
    }
   ],
   "source": [
    "data1"
   ],
   "metadata": {
    "collapsed": false,
    "pycharm": {
     "name": "#%%\n"
    }
   }
  },
  {
   "cell_type": "code",
   "execution_count": 40,
   "metadata": {
    "collapsed": false,
    "pycharm": {
     "name": "#%%\n"
    }
   },
   "outputs": [
    {
     "data": {
      "text/plain": "          SYMBOL SERIES     OPEN     HIGH      LOW    CLOSE     LAST  \\\n0     1018GS2026     GS   112.00   112.00   112.00   112.00   112.00   \n1     182D010824     TB    97.44    97.45    97.44    97.45    97.45   \n2     182D040724     TB    98.07    98.07    98.06    98.06    98.06   \n3     182D050924     TB    96.80    97.10    96.80    97.10    97.10   \n4     182D060624     TB    98.71    98.72    98.71    98.72    98.72   \n...          ...    ...      ...      ...      ...      ...      ...   \n2704        ZOTA     EQ   499.00   511.15   495.95   502.25   500.00   \n2705       ZUARI     EQ   197.00   199.40   194.15   197.45   197.00   \n2706    ZUARIIND     EQ   335.25   344.05   329.20   340.90   342.20   \n2707   ZYDUSLIFE     EQ   994.70   999.40   984.65   994.20   992.05   \n2708   ZYDUSWELL     EQ  1564.35  1599.00  1552.10  1593.75  1597.35   \n\n      PREVCLOSE  TOTTRDQTY     TOTTRDVAL    TIMESTAMP  TOTALTRADES  \n0        112.00       4000  4.480000e+05  10-APR-2024           10  \n1         98.00        400  3.897800e+04  10-APR-2024            3  \n2         97.95        200  1.961300e+04  10-APR-2024            2  \n3         96.75        300  2.910000e+04  10-APR-2024            2  \n4         98.25        300  2.961500e+04  10-APR-2024            2  \n...         ...        ...           ...          ...          ...  \n2704     497.95      27716  1.399223e+07  10-APR-2024         2066  \n2705     196.40     139768  2.756992e+07  10-APR-2024         7229  \n2706     335.25     129085  4.341046e+07  10-APR-2024         8667  \n2707     989.15     594164  5.900131e+08  10-APR-2024        36494  \n2708    1559.65      33798  5.340361e+07  10-APR-2024         4958  \n\n[2709 rows x 12 columns]",
      "text/html": "<div>\n<style scoped>\n    .dataframe tbody tr th:only-of-type {\n        vertical-align: middle;\n    }\n\n    .dataframe tbody tr th {\n        vertical-align: top;\n    }\n\n    .dataframe thead th {\n        text-align: right;\n    }\n</style>\n<table border=\"1\" class=\"dataframe\">\n  <thead>\n    <tr style=\"text-align: right;\">\n      <th></th>\n      <th>SYMBOL</th>\n      <th>SERIES</th>\n      <th>OPEN</th>\n      <th>HIGH</th>\n      <th>LOW</th>\n      <th>CLOSE</th>\n      <th>LAST</th>\n      <th>PREVCLOSE</th>\n      <th>TOTTRDQTY</th>\n      <th>TOTTRDVAL</th>\n      <th>TIMESTAMP</th>\n      <th>TOTALTRADES</th>\n    </tr>\n  </thead>\n  <tbody>\n    <tr>\n      <th>0</th>\n      <td>1018GS2026</td>\n      <td>GS</td>\n      <td>112.00</td>\n      <td>112.00</td>\n      <td>112.00</td>\n      <td>112.00</td>\n      <td>112.00</td>\n      <td>112.00</td>\n      <td>4000</td>\n      <td>4.480000e+05</td>\n      <td>10-APR-2024</td>\n      <td>10</td>\n    </tr>\n    <tr>\n      <th>1</th>\n      <td>182D010824</td>\n      <td>TB</td>\n      <td>97.44</td>\n      <td>97.45</td>\n      <td>97.44</td>\n      <td>97.45</td>\n      <td>97.45</td>\n      <td>98.00</td>\n      <td>400</td>\n      <td>3.897800e+04</td>\n      <td>10-APR-2024</td>\n      <td>3</td>\n    </tr>\n    <tr>\n      <th>2</th>\n      <td>182D040724</td>\n      <td>TB</td>\n      <td>98.07</td>\n      <td>98.07</td>\n      <td>98.06</td>\n      <td>98.06</td>\n      <td>98.06</td>\n      <td>97.95</td>\n      <td>200</td>\n      <td>1.961300e+04</td>\n      <td>10-APR-2024</td>\n      <td>2</td>\n    </tr>\n    <tr>\n      <th>3</th>\n      <td>182D050924</td>\n      <td>TB</td>\n      <td>96.80</td>\n      <td>97.10</td>\n      <td>96.80</td>\n      <td>97.10</td>\n      <td>97.10</td>\n      <td>96.75</td>\n      <td>300</td>\n      <td>2.910000e+04</td>\n      <td>10-APR-2024</td>\n      <td>2</td>\n    </tr>\n    <tr>\n      <th>4</th>\n      <td>182D060624</td>\n      <td>TB</td>\n      <td>98.71</td>\n      <td>98.72</td>\n      <td>98.71</td>\n      <td>98.72</td>\n      <td>98.72</td>\n      <td>98.25</td>\n      <td>300</td>\n      <td>2.961500e+04</td>\n      <td>10-APR-2024</td>\n      <td>2</td>\n    </tr>\n    <tr>\n      <th>...</th>\n      <td>...</td>\n      <td>...</td>\n      <td>...</td>\n      <td>...</td>\n      <td>...</td>\n      <td>...</td>\n      <td>...</td>\n      <td>...</td>\n      <td>...</td>\n      <td>...</td>\n      <td>...</td>\n      <td>...</td>\n    </tr>\n    <tr>\n      <th>2704</th>\n      <td>ZOTA</td>\n      <td>EQ</td>\n      <td>499.00</td>\n      <td>511.15</td>\n      <td>495.95</td>\n      <td>502.25</td>\n      <td>500.00</td>\n      <td>497.95</td>\n      <td>27716</td>\n      <td>1.399223e+07</td>\n      <td>10-APR-2024</td>\n      <td>2066</td>\n    </tr>\n    <tr>\n      <th>2705</th>\n      <td>ZUARI</td>\n      <td>EQ</td>\n      <td>197.00</td>\n      <td>199.40</td>\n      <td>194.15</td>\n      <td>197.45</td>\n      <td>197.00</td>\n      <td>196.40</td>\n      <td>139768</td>\n      <td>2.756992e+07</td>\n      <td>10-APR-2024</td>\n      <td>7229</td>\n    </tr>\n    <tr>\n      <th>2706</th>\n      <td>ZUARIIND</td>\n      <td>EQ</td>\n      <td>335.25</td>\n      <td>344.05</td>\n      <td>329.20</td>\n      <td>340.90</td>\n      <td>342.20</td>\n      <td>335.25</td>\n      <td>129085</td>\n      <td>4.341046e+07</td>\n      <td>10-APR-2024</td>\n      <td>8667</td>\n    </tr>\n    <tr>\n      <th>2707</th>\n      <td>ZYDUSLIFE</td>\n      <td>EQ</td>\n      <td>994.70</td>\n      <td>999.40</td>\n      <td>984.65</td>\n      <td>994.20</td>\n      <td>992.05</td>\n      <td>989.15</td>\n      <td>594164</td>\n      <td>5.900131e+08</td>\n      <td>10-APR-2024</td>\n      <td>36494</td>\n    </tr>\n    <tr>\n      <th>2708</th>\n      <td>ZYDUSWELL</td>\n      <td>EQ</td>\n      <td>1564.35</td>\n      <td>1599.00</td>\n      <td>1552.10</td>\n      <td>1593.75</td>\n      <td>1597.35</td>\n      <td>1559.65</td>\n      <td>33798</td>\n      <td>5.340361e+07</td>\n      <td>10-APR-2024</td>\n      <td>4958</td>\n    </tr>\n  </tbody>\n</table>\n<p>2709 rows × 12 columns</p>\n</div>"
     },
     "execution_count": 40,
     "metadata": {},
     "output_type": "execute_result"
    }
   ],
   "source": [
    "data"
   ]
  },
  {
   "cell_type": "code",
   "execution_count": null,
   "metadata": {
    "collapsed": false,
    "pycharm": {
     "name": "#%%\n"
    }
   },
   "outputs": [],
   "source": []
  },
  {
   "cell_type": "code",
   "execution_count": null,
   "metadata": {
    "collapsed": false,
    "pycharm": {
     "name": "#%%\n"
    }
   },
   "outputs": [],
   "source": []
  },
  {
   "cell_type": "code",
   "execution_count": null,
   "metadata": {
    "collapsed": false,
    "pycharm": {
     "name": "#%%\n"
    }
   },
   "outputs": [],
   "source": []
  },
  {
   "cell_type": "code",
   "execution_count": null,
   "metadata": {
    "collapsed": false,
    "pycharm": {
     "name": "#%%\n"
    }
   },
   "outputs": [],
   "source": []
  },
  {
   "cell_type": "code",
   "execution_count": null,
   "metadata": {
    "collapsed": false,
    "pycharm": {
     "name": "#%%\n"
    }
   },
   "outputs": [],
   "source": []
  },
  {
   "cell_type": "code",
   "execution_count": null,
   "metadata": {
    "collapsed": false,
    "pycharm": {
     "name": "#%%\n"
    }
   },
   "outputs": [],
   "source": []
  },
  {
   "cell_type": "code",
   "execution_count": null,
   "metadata": {
    "collapsed": false,
    "pycharm": {
     "name": "#%%\n"
    }
   },
   "outputs": [],
   "source": []
  },
  {
   "cell_type": "code",
   "execution_count": null,
   "metadata": {
    "collapsed": false,
    "pycharm": {
     "name": "#%%\n"
    }
   },
   "outputs": [],
   "source": []
  },
  {
   "cell_type": "code",
   "execution_count": null,
   "metadata": {
    "collapsed": false,
    "pycharm": {
     "name": "#%%\n"
    }
   },
   "outputs": [],
   "source": []
  },
  {
   "cell_type": "code",
   "execution_count": null,
   "metadata": {
    "collapsed": false,
    "pycharm": {
     "name": "#%%\n"
    }
   },
   "outputs": [],
   "source": []
  },
  {
   "cell_type": "code",
   "execution_count": null,
   "metadata": {
    "collapsed": false,
    "pycharm": {
     "name": "#%%\n"
    }
   },
   "outputs": [],
   "source": []
  },
  {
   "cell_type": "code",
   "execution_count": null,
   "metadata": {
    "collapsed": false,
    "pycharm": {
     "name": "#%%\n"
    }
   },
   "outputs": [],
   "source": []
  },
  {
   "cell_type": "code",
   "execution_count": null,
   "metadata": {
    "collapsed": false,
    "pycharm": {
     "name": "#%%\n"
    }
   },
   "outputs": [],
   "source": []
  },
  {
   "cell_type": "code",
   "execution_count": null,
   "metadata": {
    "collapsed": false,
    "pycharm": {
     "name": "#%%\n"
    }
   },
   "outputs": [],
   "source": []
  },
  {
   "cell_type": "code",
   "execution_count": null,
   "metadata": {
    "collapsed": false,
    "pycharm": {
     "name": "#%%\n"
    }
   },
   "outputs": [],
   "source": []
  },
  {
   "cell_type": "code",
   "execution_count": null,
   "metadata": {
    "collapsed": false,
    "pycharm": {
     "name": "#%%\n"
    }
   },
   "outputs": [],
   "source": []
  },
  {
   "cell_type": "code",
   "execution_count": null,
   "metadata": {
    "collapsed": false,
    "pycharm": {
     "name": "#%%\n"
    }
   },
   "outputs": [],
   "source": []
  },
  {
   "cell_type": "code",
   "execution_count": null,
   "metadata": {
    "collapsed": false,
    "pycharm": {
     "name": "#%%\n"
    }
   },
   "outputs": [],
   "source": []
  }
 ],
 "metadata": {
  "kernelspec": {
   "display_name": "Python311",
   "language": "python",
   "name": "python3"
  },
  "language_info": {
   "codemirror_mode": {
    "name": "ipython",
    "version": 3
   },
   "file_extension": ".py",
   "mimetype": "text/x-python",
   "name": "python",
   "nbconvert_exporter": "python",
   "pygments_lexer": "ipython3",
   "version": "3.11.4"
  },
  "vscode": {
   "interpreter": {
    "hash": "a6623a6dd6b719a9fe940801cd6c263a7fd2597ca3a80bc952c84d8baaa65c43"
   }
  }
 },
 "nbformat": 4,
 "nbformat_minor": 0
}