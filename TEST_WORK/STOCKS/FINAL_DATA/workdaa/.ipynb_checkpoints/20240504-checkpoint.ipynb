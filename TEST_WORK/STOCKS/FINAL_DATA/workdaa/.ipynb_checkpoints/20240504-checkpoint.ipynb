{
 "cells": [
  {
   "cell_type": "code",
   "execution_count": 20,
   "metadata": {
    "pycharm": {
     "name": "#%%\n"
    }
   },
   "outputs": [],
   "source": [
    "from nselib import capital_market as cm"
   ]
  },
  {
   "cell_type": "code",
   "execution_count": 21,
   "metadata": {
    "pycharm": {
     "name": "#%%\n"
    }
   },
   "outputs": [],
   "source": [
    "import nselib as ns"
   ]
  },
  {
   "cell_type": "code",
   "execution_count": 22,
   "metadata": {
    "pycharm": {
     "name": "#%%\n"
    }
   },
   "outputs": [],
   "source": [
    "import nselib.derivatives as de"
   ]
  },
  {
   "cell_type": "code",
   "execution_count": 23,
   "metadata": {
    "pycharm": {
     "name": "#%%\n"
    }
   },
   "outputs": [],
   "source": [
    "hcal=ns.trading_holiday_calendar()"
   ]
  },
  {
   "cell_type": "code",
   "execution_count": 5,
   "metadata": {
    "pycharm": {
     "name": "#%%\n"
    }
   },
   "outputs": [],
   "source": [
    "nifty50=cm.nifty50_equity_list()"
   ]
  },
  {
   "cell_type": "code",
   "execution_count": 6,
   "metadata": {
    "pycharm": {
     "name": "#%%\n"
    }
   },
   "outputs": [],
   "source": [
    "data=cm.bhav_copy_equities(\"03-05-2024\")"
   ]
  },
  {
   "cell_type": "code",
   "execution_count": 7,
   "metadata": {
    "pycharm": {
     "name": "#%%\n"
    }
   },
   "outputs": [],
   "source": [
    "SBIN=cm.price_volume_and_deliverable_position_data(\"SBIN\",period=\"1Y\")"
   ]
  },
  {
   "cell_type": "code",
   "execution_count": 8,
   "metadata": {
    "pycharm": {
     "name": "#%%\n"
    }
   },
   "outputs": [
    {
     "data": {
      "text/html": [
       "<div>\n",
       "<style scoped>\n",
       "    .dataframe tbody tr th:only-of-type {\n",
       "        vertical-align: middle;\n",
       "    }\n",
       "\n",
       "    .dataframe tbody tr th {\n",
       "        vertical-align: top;\n",
       "    }\n",
       "\n",
       "    .dataframe thead th {\n",
       "        text-align: right;\n",
       "    }\n",
       "</style>\n",
       "<table border=\"1\" class=\"dataframe\">\n",
       "  <thead>\n",
       "    <tr style=\"text-align: right;\">\n",
       "      <th></th>\n",
       "      <th>SYMBOL</th>\n",
       "      <th>SERIES</th>\n",
       "      <th>OPEN</th>\n",
       "      <th>HIGH</th>\n",
       "      <th>LOW</th>\n",
       "      <th>CLOSE</th>\n",
       "      <th>LAST</th>\n",
       "      <th>PREVCLOSE</th>\n",
       "      <th>TOTTRDQTY</th>\n",
       "      <th>TOTTRDVAL</th>\n",
       "      <th>TIMESTAMP</th>\n",
       "      <th>TOTALTRADES</th>\n",
       "    </tr>\n",
       "  </thead>\n",
       "  <tbody>\n",
       "    <tr>\n",
       "      <th>0</th>\n",
       "      <td>1018GS2026</td>\n",
       "      <td>GS</td>\n",
       "      <td>110.15</td>\n",
       "      <td>113.00</td>\n",
       "      <td>110.15</td>\n",
       "      <td>112.10</td>\n",
       "      <td>113.00</td>\n",
       "      <td>112.92</td>\n",
       "      <td>32</td>\n",
       "      <td>3.587500e+03</td>\n",
       "      <td>03-MAY-2024</td>\n",
       "      <td>4</td>\n",
       "    </tr>\n",
       "    <tr>\n",
       "      <th>1</th>\n",
       "      <td>182D031024</td>\n",
       "      <td>TB</td>\n",
       "      <td>96.75</td>\n",
       "      <td>96.80</td>\n",
       "      <td>96.75</td>\n",
       "      <td>96.80</td>\n",
       "      <td>96.80</td>\n",
       "      <td>97.50</td>\n",
       "      <td>1100</td>\n",
       "      <td>1.064300e+05</td>\n",
       "      <td>03-MAY-2024</td>\n",
       "      <td>3</td>\n",
       "    </tr>\n",
       "    <tr>\n",
       "      <th>2</th>\n",
       "      <td>182D040724</td>\n",
       "      <td>TB</td>\n",
       "      <td>98.44</td>\n",
       "      <td>98.44</td>\n",
       "      <td>98.42</td>\n",
       "      <td>98.42</td>\n",
       "      <td>98.42</td>\n",
       "      <td>98.42</td>\n",
       "      <td>500</td>\n",
       "      <td>4.921200e+04</td>\n",
       "      <td>03-MAY-2024</td>\n",
       "      <td>2</td>\n",
       "    </tr>\n",
       "    <tr>\n",
       "      <th>3</th>\n",
       "      <td>182D050924</td>\n",
       "      <td>TB</td>\n",
       "      <td>97.20</td>\n",
       "      <td>97.68</td>\n",
       "      <td>97.20</td>\n",
       "      <td>97.60</td>\n",
       "      <td>97.60</td>\n",
       "      <td>97.72</td>\n",
       "      <td>3200</td>\n",
       "      <td>3.115520e+05</td>\n",
       "      <td>03-MAY-2024</td>\n",
       "      <td>5</td>\n",
       "    </tr>\n",
       "    <tr>\n",
       "      <th>4</th>\n",
       "      <td>182D130624</td>\n",
       "      <td>TB</td>\n",
       "      <td>99.01</td>\n",
       "      <td>99.08</td>\n",
       "      <td>99.01</td>\n",
       "      <td>99.08</td>\n",
       "      <td>99.08</td>\n",
       "      <td>98.77</td>\n",
       "      <td>700</td>\n",
       "      <td>6.933400e+04</td>\n",
       "      <td>03-MAY-2024</td>\n",
       "      <td>4</td>\n",
       "    </tr>\n",
       "    <tr>\n",
       "      <th>...</th>\n",
       "      <td>...</td>\n",
       "      <td>...</td>\n",
       "      <td>...</td>\n",
       "      <td>...</td>\n",
       "      <td>...</td>\n",
       "      <td>...</td>\n",
       "      <td>...</td>\n",
       "      <td>...</td>\n",
       "      <td>...</td>\n",
       "      <td>...</td>\n",
       "      <td>...</td>\n",
       "      <td>...</td>\n",
       "    </tr>\n",
       "    <tr>\n",
       "      <th>2735</th>\n",
       "      <td>ZOTA</td>\n",
       "      <td>EQ</td>\n",
       "      <td>487.95</td>\n",
       "      <td>492.00</td>\n",
       "      <td>484.55</td>\n",
       "      <td>488.40</td>\n",
       "      <td>489.85</td>\n",
       "      <td>485.60</td>\n",
       "      <td>10346</td>\n",
       "      <td>5.043006e+06</td>\n",
       "      <td>03-MAY-2024</td>\n",
       "      <td>637</td>\n",
       "    </tr>\n",
       "    <tr>\n",
       "      <th>2736</th>\n",
       "      <td>ZUARI</td>\n",
       "      <td>EQ</td>\n",
       "      <td>194.20</td>\n",
       "      <td>195.70</td>\n",
       "      <td>189.00</td>\n",
       "      <td>189.40</td>\n",
       "      <td>189.20</td>\n",
       "      <td>194.10</td>\n",
       "      <td>161587</td>\n",
       "      <td>3.091666e+07</td>\n",
       "      <td>03-MAY-2024</td>\n",
       "      <td>4503</td>\n",
       "    </tr>\n",
       "    <tr>\n",
       "      <th>2737</th>\n",
       "      <td>ZUARIIND</td>\n",
       "      <td>EQ</td>\n",
       "      <td>345.35</td>\n",
       "      <td>348.00</td>\n",
       "      <td>325.15</td>\n",
       "      <td>327.65</td>\n",
       "      <td>329.00</td>\n",
       "      <td>341.80</td>\n",
       "      <td>125261</td>\n",
       "      <td>4.167983e+07</td>\n",
       "      <td>03-MAY-2024</td>\n",
       "      <td>6927</td>\n",
       "    </tr>\n",
       "    <tr>\n",
       "      <th>2738</th>\n",
       "      <td>ZYDUSLIFE</td>\n",
       "      <td>EQ</td>\n",
       "      <td>994.45</td>\n",
       "      <td>999.75</td>\n",
       "      <td>978.30</td>\n",
       "      <td>997.40</td>\n",
       "      <td>990.05</td>\n",
       "      <td>988.00</td>\n",
       "      <td>1408142</td>\n",
       "      <td>1.393937e+09</td>\n",
       "      <td>03-MAY-2024</td>\n",
       "      <td>79474</td>\n",
       "    </tr>\n",
       "    <tr>\n",
       "      <th>2739</th>\n",
       "      <td>ZYDUSWELL</td>\n",
       "      <td>EQ</td>\n",
       "      <td>1671.05</td>\n",
       "      <td>1694.95</td>\n",
       "      <td>1661.75</td>\n",
       "      <td>1670.50</td>\n",
       "      <td>1674.00</td>\n",
       "      <td>1671.00</td>\n",
       "      <td>26504</td>\n",
       "      <td>4.454192e+07</td>\n",
       "      <td>03-MAY-2024</td>\n",
       "      <td>3633</td>\n",
       "    </tr>\n",
       "  </tbody>\n",
       "</table>\n",
       "<p>2740 rows × 12 columns</p>\n",
       "</div>"
      ],
      "text/plain": [
       "          SYMBOL SERIES     OPEN     HIGH      LOW    CLOSE     LAST  \\\n",
       "0     1018GS2026     GS   110.15   113.00   110.15   112.10   113.00   \n",
       "1     182D031024     TB    96.75    96.80    96.75    96.80    96.80   \n",
       "2     182D040724     TB    98.44    98.44    98.42    98.42    98.42   \n",
       "3     182D050924     TB    97.20    97.68    97.20    97.60    97.60   \n",
       "4     182D130624     TB    99.01    99.08    99.01    99.08    99.08   \n",
       "...          ...    ...      ...      ...      ...      ...      ...   \n",
       "2735        ZOTA     EQ   487.95   492.00   484.55   488.40   489.85   \n",
       "2736       ZUARI     EQ   194.20   195.70   189.00   189.40   189.20   \n",
       "2737    ZUARIIND     EQ   345.35   348.00   325.15   327.65   329.00   \n",
       "2738   ZYDUSLIFE     EQ   994.45   999.75   978.30   997.40   990.05   \n",
       "2739   ZYDUSWELL     EQ  1671.05  1694.95  1661.75  1670.50  1674.00   \n",
       "\n",
       "      PREVCLOSE  TOTTRDQTY     TOTTRDVAL    TIMESTAMP  TOTALTRADES  \n",
       "0        112.92         32  3.587500e+03  03-MAY-2024            4  \n",
       "1         97.50       1100  1.064300e+05  03-MAY-2024            3  \n",
       "2         98.42        500  4.921200e+04  03-MAY-2024            2  \n",
       "3         97.72       3200  3.115520e+05  03-MAY-2024            5  \n",
       "4         98.77        700  6.933400e+04  03-MAY-2024            4  \n",
       "...         ...        ...           ...          ...          ...  \n",
       "2735     485.60      10346  5.043006e+06  03-MAY-2024          637  \n",
       "2736     194.10     161587  3.091666e+07  03-MAY-2024         4503  \n",
       "2737     341.80     125261  4.167983e+07  03-MAY-2024         6927  \n",
       "2738     988.00    1408142  1.393937e+09  03-MAY-2024        79474  \n",
       "2739    1671.00      26504  4.454192e+07  03-MAY-2024         3633  \n",
       "\n",
       "[2740 rows x 12 columns]"
      ]
     },
     "execution_count": 8,
     "metadata": {},
     "output_type": "execute_result"
    }
   ],
   "source": [
    "data"
   ]
  },
  {
   "cell_type": "code",
   "execution_count": 9,
   "metadata": {
    "pycharm": {
     "name": "#%%\n"
    }
   },
   "outputs": [
    {
     "data": {
      "text/plain": [
       "{'NIFTY': ['09-May-2024',\n",
       "  '16-May-2024',\n",
       "  '23-May-2024',\n",
       "  '30-May-2024',\n",
       "  '06-Jun-2024',\n",
       "  '27-Jun-2024',\n",
       "  '25-Jul-2024',\n",
       "  '26-Sep-2024',\n",
       "  '26-Dec-2024',\n",
       "  '27-Mar-2025',\n",
       "  '26-Jun-2025',\n",
       "  '24-Dec-2025',\n",
       "  '25-Jun-2026',\n",
       "  '31-Dec-2026',\n",
       "  '24-Jun-2027',\n",
       "  '30-Dec-2027',\n",
       "  '29-Jun-2028',\n",
       "  '28-Dec-2028'],\n",
       " 'FINNIFTY': ['07-May-2024',\n",
       "  '14-May-2024',\n",
       "  '21-May-2024',\n",
       "  '28-May-2024',\n",
       "  '04-Jun-2024',\n",
       "  '25-Jun-2024',\n",
       "  '30-Jul-2024'],\n",
       " 'BANKNIFTY': ['08-May-2024',\n",
       "  '15-May-2024',\n",
       "  '22-May-2024',\n",
       "  '29-May-2024',\n",
       "  '05-Jun-2024',\n",
       "  '26-Jun-2024',\n",
       "  '31-Jul-2024',\n",
       "  '25-Sep-2024',\n",
       "  '24-Dec-2024',\n",
       "  '26-Mar-2025']}"
      ]
     },
     "execution_count": 9,
     "metadata": {},
     "output_type": "execute_result"
    }
   ],
   "source": [
    "de.expiry_dates_option_index()"
   ]
  },
  {
   "cell_type": "code",
   "execution_count": 10,
   "metadata": {
    "pycharm": {
     "name": "#%%\n"
    }
   },
   "outputs": [
    {
     "data": {
      "text/html": [
       "<div>\n",
       "<style scoped>\n",
       "    .dataframe tbody tr th:only-of-type {\n",
       "        vertical-align: middle;\n",
       "    }\n",
       "\n",
       "    .dataframe tbody tr th {\n",
       "        vertical-align: top;\n",
       "    }\n",
       "\n",
       "    .dataframe thead th {\n",
       "        text-align: right;\n",
       "    }\n",
       "</style>\n",
       "<table border=\"1\" class=\"dataframe\">\n",
       "  <thead>\n",
       "    <tr style=\"text-align: right;\">\n",
       "      <th></th>\n",
       "      <th>Product</th>\n",
       "      <th>tradingDate</th>\n",
       "      <th>weekDay</th>\n",
       "      <th>description</th>\n",
       "      <th>Sr_no</th>\n",
       "    </tr>\n",
       "  </thead>\n",
       "  <tbody>\n",
       "    <tr>\n",
       "      <th>0</th>\n",
       "      <td>Corporate Bonds</td>\n",
       "      <td>22-Jan-2024</td>\n",
       "      <td>Monday</td>\n",
       "      <td>Special Holiday</td>\n",
       "      <td>1</td>\n",
       "    </tr>\n",
       "    <tr>\n",
       "      <th>1</th>\n",
       "      <td>Corporate Bonds</td>\n",
       "      <td>26-Jan-2024</td>\n",
       "      <td>Friday</td>\n",
       "      <td>Republic Day</td>\n",
       "      <td>2</td>\n",
       "    </tr>\n",
       "    <tr>\n",
       "      <th>2</th>\n",
       "      <td>Corporate Bonds</td>\n",
       "      <td>19-Feb-2024</td>\n",
       "      <td>Monday</td>\n",
       "      <td>Chatrapati Shivaji Maharaj Jayanti</td>\n",
       "      <td>3</td>\n",
       "    </tr>\n",
       "    <tr>\n",
       "      <th>3</th>\n",
       "      <td>Corporate Bonds</td>\n",
       "      <td>08-Mar-2024</td>\n",
       "      <td>Friday</td>\n",
       "      <td>Mahashivratri</td>\n",
       "      <td>4</td>\n",
       "    </tr>\n",
       "    <tr>\n",
       "      <th>4</th>\n",
       "      <td>Corporate Bonds</td>\n",
       "      <td>25-Mar-2024</td>\n",
       "      <td>Monday</td>\n",
       "      <td>Holi</td>\n",
       "      <td>5</td>\n",
       "    </tr>\n",
       "    <tr>\n",
       "      <th>...</th>\n",
       "      <td>...</td>\n",
       "      <td>...</td>\n",
       "      <td>...</td>\n",
       "      <td>...</td>\n",
       "      <td>...</td>\n",
       "    </tr>\n",
       "    <tr>\n",
       "      <th>16</th>\n",
       "      <td>Securities Lending &amp; Borrowing Schemes</td>\n",
       "      <td>12-Oct-2024</td>\n",
       "      <td>Saturday</td>\n",
       "      <td>Dussehra</td>\n",
       "      <td>17</td>\n",
       "    </tr>\n",
       "    <tr>\n",
       "      <th>17</th>\n",
       "      <td>Securities Lending &amp; Borrowing Schemes</td>\n",
       "      <td>01-Nov-2024</td>\n",
       "      <td>Friday</td>\n",
       "      <td>Diwali Laxmi Pujan*</td>\n",
       "      <td>18</td>\n",
       "    </tr>\n",
       "    <tr>\n",
       "      <th>18</th>\n",
       "      <td>Securities Lending &amp; Borrowing Schemes</td>\n",
       "      <td>02-Nov-2024</td>\n",
       "      <td>Saturday</td>\n",
       "      <td>Diwali-Balipratipada</td>\n",
       "      <td>19</td>\n",
       "    </tr>\n",
       "    <tr>\n",
       "      <th>19</th>\n",
       "      <td>Securities Lending &amp; Borrowing Schemes</td>\n",
       "      <td>15-Nov-2024</td>\n",
       "      <td>Friday</td>\n",
       "      <td>Gurunanak Jayanti</td>\n",
       "      <td>20</td>\n",
       "    </tr>\n",
       "    <tr>\n",
       "      <th>20</th>\n",
       "      <td>Securities Lending &amp; Borrowing Schemes</td>\n",
       "      <td>25-Dec-2024</td>\n",
       "      <td>Wednesday</td>\n",
       "      <td>Christmas</td>\n",
       "      <td>21</td>\n",
       "    </tr>\n",
       "  </tbody>\n",
       "</table>\n",
       "<p>247 rows × 5 columns</p>\n",
       "</div>"
      ],
      "text/plain": [
       "                                   Product  tradingDate    weekDay  \\\n",
       "0                          Corporate Bonds  22-Jan-2024     Monday   \n",
       "1                          Corporate Bonds  26-Jan-2024     Friday   \n",
       "2                          Corporate Bonds  19-Feb-2024     Monday   \n",
       "3                          Corporate Bonds  08-Mar-2024     Friday   \n",
       "4                          Corporate Bonds  25-Mar-2024     Monday   \n",
       "..                                     ...          ...        ...   \n",
       "16  Securities Lending & Borrowing Schemes  12-Oct-2024   Saturday   \n",
       "17  Securities Lending & Borrowing Schemes  01-Nov-2024     Friday   \n",
       "18  Securities Lending & Borrowing Schemes  02-Nov-2024   Saturday   \n",
       "19  Securities Lending & Borrowing Schemes  15-Nov-2024     Friday   \n",
       "20  Securities Lending & Borrowing Schemes  25-Dec-2024  Wednesday   \n",
       "\n",
       "                           description Sr_no  \n",
       "0                      Special Holiday     1  \n",
       "1                         Republic Day     2  \n",
       "2   Chatrapati Shivaji Maharaj Jayanti     3  \n",
       "3                        Mahashivratri     4  \n",
       "4                                 Holi     5  \n",
       "..                                 ...   ...  \n",
       "16                            Dussehra    17  \n",
       "17                 Diwali Laxmi Pujan*    18  \n",
       "18                Diwali-Balipratipada    19  \n",
       "19                   Gurunanak Jayanti    20  \n",
       "20                           Christmas    21  \n",
       "\n",
       "[247 rows x 5 columns]"
      ]
     },
     "execution_count": 10,
     "metadata": {},
     "output_type": "execute_result"
    }
   ],
   "source": [
    "hcal"
   ]
  },
  {
   "cell_type": "code",
   "execution_count": 11,
   "metadata": {
    "pycharm": {
     "name": "#%%\n"
    }
   },
   "outputs": [
    {
     "data": {
      "text/html": [
       "<div>\n",
       "<style scoped>\n",
       "    .dataframe tbody tr th:only-of-type {\n",
       "        vertical-align: middle;\n",
       "    }\n",
       "\n",
       "    .dataframe tbody tr th {\n",
       "        vertical-align: top;\n",
       "    }\n",
       "\n",
       "    .dataframe thead th {\n",
       "        text-align: right;\n",
       "    }\n",
       "</style>\n",
       "<table border=\"1\" class=\"dataframe\">\n",
       "  <thead>\n",
       "    <tr style=\"text-align: right;\">\n",
       "      <th></th>\n",
       "      <th>SYMBOL</th>\n",
       "      <th>SERIES</th>\n",
       "      <th>OPEN</th>\n",
       "      <th>HIGH</th>\n",
       "      <th>LOW</th>\n",
       "      <th>CLOSE</th>\n",
       "      <th>LAST</th>\n",
       "      <th>PREVCLOSE</th>\n",
       "      <th>TOTTRDQTY</th>\n",
       "      <th>TOTTRDVAL</th>\n",
       "      <th>TIMESTAMP</th>\n",
       "      <th>TOTALTRADES</th>\n",
       "    </tr>\n",
       "  </thead>\n",
       "  <tbody>\n",
       "    <tr>\n",
       "      <th>0</th>\n",
       "      <td>1018GS2026</td>\n",
       "      <td>GS</td>\n",
       "      <td>110.15</td>\n",
       "      <td>113.00</td>\n",
       "      <td>110.15</td>\n",
       "      <td>112.10</td>\n",
       "      <td>113.00</td>\n",
       "      <td>112.92</td>\n",
       "      <td>32</td>\n",
       "      <td>3.587500e+03</td>\n",
       "      <td>03-MAY-2024</td>\n",
       "      <td>4</td>\n",
       "    </tr>\n",
       "    <tr>\n",
       "      <th>1</th>\n",
       "      <td>182D031024</td>\n",
       "      <td>TB</td>\n",
       "      <td>96.75</td>\n",
       "      <td>96.80</td>\n",
       "      <td>96.75</td>\n",
       "      <td>96.80</td>\n",
       "      <td>96.80</td>\n",
       "      <td>97.50</td>\n",
       "      <td>1100</td>\n",
       "      <td>1.064300e+05</td>\n",
       "      <td>03-MAY-2024</td>\n",
       "      <td>3</td>\n",
       "    </tr>\n",
       "    <tr>\n",
       "      <th>2</th>\n",
       "      <td>182D040724</td>\n",
       "      <td>TB</td>\n",
       "      <td>98.44</td>\n",
       "      <td>98.44</td>\n",
       "      <td>98.42</td>\n",
       "      <td>98.42</td>\n",
       "      <td>98.42</td>\n",
       "      <td>98.42</td>\n",
       "      <td>500</td>\n",
       "      <td>4.921200e+04</td>\n",
       "      <td>03-MAY-2024</td>\n",
       "      <td>2</td>\n",
       "    </tr>\n",
       "    <tr>\n",
       "      <th>3</th>\n",
       "      <td>182D050924</td>\n",
       "      <td>TB</td>\n",
       "      <td>97.20</td>\n",
       "      <td>97.68</td>\n",
       "      <td>97.20</td>\n",
       "      <td>97.60</td>\n",
       "      <td>97.60</td>\n",
       "      <td>97.72</td>\n",
       "      <td>3200</td>\n",
       "      <td>3.115520e+05</td>\n",
       "      <td>03-MAY-2024</td>\n",
       "      <td>5</td>\n",
       "    </tr>\n",
       "    <tr>\n",
       "      <th>4</th>\n",
       "      <td>182D130624</td>\n",
       "      <td>TB</td>\n",
       "      <td>99.01</td>\n",
       "      <td>99.08</td>\n",
       "      <td>99.01</td>\n",
       "      <td>99.08</td>\n",
       "      <td>99.08</td>\n",
       "      <td>98.77</td>\n",
       "      <td>700</td>\n",
       "      <td>6.933400e+04</td>\n",
       "      <td>03-MAY-2024</td>\n",
       "      <td>4</td>\n",
       "    </tr>\n",
       "    <tr>\n",
       "      <th>...</th>\n",
       "      <td>...</td>\n",
       "      <td>...</td>\n",
       "      <td>...</td>\n",
       "      <td>...</td>\n",
       "      <td>...</td>\n",
       "      <td>...</td>\n",
       "      <td>...</td>\n",
       "      <td>...</td>\n",
       "      <td>...</td>\n",
       "      <td>...</td>\n",
       "      <td>...</td>\n",
       "      <td>...</td>\n",
       "    </tr>\n",
       "    <tr>\n",
       "      <th>2735</th>\n",
       "      <td>ZOTA</td>\n",
       "      <td>EQ</td>\n",
       "      <td>487.95</td>\n",
       "      <td>492.00</td>\n",
       "      <td>484.55</td>\n",
       "      <td>488.40</td>\n",
       "      <td>489.85</td>\n",
       "      <td>485.60</td>\n",
       "      <td>10346</td>\n",
       "      <td>5.043006e+06</td>\n",
       "      <td>03-MAY-2024</td>\n",
       "      <td>637</td>\n",
       "    </tr>\n",
       "    <tr>\n",
       "      <th>2736</th>\n",
       "      <td>ZUARI</td>\n",
       "      <td>EQ</td>\n",
       "      <td>194.20</td>\n",
       "      <td>195.70</td>\n",
       "      <td>189.00</td>\n",
       "      <td>189.40</td>\n",
       "      <td>189.20</td>\n",
       "      <td>194.10</td>\n",
       "      <td>161587</td>\n",
       "      <td>3.091666e+07</td>\n",
       "      <td>03-MAY-2024</td>\n",
       "      <td>4503</td>\n",
       "    </tr>\n",
       "    <tr>\n",
       "      <th>2737</th>\n",
       "      <td>ZUARIIND</td>\n",
       "      <td>EQ</td>\n",
       "      <td>345.35</td>\n",
       "      <td>348.00</td>\n",
       "      <td>325.15</td>\n",
       "      <td>327.65</td>\n",
       "      <td>329.00</td>\n",
       "      <td>341.80</td>\n",
       "      <td>125261</td>\n",
       "      <td>4.167983e+07</td>\n",
       "      <td>03-MAY-2024</td>\n",
       "      <td>6927</td>\n",
       "    </tr>\n",
       "    <tr>\n",
       "      <th>2738</th>\n",
       "      <td>ZYDUSLIFE</td>\n",
       "      <td>EQ</td>\n",
       "      <td>994.45</td>\n",
       "      <td>999.75</td>\n",
       "      <td>978.30</td>\n",
       "      <td>997.40</td>\n",
       "      <td>990.05</td>\n",
       "      <td>988.00</td>\n",
       "      <td>1408142</td>\n",
       "      <td>1.393937e+09</td>\n",
       "      <td>03-MAY-2024</td>\n",
       "      <td>79474</td>\n",
       "    </tr>\n",
       "    <tr>\n",
       "      <th>2739</th>\n",
       "      <td>ZYDUSWELL</td>\n",
       "      <td>EQ</td>\n",
       "      <td>1671.05</td>\n",
       "      <td>1694.95</td>\n",
       "      <td>1661.75</td>\n",
       "      <td>1670.50</td>\n",
       "      <td>1674.00</td>\n",
       "      <td>1671.00</td>\n",
       "      <td>26504</td>\n",
       "      <td>4.454192e+07</td>\n",
       "      <td>03-MAY-2024</td>\n",
       "      <td>3633</td>\n",
       "    </tr>\n",
       "  </tbody>\n",
       "</table>\n",
       "<p>2740 rows × 12 columns</p>\n",
       "</div>"
      ],
      "text/plain": [
       "          SYMBOL SERIES     OPEN     HIGH      LOW    CLOSE     LAST  \\\n",
       "0     1018GS2026     GS   110.15   113.00   110.15   112.10   113.00   \n",
       "1     182D031024     TB    96.75    96.80    96.75    96.80    96.80   \n",
       "2     182D040724     TB    98.44    98.44    98.42    98.42    98.42   \n",
       "3     182D050924     TB    97.20    97.68    97.20    97.60    97.60   \n",
       "4     182D130624     TB    99.01    99.08    99.01    99.08    99.08   \n",
       "...          ...    ...      ...      ...      ...      ...      ...   \n",
       "2735        ZOTA     EQ   487.95   492.00   484.55   488.40   489.85   \n",
       "2736       ZUARI     EQ   194.20   195.70   189.00   189.40   189.20   \n",
       "2737    ZUARIIND     EQ   345.35   348.00   325.15   327.65   329.00   \n",
       "2738   ZYDUSLIFE     EQ   994.45   999.75   978.30   997.40   990.05   \n",
       "2739   ZYDUSWELL     EQ  1671.05  1694.95  1661.75  1670.50  1674.00   \n",
       "\n",
       "      PREVCLOSE  TOTTRDQTY     TOTTRDVAL    TIMESTAMP  TOTALTRADES  \n",
       "0        112.92         32  3.587500e+03  03-MAY-2024            4  \n",
       "1         97.50       1100  1.064300e+05  03-MAY-2024            3  \n",
       "2         98.42        500  4.921200e+04  03-MAY-2024            2  \n",
       "3         97.72       3200  3.115520e+05  03-MAY-2024            5  \n",
       "4         98.77        700  6.933400e+04  03-MAY-2024            4  \n",
       "...         ...        ...           ...          ...          ...  \n",
       "2735     485.60      10346  5.043006e+06  03-MAY-2024          637  \n",
       "2736     194.10     161587  3.091666e+07  03-MAY-2024         4503  \n",
       "2737     341.80     125261  4.167983e+07  03-MAY-2024         6927  \n",
       "2738     988.00    1408142  1.393937e+09  03-MAY-2024        79474  \n",
       "2739    1671.00      26504  4.454192e+07  03-MAY-2024         3633  \n",
       "\n",
       "[2740 rows x 12 columns]"
      ]
     },
     "execution_count": 11,
     "metadata": {},
     "output_type": "execute_result"
    }
   ],
   "source": [
    "data"
   ]
  },
  {
   "cell_type": "code",
   "execution_count": 12,
   "metadata": {
    "pycharm": {
     "name": "#%%\n"
    }
   },
   "outputs": [
    {
     "data": {
      "text/html": [
       "<div>\n",
       "<style scoped>\n",
       "    .dataframe tbody tr th:only-of-type {\n",
       "        vertical-align: middle;\n",
       "    }\n",
       "\n",
       "    .dataframe tbody tr th {\n",
       "        vertical-align: top;\n",
       "    }\n",
       "\n",
       "    .dataframe thead th {\n",
       "        text-align: right;\n",
       "    }\n",
       "</style>\n",
       "<table border=\"1\" class=\"dataframe\">\n",
       "  <thead>\n",
       "    <tr style=\"text-align: right;\">\n",
       "      <th></th>\n",
       "      <th>SYMBOL</th>\n",
       "      <th>SERIES</th>\n",
       "      <th>OPEN</th>\n",
       "      <th>HIGH</th>\n",
       "      <th>LOW</th>\n",
       "      <th>CLOSE</th>\n",
       "      <th>LAST</th>\n",
       "      <th>PREVCLOSE</th>\n",
       "      <th>TOTTRDQTY</th>\n",
       "      <th>TOTTRDVAL</th>\n",
       "      <th>TIMESTAMP</th>\n",
       "      <th>TOTALTRADES</th>\n",
       "    </tr>\n",
       "  </thead>\n",
       "  <tbody>\n",
       "    <tr>\n",
       "      <th>0</th>\n",
       "      <td>1018GS2026</td>\n",
       "      <td>GS</td>\n",
       "      <td>110.15</td>\n",
       "      <td>113.00</td>\n",
       "      <td>110.15</td>\n",
       "      <td>112.10</td>\n",
       "      <td>113.00</td>\n",
       "      <td>112.92</td>\n",
       "      <td>32</td>\n",
       "      <td>3587.5</td>\n",
       "      <td>03-MAY-2024</td>\n",
       "      <td>4</td>\n",
       "    </tr>\n",
       "    <tr>\n",
       "      <th>1</th>\n",
       "      <td>182D031024</td>\n",
       "      <td>TB</td>\n",
       "      <td>96.75</td>\n",
       "      <td>96.80</td>\n",
       "      <td>96.75</td>\n",
       "      <td>96.80</td>\n",
       "      <td>96.80</td>\n",
       "      <td>97.50</td>\n",
       "      <td>1100</td>\n",
       "      <td>106430.0</td>\n",
       "      <td>03-MAY-2024</td>\n",
       "      <td>3</td>\n",
       "    </tr>\n",
       "    <tr>\n",
       "      <th>2</th>\n",
       "      <td>182D040724</td>\n",
       "      <td>TB</td>\n",
       "      <td>98.44</td>\n",
       "      <td>98.44</td>\n",
       "      <td>98.42</td>\n",
       "      <td>98.42</td>\n",
       "      <td>98.42</td>\n",
       "      <td>98.42</td>\n",
       "      <td>500</td>\n",
       "      <td>49212.0</td>\n",
       "      <td>03-MAY-2024</td>\n",
       "      <td>2</td>\n",
       "    </tr>\n",
       "    <tr>\n",
       "      <th>3</th>\n",
       "      <td>182D050924</td>\n",
       "      <td>TB</td>\n",
       "      <td>97.20</td>\n",
       "      <td>97.68</td>\n",
       "      <td>97.20</td>\n",
       "      <td>97.60</td>\n",
       "      <td>97.60</td>\n",
       "      <td>97.72</td>\n",
       "      <td>3200</td>\n",
       "      <td>311552.0</td>\n",
       "      <td>03-MAY-2024</td>\n",
       "      <td>5</td>\n",
       "    </tr>\n",
       "    <tr>\n",
       "      <th>4</th>\n",
       "      <td>182D130624</td>\n",
       "      <td>TB</td>\n",
       "      <td>99.01</td>\n",
       "      <td>99.08</td>\n",
       "      <td>99.01</td>\n",
       "      <td>99.08</td>\n",
       "      <td>99.08</td>\n",
       "      <td>98.77</td>\n",
       "      <td>700</td>\n",
       "      <td>69334.0</td>\n",
       "      <td>03-MAY-2024</td>\n",
       "      <td>4</td>\n",
       "    </tr>\n",
       "  </tbody>\n",
       "</table>\n",
       "</div>"
      ],
      "text/plain": [
       "       SYMBOL SERIES    OPEN    HIGH     LOW   CLOSE    LAST  PREVCLOSE  \\\n",
       "0  1018GS2026     GS  110.15  113.00  110.15  112.10  113.00     112.92   \n",
       "1  182D031024     TB   96.75   96.80   96.75   96.80   96.80      97.50   \n",
       "2  182D040724     TB   98.44   98.44   98.42   98.42   98.42      98.42   \n",
       "3  182D050924     TB   97.20   97.68   97.20   97.60   97.60      97.72   \n",
       "4  182D130624     TB   99.01   99.08   99.01   99.08   99.08      98.77   \n",
       "\n",
       "   TOTTRDQTY  TOTTRDVAL    TIMESTAMP  TOTALTRADES  \n",
       "0         32     3587.5  03-MAY-2024            4  \n",
       "1       1100   106430.0  03-MAY-2024            3  \n",
       "2        500    49212.0  03-MAY-2024            2  \n",
       "3       3200   311552.0  03-MAY-2024            5  \n",
       "4        700    69334.0  03-MAY-2024            4  "
      ]
     },
     "execution_count": 12,
     "metadata": {},
     "output_type": "execute_result"
    }
   ],
   "source": [
    "data.head()"
   ]
  },
  {
   "cell_type": "code",
   "execution_count": 13,
   "metadata": {
    "pycharm": {
     "name": "#%%\n"
    }
   },
   "outputs": [
    {
     "data": {
      "text/plain": [
       "(2740, 12)"
      ]
     },
     "execution_count": 13,
     "metadata": {},
     "output_type": "execute_result"
    }
   ],
   "source": [
    "data.shape"
   ]
  },
  {
   "cell_type": "code",
   "execution_count": 14,
   "metadata": {
    "pycharm": {
     "name": "#%%\n"
    }
   },
   "outputs": [
    {
     "data": {
      "text/html": [
       "<div>\n",
       "<style scoped>\n",
       "    .dataframe tbody tr th:only-of-type {\n",
       "        vertical-align: middle;\n",
       "    }\n",
       "\n",
       "    .dataframe tbody tr th {\n",
       "        vertical-align: top;\n",
       "    }\n",
       "\n",
       "    .dataframe thead th {\n",
       "        text-align: right;\n",
       "    }\n",
       "</style>\n",
       "<table border=\"1\" class=\"dataframe\">\n",
       "  <thead>\n",
       "    <tr style=\"text-align: right;\">\n",
       "      <th></th>\n",
       "      <th>SYMBOL</th>\n",
       "      <th>SERIES</th>\n",
       "      <th>OPEN</th>\n",
       "      <th>HIGH</th>\n",
       "      <th>LOW</th>\n",
       "      <th>CLOSE</th>\n",
       "      <th>LAST</th>\n",
       "      <th>PREVCLOSE</th>\n",
       "      <th>TOTTRDQTY</th>\n",
       "      <th>TOTTRDVAL</th>\n",
       "      <th>TIMESTAMP</th>\n",
       "      <th>TOTALTRADES</th>\n",
       "    </tr>\n",
       "  </thead>\n",
       "  <tbody>\n",
       "    <tr>\n",
       "      <th>2735</th>\n",
       "      <td>ZOTA</td>\n",
       "      <td>EQ</td>\n",
       "      <td>487.95</td>\n",
       "      <td>492.00</td>\n",
       "      <td>484.55</td>\n",
       "      <td>488.40</td>\n",
       "      <td>489.85</td>\n",
       "      <td>485.6</td>\n",
       "      <td>10346</td>\n",
       "      <td>5.043006e+06</td>\n",
       "      <td>03-MAY-2024</td>\n",
       "      <td>637</td>\n",
       "    </tr>\n",
       "    <tr>\n",
       "      <th>2736</th>\n",
       "      <td>ZUARI</td>\n",
       "      <td>EQ</td>\n",
       "      <td>194.20</td>\n",
       "      <td>195.70</td>\n",
       "      <td>189.00</td>\n",
       "      <td>189.40</td>\n",
       "      <td>189.20</td>\n",
       "      <td>194.1</td>\n",
       "      <td>161587</td>\n",
       "      <td>3.091666e+07</td>\n",
       "      <td>03-MAY-2024</td>\n",
       "      <td>4503</td>\n",
       "    </tr>\n",
       "    <tr>\n",
       "      <th>2737</th>\n",
       "      <td>ZUARIIND</td>\n",
       "      <td>EQ</td>\n",
       "      <td>345.35</td>\n",
       "      <td>348.00</td>\n",
       "      <td>325.15</td>\n",
       "      <td>327.65</td>\n",
       "      <td>329.00</td>\n",
       "      <td>341.8</td>\n",
       "      <td>125261</td>\n",
       "      <td>4.167983e+07</td>\n",
       "      <td>03-MAY-2024</td>\n",
       "      <td>6927</td>\n",
       "    </tr>\n",
       "    <tr>\n",
       "      <th>2738</th>\n",
       "      <td>ZYDUSLIFE</td>\n",
       "      <td>EQ</td>\n",
       "      <td>994.45</td>\n",
       "      <td>999.75</td>\n",
       "      <td>978.30</td>\n",
       "      <td>997.40</td>\n",
       "      <td>990.05</td>\n",
       "      <td>988.0</td>\n",
       "      <td>1408142</td>\n",
       "      <td>1.393937e+09</td>\n",
       "      <td>03-MAY-2024</td>\n",
       "      <td>79474</td>\n",
       "    </tr>\n",
       "    <tr>\n",
       "      <th>2739</th>\n",
       "      <td>ZYDUSWELL</td>\n",
       "      <td>EQ</td>\n",
       "      <td>1671.05</td>\n",
       "      <td>1694.95</td>\n",
       "      <td>1661.75</td>\n",
       "      <td>1670.50</td>\n",
       "      <td>1674.00</td>\n",
       "      <td>1671.0</td>\n",
       "      <td>26504</td>\n",
       "      <td>4.454192e+07</td>\n",
       "      <td>03-MAY-2024</td>\n",
       "      <td>3633</td>\n",
       "    </tr>\n",
       "  </tbody>\n",
       "</table>\n",
       "</div>"
      ],
      "text/plain": [
       "         SYMBOL SERIES     OPEN     HIGH      LOW    CLOSE     LAST  \\\n",
       "2735       ZOTA     EQ   487.95   492.00   484.55   488.40   489.85   \n",
       "2736      ZUARI     EQ   194.20   195.70   189.00   189.40   189.20   \n",
       "2737   ZUARIIND     EQ   345.35   348.00   325.15   327.65   329.00   \n",
       "2738  ZYDUSLIFE     EQ   994.45   999.75   978.30   997.40   990.05   \n",
       "2739  ZYDUSWELL     EQ  1671.05  1694.95  1661.75  1670.50  1674.00   \n",
       "\n",
       "      PREVCLOSE  TOTTRDQTY     TOTTRDVAL    TIMESTAMP  TOTALTRADES  \n",
       "2735      485.6      10346  5.043006e+06  03-MAY-2024          637  \n",
       "2736      194.1     161587  3.091666e+07  03-MAY-2024         4503  \n",
       "2737      341.8     125261  4.167983e+07  03-MAY-2024         6927  \n",
       "2738      988.0    1408142  1.393937e+09  03-MAY-2024        79474  \n",
       "2739     1671.0      26504  4.454192e+07  03-MAY-2024         3633  "
      ]
     },
     "execution_count": 14,
     "metadata": {},
     "output_type": "execute_result"
    }
   ],
   "source": [
    "data.tail()"
   ]
  },
  {
   "cell_type": "code",
   "execution_count": 15,
   "metadata": {
    "pycharm": {
     "name": "#%%\n"
    }
   },
   "outputs": [],
   "source": [
    "data.drop(\"TIMESTAMP\",axis=1,inplace=True)"
   ]
  },
  {
   "cell_type": "code",
   "execution_count": 16,
   "metadata": {
    "pycharm": {
     "name": "#%%\n"
    }
   },
   "outputs": [
    {
     "data": {
      "text/html": [
       "<div>\n",
       "<style scoped>\n",
       "    .dataframe tbody tr th:only-of-type {\n",
       "        vertical-align: middle;\n",
       "    }\n",
       "\n",
       "    .dataframe tbody tr th {\n",
       "        vertical-align: top;\n",
       "    }\n",
       "\n",
       "    .dataframe thead th {\n",
       "        text-align: right;\n",
       "    }\n",
       "</style>\n",
       "<table border=\"1\" class=\"dataframe\">\n",
       "  <thead>\n",
       "    <tr style=\"text-align: right;\">\n",
       "      <th></th>\n",
       "      <th>SYMBOL</th>\n",
       "      <th>SERIES</th>\n",
       "      <th>OPEN</th>\n",
       "      <th>HIGH</th>\n",
       "      <th>LOW</th>\n",
       "      <th>CLOSE</th>\n",
       "      <th>LAST</th>\n",
       "      <th>PREVCLOSE</th>\n",
       "      <th>TOTTRDQTY</th>\n",
       "      <th>TOTTRDVAL</th>\n",
       "      <th>TOTALTRADES</th>\n",
       "    </tr>\n",
       "  </thead>\n",
       "  <tbody>\n",
       "    <tr>\n",
       "      <th>0</th>\n",
       "      <td>1018GS2026</td>\n",
       "      <td>GS</td>\n",
       "      <td>110.15</td>\n",
       "      <td>113.00</td>\n",
       "      <td>110.15</td>\n",
       "      <td>112.10</td>\n",
       "      <td>113.00</td>\n",
       "      <td>112.92</td>\n",
       "      <td>32</td>\n",
       "      <td>3.587500e+03</td>\n",
       "      <td>4</td>\n",
       "    </tr>\n",
       "    <tr>\n",
       "      <th>1</th>\n",
       "      <td>182D031024</td>\n",
       "      <td>TB</td>\n",
       "      <td>96.75</td>\n",
       "      <td>96.80</td>\n",
       "      <td>96.75</td>\n",
       "      <td>96.80</td>\n",
       "      <td>96.80</td>\n",
       "      <td>97.50</td>\n",
       "      <td>1100</td>\n",
       "      <td>1.064300e+05</td>\n",
       "      <td>3</td>\n",
       "    </tr>\n",
       "    <tr>\n",
       "      <th>2</th>\n",
       "      <td>182D040724</td>\n",
       "      <td>TB</td>\n",
       "      <td>98.44</td>\n",
       "      <td>98.44</td>\n",
       "      <td>98.42</td>\n",
       "      <td>98.42</td>\n",
       "      <td>98.42</td>\n",
       "      <td>98.42</td>\n",
       "      <td>500</td>\n",
       "      <td>4.921200e+04</td>\n",
       "      <td>2</td>\n",
       "    </tr>\n",
       "    <tr>\n",
       "      <th>3</th>\n",
       "      <td>182D050924</td>\n",
       "      <td>TB</td>\n",
       "      <td>97.20</td>\n",
       "      <td>97.68</td>\n",
       "      <td>97.20</td>\n",
       "      <td>97.60</td>\n",
       "      <td>97.60</td>\n",
       "      <td>97.72</td>\n",
       "      <td>3200</td>\n",
       "      <td>3.115520e+05</td>\n",
       "      <td>5</td>\n",
       "    </tr>\n",
       "    <tr>\n",
       "      <th>4</th>\n",
       "      <td>182D130624</td>\n",
       "      <td>TB</td>\n",
       "      <td>99.01</td>\n",
       "      <td>99.08</td>\n",
       "      <td>99.01</td>\n",
       "      <td>99.08</td>\n",
       "      <td>99.08</td>\n",
       "      <td>98.77</td>\n",
       "      <td>700</td>\n",
       "      <td>6.933400e+04</td>\n",
       "      <td>4</td>\n",
       "    </tr>\n",
       "    <tr>\n",
       "      <th>...</th>\n",
       "      <td>...</td>\n",
       "      <td>...</td>\n",
       "      <td>...</td>\n",
       "      <td>...</td>\n",
       "      <td>...</td>\n",
       "      <td>...</td>\n",
       "      <td>...</td>\n",
       "      <td>...</td>\n",
       "      <td>...</td>\n",
       "      <td>...</td>\n",
       "      <td>...</td>\n",
       "    </tr>\n",
       "    <tr>\n",
       "      <th>2735</th>\n",
       "      <td>ZOTA</td>\n",
       "      <td>EQ</td>\n",
       "      <td>487.95</td>\n",
       "      <td>492.00</td>\n",
       "      <td>484.55</td>\n",
       "      <td>488.40</td>\n",
       "      <td>489.85</td>\n",
       "      <td>485.60</td>\n",
       "      <td>10346</td>\n",
       "      <td>5.043006e+06</td>\n",
       "      <td>637</td>\n",
       "    </tr>\n",
       "    <tr>\n",
       "      <th>2736</th>\n",
       "      <td>ZUARI</td>\n",
       "      <td>EQ</td>\n",
       "      <td>194.20</td>\n",
       "      <td>195.70</td>\n",
       "      <td>189.00</td>\n",
       "      <td>189.40</td>\n",
       "      <td>189.20</td>\n",
       "      <td>194.10</td>\n",
       "      <td>161587</td>\n",
       "      <td>3.091666e+07</td>\n",
       "      <td>4503</td>\n",
       "    </tr>\n",
       "    <tr>\n",
       "      <th>2737</th>\n",
       "      <td>ZUARIIND</td>\n",
       "      <td>EQ</td>\n",
       "      <td>345.35</td>\n",
       "      <td>348.00</td>\n",
       "      <td>325.15</td>\n",
       "      <td>327.65</td>\n",
       "      <td>329.00</td>\n",
       "      <td>341.80</td>\n",
       "      <td>125261</td>\n",
       "      <td>4.167983e+07</td>\n",
       "      <td>6927</td>\n",
       "    </tr>\n",
       "    <tr>\n",
       "      <th>2738</th>\n",
       "      <td>ZYDUSLIFE</td>\n",
       "      <td>EQ</td>\n",
       "      <td>994.45</td>\n",
       "      <td>999.75</td>\n",
       "      <td>978.30</td>\n",
       "      <td>997.40</td>\n",
       "      <td>990.05</td>\n",
       "      <td>988.00</td>\n",
       "      <td>1408142</td>\n",
       "      <td>1.393937e+09</td>\n",
       "      <td>79474</td>\n",
       "    </tr>\n",
       "    <tr>\n",
       "      <th>2739</th>\n",
       "      <td>ZYDUSWELL</td>\n",
       "      <td>EQ</td>\n",
       "      <td>1671.05</td>\n",
       "      <td>1694.95</td>\n",
       "      <td>1661.75</td>\n",
       "      <td>1670.50</td>\n",
       "      <td>1674.00</td>\n",
       "      <td>1671.00</td>\n",
       "      <td>26504</td>\n",
       "      <td>4.454192e+07</td>\n",
       "      <td>3633</td>\n",
       "    </tr>\n",
       "  </tbody>\n",
       "</table>\n",
       "<p>2740 rows × 11 columns</p>\n",
       "</div>"
      ],
      "text/plain": [
       "          SYMBOL SERIES     OPEN     HIGH      LOW    CLOSE     LAST  \\\n",
       "0     1018GS2026     GS   110.15   113.00   110.15   112.10   113.00   \n",
       "1     182D031024     TB    96.75    96.80    96.75    96.80    96.80   \n",
       "2     182D040724     TB    98.44    98.44    98.42    98.42    98.42   \n",
       "3     182D050924     TB    97.20    97.68    97.20    97.60    97.60   \n",
       "4     182D130624     TB    99.01    99.08    99.01    99.08    99.08   \n",
       "...          ...    ...      ...      ...      ...      ...      ...   \n",
       "2735        ZOTA     EQ   487.95   492.00   484.55   488.40   489.85   \n",
       "2736       ZUARI     EQ   194.20   195.70   189.00   189.40   189.20   \n",
       "2737    ZUARIIND     EQ   345.35   348.00   325.15   327.65   329.00   \n",
       "2738   ZYDUSLIFE     EQ   994.45   999.75   978.30   997.40   990.05   \n",
       "2739   ZYDUSWELL     EQ  1671.05  1694.95  1661.75  1670.50  1674.00   \n",
       "\n",
       "      PREVCLOSE  TOTTRDQTY     TOTTRDVAL  TOTALTRADES  \n",
       "0        112.92         32  3.587500e+03            4  \n",
       "1         97.50       1100  1.064300e+05            3  \n",
       "2         98.42        500  4.921200e+04            2  \n",
       "3         97.72       3200  3.115520e+05            5  \n",
       "4         98.77        700  6.933400e+04            4  \n",
       "...         ...        ...           ...          ...  \n",
       "2735     485.60      10346  5.043006e+06          637  \n",
       "2736     194.10     161587  3.091666e+07         4503  \n",
       "2737     341.80     125261  4.167983e+07         6927  \n",
       "2738     988.00    1408142  1.393937e+09        79474  \n",
       "2739    1671.00      26504  4.454192e+07         3633  \n",
       "\n",
       "[2740 rows x 11 columns]"
      ]
     },
     "execution_count": 16,
     "metadata": {},
     "output_type": "execute_result"
    }
   ],
   "source": [
    "data"
   ]
  },
  {
   "cell_type": "code",
   "execution_count": 17,
   "metadata": {
    "pycharm": {
     "name": "#%%\n"
    }
   },
   "outputs": [
    {
     "data": {
      "text/html": [
       "<div>\n",
       "<style scoped>\n",
       "    .dataframe tbody tr th:only-of-type {\n",
       "        vertical-align: middle;\n",
       "    }\n",
       "\n",
       "    .dataframe tbody tr th {\n",
       "        vertical-align: top;\n",
       "    }\n",
       "\n",
       "    .dataframe thead th {\n",
       "        text-align: right;\n",
       "    }\n",
       "</style>\n",
       "<table border=\"1\" class=\"dataframe\">\n",
       "  <thead>\n",
       "    <tr style=\"text-align: right;\">\n",
       "      <th></th>\n",
       "      <th>SYMBOL</th>\n",
       "      <th>SERIES</th>\n",
       "      <th>OPEN</th>\n",
       "      <th>HIGH</th>\n",
       "      <th>LOW</th>\n",
       "      <th>CLOSE</th>\n",
       "      <th>LAST</th>\n",
       "      <th>PREVCLOSE</th>\n",
       "      <th>TOTTRDQTY</th>\n",
       "      <th>TOTTRDVAL</th>\n",
       "      <th>TOTALTRADES</th>\n",
       "    </tr>\n",
       "  </thead>\n",
       "  <tbody>\n",
       "    <tr>\n",
       "      <th>327</th>\n",
       "      <td>BAJFINANCE</td>\n",
       "      <td>EQ</td>\n",
       "      <td>7329.00</td>\n",
       "      <td>7400.00</td>\n",
       "      <td>6906.95</td>\n",
       "      <td>6931.50</td>\n",
       "      <td>6927.00</td>\n",
       "      <td>6882.70</td>\n",
       "      <td>6818601</td>\n",
       "      <td>4.870077e+10</td>\n",
       "      <td>620830</td>\n",
       "    </tr>\n",
       "    <tr>\n",
       "      <th>393</th>\n",
       "      <td>BHEL</td>\n",
       "      <td>EQ</td>\n",
       "      <td>296.00</td>\n",
       "      <td>318.30</td>\n",
       "      <td>294.10</td>\n",
       "      <td>305.00</td>\n",
       "      <td>304.95</td>\n",
       "      <td>292.70</td>\n",
       "      <td>130758171</td>\n",
       "      <td>4.040995e+10</td>\n",
       "      <td>577746</td>\n",
       "    </tr>\n",
       "    <tr>\n",
       "      <th>520</th>\n",
       "      <td>COFORGE</td>\n",
       "      <td>EQ</td>\n",
       "      <td>4487.15</td>\n",
       "      <td>4720.90</td>\n",
       "      <td>4460.05</td>\n",
       "      <td>4482.55</td>\n",
       "      <td>4485.60</td>\n",
       "      <td>4985.70</td>\n",
       "      <td>4992728</td>\n",
       "      <td>2.275069e+10</td>\n",
       "      <td>455626</td>\n",
       "    </tr>\n",
       "    <tr>\n",
       "      <th>2008</th>\n",
       "      <td>RECLTD</td>\n",
       "      <td>EQ</td>\n",
       "      <td>558.00</td>\n",
       "      <td>567.15</td>\n",
       "      <td>553.35</td>\n",
       "      <td>557.80</td>\n",
       "      <td>558.90</td>\n",
       "      <td>553.90</td>\n",
       "      <td>45105471</td>\n",
       "      <td>2.525817e+10</td>\n",
       "      <td>431139</td>\n",
       "    </tr>\n",
       "    <tr>\n",
       "      <th>1358</th>\n",
       "      <td>KOTAKBANK</td>\n",
       "      <td>EQ</td>\n",
       "      <td>1583.00</td>\n",
       "      <td>1587.90</td>\n",
       "      <td>1543.85</td>\n",
       "      <td>1546.70</td>\n",
       "      <td>1550.30</td>\n",
       "      <td>1575.65</td>\n",
       "      <td>16123589</td>\n",
       "      <td>2.512350e+10</td>\n",
       "      <td>396109</td>\n",
       "    </tr>\n",
       "    <tr>\n",
       "      <th>516</th>\n",
       "      <td>COALINDIA</td>\n",
       "      <td>EQ</td>\n",
       "      <td>457.90</td>\n",
       "      <td>475.80</td>\n",
       "      <td>449.40</td>\n",
       "      <td>474.60</td>\n",
       "      <td>475.50</td>\n",
       "      <td>453.90</td>\n",
       "      <td>51071947</td>\n",
       "      <td>2.382072e+10</td>\n",
       "      <td>371497</td>\n",
       "    </tr>\n",
       "    <tr>\n",
       "      <th>2020</th>\n",
       "      <td>RELIANCE</td>\n",
       "      <td>EQ</td>\n",
       "      <td>2942.00</td>\n",
       "      <td>2949.90</td>\n",
       "      <td>2832.30</td>\n",
       "      <td>2868.00</td>\n",
       "      <td>2871.00</td>\n",
       "      <td>2933.10</td>\n",
       "      <td>8613479</td>\n",
       "      <td>2.477471e+10</td>\n",
       "      <td>358280</td>\n",
       "    </tr>\n",
       "    <tr>\n",
       "      <th>1446</th>\n",
       "      <td>LT</td>\n",
       "      <td>EQ</td>\n",
       "      <td>3610.00</td>\n",
       "      <td>3622.00</td>\n",
       "      <td>3488.45</td>\n",
       "      <td>3499.80</td>\n",
       "      <td>3500.00</td>\n",
       "      <td>3599.50</td>\n",
       "      <td>4079696</td>\n",
       "      <td>1.438476e+10</td>\n",
       "      <td>336644</td>\n",
       "    </tr>\n",
       "    <tr>\n",
       "      <th>1058</th>\n",
       "      <td>ICICIBANK</td>\n",
       "      <td>EQ</td>\n",
       "      <td>1141.30</td>\n",
       "      <td>1157.40</td>\n",
       "      <td>1135.45</td>\n",
       "      <td>1142.05</td>\n",
       "      <td>1139.90</td>\n",
       "      <td>1139.45</td>\n",
       "      <td>19933604</td>\n",
       "      <td>2.277107e+10</td>\n",
       "      <td>335319</td>\n",
       "    </tr>\n",
       "    <tr>\n",
       "      <th>391</th>\n",
       "      <td>BHARTIARTL</td>\n",
       "      <td>EQ</td>\n",
       "      <td>1306.00</td>\n",
       "      <td>1310.50</td>\n",
       "      <td>1258.15</td>\n",
       "      <td>1277.40</td>\n",
       "      <td>1278.00</td>\n",
       "      <td>1304.05</td>\n",
       "      <td>11290875</td>\n",
       "      <td>1.443502e+10</td>\n",
       "      <td>319299</td>\n",
       "    </tr>\n",
       "    <tr>\n",
       "      <th>2467</th>\n",
       "      <td>TATASTEEL</td>\n",
       "      <td>EQ</td>\n",
       "      <td>168.95</td>\n",
       "      <td>170.75</td>\n",
       "      <td>165.15</td>\n",
       "      <td>166.50</td>\n",
       "      <td>166.50</td>\n",
       "      <td>167.35</td>\n",
       "      <td>62573586</td>\n",
       "      <td>1.052040e+10</td>\n",
       "      <td>311958</td>\n",
       "    </tr>\n",
       "    <tr>\n",
       "      <th>935</th>\n",
       "      <td>HDFCBANK</td>\n",
       "      <td>EQ</td>\n",
       "      <td>1533.25</td>\n",
       "      <td>1540.60</td>\n",
       "      <td>1507.20</td>\n",
       "      <td>1519.60</td>\n",
       "      <td>1515.65</td>\n",
       "      <td>1532.25</td>\n",
       "      <td>15932621</td>\n",
       "      <td>2.423550e+10</td>\n",
       "      <td>309946</td>\n",
       "    </tr>\n",
       "    <tr>\n",
       "      <th>1210</th>\n",
       "      <td>ITC</td>\n",
       "      <td>EQ</td>\n",
       "      <td>440.05</td>\n",
       "      <td>440.05</td>\n",
       "      <td>431.35</td>\n",
       "      <td>436.45</td>\n",
       "      <td>436.00</td>\n",
       "      <td>439.00</td>\n",
       "      <td>22904276</td>\n",
       "      <td>9.980474e+09</td>\n",
       "      <td>301064</td>\n",
       "    </tr>\n",
       "    <tr>\n",
       "      <th>1064</th>\n",
       "      <td>IDEA</td>\n",
       "      <td>EQ</td>\n",
       "      <td>13.30</td>\n",
       "      <td>13.50</td>\n",
       "      <td>13.00</td>\n",
       "      <td>13.20</td>\n",
       "      <td>13.15</td>\n",
       "      <td>13.20</td>\n",
       "      <td>844184176</td>\n",
       "      <td>1.118492e+10</td>\n",
       "      <td>300263</td>\n",
       "    </tr>\n",
       "    <tr>\n",
       "      <th>2139</th>\n",
       "      <td>SBIN</td>\n",
       "      <td>EQ</td>\n",
       "      <td>834.80</td>\n",
       "      <td>836.20</td>\n",
       "      <td>820.00</td>\n",
       "      <td>831.45</td>\n",
       "      <td>831.00</td>\n",
       "      <td>830.05</td>\n",
       "      <td>22667634</td>\n",
       "      <td>1.876932e+10</td>\n",
       "      <td>299662</td>\n",
       "    </tr>\n",
       "    <tr>\n",
       "      <th>2464</th>\n",
       "      <td>TATAMOTORS</td>\n",
       "      <td>EQ</td>\n",
       "      <td>1038.00</td>\n",
       "      <td>1040.20</td>\n",
       "      <td>996.00</td>\n",
       "      <td>1013.40</td>\n",
       "      <td>1014.50</td>\n",
       "      <td>1027.80</td>\n",
       "      <td>11871773</td>\n",
       "      <td>1.208450e+10</td>\n",
       "      <td>294136</td>\n",
       "    </tr>\n",
       "    <tr>\n",
       "      <th>1161</th>\n",
       "      <td>INFY</td>\n",
       "      <td>EQ</td>\n",
       "      <td>1422.10</td>\n",
       "      <td>1424.80</td>\n",
       "      <td>1403.20</td>\n",
       "      <td>1416.30</td>\n",
       "      <td>1415.75</td>\n",
       "      <td>1414.45</td>\n",
       "      <td>8842345</td>\n",
       "      <td>1.248863e+10</td>\n",
       "      <td>275760</td>\n",
       "    </tr>\n",
       "    <tr>\n",
       "      <th>1761</th>\n",
       "      <td>NTPC</td>\n",
       "      <td>EQ</td>\n",
       "      <td>372.30</td>\n",
       "      <td>380.40</td>\n",
       "      <td>360.35</td>\n",
       "      <td>364.95</td>\n",
       "      <td>364.05</td>\n",
       "      <td>369.05</td>\n",
       "      <td>26844664</td>\n",
       "      <td>9.928792e+09</td>\n",
       "      <td>262586</td>\n",
       "    </tr>\n",
       "    <tr>\n",
       "      <th>1903</th>\n",
       "      <td>POWERGRID</td>\n",
       "      <td>EQ</td>\n",
       "      <td>312.00</td>\n",
       "      <td>316.10</td>\n",
       "      <td>308.25</td>\n",
       "      <td>310.85</td>\n",
       "      <td>310.40</td>\n",
       "      <td>313.60</td>\n",
       "      <td>27074447</td>\n",
       "      <td>8.448977e+09</td>\n",
       "      <td>244109</td>\n",
       "    </tr>\n",
       "    <tr>\n",
       "      <th>2717</th>\n",
       "      <td>YESBANK</td>\n",
       "      <td>EQ</td>\n",
       "      <td>24.85</td>\n",
       "      <td>25.85</td>\n",
       "      <td>24.25</td>\n",
       "      <td>24.95</td>\n",
       "      <td>24.95</td>\n",
       "      <td>25.45</td>\n",
       "      <td>960652538</td>\n",
       "      <td>2.364439e+10</td>\n",
       "      <td>243695</td>\n",
       "    </tr>\n",
       "    <tr>\n",
       "      <th>933</th>\n",
       "      <td>HCLTECH</td>\n",
       "      <td>EQ</td>\n",
       "      <td>1370.00</td>\n",
       "      <td>1370.00</td>\n",
       "      <td>1333.55</td>\n",
       "      <td>1348.05</td>\n",
       "      <td>1347.20</td>\n",
       "      <td>1360.70</td>\n",
       "      <td>5964228</td>\n",
       "      <td>8.041750e+09</td>\n",
       "      <td>235234</td>\n",
       "    </tr>\n",
       "    <tr>\n",
       "      <th>1713</th>\n",
       "      <td>NHPC</td>\n",
       "      <td>EQ</td>\n",
       "      <td>98.80</td>\n",
       "      <td>101.35</td>\n",
       "      <td>97.30</td>\n",
       "      <td>99.25</td>\n",
       "      <td>99.10</td>\n",
       "      <td>98.00</td>\n",
       "      <td>113971395</td>\n",
       "      <td>1.131731e+10</td>\n",
       "      <td>231314</td>\n",
       "    </tr>\n",
       "    <tr>\n",
       "      <th>322</th>\n",
       "      <td>BAJAJFINSV</td>\n",
       "      <td>EQ</td>\n",
       "      <td>1650.20</td>\n",
       "      <td>1725.00</td>\n",
       "      <td>1618.00</td>\n",
       "      <td>1627.30</td>\n",
       "      <td>1622.90</td>\n",
       "      <td>1615.45</td>\n",
       "      <td>5227529</td>\n",
       "      <td>8.677786e+09</td>\n",
       "      <td>217266</td>\n",
       "    </tr>\n",
       "    <tr>\n",
       "      <th>1858</th>\n",
       "      <td>PFC</td>\n",
       "      <td>EQ</td>\n",
       "      <td>471.00</td>\n",
       "      <td>485.50</td>\n",
       "      <td>468.15</td>\n",
       "      <td>480.45</td>\n",
       "      <td>481.60</td>\n",
       "      <td>467.85</td>\n",
       "      <td>28996180</td>\n",
       "      <td>1.389018e+10</td>\n",
       "      <td>216776</td>\n",
       "    </tr>\n",
       "    <tr>\n",
       "      <th>1251</th>\n",
       "      <td>JIOFIN</td>\n",
       "      <td>EQ</td>\n",
       "      <td>380.55</td>\n",
       "      <td>385.85</td>\n",
       "      <td>374.35</td>\n",
       "      <td>375.90</td>\n",
       "      <td>375.80</td>\n",
       "      <td>379.65</td>\n",
       "      <td>21862922</td>\n",
       "      <td>8.300105e+09</td>\n",
       "      <td>204926</td>\n",
       "    </tr>\n",
       "    <tr>\n",
       "      <th>1463</th>\n",
       "      <td>M&amp;M</td>\n",
       "      <td>EQ</td>\n",
       "      <td>2210.00</td>\n",
       "      <td>2210.00</td>\n",
       "      <td>2172.35</td>\n",
       "      <td>2193.00</td>\n",
       "      <td>2193.15</td>\n",
       "      <td>2185.15</td>\n",
       "      <td>3859227</td>\n",
       "      <td>8.451229e+09</td>\n",
       "      <td>200650</td>\n",
       "    </tr>\n",
       "    <tr>\n",
       "      <th>1793</th>\n",
       "      <td>ONGC</td>\n",
       "      <td>EQ</td>\n",
       "      <td>284.00</td>\n",
       "      <td>292.95</td>\n",
       "      <td>284.00</td>\n",
       "      <td>286.10</td>\n",
       "      <td>286.10</td>\n",
       "      <td>282.80</td>\n",
       "      <td>28913016</td>\n",
       "      <td>8.348814e+09</td>\n",
       "      <td>198726</td>\n",
       "    </tr>\n",
       "    <tr>\n",
       "      <th>300</th>\n",
       "      <td>AXISBANK</td>\n",
       "      <td>EQ</td>\n",
       "      <td>1150.90</td>\n",
       "      <td>1163.25</td>\n",
       "      <td>1134.10</td>\n",
       "      <td>1141.50</td>\n",
       "      <td>1140.40</td>\n",
       "      <td>1149.85</td>\n",
       "      <td>9993632</td>\n",
       "      <td>1.144055e+10</td>\n",
       "      <td>193809</td>\n",
       "    </tr>\n",
       "    <tr>\n",
       "      <th>2478</th>\n",
       "      <td>TCS</td>\n",
       "      <td>EQ</td>\n",
       "      <td>3890.15</td>\n",
       "      <td>3893.60</td>\n",
       "      <td>3797.60</td>\n",
       "      <td>3843.40</td>\n",
       "      <td>3838.00</td>\n",
       "      <td>3863.30</td>\n",
       "      <td>2962234</td>\n",
       "      <td>1.137452e+10</td>\n",
       "      <td>193038</td>\n",
       "    </tr>\n",
       "    <tr>\n",
       "      <th>153</th>\n",
       "      <td>AJANTPHARM</td>\n",
       "      <td>EQ</td>\n",
       "      <td>2540.00</td>\n",
       "      <td>2540.00</td>\n",
       "      <td>2360.05</td>\n",
       "      <td>2383.85</td>\n",
       "      <td>2372.00</td>\n",
       "      <td>2234.00</td>\n",
       "      <td>2771320</td>\n",
       "      <td>6.711225e+09</td>\n",
       "      <td>176777</td>\n",
       "    </tr>\n",
       "    <tr>\n",
       "      <th>989</th>\n",
       "      <td>HINDZINC</td>\n",
       "      <td>EQ</td>\n",
       "      <td>438.20</td>\n",
       "      <td>478.40</td>\n",
       "      <td>438.20</td>\n",
       "      <td>470.10</td>\n",
       "      <td>473.20</td>\n",
       "      <td>432.10</td>\n",
       "      <td>10396501</td>\n",
       "      <td>4.770502e+09</td>\n",
       "      <td>174197</td>\n",
       "    </tr>\n",
       "    <tr>\n",
       "      <th>1521</th>\n",
       "      <td>MARUTI</td>\n",
       "      <td>EQ</td>\n",
       "      <td>12817.95</td>\n",
       "      <td>12830.00</td>\n",
       "      <td>12411.40</td>\n",
       "      <td>12492.15</td>\n",
       "      <td>12479.00</td>\n",
       "      <td>12805.35</td>\n",
       "      <td>834990</td>\n",
       "      <td>1.049948e+10</td>\n",
       "      <td>169996</td>\n",
       "    </tr>\n",
       "    <tr>\n",
       "      <th>1190</th>\n",
       "      <td>IRFC</td>\n",
       "      <td>EQ</td>\n",
       "      <td>159.80</td>\n",
       "      <td>160.50</td>\n",
       "      <td>155.15</td>\n",
       "      <td>157.00</td>\n",
       "      <td>157.10</td>\n",
       "      <td>158.90</td>\n",
       "      <td>31288231</td>\n",
       "      <td>4.937291e+09</td>\n",
       "      <td>168289</td>\n",
       "    </tr>\n",
       "    <tr>\n",
       "      <th>1749</th>\n",
       "      <td>NMDC</td>\n",
       "      <td>EQ</td>\n",
       "      <td>258.50</td>\n",
       "      <td>269.90</td>\n",
       "      <td>258.15</td>\n",
       "      <td>268.95</td>\n",
       "      <td>269.00</td>\n",
       "      <td>258.50</td>\n",
       "      <td>38974667</td>\n",
       "      <td>1.034551e+10</td>\n",
       "      <td>167897</td>\n",
       "    </tr>\n",
       "    <tr>\n",
       "      <th>636</th>\n",
       "      <td>DLF</td>\n",
       "      <td>EQ</td>\n",
       "      <td>903.90</td>\n",
       "      <td>903.90</td>\n",
       "      <td>862.80</td>\n",
       "      <td>878.20</td>\n",
       "      <td>878.50</td>\n",
       "      <td>896.45</td>\n",
       "      <td>5271160</td>\n",
       "      <td>4.638767e+09</td>\n",
       "      <td>167302</td>\n",
       "    </tr>\n",
       "    <tr>\n",
       "      <th>2734</th>\n",
       "      <td>ZOMATO</td>\n",
       "      <td>EQ</td>\n",
       "      <td>196.80</td>\n",
       "      <td>200.35</td>\n",
       "      <td>193.10</td>\n",
       "      <td>197.25</td>\n",
       "      <td>197.15</td>\n",
       "      <td>195.45</td>\n",
       "      <td>37882274</td>\n",
       "      <td>7.465543e+09</td>\n",
       "      <td>165211</td>\n",
       "    </tr>\n",
       "    <tr>\n",
       "      <th>939</th>\n",
       "      <td>HDFCLIFE</td>\n",
       "      <td>EQ</td>\n",
       "      <td>581.80</td>\n",
       "      <td>581.80</td>\n",
       "      <td>565.25</td>\n",
       "      <td>565.90</td>\n",
       "      <td>565.90</td>\n",
       "      <td>576.35</td>\n",
       "      <td>8574215</td>\n",
       "      <td>4.882507e+09</td>\n",
       "      <td>163787</td>\n",
       "    </tr>\n",
       "    <tr>\n",
       "      <th>987</th>\n",
       "      <td>HINDUNILVR</td>\n",
       "      <td>EQ</td>\n",
       "      <td>2232.00</td>\n",
       "      <td>2235.65</td>\n",
       "      <td>2204.00</td>\n",
       "      <td>2217.05</td>\n",
       "      <td>2213.95</td>\n",
       "      <td>2226.30</td>\n",
       "      <td>2595307</td>\n",
       "      <td>5.748338e+09</td>\n",
       "      <td>163501</td>\n",
       "    </tr>\n",
       "    <tr>\n",
       "      <th>2466</th>\n",
       "      <td>TATAPOWER</td>\n",
       "      <td>EQ</td>\n",
       "      <td>461.60</td>\n",
       "      <td>464.20</td>\n",
       "      <td>448.50</td>\n",
       "      <td>454.75</td>\n",
       "      <td>455.50</td>\n",
       "      <td>457.85</td>\n",
       "      <td>16825776</td>\n",
       "      <td>7.702339e+09</td>\n",
       "      <td>161092</td>\n",
       "    </tr>\n",
       "    <tr>\n",
       "      <th>980</th>\n",
       "      <td>HINDALCO</td>\n",
       "      <td>EQ</td>\n",
       "      <td>655.05</td>\n",
       "      <td>655.05</td>\n",
       "      <td>638.40</td>\n",
       "      <td>647.10</td>\n",
       "      <td>646.10</td>\n",
       "      <td>641.45</td>\n",
       "      <td>10633995</td>\n",
       "      <td>6.878039e+09</td>\n",
       "      <td>159113</td>\n",
       "    </tr>\n",
       "    <tr>\n",
       "      <th>2094</th>\n",
       "      <td>SAIL</td>\n",
       "      <td>EQ</td>\n",
       "      <td>167.10</td>\n",
       "      <td>170.95</td>\n",
       "      <td>164.60</td>\n",
       "      <td>167.95</td>\n",
       "      <td>167.30</td>\n",
       "      <td>165.45</td>\n",
       "      <td>71734933</td>\n",
       "      <td>1.209307e+10</td>\n",
       "      <td>155188</td>\n",
       "    </tr>\n",
       "    <tr>\n",
       "      <th>2523</th>\n",
       "      <td>TITAN</td>\n",
       "      <td>EQ</td>\n",
       "      <td>3595.00</td>\n",
       "      <td>3599.00</td>\n",
       "      <td>3492.00</td>\n",
       "      <td>3533.90</td>\n",
       "      <td>3514.75</td>\n",
       "      <td>3568.45</td>\n",
       "      <td>1681592</td>\n",
       "      <td>5.945561e+09</td>\n",
       "      <td>150832</td>\n",
       "    </tr>\n",
       "    <tr>\n",
       "      <th>2627</th>\n",
       "      <td>VEDL</td>\n",
       "      <td>EQ</td>\n",
       "      <td>415.00</td>\n",
       "      <td>420.00</td>\n",
       "      <td>404.40</td>\n",
       "      <td>415.65</td>\n",
       "      <td>415.85</td>\n",
       "      <td>410.80</td>\n",
       "      <td>14324148</td>\n",
       "      <td>5.929763e+09</td>\n",
       "      <td>148602</td>\n",
       "    </tr>\n",
       "    <tr>\n",
       "      <th>1177</th>\n",
       "      <td>IOC</td>\n",
       "      <td>EQ</td>\n",
       "      <td>174.80</td>\n",
       "      <td>174.90</td>\n",
       "      <td>169.40</td>\n",
       "      <td>170.75</td>\n",
       "      <td>170.85</td>\n",
       "      <td>173.40</td>\n",
       "      <td>30968452</td>\n",
       "      <td>5.315118e+09</td>\n",
       "      <td>144827</td>\n",
       "    </tr>\n",
       "    <tr>\n",
       "      <th>1686</th>\n",
       "      <td>NESTLEIND</td>\n",
       "      <td>EQ</td>\n",
       "      <td>2515.10</td>\n",
       "      <td>2523.05</td>\n",
       "      <td>2436.25</td>\n",
       "      <td>2456.10</td>\n",
       "      <td>2456.00</td>\n",
       "      <td>2512.30</td>\n",
       "      <td>1128730</td>\n",
       "      <td>2.783958e+09</td>\n",
       "      <td>143532</td>\n",
       "    </tr>\n",
       "    <tr>\n",
       "      <th>1073</th>\n",
       "      <td>IFCI</td>\n",
       "      <td>EQ</td>\n",
       "      <td>52.00</td>\n",
       "      <td>55.05</td>\n",
       "      <td>51.70</td>\n",
       "      <td>52.50</td>\n",
       "      <td>52.50</td>\n",
       "      <td>50.05</td>\n",
       "      <td>93147890</td>\n",
       "      <td>4.992400e+09</td>\n",
       "      <td>142522</td>\n",
       "    </tr>\n",
       "    <tr>\n",
       "      <th>257</th>\n",
       "      <td>ASIANPAINT</td>\n",
       "      <td>EQ</td>\n",
       "      <td>2983.05</td>\n",
       "      <td>2997.00</td>\n",
       "      <td>2909.25</td>\n",
       "      <td>2929.75</td>\n",
       "      <td>2930.00</td>\n",
       "      <td>2975.40</td>\n",
       "      <td>1594445</td>\n",
       "      <td>4.692985e+09</td>\n",
       "      <td>141235</td>\n",
       "    </tr>\n",
       "    <tr>\n",
       "      <th>372</th>\n",
       "      <td>BEL</td>\n",
       "      <td>EQ</td>\n",
       "      <td>237.10</td>\n",
       "      <td>238.00</td>\n",
       "      <td>231.15</td>\n",
       "      <td>234.10</td>\n",
       "      <td>234.40</td>\n",
       "      <td>234.75</td>\n",
       "      <td>15782582</td>\n",
       "      <td>3.704561e+09</td>\n",
       "      <td>133087</td>\n",
       "    </tr>\n",
       "    <tr>\n",
       "      <th>836</th>\n",
       "      <td>GMDCLTD</td>\n",
       "      <td>EQ</td>\n",
       "      <td>422.50</td>\n",
       "      <td>452.95</td>\n",
       "      <td>419.75</td>\n",
       "      <td>448.65</td>\n",
       "      <td>448.90</td>\n",
       "      <td>420.65</td>\n",
       "      <td>11637133</td>\n",
       "      <td>5.128355e+09</td>\n",
       "      <td>132299</td>\n",
       "    </tr>\n",
       "    <tr>\n",
       "      <th>1887</th>\n",
       "      <td>PNB</td>\n",
       "      <td>EQ</td>\n",
       "      <td>139.15</td>\n",
       "      <td>139.30</td>\n",
       "      <td>134.25</td>\n",
       "      <td>135.80</td>\n",
       "      <td>136.05</td>\n",
       "      <td>138.05</td>\n",
       "      <td>61353686</td>\n",
       "      <td>8.387778e+09</td>\n",
       "      <td>130113</td>\n",
       "    </tr>\n",
       "  </tbody>\n",
       "</table>\n",
       "</div>"
      ],
      "text/plain": [
       "          SYMBOL SERIES      OPEN      HIGH       LOW     CLOSE      LAST  \\\n",
       "327   BAJFINANCE     EQ   7329.00   7400.00   6906.95   6931.50   6927.00   \n",
       "393         BHEL     EQ    296.00    318.30    294.10    305.00    304.95   \n",
       "520      COFORGE     EQ   4487.15   4720.90   4460.05   4482.55   4485.60   \n",
       "2008      RECLTD     EQ    558.00    567.15    553.35    557.80    558.90   \n",
       "1358   KOTAKBANK     EQ   1583.00   1587.90   1543.85   1546.70   1550.30   \n",
       "516    COALINDIA     EQ    457.90    475.80    449.40    474.60    475.50   \n",
       "2020    RELIANCE     EQ   2942.00   2949.90   2832.30   2868.00   2871.00   \n",
       "1446          LT     EQ   3610.00   3622.00   3488.45   3499.80   3500.00   \n",
       "1058   ICICIBANK     EQ   1141.30   1157.40   1135.45   1142.05   1139.90   \n",
       "391   BHARTIARTL     EQ   1306.00   1310.50   1258.15   1277.40   1278.00   \n",
       "2467   TATASTEEL     EQ    168.95    170.75    165.15    166.50    166.50   \n",
       "935     HDFCBANK     EQ   1533.25   1540.60   1507.20   1519.60   1515.65   \n",
       "1210         ITC     EQ    440.05    440.05    431.35    436.45    436.00   \n",
       "1064        IDEA     EQ     13.30     13.50     13.00     13.20     13.15   \n",
       "2139        SBIN     EQ    834.80    836.20    820.00    831.45    831.00   \n",
       "2464  TATAMOTORS     EQ   1038.00   1040.20    996.00   1013.40   1014.50   \n",
       "1161        INFY     EQ   1422.10   1424.80   1403.20   1416.30   1415.75   \n",
       "1761        NTPC     EQ    372.30    380.40    360.35    364.95    364.05   \n",
       "1903   POWERGRID     EQ    312.00    316.10    308.25    310.85    310.40   \n",
       "2717     YESBANK     EQ     24.85     25.85     24.25     24.95     24.95   \n",
       "933      HCLTECH     EQ   1370.00   1370.00   1333.55   1348.05   1347.20   \n",
       "1713        NHPC     EQ     98.80    101.35     97.30     99.25     99.10   \n",
       "322   BAJAJFINSV     EQ   1650.20   1725.00   1618.00   1627.30   1622.90   \n",
       "1858         PFC     EQ    471.00    485.50    468.15    480.45    481.60   \n",
       "1251      JIOFIN     EQ    380.55    385.85    374.35    375.90    375.80   \n",
       "1463         M&M     EQ   2210.00   2210.00   2172.35   2193.00   2193.15   \n",
       "1793        ONGC     EQ    284.00    292.95    284.00    286.10    286.10   \n",
       "300     AXISBANK     EQ   1150.90   1163.25   1134.10   1141.50   1140.40   \n",
       "2478         TCS     EQ   3890.15   3893.60   3797.60   3843.40   3838.00   \n",
       "153   AJANTPHARM     EQ   2540.00   2540.00   2360.05   2383.85   2372.00   \n",
       "989     HINDZINC     EQ    438.20    478.40    438.20    470.10    473.20   \n",
       "1521      MARUTI     EQ  12817.95  12830.00  12411.40  12492.15  12479.00   \n",
       "1190        IRFC     EQ    159.80    160.50    155.15    157.00    157.10   \n",
       "1749        NMDC     EQ    258.50    269.90    258.15    268.95    269.00   \n",
       "636          DLF     EQ    903.90    903.90    862.80    878.20    878.50   \n",
       "2734      ZOMATO     EQ    196.80    200.35    193.10    197.25    197.15   \n",
       "939     HDFCLIFE     EQ    581.80    581.80    565.25    565.90    565.90   \n",
       "987   HINDUNILVR     EQ   2232.00   2235.65   2204.00   2217.05   2213.95   \n",
       "2466   TATAPOWER     EQ    461.60    464.20    448.50    454.75    455.50   \n",
       "980     HINDALCO     EQ    655.05    655.05    638.40    647.10    646.10   \n",
       "2094        SAIL     EQ    167.10    170.95    164.60    167.95    167.30   \n",
       "2523       TITAN     EQ   3595.00   3599.00   3492.00   3533.90   3514.75   \n",
       "2627        VEDL     EQ    415.00    420.00    404.40    415.65    415.85   \n",
       "1177         IOC     EQ    174.80    174.90    169.40    170.75    170.85   \n",
       "1686   NESTLEIND     EQ   2515.10   2523.05   2436.25   2456.10   2456.00   \n",
       "1073        IFCI     EQ     52.00     55.05     51.70     52.50     52.50   \n",
       "257   ASIANPAINT     EQ   2983.05   2997.00   2909.25   2929.75   2930.00   \n",
       "372          BEL     EQ    237.10    238.00    231.15    234.10    234.40   \n",
       "836      GMDCLTD     EQ    422.50    452.95    419.75    448.65    448.90   \n",
       "1887         PNB     EQ    139.15    139.30    134.25    135.80    136.05   \n",
       "\n",
       "      PREVCLOSE  TOTTRDQTY     TOTTRDVAL  TOTALTRADES  \n",
       "327     6882.70    6818601  4.870077e+10       620830  \n",
       "393      292.70  130758171  4.040995e+10       577746  \n",
       "520     4985.70    4992728  2.275069e+10       455626  \n",
       "2008     553.90   45105471  2.525817e+10       431139  \n",
       "1358    1575.65   16123589  2.512350e+10       396109  \n",
       "516      453.90   51071947  2.382072e+10       371497  \n",
       "2020    2933.10    8613479  2.477471e+10       358280  \n",
       "1446    3599.50    4079696  1.438476e+10       336644  \n",
       "1058    1139.45   19933604  2.277107e+10       335319  \n",
       "391     1304.05   11290875  1.443502e+10       319299  \n",
       "2467     167.35   62573586  1.052040e+10       311958  \n",
       "935     1532.25   15932621  2.423550e+10       309946  \n",
       "1210     439.00   22904276  9.980474e+09       301064  \n",
       "1064      13.20  844184176  1.118492e+10       300263  \n",
       "2139     830.05   22667634  1.876932e+10       299662  \n",
       "2464    1027.80   11871773  1.208450e+10       294136  \n",
       "1161    1414.45    8842345  1.248863e+10       275760  \n",
       "1761     369.05   26844664  9.928792e+09       262586  \n",
       "1903     313.60   27074447  8.448977e+09       244109  \n",
       "2717      25.45  960652538  2.364439e+10       243695  \n",
       "933     1360.70    5964228  8.041750e+09       235234  \n",
       "1713      98.00  113971395  1.131731e+10       231314  \n",
       "322     1615.45    5227529  8.677786e+09       217266  \n",
       "1858     467.85   28996180  1.389018e+10       216776  \n",
       "1251     379.65   21862922  8.300105e+09       204926  \n",
       "1463    2185.15    3859227  8.451229e+09       200650  \n",
       "1793     282.80   28913016  8.348814e+09       198726  \n",
       "300     1149.85    9993632  1.144055e+10       193809  \n",
       "2478    3863.30    2962234  1.137452e+10       193038  \n",
       "153     2234.00    2771320  6.711225e+09       176777  \n",
       "989      432.10   10396501  4.770502e+09       174197  \n",
       "1521   12805.35     834990  1.049948e+10       169996  \n",
       "1190     158.90   31288231  4.937291e+09       168289  \n",
       "1749     258.50   38974667  1.034551e+10       167897  \n",
       "636      896.45    5271160  4.638767e+09       167302  \n",
       "2734     195.45   37882274  7.465543e+09       165211  \n",
       "939      576.35    8574215  4.882507e+09       163787  \n",
       "987     2226.30    2595307  5.748338e+09       163501  \n",
       "2466     457.85   16825776  7.702339e+09       161092  \n",
       "980      641.45   10633995  6.878039e+09       159113  \n",
       "2094     165.45   71734933  1.209307e+10       155188  \n",
       "2523    3568.45    1681592  5.945561e+09       150832  \n",
       "2627     410.80   14324148  5.929763e+09       148602  \n",
       "1177     173.40   30968452  5.315118e+09       144827  \n",
       "1686    2512.30    1128730  2.783958e+09       143532  \n",
       "1073      50.05   93147890  4.992400e+09       142522  \n",
       "257     2975.40    1594445  4.692985e+09       141235  \n",
       "372      234.75   15782582  3.704561e+09       133087  \n",
       "836      420.65   11637133  5.128355e+09       132299  \n",
       "1887     138.05   61353686  8.387778e+09       130113  "
      ]
     },
     "execution_count": 17,
     "metadata": {},
     "output_type": "execute_result"
    }
   ],
   "source": [
    "data.sort_values(\"TOTALTRADES\",ascending=False).head(50)"
   ]
  },
  {
   "cell_type": "code",
   "execution_count": 18,
   "metadata": {
    "pycharm": {
     "name": "#%%\n"
    }
   },
   "outputs": [
    {
     "ename": "SyntaxError",
     "evalue": "invalid syntax. Perhaps you forgot a comma? (2932831534.py, line 1)",
     "output_type": "error",
     "traceback": [
      "\u001b[1;36m  Cell \u001b[1;32mIn[18], line 1\u001b[1;36m\u001b[0m\n\u001b[1;33m    data[((data[\"HIGH\"]-data[\"LOW\"])>0)].sort_values(\"data[\"HIGH\"]-data[\"LOW\"]\",ascending=False).head(50)\u001b[0m\n\u001b[1;37m                                                     ^\u001b[0m\n\u001b[1;31mSyntaxError\u001b[0m\u001b[1;31m:\u001b[0m invalid syntax. Perhaps you forgot a comma?\n"
     ]
    }
   ],
   "source": [
    "data[((data[\"HIGH\"]-data[\"LOW\"])>0)].sort_values(\"data[\"HIGH\"]-data[\"LOW\"]\",ascending=False).head(50)"
   ]
  },
  {
   "cell_type": "code",
   "execution_count": null,
   "metadata": {
    "pycharm": {
     "name": "#%%\n"
    }
   },
   "outputs": [],
   "source": [
    "data.to_csv(\"20240503.csv\",index=False)"
   ]
  },
  {
   "cell_type": "code",
   "execution_count": null,
   "metadata": {
    "pycharm": {
     "name": "#%%\n"
    }
   },
   "outputs": [],
   "source": [
    "import pandas as pd"
   ]
  },
  {
   "cell_type": "code",
   "execution_count": null,
   "metadata": {
    "pycharm": {
     "name": "#%%\n"
    }
   },
   "outputs": [],
   "source": [
    "df=pd.read_csv(\"20240503.csv\")"
   ]
  },
  {
   "cell_type": "code",
   "execution_count": null,
   "metadata": {
    "pycharm": {
     "name": "#%%\n"
    }
   },
   "outputs": [],
   "source": [
    "df"
   ]
  },
  {
   "cell_type": "code",
   "execution_count": null,
   "metadata": {
    "pycharm": {
     "name": "#%%\n"
    }
   },
   "outputs": [],
   "source": [
    "df.tail(50)"
   ]
  },
  {
   "cell_type": "code",
   "execution_count": null,
   "metadata": {
    "pycharm": {
     "name": "#%%\n"
    }
   },
   "outputs": [],
   "source": [
    "df[\"SERIES\"].value_counts()"
   ]
  },
  {
   "cell_type": "code",
   "execution_count": null,
   "metadata": {
    "pycharm": {
     "name": "#%%\n"
    }
   },
   "outputs": [],
   "source": [
    "df[\"SYMBOL\"]"
   ]
  },
  {
   "cell_type": "code",
   "execution_count": null,
   "metadata": {
    "pycharm": {
     "name": "#%%\n"
    }
   },
   "outputs": [],
   "source": [
    "df[\"DPROFIT\"]=df[\"OPEN\"]-df[\"CLOSE\"]"
   ]
  },
  {
   "cell_type": "code",
   "execution_count": null,
   "metadata": {
    "pycharm": {
     "name": "#%%\n"
    }
   },
   "outputs": [],
   "source": [
    "df[\"PERINC\"]=((((df[\"CLOSE\"]-df[\"OPEN\"])/df[\"OPEN\"])*100).round(2))"
   ]
  },
  {
   "cell_type": "code",
   "execution_count": null,
   "metadata": {
    "pycharm": {
     "name": "#%%\n"
    }
   },
   "outputs": [],
   "source": [
    "df.drop(\"TOTTRDVAL\",axis=1,inplace=True)"
   ]
  },
  {
   "cell_type": "code",
   "execution_count": null,
   "metadata": {
    "pycharm": {
     "name": "#%%\n"
    }
   },
   "outputs": [],
   "source": [
    "df[(df[\"CLOSE\"]-df[\"OPEN\"])>0]"
   ]
  },
  {
   "cell_type": "code",
   "execution_count": null,
   "metadata": {
    "pycharm": {
     "name": "#%%\n"
    }
   },
   "outputs": [],
   "source": [
    "df[(df[\"HIGH\"]-df[\"OPEN\"])>0]"
   ]
  },
  {
   "cell_type": "code",
   "execution_count": null,
   "metadata": {
    "pycharm": {
     "name": "#%%\n"
    }
   },
   "outputs": [],
   "source": [
    "df[\"HO\"]=(((df[\"HIGH\"]-df[\"OPEN\"])/df[\"OPEN\"])*100).round(2)"
   ]
  },
  {
   "cell_type": "code",
   "execution_count": null,
   "metadata": {
    "pycharm": {
     "name": "#%%\n"
    }
   },
   "outputs": [],
   "source": [
    "df"
   ]
  },
  {
   "cell_type": "code",
   "execution_count": null,
   "metadata": {
    "pycharm": {
     "name": "#%%\n"
    }
   },
   "outputs": [],
   "source": [
    "df[\"OL\"]=(((df[\"OPEN\"]- df[\"LOW\"])/df[\"OPEN\"])*100).round(2)"
   ]
  },
  {
   "cell_type": "code",
   "execution_count": null,
   "metadata": {
    "pycharm": {
     "name": "#%%\n"
    }
   },
   "outputs": [],
   "source": [
    "df[]"
   ]
  },
  {
   "cell_type": "code",
   "execution_count": null,
   "metadata": {
    "pycharm": {
     "name": "#%%\n"
    }
   },
   "outputs": [],
   "source": [
    "str=\"aaaaaaaammmmmmeinadfhkdskdfjnsdfgjlajflajknsdglakjsfgl\"\n",
    "dfdic={}\n",
    "for i in str:\n",
    "    if i in dfdic:\n",
    "        dfdic[i]=dfdic[i]+1\n",
    "    else:\n",
    "        dfdic[i]=1"
   ]
  },
  {
   "cell_type": "code",
   "execution_count": null,
   "metadata": {
    "pycharm": {
     "name": "#%%\n"
    }
   },
   "outputs": [],
   "source": [
    "dfdic"
   ]
  },
  {
   "cell_type": "code",
   "execution_count": null,
   "metadata": {
    "pycharm": {
     "name": "#%%\n"
    }
   },
   "outputs": [],
   "source": [
    "df[\"SYMBOL\"]"
   ]
  },
  {
   "cell_type": "code",
   "execution_count": null,
   "metadata": {
    "pycharm": {
     "name": "#%%\n"
    }
   },
   "outputs": [],
   "source": [
    "import pandas as pd\n",
    "import yfinance as yf\n",
    "df=pd.read_csv(r\"D:\\Pyn\\online learning\\FINAL_DATA\\SCRNER_DATA\\onlynifty500a.csv\")\n",
    "tiker_name=[]\n",
    "for i in df.Tiker_name:\n",
    "    tiker_name.append(i+\".NS\")\n",
    "df_sh = {}\n",
    "for symbol in tiker_name:\n",
    "    try:\n",
    "        df_sh[symbol] = yf.download(symbol,start=\"2021-02-15\",end=\"2024-04-11\",interval=\"1d\")\n",
    "        df_sh[symbol]['Daily_Return'] = ((df_sh[symbol]['High']-df_sh[symbol]['Low'])/df_sh[symbol]['Open'])*100\n",
    "    except:\n",
    "        pass\n",
    "all_stock_returns = pd.DataFrame()\n",
    "for symbol in df_sh.keys():\n",
    "    all_stock_returns[symbol] = df_sh[symbol]['Daily_Return']\n",
    "all_stock_returns.to_csv(\"highlow20240411.csv\")"
   ]
  },
  {
   "cell_type": "code",
   "execution_count": null,
   "metadata": {
    "pycharm": {
     "name": "#%%\n"
    }
   },
   "outputs": [],
   "source": [
    "dfdata={}\n",
    "for i in df[\"SYMBOL\"][500:].head(10):\n",
    "    try:\n",
    "        dfdata[i]=cm.price_volume_and_deliverable_position_data(i,period=\"1Y\")\n",
    "    except:\n",
    "        pass\n",
    "# CLEDUCATE=cm.price_volume_and_deliverable_position_data(\"CLEDUCATE\",period=\"1Y\")"
   ]
  },
  {
   "cell_type": "code",
   "execution_count": null,
   "metadata": {
    "pycharm": {
     "name": "#%%\n"
    }
   },
   "outputs": [],
   "source": [
    "sbi=cm.price_volume_and_deliverable_position_data(\"SBI\",period=\"1Y\")"
   ]
  },
  {
   "cell_type": "code",
   "execution_count": null,
   "metadata": {
    "pycharm": {
     "name": "#%%\n"
    }
   },
   "outputs": [],
   "source": [
    "for i in df[\"SYMBOL\"][500:].head(10):\n",
    "    print(i)"
   ]
  },
  {
   "cell_type": "code",
   "execution_count": null,
   "metadata": {
    "pycharm": {
     "name": "#%%\n"
    }
   },
   "outputs": [],
   "source": [
    "182D031024=cm.price_volume_and_deliverable_position_data(\"182D031024\",period=\"1Y\")"
   ]
  },
  {
   "cell_type": "code",
   "execution_count": null,
   "metadata": {
    "pycharm": {
     "name": "#%%\n"
    }
   },
   "outputs": [],
   "source": [
    "sbi"
   ]
  },
  {
   "cell_type": "code",
   "execution_count": null,
   "metadata": {
    "pycharm": {
     "name": "#%%\n"
    }
   },
   "outputs": [],
   "source": [
    "SBIN=cm.price_volume_and_deliverable_position_data(\"SBIN\",period=\"1Y\")"
   ]
  },
  {
   "cell_type": "code",
   "execution_count": null,
   "metadata": {
    "pycharm": {
     "name": "#%%\n"
    }
   },
   "outputs": [],
   "source": [
    "SBIN"
   ]
  },
  {
   "cell_type": "code",
   "execution_count": null,
   "metadata": {
    "pycharm": {
     "name": "#%%\n"
    }
   },
   "outputs": [],
   "source": []
  },
  {
   "cell_type": "code",
   "execution_count": null,
   "metadata": {
    "pycharm": {
     "name": "#%%\n"
    }
   },
   "outputs": [],
   "source": [
    "CLEDUCATE=cm.price_volume_and_deliverable_position_data(\"CLEDUCATE\",period=\"1Y\")"
   ]
  },
  {
   "cell_type": "code",
   "execution_count": null,
   "metadata": {
    "pycharm": {
     "name": "#%%\n"
    }
   },
   "outputs": [],
   "source": [
    "CLEDUCATE"
   ]
  },
  {
   "cell_type": "code",
   "execution_count": null,
   "metadata": {
    "pycharm": {
     "name": "#%%\n"
    }
   },
   "outputs": [],
   "source": [
    "df_sh = {}\n",
    "for symbol in df[\"SYMBOL\"][500:].head(10):\n",
    "    try:\n",
    "        df_sh[symbol] = yf.download(symbol,start=\"2021-02-15\",end=\"2024-04-11\",interval=\"1d\")\n",
    "        df_sh[symbol]['Daily_Return'] = ((df_sh[symbol]['High']-df_sh[symbol]['Low'])/df_sh[symbol]['Open'])*100\n",
    "    except:\n",
    "        pass\n",
    "all_stock_returns = pd.DataFrame()\n",
    "for symbol in df_sh.keys():\n",
    "    all_stock_returns[symbol] = df_sh[symbol]['Daily_Return']"
   ]
  },
  {
   "cell_type": "code",
   "execution_count": 19,
   "metadata": {
    "pycharm": {
     "name": "#%%\n"
    }
   },
   "outputs": [
    {
     "ename": "NameError",
     "evalue": "name 'df' is not defined",
     "output_type": "error",
     "traceback": [
      "\u001b[1;31m---------------------------------------------------------------------------\u001b[0m",
      "\u001b[1;31mNameError\u001b[0m                                 Traceback (most recent call last)",
      "Cell \u001b[1;32mIn[19], line 1\u001b[0m\n\u001b[1;32m----> 1\u001b[0m \u001b[43mdf\u001b[49m[\u001b[38;5;124m\"\u001b[39m\u001b[38;5;124mSYMBOL\u001b[39m\u001b[38;5;124m\"\u001b[39m][\u001b[38;5;241m500\u001b[39m:]\u001b[38;5;241m.\u001b[39mhead(\u001b[38;5;241m10\u001b[39m)\n",
      "\u001b[1;31mNameError\u001b[0m: name 'df' is not defined"
     ]
    }
   ],
   "source": [
    "df[\"SYMBOL\"][500:].head(10)"
   ]
  },
  {
   "cell_type": "code",
   "execution_count": null,
   "metadata": {
    "pycharm": {
     "name": "#%%\n"
    }
   },
   "outputs": [],
   "source": [
    "CLEDUCATE[\"Symbol\"].unique()"
   ]
  },
  {
   "cell_type": "code",
   "execution_count": null,
   "metadata": {
    "pycharm": {
     "name": "#%%\n"
    }
   },
   "outputs": [],
   "source": [
    "CLEDUCATE.drop(\"Symbol\",axis=1,inplace=True)"
   ]
  },
  {
   "cell_type": "code",
   "execution_count": null,
   "metadata": {
    "pycharm": {
     "name": "#%%\n"
    }
   },
   "outputs": [],
   "source": [
    "CLEDUCATE[\"Series\"].unique()"
   ]
  },
  {
   "cell_type": "code",
   "execution_count": null,
   "metadata": {
    "pycharm": {
     "name": "#%%\n"
    }
   },
   "outputs": [],
   "source": [
    "CLEDUCATE[\"ClosePrice\"][::-1].plot.line"
   ]
  },
  {
   "cell_type": "code",
   "execution_count": null,
   "metadata": {
    "pycharm": {
     "name": "#%%\n"
    }
   },
   "outputs": [],
   "source": [
    "CLEDUCATE[[\"Date\",\"ClosePrice\"]].set_index(\"Date\").plot.line()"
   ]
  },
  {
   "cell_type": "code",
   "execution_count": null,
   "metadata": {
    "pycharm": {
     "name": "#%%\n"
    }
   },
   "outputs": [],
   "source": [
    "CLEDUCATE"
   ]
  },
  {
   "cell_type": "code",
   "execution_count": null,
   "metadata": {
    "pycharm": {
     "name": "#%%\n"
    }
   },
   "outputs": [],
   "source": [
    "CLEDUCATE=cm.price_volume_and_deliverable_position_data(\"CLEDUCATE\",period=\"1Y\")"
   ]
  },
  {
   "cell_type": "code",
   "execution_count": null,
   "metadata": {
    "pycharm": {
     "name": "#%%\n"
    }
   },
   "outputs": [],
   "source": [
    "CLEDUCATE.columns"
   ]
  },
  {
   "cell_type": "code",
   "execution_count": null,
   "metadata": {
    "pycharm": {
     "name": "#%%\n"
    }
   },
   "outputs": [],
   "source": [
    "CLEDUCATE"
   ]
  },
  {
   "cell_type": "code",
   "execution_count": null,
   "metadata": {
    "pycharm": {
     "name": "#%%\n"
    }
   },
   "outputs": [],
   "source": [
    "p"
   ]
  }
 ],
 "metadata": {
  "kernelspec": {
   "display_name": "Python 3 (ipykernel)",
   "language": "python",
   "name": "python3"
  },
  "language_info": {
   "codemirror_mode": {
    "name": "ipython",
    "version": 3
   },
   "file_extension": ".py",
   "mimetype": "text/x-python",
   "name": "python",
   "nbconvert_exporter": "python",
   "pygments_lexer": "ipython3",
   "version": "3.10.9"
  }
 },
 "nbformat": 4,
 "nbformat_minor": 1
}
