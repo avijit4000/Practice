{
 "cells": [
  {
   "cell_type": "code",
   "execution_count": 6,
   "metadata": {
    "pycharm": {
     "name": "#%%\n"
    }
   },
   "outputs": [],
   "source": [
    "from nselib import capital_market as cm"
   ]
  },
  {
   "cell_type": "code",
   "execution_count": 5,
   "metadata": {
    "pycharm": {
     "name": "#%%\n"
    }
   },
   "outputs": [
    {
     "name": "stdout",
     "output_type": "stream",
     "text": [
      "Collecting nselib\n",
      "  Downloading nselib-0.7-py3-none-any.whl (18 kB)\n",
      "Requirement already satisfied: pandas in c:\\users\\aviji\\appdata\\local\\programs\\python\\lib\\site-packages (from nselib) (2.0.2)\n",
      "Requirement already satisfied: requests in c:\\users\\aviji\\appdata\\local\\programs\\python\\lib\\site-packages (from nselib) (2.31.0)\n",
      "Collecting scipy\n",
      "  Downloading scipy-1.13.0-cp311-cp311-win_amd64.whl (46.2 MB)\n",
      "Requirement already satisfied: numpy>=1.23.2 in c:\\users\\aviji\\appdata\\local\\programs\\python\\lib\\site-packages (from pandas->nselib) (1.25.0)\n",
      "Requirement already satisfied: pytz>=2020.1 in c:\\users\\aviji\\appdata\\local\\programs\\python\\lib\\site-packages (from pandas->nselib) (2023.3)\n",
      "Requirement already satisfied: tzdata>=2022.1 in c:\\users\\aviji\\appdata\\local\\programs\\python\\lib\\site-packages (from pandas->nselib) (2023.3)\n",
      "Requirement already satisfied: python-dateutil>=2.8.2 in c:\\users\\aviji\\appdata\\local\\programs\\python\\lib\\site-packages (from pandas->nselib) (2.8.2)\n",
      "Requirement already satisfied: urllib3<3,>=1.21.1 in c:\\users\\aviji\\appdata\\local\\programs\\python\\lib\\site-packages (from requests->nselib) (2.0.3)\n",
      "Requirement already satisfied: certifi>=2017.4.17 in c:\\users\\aviji\\appdata\\local\\programs\\python\\lib\\site-packages (from requests->nselib) (2023.5.7)\n",
      "Requirement already satisfied: idna<4,>=2.5 in c:\\users\\aviji\\appdata\\local\\programs\\python\\lib\\site-packages (from requests->nselib) (3.4)\n",
      "Requirement already satisfied: charset-normalizer<4,>=2 in c:\\users\\aviji\\appdata\\local\\programs\\python\\lib\\site-packages (from requests->nselib) (3.1.0)\n",
      "Requirement already satisfied: six>=1.5 in c:\\users\\aviji\\appdata\\local\\programs\\python\\lib\\site-packages (from python-dateutil>=2.8.2->pandas->nselib) (1.16.0)\n",
      "Installing collected packages: scipy, nselib\n",
      "Successfully installed nselib-0.7 scipy-1.13.0\n",
      "Note: you may need to restart the kernel to use updated packages.\n"
     ]
    },
    {
     "name": "stderr",
     "output_type": "stream",
     "text": [
      "WARNING: You are using pip version 21.3.1; however, version 24.0 is available.\n",
      "You should consider upgrading via the 'c:\\Users\\aviji\\AppData\\Local\\Programs\\Python\\Python311\\python.exe -m pip install --upgrade pip' command.\n"
     ]
    }
   ],
   "source": [
    "pip install nselib"
   ]
  },
  {
   "cell_type": "code",
   "execution_count": 7,
   "metadata": {
    "pycharm": {
     "name": "#%%\n"
    }
   },
   "outputs": [],
   "source": [
    "import nselib"
   ]
  },
  {
   "cell_type": "code",
   "execution_count": 8,
   "metadata": {
    "pycharm": {
     "name": "#%%\n"
    }
   },
   "outputs": [],
   "source": [
    "datacal=nselib.trading_holiday_calendar()"
   ]
  },
  {
   "cell_type": "code",
   "execution_count": 9,
   "metadata": {
    "pycharm": {
     "name": "#%%\n"
    }
   },
   "outputs": [
    {
     "data": {
      "text/html": [
       "<div>\n",
       "<style scoped>\n",
       "    .dataframe tbody tr th:only-of-type {\n",
       "        vertical-align: middle;\n",
       "    }\n",
       "\n",
       "    .dataframe tbody tr th {\n",
       "        vertical-align: top;\n",
       "    }\n",
       "\n",
       "    .dataframe thead th {\n",
       "        text-align: right;\n",
       "    }\n",
       "</style>\n",
       "<table border=\"1\" class=\"dataframe\">\n",
       "  <thead>\n",
       "    <tr style=\"text-align: right;\">\n",
       "      <th></th>\n",
       "      <th>Product</th>\n",
       "      <th>tradingDate</th>\n",
       "      <th>weekDay</th>\n",
       "      <th>description</th>\n",
       "      <th>Sr_no</th>\n",
       "    </tr>\n",
       "  </thead>\n",
       "  <tbody>\n",
       "    <tr>\n",
       "      <th>0</th>\n",
       "      <td>Corporate Bonds</td>\n",
       "      <td>22-Jan-2024</td>\n",
       "      <td>Monday</td>\n",
       "      <td>Special Holiday\\r</td>\n",
       "      <td>1</td>\n",
       "    </tr>\n",
       "    <tr>\n",
       "      <th>1</th>\n",
       "      <td>Corporate Bonds</td>\n",
       "      <td>26-Jan-2024</td>\n",
       "      <td>Friday</td>\n",
       "      <td>Republic Day\\r</td>\n",
       "      <td>2</td>\n",
       "    </tr>\n",
       "    <tr>\n",
       "      <th>2</th>\n",
       "      <td>Corporate Bonds</td>\n",
       "      <td>19-Feb-2024</td>\n",
       "      <td>Monday</td>\n",
       "      <td>Chatrapati Shivaji Maharaj Jayanti\\r</td>\n",
       "      <td>3</td>\n",
       "    </tr>\n",
       "    <tr>\n",
       "      <th>3</th>\n",
       "      <td>Corporate Bonds</td>\n",
       "      <td>08-Mar-2024</td>\n",
       "      <td>Friday</td>\n",
       "      <td>Mahashivratri\\r</td>\n",
       "      <td>4</td>\n",
       "    </tr>\n",
       "    <tr>\n",
       "      <th>4</th>\n",
       "      <td>Corporate Bonds</td>\n",
       "      <td>25-Mar-2024</td>\n",
       "      <td>Monday</td>\n",
       "      <td>Holi\\r</td>\n",
       "      <td>5</td>\n",
       "    </tr>\n",
       "    <tr>\n",
       "      <th>...</th>\n",
       "      <td>...</td>\n",
       "      <td>...</td>\n",
       "      <td>...</td>\n",
       "      <td>...</td>\n",
       "      <td>...</td>\n",
       "    </tr>\n",
       "    <tr>\n",
       "      <th>15</th>\n",
       "      <td>Securities Lending &amp; Borrowing Schemes</td>\n",
       "      <td>12-Oct-2024</td>\n",
       "      <td>Saturday</td>\n",
       "      <td>Dussehra\\r</td>\n",
       "      <td>16</td>\n",
       "    </tr>\n",
       "    <tr>\n",
       "      <th>16</th>\n",
       "      <td>Securities Lending &amp; Borrowing Schemes</td>\n",
       "      <td>01-Nov-2024</td>\n",
       "      <td>Friday</td>\n",
       "      <td>Diwali Laxmi Pujan*\\r</td>\n",
       "      <td>17</td>\n",
       "    </tr>\n",
       "    <tr>\n",
       "      <th>17</th>\n",
       "      <td>Securities Lending &amp; Borrowing Schemes</td>\n",
       "      <td>02-Nov-2024</td>\n",
       "      <td>Saturday</td>\n",
       "      <td>Diwali-Balipratipada\\r</td>\n",
       "      <td>18</td>\n",
       "    </tr>\n",
       "    <tr>\n",
       "      <th>18</th>\n",
       "      <td>Securities Lending &amp; Borrowing Schemes</td>\n",
       "      <td>15-Nov-2024</td>\n",
       "      <td>Friday</td>\n",
       "      <td>Gurunanak Jayanti\\r</td>\n",
       "      <td>19</td>\n",
       "    </tr>\n",
       "    <tr>\n",
       "      <th>19</th>\n",
       "      <td>Securities Lending &amp; Borrowing Schemes</td>\n",
       "      <td>25-Dec-2024</td>\n",
       "      <td>Wednesday</td>\n",
       "      <td>Christmas\\r</td>\n",
       "      <td>20</td>\n",
       "    </tr>\n",
       "  </tbody>\n",
       "</table>\n",
       "<p>237 rows × 5 columns</p>\n",
       "</div>"
      ],
      "text/plain": [
       "                                   Product  tradingDate    weekDay  \\\n",
       "0                          Corporate Bonds  22-Jan-2024     Monday   \n",
       "1                          Corporate Bonds  26-Jan-2024     Friday   \n",
       "2                          Corporate Bonds  19-Feb-2024     Monday   \n",
       "3                          Corporate Bonds  08-Mar-2024     Friday   \n",
       "4                          Corporate Bonds  25-Mar-2024     Monday   \n",
       "..                                     ...          ...        ...   \n",
       "15  Securities Lending & Borrowing Schemes  12-Oct-2024   Saturday   \n",
       "16  Securities Lending & Borrowing Schemes  01-Nov-2024     Friday   \n",
       "17  Securities Lending & Borrowing Schemes  02-Nov-2024   Saturday   \n",
       "18  Securities Lending & Borrowing Schemes  15-Nov-2024     Friday   \n",
       "19  Securities Lending & Borrowing Schemes  25-Dec-2024  Wednesday   \n",
       "\n",
       "                             description Sr_no  \n",
       "0                      Special Holiday\\r     1  \n",
       "1                         Republic Day\\r     2  \n",
       "2   Chatrapati Shivaji Maharaj Jayanti\\r     3  \n",
       "3                        Mahashivratri\\r     4  \n",
       "4                                 Holi\\r     5  \n",
       "..                                   ...   ...  \n",
       "15                            Dussehra\\r    16  \n",
       "16                 Diwali Laxmi Pujan*\\r    17  \n",
       "17                Diwali-Balipratipada\\r    18  \n",
       "18                   Gurunanak Jayanti\\r    19  \n",
       "19                           Christmas\\r    20  \n",
       "\n",
       "[237 rows x 5 columns]"
      ]
     },
     "execution_count": 9,
     "metadata": {},
     "output_type": "execute_result"
    }
   ],
   "source": [
    "datacal"
   ]
  },
  {
   "cell_type": "code",
   "execution_count": null,
   "metadata": {
    "pycharm": {
     "name": "#%%\n"
    }
   },
   "outputs": [],
   "source": []
  }
 ],
 "metadata": {
  "kernelspec": {
   "display_name": "Python311",
   "language": "python",
   "name": "python3"
  },
  "language_info": {
   "codemirror_mode": {
    "name": "ipython",
    "version": 3
   },
   "file_extension": ".py",
   "mimetype": "text/x-python",
   "name": "python",
   "nbconvert_exporter": "python",
   "pygments_lexer": "ipython3",
   "version": "3.11.4"
  },
  "orig_nbformat": 4,
  "vscode": {
   "interpreter": {
    "hash": "a6623a6dd6b719a9fe940801cd6c263a7fd2597ca3a80bc952c84d8baaa65c43"
   }
  }
 },
 "nbformat": 4,
 "nbformat_minor": 2
}