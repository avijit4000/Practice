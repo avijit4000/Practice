{
 "cells": [
  {
   "cell_type": "code",
   "execution_count": 1,
   "metadata": {
    "collapsed": true,
    "pycharm": {
     "name": "#%%\n"
    }
   },
   "outputs": [],
   "source": [
    "from nselib import capital_market as cm"
   ]
  },
  {
   "cell_type": "code",
   "execution_count": 2,
   "outputs": [],
   "source": [
    "import nselib"
   ],
   "metadata": {
    "collapsed": false,
    "pycharm": {
     "name": "#%%\n"
    }
   }
  },
  {
   "cell_type": "code",
   "execution_count": 5,
   "outputs": [],
   "source": [
    "data=cm.bhav_copy_equities(\"23-04-2024\")"
   ],
   "metadata": {
    "collapsed": false,
    "pycharm": {
     "name": "#%%\n"
    }
   }
  },
  {
   "cell_type": "code",
   "execution_count": 6,
   "outputs": [
    {
     "data": {
      "text/plain": "          SYMBOL SERIES     OPEN     HIGH      LOW    CLOSE     LAST  \\\n0     1018GS2026     GS   113.01   113.01   113.00   113.00   113.00   \n1     182D031024     TB    96.65    96.86    96.54    96.83    96.83   \n2     182D090524     TB    99.62    99.62    99.62    99.62    99.62   \n3     182D110724     TB    98.30    98.30    98.30    98.30    98.30   \n4     182D111024     TB    96.62    96.62    96.62    96.62    96.62   \n...          ...    ...      ...      ...      ...      ...      ...   \n2738        ZOTA     EQ   484.25   494.00   482.50   485.55   483.25   \n2739       ZUARI     EQ   193.95   195.60   192.00   193.25   193.00   \n2740    ZUARIIND     EQ   356.00   360.00   347.40   350.70   354.00   \n2741   ZYDUSLIFE     EQ   960.05   968.05   944.60   959.45   956.75   \n2742   ZYDUSWELL     EQ  1660.20  1660.20  1620.00  1635.20  1634.05   \n\n      PREVCLOSE  TOTTRDQTY     TOTTRDVAL    TIMESTAMP  TOTALTRADES  \n0        113.00      15129  1.709627e+06  23-APR-2024            9  \n1         96.52       4800  4.640260e+05  23-APR-2024            7  \n2         99.62        100  9.962000e+03  23-APR-2024            1  \n3         98.30        300  2.949000e+04  23-APR-2024            1  \n4         96.27        700  6.763400e+04  23-APR-2024            1  \n...         ...        ...           ...          ...          ...  \n2738     483.55      18170  8.850780e+06  23-APR-2024         1624  \n2739     193.95     116387  2.252678e+07  23-APR-2024         5157  \n2740     354.60      68484  2.417471e+07  23-APR-2024         5666  \n2741     959.70    1094642  1.047229e+09  23-APR-2024        63229  \n2742    1660.20      22097  3.621160e+07  23-APR-2024         3223  \n\n[2743 rows x 12 columns]",
      "text/html": "<div>\n<style scoped>\n    .dataframe tbody tr th:only-of-type {\n        vertical-align: middle;\n    }\n\n    .dataframe tbody tr th {\n        vertical-align: top;\n    }\n\n    .dataframe thead th {\n        text-align: right;\n    }\n</style>\n<table border=\"1\" class=\"dataframe\">\n  <thead>\n    <tr style=\"text-align: right;\">\n      <th></th>\n      <th>SYMBOL</th>\n      <th>SERIES</th>\n      <th>OPEN</th>\n      <th>HIGH</th>\n      <th>LOW</th>\n      <th>CLOSE</th>\n      <th>LAST</th>\n      <th>PREVCLOSE</th>\n      <th>TOTTRDQTY</th>\n      <th>TOTTRDVAL</th>\n      <th>TIMESTAMP</th>\n      <th>TOTALTRADES</th>\n    </tr>\n  </thead>\n  <tbody>\n    <tr>\n      <th>0</th>\n      <td>1018GS2026</td>\n      <td>GS</td>\n      <td>113.01</td>\n      <td>113.01</td>\n      <td>113.00</td>\n      <td>113.00</td>\n      <td>113.00</td>\n      <td>113.00</td>\n      <td>15129</td>\n      <td>1.709627e+06</td>\n      <td>23-APR-2024</td>\n      <td>9</td>\n    </tr>\n    <tr>\n      <th>1</th>\n      <td>182D031024</td>\n      <td>TB</td>\n      <td>96.65</td>\n      <td>96.86</td>\n      <td>96.54</td>\n      <td>96.83</td>\n      <td>96.83</td>\n      <td>96.52</td>\n      <td>4800</td>\n      <td>4.640260e+05</td>\n      <td>23-APR-2024</td>\n      <td>7</td>\n    </tr>\n    <tr>\n      <th>2</th>\n      <td>182D090524</td>\n      <td>TB</td>\n      <td>99.62</td>\n      <td>99.62</td>\n      <td>99.62</td>\n      <td>99.62</td>\n      <td>99.62</td>\n      <td>99.62</td>\n      <td>100</td>\n      <td>9.962000e+03</td>\n      <td>23-APR-2024</td>\n      <td>1</td>\n    </tr>\n    <tr>\n      <th>3</th>\n      <td>182D110724</td>\n      <td>TB</td>\n      <td>98.30</td>\n      <td>98.30</td>\n      <td>98.30</td>\n      <td>98.30</td>\n      <td>98.30</td>\n      <td>98.30</td>\n      <td>300</td>\n      <td>2.949000e+04</td>\n      <td>23-APR-2024</td>\n      <td>1</td>\n    </tr>\n    <tr>\n      <th>4</th>\n      <td>182D111024</td>\n      <td>TB</td>\n      <td>96.62</td>\n      <td>96.62</td>\n      <td>96.62</td>\n      <td>96.62</td>\n      <td>96.62</td>\n      <td>96.27</td>\n      <td>700</td>\n      <td>6.763400e+04</td>\n      <td>23-APR-2024</td>\n      <td>1</td>\n    </tr>\n    <tr>\n      <th>...</th>\n      <td>...</td>\n      <td>...</td>\n      <td>...</td>\n      <td>...</td>\n      <td>...</td>\n      <td>...</td>\n      <td>...</td>\n      <td>...</td>\n      <td>...</td>\n      <td>...</td>\n      <td>...</td>\n      <td>...</td>\n    </tr>\n    <tr>\n      <th>2738</th>\n      <td>ZOTA</td>\n      <td>EQ</td>\n      <td>484.25</td>\n      <td>494.00</td>\n      <td>482.50</td>\n      <td>485.55</td>\n      <td>483.25</td>\n      <td>483.55</td>\n      <td>18170</td>\n      <td>8.850780e+06</td>\n      <td>23-APR-2024</td>\n      <td>1624</td>\n    </tr>\n    <tr>\n      <th>2739</th>\n      <td>ZUARI</td>\n      <td>EQ</td>\n      <td>193.95</td>\n      <td>195.60</td>\n      <td>192.00</td>\n      <td>193.25</td>\n      <td>193.00</td>\n      <td>193.95</td>\n      <td>116387</td>\n      <td>2.252678e+07</td>\n      <td>23-APR-2024</td>\n      <td>5157</td>\n    </tr>\n    <tr>\n      <th>2740</th>\n      <td>ZUARIIND</td>\n      <td>EQ</td>\n      <td>356.00</td>\n      <td>360.00</td>\n      <td>347.40</td>\n      <td>350.70</td>\n      <td>354.00</td>\n      <td>354.60</td>\n      <td>68484</td>\n      <td>2.417471e+07</td>\n      <td>23-APR-2024</td>\n      <td>5666</td>\n    </tr>\n    <tr>\n      <th>2741</th>\n      <td>ZYDUSLIFE</td>\n      <td>EQ</td>\n      <td>960.05</td>\n      <td>968.05</td>\n      <td>944.60</td>\n      <td>959.45</td>\n      <td>956.75</td>\n      <td>959.70</td>\n      <td>1094642</td>\n      <td>1.047229e+09</td>\n      <td>23-APR-2024</td>\n      <td>63229</td>\n    </tr>\n    <tr>\n      <th>2742</th>\n      <td>ZYDUSWELL</td>\n      <td>EQ</td>\n      <td>1660.20</td>\n      <td>1660.20</td>\n      <td>1620.00</td>\n      <td>1635.20</td>\n      <td>1634.05</td>\n      <td>1660.20</td>\n      <td>22097</td>\n      <td>3.621160e+07</td>\n      <td>23-APR-2024</td>\n      <td>3223</td>\n    </tr>\n  </tbody>\n</table>\n<p>2743 rows × 12 columns</p>\n</div>"
     },
     "execution_count": 6,
     "metadata": {},
     "output_type": "execute_result"
    }
   ],
   "source": [
    "data"
   ],
   "metadata": {
    "collapsed": false,
    "pycharm": {
     "name": "#%%\n"
    }
   }
  },
  {
   "cell_type": "code",
   "execution_count": 9,
   "outputs": [
    {
     "data": {
      "text/plain": "       SYMBOL SERIES   OPEN   HIGH    LOW  CLOSE    LAST  PREVCLOSE  \\\n2437  SWSOLAR     EQ  634.0  679.4  627.0  632.0  632.95     617.65   \n\n      TOTTRDQTY     TOTTRDVAL    TIMESTAMP  TOTALTRADES  \n2437   12689724  8.356157e+09  23-APR-2024       158018  ",
      "text/html": "<div>\n<style scoped>\n    .dataframe tbody tr th:only-of-type {\n        vertical-align: middle;\n    }\n\n    .dataframe tbody tr th {\n        vertical-align: top;\n    }\n\n    .dataframe thead th {\n        text-align: right;\n    }\n</style>\n<table border=\"1\" class=\"dataframe\">\n  <thead>\n    <tr style=\"text-align: right;\">\n      <th></th>\n      <th>SYMBOL</th>\n      <th>SERIES</th>\n      <th>OPEN</th>\n      <th>HIGH</th>\n      <th>LOW</th>\n      <th>CLOSE</th>\n      <th>LAST</th>\n      <th>PREVCLOSE</th>\n      <th>TOTTRDQTY</th>\n      <th>TOTTRDVAL</th>\n      <th>TIMESTAMP</th>\n      <th>TOTALTRADES</th>\n    </tr>\n  </thead>\n  <tbody>\n    <tr>\n      <th>2437</th>\n      <td>SWSOLAR</td>\n      <td>EQ</td>\n      <td>634.0</td>\n      <td>679.4</td>\n      <td>627.0</td>\n      <td>632.0</td>\n      <td>632.95</td>\n      <td>617.65</td>\n      <td>12689724</td>\n      <td>8.356157e+09</td>\n      <td>23-APR-2024</td>\n      <td>158018</td>\n    </tr>\n  </tbody>\n</table>\n</div>"
     },
     "execution_count": 9,
     "metadata": {},
     "output_type": "execute_result"
    }
   ],
   "source": [
    "data[data[\"SYMBOL\"]==\"SWSOLAR\"]"
   ],
   "metadata": {
    "collapsed": false,
    "pycharm": {
     "name": "#%%\n"
    }
   }
  },
  {
   "cell_type": "code",
   "execution_count": 21,
   "outputs": [
    {
     "ename": "KeyError",
     "evalue": "\"None of [Index([0.010000000000005116,   0.3199999999999932,                  0.0,\\n                        0.0,                  0.0,   0.8999999999999915,\\n        0.14999999999999147,                  0.0,                  0.0,\\n                        0.0,\\n       ...\\n          19.89999999999999,                  0.0,    6.300000000000011,\\n                        0.0,    7.900000000000006,                 11.5,\\n         3.5999999999999943,   12.600000000000023,   23.449999999999932,\\n         40.200000000000045],\\n      dtype='float64', length=2743)] are in the [columns]\"",
     "output_type": "error",
     "traceback": [
      "\u001B[1;31m---------------------------------------------------------------------------\u001B[0m",
      "\u001B[1;31mKeyError\u001B[0m                                  Traceback (most recent call last)",
      "Cell \u001B[1;32mIn[21], line 1\u001B[0m\n\u001B[1;32m----> 1\u001B[0m \u001B[43mdata\u001B[49m\u001B[43m[\u001B[49m\u001B[43m(\u001B[49m\u001B[43mdata\u001B[49m\u001B[43m[\u001B[49m\u001B[38;5;124;43m\"\u001B[39;49m\u001B[38;5;124;43mHIGH\u001B[39;49m\u001B[38;5;124;43m\"\u001B[39;49m\u001B[43m]\u001B[49m\u001B[38;5;241;43m-\u001B[39;49m\u001B[43mdata\u001B[49m\u001B[43m[\u001B[49m\u001B[38;5;124;43m\"\u001B[39;49m\u001B[38;5;124;43mLOW\u001B[39;49m\u001B[38;5;124;43m\"\u001B[39;49m\u001B[43m]\u001B[49m\u001B[43m)\u001B[49m\u001B[43m]\u001B[49m\n",
      "File \u001B[1;32m~\\AppData\\Roaming\\Python\\Python310\\site-packages\\pandas\\core\\frame.py:3767\u001B[0m, in \u001B[0;36mDataFrame.__getitem__\u001B[1;34m(self, key)\u001B[0m\n\u001B[0;32m   3765\u001B[0m     \u001B[38;5;28;01mif\u001B[39;00m is_iterator(key):\n\u001B[0;32m   3766\u001B[0m         key \u001B[38;5;241m=\u001B[39m \u001B[38;5;28mlist\u001B[39m(key)\n\u001B[1;32m-> 3767\u001B[0m     indexer \u001B[38;5;241m=\u001B[39m \u001B[38;5;28;43mself\u001B[39;49m\u001B[38;5;241;43m.\u001B[39;49m\u001B[43mcolumns\u001B[49m\u001B[38;5;241;43m.\u001B[39;49m\u001B[43m_get_indexer_strict\u001B[49m\u001B[43m(\u001B[49m\u001B[43mkey\u001B[49m\u001B[43m,\u001B[49m\u001B[43m \u001B[49m\u001B[38;5;124;43m\"\u001B[39;49m\u001B[38;5;124;43mcolumns\u001B[39;49m\u001B[38;5;124;43m\"\u001B[39;49m\u001B[43m)\u001B[49m[\u001B[38;5;241m1\u001B[39m]\n\u001B[0;32m   3769\u001B[0m \u001B[38;5;66;03m# take() does not accept boolean indexers\u001B[39;00m\n\u001B[0;32m   3770\u001B[0m \u001B[38;5;28;01mif\u001B[39;00m \u001B[38;5;28mgetattr\u001B[39m(indexer, \u001B[38;5;124m\"\u001B[39m\u001B[38;5;124mdtype\u001B[39m\u001B[38;5;124m\"\u001B[39m, \u001B[38;5;28;01mNone\u001B[39;00m) \u001B[38;5;241m==\u001B[39m \u001B[38;5;28mbool\u001B[39m:\n",
      "File \u001B[1;32m~\\AppData\\Roaming\\Python\\Python310\\site-packages\\pandas\\core\\indexes\\base.py:5877\u001B[0m, in \u001B[0;36mIndex._get_indexer_strict\u001B[1;34m(self, key, axis_name)\u001B[0m\n\u001B[0;32m   5874\u001B[0m \u001B[38;5;28;01melse\u001B[39;00m:\n\u001B[0;32m   5875\u001B[0m     keyarr, indexer, new_indexer \u001B[38;5;241m=\u001B[39m \u001B[38;5;28mself\u001B[39m\u001B[38;5;241m.\u001B[39m_reindex_non_unique(keyarr)\n\u001B[1;32m-> 5877\u001B[0m \u001B[38;5;28;43mself\u001B[39;49m\u001B[38;5;241;43m.\u001B[39;49m\u001B[43m_raise_if_missing\u001B[49m\u001B[43m(\u001B[49m\u001B[43mkeyarr\u001B[49m\u001B[43m,\u001B[49m\u001B[43m \u001B[49m\u001B[43mindexer\u001B[49m\u001B[43m,\u001B[49m\u001B[43m \u001B[49m\u001B[43maxis_name\u001B[49m\u001B[43m)\u001B[49m\n\u001B[0;32m   5879\u001B[0m keyarr \u001B[38;5;241m=\u001B[39m \u001B[38;5;28mself\u001B[39m\u001B[38;5;241m.\u001B[39mtake(indexer)\n\u001B[0;32m   5880\u001B[0m \u001B[38;5;28;01mif\u001B[39;00m \u001B[38;5;28misinstance\u001B[39m(key, Index):\n\u001B[0;32m   5881\u001B[0m     \u001B[38;5;66;03m# GH 42790 - Preserve name from an Index\u001B[39;00m\n",
      "File \u001B[1;32m~\\AppData\\Roaming\\Python\\Python310\\site-packages\\pandas\\core\\indexes\\base.py:5938\u001B[0m, in \u001B[0;36mIndex._raise_if_missing\u001B[1;34m(self, key, indexer, axis_name)\u001B[0m\n\u001B[0;32m   5936\u001B[0m     \u001B[38;5;28;01mif\u001B[39;00m use_interval_msg:\n\u001B[0;32m   5937\u001B[0m         key \u001B[38;5;241m=\u001B[39m \u001B[38;5;28mlist\u001B[39m(key)\n\u001B[1;32m-> 5938\u001B[0m     \u001B[38;5;28;01mraise\u001B[39;00m \u001B[38;5;167;01mKeyError\u001B[39;00m(\u001B[38;5;124mf\u001B[39m\u001B[38;5;124m\"\u001B[39m\u001B[38;5;124mNone of [\u001B[39m\u001B[38;5;132;01m{\u001B[39;00mkey\u001B[38;5;132;01m}\u001B[39;00m\u001B[38;5;124m] are in the [\u001B[39m\u001B[38;5;132;01m{\u001B[39;00maxis_name\u001B[38;5;132;01m}\u001B[39;00m\u001B[38;5;124m]\u001B[39m\u001B[38;5;124m\"\u001B[39m)\n\u001B[0;32m   5940\u001B[0m not_found \u001B[38;5;241m=\u001B[39m \u001B[38;5;28mlist\u001B[39m(ensure_index(key)[missing_mask\u001B[38;5;241m.\u001B[39mnonzero()[\u001B[38;5;241m0\u001B[39m]]\u001B[38;5;241m.\u001B[39munique())\n\u001B[0;32m   5941\u001B[0m \u001B[38;5;28;01mraise\u001B[39;00m \u001B[38;5;167;01mKeyError\u001B[39;00m(\u001B[38;5;124mf\u001B[39m\u001B[38;5;124m\"\u001B[39m\u001B[38;5;132;01m{\u001B[39;00mnot_found\u001B[38;5;132;01m}\u001B[39;00m\u001B[38;5;124m not in index\u001B[39m\u001B[38;5;124m\"\u001B[39m)\n",
      "\u001B[1;31mKeyError\u001B[0m: \"None of [Index([0.010000000000005116,   0.3199999999999932,                  0.0,\\n                        0.0,                  0.0,   0.8999999999999915,\\n        0.14999999999999147,                  0.0,                  0.0,\\n                        0.0,\\n       ...\\n          19.89999999999999,                  0.0,    6.300000000000011,\\n                        0.0,    7.900000000000006,                 11.5,\\n         3.5999999999999943,   12.600000000000023,   23.449999999999932,\\n         40.200000000000045],\\n      dtype='float64', length=2743)] are in the [columns]\""
     ]
    }
   ],
   "source": [
    "data[(data[\"HIGH\"]-data[\"LOW\"])]"
   ],
   "metadata": {
    "collapsed": false,
    "pycharm": {
     "name": "#%%\n"
    }
   }
  },
  {
   "cell_type": "code",
   "execution_count": 22,
   "outputs": [],
   "source": [
    "filtered_data = data[data[\"HIGH\"] - data[\"LOW\"] > 10]"
   ],
   "metadata": {
    "collapsed": false,
    "pycharm": {
     "name": "#%%\n"
    }
   }
  },
  {
   "cell_type": "code",
   "execution_count": 23,
   "outputs": [
    {
     "data": {
      "text/plain": "         SYMBOL SERIES      OPEN      HIGH       LOW     CLOSE      LAST  \\\n15       360ONE     EQ    778.30    813.10    760.05    766.05    765.00   \n26      3MINDIA     EQ  29831.85  29986.00  29680.15  29755.70  29800.00   \n32       5PAISA     EQ    552.50    569.10    547.00    555.80    555.55   \n34      63MOONS     EQ    419.00    442.15    415.05    427.45    427.00   \n94      AARTECH     EQ    230.00    230.00    214.95    214.95    214.95   \n...         ...    ...       ...       ...       ...       ...       ...   \n2733     ZIMLAB     EQ     94.40    114.30     94.40    111.15    111.50   \n2738       ZOTA     EQ    484.25    494.00    482.50    485.55    483.25   \n2740   ZUARIIND     EQ    356.00    360.00    347.40    350.70    354.00   \n2741  ZYDUSLIFE     EQ    960.05    968.05    944.60    959.45    956.75   \n2742  ZYDUSWELL     EQ   1660.20   1660.20   1620.00   1635.20   1634.05   \n\n      PREVCLOSE  TOTTRDQTY     TOTTRDVAL    TIMESTAMP  TOTALTRADES  \n15       769.45     793448  6.183903e+08  23-APR-2024        57925  \n26     29831.85       1215  3.625094e+07  23-APR-2024          729  \n32       548.90     145886  8.118198e+07  23-APR-2024        11284  \n34       421.10     316784  1.373504e+08  23-APR-2024         7317  \n94       226.25     126065  2.733083e+07  23-APR-2024         1126  \n...         ...        ...           ...          ...          ...  \n2733      95.25    3063170  3.341662e+08  23-APR-2024        21049  \n2738     483.55      18170  8.850780e+06  23-APR-2024         1624  \n2740     354.60      68484  2.417471e+07  23-APR-2024         5666  \n2741     959.70    1094642  1.047229e+09  23-APR-2024        63229  \n2742    1660.20      22097  3.621160e+07  23-APR-2024         3223  \n\n[1102 rows x 12 columns]",
      "text/html": "<div>\n<style scoped>\n    .dataframe tbody tr th:only-of-type {\n        vertical-align: middle;\n    }\n\n    .dataframe tbody tr th {\n        vertical-align: top;\n    }\n\n    .dataframe thead th {\n        text-align: right;\n    }\n</style>\n<table border=\"1\" class=\"dataframe\">\n  <thead>\n    <tr style=\"text-align: right;\">\n      <th></th>\n      <th>SYMBOL</th>\n      <th>SERIES</th>\n      <th>OPEN</th>\n      <th>HIGH</th>\n      <th>LOW</th>\n      <th>CLOSE</th>\n      <th>LAST</th>\n      <th>PREVCLOSE</th>\n      <th>TOTTRDQTY</th>\n      <th>TOTTRDVAL</th>\n      <th>TIMESTAMP</th>\n      <th>TOTALTRADES</th>\n    </tr>\n  </thead>\n  <tbody>\n    <tr>\n      <th>15</th>\n      <td>360ONE</td>\n      <td>EQ</td>\n      <td>778.30</td>\n      <td>813.10</td>\n      <td>760.05</td>\n      <td>766.05</td>\n      <td>765.00</td>\n      <td>769.45</td>\n      <td>793448</td>\n      <td>6.183903e+08</td>\n      <td>23-APR-2024</td>\n      <td>57925</td>\n    </tr>\n    <tr>\n      <th>26</th>\n      <td>3MINDIA</td>\n      <td>EQ</td>\n      <td>29831.85</td>\n      <td>29986.00</td>\n      <td>29680.15</td>\n      <td>29755.70</td>\n      <td>29800.00</td>\n      <td>29831.85</td>\n      <td>1215</td>\n      <td>3.625094e+07</td>\n      <td>23-APR-2024</td>\n      <td>729</td>\n    </tr>\n    <tr>\n      <th>32</th>\n      <td>5PAISA</td>\n      <td>EQ</td>\n      <td>552.50</td>\n      <td>569.10</td>\n      <td>547.00</td>\n      <td>555.80</td>\n      <td>555.55</td>\n      <td>548.90</td>\n      <td>145886</td>\n      <td>8.118198e+07</td>\n      <td>23-APR-2024</td>\n      <td>11284</td>\n    </tr>\n    <tr>\n      <th>34</th>\n      <td>63MOONS</td>\n      <td>EQ</td>\n      <td>419.00</td>\n      <td>442.15</td>\n      <td>415.05</td>\n      <td>427.45</td>\n      <td>427.00</td>\n      <td>421.10</td>\n      <td>316784</td>\n      <td>1.373504e+08</td>\n      <td>23-APR-2024</td>\n      <td>7317</td>\n    </tr>\n    <tr>\n      <th>94</th>\n      <td>AARTECH</td>\n      <td>EQ</td>\n      <td>230.00</td>\n      <td>230.00</td>\n      <td>214.95</td>\n      <td>214.95</td>\n      <td>214.95</td>\n      <td>226.25</td>\n      <td>126065</td>\n      <td>2.733083e+07</td>\n      <td>23-APR-2024</td>\n      <td>1126</td>\n    </tr>\n    <tr>\n      <th>...</th>\n      <td>...</td>\n      <td>...</td>\n      <td>...</td>\n      <td>...</td>\n      <td>...</td>\n      <td>...</td>\n      <td>...</td>\n      <td>...</td>\n      <td>...</td>\n      <td>...</td>\n      <td>...</td>\n      <td>...</td>\n    </tr>\n    <tr>\n      <th>2733</th>\n      <td>ZIMLAB</td>\n      <td>EQ</td>\n      <td>94.40</td>\n      <td>114.30</td>\n      <td>94.40</td>\n      <td>111.15</td>\n      <td>111.50</td>\n      <td>95.25</td>\n      <td>3063170</td>\n      <td>3.341662e+08</td>\n      <td>23-APR-2024</td>\n      <td>21049</td>\n    </tr>\n    <tr>\n      <th>2738</th>\n      <td>ZOTA</td>\n      <td>EQ</td>\n      <td>484.25</td>\n      <td>494.00</td>\n      <td>482.50</td>\n      <td>485.55</td>\n      <td>483.25</td>\n      <td>483.55</td>\n      <td>18170</td>\n      <td>8.850780e+06</td>\n      <td>23-APR-2024</td>\n      <td>1624</td>\n    </tr>\n    <tr>\n      <th>2740</th>\n      <td>ZUARIIND</td>\n      <td>EQ</td>\n      <td>356.00</td>\n      <td>360.00</td>\n      <td>347.40</td>\n      <td>350.70</td>\n      <td>354.00</td>\n      <td>354.60</td>\n      <td>68484</td>\n      <td>2.417471e+07</td>\n      <td>23-APR-2024</td>\n      <td>5666</td>\n    </tr>\n    <tr>\n      <th>2741</th>\n      <td>ZYDUSLIFE</td>\n      <td>EQ</td>\n      <td>960.05</td>\n      <td>968.05</td>\n      <td>944.60</td>\n      <td>959.45</td>\n      <td>956.75</td>\n      <td>959.70</td>\n      <td>1094642</td>\n      <td>1.047229e+09</td>\n      <td>23-APR-2024</td>\n      <td>63229</td>\n    </tr>\n    <tr>\n      <th>2742</th>\n      <td>ZYDUSWELL</td>\n      <td>EQ</td>\n      <td>1660.20</td>\n      <td>1660.20</td>\n      <td>1620.00</td>\n      <td>1635.20</td>\n      <td>1634.05</td>\n      <td>1660.20</td>\n      <td>22097</td>\n      <td>3.621160e+07</td>\n      <td>23-APR-2024</td>\n      <td>3223</td>\n    </tr>\n  </tbody>\n</table>\n<p>1102 rows × 12 columns</p>\n</div>"
     },
     "execution_count": 23,
     "metadata": {},
     "output_type": "execute_result"
    }
   ],
   "source": [
    "filtered_data"
   ],
   "metadata": {
    "collapsed": false,
    "pycharm": {
     "name": "#%%\n"
    }
   }
  },
  {
   "cell_type": "code",
   "execution_count": 26,
   "outputs": [
    {
     "data": {
      "text/plain": "Empty DataFrame\nColumns: [SYMBOL, SERIES, OPEN, HIGH, LOW, CLOSE, LAST, PREVCLOSE, TOTTRDQTY, TOTTRDVAL, TIMESTAMP, TOTALTRADES]\nIndex: []",
      "text/html": "<div>\n<style scoped>\n    .dataframe tbody tr th:only-of-type {\n        vertical-align: middle;\n    }\n\n    .dataframe tbody tr th {\n        vertical-align: top;\n    }\n\n    .dataframe thead th {\n        text-align: right;\n    }\n</style>\n<table border=\"1\" class=\"dataframe\">\n  <thead>\n    <tr style=\"text-align: right;\">\n      <th></th>\n      <th>SYMBOL</th>\n      <th>SERIES</th>\n      <th>OPEN</th>\n      <th>HIGH</th>\n      <th>LOW</th>\n      <th>CLOSE</th>\n      <th>LAST</th>\n      <th>PREVCLOSE</th>\n      <th>TOTTRDQTY</th>\n      <th>TOTTRDVAL</th>\n      <th>TIMESTAMP</th>\n      <th>TOTALTRADES</th>\n    </tr>\n  </thead>\n  <tbody>\n  </tbody>\n</table>\n</div>"
     },
     "execution_count": 26,
     "metadata": {},
     "output_type": "execute_result"
    }
   ],
   "source": [
    "data[((data[\"HIGH\"] - data[\"LOW\"])/data[\"LOW\"])>5]"
   ],
   "metadata": {
    "collapsed": false,
    "pycharm": {
     "name": "#%%\n"
    }
   }
  },
  {
   "cell_type": "code",
   "execution_count": 28,
   "outputs": [
    {
     "data": {
      "text/plain": "Empty DataFrame\nColumns: [SYMBOL, SERIES, OPEN, HIGH, LOW, CLOSE, LAST, PREVCLOSE, TOTTRDQTY, TOTTRDVAL, TIMESTAMP, TOTALTRADES]\nIndex: []",
      "text/html": "<div>\n<style scoped>\n    .dataframe tbody tr th:only-of-type {\n        vertical-align: middle;\n    }\n\n    .dataframe tbody tr th {\n        vertical-align: top;\n    }\n\n    .dataframe thead th {\n        text-align: right;\n    }\n</style>\n<table border=\"1\" class=\"dataframe\">\n  <thead>\n    <tr style=\"text-align: right;\">\n      <th></th>\n      <th>SYMBOL</th>\n      <th>SERIES</th>\n      <th>OPEN</th>\n      <th>HIGH</th>\n      <th>LOW</th>\n      <th>CLOSE</th>\n      <th>LAST</th>\n      <th>PREVCLOSE</th>\n      <th>TOTTRDQTY</th>\n      <th>TOTTRDVAL</th>\n      <th>TIMESTAMP</th>\n      <th>TOTALTRADES</th>\n    </tr>\n  </thead>\n  <tbody>\n  </tbody>\n</table>\n</div>"
     },
     "execution_count": 28,
     "metadata": {},
     "output_type": "execute_result"
    }
   ],
   "source": [
    "data[(((data[\"HIGH\"] - data[\"LOW\"]) / data[\"LOW\"]) > 5)]\n"
   ],
   "metadata": {
    "collapsed": false,
    "pycharm": {
     "name": "#%%\n"
    }
   }
  },
  {
   "cell_type": "code",
   "execution_count": 42,
   "outputs": [
    {
     "data": {
      "text/plain": "          SYMBOL SERIES     OPEN     HIGH      LOW    CLOSE     LAST  \\\n108        ABFRL     EQ   241.95   273.20   237.05   263.50   263.00   \n147     AGRITECH     EQ   203.10   224.00   203.10   216.45   215.90   \n148     AGROPHOS     EQ    43.50    49.80    43.50    47.65    47.10   \n156         AIIL     EQ   855.00   953.20   775.05   926.20   917.00   \n201      AMNPLST     EQ   199.70   222.00   195.20   212.75   211.80   \n...          ...    ...      ...      ...      ...      ...      ...   \n2674          VR     SM   123.00   141.40   123.00   140.70   140.65   \n2694       WEWIN     BE    93.95    93.95    85.40    87.20    87.95   \n2697  WILLAMAGOR     EQ    37.00    39.25    35.45    37.15    37.05   \n2721       YUKEN     EQ  1016.50  1119.40  1015.00  1037.40  1035.00   \n2733      ZIMLAB     EQ    94.40   114.30    94.40   111.15   111.50   \n\n      PREVCLOSE  TOTTRDQTY     TOTTRDVAL    TIMESTAMP  TOTALTRADES  \n108      240.75   31008521  7.989277e+09  23-APR-2024       183102  \n147      202.05      71356  1.534442e+07  23-APR-2024         3005  \n148       43.90     539964  2.600689e+07  23-APR-2024         3525  \n156      794.45     212645  1.926062e+08  23-APR-2024         7241  \n201      189.20     454551  9.738020e+07  23-APR-2024        10206  \n...         ...        ...           ...          ...          ...  \n2674     117.85     115200  1.569448e+07  23-APR-2024           58  \n2694      89.75      14486  1.269147e+06  23-APR-2024          252  \n2697      36.00      23337  8.763895e+05  23-APR-2024          271  \n2721    1016.95      26550  2.804308e+07  23-APR-2024         1820  \n2733      95.25    3063170  3.341662e+08  23-APR-2024        21049  \n\n[91 rows x 12 columns]",
      "text/html": "<div>\n<style scoped>\n    .dataframe tbody tr th:only-of-type {\n        vertical-align: middle;\n    }\n\n    .dataframe tbody tr th {\n        vertical-align: top;\n    }\n\n    .dataframe thead th {\n        text-align: right;\n    }\n</style>\n<table border=\"1\" class=\"dataframe\">\n  <thead>\n    <tr style=\"text-align: right;\">\n      <th></th>\n      <th>SYMBOL</th>\n      <th>SERIES</th>\n      <th>OPEN</th>\n      <th>HIGH</th>\n      <th>LOW</th>\n      <th>CLOSE</th>\n      <th>LAST</th>\n      <th>PREVCLOSE</th>\n      <th>TOTTRDQTY</th>\n      <th>TOTTRDVAL</th>\n      <th>TIMESTAMP</th>\n      <th>TOTALTRADES</th>\n    </tr>\n  </thead>\n  <tbody>\n    <tr>\n      <th>108</th>\n      <td>ABFRL</td>\n      <td>EQ</td>\n      <td>241.95</td>\n      <td>273.20</td>\n      <td>237.05</td>\n      <td>263.50</td>\n      <td>263.00</td>\n      <td>240.75</td>\n      <td>31008521</td>\n      <td>7.989277e+09</td>\n      <td>23-APR-2024</td>\n      <td>183102</td>\n    </tr>\n    <tr>\n      <th>147</th>\n      <td>AGRITECH</td>\n      <td>EQ</td>\n      <td>203.10</td>\n      <td>224.00</td>\n      <td>203.10</td>\n      <td>216.45</td>\n      <td>215.90</td>\n      <td>202.05</td>\n      <td>71356</td>\n      <td>1.534442e+07</td>\n      <td>23-APR-2024</td>\n      <td>3005</td>\n    </tr>\n    <tr>\n      <th>148</th>\n      <td>AGROPHOS</td>\n      <td>EQ</td>\n      <td>43.50</td>\n      <td>49.80</td>\n      <td>43.50</td>\n      <td>47.65</td>\n      <td>47.10</td>\n      <td>43.90</td>\n      <td>539964</td>\n      <td>2.600689e+07</td>\n      <td>23-APR-2024</td>\n      <td>3525</td>\n    </tr>\n    <tr>\n      <th>156</th>\n      <td>AIIL</td>\n      <td>EQ</td>\n      <td>855.00</td>\n      <td>953.20</td>\n      <td>775.05</td>\n      <td>926.20</td>\n      <td>917.00</td>\n      <td>794.45</td>\n      <td>212645</td>\n      <td>1.926062e+08</td>\n      <td>23-APR-2024</td>\n      <td>7241</td>\n    </tr>\n    <tr>\n      <th>201</th>\n      <td>AMNPLST</td>\n      <td>EQ</td>\n      <td>199.70</td>\n      <td>222.00</td>\n      <td>195.20</td>\n      <td>212.75</td>\n      <td>211.80</td>\n      <td>189.20</td>\n      <td>454551</td>\n      <td>9.738020e+07</td>\n      <td>23-APR-2024</td>\n      <td>10206</td>\n    </tr>\n    <tr>\n      <th>...</th>\n      <td>...</td>\n      <td>...</td>\n      <td>...</td>\n      <td>...</td>\n      <td>...</td>\n      <td>...</td>\n      <td>...</td>\n      <td>...</td>\n      <td>...</td>\n      <td>...</td>\n      <td>...</td>\n      <td>...</td>\n    </tr>\n    <tr>\n      <th>2674</th>\n      <td>VR</td>\n      <td>SM</td>\n      <td>123.00</td>\n      <td>141.40</td>\n      <td>123.00</td>\n      <td>140.70</td>\n      <td>140.65</td>\n      <td>117.85</td>\n      <td>115200</td>\n      <td>1.569448e+07</td>\n      <td>23-APR-2024</td>\n      <td>58</td>\n    </tr>\n    <tr>\n      <th>2694</th>\n      <td>WEWIN</td>\n      <td>BE</td>\n      <td>93.95</td>\n      <td>93.95</td>\n      <td>85.40</td>\n      <td>87.20</td>\n      <td>87.95</td>\n      <td>89.75</td>\n      <td>14486</td>\n      <td>1.269147e+06</td>\n      <td>23-APR-2024</td>\n      <td>252</td>\n    </tr>\n    <tr>\n      <th>2697</th>\n      <td>WILLAMAGOR</td>\n      <td>EQ</td>\n      <td>37.00</td>\n      <td>39.25</td>\n      <td>35.45</td>\n      <td>37.15</td>\n      <td>37.05</td>\n      <td>36.00</td>\n      <td>23337</td>\n      <td>8.763895e+05</td>\n      <td>23-APR-2024</td>\n      <td>271</td>\n    </tr>\n    <tr>\n      <th>2721</th>\n      <td>YUKEN</td>\n      <td>EQ</td>\n      <td>1016.50</td>\n      <td>1119.40</td>\n      <td>1015.00</td>\n      <td>1037.40</td>\n      <td>1035.00</td>\n      <td>1016.95</td>\n      <td>26550</td>\n      <td>2.804308e+07</td>\n      <td>23-APR-2024</td>\n      <td>1820</td>\n    </tr>\n    <tr>\n      <th>2733</th>\n      <td>ZIMLAB</td>\n      <td>EQ</td>\n      <td>94.40</td>\n      <td>114.30</td>\n      <td>94.40</td>\n      <td>111.15</td>\n      <td>111.50</td>\n      <td>95.25</td>\n      <td>3063170</td>\n      <td>3.341662e+08</td>\n      <td>23-APR-2024</td>\n      <td>21049</td>\n    </tr>\n  </tbody>\n</table>\n<p>91 rows × 12 columns</p>\n</div>"
     },
     "execution_count": 42,
     "metadata": {},
     "output_type": "execute_result"
    }
   ],
   "source": [
    "data[(((((data[\"HIGH\"]-data[\"LOW\"])/data[\"LOW\"])*100).round(2))>10)==True]"
   ],
   "metadata": {
    "collapsed": false,
    "pycharm": {
     "name": "#%%\n"
    }
   }
  },
  {
   "cell_type": "code",
   "execution_count": null,
   "outputs": [],
   "source": [],
   "metadata": {
    "collapsed": false,
    "pycharm": {
     "name": "#%%\n"
    }
   }
  }
 ],
 "metadata": {
  "kernelspec": {
   "display_name": "Python 3",
   "language": "python",
   "name": "python3"
  },
  "language_info": {
   "codemirror_mode": {
    "name": "ipython",
    "version": 2
   },
   "file_extension": ".py",
   "mimetype": "text/x-python",
   "name": "python",
   "nbconvert_exporter": "python",
   "pygments_lexer": "ipython2",
   "version": "2.7.6"
  }
 },
 "nbformat": 4,
 "nbformat_minor": 0
}