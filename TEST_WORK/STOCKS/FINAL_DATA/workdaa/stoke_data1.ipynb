{
 "cells": [
  {
   "cell_type": "code",
   "execution_count": 1,
   "metadata": {
    "collapsed": true,
    "pycharm": {
     "name": "#%%\n"
    }
   },
   "outputs": [],
   "source": [
    "from nselib import capital_market as ca"
   ]
  },
  {
   "cell_type": "code",
   "execution_count": 28,
   "outputs": [],
   "source": [
    "market_indices=ca.market_watch_all_indices()"
   ],
   "metadata": {
    "collapsed": false,
    "pycharm": {
     "name": "#%%\n"
    }
   }
  },
  {
   "cell_type": "code",
   "execution_count": 29,
   "outputs": [
    {
     "data": {
      "text/plain": "                     key                                      index  \\\n0   BROAD MARKET INDICES                                   NIFTY 50   \n1   BROAD MARKET INDICES                              NIFTY NEXT 50   \n2   BROAD MARKET INDICES                                  NIFTY 100   \n3   BROAD MARKET INDICES                                  NIFTY 200   \n4   BROAD MARKET INDICES                                  NIFTY 500   \n..                   ...                                        ...   \n72  FIXED INCOME INDICES  NIFTY 10 YR BENCHMARK G-SEC (CLEAN PRICE)   \n73  FIXED INCOME INDICES                   NIFTY 4-8 YR G-SEC INDEX   \n74  FIXED INCOME INDICES                 NIFTY 11-15 YR G-SEC INDEX   \n75  FIXED INCOME INDICES          NIFTY 15 YR AND ABOVE G-SEC INDEX   \n76  FIXED INCOME INDICES                NIFTY COMPOSITE G-SEC INDEX   \n\n          indexSymbol      last  variation  percentChange      open      high  \\\n0            NIFTY 50  23398.90      75.95           0.33  23480.95  23481.05   \n1       NIFTY NEXT 50  70842.55     640.40           0.91  70831.40  70933.55   \n2           NIFTY 100  24449.50     100.70           0.41  24527.05  24527.15   \n3           NIFTY 200  13282.50      62.55           0.47  13317.65  13317.70   \n4           NIFTY 500  22074.30     113.35           0.52  22120.75  22120.80   \n..                ...       ...        ...            ...       ...       ...   \n72  NIFTY GS 10YR CLN    879.02       1.43           0.16    877.59    879.31   \n73     NIFTY GS 4 8YR   2845.26       3.26           0.11   2842.56   2845.37   \n74   NIFTY GS 11 15YR   2909.14       5.27           0.18   2904.43   2909.14   \n75  NIFTY GS 15YRPLUS   3215.27       6.71           0.20   3209.19   3216.53   \n76  NIFTY GS COMPSITE   2720.77       4.30           0.15   2717.00   2720.83   \n\n         low  previousClose  ...    dy  declines advances unchanged  \\\n0   23353.90       23322.95  ...  1.24        15       35         0   \n1   70231.80       70202.15  ...  0.97        22       28         0   \n2   24376.75       24348.80  ...  1.15        38       63         0   \n3   13237.85       13219.95  ...  1.08        74      127         0   \n4   21992.15       21960.95  ...  1.04       186      313         3   \n..       ...            ...  ...   ...       ...      ...       ...   \n72    877.59         877.59  ...             NaN      NaN       NaN   \n73   2842.56        2842.00  ...             NaN      NaN       NaN   \n74   2904.43        2903.87  ...             NaN      NaN       NaN   \n75   3209.19        3208.56  ...             NaN      NaN       NaN   \n76   2717.00        2716.47  ...             NaN      NaN       NaN   \n\n   perChange365d perChange30d previousDay oneWeekAgo oneMonthAgo  oneYearAgo  \n0          24.61         5.51    23264.85   22821.40    22104.05    18716.15  \n1          62.21         9.09    69678.70   68224.45    64354.40    43278.65  \n2          30.43         6.07    24271.05   23806.95    22956.35    18668.00  \n3          33.96         6.53    13162.70   12902.20    12410.00     9868.80  \n4          36.84         7.07    21852.00   21365.00    20511.00    16048.20  \n..           ...          ...         ...        ...         ...         ...  \n72         -0.57         0.43      877.58     877.34      874.05      882.84  \n73          6.88         0.91     2842.17    2837.68     2816.42     2659.11  \n74           7.7         1.30     2903.50    2899.46     2867.13     2696.83  \n75          8.81         1.52     3207.19    3200.37     3161.31     2949.69  \n76           7.3         1.11     2715.96    2711.01     2687.22     2532.14  \n\n[77 rows x 24 columns]",
      "text/html": "<div>\n<style scoped>\n    .dataframe tbody tr th:only-of-type {\n        vertical-align: middle;\n    }\n\n    .dataframe tbody tr th {\n        vertical-align: top;\n    }\n\n    .dataframe thead th {\n        text-align: right;\n    }\n</style>\n<table border=\"1\" class=\"dataframe\">\n  <thead>\n    <tr style=\"text-align: right;\">\n      <th></th>\n      <th>key</th>\n      <th>index</th>\n      <th>indexSymbol</th>\n      <th>last</th>\n      <th>variation</th>\n      <th>percentChange</th>\n      <th>open</th>\n      <th>high</th>\n      <th>low</th>\n      <th>previousClose</th>\n      <th>...</th>\n      <th>dy</th>\n      <th>declines</th>\n      <th>advances</th>\n      <th>unchanged</th>\n      <th>perChange365d</th>\n      <th>perChange30d</th>\n      <th>previousDay</th>\n      <th>oneWeekAgo</th>\n      <th>oneMonthAgo</th>\n      <th>oneYearAgo</th>\n    </tr>\n  </thead>\n  <tbody>\n    <tr>\n      <th>0</th>\n      <td>BROAD MARKET INDICES</td>\n      <td>NIFTY 50</td>\n      <td>NIFTY 50</td>\n      <td>23398.90</td>\n      <td>75.95</td>\n      <td>0.33</td>\n      <td>23480.95</td>\n      <td>23481.05</td>\n      <td>23353.90</td>\n      <td>23322.95</td>\n      <td>...</td>\n      <td>1.24</td>\n      <td>15</td>\n      <td>35</td>\n      <td>0</td>\n      <td>24.61</td>\n      <td>5.51</td>\n      <td>23264.85</td>\n      <td>22821.40</td>\n      <td>22104.05</td>\n      <td>18716.15</td>\n    </tr>\n    <tr>\n      <th>1</th>\n      <td>BROAD MARKET INDICES</td>\n      <td>NIFTY NEXT 50</td>\n      <td>NIFTY NEXT 50</td>\n      <td>70842.55</td>\n      <td>640.40</td>\n      <td>0.91</td>\n      <td>70831.40</td>\n      <td>70933.55</td>\n      <td>70231.80</td>\n      <td>70202.15</td>\n      <td>...</td>\n      <td>0.97</td>\n      <td>22</td>\n      <td>28</td>\n      <td>0</td>\n      <td>62.21</td>\n      <td>9.09</td>\n      <td>69678.70</td>\n      <td>68224.45</td>\n      <td>64354.40</td>\n      <td>43278.65</td>\n    </tr>\n    <tr>\n      <th>2</th>\n      <td>BROAD MARKET INDICES</td>\n      <td>NIFTY 100</td>\n      <td>NIFTY 100</td>\n      <td>24449.50</td>\n      <td>100.70</td>\n      <td>0.41</td>\n      <td>24527.05</td>\n      <td>24527.15</td>\n      <td>24376.75</td>\n      <td>24348.80</td>\n      <td>...</td>\n      <td>1.15</td>\n      <td>38</td>\n      <td>63</td>\n      <td>0</td>\n      <td>30.43</td>\n      <td>6.07</td>\n      <td>24271.05</td>\n      <td>23806.95</td>\n      <td>22956.35</td>\n      <td>18668.00</td>\n    </tr>\n    <tr>\n      <th>3</th>\n      <td>BROAD MARKET INDICES</td>\n      <td>NIFTY 200</td>\n      <td>NIFTY 200</td>\n      <td>13282.50</td>\n      <td>62.55</td>\n      <td>0.47</td>\n      <td>13317.65</td>\n      <td>13317.70</td>\n      <td>13237.85</td>\n      <td>13219.95</td>\n      <td>...</td>\n      <td>1.08</td>\n      <td>74</td>\n      <td>127</td>\n      <td>0</td>\n      <td>33.96</td>\n      <td>6.53</td>\n      <td>13162.70</td>\n      <td>12902.20</td>\n      <td>12410.00</td>\n      <td>9868.80</td>\n    </tr>\n    <tr>\n      <th>4</th>\n      <td>BROAD MARKET INDICES</td>\n      <td>NIFTY 500</td>\n      <td>NIFTY 500</td>\n      <td>22074.30</td>\n      <td>113.35</td>\n      <td>0.52</td>\n      <td>22120.75</td>\n      <td>22120.80</td>\n      <td>21992.15</td>\n      <td>21960.95</td>\n      <td>...</td>\n      <td>1.04</td>\n      <td>186</td>\n      <td>313</td>\n      <td>3</td>\n      <td>36.84</td>\n      <td>7.07</td>\n      <td>21852.00</td>\n      <td>21365.00</td>\n      <td>20511.00</td>\n      <td>16048.20</td>\n    </tr>\n    <tr>\n      <th>...</th>\n      <td>...</td>\n      <td>...</td>\n      <td>...</td>\n      <td>...</td>\n      <td>...</td>\n      <td>...</td>\n      <td>...</td>\n      <td>...</td>\n      <td>...</td>\n      <td>...</td>\n      <td>...</td>\n      <td>...</td>\n      <td>...</td>\n      <td>...</td>\n      <td>...</td>\n      <td>...</td>\n      <td>...</td>\n      <td>...</td>\n      <td>...</td>\n      <td>...</td>\n      <td>...</td>\n    </tr>\n    <tr>\n      <th>72</th>\n      <td>FIXED INCOME INDICES</td>\n      <td>NIFTY 10 YR BENCHMARK G-SEC (CLEAN PRICE)</td>\n      <td>NIFTY GS 10YR CLN</td>\n      <td>879.02</td>\n      <td>1.43</td>\n      <td>0.16</td>\n      <td>877.59</td>\n      <td>879.31</td>\n      <td>877.59</td>\n      <td>877.59</td>\n      <td>...</td>\n      <td></td>\n      <td>NaN</td>\n      <td>NaN</td>\n      <td>NaN</td>\n      <td>-0.57</td>\n      <td>0.43</td>\n      <td>877.58</td>\n      <td>877.34</td>\n      <td>874.05</td>\n      <td>882.84</td>\n    </tr>\n    <tr>\n      <th>73</th>\n      <td>FIXED INCOME INDICES</td>\n      <td>NIFTY 4-8 YR G-SEC INDEX</td>\n      <td>NIFTY GS 4 8YR</td>\n      <td>2845.26</td>\n      <td>3.26</td>\n      <td>0.11</td>\n      <td>2842.56</td>\n      <td>2845.37</td>\n      <td>2842.56</td>\n      <td>2842.00</td>\n      <td>...</td>\n      <td></td>\n      <td>NaN</td>\n      <td>NaN</td>\n      <td>NaN</td>\n      <td>6.88</td>\n      <td>0.91</td>\n      <td>2842.17</td>\n      <td>2837.68</td>\n      <td>2816.42</td>\n      <td>2659.11</td>\n    </tr>\n    <tr>\n      <th>74</th>\n      <td>FIXED INCOME INDICES</td>\n      <td>NIFTY 11-15 YR G-SEC INDEX</td>\n      <td>NIFTY GS 11 15YR</td>\n      <td>2909.14</td>\n      <td>5.27</td>\n      <td>0.18</td>\n      <td>2904.43</td>\n      <td>2909.14</td>\n      <td>2904.43</td>\n      <td>2903.87</td>\n      <td>...</td>\n      <td></td>\n      <td>NaN</td>\n      <td>NaN</td>\n      <td>NaN</td>\n      <td>7.7</td>\n      <td>1.30</td>\n      <td>2903.50</td>\n      <td>2899.46</td>\n      <td>2867.13</td>\n      <td>2696.83</td>\n    </tr>\n    <tr>\n      <th>75</th>\n      <td>FIXED INCOME INDICES</td>\n      <td>NIFTY 15 YR AND ABOVE G-SEC INDEX</td>\n      <td>NIFTY GS 15YRPLUS</td>\n      <td>3215.27</td>\n      <td>6.71</td>\n      <td>0.20</td>\n      <td>3209.19</td>\n      <td>3216.53</td>\n      <td>3209.19</td>\n      <td>3208.56</td>\n      <td>...</td>\n      <td></td>\n      <td>NaN</td>\n      <td>NaN</td>\n      <td>NaN</td>\n      <td>8.81</td>\n      <td>1.52</td>\n      <td>3207.19</td>\n      <td>3200.37</td>\n      <td>3161.31</td>\n      <td>2949.69</td>\n    </tr>\n    <tr>\n      <th>76</th>\n      <td>FIXED INCOME INDICES</td>\n      <td>NIFTY COMPOSITE G-SEC INDEX</td>\n      <td>NIFTY GS COMPSITE</td>\n      <td>2720.77</td>\n      <td>4.30</td>\n      <td>0.15</td>\n      <td>2717.00</td>\n      <td>2720.83</td>\n      <td>2717.00</td>\n      <td>2716.47</td>\n      <td>...</td>\n      <td></td>\n      <td>NaN</td>\n      <td>NaN</td>\n      <td>NaN</td>\n      <td>7.3</td>\n      <td>1.11</td>\n      <td>2715.96</td>\n      <td>2711.01</td>\n      <td>2687.22</td>\n      <td>2532.14</td>\n    </tr>\n  </tbody>\n</table>\n<p>77 rows × 24 columns</p>\n</div>"
     },
     "execution_count": 29,
     "metadata": {},
     "output_type": "execute_result"
    }
   ],
   "source": [
    "market_indices"
   ],
   "metadata": {
    "collapsed": false,
    "pycharm": {
     "name": "#%%\n"
    }
   }
  },
  {
   "cell_type": "code",
   "execution_count": 6,
   "outputs": [
    {
     "data": {
      "text/plain": "0     BROAD MARKET INDICES\n1     BROAD MARKET INDICES\n2     BROAD MARKET INDICES\n3     BROAD MARKET INDICES\n4     BROAD MARKET INDICES\n              ...         \n72    FIXED INCOME INDICES\n73    FIXED INCOME INDICES\n74    FIXED INCOME INDICES\n75    FIXED INCOME INDICES\n76    FIXED INCOME INDICES\nName: key, Length: 77, dtype: object"
     },
     "execution_count": 6,
     "metadata": {},
     "output_type": "execute_result"
    }
   ],
   "source": [
    "market_indices.key"
   ],
   "metadata": {
    "collapsed": false,
    "pycharm": {
     "name": "#%%\n"
    }
   }
  },
  {
   "cell_type": "code",
   "execution_count": 10,
   "outputs": [],
   "source": [
    "indicess_name=market_indices.key.value_counts()"
   ],
   "metadata": {
    "collapsed": false,
    "pycharm": {
     "name": "#%%\n"
    }
   }
  },
  {
   "cell_type": "code",
   "execution_count": 11,
   "outputs": [
    {
     "data": {
      "text/plain": "key\nSTRATEGY INDICES        19\nBROAD MARKET INDICES    18\nTHEMATIC INDICES        17\nSECTORAL INDICES        16\nFIXED INCOME INDICES     7\nName: count, dtype: int64"
     },
     "execution_count": 11,
     "metadata": {},
     "output_type": "execute_result"
    }
   ],
   "source": [
    "indicess_name"
   ],
   "metadata": {
    "collapsed": false,
    "pycharm": {
     "name": "#%%\n"
    }
   }
  },
  {
   "cell_type": "code",
   "execution_count": 16,
   "outputs": [
    {
     "data": {
      "text/plain": "pandas.core.indexes.base.Index"
     },
     "execution_count": 16,
     "metadata": {},
     "output_type": "execute_result"
    }
   ],
   "source": [
    "type(indicess_name.index)"
   ],
   "metadata": {
    "collapsed": false,
    "pycharm": {
     "name": "#%%\n"
    }
   }
  },
  {
   "cell_type": "code",
   "execution_count": 18,
   "outputs": [
    {
     "name": "stdout",
     "output_type": "stream",
     "text": [
      "STRATEGY INDICES\n",
      "BROAD MARKET INDICES\n",
      "THEMATIC INDICES\n",
      "SECTORAL INDICES\n",
      "FIXED INCOME INDICES\n"
     ]
    }
   ],
   "source": [
    "for i in indicess_name.index:\n",
    "    print(i)"
   ],
   "metadata": {
    "collapsed": false,
    "pycharm": {
     "name": "#%%\n"
    }
   }
  },
  {
   "cell_type": "code",
   "execution_count": 20,
   "outputs": [
    {
     "data": {
      "text/plain": "'STRATEGY INDICES'"
     },
     "execution_count": 20,
     "metadata": {},
     "output_type": "execute_result"
    }
   ],
   "source": [
    "indicess_name.index[0]"
   ],
   "metadata": {
    "collapsed": false,
    "pycharm": {
     "name": "#%%\n"
    }
   }
  },
  {
   "cell_type": "code",
   "execution_count": 31,
   "outputs": [
    {
     "data": {
      "text/plain": "                 key                            index        indexSymbol  \\\n34  STRATEGY INDICES  NIFTY DIVIDEND OPPORTUNITIES 50  NIFTY DIV OPPS 50   \n35  STRATEGY INDICES          NIFTY GROWTH SECTORS 15  NIFTY GROWSECT 15   \n36  STRATEGY INDICES              NIFTY100 QUALITY 30  NIFTY100 QUALTY30   \n37  STRATEGY INDICES                 NIFTY50 VALUE 20   NIFTY50 VALUE 20   \n38  STRATEGY INDICES           NIFTY50 TR 2X LEVERAGE  NIFTY50 TR 2X LEV   \n39  STRATEGY INDICES           NIFTY50 PR 2X LEVERAGE  NIFTY50 PR 2X LEV   \n40  STRATEGY INDICES            NIFTY50 TR 1X INVERSE  NIFTY50 TR 1X INV   \n41  STRATEGY INDICES            NIFTY50 PR 1X INVERSE  NIFTY50 PR 1X INV   \n42  STRATEGY INDICES          NIFTY50 DIVIDEND POINTS  NIFTY50 DIV POINT   \n43  STRATEGY INDICES                   NIFTY ALPHA 50     NIFTY ALPHA 50   \n44  STRATEGY INDICES             NIFTY50 EQUAL WEIGHT    NIFTY50 EQL WGT   \n45  STRATEGY INDICES            NIFTY100 EQUAL WEIGHT   NIFTY100 EQL WGT   \n46  STRATEGY INDICES       NIFTY100 LOW VOLATILITY 30  NIFTY100 LOWVOL30   \n47  STRATEGY INDICES              NIFTY200 QUALITY 30  NIFTY200 QUALTY30   \n48  STRATEGY INDICES    NIFTY ALPHA LOW-VOLATILITY 30  NIFTY ALPHALOWVOL   \n49  STRATEGY INDICES             NIFTY200 MOMENTUM 30  NIFTY200MOMENTM30   \n50  STRATEGY INDICES       NIFTY MIDCAP150 QUALITY 50  NIFTY M150 QLTY50   \n51  STRATEGY INDICES                NIFTY200 ALPHA 30  NIFTY200 ALPHA 30   \n52  STRATEGY INDICES      NIFTY MIDCAP150 MOMENTUM 50  NIFTYM150MOMNTM50   \n\n        last  variation  percentChange      open      high       low  \\\n34   6211.95      25.80           0.42   6225.65   6225.70   6186.40   \n35  11095.20      22.15           0.20  11127.90  11128.10  11075.25   \n36   5631.20      25.40           0.45   5636.20   5636.35   5600.80   \n37  12763.00      19.65           0.15  12825.55  12825.80  12734.80   \n38  19080.25     120.10           0.63  19213.70  19213.70  19007.10   \n39  13214.35      83.20           0.63  13306.75  13306.75  13163.70   \n40    173.30      -0.50          -0.29    172.65    173.60    172.65   \n41    208.00      -0.65          -0.31    207.25    208.40    207.25   \n42    100.12       0.00           0.00    100.12    100.12    100.12   \n43  55720.25     530.20           0.96  55661.40  55776.95  55346.60   \n44  29901.15     166.60           0.56  29942.60  29943.75  29774.60   \n45  32266.85     186.55           0.58  32316.70  32317.30  32097.65   \n46  18854.35      15.30           0.08  18928.80  18929.80  18784.25   \n47  20573.15      98.75           0.48  20587.60  20591.40  20464.70   \n48  27887.25      89.20           0.32  27967.45  27967.60  27735.45   \n49  35848.30     354.30           1.00  35807.70  35890.50  35445.90   \n50  24249.85     259.25           1.08  24141.60  24283.95  24102.80   \n51  27146.55     443.25           1.66  26961.05  27186.65  26766.25   \n52  62846.30     454.50           0.73  62929.70  63146.85  62532.95   \n\n    previousClose  ...    dy  declines advances unchanged perChange365d  \\\n34        6186.15  ...  2.49        18       32         0         48.08   \n35       11073.05  ...  1.99         7        8         0         18.07   \n36        5605.80  ...  1.66        11       19         0         32.44   \n37       12743.35  ...  2.17         6       14         0         31.68   \n38       18960.15  ...             NaN      NaN       NaN          46.3   \n39       13131.15  ...             NaN      NaN       NaN         42.86   \n40         173.80  ...             NaN      NaN       NaN        -16.58   \n41         208.65  ...             NaN      NaN       NaN        -15.59   \n42         100.12  ...             NaN      NaN       NaN         35.55   \n43       55190.05  ...  0.64        17       33         0         81.75   \n44       29734.55  ...  1.24        15       35         0         35.86   \n45       32080.30  ...  1.05        38       63         0         47.43   \n46       18839.05  ...   1.2        11       19         0          32.7   \n47       20474.40  ...  1.64        10       20         0         33.48   \n48       27798.05  ...  1.23        14       16         0         49.14   \n49       35494.00  ...  1.25         7       23         0         68.56   \n50       23990.60  ...  1.15        13       37         0         40.72   \n51       26703.30  ...  1.24         7       23         0             -   \n52       62391.80  ...  0.77        14       36         0             -   \n\n   perChange30d previousDay oneWeekAgo oneMonthAgo  oneYearAgo  \n34         5.98     6149.95    6020.60     5837.30     4177.65  \n35         3.25    11103.50   10963.60    10724.00     9378.40  \n36         7.23     5594.70    5503.50     5227.80     4232.85  \n37         3.54    12714.90   12478.15    12308.00     9677.65  \n38        10.58    18869.30   18172.00    17146.45    12959.70  \n39         9.95    13068.25   12591.05    11942.35     9191.30  \n40        -5.62      174.20     177.55      184.15      208.35  \n41        -5.35      209.15     213.10      220.45      247.20  \n42       166.28      100.12      94.85       37.60       73.86  \n43        12.81    54748.90   53418.95    48922.70    30366.70  \n44         6.33    29632.05   28930.90    27963.85    21886.90  \n45         7.40    31930.45   31242.05    29871.00    21758.95  \n46         5.26    18813.45   18439.10    17897.35    14196.70  \n47         8.62    20409.90   20039.45    18849.95    15339.30  \n48         5.15    27682.60   27006.40    26435.40    18638.75  \n49         9.55    35211.30   34252.80    32400.30    21057.65  \n50        11.78    23823.85   23124.45    21463.20    17048.15  \n51         9.83    26430.10   25653.95    24312.60         NaN  \n52         9.75    61915.50   60181.75    56846.45         NaN  \n\n[19 rows x 24 columns]",
      "text/html": "<div>\n<style scoped>\n    .dataframe tbody tr th:only-of-type {\n        vertical-align: middle;\n    }\n\n    .dataframe tbody tr th {\n        vertical-align: top;\n    }\n\n    .dataframe thead th {\n        text-align: right;\n    }\n</style>\n<table border=\"1\" class=\"dataframe\">\n  <thead>\n    <tr style=\"text-align: right;\">\n      <th></th>\n      <th>key</th>\n      <th>index</th>\n      <th>indexSymbol</th>\n      <th>last</th>\n      <th>variation</th>\n      <th>percentChange</th>\n      <th>open</th>\n      <th>high</th>\n      <th>low</th>\n      <th>previousClose</th>\n      <th>...</th>\n      <th>dy</th>\n      <th>declines</th>\n      <th>advances</th>\n      <th>unchanged</th>\n      <th>perChange365d</th>\n      <th>perChange30d</th>\n      <th>previousDay</th>\n      <th>oneWeekAgo</th>\n      <th>oneMonthAgo</th>\n      <th>oneYearAgo</th>\n    </tr>\n  </thead>\n  <tbody>\n    <tr>\n      <th>34</th>\n      <td>STRATEGY INDICES</td>\n      <td>NIFTY DIVIDEND OPPORTUNITIES 50</td>\n      <td>NIFTY DIV OPPS 50</td>\n      <td>6211.95</td>\n      <td>25.80</td>\n      <td>0.42</td>\n      <td>6225.65</td>\n      <td>6225.70</td>\n      <td>6186.40</td>\n      <td>6186.15</td>\n      <td>...</td>\n      <td>2.49</td>\n      <td>18</td>\n      <td>32</td>\n      <td>0</td>\n      <td>48.08</td>\n      <td>5.98</td>\n      <td>6149.95</td>\n      <td>6020.60</td>\n      <td>5837.30</td>\n      <td>4177.65</td>\n    </tr>\n    <tr>\n      <th>35</th>\n      <td>STRATEGY INDICES</td>\n      <td>NIFTY GROWTH SECTORS 15</td>\n      <td>NIFTY GROWSECT 15</td>\n      <td>11095.20</td>\n      <td>22.15</td>\n      <td>0.20</td>\n      <td>11127.90</td>\n      <td>11128.10</td>\n      <td>11075.25</td>\n      <td>11073.05</td>\n      <td>...</td>\n      <td>1.99</td>\n      <td>7</td>\n      <td>8</td>\n      <td>0</td>\n      <td>18.07</td>\n      <td>3.25</td>\n      <td>11103.50</td>\n      <td>10963.60</td>\n      <td>10724.00</td>\n      <td>9378.40</td>\n    </tr>\n    <tr>\n      <th>36</th>\n      <td>STRATEGY INDICES</td>\n      <td>NIFTY100 QUALITY 30</td>\n      <td>NIFTY100 QUALTY30</td>\n      <td>5631.20</td>\n      <td>25.40</td>\n      <td>0.45</td>\n      <td>5636.20</td>\n      <td>5636.35</td>\n      <td>5600.80</td>\n      <td>5605.80</td>\n      <td>...</td>\n      <td>1.66</td>\n      <td>11</td>\n      <td>19</td>\n      <td>0</td>\n      <td>32.44</td>\n      <td>7.23</td>\n      <td>5594.70</td>\n      <td>5503.50</td>\n      <td>5227.80</td>\n      <td>4232.85</td>\n    </tr>\n    <tr>\n      <th>37</th>\n      <td>STRATEGY INDICES</td>\n      <td>NIFTY50 VALUE 20</td>\n      <td>NIFTY50 VALUE 20</td>\n      <td>12763.00</td>\n      <td>19.65</td>\n      <td>0.15</td>\n      <td>12825.55</td>\n      <td>12825.80</td>\n      <td>12734.80</td>\n      <td>12743.35</td>\n      <td>...</td>\n      <td>2.17</td>\n      <td>6</td>\n      <td>14</td>\n      <td>0</td>\n      <td>31.68</td>\n      <td>3.54</td>\n      <td>12714.90</td>\n      <td>12478.15</td>\n      <td>12308.00</td>\n      <td>9677.65</td>\n    </tr>\n    <tr>\n      <th>38</th>\n      <td>STRATEGY INDICES</td>\n      <td>NIFTY50 TR 2X LEVERAGE</td>\n      <td>NIFTY50 TR 2X LEV</td>\n      <td>19080.25</td>\n      <td>120.10</td>\n      <td>0.63</td>\n      <td>19213.70</td>\n      <td>19213.70</td>\n      <td>19007.10</td>\n      <td>18960.15</td>\n      <td>...</td>\n      <td></td>\n      <td>NaN</td>\n      <td>NaN</td>\n      <td>NaN</td>\n      <td>46.3</td>\n      <td>10.58</td>\n      <td>18869.30</td>\n      <td>18172.00</td>\n      <td>17146.45</td>\n      <td>12959.70</td>\n    </tr>\n    <tr>\n      <th>39</th>\n      <td>STRATEGY INDICES</td>\n      <td>NIFTY50 PR 2X LEVERAGE</td>\n      <td>NIFTY50 PR 2X LEV</td>\n      <td>13214.35</td>\n      <td>83.20</td>\n      <td>0.63</td>\n      <td>13306.75</td>\n      <td>13306.75</td>\n      <td>13163.70</td>\n      <td>13131.15</td>\n      <td>...</td>\n      <td></td>\n      <td>NaN</td>\n      <td>NaN</td>\n      <td>NaN</td>\n      <td>42.86</td>\n      <td>9.95</td>\n      <td>13068.25</td>\n      <td>12591.05</td>\n      <td>11942.35</td>\n      <td>9191.30</td>\n    </tr>\n    <tr>\n      <th>40</th>\n      <td>STRATEGY INDICES</td>\n      <td>NIFTY50 TR 1X INVERSE</td>\n      <td>NIFTY50 TR 1X INV</td>\n      <td>173.30</td>\n      <td>-0.50</td>\n      <td>-0.29</td>\n      <td>172.65</td>\n      <td>173.60</td>\n      <td>172.65</td>\n      <td>173.80</td>\n      <td>...</td>\n      <td></td>\n      <td>NaN</td>\n      <td>NaN</td>\n      <td>NaN</td>\n      <td>-16.58</td>\n      <td>-5.62</td>\n      <td>174.20</td>\n      <td>177.55</td>\n      <td>184.15</td>\n      <td>208.35</td>\n    </tr>\n    <tr>\n      <th>41</th>\n      <td>STRATEGY INDICES</td>\n      <td>NIFTY50 PR 1X INVERSE</td>\n      <td>NIFTY50 PR 1X INV</td>\n      <td>208.00</td>\n      <td>-0.65</td>\n      <td>-0.31</td>\n      <td>207.25</td>\n      <td>208.40</td>\n      <td>207.25</td>\n      <td>208.65</td>\n      <td>...</td>\n      <td></td>\n      <td>NaN</td>\n      <td>NaN</td>\n      <td>NaN</td>\n      <td>-15.59</td>\n      <td>-5.35</td>\n      <td>209.15</td>\n      <td>213.10</td>\n      <td>220.45</td>\n      <td>247.20</td>\n    </tr>\n    <tr>\n      <th>42</th>\n      <td>STRATEGY INDICES</td>\n      <td>NIFTY50 DIVIDEND POINTS</td>\n      <td>NIFTY50 DIV POINT</td>\n      <td>100.12</td>\n      <td>0.00</td>\n      <td>0.00</td>\n      <td>100.12</td>\n      <td>100.12</td>\n      <td>100.12</td>\n      <td>100.12</td>\n      <td>...</td>\n      <td></td>\n      <td>NaN</td>\n      <td>NaN</td>\n      <td>NaN</td>\n      <td>35.55</td>\n      <td>166.28</td>\n      <td>100.12</td>\n      <td>94.85</td>\n      <td>37.60</td>\n      <td>73.86</td>\n    </tr>\n    <tr>\n      <th>43</th>\n      <td>STRATEGY INDICES</td>\n      <td>NIFTY ALPHA 50</td>\n      <td>NIFTY ALPHA 50</td>\n      <td>55720.25</td>\n      <td>530.20</td>\n      <td>0.96</td>\n      <td>55661.40</td>\n      <td>55776.95</td>\n      <td>55346.60</td>\n      <td>55190.05</td>\n      <td>...</td>\n      <td>0.64</td>\n      <td>17</td>\n      <td>33</td>\n      <td>0</td>\n      <td>81.75</td>\n      <td>12.81</td>\n      <td>54748.90</td>\n      <td>53418.95</td>\n      <td>48922.70</td>\n      <td>30366.70</td>\n    </tr>\n    <tr>\n      <th>44</th>\n      <td>STRATEGY INDICES</td>\n      <td>NIFTY50 EQUAL WEIGHT</td>\n      <td>NIFTY50 EQL WGT</td>\n      <td>29901.15</td>\n      <td>166.60</td>\n      <td>0.56</td>\n      <td>29942.60</td>\n      <td>29943.75</td>\n      <td>29774.60</td>\n      <td>29734.55</td>\n      <td>...</td>\n      <td>1.24</td>\n      <td>15</td>\n      <td>35</td>\n      <td>0</td>\n      <td>35.86</td>\n      <td>6.33</td>\n      <td>29632.05</td>\n      <td>28930.90</td>\n      <td>27963.85</td>\n      <td>21886.90</td>\n    </tr>\n    <tr>\n      <th>45</th>\n      <td>STRATEGY INDICES</td>\n      <td>NIFTY100 EQUAL WEIGHT</td>\n      <td>NIFTY100 EQL WGT</td>\n      <td>32266.85</td>\n      <td>186.55</td>\n      <td>0.58</td>\n      <td>32316.70</td>\n      <td>32317.30</td>\n      <td>32097.65</td>\n      <td>32080.30</td>\n      <td>...</td>\n      <td>1.05</td>\n      <td>38</td>\n      <td>63</td>\n      <td>0</td>\n      <td>47.43</td>\n      <td>7.40</td>\n      <td>31930.45</td>\n      <td>31242.05</td>\n      <td>29871.00</td>\n      <td>21758.95</td>\n    </tr>\n    <tr>\n      <th>46</th>\n      <td>STRATEGY INDICES</td>\n      <td>NIFTY100 LOW VOLATILITY 30</td>\n      <td>NIFTY100 LOWVOL30</td>\n      <td>18854.35</td>\n      <td>15.30</td>\n      <td>0.08</td>\n      <td>18928.80</td>\n      <td>18929.80</td>\n      <td>18784.25</td>\n      <td>18839.05</td>\n      <td>...</td>\n      <td>1.2</td>\n      <td>11</td>\n      <td>19</td>\n      <td>0</td>\n      <td>32.7</td>\n      <td>5.26</td>\n      <td>18813.45</td>\n      <td>18439.10</td>\n      <td>17897.35</td>\n      <td>14196.70</td>\n    </tr>\n    <tr>\n      <th>47</th>\n      <td>STRATEGY INDICES</td>\n      <td>NIFTY200 QUALITY 30</td>\n      <td>NIFTY200 QUALTY30</td>\n      <td>20573.15</td>\n      <td>98.75</td>\n      <td>0.48</td>\n      <td>20587.60</td>\n      <td>20591.40</td>\n      <td>20464.70</td>\n      <td>20474.40</td>\n      <td>...</td>\n      <td>1.64</td>\n      <td>10</td>\n      <td>20</td>\n      <td>0</td>\n      <td>33.48</td>\n      <td>8.62</td>\n      <td>20409.90</td>\n      <td>20039.45</td>\n      <td>18849.95</td>\n      <td>15339.30</td>\n    </tr>\n    <tr>\n      <th>48</th>\n      <td>STRATEGY INDICES</td>\n      <td>NIFTY ALPHA LOW-VOLATILITY 30</td>\n      <td>NIFTY ALPHALOWVOL</td>\n      <td>27887.25</td>\n      <td>89.20</td>\n      <td>0.32</td>\n      <td>27967.45</td>\n      <td>27967.60</td>\n      <td>27735.45</td>\n      <td>27798.05</td>\n      <td>...</td>\n      <td>1.23</td>\n      <td>14</td>\n      <td>16</td>\n      <td>0</td>\n      <td>49.14</td>\n      <td>5.15</td>\n      <td>27682.60</td>\n      <td>27006.40</td>\n      <td>26435.40</td>\n      <td>18638.75</td>\n    </tr>\n    <tr>\n      <th>49</th>\n      <td>STRATEGY INDICES</td>\n      <td>NIFTY200 MOMENTUM 30</td>\n      <td>NIFTY200MOMENTM30</td>\n      <td>35848.30</td>\n      <td>354.30</td>\n      <td>1.00</td>\n      <td>35807.70</td>\n      <td>35890.50</td>\n      <td>35445.90</td>\n      <td>35494.00</td>\n      <td>...</td>\n      <td>1.25</td>\n      <td>7</td>\n      <td>23</td>\n      <td>0</td>\n      <td>68.56</td>\n      <td>9.55</td>\n      <td>35211.30</td>\n      <td>34252.80</td>\n      <td>32400.30</td>\n      <td>21057.65</td>\n    </tr>\n    <tr>\n      <th>50</th>\n      <td>STRATEGY INDICES</td>\n      <td>NIFTY MIDCAP150 QUALITY 50</td>\n      <td>NIFTY M150 QLTY50</td>\n      <td>24249.85</td>\n      <td>259.25</td>\n      <td>1.08</td>\n      <td>24141.60</td>\n      <td>24283.95</td>\n      <td>24102.80</td>\n      <td>23990.60</td>\n      <td>...</td>\n      <td>1.15</td>\n      <td>13</td>\n      <td>37</td>\n      <td>0</td>\n      <td>40.72</td>\n      <td>11.78</td>\n      <td>23823.85</td>\n      <td>23124.45</td>\n      <td>21463.20</td>\n      <td>17048.15</td>\n    </tr>\n    <tr>\n      <th>51</th>\n      <td>STRATEGY INDICES</td>\n      <td>NIFTY200 ALPHA 30</td>\n      <td>NIFTY200 ALPHA 30</td>\n      <td>27146.55</td>\n      <td>443.25</td>\n      <td>1.66</td>\n      <td>26961.05</td>\n      <td>27186.65</td>\n      <td>26766.25</td>\n      <td>26703.30</td>\n      <td>...</td>\n      <td>1.24</td>\n      <td>7</td>\n      <td>23</td>\n      <td>0</td>\n      <td>-</td>\n      <td>9.83</td>\n      <td>26430.10</td>\n      <td>25653.95</td>\n      <td>24312.60</td>\n      <td>NaN</td>\n    </tr>\n    <tr>\n      <th>52</th>\n      <td>STRATEGY INDICES</td>\n      <td>NIFTY MIDCAP150 MOMENTUM 50</td>\n      <td>NIFTYM150MOMNTM50</td>\n      <td>62846.30</td>\n      <td>454.50</td>\n      <td>0.73</td>\n      <td>62929.70</td>\n      <td>63146.85</td>\n      <td>62532.95</td>\n      <td>62391.80</td>\n      <td>...</td>\n      <td>0.77</td>\n      <td>14</td>\n      <td>36</td>\n      <td>0</td>\n      <td>-</td>\n      <td>9.75</td>\n      <td>61915.50</td>\n      <td>60181.75</td>\n      <td>56846.45</td>\n      <td>NaN</td>\n    </tr>\n  </tbody>\n</table>\n<p>19 rows × 24 columns</p>\n</div>"
     },
     "execution_count": 31,
     "metadata": {},
     "output_type": "execute_result"
    }
   ],
   "source": [
    "market_indices[market_indices.key==indicess_name.index[0]]"
   ],
   "metadata": {
    "collapsed": false,
    "pycharm": {
     "name": "#%%\n"
    }
   }
  },
  {
   "cell_type": "code",
   "execution_count": 27,
   "outputs": [
    {
     "data": {
      "text/plain": "key\nSTRATEGY INDICES    77\nName: count, dtype: int64"
     },
     "execution_count": 27,
     "metadata": {},
     "output_type": "execute_result"
    }
   ],
   "source": [
    "market_indices.key.value_counts()"
   ],
   "metadata": {
    "collapsed": false,
    "pycharm": {
     "name": "#%%\n"
    }
   }
  },
  {
   "cell_type": "code",
   "execution_count": 37,
   "outputs": [
    {
     "data": {
      "text/plain": "index\nNIFTY 50                             1\nNIFTY 500                            1\nNIFTY MIDCAP 50                      1\nNIFTY MIDCAP 100                     1\nNIFTY SMALLCAP 100                   1\n                                    ..\nNIFTY 15 YR AND ABOVE G-SEC INDEX    1\nNIFTY MNC                            1\nNIFTY MIDCAP LIQUID 15               1\nNIFTY 8-13 YR G-SEC                  1\nNIFTY COMPOSITE G-SEC INDEX          1\nName: count, Length: 77, dtype: int64"
     },
     "execution_count": 37,
     "metadata": {},
     "output_type": "execute_result"
    }
   ],
   "source": [
    "market_indices[\"index\"].value_counts().sort_values(ascending=True)"
   ],
   "metadata": {
    "collapsed": false,
    "pycharm": {
     "name": "#%%\n"
    }
   }
  },
  {
   "cell_type": "code",
   "execution_count": 41,
   "outputs": [
    {
     "name": "stdout",
     "output_type": "stream",
     "text": [
      "<class 'pandas.core.series.Series'>\n",
      "RangeIndex: 77 entries, 0 to 76\n",
      "Series name: last\n",
      "Non-Null Count  Dtype  \n",
      "--------------  -----  \n",
      "77 non-null     float64\n",
      "dtypes: float64(1)\n",
      "memory usage: 744.0 bytes\n"
     ]
    }
   ],
   "source": [
    "market_indices[\"last\"].info()"
   ],
   "metadata": {
    "collapsed": false,
    "pycharm": {
     "name": "#%%\n"
    }
   }
  },
  {
   "cell_type": "code",
   "execution_count": 42,
   "outputs": [],
   "source": [
    "import pandas as pd"
   ],
   "metadata": {
    "collapsed": false,
    "pycharm": {
     "name": "#%%\n"
    }
   }
  },
  {
   "cell_type": "code",
   "execution_count": 44,
   "outputs": [
    {
     "data": {
      "text/plain": "<map at 0x2b39f5881f0>"
     },
     "execution_count": 44,
     "metadata": {},
     "output_type": "execute_result"
    }
   ],
   "source": [
    "market_indices.itertuples(25)"
   ],
   "metadata": {
    "collapsed": false,
    "pycharm": {
     "name": "#%%\n"
    }
   }
  },
  {
   "cell_type": "code",
   "execution_count": 45,
   "outputs": [
    {
     "data": {
      "text/plain": "                     key                                      index  \\\n0   BROAD MARKET INDICES                                   NIFTY 50   \n1   BROAD MARKET INDICES                              NIFTY NEXT 50   \n2   BROAD MARKET INDICES                                  NIFTY 100   \n3   BROAD MARKET INDICES                                  NIFTY 200   \n4   BROAD MARKET INDICES                                  NIFTY 500   \n..                   ...                                        ...   \n72  FIXED INCOME INDICES  NIFTY 10 YR BENCHMARK G-SEC (CLEAN PRICE)   \n73  FIXED INCOME INDICES                   NIFTY 4-8 YR G-SEC INDEX   \n74  FIXED INCOME INDICES                 NIFTY 11-15 YR G-SEC INDEX   \n75  FIXED INCOME INDICES          NIFTY 15 YR AND ABOVE G-SEC INDEX   \n76  FIXED INCOME INDICES                NIFTY COMPOSITE G-SEC INDEX   \n\n          indexSymbol      last  variation  percentChange      open      high  \\\n0            NIFTY 50  23398.90      75.95           0.33  23480.95  23481.05   \n1       NIFTY NEXT 50  70842.55     640.40           0.91  70831.40  70933.55   \n2           NIFTY 100  24449.50     100.70           0.41  24527.05  24527.15   \n3           NIFTY 200  13282.50      62.55           0.47  13317.65  13317.70   \n4           NIFTY 500  22074.30     113.35           0.52  22120.75  22120.80   \n..                ...       ...        ...            ...       ...       ...   \n72  NIFTY GS 10YR CLN    879.02       1.43           0.16    877.59    879.31   \n73     NIFTY GS 4 8YR   2845.26       3.26           0.11   2842.56   2845.37   \n74   NIFTY GS 11 15YR   2909.14       5.27           0.18   2904.43   2909.14   \n75  NIFTY GS 15YRPLUS   3215.27       6.71           0.20   3209.19   3216.53   \n76  NIFTY GS COMPSITE   2720.77       4.30           0.15   2717.00   2720.83   \n\n         low  previousClose  ...    dy  declines advances unchanged  \\\n0   23353.90       23322.95  ...  1.24        15       35         0   \n1   70231.80       70202.15  ...  0.97        22       28         0   \n2   24376.75       24348.80  ...  1.15        38       63         0   \n3   13237.85       13219.95  ...  1.08        74      127         0   \n4   21992.15       21960.95  ...  1.04       186      313         3   \n..       ...            ...  ...   ...       ...      ...       ...   \n72    877.59         877.59  ...             NaN      NaN       NaN   \n73   2842.56        2842.00  ...             NaN      NaN       NaN   \n74   2904.43        2903.87  ...             NaN      NaN       NaN   \n75   3209.19        3208.56  ...             NaN      NaN       NaN   \n76   2717.00        2716.47  ...             NaN      NaN       NaN   \n\n   perChange365d perChange30d previousDay oneWeekAgo oneMonthAgo  oneYearAgo  \n0          24.61         5.51    23264.85   22821.40    22104.05    18716.15  \n1          62.21         9.09    69678.70   68224.45    64354.40    43278.65  \n2          30.43         6.07    24271.05   23806.95    22956.35    18668.00  \n3          33.96         6.53    13162.70   12902.20    12410.00     9868.80  \n4          36.84         7.07    21852.00   21365.00    20511.00    16048.20  \n..           ...          ...         ...        ...         ...         ...  \n72         -0.57         0.43      877.58     877.34      874.05      882.84  \n73          6.88         0.91     2842.17    2837.68     2816.42     2659.11  \n74           7.7         1.30     2903.50    2899.46     2867.13     2696.83  \n75          8.81         1.52     3207.19    3200.37     3161.31     2949.69  \n76           7.3         1.11     2715.96    2711.01     2687.22     2532.14  \n\n[77 rows x 24 columns]",
      "text/html": "<div>\n<style scoped>\n    .dataframe tbody tr th:only-of-type {\n        vertical-align: middle;\n    }\n\n    .dataframe tbody tr th {\n        vertical-align: top;\n    }\n\n    .dataframe thead th {\n        text-align: right;\n    }\n</style>\n<table border=\"1\" class=\"dataframe\">\n  <thead>\n    <tr style=\"text-align: right;\">\n      <th></th>\n      <th>key</th>\n      <th>index</th>\n      <th>indexSymbol</th>\n      <th>last</th>\n      <th>variation</th>\n      <th>percentChange</th>\n      <th>open</th>\n      <th>high</th>\n      <th>low</th>\n      <th>previousClose</th>\n      <th>...</th>\n      <th>dy</th>\n      <th>declines</th>\n      <th>advances</th>\n      <th>unchanged</th>\n      <th>perChange365d</th>\n      <th>perChange30d</th>\n      <th>previousDay</th>\n      <th>oneWeekAgo</th>\n      <th>oneMonthAgo</th>\n      <th>oneYearAgo</th>\n    </tr>\n  </thead>\n  <tbody>\n    <tr>\n      <th>0</th>\n      <td>BROAD MARKET INDICES</td>\n      <td>NIFTY 50</td>\n      <td>NIFTY 50</td>\n      <td>23398.90</td>\n      <td>75.95</td>\n      <td>0.33</td>\n      <td>23480.95</td>\n      <td>23481.05</td>\n      <td>23353.90</td>\n      <td>23322.95</td>\n      <td>...</td>\n      <td>1.24</td>\n      <td>15</td>\n      <td>35</td>\n      <td>0</td>\n      <td>24.61</td>\n      <td>5.51</td>\n      <td>23264.85</td>\n      <td>22821.40</td>\n      <td>22104.05</td>\n      <td>18716.15</td>\n    </tr>\n    <tr>\n      <th>1</th>\n      <td>BROAD MARKET INDICES</td>\n      <td>NIFTY NEXT 50</td>\n      <td>NIFTY NEXT 50</td>\n      <td>70842.55</td>\n      <td>640.40</td>\n      <td>0.91</td>\n      <td>70831.40</td>\n      <td>70933.55</td>\n      <td>70231.80</td>\n      <td>70202.15</td>\n      <td>...</td>\n      <td>0.97</td>\n      <td>22</td>\n      <td>28</td>\n      <td>0</td>\n      <td>62.21</td>\n      <td>9.09</td>\n      <td>69678.70</td>\n      <td>68224.45</td>\n      <td>64354.40</td>\n      <td>43278.65</td>\n    </tr>\n    <tr>\n      <th>2</th>\n      <td>BROAD MARKET INDICES</td>\n      <td>NIFTY 100</td>\n      <td>NIFTY 100</td>\n      <td>24449.50</td>\n      <td>100.70</td>\n      <td>0.41</td>\n      <td>24527.05</td>\n      <td>24527.15</td>\n      <td>24376.75</td>\n      <td>24348.80</td>\n      <td>...</td>\n      <td>1.15</td>\n      <td>38</td>\n      <td>63</td>\n      <td>0</td>\n      <td>30.43</td>\n      <td>6.07</td>\n      <td>24271.05</td>\n      <td>23806.95</td>\n      <td>22956.35</td>\n      <td>18668.00</td>\n    </tr>\n    <tr>\n      <th>3</th>\n      <td>BROAD MARKET INDICES</td>\n      <td>NIFTY 200</td>\n      <td>NIFTY 200</td>\n      <td>13282.50</td>\n      <td>62.55</td>\n      <td>0.47</td>\n      <td>13317.65</td>\n      <td>13317.70</td>\n      <td>13237.85</td>\n      <td>13219.95</td>\n      <td>...</td>\n      <td>1.08</td>\n      <td>74</td>\n      <td>127</td>\n      <td>0</td>\n      <td>33.96</td>\n      <td>6.53</td>\n      <td>13162.70</td>\n      <td>12902.20</td>\n      <td>12410.00</td>\n      <td>9868.80</td>\n    </tr>\n    <tr>\n      <th>4</th>\n      <td>BROAD MARKET INDICES</td>\n      <td>NIFTY 500</td>\n      <td>NIFTY 500</td>\n      <td>22074.30</td>\n      <td>113.35</td>\n      <td>0.52</td>\n      <td>22120.75</td>\n      <td>22120.80</td>\n      <td>21992.15</td>\n      <td>21960.95</td>\n      <td>...</td>\n      <td>1.04</td>\n      <td>186</td>\n      <td>313</td>\n      <td>3</td>\n      <td>36.84</td>\n      <td>7.07</td>\n      <td>21852.00</td>\n      <td>21365.00</td>\n      <td>20511.00</td>\n      <td>16048.20</td>\n    </tr>\n    <tr>\n      <th>...</th>\n      <td>...</td>\n      <td>...</td>\n      <td>...</td>\n      <td>...</td>\n      <td>...</td>\n      <td>...</td>\n      <td>...</td>\n      <td>...</td>\n      <td>...</td>\n      <td>...</td>\n      <td>...</td>\n      <td>...</td>\n      <td>...</td>\n      <td>...</td>\n      <td>...</td>\n      <td>...</td>\n      <td>...</td>\n      <td>...</td>\n      <td>...</td>\n      <td>...</td>\n      <td>...</td>\n    </tr>\n    <tr>\n      <th>72</th>\n      <td>FIXED INCOME INDICES</td>\n      <td>NIFTY 10 YR BENCHMARK G-SEC (CLEAN PRICE)</td>\n      <td>NIFTY GS 10YR CLN</td>\n      <td>879.02</td>\n      <td>1.43</td>\n      <td>0.16</td>\n      <td>877.59</td>\n      <td>879.31</td>\n      <td>877.59</td>\n      <td>877.59</td>\n      <td>...</td>\n      <td></td>\n      <td>NaN</td>\n      <td>NaN</td>\n      <td>NaN</td>\n      <td>-0.57</td>\n      <td>0.43</td>\n      <td>877.58</td>\n      <td>877.34</td>\n      <td>874.05</td>\n      <td>882.84</td>\n    </tr>\n    <tr>\n      <th>73</th>\n      <td>FIXED INCOME INDICES</td>\n      <td>NIFTY 4-8 YR G-SEC INDEX</td>\n      <td>NIFTY GS 4 8YR</td>\n      <td>2845.26</td>\n      <td>3.26</td>\n      <td>0.11</td>\n      <td>2842.56</td>\n      <td>2845.37</td>\n      <td>2842.56</td>\n      <td>2842.00</td>\n      <td>...</td>\n      <td></td>\n      <td>NaN</td>\n      <td>NaN</td>\n      <td>NaN</td>\n      <td>6.88</td>\n      <td>0.91</td>\n      <td>2842.17</td>\n      <td>2837.68</td>\n      <td>2816.42</td>\n      <td>2659.11</td>\n    </tr>\n    <tr>\n      <th>74</th>\n      <td>FIXED INCOME INDICES</td>\n      <td>NIFTY 11-15 YR G-SEC INDEX</td>\n      <td>NIFTY GS 11 15YR</td>\n      <td>2909.14</td>\n      <td>5.27</td>\n      <td>0.18</td>\n      <td>2904.43</td>\n      <td>2909.14</td>\n      <td>2904.43</td>\n      <td>2903.87</td>\n      <td>...</td>\n      <td></td>\n      <td>NaN</td>\n      <td>NaN</td>\n      <td>NaN</td>\n      <td>7.7</td>\n      <td>1.30</td>\n      <td>2903.50</td>\n      <td>2899.46</td>\n      <td>2867.13</td>\n      <td>2696.83</td>\n    </tr>\n    <tr>\n      <th>75</th>\n      <td>FIXED INCOME INDICES</td>\n      <td>NIFTY 15 YR AND ABOVE G-SEC INDEX</td>\n      <td>NIFTY GS 15YRPLUS</td>\n      <td>3215.27</td>\n      <td>6.71</td>\n      <td>0.20</td>\n      <td>3209.19</td>\n      <td>3216.53</td>\n      <td>3209.19</td>\n      <td>3208.56</td>\n      <td>...</td>\n      <td></td>\n      <td>NaN</td>\n      <td>NaN</td>\n      <td>NaN</td>\n      <td>8.81</td>\n      <td>1.52</td>\n      <td>3207.19</td>\n      <td>3200.37</td>\n      <td>3161.31</td>\n      <td>2949.69</td>\n    </tr>\n    <tr>\n      <th>76</th>\n      <td>FIXED INCOME INDICES</td>\n      <td>NIFTY COMPOSITE G-SEC INDEX</td>\n      <td>NIFTY GS COMPSITE</td>\n      <td>2720.77</td>\n      <td>4.30</td>\n      <td>0.15</td>\n      <td>2717.00</td>\n      <td>2720.83</td>\n      <td>2717.00</td>\n      <td>2716.47</td>\n      <td>...</td>\n      <td></td>\n      <td>NaN</td>\n      <td>NaN</td>\n      <td>NaN</td>\n      <td>7.3</td>\n      <td>1.11</td>\n      <td>2715.96</td>\n      <td>2711.01</td>\n      <td>2687.22</td>\n      <td>2532.14</td>\n    </tr>\n  </tbody>\n</table>\n<p>77 rows × 24 columns</p>\n</div>"
     },
     "execution_count": 45,
     "metadata": {},
     "output_type": "execute_result"
    }
   ],
   "source": [
    "market_indices.interpolate()"
   ],
   "metadata": {
    "collapsed": false,
    "pycharm": {
     "name": "#%%\n"
    }
   }
  },
  {
   "cell_type": "code",
   "execution_count": 46,
   "outputs": [
    {
     "data": {
      "text/plain": "                     key                                      index  \\\n0   BROAD MARKET INDICES                                   NIFTY 50   \n1   BROAD MARKET INDICES                              NIFTY NEXT 50   \n2   BROAD MARKET INDICES                                  NIFTY 100   \n3   BROAD MARKET INDICES                                  NIFTY 200   \n4   BROAD MARKET INDICES                                  NIFTY 500   \n..                   ...                                        ...   \n72  FIXED INCOME INDICES  NIFTY 10 YR BENCHMARK G-SEC (CLEAN PRICE)   \n73  FIXED INCOME INDICES                   NIFTY 4-8 YR G-SEC INDEX   \n74  FIXED INCOME INDICES                 NIFTY 11-15 YR G-SEC INDEX   \n75  FIXED INCOME INDICES          NIFTY 15 YR AND ABOVE G-SEC INDEX   \n76  FIXED INCOME INDICES                NIFTY COMPOSITE G-SEC INDEX   \n\n          indexSymbol      last  variation  percentChange      open      high  \\\n0            NIFTY 50  23398.90      75.95           0.33  23480.95  23481.05   \n1       NIFTY NEXT 50  70842.55     640.40           0.91  70831.40  70933.55   \n2           NIFTY 100  24449.50     100.70           0.41  24527.05  24527.15   \n3           NIFTY 200  13282.50      62.55           0.47  13317.65  13317.70   \n4           NIFTY 500  22074.30     113.35           0.52  22120.75  22120.80   \n..                ...       ...        ...            ...       ...       ...   \n72  NIFTY GS 10YR CLN    879.02       1.43           0.16    877.59    879.31   \n73     NIFTY GS 4 8YR   2845.26       3.26           0.11   2842.56   2845.37   \n74   NIFTY GS 11 15YR   2909.14       5.27           0.18   2904.43   2909.14   \n75  NIFTY GS 15YRPLUS   3215.27       6.71           0.20   3209.19   3216.53   \n76  NIFTY GS COMPSITE   2720.77       4.30           0.15   2717.00   2720.83   \n\n         low  previousClose  ...    dy  declines advances unchanged  \\\n0   23353.90       23322.95  ...  1.24        15       35         0   \n1   70231.80       70202.15  ...  0.97        22       28         0   \n2   24376.75       24348.80  ...  1.15        38       63         0   \n3   13237.85       13219.95  ...  1.08        74      127         0   \n4   21992.15       21960.95  ...  1.04       186      313         3   \n..       ...            ...  ...   ...       ...      ...       ...   \n72    877.59         877.59  ...             NaN      NaN       NaN   \n73   2842.56        2842.00  ...             NaN      NaN       NaN   \n74   2904.43        2903.87  ...             NaN      NaN       NaN   \n75   3209.19        3208.56  ...             NaN      NaN       NaN   \n76   2717.00        2716.47  ...             NaN      NaN       NaN   \n\n   perChange365d perChange30d previousDay oneWeekAgo oneMonthAgo  oneYearAgo  \n0          24.61         5.51    23264.85   22821.40    22104.05    18716.15  \n1          62.21         9.09    69678.70   68224.45    64354.40    43278.65  \n2          30.43         6.07    24271.05   23806.95    22956.35    18668.00  \n3          33.96         6.53    13162.70   12902.20    12410.00     9868.80  \n4          36.84         7.07    21852.00   21365.00    20511.00    16048.20  \n..           ...          ...         ...        ...         ...         ...  \n72         -0.57         0.43      877.58     877.34      874.05      882.84  \n73          6.88         0.91     2842.17    2837.68     2816.42     2659.11  \n74           7.7         1.30     2903.50    2899.46     2867.13     2696.83  \n75          8.81         1.52     3207.19    3200.37     3161.31     2949.69  \n76           7.3         1.11     2715.96    2711.01     2687.22     2532.14  \n\n[77 rows x 24 columns]",
      "text/html": "<div>\n<style scoped>\n    .dataframe tbody tr th:only-of-type {\n        vertical-align: middle;\n    }\n\n    .dataframe tbody tr th {\n        vertical-align: top;\n    }\n\n    .dataframe thead th {\n        text-align: right;\n    }\n</style>\n<table border=\"1\" class=\"dataframe\">\n  <thead>\n    <tr style=\"text-align: right;\">\n      <th></th>\n      <th>key</th>\n      <th>index</th>\n      <th>indexSymbol</th>\n      <th>last</th>\n      <th>variation</th>\n      <th>percentChange</th>\n      <th>open</th>\n      <th>high</th>\n      <th>low</th>\n      <th>previousClose</th>\n      <th>...</th>\n      <th>dy</th>\n      <th>declines</th>\n      <th>advances</th>\n      <th>unchanged</th>\n      <th>perChange365d</th>\n      <th>perChange30d</th>\n      <th>previousDay</th>\n      <th>oneWeekAgo</th>\n      <th>oneMonthAgo</th>\n      <th>oneYearAgo</th>\n    </tr>\n  </thead>\n  <tbody>\n    <tr>\n      <th>0</th>\n      <td>BROAD MARKET INDICES</td>\n      <td>NIFTY 50</td>\n      <td>NIFTY 50</td>\n      <td>23398.90</td>\n      <td>75.95</td>\n      <td>0.33</td>\n      <td>23480.95</td>\n      <td>23481.05</td>\n      <td>23353.90</td>\n      <td>23322.95</td>\n      <td>...</td>\n      <td>1.24</td>\n      <td>15</td>\n      <td>35</td>\n      <td>0</td>\n      <td>24.61</td>\n      <td>5.51</td>\n      <td>23264.85</td>\n      <td>22821.40</td>\n      <td>22104.05</td>\n      <td>18716.15</td>\n    </tr>\n    <tr>\n      <th>1</th>\n      <td>BROAD MARKET INDICES</td>\n      <td>NIFTY NEXT 50</td>\n      <td>NIFTY NEXT 50</td>\n      <td>70842.55</td>\n      <td>640.40</td>\n      <td>0.91</td>\n      <td>70831.40</td>\n      <td>70933.55</td>\n      <td>70231.80</td>\n      <td>70202.15</td>\n      <td>...</td>\n      <td>0.97</td>\n      <td>22</td>\n      <td>28</td>\n      <td>0</td>\n      <td>62.21</td>\n      <td>9.09</td>\n      <td>69678.70</td>\n      <td>68224.45</td>\n      <td>64354.40</td>\n      <td>43278.65</td>\n    </tr>\n    <tr>\n      <th>2</th>\n      <td>BROAD MARKET INDICES</td>\n      <td>NIFTY 100</td>\n      <td>NIFTY 100</td>\n      <td>24449.50</td>\n      <td>100.70</td>\n      <td>0.41</td>\n      <td>24527.05</td>\n      <td>24527.15</td>\n      <td>24376.75</td>\n      <td>24348.80</td>\n      <td>...</td>\n      <td>1.15</td>\n      <td>38</td>\n      <td>63</td>\n      <td>0</td>\n      <td>30.43</td>\n      <td>6.07</td>\n      <td>24271.05</td>\n      <td>23806.95</td>\n      <td>22956.35</td>\n      <td>18668.00</td>\n    </tr>\n    <tr>\n      <th>3</th>\n      <td>BROAD MARKET INDICES</td>\n      <td>NIFTY 200</td>\n      <td>NIFTY 200</td>\n      <td>13282.50</td>\n      <td>62.55</td>\n      <td>0.47</td>\n      <td>13317.65</td>\n      <td>13317.70</td>\n      <td>13237.85</td>\n      <td>13219.95</td>\n      <td>...</td>\n      <td>1.08</td>\n      <td>74</td>\n      <td>127</td>\n      <td>0</td>\n      <td>33.96</td>\n      <td>6.53</td>\n      <td>13162.70</td>\n      <td>12902.20</td>\n      <td>12410.00</td>\n      <td>9868.80</td>\n    </tr>\n    <tr>\n      <th>4</th>\n      <td>BROAD MARKET INDICES</td>\n      <td>NIFTY 500</td>\n      <td>NIFTY 500</td>\n      <td>22074.30</td>\n      <td>113.35</td>\n      <td>0.52</td>\n      <td>22120.75</td>\n      <td>22120.80</td>\n      <td>21992.15</td>\n      <td>21960.95</td>\n      <td>...</td>\n      <td>1.04</td>\n      <td>186</td>\n      <td>313</td>\n      <td>3</td>\n      <td>36.84</td>\n      <td>7.07</td>\n      <td>21852.00</td>\n      <td>21365.00</td>\n      <td>20511.00</td>\n      <td>16048.20</td>\n    </tr>\n    <tr>\n      <th>...</th>\n      <td>...</td>\n      <td>...</td>\n      <td>...</td>\n      <td>...</td>\n      <td>...</td>\n      <td>...</td>\n      <td>...</td>\n      <td>...</td>\n      <td>...</td>\n      <td>...</td>\n      <td>...</td>\n      <td>...</td>\n      <td>...</td>\n      <td>...</td>\n      <td>...</td>\n      <td>...</td>\n      <td>...</td>\n      <td>...</td>\n      <td>...</td>\n      <td>...</td>\n      <td>...</td>\n    </tr>\n    <tr>\n      <th>72</th>\n      <td>FIXED INCOME INDICES</td>\n      <td>NIFTY 10 YR BENCHMARK G-SEC (CLEAN PRICE)</td>\n      <td>NIFTY GS 10YR CLN</td>\n      <td>879.02</td>\n      <td>1.43</td>\n      <td>0.16</td>\n      <td>877.59</td>\n      <td>879.31</td>\n      <td>877.59</td>\n      <td>877.59</td>\n      <td>...</td>\n      <td></td>\n      <td>NaN</td>\n      <td>NaN</td>\n      <td>NaN</td>\n      <td>-0.57</td>\n      <td>0.43</td>\n      <td>877.58</td>\n      <td>877.34</td>\n      <td>874.05</td>\n      <td>882.84</td>\n    </tr>\n    <tr>\n      <th>73</th>\n      <td>FIXED INCOME INDICES</td>\n      <td>NIFTY 4-8 YR G-SEC INDEX</td>\n      <td>NIFTY GS 4 8YR</td>\n      <td>2845.26</td>\n      <td>3.26</td>\n      <td>0.11</td>\n      <td>2842.56</td>\n      <td>2845.37</td>\n      <td>2842.56</td>\n      <td>2842.00</td>\n      <td>...</td>\n      <td></td>\n      <td>NaN</td>\n      <td>NaN</td>\n      <td>NaN</td>\n      <td>6.88</td>\n      <td>0.91</td>\n      <td>2842.17</td>\n      <td>2837.68</td>\n      <td>2816.42</td>\n      <td>2659.11</td>\n    </tr>\n    <tr>\n      <th>74</th>\n      <td>FIXED INCOME INDICES</td>\n      <td>NIFTY 11-15 YR G-SEC INDEX</td>\n      <td>NIFTY GS 11 15YR</td>\n      <td>2909.14</td>\n      <td>5.27</td>\n      <td>0.18</td>\n      <td>2904.43</td>\n      <td>2909.14</td>\n      <td>2904.43</td>\n      <td>2903.87</td>\n      <td>...</td>\n      <td></td>\n      <td>NaN</td>\n      <td>NaN</td>\n      <td>NaN</td>\n      <td>7.7</td>\n      <td>1.30</td>\n      <td>2903.50</td>\n      <td>2899.46</td>\n      <td>2867.13</td>\n      <td>2696.83</td>\n    </tr>\n    <tr>\n      <th>75</th>\n      <td>FIXED INCOME INDICES</td>\n      <td>NIFTY 15 YR AND ABOVE G-SEC INDEX</td>\n      <td>NIFTY GS 15YRPLUS</td>\n      <td>3215.27</td>\n      <td>6.71</td>\n      <td>0.20</td>\n      <td>3209.19</td>\n      <td>3216.53</td>\n      <td>3209.19</td>\n      <td>3208.56</td>\n      <td>...</td>\n      <td></td>\n      <td>NaN</td>\n      <td>NaN</td>\n      <td>NaN</td>\n      <td>8.81</td>\n      <td>1.52</td>\n      <td>3207.19</td>\n      <td>3200.37</td>\n      <td>3161.31</td>\n      <td>2949.69</td>\n    </tr>\n    <tr>\n      <th>76</th>\n      <td>FIXED INCOME INDICES</td>\n      <td>NIFTY COMPOSITE G-SEC INDEX</td>\n      <td>NIFTY GS COMPSITE</td>\n      <td>2720.77</td>\n      <td>4.30</td>\n      <td>0.15</td>\n      <td>2717.00</td>\n      <td>2720.83</td>\n      <td>2717.00</td>\n      <td>2716.47</td>\n      <td>...</td>\n      <td></td>\n      <td>NaN</td>\n      <td>NaN</td>\n      <td>NaN</td>\n      <td>7.3</td>\n      <td>1.11</td>\n      <td>2715.96</td>\n      <td>2711.01</td>\n      <td>2687.22</td>\n      <td>2532.14</td>\n    </tr>\n  </tbody>\n</table>\n<p>77 rows × 24 columns</p>\n</div>"
     },
     "execution_count": 46,
     "metadata": {},
     "output_type": "execute_result"
    }
   ],
   "source": [
    "market_indices"
   ],
   "metadata": {
    "collapsed": false,
    "pycharm": {
     "name": "#%%\n"
    }
   }
  },
  {
   "cell_type": "code",
   "execution_count": null,
   "outputs": [],
   "source": [
    "ca.price_volume_and_deliverable_position_data()"
   ],
   "metadata": {
    "collapsed": false,
    "pycharm": {
     "name": "#%%\n"
    }
   }
  }
 ],
 "metadata": {
  "kernelspec": {
   "display_name": "Python 3",
   "language": "python",
   "name": "python3"
  },
  "language_info": {
   "codemirror_mode": {
    "name": "ipython",
    "version": 2
   },
   "file_extension": ".py",
   "mimetype": "text/x-python",
   "name": "python",
   "nbconvert_exporter": "python",
   "pygments_lexer": "ipython2",
   "version": "2.7.6"
  }
 },
 "nbformat": 4,
 "nbformat_minor": 0
}