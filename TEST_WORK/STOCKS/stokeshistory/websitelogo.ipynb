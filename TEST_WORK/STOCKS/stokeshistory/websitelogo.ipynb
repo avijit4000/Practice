{
 "cells": [
  {
   "cell_type": "code",
   "execution_count": 1,
   "metadata": {
    "collapsed": true,
    "pycharm": {
     "name": "#%%\n"
    }
   },
   "outputs": [],
   "source": [
    "from bs4 import BeautifulSoup as bs"
   ]
  },
  {
   "cell_type": "code",
   "execution_count": 2,
   "outputs": [],
   "source": [
    "import pandas as pd"
   ],
   "metadata": {
    "collapsed": false,
    "pycharm": {
     "name": "#%%\n"
    }
   }
  },
  {
   "cell_type": "code",
   "execution_count": 3,
   "outputs": [],
   "source": [
    "import requests as re"
   ],
   "metadata": {
    "collapsed": false,
    "pycharm": {
     "name": "#%%\n"
    }
   }
  },
  {
   "cell_type": "code",
   "execution_count": 4,
   "outputs": [],
   "source": [
    "web=re.get(\"https://www.google.com/finance/markets/most-active?authuser=0\")"
   ],
   "metadata": {
    "collapsed": false,
    "pycharm": {
     "name": "#%%\n"
    }
   }
  },
  {
   "cell_type": "code",
   "execution_count": 5,
   "outputs": [],
   "source": [
    "result=web.text"
   ],
   "metadata": {
    "collapsed": false,
    "pycharm": {
     "name": "#%%\n"
    }
   }
  },
  {
   "cell_type": "code",
   "execution_count": 6,
   "outputs": [],
   "source": [
    "soup=bs(result,'lxml')"
   ],
   "metadata": {
    "collapsed": false,
    "pycharm": {
     "name": "#%%\n"
    }
   }
  },
  {
   "cell_type": "code",
   "execution_count": 8,
   "outputs": [],
   "source": [
    "box=soup.find_all(\"div\",class_=\"COaKTb bMPZw wnjT2c\")"
   ],
   "metadata": {
    "collapsed": false,
    "pycharm": {
     "name": "#%%\n"
    }
   }
  },
  {
   "cell_type": "code",
   "execution_count": 10,
   "outputs": [
    {
     "name": "stdout",
     "output_type": "stream",
     "text": [
      "['JPPOWER', 'YESBANK', 'FCSSOFT', 'ASTERDM', 'HATHWAY', 'TEXRAIL', 'YESBANK', 'TRIDENT', 'FRETAIL']\n"
     ]
    }
   ],
   "source": [
    "u=[]\n",
    "for i in box:\n",
    "    u.append(i.text)\n",
    "print(u)"
   ],
   "metadata": {
    "collapsed": false,
    "pycharm": {
     "name": "#%%\n"
    }
   }
  },
  {
   "cell_type": "code",
   "execution_count": 11,
   "outputs": [],
   "source": [
    "box=soup.find_all(\"div\",class_=\"COaKTb bMPZw wnjT2c DbU0ze k6Xspc\")"
   ],
   "metadata": {
    "collapsed": false,
    "pycharm": {
     "name": "#%%\n"
    }
   }
  },
  {
   "cell_type": "code",
   "execution_count": 12,
   "outputs": [
    {
     "name": "stdout",
     "output_type": "stream",
     "text": [
      "['EDELWEISS', 'TATAPOWER', 'MOTHERSON', 'UNIONBANK', 'TATASTEEL', 'HINDPETRO']\n"
     ]
    }
   ],
   "source": [
    "u1=[]\n",
    "for i in box:\n",
    "    u1.append(i.text)\n",
    "print(u1)"
   ],
   "metadata": {
    "collapsed": false,
    "pycharm": {
     "name": "#%%\n"
    }
   }
  },
  {
   "cell_type": "code",
   "execution_count": 13,
   "outputs": [],
   "source": [
    "box=soup.find_all(\"li\")"
   ],
   "metadata": {
    "collapsed": false,
    "pycharm": {
     "name": "#%%\n"
    }
   }
  },
  {
   "cell_type": "code",
   "execution_count": 14,
   "outputs": [
    {
     "data": {
      "text/plain": "50"
     },
     "execution_count": 14,
     "metadata": {},
     "output_type": "execute_result"
    }
   ],
   "source": [
    "len(box)"
   ],
   "metadata": {
    "collapsed": false,
    "pycharm": {
     "name": "#%%\n"
    }
   }
  },
  {
   "cell_type": "code",
   "execution_count": 17,
   "outputs": [],
   "source": [
    "m=[]\n",
    "for i in box:\n",
    "    m.append(i.find(\"div\",class_=\"uPT9Ec eYHKkf\").text)"
   ],
   "metadata": {
    "collapsed": false,
    "pycharm": {
     "name": "#%%\n"
    }
   }
  },
  {
   "cell_type": "code",
   "execution_count": 18,
   "outputs": [
    {
     "data": {
      "text/plain": "50"
     },
     "execution_count": 18,
     "metadata": {},
     "output_type": "execute_result"
    }
   ],
   "source": [
    "len(m)"
   ],
   "metadata": {
    "collapsed": false,
    "pycharm": {
     "name": "#%%\n"
    }
   }
  },
  {
   "cell_type": "code",
   "execution_count": 19,
   "outputs": [
    {
     "name": "stdout",
     "output_type": "stream",
     "text": [
      "['JPPOWER', 'YESBANK', 'IDEA', 'RPOWER', 'ZOMATO', 'SEPC', 'SUZLON', 'IFCI', 'BHEL', 'RTNPOWER', 'EDELWEISS', 'GMRINFRA', 'ADANIPOWER', 'NBCC', 'PNB', 'FCSSOFT', 'IOC', 'ZEEL', 'SJVN', 'MANAPPURAM', 'DISHTV', 'GREENPOWER', 'HINDCOPPER', 'TATAPOWER', 'NHPC', 'MOTHERSON', 'IDFCFIRSTB', 'HCC', 'UNIONBANK', 'URJA', 'TATASTEEL', 'SAIL', 'ASTERDM', 'ESSENTIA', 'HATHWAY', 'JPASSOCIAT', 'GAIL', 'TEXRAIL', 'MARKSANS', 'IRB', 'BANDHANBNK', 'HDFCBANK', 'MOREPENLAB', 'TATAMOTORS', 'HINDPETRO', 'INFIBEAM', 'ATGL', 'GTLINFRA', 'PCBL', 'NMDC']\n"
     ]
    }
   ],
   "source": [
    "print(m)"
   ],
   "metadata": {
    "collapsed": false,
    "pycharm": {
     "name": "#%%\n"
    }
   }
  },
  {
   "cell_type": "code",
   "execution_count": 20,
   "outputs": [],
   "source": [
    "import yfinance as yf"
   ],
   "metadata": {
    "collapsed": false,
    "pycharm": {
     "name": "#%%\n"
    }
   }
  },
  {
   "cell_type": "code",
   "execution_count": null,
   "outputs": [],
   "source": [
    "df_infy_d=yf.download(\"INFY.NS\",start=\"2013-09-11\",end=\"2023-11-30\",interval=\"1d\")"
   ],
   "metadata": {
    "collapsed": false,
    "pycharm": {
     "name": "#%%\n"
    }
   }
  },
  {
   "cell_type": "code",
   "execution_count": 21,
   "outputs": [
    {
     "ename": "SyntaxError",
     "evalue": "cannot assign to f-string expression here. Maybe you meant '==' instead of '='? (82661004.py, line 2)",
     "output_type": "error",
     "traceback": [
      "\u001B[1;36m  Cell \u001B[1;32mIn[21], line 2\u001B[1;36m\u001B[0m\n\u001B[1;33m    f\"df_{i}_d\"=yf.download(f\"{i}.NS\",start=\"2013-09-11\",end=\"2023-11-30\",interval=\"1d\")\u001B[0m\n\u001B[1;37m    ^\u001B[0m\n\u001B[1;31mSyntaxError\u001B[0m\u001B[1;31m:\u001B[0m cannot assign to f-string expression here. Maybe you meant '==' instead of '='?\n"
     ]
    }
   ],
   "source": [
    "for i in m:\n",
    "    f\"df_{i}_d\"=yf.download(f\"{i}.NS\",start=\"2013-09-11\",end=\"2023-11-30\",interval=\"1d\")"
   ],
   "metadata": {
    "collapsed": false,
    "pycharm": {
     "name": "#%%\n"
    }
   }
  },
  {
   "cell_type": "code",
   "execution_count": 24,
   "outputs": [],
   "source": [
    "n=[]\n",
    "for i in m:\n",
    "    n.append(i+'.NS')"
   ],
   "metadata": {
    "collapsed": false,
    "pycharm": {
     "name": "#%%\n"
    }
   }
  },
  {
   "cell_type": "code",
   "execution_count": 25,
   "outputs": [
    {
     "name": "stdout",
     "output_type": "stream",
     "text": [
      "['JPPOWER.NS', 'YESBANK.NS', 'IDEA.NS', 'RPOWER.NS', 'ZOMATO.NS', 'SEPC.NS', 'SUZLON.NS', 'IFCI.NS', 'BHEL.NS', 'RTNPOWER.NS', 'EDELWEISS.NS', 'GMRINFRA.NS', 'ADANIPOWER.NS', 'NBCC.NS', 'PNB.NS', 'FCSSOFT.NS', 'IOC.NS', 'ZEEL.NS', 'SJVN.NS', 'MANAPPURAM.NS', 'DISHTV.NS', 'GREENPOWER.NS', 'HINDCOPPER.NS', 'TATAPOWER.NS', 'NHPC.NS', 'MOTHERSON.NS', 'IDFCFIRSTB.NS', 'HCC.NS', 'UNIONBANK.NS', 'URJA.NS', 'TATASTEEL.NS', 'SAIL.NS', 'ASTERDM.NS', 'ESSENTIA.NS', 'HATHWAY.NS', 'JPASSOCIAT.NS', 'GAIL.NS', 'TEXRAIL.NS', 'MARKSANS.NS', 'IRB.NS', 'BANDHANBNK.NS', 'HDFCBANK.NS', 'MOREPENLAB.NS', 'TATAMOTORS.NS', 'HINDPETRO.NS', 'INFIBEAM.NS', 'ATGL.NS', 'GTLINFRA.NS', 'PCBL.NS', 'NMDC.NS']\n"
     ]
    }
   ],
   "source": [
    "print(n)"
   ],
   "metadata": {
    "collapsed": false,
    "pycharm": {
     "name": "#%%\n"
    }
   }
  },
  {
   "cell_type": "code",
   "execution_count": 26,
   "outputs": [],
   "source": [
    "p=[]\n",
    "for i in m:\n",
    "    p.append(\"df_\"+i+\"_d\")"
   ],
   "metadata": {
    "collapsed": false,
    "pycharm": {
     "name": "#%%\n"
    }
   }
  },
  {
   "cell_type": "code",
   "execution_count": 27,
   "outputs": [
    {
     "name": "stdout",
     "output_type": "stream",
     "text": [
      "['df_JPPOWER_d', 'df_YESBANK_d', 'df_IDEA_d', 'df_RPOWER_d', 'df_ZOMATO_d', 'df_SEPC_d', 'df_SUZLON_d', 'df_IFCI_d', 'df_BHEL_d', 'df_RTNPOWER_d', 'df_EDELWEISS_d', 'df_GMRINFRA_d', 'df_ADANIPOWER_d', 'df_NBCC_d', 'df_PNB_d', 'df_FCSSOFT_d', 'df_IOC_d', 'df_ZEEL_d', 'df_SJVN_d', 'df_MANAPPURAM_d', 'df_DISHTV_d', 'df_GREENPOWER_d', 'df_HINDCOPPER_d', 'df_TATAPOWER_d', 'df_NHPC_d', 'df_MOTHERSON_d', 'df_IDFCFIRSTB_d', 'df_HCC_d', 'df_UNIONBANK_d', 'df_URJA_d', 'df_TATASTEEL_d', 'df_SAIL_d', 'df_ASTERDM_d', 'df_ESSENTIA_d', 'df_HATHWAY_d', 'df_JPASSOCIAT_d', 'df_GAIL_d', 'df_TEXRAIL_d', 'df_MARKSANS_d', 'df_IRB_d', 'df_BANDHANBNK_d', 'df_HDFCBANK_d', 'df_MOREPENLAB_d', 'df_TATAMOTORS_d', 'df_HINDPETRO_d', 'df_INFIBEAM_d', 'df_ATGL_d', 'df_GTLINFRA_d', 'df_PCBL_d', 'df_NMDC_d']\n"
     ]
    }
   ],
   "source": [
    "print(p)"
   ],
   "metadata": {
    "collapsed": false,
    "pycharm": {
     "name": "#%%\n"
    }
   }
  },
  {
   "cell_type": "code",
   "execution_count": 29,
   "outputs": [
    {
     "ename": "IndexError",
     "evalue": "list index out of range",
     "output_type": "error",
     "traceback": [
      "\u001B[1;31m---------------------------------------------------------------------------\u001B[0m",
      "\u001B[1;31mIndexError\u001B[0m                                Traceback (most recent call last)",
      "Cell \u001B[1;32mIn[29], line 18\u001B[0m\n\u001B[0;32m     16\u001B[0m \u001B[38;5;28;01mfor\u001B[39;00m row \u001B[38;5;129;01min\u001B[39;00m rows:\n\u001B[0;32m     17\u001B[0m     columns \u001B[38;5;241m=\u001B[39m row\u001B[38;5;241m.\u001B[39mfind_all(\u001B[38;5;124m\"\u001B[39m\u001B[38;5;124mtd\u001B[39m\u001B[38;5;124m\"\u001B[39m)\n\u001B[1;32m---> 18\u001B[0m     ticker \u001B[38;5;241m=\u001B[39m \u001B[43mcolumns\u001B[49m\u001B[43m[\u001B[49m\u001B[38;5;241;43m0\u001B[39;49m\u001B[43m]\u001B[49m\u001B[38;5;241m.\u001B[39mtext\n\u001B[0;32m     19\u001B[0m     tickers\u001B[38;5;241m.\u001B[39mappend(ticker)\n\u001B[0;32m     21\u001B[0m \u001B[38;5;66;03m# Download the daily closing data for each stock\u001B[39;00m\n",
      "\u001B[1;31mIndexError\u001B[0m: list index out of range"
     ]
    }
   ],
   "source": [
    "import pandas as pd\n",
    "import requests\n",
    "from bs4 import BeautifulSoup\n",
    "# Get the list of the 50 most actively traded stocks on the NYSE\n",
    "url = \"https://en.wikipedia.org/wiki/List_of_S%26P_500_companies\"\n",
    "response = requests.get(url)\n",
    "html = response.content\n",
    "\n",
    "# Parse the HTML and extract the list of stock ticker symbols\n",
    "soup = BeautifulSoup(html, \"html.parser\")\n",
    "table = soup.find(\"table\", {\"class\": \"wikitable\"})\n",
    "rows = table.find_all(\"tr\")\n",
    "\n",
    "# Create a list of stock ticker symbols\n",
    "tickers = []\n",
    "for row in rows:\n",
    "    columns = row.find_all(\"td\")\n",
    "    ticker = columns[0].text\n",
    "    tickers.append(ticker)\n",
    "\n",
    "# Download the daily closing data for each stock\n",
    "data = []\n",
    "for ticker in tickers:\n",
    "    url = f\"https://finance.yahoo.com/quote/{ticker}/history?period1=1577836800&period2=1640995200&interval=1d&filter=history&frequency=1d\"\n",
    "    response = requests.get(url)\n",
    "    html = response.content\n",
    "\n",
    "    # Parse the HTML and extract the daily closing data\n",
    "    soup = BeautifulSoup(html, \"html.parser\")\n",
    "    table = soup.find(\"table\", {\"class\": \"W(100%)\"})\n",
    "    rows = table.find_all(\"tr\")\n",
    "\n",
    "    # Create a DataFrame for the daily closing data\n",
    "    for row in rows:\n",
    "        columns = row.find_all(\"td\")\n",
    "        date = columns[0].text\n",
    "        close = columns[4].text\n",
    "        data.append([date, close])\n",
    "\n",
    "# Create a DataFrame for the 50 stocks\n",
    "df = pd.DataFrame(data, columns=[\"Date\", \"Close\"])\n",
    "\n",
    "# Save the DataFrame to a CSV file\n",
    "df.to_csv(\"stock_data.csv\")\n"
   ],
   "metadata": {
    "collapsed": false,
    "pycharm": {
     "name": "#%%\n"
    }
   }
  },
  {
   "cell_type": "code",
   "execution_count": null,
   "outputs": [],
   "source": [],
   "metadata": {
    "collapsed": false,
    "pycharm": {
     "name": "#%%\n"
    }
   }
  }
 ],
 "metadata": {
  "kernelspec": {
   "display_name": "Python 3",
   "language": "python",
   "name": "python3"
  },
  "language_info": {
   "codemirror_mode": {
    "name": "ipython",
    "version": 2
   },
   "file_extension": ".py",
   "mimetype": "text/x-python",
   "name": "python",
   "nbconvert_exporter": "python",
   "pygments_lexer": "ipython2",
   "version": "2.7.6"
  }
 },
 "nbformat": 4,
 "nbformat_minor": 0
}