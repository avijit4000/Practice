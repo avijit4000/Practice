{
 "cells": [
  {
   "cell_type": "code",
   "execution_count": 1,
   "metadata": {
    "collapsed": true,
    "pycharm": {
     "name": "#%%\n"
    }
   },
   "outputs": [
    {
     "name": "stdout",
     "output_type": "stream",
     "text": [
      "avijit\n"
     ]
    }
   ],
   "source": [
    "print('avijit')"
   ]
  },
  {
   "cell_type": "code",
   "execution_count": 2,
   "outputs": [],
   "source": [
    "import pandas as pd"
   ],
   "metadata": {
    "collapsed": false,
    "pycharm": {
     "name": "#%%\n"
    }
   }
  },
  {
   "cell_type": "code",
   "execution_count": 9,
   "outputs": [],
   "source": [
    "df=pd.read_csv(\"D:\\Downloads\\MW-Pre-Open-Market-08-Dec-2023.csv\")"
   ],
   "metadata": {
    "collapsed": false,
    "pycharm": {
     "name": "#%%\n"
    }
   }
  },
  {
   "cell_type": "code",
   "execution_count": 8,
   "outputs": [
    {
     "data": {
      "text/plain": "    SYMBOL \\n PREV. CLOSE \\n  IEP \\n CHNG \\n %CHNG \\n FINAL \\n  \\\n0  ORCHPHARMA         566.10  674.00  107.90    19.06   674.00   \n1  BALKRISHNA          37.65   43.60    5.95    15.80    43.60   \n2      AAKASH          10.65   11.95    1.30    12.21    11.95   \n3  NAGREEKEXP          70.30   77.85    7.55    10.74    77.85   \n4     ARSHIYA           4.85    5.30    0.45     9.28     5.30   \n\n  FINAL QUANTITY \\n VALUE \\n (₹ Crores) FFM CAP \\n (₹ Crores) NM 52W H \\n  \\\n0            24,033                1.62                     -      634.80   \n1            38,125                0.17                     -       50.80   \n2          1,94,928                0.23                     -       10.65   \n3            54,365                0.42                     -       70.30   \n4            41,511                0.02                     -       11.00   \n\n  NM 52W L \\n  \n0      332.75  \n1       23.45  \n2        5.70  \n3       28.30  \n4        3.45  ",
      "text/html": "<div>\n<style scoped>\n    .dataframe tbody tr th:only-of-type {\n        vertical-align: middle;\n    }\n\n    .dataframe tbody tr th {\n        vertical-align: top;\n    }\n\n    .dataframe thead th {\n        text-align: right;\n    }\n</style>\n<table border=\"1\" class=\"dataframe\">\n  <thead>\n    <tr style=\"text-align: right;\">\n      <th></th>\n      <th>SYMBOL \\n</th>\n      <th>PREV. CLOSE \\n</th>\n      <th>IEP \\n</th>\n      <th>CHNG \\n</th>\n      <th>%CHNG \\n</th>\n      <th>FINAL \\n</th>\n      <th>FINAL QUANTITY \\n</th>\n      <th>VALUE \\n (₹ Crores)</th>\n      <th>FFM CAP \\n (₹ Crores)</th>\n      <th>NM 52W H \\n</th>\n      <th>NM 52W L \\n</th>\n    </tr>\n  </thead>\n  <tbody>\n    <tr>\n      <th>0</th>\n      <td>ORCHPHARMA</td>\n      <td>566.10</td>\n      <td>674.00</td>\n      <td>107.90</td>\n      <td>19.06</td>\n      <td>674.00</td>\n      <td>24,033</td>\n      <td>1.62</td>\n      <td>-</td>\n      <td>634.80</td>\n      <td>332.75</td>\n    </tr>\n    <tr>\n      <th>1</th>\n      <td>BALKRISHNA</td>\n      <td>37.65</td>\n      <td>43.60</td>\n      <td>5.95</td>\n      <td>15.80</td>\n      <td>43.60</td>\n      <td>38,125</td>\n      <td>0.17</td>\n      <td>-</td>\n      <td>50.80</td>\n      <td>23.45</td>\n    </tr>\n    <tr>\n      <th>2</th>\n      <td>AAKASH</td>\n      <td>10.65</td>\n      <td>11.95</td>\n      <td>1.30</td>\n      <td>12.21</td>\n      <td>11.95</td>\n      <td>1,94,928</td>\n      <td>0.23</td>\n      <td>-</td>\n      <td>10.65</td>\n      <td>5.70</td>\n    </tr>\n    <tr>\n      <th>3</th>\n      <td>NAGREEKEXP</td>\n      <td>70.30</td>\n      <td>77.85</td>\n      <td>7.55</td>\n      <td>10.74</td>\n      <td>77.85</td>\n      <td>54,365</td>\n      <td>0.42</td>\n      <td>-</td>\n      <td>70.30</td>\n      <td>28.30</td>\n    </tr>\n    <tr>\n      <th>4</th>\n      <td>ARSHIYA</td>\n      <td>4.85</td>\n      <td>5.30</td>\n      <td>0.45</td>\n      <td>9.28</td>\n      <td>5.30</td>\n      <td>41,511</td>\n      <td>0.02</td>\n      <td>-</td>\n      <td>11.00</td>\n      <td>3.45</td>\n    </tr>\n  </tbody>\n</table>\n</div>"
     },
     "execution_count": 8,
     "metadata": {},
     "output_type": "execute_result"
    }
   ],
   "source": [
    "df.head()"
   ],
   "metadata": {
    "collapsed": false,
    "pycharm": {
     "name": "#%%\n"
    }
   }
  },
  {
   "cell_type": "code",
   "execution_count": 10,
   "outputs": [
    {
     "data": {
      "text/plain": "Index(['SYMBOL \\n', 'PREV. CLOSE \\n', 'IEP \\n', 'CHNG \\n', '%CHNG \\n',\n       'FINAL \\n', 'FINAL QUANTITY \\n', 'VALUE \\n (₹ Crores)',\n       'FFM CAP \\n (₹ Crores)', 'NM 52W H \\n', 'NM 52W L \\n'],\n      dtype='object')"
     },
     "execution_count": 10,
     "metadata": {},
     "output_type": "execute_result"
    }
   ],
   "source": [
    "df.columns"
   ],
   "metadata": {
    "collapsed": false,
    "pycharm": {
     "name": "#%%\n"
    }
   }
  },
  {
   "cell_type": "code",
   "execution_count": 12,
   "outputs": [],
   "source": [
    "j=[]\n",
    "for i in df.columns:\n",
    "    j.append(i)"
   ],
   "metadata": {
    "collapsed": false,
    "pycharm": {
     "name": "#%%\n"
    }
   }
  },
  {
   "cell_type": "code",
   "execution_count": 13,
   "outputs": [
    {
     "name": "stdout",
     "output_type": "stream",
     "text": [
      "['SYMBOL \\n', 'PREV. CLOSE \\n', 'IEP \\n', 'CHNG \\n', '%CHNG \\n', 'FINAL \\n', 'FINAL QUANTITY \\n', 'VALUE \\n (₹ Crores)', 'FFM CAP \\n (₹ Crores)', 'NM 52W H \\n', 'NM 52W L \\n']\n"
     ]
    }
   ],
   "source": [
    "print(j)"
   ],
   "metadata": {
    "collapsed": false,
    "pycharm": {
     "name": "#%%\n"
    }
   }
  },
  {
   "cell_type": "code",
   "execution_count": 16,
   "outputs": [],
   "source": [
    "k=[]\n",
    "for i in j:\n",
    "    k.append(i.replace('\\n','').replace(' ',''))"
   ],
   "metadata": {
    "collapsed": false,
    "pycharm": {
     "name": "#%%\n"
    }
   }
  },
  {
   "cell_type": "code",
   "execution_count": 17,
   "outputs": [
    {
     "name": "stdout",
     "output_type": "stream",
     "text": [
      "['SYMBOL', 'PREV.CLOSE', 'IEP', 'CHNG', '%CHNG', 'FINAL', 'FINALQUANTITY', 'VALUE(₹Crores)', 'FFMCAP(₹Crores)', 'NM52WH', 'NM52WL']\n"
     ]
    }
   ],
   "source": [
    "print(k)"
   ],
   "metadata": {
    "collapsed": false,
    "pycharm": {
     "name": "#%%\n"
    }
   }
  },
  {
   "cell_type": "code",
   "execution_count": 18,
   "outputs": [],
   "source": [
    "df.columns=k"
   ],
   "metadata": {
    "collapsed": false,
    "pycharm": {
     "name": "#%%\n"
    }
   }
  },
  {
   "cell_type": "code",
   "execution_count": 19,
   "outputs": [
    {
     "data": {
      "text/plain": "       SYMBOL PREV.CLOSE     IEP    CHNG  %CHNG   FINAL FINALQUANTITY  \\\n0  ORCHPHARMA     566.10  674.00  107.90  19.06  674.00        24,033   \n1  BALKRISHNA      37.65   43.60    5.95  15.80   43.60        38,125   \n2      AAKASH      10.65   11.95    1.30  12.21   11.95      1,94,928   \n3  NAGREEKEXP      70.30   77.85    7.55  10.74   77.85        54,365   \n4     ARSHIYA       4.85    5.30    0.45   9.28    5.30        41,511   \n\n  VALUE(₹Crores) FFMCAP(₹Crores)  NM52WH  NM52WL  \n0           1.62               -  634.80  332.75  \n1           0.17               -   50.80   23.45  \n2           0.23               -   10.65    5.70  \n3           0.42               -   70.30   28.30  \n4           0.02               -   11.00    3.45  ",
      "text/html": "<div>\n<style scoped>\n    .dataframe tbody tr th:only-of-type {\n        vertical-align: middle;\n    }\n\n    .dataframe tbody tr th {\n        vertical-align: top;\n    }\n\n    .dataframe thead th {\n        text-align: right;\n    }\n</style>\n<table border=\"1\" class=\"dataframe\">\n  <thead>\n    <tr style=\"text-align: right;\">\n      <th></th>\n      <th>SYMBOL</th>\n      <th>PREV.CLOSE</th>\n      <th>IEP</th>\n      <th>CHNG</th>\n      <th>%CHNG</th>\n      <th>FINAL</th>\n      <th>FINALQUANTITY</th>\n      <th>VALUE(₹Crores)</th>\n      <th>FFMCAP(₹Crores)</th>\n      <th>NM52WH</th>\n      <th>NM52WL</th>\n    </tr>\n  </thead>\n  <tbody>\n    <tr>\n      <th>0</th>\n      <td>ORCHPHARMA</td>\n      <td>566.10</td>\n      <td>674.00</td>\n      <td>107.90</td>\n      <td>19.06</td>\n      <td>674.00</td>\n      <td>24,033</td>\n      <td>1.62</td>\n      <td>-</td>\n      <td>634.80</td>\n      <td>332.75</td>\n    </tr>\n    <tr>\n      <th>1</th>\n      <td>BALKRISHNA</td>\n      <td>37.65</td>\n      <td>43.60</td>\n      <td>5.95</td>\n      <td>15.80</td>\n      <td>43.60</td>\n      <td>38,125</td>\n      <td>0.17</td>\n      <td>-</td>\n      <td>50.80</td>\n      <td>23.45</td>\n    </tr>\n    <tr>\n      <th>2</th>\n      <td>AAKASH</td>\n      <td>10.65</td>\n      <td>11.95</td>\n      <td>1.30</td>\n      <td>12.21</td>\n      <td>11.95</td>\n      <td>1,94,928</td>\n      <td>0.23</td>\n      <td>-</td>\n      <td>10.65</td>\n      <td>5.70</td>\n    </tr>\n    <tr>\n      <th>3</th>\n      <td>NAGREEKEXP</td>\n      <td>70.30</td>\n      <td>77.85</td>\n      <td>7.55</td>\n      <td>10.74</td>\n      <td>77.85</td>\n      <td>54,365</td>\n      <td>0.42</td>\n      <td>-</td>\n      <td>70.30</td>\n      <td>28.30</td>\n    </tr>\n    <tr>\n      <th>4</th>\n      <td>ARSHIYA</td>\n      <td>4.85</td>\n      <td>5.30</td>\n      <td>0.45</td>\n      <td>9.28</td>\n      <td>5.30</td>\n      <td>41,511</td>\n      <td>0.02</td>\n      <td>-</td>\n      <td>11.00</td>\n      <td>3.45</td>\n    </tr>\n  </tbody>\n</table>\n</div>"
     },
     "execution_count": 19,
     "metadata": {},
     "output_type": "execute_result"
    }
   ],
   "source": [
    "df.head(5)"
   ],
   "metadata": {
    "collapsed": false,
    "pycharm": {
     "name": "#%%\n"
    }
   }
  },
  {
   "cell_type": "code",
   "execution_count": 20,
   "outputs": [
    {
     "data": {
      "text/plain": "(1721, 11)"
     },
     "execution_count": 20,
     "metadata": {},
     "output_type": "execute_result"
    }
   ],
   "source": [
    "df.shape"
   ],
   "metadata": {
    "collapsed": false,
    "pycharm": {
     "name": "#%%\n"
    }
   }
  },
  {
   "cell_type": "code",
   "execution_count": 21,
   "outputs": [
    {
     "data": {
      "text/plain": "'999.70'"
     },
     "execution_count": 21,
     "metadata": {},
     "output_type": "execute_result"
    }
   ],
   "source": [
    "df['PREV.CLOSE'].max()"
   ],
   "metadata": {
    "collapsed": false,
    "pycharm": {
     "name": "#%%\n"
    }
   }
  },
  {
   "cell_type": "code",
   "execution_count": 22,
   "outputs": [
    {
     "data": {
      "text/plain": "'0.40'"
     },
     "execution_count": 22,
     "metadata": {},
     "output_type": "execute_result"
    }
   ],
   "source": [
    "df['PREV.CLOSE'].min()"
   ],
   "metadata": {
    "collapsed": false,
    "pycharm": {
     "name": "#%%\n"
    }
   }
  },
  {
   "cell_type": "code",
   "execution_count": 26,
   "outputs": [
    {
     "data": {
      "text/plain": "         SYMBOL PREV.CLOSE       IEP   CHNG  %CHNG     FINAL FINALQUANTITY  \\\n238      NETWEB     999.70  1,015.00  15.30   1.53  1,015.00           719   \n1597  ICICIBANK     999.00    994.50  -4.50  -0.45    994.50        81,768   \n1405    GROBTEA     996.80    996.80      -      -    996.80           101   \n503        TEGA     996.35  1,004.50   8.15   0.82  1,004.50            26   \n585    SPANDANA     991.00    997.95   6.95   0.70    997.95            44   \n...         ...        ...       ...    ...    ...       ...           ...   \n1430  SETUINFRA       0.90      0.95      -      -         -             -   \n1718    VIVIDHA       0.90      0.85  -0.05  -5.56      0.85         8,640   \n1439    SITINET       0.85      0.85      -      -      0.85        38,926   \n10    FCONSUMER       0.80      0.85   0.05   6.25      0.85        12,171   \n1426      EXCEL       0.40      0.40      -      -      0.40      7,34,006   \n\n     VALUE(₹Crores) FFMCAP(₹Crores)    NM52WH  NM52WL  \n238            0.07               -  1,020.00  738.60  \n1597           8.13               -  1,016.25  796.00  \n1405           0.01               -  1,044.90  669.90  \n503               -               -  1,110.00  532.00  \n585               -               -  1,070.45  470.00  \n...             ...             ...       ...     ...  \n1430              -               -      1.90    0.55  \n1718              -               -      1.50    0.75  \n1439              -               -      2.65    0.60  \n10                -               -      1.70    0.40  \n1426           0.03               -      0.70    0.30  \n\n[1721 rows x 11 columns]",
      "text/html": "<div>\n<style scoped>\n    .dataframe tbody tr th:only-of-type {\n        vertical-align: middle;\n    }\n\n    .dataframe tbody tr th {\n        vertical-align: top;\n    }\n\n    .dataframe thead th {\n        text-align: right;\n    }\n</style>\n<table border=\"1\" class=\"dataframe\">\n  <thead>\n    <tr style=\"text-align: right;\">\n      <th></th>\n      <th>SYMBOL</th>\n      <th>PREV.CLOSE</th>\n      <th>IEP</th>\n      <th>CHNG</th>\n      <th>%CHNG</th>\n      <th>FINAL</th>\n      <th>FINALQUANTITY</th>\n      <th>VALUE(₹Crores)</th>\n      <th>FFMCAP(₹Crores)</th>\n      <th>NM52WH</th>\n      <th>NM52WL</th>\n    </tr>\n  </thead>\n  <tbody>\n    <tr>\n      <th>238</th>\n      <td>NETWEB</td>\n      <td>999.70</td>\n      <td>1,015.00</td>\n      <td>15.30</td>\n      <td>1.53</td>\n      <td>1,015.00</td>\n      <td>719</td>\n      <td>0.07</td>\n      <td>-</td>\n      <td>1,020.00</td>\n      <td>738.60</td>\n    </tr>\n    <tr>\n      <th>1597</th>\n      <td>ICICIBANK</td>\n      <td>999.00</td>\n      <td>994.50</td>\n      <td>-4.50</td>\n      <td>-0.45</td>\n      <td>994.50</td>\n      <td>81,768</td>\n      <td>8.13</td>\n      <td>-</td>\n      <td>1,016.25</td>\n      <td>796.00</td>\n    </tr>\n    <tr>\n      <th>1405</th>\n      <td>GROBTEA</td>\n      <td>996.80</td>\n      <td>996.80</td>\n      <td>-</td>\n      <td>-</td>\n      <td>996.80</td>\n      <td>101</td>\n      <td>0.01</td>\n      <td>-</td>\n      <td>1,044.90</td>\n      <td>669.90</td>\n    </tr>\n    <tr>\n      <th>503</th>\n      <td>TEGA</td>\n      <td>996.35</td>\n      <td>1,004.50</td>\n      <td>8.15</td>\n      <td>0.82</td>\n      <td>1,004.50</td>\n      <td>26</td>\n      <td>-</td>\n      <td>-</td>\n      <td>1,110.00</td>\n      <td>532.00</td>\n    </tr>\n    <tr>\n      <th>585</th>\n      <td>SPANDANA</td>\n      <td>991.00</td>\n      <td>997.95</td>\n      <td>6.95</td>\n      <td>0.70</td>\n      <td>997.95</td>\n      <td>44</td>\n      <td>-</td>\n      <td>-</td>\n      <td>1,070.45</td>\n      <td>470.00</td>\n    </tr>\n    <tr>\n      <th>...</th>\n      <td>...</td>\n      <td>...</td>\n      <td>...</td>\n      <td>...</td>\n      <td>...</td>\n      <td>...</td>\n      <td>...</td>\n      <td>...</td>\n      <td>...</td>\n      <td>...</td>\n      <td>...</td>\n    </tr>\n    <tr>\n      <th>1430</th>\n      <td>SETUINFRA</td>\n      <td>0.90</td>\n      <td>0.95</td>\n      <td>-</td>\n      <td>-</td>\n      <td>-</td>\n      <td>-</td>\n      <td>-</td>\n      <td>-</td>\n      <td>1.90</td>\n      <td>0.55</td>\n    </tr>\n    <tr>\n      <th>1718</th>\n      <td>VIVIDHA</td>\n      <td>0.90</td>\n      <td>0.85</td>\n      <td>-0.05</td>\n      <td>-5.56</td>\n      <td>0.85</td>\n      <td>8,640</td>\n      <td>-</td>\n      <td>-</td>\n      <td>1.50</td>\n      <td>0.75</td>\n    </tr>\n    <tr>\n      <th>1439</th>\n      <td>SITINET</td>\n      <td>0.85</td>\n      <td>0.85</td>\n      <td>-</td>\n      <td>-</td>\n      <td>0.85</td>\n      <td>38,926</td>\n      <td>-</td>\n      <td>-</td>\n      <td>2.65</td>\n      <td>0.60</td>\n    </tr>\n    <tr>\n      <th>10</th>\n      <td>FCONSUMER</td>\n      <td>0.80</td>\n      <td>0.85</td>\n      <td>0.05</td>\n      <td>6.25</td>\n      <td>0.85</td>\n      <td>12,171</td>\n      <td>-</td>\n      <td>-</td>\n      <td>1.70</td>\n      <td>0.40</td>\n    </tr>\n    <tr>\n      <th>1426</th>\n      <td>EXCEL</td>\n      <td>0.40</td>\n      <td>0.40</td>\n      <td>-</td>\n      <td>-</td>\n      <td>0.40</td>\n      <td>7,34,006</td>\n      <td>0.03</td>\n      <td>-</td>\n      <td>0.70</td>\n      <td>0.30</td>\n    </tr>\n  </tbody>\n</table>\n<p>1721 rows × 11 columns</p>\n</div>"
     },
     "execution_count": 26,
     "metadata": {},
     "output_type": "execute_result"
    }
   ],
   "source": [
    "df.sort_values(by=\"PREV.CLOSE\",ascending=False)"
   ],
   "metadata": {
    "collapsed": false,
    "pycharm": {
     "name": "#%%\n"
    }
   }
  },
  {
   "cell_type": "code",
   "execution_count": 25,
   "outputs": [
    {
     "data": {
      "text/plain": "SYMBOL             0\nPREV.CLOSE         0\nIEP                0\nCHNG               0\n%CHNG              0\nFINAL              0\nFINALQUANTITY      0\nVALUE(₹Crores)     0\nFFMCAP(₹Crores)    0\nNM52WH             0\nNM52WL             0\ndtype: int64"
     },
     "execution_count": 25,
     "metadata": {},
     "output_type": "execute_result"
    }
   ],
   "source": [
    "df.isnull().sum()"
   ],
   "metadata": {
    "collapsed": false,
    "pycharm": {
     "name": "#%%\n"
    }
   }
  },
  {
   "cell_type": "code",
   "execution_count": 28,
   "outputs": [],
   "source": [
    "df.drop(columns=\"FFMCAP(₹Crores)\",axis=1,inplace=True)"
   ],
   "metadata": {
    "collapsed": false,
    "pycharm": {
     "name": "#%%\n"
    }
   }
  },
  {
   "cell_type": "code",
   "execution_count": 29,
   "outputs": [
    {
     "data": {
      "text/plain": "       SYMBOL PREV.CLOSE     IEP    CHNG  %CHNG   FINAL FINALQUANTITY  \\\n0  ORCHPHARMA     566.10  674.00  107.90  19.06  674.00        24,033   \n1  BALKRISHNA      37.65   43.60    5.95  15.80   43.60        38,125   \n2      AAKASH      10.65   11.95    1.30  12.21   11.95      1,94,928   \n3  NAGREEKEXP      70.30   77.85    7.55  10.74   77.85        54,365   \n4     ARSHIYA       4.85    5.30    0.45   9.28    5.30        41,511   \n\n  VALUE(₹Crores)  NM52WH  NM52WL  \n0           1.62  634.80  332.75  \n1           0.17   50.80   23.45  \n2           0.23   10.65    5.70  \n3           0.42   70.30   28.30  \n4           0.02   11.00    3.45  ",
      "text/html": "<div>\n<style scoped>\n    .dataframe tbody tr th:only-of-type {\n        vertical-align: middle;\n    }\n\n    .dataframe tbody tr th {\n        vertical-align: top;\n    }\n\n    .dataframe thead th {\n        text-align: right;\n    }\n</style>\n<table border=\"1\" class=\"dataframe\">\n  <thead>\n    <tr style=\"text-align: right;\">\n      <th></th>\n      <th>SYMBOL</th>\n      <th>PREV.CLOSE</th>\n      <th>IEP</th>\n      <th>CHNG</th>\n      <th>%CHNG</th>\n      <th>FINAL</th>\n      <th>FINALQUANTITY</th>\n      <th>VALUE(₹Crores)</th>\n      <th>NM52WH</th>\n      <th>NM52WL</th>\n    </tr>\n  </thead>\n  <tbody>\n    <tr>\n      <th>0</th>\n      <td>ORCHPHARMA</td>\n      <td>566.10</td>\n      <td>674.00</td>\n      <td>107.90</td>\n      <td>19.06</td>\n      <td>674.00</td>\n      <td>24,033</td>\n      <td>1.62</td>\n      <td>634.80</td>\n      <td>332.75</td>\n    </tr>\n    <tr>\n      <th>1</th>\n      <td>BALKRISHNA</td>\n      <td>37.65</td>\n      <td>43.60</td>\n      <td>5.95</td>\n      <td>15.80</td>\n      <td>43.60</td>\n      <td>38,125</td>\n      <td>0.17</td>\n      <td>50.80</td>\n      <td>23.45</td>\n    </tr>\n    <tr>\n      <th>2</th>\n      <td>AAKASH</td>\n      <td>10.65</td>\n      <td>11.95</td>\n      <td>1.30</td>\n      <td>12.21</td>\n      <td>11.95</td>\n      <td>1,94,928</td>\n      <td>0.23</td>\n      <td>10.65</td>\n      <td>5.70</td>\n    </tr>\n    <tr>\n      <th>3</th>\n      <td>NAGREEKEXP</td>\n      <td>70.30</td>\n      <td>77.85</td>\n      <td>7.55</td>\n      <td>10.74</td>\n      <td>77.85</td>\n      <td>54,365</td>\n      <td>0.42</td>\n      <td>70.30</td>\n      <td>28.30</td>\n    </tr>\n    <tr>\n      <th>4</th>\n      <td>ARSHIYA</td>\n      <td>4.85</td>\n      <td>5.30</td>\n      <td>0.45</td>\n      <td>9.28</td>\n      <td>5.30</td>\n      <td>41,511</td>\n      <td>0.02</td>\n      <td>11.00</td>\n      <td>3.45</td>\n    </tr>\n  </tbody>\n</table>\n</div>"
     },
     "execution_count": 29,
     "metadata": {},
     "output_type": "execute_result"
    }
   ],
   "source": [
    "df.head(5)"
   ],
   "metadata": {
    "collapsed": false,
    "pycharm": {
     "name": "#%%\n"
    }
   }
  },
  {
   "cell_type": "code",
   "execution_count": 30,
   "outputs": [
    {
     "data": {
      "text/plain": "         SYMBOL PREV.CLOSE       IEP   CHNG  %CHNG     FINAL FINALQUANTITY  \\\n238      NETWEB     999.70  1,015.00  15.30   1.53  1,015.00           719   \n1597  ICICIBANK     999.00    994.50  -4.50  -0.45    994.50        81,768   \n1405    GROBTEA     996.80    996.80      -      -    996.80           101   \n503        TEGA     996.35  1,004.50   8.15   0.82  1,004.50            26   \n585    SPANDANA     991.00    997.95   6.95   0.70    997.95            44   \n...         ...        ...       ...    ...    ...       ...           ...   \n1430  SETUINFRA       0.90      0.95      -      -         -             -   \n1718    VIVIDHA       0.90      0.85  -0.05  -5.56      0.85         8,640   \n1439    SITINET       0.85      0.85      -      -      0.85        38,926   \n10    FCONSUMER       0.80      0.85   0.05   6.25      0.85        12,171   \n1426      EXCEL       0.40      0.40      -      -      0.40      7,34,006   \n\n     VALUE(₹Crores)    NM52WH  NM52WL  \n238            0.07  1,020.00  738.60  \n1597           8.13  1,016.25  796.00  \n1405           0.01  1,044.90  669.90  \n503               -  1,110.00  532.00  \n585               -  1,070.45  470.00  \n...             ...       ...     ...  \n1430              -      1.90    0.55  \n1718              -      1.50    0.75  \n1439              -      2.65    0.60  \n10                -      1.70    0.40  \n1426           0.03      0.70    0.30  \n\n[1721 rows x 10 columns]",
      "text/html": "<div>\n<style scoped>\n    .dataframe tbody tr th:only-of-type {\n        vertical-align: middle;\n    }\n\n    .dataframe tbody tr th {\n        vertical-align: top;\n    }\n\n    .dataframe thead th {\n        text-align: right;\n    }\n</style>\n<table border=\"1\" class=\"dataframe\">\n  <thead>\n    <tr style=\"text-align: right;\">\n      <th></th>\n      <th>SYMBOL</th>\n      <th>PREV.CLOSE</th>\n      <th>IEP</th>\n      <th>CHNG</th>\n      <th>%CHNG</th>\n      <th>FINAL</th>\n      <th>FINALQUANTITY</th>\n      <th>VALUE(₹Crores)</th>\n      <th>NM52WH</th>\n      <th>NM52WL</th>\n    </tr>\n  </thead>\n  <tbody>\n    <tr>\n      <th>238</th>\n      <td>NETWEB</td>\n      <td>999.70</td>\n      <td>1,015.00</td>\n      <td>15.30</td>\n      <td>1.53</td>\n      <td>1,015.00</td>\n      <td>719</td>\n      <td>0.07</td>\n      <td>1,020.00</td>\n      <td>738.60</td>\n    </tr>\n    <tr>\n      <th>1597</th>\n      <td>ICICIBANK</td>\n      <td>999.00</td>\n      <td>994.50</td>\n      <td>-4.50</td>\n      <td>-0.45</td>\n      <td>994.50</td>\n      <td>81,768</td>\n      <td>8.13</td>\n      <td>1,016.25</td>\n      <td>796.00</td>\n    </tr>\n    <tr>\n      <th>1405</th>\n      <td>GROBTEA</td>\n      <td>996.80</td>\n      <td>996.80</td>\n      <td>-</td>\n      <td>-</td>\n      <td>996.80</td>\n      <td>101</td>\n      <td>0.01</td>\n      <td>1,044.90</td>\n      <td>669.90</td>\n    </tr>\n    <tr>\n      <th>503</th>\n      <td>TEGA</td>\n      <td>996.35</td>\n      <td>1,004.50</td>\n      <td>8.15</td>\n      <td>0.82</td>\n      <td>1,004.50</td>\n      <td>26</td>\n      <td>-</td>\n      <td>1,110.00</td>\n      <td>532.00</td>\n    </tr>\n    <tr>\n      <th>585</th>\n      <td>SPANDANA</td>\n      <td>991.00</td>\n      <td>997.95</td>\n      <td>6.95</td>\n      <td>0.70</td>\n      <td>997.95</td>\n      <td>44</td>\n      <td>-</td>\n      <td>1,070.45</td>\n      <td>470.00</td>\n    </tr>\n    <tr>\n      <th>...</th>\n      <td>...</td>\n      <td>...</td>\n      <td>...</td>\n      <td>...</td>\n      <td>...</td>\n      <td>...</td>\n      <td>...</td>\n      <td>...</td>\n      <td>...</td>\n      <td>...</td>\n    </tr>\n    <tr>\n      <th>1430</th>\n      <td>SETUINFRA</td>\n      <td>0.90</td>\n      <td>0.95</td>\n      <td>-</td>\n      <td>-</td>\n      <td>-</td>\n      <td>-</td>\n      <td>-</td>\n      <td>1.90</td>\n      <td>0.55</td>\n    </tr>\n    <tr>\n      <th>1718</th>\n      <td>VIVIDHA</td>\n      <td>0.90</td>\n      <td>0.85</td>\n      <td>-0.05</td>\n      <td>-5.56</td>\n      <td>0.85</td>\n      <td>8,640</td>\n      <td>-</td>\n      <td>1.50</td>\n      <td>0.75</td>\n    </tr>\n    <tr>\n      <th>1439</th>\n      <td>SITINET</td>\n      <td>0.85</td>\n      <td>0.85</td>\n      <td>-</td>\n      <td>-</td>\n      <td>0.85</td>\n      <td>38,926</td>\n      <td>-</td>\n      <td>2.65</td>\n      <td>0.60</td>\n    </tr>\n    <tr>\n      <th>10</th>\n      <td>FCONSUMER</td>\n      <td>0.80</td>\n      <td>0.85</td>\n      <td>0.05</td>\n      <td>6.25</td>\n      <td>0.85</td>\n      <td>12,171</td>\n      <td>-</td>\n      <td>1.70</td>\n      <td>0.40</td>\n    </tr>\n    <tr>\n      <th>1426</th>\n      <td>EXCEL</td>\n      <td>0.40</td>\n      <td>0.40</td>\n      <td>-</td>\n      <td>-</td>\n      <td>0.40</td>\n      <td>7,34,006</td>\n      <td>0.03</td>\n      <td>0.70</td>\n      <td>0.30</td>\n    </tr>\n  </tbody>\n</table>\n<p>1721 rows × 10 columns</p>\n</div>"
     },
     "execution_count": 30,
     "metadata": {},
     "output_type": "execute_result"
    }
   ],
   "source": [
    "df.sort_values(by=\"PREV.CLOSE\",ascending=False)"
   ],
   "metadata": {
    "collapsed": false,
    "pycharm": {
     "name": "#%%\n"
    }
   }
  },
  {
   "cell_type": "code",
   "execution_count": 31,
   "outputs": [
    {
     "data": {
      "text/plain": "SYMBOL            1721\nPREV.CLOSE        1721\nIEP               1721\nCHNG              1721\n%CHNG             1721\nFINAL             1721\nFINALQUANTITY     1721\nVALUE(₹Crores)    1721\nNM52WH            1721\nNM52WL            1721\ndtype: int64"
     },
     "execution_count": 31,
     "metadata": {},
     "output_type": "execute_result"
    }
   ],
   "source": [
    "df.count()"
   ],
   "metadata": {
    "collapsed": false,
    "pycharm": {
     "name": "#%%\n"
    }
   }
  },
  {
   "cell_type": "code",
   "execution_count": 32,
   "outputs": [
    {
     "data": {
      "text/plain": "SYMBOL            0\nPREV.CLOSE        0\nIEP               0\nCHNG              0\n%CHNG             0\nFINAL             0\nFINALQUANTITY     0\nVALUE(₹Crores)    0\nNM52WH            0\nNM52WL            0\ndtype: int64"
     },
     "execution_count": 32,
     "metadata": {},
     "output_type": "execute_result"
    }
   ],
   "source": [
    "df.isnull().sum()"
   ],
   "metadata": {
    "collapsed": false,
    "pycharm": {
     "name": "#%%\n"
    }
   }
  },
  {
   "cell_type": "code",
   "execution_count": 33,
   "outputs": [
    {
     "data": {
      "text/plain": "SYMBOL            0\nPREV.CLOSE        0\nIEP               0\nCHNG              0\n%CHNG             0\nFINAL             0\nFINALQUANTITY     0\nVALUE(₹Crores)    0\nNM52WH            0\nNM52WL            0\ndtype: int64"
     },
     "execution_count": 33,
     "metadata": {},
     "output_type": "execute_result"
    }
   ],
   "source": [
    "df.isna().sum()"
   ],
   "metadata": {
    "collapsed": false,
    "pycharm": {
     "name": "#%%\n"
    }
   }
  },
  {
   "cell_type": "code",
   "execution_count": 34,
   "outputs": [
    {
     "data": {
      "text/plain": "SYMBOL            object\nPREV.CLOSE        object\nIEP               object\nCHNG              object\n%CHNG             object\nFINAL             object\nFINALQUANTITY     object\nVALUE(₹Crores)    object\nNM52WH            object\nNM52WL            object\ndtype: object"
     },
     "execution_count": 34,
     "metadata": {},
     "output_type": "execute_result"
    }
   ],
   "source": [
    "df.dtypes"
   ],
   "metadata": {
    "collapsed": false,
    "pycharm": {
     "name": "#%%\n"
    }
   }
  },
  {
   "cell_type": "code",
   "execution_count": 55,
   "outputs": [
    {
     "ename": "TypeError",
     "evalue": "float() argument must be a string or a real number, not 'method'",
     "output_type": "error",
     "traceback": [
      "\u001B[1;31m---------------------------------------------------------------------------\u001B[0m",
      "\u001B[1;31mTypeError\u001B[0m                                 Traceback (most recent call last)",
      "Cell \u001B[1;32mIn[55], line 1\u001B[0m\n\u001B[1;32m----> 1\u001B[0m df[\u001B[38;5;124m\"\u001B[39m\u001B[38;5;124mPREV.CLOSE\u001B[39m\u001B[38;5;124m\"\u001B[39m]\u001B[38;5;241m=\u001B[39m\u001B[43mdf\u001B[49m\u001B[43m[\u001B[49m\u001B[38;5;124;43m\"\u001B[39;49m\u001B[38;5;124;43mPREV.CLOSE\u001B[39;49m\u001B[38;5;124;43m\"\u001B[39;49m\u001B[43m]\u001B[49m\u001B[38;5;241;43m.\u001B[39;49m\u001B[43mastype\u001B[49m\u001B[43m(\u001B[49m\u001B[38;5;124;43m\"\u001B[39;49m\u001B[38;5;124;43mfloat\u001B[39;49m\u001B[38;5;124;43m\"\u001B[39;49m\u001B[43m)\u001B[49m\n",
      "File \u001B[1;32m~\\AppData\\Roaming\\Python\\Python310\\site-packages\\pandas\\core\\generic.py:6324\u001B[0m, in \u001B[0;36mNDFrame.astype\u001B[1;34m(self, dtype, copy, errors)\u001B[0m\n\u001B[0;32m   6317\u001B[0m     results \u001B[38;5;241m=\u001B[39m [\n\u001B[0;32m   6318\u001B[0m         \u001B[38;5;28mself\u001B[39m\u001B[38;5;241m.\u001B[39miloc[:, i]\u001B[38;5;241m.\u001B[39mastype(dtype, copy\u001B[38;5;241m=\u001B[39mcopy)\n\u001B[0;32m   6319\u001B[0m         \u001B[38;5;28;01mfor\u001B[39;00m i \u001B[38;5;129;01min\u001B[39;00m \u001B[38;5;28mrange\u001B[39m(\u001B[38;5;28mlen\u001B[39m(\u001B[38;5;28mself\u001B[39m\u001B[38;5;241m.\u001B[39mcolumns))\n\u001B[0;32m   6320\u001B[0m     ]\n\u001B[0;32m   6322\u001B[0m \u001B[38;5;28;01melse\u001B[39;00m:\n\u001B[0;32m   6323\u001B[0m     \u001B[38;5;66;03m# else, only a single dtype is given\u001B[39;00m\n\u001B[1;32m-> 6324\u001B[0m     new_data \u001B[38;5;241m=\u001B[39m \u001B[38;5;28;43mself\u001B[39;49m\u001B[38;5;241;43m.\u001B[39;49m\u001B[43m_mgr\u001B[49m\u001B[38;5;241;43m.\u001B[39;49m\u001B[43mastype\u001B[49m\u001B[43m(\u001B[49m\u001B[43mdtype\u001B[49m\u001B[38;5;241;43m=\u001B[39;49m\u001B[43mdtype\u001B[49m\u001B[43m,\u001B[49m\u001B[43m \u001B[49m\u001B[43mcopy\u001B[49m\u001B[38;5;241;43m=\u001B[39;49m\u001B[43mcopy\u001B[49m\u001B[43m,\u001B[49m\u001B[43m \u001B[49m\u001B[43merrors\u001B[49m\u001B[38;5;241;43m=\u001B[39;49m\u001B[43merrors\u001B[49m\u001B[43m)\u001B[49m\n\u001B[0;32m   6325\u001B[0m     \u001B[38;5;28;01mreturn\u001B[39;00m \u001B[38;5;28mself\u001B[39m\u001B[38;5;241m.\u001B[39m_constructor(new_data)\u001B[38;5;241m.\u001B[39m__finalize__(\u001B[38;5;28mself\u001B[39m, method\u001B[38;5;241m=\u001B[39m\u001B[38;5;124m\"\u001B[39m\u001B[38;5;124mastype\u001B[39m\u001B[38;5;124m\"\u001B[39m)\n\u001B[0;32m   6327\u001B[0m \u001B[38;5;66;03m# GH 33113: handle empty frame or series\u001B[39;00m\n",
      "File \u001B[1;32m~\\AppData\\Roaming\\Python\\Python310\\site-packages\\pandas\\core\\internals\\managers.py:451\u001B[0m, in \u001B[0;36mBaseBlockManager.astype\u001B[1;34m(self, dtype, copy, errors)\u001B[0m\n\u001B[0;32m    448\u001B[0m \u001B[38;5;28;01melif\u001B[39;00m using_copy_on_write():\n\u001B[0;32m    449\u001B[0m     copy \u001B[38;5;241m=\u001B[39m \u001B[38;5;28;01mFalse\u001B[39;00m\n\u001B[1;32m--> 451\u001B[0m \u001B[38;5;28;01mreturn\u001B[39;00m \u001B[38;5;28;43mself\u001B[39;49m\u001B[38;5;241;43m.\u001B[39;49m\u001B[43mapply\u001B[49m\u001B[43m(\u001B[49m\n\u001B[0;32m    452\u001B[0m \u001B[43m    \u001B[49m\u001B[38;5;124;43m\"\u001B[39;49m\u001B[38;5;124;43mastype\u001B[39;49m\u001B[38;5;124;43m\"\u001B[39;49m\u001B[43m,\u001B[49m\n\u001B[0;32m    453\u001B[0m \u001B[43m    \u001B[49m\u001B[43mdtype\u001B[49m\u001B[38;5;241;43m=\u001B[39;49m\u001B[43mdtype\u001B[49m\u001B[43m,\u001B[49m\n\u001B[0;32m    454\u001B[0m \u001B[43m    \u001B[49m\u001B[43mcopy\u001B[49m\u001B[38;5;241;43m=\u001B[39;49m\u001B[43mcopy\u001B[49m\u001B[43m,\u001B[49m\n\u001B[0;32m    455\u001B[0m \u001B[43m    \u001B[49m\u001B[43merrors\u001B[49m\u001B[38;5;241;43m=\u001B[39;49m\u001B[43merrors\u001B[49m\u001B[43m,\u001B[49m\n\u001B[0;32m    456\u001B[0m \u001B[43m    \u001B[49m\u001B[43musing_cow\u001B[49m\u001B[38;5;241;43m=\u001B[39;49m\u001B[43musing_copy_on_write\u001B[49m\u001B[43m(\u001B[49m\u001B[43m)\u001B[49m\u001B[43m,\u001B[49m\n\u001B[0;32m    457\u001B[0m \u001B[43m\u001B[49m\u001B[43m)\u001B[49m\n",
      "File \u001B[1;32m~\\AppData\\Roaming\\Python\\Python310\\site-packages\\pandas\\core\\internals\\managers.py:352\u001B[0m, in \u001B[0;36mBaseBlockManager.apply\u001B[1;34m(self, f, align_keys, **kwargs)\u001B[0m\n\u001B[0;32m    350\u001B[0m         applied \u001B[38;5;241m=\u001B[39m b\u001B[38;5;241m.\u001B[39mapply(f, \u001B[38;5;241m*\u001B[39m\u001B[38;5;241m*\u001B[39mkwargs)\n\u001B[0;32m    351\u001B[0m     \u001B[38;5;28;01melse\u001B[39;00m:\n\u001B[1;32m--> 352\u001B[0m         applied \u001B[38;5;241m=\u001B[39m \u001B[38;5;28mgetattr\u001B[39m(b, f)(\u001B[38;5;241m*\u001B[39m\u001B[38;5;241m*\u001B[39mkwargs)\n\u001B[0;32m    353\u001B[0m     result_blocks \u001B[38;5;241m=\u001B[39m extend_blocks(applied, result_blocks)\n\u001B[0;32m    355\u001B[0m out \u001B[38;5;241m=\u001B[39m \u001B[38;5;28mtype\u001B[39m(\u001B[38;5;28mself\u001B[39m)\u001B[38;5;241m.\u001B[39mfrom_blocks(result_blocks, \u001B[38;5;28mself\u001B[39m\u001B[38;5;241m.\u001B[39maxes)\n",
      "File \u001B[1;32m~\\AppData\\Roaming\\Python\\Python310\\site-packages\\pandas\\core\\internals\\blocks.py:511\u001B[0m, in \u001B[0;36mBlock.astype\u001B[1;34m(self, dtype, copy, errors, using_cow)\u001B[0m\n\u001B[0;32m    491\u001B[0m \u001B[38;5;124;03m\"\"\"\u001B[39;00m\n\u001B[0;32m    492\u001B[0m \u001B[38;5;124;03mCoerce to the new dtype.\u001B[39;00m\n\u001B[0;32m    493\u001B[0m \n\u001B[1;32m   (...)\u001B[0m\n\u001B[0;32m    507\u001B[0m \u001B[38;5;124;03mBlock\u001B[39;00m\n\u001B[0;32m    508\u001B[0m \u001B[38;5;124;03m\"\"\"\u001B[39;00m\n\u001B[0;32m    509\u001B[0m values \u001B[38;5;241m=\u001B[39m \u001B[38;5;28mself\u001B[39m\u001B[38;5;241m.\u001B[39mvalues\n\u001B[1;32m--> 511\u001B[0m new_values \u001B[38;5;241m=\u001B[39m \u001B[43mastype_array_safe\u001B[49m\u001B[43m(\u001B[49m\u001B[43mvalues\u001B[49m\u001B[43m,\u001B[49m\u001B[43m \u001B[49m\u001B[43mdtype\u001B[49m\u001B[43m,\u001B[49m\u001B[43m \u001B[49m\u001B[43mcopy\u001B[49m\u001B[38;5;241;43m=\u001B[39;49m\u001B[43mcopy\u001B[49m\u001B[43m,\u001B[49m\u001B[43m \u001B[49m\u001B[43merrors\u001B[49m\u001B[38;5;241;43m=\u001B[39;49m\u001B[43merrors\u001B[49m\u001B[43m)\u001B[49m\n\u001B[0;32m    513\u001B[0m new_values \u001B[38;5;241m=\u001B[39m maybe_coerce_values(new_values)\n\u001B[0;32m    515\u001B[0m refs \u001B[38;5;241m=\u001B[39m \u001B[38;5;28;01mNone\u001B[39;00m\n",
      "File \u001B[1;32m~\\AppData\\Roaming\\Python\\Python310\\site-packages\\pandas\\core\\dtypes\\astype.py:242\u001B[0m, in \u001B[0;36mastype_array_safe\u001B[1;34m(values, dtype, copy, errors)\u001B[0m\n\u001B[0;32m    239\u001B[0m     dtype \u001B[38;5;241m=\u001B[39m dtype\u001B[38;5;241m.\u001B[39mnumpy_dtype\n\u001B[0;32m    241\u001B[0m \u001B[38;5;28;01mtry\u001B[39;00m:\n\u001B[1;32m--> 242\u001B[0m     new_values \u001B[38;5;241m=\u001B[39m \u001B[43mastype_array\u001B[49m\u001B[43m(\u001B[49m\u001B[43mvalues\u001B[49m\u001B[43m,\u001B[49m\u001B[43m \u001B[49m\u001B[43mdtype\u001B[49m\u001B[43m,\u001B[49m\u001B[43m \u001B[49m\u001B[43mcopy\u001B[49m\u001B[38;5;241;43m=\u001B[39;49m\u001B[43mcopy\u001B[49m\u001B[43m)\u001B[49m\n\u001B[0;32m    243\u001B[0m \u001B[38;5;28;01mexcept\u001B[39;00m (\u001B[38;5;167;01mValueError\u001B[39;00m, \u001B[38;5;167;01mTypeError\u001B[39;00m):\n\u001B[0;32m    244\u001B[0m     \u001B[38;5;66;03m# e.g. _astype_nansafe can fail on object-dtype of strings\u001B[39;00m\n\u001B[0;32m    245\u001B[0m     \u001B[38;5;66;03m#  trying to convert to float\u001B[39;00m\n\u001B[0;32m    246\u001B[0m     \u001B[38;5;28;01mif\u001B[39;00m errors \u001B[38;5;241m==\u001B[39m \u001B[38;5;124m\"\u001B[39m\u001B[38;5;124mignore\u001B[39m\u001B[38;5;124m\"\u001B[39m:\n",
      "File \u001B[1;32m~\\AppData\\Roaming\\Python\\Python310\\site-packages\\pandas\\core\\dtypes\\astype.py:187\u001B[0m, in \u001B[0;36mastype_array\u001B[1;34m(values, dtype, copy)\u001B[0m\n\u001B[0;32m    184\u001B[0m     values \u001B[38;5;241m=\u001B[39m values\u001B[38;5;241m.\u001B[39mastype(dtype, copy\u001B[38;5;241m=\u001B[39mcopy)\n\u001B[0;32m    186\u001B[0m \u001B[38;5;28;01melse\u001B[39;00m:\n\u001B[1;32m--> 187\u001B[0m     values \u001B[38;5;241m=\u001B[39m \u001B[43m_astype_nansafe\u001B[49m\u001B[43m(\u001B[49m\u001B[43mvalues\u001B[49m\u001B[43m,\u001B[49m\u001B[43m \u001B[49m\u001B[43mdtype\u001B[49m\u001B[43m,\u001B[49m\u001B[43m \u001B[49m\u001B[43mcopy\u001B[49m\u001B[38;5;241;43m=\u001B[39;49m\u001B[43mcopy\u001B[49m\u001B[43m)\u001B[49m\n\u001B[0;32m    189\u001B[0m \u001B[38;5;66;03m# in pandas we don't store numpy str dtypes, so convert to object\u001B[39;00m\n\u001B[0;32m    190\u001B[0m \u001B[38;5;28;01mif\u001B[39;00m \u001B[38;5;28misinstance\u001B[39m(dtype, np\u001B[38;5;241m.\u001B[39mdtype) \u001B[38;5;129;01mand\u001B[39;00m \u001B[38;5;28missubclass\u001B[39m(values\u001B[38;5;241m.\u001B[39mdtype\u001B[38;5;241m.\u001B[39mtype, \u001B[38;5;28mstr\u001B[39m):\n",
      "File \u001B[1;32m~\\AppData\\Roaming\\Python\\Python310\\site-packages\\pandas\\core\\dtypes\\astype.py:138\u001B[0m, in \u001B[0;36m_astype_nansafe\u001B[1;34m(arr, dtype, copy, skipna)\u001B[0m\n\u001B[0;32m    134\u001B[0m     \u001B[38;5;28;01mraise\u001B[39;00m \u001B[38;5;167;01mValueError\u001B[39;00m(msg)\n\u001B[0;32m    136\u001B[0m \u001B[38;5;28;01mif\u001B[39;00m copy \u001B[38;5;129;01mor\u001B[39;00m is_object_dtype(arr\u001B[38;5;241m.\u001B[39mdtype) \u001B[38;5;129;01mor\u001B[39;00m is_object_dtype(dtype):\n\u001B[0;32m    137\u001B[0m     \u001B[38;5;66;03m# Explicit copy, or required since NumPy can't view from / to object.\u001B[39;00m\n\u001B[1;32m--> 138\u001B[0m     \u001B[38;5;28;01mreturn\u001B[39;00m \u001B[43marr\u001B[49m\u001B[38;5;241;43m.\u001B[39;49m\u001B[43mastype\u001B[49m\u001B[43m(\u001B[49m\u001B[43mdtype\u001B[49m\u001B[43m,\u001B[49m\u001B[43m \u001B[49m\u001B[43mcopy\u001B[49m\u001B[38;5;241;43m=\u001B[39;49m\u001B[38;5;28;43;01mTrue\u001B[39;49;00m\u001B[43m)\u001B[49m\n\u001B[0;32m    140\u001B[0m \u001B[38;5;28;01mreturn\u001B[39;00m arr\u001B[38;5;241m.\u001B[39mastype(dtype, copy\u001B[38;5;241m=\u001B[39mcopy)\n",
      "\u001B[1;31mTypeError\u001B[0m: float() argument must be a string or a real number, not 'method'"
     ]
    }
   ],
   "source": [
    "df[\"PREV.CLOSE\"]=df[\"PREV.CLOSE\"].astype(\"float\")"
   ],
   "metadata": {
    "collapsed": false,
    "pycharm": {
     "name": "#%%\n"
    }
   }
  },
  {
   "cell_type": "code",
   "execution_count": 56,
   "outputs": [
    {
     "data": {
      "text/plain": "SYMBOL            object\nPREV.CLOSE        object\nIEP               object\nCHNG              object\n%CHNG             object\nFINAL             object\nFINALQUANTITY     object\nVALUE(₹Crores)    object\nNM52WH            object\nNM52WL            object\ndtype: object"
     },
     "execution_count": 56,
     "metadata": {},
     "output_type": "execute_result"
    }
   ],
   "source": [
    "df.dtypes"
   ],
   "metadata": {
    "collapsed": false,
    "pycharm": {
     "name": "#%%\n"
    }
   }
  },
  {
   "cell_type": "code",
   "execution_count": 57,
   "outputs": [
    {
     "data": {
      "text/plain": "          SYMBOL                                         PREV.CLOSE     IEP  \\\n0     ORCHPHARMA  <bound method _coerce_method.<locals>.wrapper ...  674.00   \n1     BALKRISHNA  <bound method _coerce_method.<locals>.wrapper ...   43.60   \n2         AAKASH  <bound method _coerce_method.<locals>.wrapper ...   11.95   \n3     NAGREEKEXP  <bound method _coerce_method.<locals>.wrapper ...   77.85   \n4        ARSHIYA  <bound method _coerce_method.<locals>.wrapper ...    5.30   \n...          ...                                                ...     ...   \n1716  ANTGRAPHIC  <bound method _coerce_method.<locals>.wrapper ...    0.90   \n1717     PRAJIND  <bound method _coerce_method.<locals>.wrapper ...  575.00   \n1718     VIVIDHA  <bound method _coerce_method.<locals>.wrapper ...    0.85   \n1719   BAJAJHIND  <bound method _coerce_method.<locals>.wrapper ...   27.45   \n1720      RENUKA  <bound method _coerce_method.<locals>.wrapper ...   45.00   \n\n        CHNG  %CHNG   FINAL FINALQUANTITY VALUE(₹Crores)  NM52WH  NM52WL  \n0     107.90  19.06  674.00        24,033           1.62  634.80  332.75  \n1       5.95  15.80   43.60        38,125           0.17   50.80   23.45  \n2       1.30  12.21   11.95      1,94,928           0.23   10.65    5.70  \n3       7.55  10.74   77.85        54,365           0.42   70.30   28.30  \n4       0.45   9.28    5.30        41,511           0.02   11.00    3.45  \n...      ...    ...     ...           ...            ...     ...     ...  \n1716   -0.05  -5.26    0.90        60,511           0.01    1.30    0.55  \n1717  -32.50  -5.35  575.00        36,322           2.09  650.50  298.65  \n1718   -0.05  -5.56    0.85         8,640              -    1.50    0.75  \n1719   -1.70  -5.83   27.45     10,98,275           3.01   35.85   11.45  \n1720   -2.90  -6.05   45.00      5,36,175           2.41   65.60   39.40  \n\n[1721 rows x 10 columns]",
      "text/html": "<div>\n<style scoped>\n    .dataframe tbody tr th:only-of-type {\n        vertical-align: middle;\n    }\n\n    .dataframe tbody tr th {\n        vertical-align: top;\n    }\n\n    .dataframe thead th {\n        text-align: right;\n    }\n</style>\n<table border=\"1\" class=\"dataframe\">\n  <thead>\n    <tr style=\"text-align: right;\">\n      <th></th>\n      <th>SYMBOL</th>\n      <th>PREV.CLOSE</th>\n      <th>IEP</th>\n      <th>CHNG</th>\n      <th>%CHNG</th>\n      <th>FINAL</th>\n      <th>FINALQUANTITY</th>\n      <th>VALUE(₹Crores)</th>\n      <th>NM52WH</th>\n      <th>NM52WL</th>\n    </tr>\n  </thead>\n  <tbody>\n    <tr>\n      <th>0</th>\n      <td>ORCHPHARMA</td>\n      <td>&lt;bound method _coerce_method.&lt;locals&gt;.wrapper ...</td>\n      <td>674.00</td>\n      <td>107.90</td>\n      <td>19.06</td>\n      <td>674.00</td>\n      <td>24,033</td>\n      <td>1.62</td>\n      <td>634.80</td>\n      <td>332.75</td>\n    </tr>\n    <tr>\n      <th>1</th>\n      <td>BALKRISHNA</td>\n      <td>&lt;bound method _coerce_method.&lt;locals&gt;.wrapper ...</td>\n      <td>43.60</td>\n      <td>5.95</td>\n      <td>15.80</td>\n      <td>43.60</td>\n      <td>38,125</td>\n      <td>0.17</td>\n      <td>50.80</td>\n      <td>23.45</td>\n    </tr>\n    <tr>\n      <th>2</th>\n      <td>AAKASH</td>\n      <td>&lt;bound method _coerce_method.&lt;locals&gt;.wrapper ...</td>\n      <td>11.95</td>\n      <td>1.30</td>\n      <td>12.21</td>\n      <td>11.95</td>\n      <td>1,94,928</td>\n      <td>0.23</td>\n      <td>10.65</td>\n      <td>5.70</td>\n    </tr>\n    <tr>\n      <th>3</th>\n      <td>NAGREEKEXP</td>\n      <td>&lt;bound method _coerce_method.&lt;locals&gt;.wrapper ...</td>\n      <td>77.85</td>\n      <td>7.55</td>\n      <td>10.74</td>\n      <td>77.85</td>\n      <td>54,365</td>\n      <td>0.42</td>\n      <td>70.30</td>\n      <td>28.30</td>\n    </tr>\n    <tr>\n      <th>4</th>\n      <td>ARSHIYA</td>\n      <td>&lt;bound method _coerce_method.&lt;locals&gt;.wrapper ...</td>\n      <td>5.30</td>\n      <td>0.45</td>\n      <td>9.28</td>\n      <td>5.30</td>\n      <td>41,511</td>\n      <td>0.02</td>\n      <td>11.00</td>\n      <td>3.45</td>\n    </tr>\n    <tr>\n      <th>...</th>\n      <td>...</td>\n      <td>...</td>\n      <td>...</td>\n      <td>...</td>\n      <td>...</td>\n      <td>...</td>\n      <td>...</td>\n      <td>...</td>\n      <td>...</td>\n      <td>...</td>\n    </tr>\n    <tr>\n      <th>1716</th>\n      <td>ANTGRAPHIC</td>\n      <td>&lt;bound method _coerce_method.&lt;locals&gt;.wrapper ...</td>\n      <td>0.90</td>\n      <td>-0.05</td>\n      <td>-5.26</td>\n      <td>0.90</td>\n      <td>60,511</td>\n      <td>0.01</td>\n      <td>1.30</td>\n      <td>0.55</td>\n    </tr>\n    <tr>\n      <th>1717</th>\n      <td>PRAJIND</td>\n      <td>&lt;bound method _coerce_method.&lt;locals&gt;.wrapper ...</td>\n      <td>575.00</td>\n      <td>-32.50</td>\n      <td>-5.35</td>\n      <td>575.00</td>\n      <td>36,322</td>\n      <td>2.09</td>\n      <td>650.50</td>\n      <td>298.65</td>\n    </tr>\n    <tr>\n      <th>1718</th>\n      <td>VIVIDHA</td>\n      <td>&lt;bound method _coerce_method.&lt;locals&gt;.wrapper ...</td>\n      <td>0.85</td>\n      <td>-0.05</td>\n      <td>-5.56</td>\n      <td>0.85</td>\n      <td>8,640</td>\n      <td>-</td>\n      <td>1.50</td>\n      <td>0.75</td>\n    </tr>\n    <tr>\n      <th>1719</th>\n      <td>BAJAJHIND</td>\n      <td>&lt;bound method _coerce_method.&lt;locals&gt;.wrapper ...</td>\n      <td>27.45</td>\n      <td>-1.70</td>\n      <td>-5.83</td>\n      <td>27.45</td>\n      <td>10,98,275</td>\n      <td>3.01</td>\n      <td>35.85</td>\n      <td>11.45</td>\n    </tr>\n    <tr>\n      <th>1720</th>\n      <td>RENUKA</td>\n      <td>&lt;bound method _coerce_method.&lt;locals&gt;.wrapper ...</td>\n      <td>45.00</td>\n      <td>-2.90</td>\n      <td>-6.05</td>\n      <td>45.00</td>\n      <td>5,36,175</td>\n      <td>2.41</td>\n      <td>65.60</td>\n      <td>39.40</td>\n    </tr>\n  </tbody>\n</table>\n<p>1721 rows × 10 columns</p>\n</div>"
     },
     "execution_count": 57,
     "metadata": {},
     "output_type": "execute_result"
    }
   ],
   "source": [
    "df"
   ],
   "metadata": {
    "collapsed": false,
    "pycharm": {
     "name": "#%%\n"
    }
   }
  },
  {
   "cell_type": "code",
   "execution_count": 54,
   "outputs": [
    {
     "ename": "TypeError",
     "evalue": "object of type 'method' has no len()",
     "output_type": "error",
     "traceback": [
      "\u001B[1;31m---------------------------------------------------------------------------\u001B[0m",
      "\u001B[1;31mTypeError\u001B[0m                                 Traceback (most recent call last)",
      "Cell \u001B[1;32mIn[54], line 1\u001B[0m\n\u001B[1;32m----> 1\u001B[0m \u001B[38;5;28;43mlen\u001B[39;49m\u001B[43m(\u001B[49m\u001B[43mdf\u001B[49m\u001B[43m[\u001B[49m\u001B[38;5;124;43m\"\u001B[39;49m\u001B[38;5;124;43mPREV.CLOSE\u001B[39;49m\u001B[38;5;124;43m\"\u001B[39;49m\u001B[43m]\u001B[49m\u001B[43m[\u001B[49m\u001B[38;5;241;43m0\u001B[39;49m\u001B[43m]\u001B[49m\u001B[43m)\u001B[49m\n",
      "\u001B[1;31mTypeError\u001B[0m: object of type 'method' has no len()"
     ]
    }
   ],
   "source": [
    "len(df[\"PREV.CLOSE\"][0])"
   ],
   "metadata": {
    "collapsed": false,
    "pycharm": {
     "name": "#%%\n"
    }
   }
  },
  {
   "cell_type": "code",
   "execution_count": 58,
   "outputs": [],
   "source": [
    "a=\"avijit biswas\""
   ],
   "metadata": {
    "collapsed": false,
    "pycharm": {
     "name": "#%%\n"
    }
   }
  },
  {
   "cell_type": "code",
   "execution_count": 59,
   "outputs": [
    {
     "data": {
      "text/plain": "['avijit', 'biswas']"
     },
     "execution_count": 59,
     "metadata": {},
     "output_type": "execute_result"
    }
   ],
   "source": [
    "a.split(\" \")"
   ],
   "metadata": {
    "collapsed": false,
    "pycharm": {
     "name": "#%%\n"
    }
   }
  },
  {
   "cell_type": "code",
   "execution_count": 60,
   "outputs": [
    {
     "ename": "NameError",
     "evalue": "name 'dtype' is not defined",
     "output_type": "error",
     "traceback": [
      "\u001B[1;31m---------------------------------------------------------------------------\u001B[0m",
      "\u001B[1;31mNameError\u001B[0m                                 Traceback (most recent call last)",
      "Cell \u001B[1;32mIn[60], line 1\u001B[0m\n\u001B[1;32m----> 1\u001B[0m \u001B[43mdtype\u001B[49m\n",
      "\u001B[1;31mNameError\u001B[0m: name 'dtype' is not defined"
     ]
    }
   ],
   "source": [
    "dtype"
   ],
   "metadata": {
    "collapsed": false,
    "pycharm": {
     "name": "#%%\n"
    }
   }
  },
  {
   "cell_type": "code",
   "execution_count": 61,
   "outputs": [],
   "source": [
    "import numpy as np"
   ],
   "metadata": {
    "collapsed": false,
    "pycharm": {
     "name": "#%%\n"
    }
   }
  },
  {
   "cell_type": "code",
   "execution_count": 62,
   "outputs": [],
   "source": [
    "import seaborn as sns\n",
    "import matplotlib.pyplot as plt"
   ],
   "metadata": {
    "collapsed": false,
    "pycharm": {
     "name": "#%%\n"
    }
   }
  },
  {
   "cell_type": "code",
   "execution_count": 69,
   "outputs": [
    {
     "ename": "AttributeError",
     "evalue": "'function' object has no attribute 'replace'",
     "output_type": "error",
     "traceback": [
      "\u001B[1;31m---------------------------------------------------------------------------\u001B[0m",
      "\u001B[1;31mAttributeError\u001B[0m                            Traceback (most recent call last)",
      "Cell \u001B[1;32mIn[69], line 1\u001B[0m\n\u001B[1;32m----> 1\u001B[0m \u001B[43mdf\u001B[49m\u001B[43m[\u001B[49m\u001B[38;5;124;43m\"\u001B[39;49m\u001B[38;5;124;43mPREV.CLOSE\u001B[39;49m\u001B[38;5;124;43m\"\u001B[39;49m\u001B[43m]\u001B[49m\u001B[43m[\u001B[49m\u001B[38;5;241;43m0\u001B[39;49m\u001B[43m]\u001B[49m\u001B[38;5;241;43m.\u001B[39;49m\u001B[43mreplace\u001B[49m(\u001B[38;5;124m\"\u001B[39m\u001B[38;5;130;01m\\n\u001B[39;00m\u001B[38;5;124m\"\u001B[39m,\u001B[38;5;124m\"\u001B[39m\u001B[38;5;124m\"\u001B[39m)\n",
      "\u001B[1;31mAttributeError\u001B[0m: 'function' object has no attribute 'replace'"
     ]
    }
   ],
   "source": [
    "df[\"PREV.CLOSE\"][0].replace(\"\\n\",\"\")"
   ],
   "metadata": {
    "collapsed": false,
    "pycharm": {
     "name": "#%%\n"
    }
   }
  },
  {
   "cell_type": "code",
   "execution_count": 70,
   "outputs": [
    {
     "data": {
      "text/plain": "<bound method _coerce_method.<locals>.wrapper of 0       566.10\n1        37.65\n2        10.65\n3        70.30\n4         4.85\n         ...  \n1716      0.95\n1717    607.50\n1718      0.90\n1719     29.15\n1720     47.90\nName: PREV.CLOSE, Length: 1721, dtype: object>"
     },
     "execution_count": 70,
     "metadata": {},
     "output_type": "execute_result"
    }
   ],
   "source": [
    "df[\"PREV.CLOSE\"][0]"
   ],
   "metadata": {
    "collapsed": false,
    "pycharm": {
     "name": "#%%\n"
    }
   }
  },
  {
   "cell_type": "code",
   "execution_count": 76,
   "outputs": [],
   "source": [
    "df[\"IEP\"].replace(\",\",\"\", inplace=True)"
   ],
   "metadata": {
    "collapsed": false,
    "pycharm": {
     "name": "#%%\n"
    }
   }
  },
  {
   "cell_type": "code",
   "execution_count": 78,
   "outputs": [
    {
     "ename": "ValueError",
     "evalue": "could not convert string to float: '1,230.00'",
     "output_type": "error",
     "traceback": [
      "\u001B[1;31m---------------------------------------------------------------------------\u001B[0m",
      "\u001B[1;31mValueError\u001B[0m                                Traceback (most recent call last)",
      "Cell \u001B[1;32mIn[78], line 1\u001B[0m\n\u001B[1;32m----> 1\u001B[0m \u001B[43mdf\u001B[49m\u001B[43m[\u001B[49m\u001B[38;5;124;43m\"\u001B[39;49m\u001B[38;5;124;43mIEP\u001B[39;49m\u001B[38;5;124;43m\"\u001B[39;49m\u001B[43m]\u001B[49m\u001B[38;5;241;43m.\u001B[39;49m\u001B[43mastype\u001B[49m\u001B[43m(\u001B[49m\u001B[38;5;124;43m\"\u001B[39;49m\u001B[38;5;124;43mfloat\u001B[39;49m\u001B[38;5;124;43m\"\u001B[39;49m\u001B[43m)\u001B[49m\n",
      "File \u001B[1;32m~\\AppData\\Roaming\\Python\\Python310\\site-packages\\pandas\\core\\generic.py:6324\u001B[0m, in \u001B[0;36mNDFrame.astype\u001B[1;34m(self, dtype, copy, errors)\u001B[0m\n\u001B[0;32m   6317\u001B[0m     results \u001B[38;5;241m=\u001B[39m [\n\u001B[0;32m   6318\u001B[0m         \u001B[38;5;28mself\u001B[39m\u001B[38;5;241m.\u001B[39miloc[:, i]\u001B[38;5;241m.\u001B[39mastype(dtype, copy\u001B[38;5;241m=\u001B[39mcopy)\n\u001B[0;32m   6319\u001B[0m         \u001B[38;5;28;01mfor\u001B[39;00m i \u001B[38;5;129;01min\u001B[39;00m \u001B[38;5;28mrange\u001B[39m(\u001B[38;5;28mlen\u001B[39m(\u001B[38;5;28mself\u001B[39m\u001B[38;5;241m.\u001B[39mcolumns))\n\u001B[0;32m   6320\u001B[0m     ]\n\u001B[0;32m   6322\u001B[0m \u001B[38;5;28;01melse\u001B[39;00m:\n\u001B[0;32m   6323\u001B[0m     \u001B[38;5;66;03m# else, only a single dtype is given\u001B[39;00m\n\u001B[1;32m-> 6324\u001B[0m     new_data \u001B[38;5;241m=\u001B[39m \u001B[38;5;28;43mself\u001B[39;49m\u001B[38;5;241;43m.\u001B[39;49m\u001B[43m_mgr\u001B[49m\u001B[38;5;241;43m.\u001B[39;49m\u001B[43mastype\u001B[49m\u001B[43m(\u001B[49m\u001B[43mdtype\u001B[49m\u001B[38;5;241;43m=\u001B[39;49m\u001B[43mdtype\u001B[49m\u001B[43m,\u001B[49m\u001B[43m \u001B[49m\u001B[43mcopy\u001B[49m\u001B[38;5;241;43m=\u001B[39;49m\u001B[43mcopy\u001B[49m\u001B[43m,\u001B[49m\u001B[43m \u001B[49m\u001B[43merrors\u001B[49m\u001B[38;5;241;43m=\u001B[39;49m\u001B[43merrors\u001B[49m\u001B[43m)\u001B[49m\n\u001B[0;32m   6325\u001B[0m     \u001B[38;5;28;01mreturn\u001B[39;00m \u001B[38;5;28mself\u001B[39m\u001B[38;5;241m.\u001B[39m_constructor(new_data)\u001B[38;5;241m.\u001B[39m__finalize__(\u001B[38;5;28mself\u001B[39m, method\u001B[38;5;241m=\u001B[39m\u001B[38;5;124m\"\u001B[39m\u001B[38;5;124mastype\u001B[39m\u001B[38;5;124m\"\u001B[39m)\n\u001B[0;32m   6327\u001B[0m \u001B[38;5;66;03m# GH 33113: handle empty frame or series\u001B[39;00m\n",
      "File \u001B[1;32m~\\AppData\\Roaming\\Python\\Python310\\site-packages\\pandas\\core\\internals\\managers.py:451\u001B[0m, in \u001B[0;36mBaseBlockManager.astype\u001B[1;34m(self, dtype, copy, errors)\u001B[0m\n\u001B[0;32m    448\u001B[0m \u001B[38;5;28;01melif\u001B[39;00m using_copy_on_write():\n\u001B[0;32m    449\u001B[0m     copy \u001B[38;5;241m=\u001B[39m \u001B[38;5;28;01mFalse\u001B[39;00m\n\u001B[1;32m--> 451\u001B[0m \u001B[38;5;28;01mreturn\u001B[39;00m \u001B[38;5;28;43mself\u001B[39;49m\u001B[38;5;241;43m.\u001B[39;49m\u001B[43mapply\u001B[49m\u001B[43m(\u001B[49m\n\u001B[0;32m    452\u001B[0m \u001B[43m    \u001B[49m\u001B[38;5;124;43m\"\u001B[39;49m\u001B[38;5;124;43mastype\u001B[39;49m\u001B[38;5;124;43m\"\u001B[39;49m\u001B[43m,\u001B[49m\n\u001B[0;32m    453\u001B[0m \u001B[43m    \u001B[49m\u001B[43mdtype\u001B[49m\u001B[38;5;241;43m=\u001B[39;49m\u001B[43mdtype\u001B[49m\u001B[43m,\u001B[49m\n\u001B[0;32m    454\u001B[0m \u001B[43m    \u001B[49m\u001B[43mcopy\u001B[49m\u001B[38;5;241;43m=\u001B[39;49m\u001B[43mcopy\u001B[49m\u001B[43m,\u001B[49m\n\u001B[0;32m    455\u001B[0m \u001B[43m    \u001B[49m\u001B[43merrors\u001B[49m\u001B[38;5;241;43m=\u001B[39;49m\u001B[43merrors\u001B[49m\u001B[43m,\u001B[49m\n\u001B[0;32m    456\u001B[0m \u001B[43m    \u001B[49m\u001B[43musing_cow\u001B[49m\u001B[38;5;241;43m=\u001B[39;49m\u001B[43musing_copy_on_write\u001B[49m\u001B[43m(\u001B[49m\u001B[43m)\u001B[49m\u001B[43m,\u001B[49m\n\u001B[0;32m    457\u001B[0m \u001B[43m\u001B[49m\u001B[43m)\u001B[49m\n",
      "File \u001B[1;32m~\\AppData\\Roaming\\Python\\Python310\\site-packages\\pandas\\core\\internals\\managers.py:352\u001B[0m, in \u001B[0;36mBaseBlockManager.apply\u001B[1;34m(self, f, align_keys, **kwargs)\u001B[0m\n\u001B[0;32m    350\u001B[0m         applied \u001B[38;5;241m=\u001B[39m b\u001B[38;5;241m.\u001B[39mapply(f, \u001B[38;5;241m*\u001B[39m\u001B[38;5;241m*\u001B[39mkwargs)\n\u001B[0;32m    351\u001B[0m     \u001B[38;5;28;01melse\u001B[39;00m:\n\u001B[1;32m--> 352\u001B[0m         applied \u001B[38;5;241m=\u001B[39m \u001B[38;5;28mgetattr\u001B[39m(b, f)(\u001B[38;5;241m*\u001B[39m\u001B[38;5;241m*\u001B[39mkwargs)\n\u001B[0;32m    353\u001B[0m     result_blocks \u001B[38;5;241m=\u001B[39m extend_blocks(applied, result_blocks)\n\u001B[0;32m    355\u001B[0m out \u001B[38;5;241m=\u001B[39m \u001B[38;5;28mtype\u001B[39m(\u001B[38;5;28mself\u001B[39m)\u001B[38;5;241m.\u001B[39mfrom_blocks(result_blocks, \u001B[38;5;28mself\u001B[39m\u001B[38;5;241m.\u001B[39maxes)\n",
      "File \u001B[1;32m~\\AppData\\Roaming\\Python\\Python310\\site-packages\\pandas\\core\\internals\\blocks.py:511\u001B[0m, in \u001B[0;36mBlock.astype\u001B[1;34m(self, dtype, copy, errors, using_cow)\u001B[0m\n\u001B[0;32m    491\u001B[0m \u001B[38;5;124;03m\"\"\"\u001B[39;00m\n\u001B[0;32m    492\u001B[0m \u001B[38;5;124;03mCoerce to the new dtype.\u001B[39;00m\n\u001B[0;32m    493\u001B[0m \n\u001B[1;32m   (...)\u001B[0m\n\u001B[0;32m    507\u001B[0m \u001B[38;5;124;03mBlock\u001B[39;00m\n\u001B[0;32m    508\u001B[0m \u001B[38;5;124;03m\"\"\"\u001B[39;00m\n\u001B[0;32m    509\u001B[0m values \u001B[38;5;241m=\u001B[39m \u001B[38;5;28mself\u001B[39m\u001B[38;5;241m.\u001B[39mvalues\n\u001B[1;32m--> 511\u001B[0m new_values \u001B[38;5;241m=\u001B[39m \u001B[43mastype_array_safe\u001B[49m\u001B[43m(\u001B[49m\u001B[43mvalues\u001B[49m\u001B[43m,\u001B[49m\u001B[43m \u001B[49m\u001B[43mdtype\u001B[49m\u001B[43m,\u001B[49m\u001B[43m \u001B[49m\u001B[43mcopy\u001B[49m\u001B[38;5;241;43m=\u001B[39;49m\u001B[43mcopy\u001B[49m\u001B[43m,\u001B[49m\u001B[43m \u001B[49m\u001B[43merrors\u001B[49m\u001B[38;5;241;43m=\u001B[39;49m\u001B[43merrors\u001B[49m\u001B[43m)\u001B[49m\n\u001B[0;32m    513\u001B[0m new_values \u001B[38;5;241m=\u001B[39m maybe_coerce_values(new_values)\n\u001B[0;32m    515\u001B[0m refs \u001B[38;5;241m=\u001B[39m \u001B[38;5;28;01mNone\u001B[39;00m\n",
      "File \u001B[1;32m~\\AppData\\Roaming\\Python\\Python310\\site-packages\\pandas\\core\\dtypes\\astype.py:242\u001B[0m, in \u001B[0;36mastype_array_safe\u001B[1;34m(values, dtype, copy, errors)\u001B[0m\n\u001B[0;32m    239\u001B[0m     dtype \u001B[38;5;241m=\u001B[39m dtype\u001B[38;5;241m.\u001B[39mnumpy_dtype\n\u001B[0;32m    241\u001B[0m \u001B[38;5;28;01mtry\u001B[39;00m:\n\u001B[1;32m--> 242\u001B[0m     new_values \u001B[38;5;241m=\u001B[39m \u001B[43mastype_array\u001B[49m\u001B[43m(\u001B[49m\u001B[43mvalues\u001B[49m\u001B[43m,\u001B[49m\u001B[43m \u001B[49m\u001B[43mdtype\u001B[49m\u001B[43m,\u001B[49m\u001B[43m \u001B[49m\u001B[43mcopy\u001B[49m\u001B[38;5;241;43m=\u001B[39;49m\u001B[43mcopy\u001B[49m\u001B[43m)\u001B[49m\n\u001B[0;32m    243\u001B[0m \u001B[38;5;28;01mexcept\u001B[39;00m (\u001B[38;5;167;01mValueError\u001B[39;00m, \u001B[38;5;167;01mTypeError\u001B[39;00m):\n\u001B[0;32m    244\u001B[0m     \u001B[38;5;66;03m# e.g. _astype_nansafe can fail on object-dtype of strings\u001B[39;00m\n\u001B[0;32m    245\u001B[0m     \u001B[38;5;66;03m#  trying to convert to float\u001B[39;00m\n\u001B[0;32m    246\u001B[0m     \u001B[38;5;28;01mif\u001B[39;00m errors \u001B[38;5;241m==\u001B[39m \u001B[38;5;124m\"\u001B[39m\u001B[38;5;124mignore\u001B[39m\u001B[38;5;124m\"\u001B[39m:\n",
      "File \u001B[1;32m~\\AppData\\Roaming\\Python\\Python310\\site-packages\\pandas\\core\\dtypes\\astype.py:187\u001B[0m, in \u001B[0;36mastype_array\u001B[1;34m(values, dtype, copy)\u001B[0m\n\u001B[0;32m    184\u001B[0m     values \u001B[38;5;241m=\u001B[39m values\u001B[38;5;241m.\u001B[39mastype(dtype, copy\u001B[38;5;241m=\u001B[39mcopy)\n\u001B[0;32m    186\u001B[0m \u001B[38;5;28;01melse\u001B[39;00m:\n\u001B[1;32m--> 187\u001B[0m     values \u001B[38;5;241m=\u001B[39m \u001B[43m_astype_nansafe\u001B[49m\u001B[43m(\u001B[49m\u001B[43mvalues\u001B[49m\u001B[43m,\u001B[49m\u001B[43m \u001B[49m\u001B[43mdtype\u001B[49m\u001B[43m,\u001B[49m\u001B[43m \u001B[49m\u001B[43mcopy\u001B[49m\u001B[38;5;241;43m=\u001B[39;49m\u001B[43mcopy\u001B[49m\u001B[43m)\u001B[49m\n\u001B[0;32m    189\u001B[0m \u001B[38;5;66;03m# in pandas we don't store numpy str dtypes, so convert to object\u001B[39;00m\n\u001B[0;32m    190\u001B[0m \u001B[38;5;28;01mif\u001B[39;00m \u001B[38;5;28misinstance\u001B[39m(dtype, np\u001B[38;5;241m.\u001B[39mdtype) \u001B[38;5;129;01mand\u001B[39;00m \u001B[38;5;28missubclass\u001B[39m(values\u001B[38;5;241m.\u001B[39mdtype\u001B[38;5;241m.\u001B[39mtype, \u001B[38;5;28mstr\u001B[39m):\n",
      "File \u001B[1;32m~\\AppData\\Roaming\\Python\\Python310\\site-packages\\pandas\\core\\dtypes\\astype.py:138\u001B[0m, in \u001B[0;36m_astype_nansafe\u001B[1;34m(arr, dtype, copy, skipna)\u001B[0m\n\u001B[0;32m    134\u001B[0m     \u001B[38;5;28;01mraise\u001B[39;00m \u001B[38;5;167;01mValueError\u001B[39;00m(msg)\n\u001B[0;32m    136\u001B[0m \u001B[38;5;28;01mif\u001B[39;00m copy \u001B[38;5;129;01mor\u001B[39;00m is_object_dtype(arr\u001B[38;5;241m.\u001B[39mdtype) \u001B[38;5;129;01mor\u001B[39;00m is_object_dtype(dtype):\n\u001B[0;32m    137\u001B[0m     \u001B[38;5;66;03m# Explicit copy, or required since NumPy can't view from / to object.\u001B[39;00m\n\u001B[1;32m--> 138\u001B[0m     \u001B[38;5;28;01mreturn\u001B[39;00m \u001B[43marr\u001B[49m\u001B[38;5;241;43m.\u001B[39;49m\u001B[43mastype\u001B[49m\u001B[43m(\u001B[49m\u001B[43mdtype\u001B[49m\u001B[43m,\u001B[49m\u001B[43m \u001B[49m\u001B[43mcopy\u001B[49m\u001B[38;5;241;43m=\u001B[39;49m\u001B[38;5;28;43;01mTrue\u001B[39;49;00m\u001B[43m)\u001B[49m\n\u001B[0;32m    140\u001B[0m \u001B[38;5;28;01mreturn\u001B[39;00m arr\u001B[38;5;241m.\u001B[39mastype(dtype, copy\u001B[38;5;241m=\u001B[39mcopy)\n",
      "\u001B[1;31mValueError\u001B[0m: could not convert string to float: '1,230.00'"
     ]
    }
   ],
   "source": [
    "df[\"IEP\"].astype(\"float\")."
   ],
   "metadata": {
    "collapsed": false,
    "pycharm": {
     "name": "#%%\n"
    }
   }
  },
  {
   "cell_type": "code",
   "execution_count": 1,
   "outputs": [
    {
     "name": "stdout",
     "output_type": "stream",
     "text": [
      "avijit\n"
     ]
    }
   ],
   "source": [
    "print('avijit')"
   ],
   "metadata": {
    "collapsed": false,
    "pycharm": {
     "name": "#%%\n"
    }
   }
  },
  {
   "cell_type": "code",
   "execution_count": null,
   "outputs": [],
   "source": [
    "def fetch_stock_data(symbol, start_date, end_date):\n",
    "    try:\n",
    "        # Download data for the symbol\n",
    "        df = yf.download(symbol, start=start_date, end=end_date, interval=\"1d\")\n",
    "\n",
    "        # Calculate daily returns\n",
    "        df['Daily_Return'] = df['Close'].pct_change()\n",
    "\n",
    "        return df[['Close', 'Daily_Return']]\n",
    "    except Exception as e:\n",
    "        print(f\"Error fetching data for {symbol}: {e}\")\n",
    "        return pd.DataFrame()\n",
    "\n",
    "# Example usage\n",
    "symbols = ['AAPL', 'GOOGL', 'MSFT']  # Add more symbols as needed\n",
    "start_date = \"2022-01-01\"\n",
    "end_date = \"2023-01-01\"\n",
    "\n",
    "all_stock_returns = pd.DataFrame()\n",
    "\n",
    "for symbol in symbols:\n",
    "    stock_data = fetch_stock_data(symbol, start_date, end_date)\n",
    "\n",
    "    if not stock_data.empty:\n",
    "        all_stock_returns[symbol] = stock_data['Daily_Return']\n",
    "\n",
    "# Example: Printing the resulting DataFrame\n",
    "print(all_stock_returns)\n"
   ],
   "metadata": {
    "collapsed": false,
    "pycharm": {
     "name": "#%%\n"
    }
   }
  }
 ],
 "metadata": {
  "kernelspec": {
   "display_name": "Python 3",
   "language": "python",
   "name": "python3"
  },
  "language_info": {
   "codemirror_mode": {
    "name": "ipython",
    "version": 2
   },
   "file_extension": ".py",
   "mimetype": "text/x-python",
   "name": "python",
   "nbconvert_exporter": "python",
   "pygments_lexer": "ipython2",
   "version": "2.7.6"
  }
 },
 "nbformat": 4,
 "nbformat_minor": 0
}