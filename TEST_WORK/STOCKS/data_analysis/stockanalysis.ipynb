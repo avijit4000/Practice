{
 "cells": [
  {
   "cell_type": "code",
   "execution_count": 1,
   "metadata": {
    "collapsed": true,
    "pycharm": {
     "name": "#%%\n"
    }
   },
   "outputs": [],
   "source": [
    "import pandas as pd"
   ]
  },
  {
   "cell_type": "code",
   "execution_count": 3,
   "outputs": [],
   "source": [
    "import nselib"
   ],
   "metadata": {
    "collapsed": false,
    "pycharm": {
     "name": "#%%\n"
    }
   }
  },
  {
   "cell_type": "code",
   "execution_count": 4,
   "outputs": [
    {
     "data": {
      "text/plain": "                                   Product  tradingDate    weekDay  \\\n0                          Corporate Bonds  22-Jan-2024     Monday   \n1                          Corporate Bonds  26-Jan-2024     Friday   \n2                          Corporate Bonds  19-Feb-2024     Monday   \n3                          Corporate Bonds  08-Mar-2024     Friday   \n4                          Corporate Bonds  25-Mar-2024     Monday   \n..                                     ...          ...        ...   \n16  Securities Lending & Borrowing Schemes  12-Oct-2024   Saturday   \n17  Securities Lending & Borrowing Schemes  01-Nov-2024     Friday   \n18  Securities Lending & Borrowing Schemes  02-Nov-2024   Saturday   \n19  Securities Lending & Borrowing Schemes  15-Nov-2024     Friday   \n20  Securities Lending & Borrowing Schemes  25-Dec-2024  Wednesday   \n\n                           description Sr_no  \n0                      Special Holiday     1  \n1                         Republic Day     2  \n2   Chatrapati Shivaji Maharaj Jayanti     3  \n3                        Mahashivratri     4  \n4                                 Holi     5  \n..                                 ...   ...  \n16                            Dussehra    17  \n17                 Diwali Laxmi Pujan*    18  \n18                Diwali-Balipratipada    19  \n19                   Gurunanak Jayanti    20  \n20                           Christmas    21  \n\n[247 rows x 5 columns]",
      "text/html": "<div>\n<style scoped>\n    .dataframe tbody tr th:only-of-type {\n        vertical-align: middle;\n    }\n\n    .dataframe tbody tr th {\n        vertical-align: top;\n    }\n\n    .dataframe thead th {\n        text-align: right;\n    }\n</style>\n<table border=\"1\" class=\"dataframe\">\n  <thead>\n    <tr style=\"text-align: right;\">\n      <th></th>\n      <th>Product</th>\n      <th>tradingDate</th>\n      <th>weekDay</th>\n      <th>description</th>\n      <th>Sr_no</th>\n    </tr>\n  </thead>\n  <tbody>\n    <tr>\n      <th>0</th>\n      <td>Corporate Bonds</td>\n      <td>22-Jan-2024</td>\n      <td>Monday</td>\n      <td>Special Holiday</td>\n      <td>1</td>\n    </tr>\n    <tr>\n      <th>1</th>\n      <td>Corporate Bonds</td>\n      <td>26-Jan-2024</td>\n      <td>Friday</td>\n      <td>Republic Day</td>\n      <td>2</td>\n    </tr>\n    <tr>\n      <th>2</th>\n      <td>Corporate Bonds</td>\n      <td>19-Feb-2024</td>\n      <td>Monday</td>\n      <td>Chatrapati Shivaji Maharaj Jayanti</td>\n      <td>3</td>\n    </tr>\n    <tr>\n      <th>3</th>\n      <td>Corporate Bonds</td>\n      <td>08-Mar-2024</td>\n      <td>Friday</td>\n      <td>Mahashivratri</td>\n      <td>4</td>\n    </tr>\n    <tr>\n      <th>4</th>\n      <td>Corporate Bonds</td>\n      <td>25-Mar-2024</td>\n      <td>Monday</td>\n      <td>Holi</td>\n      <td>5</td>\n    </tr>\n    <tr>\n      <th>...</th>\n      <td>...</td>\n      <td>...</td>\n      <td>...</td>\n      <td>...</td>\n      <td>...</td>\n    </tr>\n    <tr>\n      <th>16</th>\n      <td>Securities Lending &amp; Borrowing Schemes</td>\n      <td>12-Oct-2024</td>\n      <td>Saturday</td>\n      <td>Dussehra</td>\n      <td>17</td>\n    </tr>\n    <tr>\n      <th>17</th>\n      <td>Securities Lending &amp; Borrowing Schemes</td>\n      <td>01-Nov-2024</td>\n      <td>Friday</td>\n      <td>Diwali Laxmi Pujan*</td>\n      <td>18</td>\n    </tr>\n    <tr>\n      <th>18</th>\n      <td>Securities Lending &amp; Borrowing Schemes</td>\n      <td>02-Nov-2024</td>\n      <td>Saturday</td>\n      <td>Diwali-Balipratipada</td>\n      <td>19</td>\n    </tr>\n    <tr>\n      <th>19</th>\n      <td>Securities Lending &amp; Borrowing Schemes</td>\n      <td>15-Nov-2024</td>\n      <td>Friday</td>\n      <td>Gurunanak Jayanti</td>\n      <td>20</td>\n    </tr>\n    <tr>\n      <th>20</th>\n      <td>Securities Lending &amp; Borrowing Schemes</td>\n      <td>25-Dec-2024</td>\n      <td>Wednesday</td>\n      <td>Christmas</td>\n      <td>21</td>\n    </tr>\n  </tbody>\n</table>\n<p>247 rows × 5 columns</p>\n</div>"
     },
     "execution_count": 4,
     "metadata": {},
     "output_type": "execute_result"
    }
   ],
   "source": [
    "nselib.trading_holiday_calendar()"
   ],
   "metadata": {
    "collapsed": false,
    "pycharm": {
     "name": "#%%\n"
    }
   }
  },
  {
   "cell_type": "code",
   "execution_count": 4,
   "outputs": [],
   "source": [
    "import nselib.capital_market as ca"
   ],
   "metadata": {
    "collapsed": false,
    "pycharm": {
     "name": "#%%\n"
    }
   }
  },
  {
   "cell_type": "code",
   "execution_count": 9,
   "outputs": [],
   "source": [
    "df=ca.nifty50_equity_list()"
   ],
   "metadata": {
    "collapsed": false,
    "pycharm": {
     "name": "#%%\n"
    }
   }
  },
  {
   "cell_type": "code",
   "execution_count": 17,
   "outputs": [],
   "source": [
    "df[\"Company Name\"]=df[\"Company Name\"].str.split(\" \").str[:-1].str.join(\" \")"
   ],
   "metadata": {
    "collapsed": false,
    "pycharm": {
     "name": "#%%\n"
    }
   }
  },
  {
   "cell_type": "code",
   "execution_count": 18,
   "outputs": [
    {
     "data": {
      "text/plain": "                             Company Name                        Industry  \\\n0                       Adani Enterprises                 Metals & Mining   \n1   Adani Ports and Special Economic Zone                        Services   \n2             Apollo Hospitals Enterprise                      Healthcare   \n3                            Asian Paints               Consumer Durables   \n4                               Axis Bank              Financial Services   \n5                              Bajaj Auto  Automobile and Auto Components   \n6                           Bajaj Finance              Financial Services   \n7                           Bajaj Finserv              Financial Services   \n8            Bharat Petroleum Corporation      Oil Gas & Consumable Fuels   \n9                           Bharti Airtel               Telecommunication   \n10                   Britannia Industries      Fast Moving Consumer Goods   \n11                                  Cipla                      Healthcare   \n12                             Coal India      Oil Gas & Consumable Fuels   \n13                    Divi's Laboratories                      Healthcare   \n14               Dr. Reddy's Laboratories                      Healthcare   \n15                          Eicher Motors  Automobile and Auto Components   \n16                      Grasim Industries          Construction Materials   \n17                       HCL Technologies          Information Technology   \n18                              HDFC Bank              Financial Services   \n19            HDFC Life Insurance Company              Financial Services   \n20                          Hero MotoCorp  Automobile and Auto Components   \n21                    Hindalco Industries                 Metals & Mining   \n22                     Hindustan Unilever      Fast Moving Consumer Goods   \n23                             ICICI Bank              Financial Services   \n24                                    ITC      Fast Moving Consumer Goods   \n25                          IndusInd Bank              Financial Services   \n26                                Infosys          Information Technology   \n27                              JSW Steel                 Metals & Mining   \n28                    Kotak Mahindra Bank              Financial Services   \n29                            LTIMindtree          Information Technology   \n30                        Larsen & Toubro                    Construction   \n31                    Mahindra & Mahindra  Automobile and Auto Components   \n32                    Maruti Suzuki India  Automobile and Auto Components   \n33                                   NTPC                           Power   \n34                           Nestle India      Fast Moving Consumer Goods   \n35          Oil & Natural Gas Corporation      Oil Gas & Consumable Fuels   \n36        Power Grid Corporation of India                           Power   \n37                    Reliance Industries      Oil Gas & Consumable Fuels   \n38             SBI Life Insurance Company              Financial Services   \n39                        Shriram Finance              Financial Services   \n40                          State Bank of              Financial Services   \n41          Sun Pharmaceutical Industries                      Healthcare   \n42              Tata Consultancy Services          Information Technology   \n43                 Tata Consumer Products      Fast Moving Consumer Goods   \n44                            Tata Motors  Automobile and Auto Components   \n45                             Tata Steel                 Metals & Mining   \n46                          Tech Mahindra          Information Technology   \n47                          Titan Company               Consumer Durables   \n48                       UltraTech Cement          Construction Materials   \n49                                  Wipro          Information Technology   \n\n        Symbol  \n0     ADANIENT  \n1   ADANIPORTS  \n2   APOLLOHOSP  \n3   ASIANPAINT  \n4     AXISBANK  \n5   BAJAJ-AUTO  \n6   BAJFINANCE  \n7   BAJAJFINSV  \n8         BPCL  \n9   BHARTIARTL  \n10   BRITANNIA  \n11       CIPLA  \n12   COALINDIA  \n13    DIVISLAB  \n14     DRREDDY  \n15   EICHERMOT  \n16      GRASIM  \n17     HCLTECH  \n18    HDFCBANK  \n19    HDFCLIFE  \n20  HEROMOTOCO  \n21    HINDALCO  \n22  HINDUNILVR  \n23   ICICIBANK  \n24         ITC  \n25  INDUSINDBK  \n26        INFY  \n27    JSWSTEEL  \n28   KOTAKBANK  \n29        LTIM  \n30          LT  \n31         M&M  \n32      MARUTI  \n33        NTPC  \n34   NESTLEIND  \n35        ONGC  \n36   POWERGRID  \n37    RELIANCE  \n38     SBILIFE  \n39  SHRIRAMFIN  \n40        SBIN  \n41   SUNPHARMA  \n42         TCS  \n43  TATACONSUM  \n44  TATAMOTORS  \n45   TATASTEEL  \n46       TECHM  \n47       TITAN  \n48  ULTRACEMCO  \n49       WIPRO  ",
      "text/html": "<div>\n<style scoped>\n    .dataframe tbody tr th:only-of-type {\n        vertical-align: middle;\n    }\n\n    .dataframe tbody tr th {\n        vertical-align: top;\n    }\n\n    .dataframe thead th {\n        text-align: right;\n    }\n</style>\n<table border=\"1\" class=\"dataframe\">\n  <thead>\n    <tr style=\"text-align: right;\">\n      <th></th>\n      <th>Company Name</th>\n      <th>Industry</th>\n      <th>Symbol</th>\n    </tr>\n  </thead>\n  <tbody>\n    <tr>\n      <th>0</th>\n      <td>Adani Enterprises</td>\n      <td>Metals &amp; Mining</td>\n      <td>ADANIENT</td>\n    </tr>\n    <tr>\n      <th>1</th>\n      <td>Adani Ports and Special Economic Zone</td>\n      <td>Services</td>\n      <td>ADANIPORTS</td>\n    </tr>\n    <tr>\n      <th>2</th>\n      <td>Apollo Hospitals Enterprise</td>\n      <td>Healthcare</td>\n      <td>APOLLOHOSP</td>\n    </tr>\n    <tr>\n      <th>3</th>\n      <td>Asian Paints</td>\n      <td>Consumer Durables</td>\n      <td>ASIANPAINT</td>\n    </tr>\n    <tr>\n      <th>4</th>\n      <td>Axis Bank</td>\n      <td>Financial Services</td>\n      <td>AXISBANK</td>\n    </tr>\n    <tr>\n      <th>5</th>\n      <td>Bajaj Auto</td>\n      <td>Automobile and Auto Components</td>\n      <td>BAJAJ-AUTO</td>\n    </tr>\n    <tr>\n      <th>6</th>\n      <td>Bajaj Finance</td>\n      <td>Financial Services</td>\n      <td>BAJFINANCE</td>\n    </tr>\n    <tr>\n      <th>7</th>\n      <td>Bajaj Finserv</td>\n      <td>Financial Services</td>\n      <td>BAJAJFINSV</td>\n    </tr>\n    <tr>\n      <th>8</th>\n      <td>Bharat Petroleum Corporation</td>\n      <td>Oil Gas &amp; Consumable Fuels</td>\n      <td>BPCL</td>\n    </tr>\n    <tr>\n      <th>9</th>\n      <td>Bharti Airtel</td>\n      <td>Telecommunication</td>\n      <td>BHARTIARTL</td>\n    </tr>\n    <tr>\n      <th>10</th>\n      <td>Britannia Industries</td>\n      <td>Fast Moving Consumer Goods</td>\n      <td>BRITANNIA</td>\n    </tr>\n    <tr>\n      <th>11</th>\n      <td>Cipla</td>\n      <td>Healthcare</td>\n      <td>CIPLA</td>\n    </tr>\n    <tr>\n      <th>12</th>\n      <td>Coal India</td>\n      <td>Oil Gas &amp; Consumable Fuels</td>\n      <td>COALINDIA</td>\n    </tr>\n    <tr>\n      <th>13</th>\n      <td>Divi's Laboratories</td>\n      <td>Healthcare</td>\n      <td>DIVISLAB</td>\n    </tr>\n    <tr>\n      <th>14</th>\n      <td>Dr. Reddy's Laboratories</td>\n      <td>Healthcare</td>\n      <td>DRREDDY</td>\n    </tr>\n    <tr>\n      <th>15</th>\n      <td>Eicher Motors</td>\n      <td>Automobile and Auto Components</td>\n      <td>EICHERMOT</td>\n    </tr>\n    <tr>\n      <th>16</th>\n      <td>Grasim Industries</td>\n      <td>Construction Materials</td>\n      <td>GRASIM</td>\n    </tr>\n    <tr>\n      <th>17</th>\n      <td>HCL Technologies</td>\n      <td>Information Technology</td>\n      <td>HCLTECH</td>\n    </tr>\n    <tr>\n      <th>18</th>\n      <td>HDFC Bank</td>\n      <td>Financial Services</td>\n      <td>HDFCBANK</td>\n    </tr>\n    <tr>\n      <th>19</th>\n      <td>HDFC Life Insurance Company</td>\n      <td>Financial Services</td>\n      <td>HDFCLIFE</td>\n    </tr>\n    <tr>\n      <th>20</th>\n      <td>Hero MotoCorp</td>\n      <td>Automobile and Auto Components</td>\n      <td>HEROMOTOCO</td>\n    </tr>\n    <tr>\n      <th>21</th>\n      <td>Hindalco Industries</td>\n      <td>Metals &amp; Mining</td>\n      <td>HINDALCO</td>\n    </tr>\n    <tr>\n      <th>22</th>\n      <td>Hindustan Unilever</td>\n      <td>Fast Moving Consumer Goods</td>\n      <td>HINDUNILVR</td>\n    </tr>\n    <tr>\n      <th>23</th>\n      <td>ICICI Bank</td>\n      <td>Financial Services</td>\n      <td>ICICIBANK</td>\n    </tr>\n    <tr>\n      <th>24</th>\n      <td>ITC</td>\n      <td>Fast Moving Consumer Goods</td>\n      <td>ITC</td>\n    </tr>\n    <tr>\n      <th>25</th>\n      <td>IndusInd Bank</td>\n      <td>Financial Services</td>\n      <td>INDUSINDBK</td>\n    </tr>\n    <tr>\n      <th>26</th>\n      <td>Infosys</td>\n      <td>Information Technology</td>\n      <td>INFY</td>\n    </tr>\n    <tr>\n      <th>27</th>\n      <td>JSW Steel</td>\n      <td>Metals &amp; Mining</td>\n      <td>JSWSTEEL</td>\n    </tr>\n    <tr>\n      <th>28</th>\n      <td>Kotak Mahindra Bank</td>\n      <td>Financial Services</td>\n      <td>KOTAKBANK</td>\n    </tr>\n    <tr>\n      <th>29</th>\n      <td>LTIMindtree</td>\n      <td>Information Technology</td>\n      <td>LTIM</td>\n    </tr>\n    <tr>\n      <th>30</th>\n      <td>Larsen &amp; Toubro</td>\n      <td>Construction</td>\n      <td>LT</td>\n    </tr>\n    <tr>\n      <th>31</th>\n      <td>Mahindra &amp; Mahindra</td>\n      <td>Automobile and Auto Components</td>\n      <td>M&amp;M</td>\n    </tr>\n    <tr>\n      <th>32</th>\n      <td>Maruti Suzuki India</td>\n      <td>Automobile and Auto Components</td>\n      <td>MARUTI</td>\n    </tr>\n    <tr>\n      <th>33</th>\n      <td>NTPC</td>\n      <td>Power</td>\n      <td>NTPC</td>\n    </tr>\n    <tr>\n      <th>34</th>\n      <td>Nestle India</td>\n      <td>Fast Moving Consumer Goods</td>\n      <td>NESTLEIND</td>\n    </tr>\n    <tr>\n      <th>35</th>\n      <td>Oil &amp; Natural Gas Corporation</td>\n      <td>Oil Gas &amp; Consumable Fuels</td>\n      <td>ONGC</td>\n    </tr>\n    <tr>\n      <th>36</th>\n      <td>Power Grid Corporation of India</td>\n      <td>Power</td>\n      <td>POWERGRID</td>\n    </tr>\n    <tr>\n      <th>37</th>\n      <td>Reliance Industries</td>\n      <td>Oil Gas &amp; Consumable Fuels</td>\n      <td>RELIANCE</td>\n    </tr>\n    <tr>\n      <th>38</th>\n      <td>SBI Life Insurance Company</td>\n      <td>Financial Services</td>\n      <td>SBILIFE</td>\n    </tr>\n    <tr>\n      <th>39</th>\n      <td>Shriram Finance</td>\n      <td>Financial Services</td>\n      <td>SHRIRAMFIN</td>\n    </tr>\n    <tr>\n      <th>40</th>\n      <td>State Bank of</td>\n      <td>Financial Services</td>\n      <td>SBIN</td>\n    </tr>\n    <tr>\n      <th>41</th>\n      <td>Sun Pharmaceutical Industries</td>\n      <td>Healthcare</td>\n      <td>SUNPHARMA</td>\n    </tr>\n    <tr>\n      <th>42</th>\n      <td>Tata Consultancy Services</td>\n      <td>Information Technology</td>\n      <td>TCS</td>\n    </tr>\n    <tr>\n      <th>43</th>\n      <td>Tata Consumer Products</td>\n      <td>Fast Moving Consumer Goods</td>\n      <td>TATACONSUM</td>\n    </tr>\n    <tr>\n      <th>44</th>\n      <td>Tata Motors</td>\n      <td>Automobile and Auto Components</td>\n      <td>TATAMOTORS</td>\n    </tr>\n    <tr>\n      <th>45</th>\n      <td>Tata Steel</td>\n      <td>Metals &amp; Mining</td>\n      <td>TATASTEEL</td>\n    </tr>\n    <tr>\n      <th>46</th>\n      <td>Tech Mahindra</td>\n      <td>Information Technology</td>\n      <td>TECHM</td>\n    </tr>\n    <tr>\n      <th>47</th>\n      <td>Titan Company</td>\n      <td>Consumer Durables</td>\n      <td>TITAN</td>\n    </tr>\n    <tr>\n      <th>48</th>\n      <td>UltraTech Cement</td>\n      <td>Construction Materials</td>\n      <td>ULTRACEMCO</td>\n    </tr>\n    <tr>\n      <th>49</th>\n      <td>Wipro</td>\n      <td>Information Technology</td>\n      <td>WIPRO</td>\n    </tr>\n  </tbody>\n</table>\n</div>"
     },
     "execution_count": 18,
     "metadata": {},
     "output_type": "execute_result"
    }
   ],
   "source": [
    "df"
   ],
   "metadata": {
    "collapsed": false,
    "pycharm": {
     "name": "#%%\n"
    }
   }
  },
  {
   "cell_type": "code",
   "execution_count": 1,
   "outputs": [],
   "source": [
    "import pandas as pd"
   ],
   "metadata": {
    "collapsed": false,
    "pycharm": {
     "name": "#%%\n"
    }
   }
  },
  {
   "cell_type": "code",
   "execution_count": 2,
   "outputs": [],
   "source": [
    "import yfinance as yf"
   ],
   "metadata": {
    "collapsed": false,
    "pycharm": {
     "name": "#%%\n"
    }
   }
  },
  {
   "cell_type": "code",
   "execution_count": null,
   "outputs": [],
   "source": [
    "yf.download(\"\")"
   ],
   "metadata": {
    "collapsed": false,
    "pycharm": {
     "name": "#%%\n"
    }
   }
  },
  {
   "cell_type": "code",
   "execution_count": null,
   "outputs": [],
   "source": [],
   "metadata": {
    "collapsed": false,
    "pycharm": {
     "name": "#%%\n"
    }
   }
  },
  {
   "cell_type": "code",
   "execution_count": null,
   "outputs": [],
   "source": [],
   "metadata": {
    "collapsed": false,
    "pycharm": {
     "name": "#%%\n"
    }
   }
  },
  {
   "cell_type": "code",
   "execution_count": null,
   "outputs": [],
   "source": [],
   "metadata": {
    "collapsed": false,
    "pycharm": {
     "name": "#%%\n"
    }
   }
  },
  {
   "cell_type": "code",
   "execution_count": null,
   "outputs": [],
   "source": [],
   "metadata": {
    "collapsed": false,
    "pycharm": {
     "name": "#%%\n"
    }
   }
  },
  {
   "cell_type": "code",
   "execution_count": null,
   "outputs": [],
   "source": [],
   "metadata": {
    "collapsed": false,
    "pycharm": {
     "name": "#%%\n"
    }
   }
  },
  {
   "cell_type": "code",
   "execution_count": null,
   "outputs": [],
   "source": [],
   "metadata": {
    "collapsed": false,
    "pycharm": {
     "name": "#%%\n"
    }
   }
  }
 ],
 "metadata": {
  "kernelspec": {
   "display_name": "Python 3",
   "language": "python",
   "name": "python3"
  },
  "language_info": {
   "codemirror_mode": {
    "name": "ipython",
    "version": 2
   },
   "file_extension": ".py",
   "mimetype": "text/x-python",
   "name": "python",
   "nbconvert_exporter": "python",
   "pygments_lexer": "ipython2",
   "version": "2.7.6"
  }
 },
 "nbformat": 4,
 "nbformat_minor": 0
}